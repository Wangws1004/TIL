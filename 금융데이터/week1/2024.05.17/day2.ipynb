{
 "cells": [
  {
   "cell_type": "code",
   "execution_count": 1,
   "id": "0608445e-9d72-42fa-ac59-cf4a1484d3e4",
   "metadata": {},
   "outputs": [],
   "source": [
    "a = 777\n",
    "b = 777"
   ]
  },
  {
   "cell_type": "code",
   "execution_count": 2,
   "id": "2d04c768-c46a-406b-b330-35dd7b8b9236",
   "metadata": {},
   "outputs": [
    {
     "data": {
      "text/plain": [
       "False"
      ]
     },
     "execution_count": 2,
     "metadata": {},
     "output_type": "execute_result"
    }
   ],
   "source": [
    "a is b"
   ]
  },
  {
   "cell_type": "code",
   "execution_count": 3,
   "id": "caea8d04-fc4f-4b61-a168-49ee240771bb",
   "metadata": {},
   "outputs": [
    {
     "data": {
      "text/plain": [
       "2743213072208"
      ]
     },
     "execution_count": 3,
     "metadata": {},
     "output_type": "execute_result"
    }
   ],
   "source": [
    "id(a)"
   ]
  },
  {
   "cell_type": "code",
   "execution_count": 4,
   "id": "031f0131-8d8f-4863-ab81-b830bdb34170",
   "metadata": {},
   "outputs": [
    {
     "data": {
      "text/plain": [
       "2743213072240"
      ]
     },
     "execution_count": 4,
     "metadata": {},
     "output_type": "execute_result"
    }
   ],
   "source": [
    "id(b)"
   ]
  },
  {
   "cell_type": "code",
   "execution_count": 14,
   "id": "7e7bbb89-c06a-4352-8b04-9aa319f64d2a",
   "metadata": {},
   "outputs": [],
   "source": [
    "a_1 = 257\n",
    "a_2 = 257"
   ]
  },
  {
   "cell_type": "code",
   "execution_count": 15,
   "id": "450fa88f-d903-43b9-aa2c-8174cbea0443",
   "metadata": {},
   "outputs": [
    {
     "data": {
      "text/plain": [
       "False"
      ]
     },
     "execution_count": 15,
     "metadata": {},
     "output_type": "execute_result"
    }
   ],
   "source": [
    "a_1 is a_2"
   ]
  },
  {
   "cell_type": "code",
   "execution_count": 8,
   "id": "a0bf9c52-8eba-4110-83a9-cf84a4dc6b18",
   "metadata": {},
   "outputs": [
    {
     "data": {
      "text/plain": [
       "140719129215784"
      ]
     },
     "execution_count": 8,
     "metadata": {},
     "output_type": "execute_result"
    }
   ],
   "source": [
    "id(a_1)"
   ]
  },
  {
   "cell_type": "code",
   "execution_count": 9,
   "id": "1736846d-1735-44a9-bb6e-b977d8c09694",
   "metadata": {},
   "outputs": [
    {
     "data": {
      "text/plain": [
       "140719129215784"
      ]
     },
     "execution_count": 9,
     "metadata": {},
     "output_type": "execute_result"
    }
   ],
   "source": [
    "id(a_2)"
   ]
  },
  {
   "cell_type": "code",
   "execution_count": 17,
   "id": "b91fab33-dc39-4e1a-a8e1-6c4039ac1444",
   "metadata": {},
   "outputs": [],
   "source": [
    "del a_1"
   ]
  },
  {
   "cell_type": "code",
   "execution_count": 18,
   "id": "5a915903-2710-4fdf-b4cb-d8a7a2a1acb1",
   "metadata": {},
   "outputs": [
    {
     "ename": "NameError",
     "evalue": "name 'a_1' is not defined",
     "output_type": "error",
     "traceback": [
      "\u001b[1;31m---------------------------------------------------------------------------\u001b[0m",
      "\u001b[1;31mNameError\u001b[0m                                 Traceback (most recent call last)",
      "Cell \u001b[1;32mIn[18], line 1\u001b[0m\n\u001b[1;32m----> 1\u001b[0m a_1\n",
      "\u001b[1;31mNameError\u001b[0m: name 'a_1' is not defined"
     ]
    }
   ],
   "source": [
    "a_1"
   ]
  },
  {
   "cell_type": "code",
   "execution_count": 23,
   "id": "4b5966a1-1bcf-499d-b140-5595afd950c3",
   "metadata": {},
   "outputs": [
    {
     "data": {
      "text/plain": [
       "50"
      ]
     },
     "execution_count": 23,
     "metadata": {},
     "output_type": "execute_result"
    }
   ],
   "source": [
    "c = 200 \n",
    "c = c/4\n",
    "int(c)"
   ]
  },
  {
   "cell_type": "code",
   "execution_count": 24,
   "id": "fceb641d-f4c3-47f6-bbd5-53da2dc432a6",
   "metadata": {},
   "outputs": [
    {
     "data": {
      "text/plain": [
       "0.30000000000000004"
      ]
     },
     "execution_count": 24,
     "metadata": {},
     "output_type": "execute_result"
    }
   ],
   "source": [
    "0.1 + 0.2"
   ]
  },
  {
   "cell_type": "code",
   "execution_count": 25,
   "id": "0e7e259d-9bdf-4584-b8b2-b4df3a6a1853",
   "metadata": {},
   "outputs": [
    {
     "data": {
      "text/plain": [
       "0.5"
      ]
     },
     "execution_count": 25,
     "metadata": {},
     "output_type": "execute_result"
    }
   ],
   "source": [
    "0.2+0.3"
   ]
  },
  {
   "cell_type": "code",
   "execution_count": 27,
   "id": "90cd1da0-7f89-4508-9c1a-db1c619cf4a5",
   "metadata": {},
   "outputs": [],
   "source": [
    "# 문자열 \n",
    "str_1 = \"\"\"\n",
    "줄바꿈을\n",
    "나타 낸다. \n",
    "진짜인가\n",
    "\"\"\""
   ]
  },
  {
   "cell_type": "code",
   "execution_count": 28,
   "id": "5e6e9725-bb69-4fc0-a8da-003b4eb34db2",
   "metadata": {},
   "outputs": [
    {
     "name": "stdout",
     "output_type": "stream",
     "text": [
      "\n",
      "줄바꿈을\n",
      "나타 낸다. \n",
      "진짜인가\n",
      "\n"
     ]
    }
   ],
   "source": [
    "print(str_1)"
   ]
  },
  {
   "cell_type": "code",
   "execution_count": 34,
   "id": "9688360e-d62e-4023-9232-faf05f75c0cc",
   "metadata": {},
   "outputs": [],
   "source": [
    "str_1 = \"줄바꿈을\\n나타 낸다.\\n진짜인가\""
   ]
  },
  {
   "cell_type": "code",
   "execution_count": 35,
   "id": "6978a4b4-f834-4a1f-ba0e-b5822000832c",
   "metadata": {},
   "outputs": [
    {
     "name": "stdout",
     "output_type": "stream",
     "text": [
      "줄바꿈을\n",
      "나타 낸다.\n",
      "진짜인가\n"
     ]
    }
   ],
   "source": [
    "print(str_1)"
   ]
  },
  {
   "cell_type": "code",
   "execution_count": 36,
   "id": "098b99ea-b7f6-444b-87c0-74de151fd53a",
   "metadata": {},
   "outputs": [
    {
     "name": "stdout",
     "output_type": "stream",
     "text": [
      "줄바꿈을\t나타 낸다.\t진짜인가\n"
     ]
    }
   ],
   "source": [
    "str_2 = \"줄바꿈을\\t나타 낸다.\\t진짜인가\"\n",
    "print(str_2)"
   ]
  },
  {
   "cell_type": "code",
   "execution_count": 37,
   "id": "3efc7619-189e-4fad-8fed-25bbcc6f7a93",
   "metadata": {},
   "outputs": [
    {
     "name": "stdout",
     "output_type": "stream",
     "text": [
      "줄바꿈을\\나타 낸다.\\진짜인가\n"
     ]
    }
   ],
   "source": [
    "str_2 = \"줄바꿈을\\\\나타 낸다.\\\\진짜인가\"\n",
    "print(str_2)"
   ]
  },
  {
   "cell_type": "code",
   "execution_count": 39,
   "id": "6e3172e4-12f5-4d79-9c68-e7f98efd64a9",
   "metadata": {},
   "outputs": [],
   "source": [
    "str_3 = \"\\\"hello world\\\" 라고 말한다\""
   ]
  },
  {
   "cell_type": "code",
   "execution_count": 40,
   "id": "01eded1c-e2b5-4aa2-8da3-92bad9b1e715",
   "metadata": {},
   "outputs": [
    {
     "name": "stdout",
     "output_type": "stream",
     "text": [
      "\"hello world\" 라고 말한다\n"
     ]
    }
   ],
   "source": [
    "print(str_3)"
   ]
  },
  {
   "cell_type": "code",
   "execution_count": 41,
   "id": "07298f9f-e972-40d6-9c0e-cbb893fa3475",
   "metadata": {},
   "outputs": [],
   "source": [
    "str_4 = \"\\\"hello world\\\" \\r라고 말한다\""
   ]
  },
  {
   "cell_type": "code",
   "execution_count": 42,
   "id": "f0cdfa8e-229d-4dc4-8f40-76cb761f6b10",
   "metadata": {},
   "outputs": [
    {
     "name": "stdout",
     "output_type": "stream",
     "text": [
      "라고 말한다 world\" \n"
     ]
    }
   ],
   "source": [
    "print(str_4)"
   ]
  },
  {
   "cell_type": "code",
   "execution_count": 43,
   "id": "ddf36914-949a-4c26-b2b3-eda45265b02b",
   "metadata": {},
   "outputs": [],
   "source": [
    "str_5 = \"hello world\""
   ]
  },
  {
   "cell_type": "code",
   "execution_count": 44,
   "id": "61559e29-e4b8-4ffb-aadd-ca45a64f9b24",
   "metadata": {},
   "outputs": [
    {
     "data": {
      "text/plain": [
       "'h'"
      ]
     },
     "execution_count": 44,
     "metadata": {},
     "output_type": "execute_result"
    }
   ],
   "source": [
    "str_5[0]"
   ]
  },
  {
   "cell_type": "code",
   "execution_count": 45,
   "id": "9fd861af-5f8f-44c5-a843-d836a3984bba",
   "metadata": {},
   "outputs": [
    {
     "data": {
      "text/plain": [
       "' '"
      ]
     },
     "execution_count": 45,
     "metadata": {},
     "output_type": "execute_result"
    }
   ],
   "source": [
    "str_5[5]"
   ]
  },
  {
   "cell_type": "code",
   "execution_count": 46,
   "id": "d5fd1180-2a12-44d2-90ee-d2ed41bc92ac",
   "metadata": {},
   "outputs": [],
   "source": [
    "str_6 = \"hello\\tworld\""
   ]
  },
  {
   "cell_type": "code",
   "execution_count": 48,
   "id": "c47d63ef-8c33-4192-99f4-f5515757645e",
   "metadata": {},
   "outputs": [
    {
     "name": "stdout",
     "output_type": "stream",
     "text": [
      "hello\tworld\n"
     ]
    }
   ],
   "source": [
    "print(str_6)"
   ]
  },
  {
   "cell_type": "code",
   "execution_count": 49,
   "id": "ed185f92-5b20-47ab-9879-029a77f8427b",
   "metadata": {},
   "outputs": [
    {
     "data": {
      "text/plain": [
       "'hello\\tworld'"
      ]
     },
     "execution_count": 49,
     "metadata": {},
     "output_type": "execute_result"
    }
   ],
   "source": [
    "str_6"
   ]
  },
  {
   "cell_type": "code",
   "execution_count": 50,
   "id": "4b3fca68-0a2d-4031-995e-927e7f6b7347",
   "metadata": {},
   "outputs": [
    {
     "data": {
      "text/plain": [
       "'\\t'"
      ]
     },
     "execution_count": 50,
     "metadata": {},
     "output_type": "execute_result"
    }
   ],
   "source": [
    "str_6[5]"
   ]
  },
  {
   "cell_type": "code",
   "execution_count": 52,
   "id": "59d6d926-f4ad-479f-8cf1-3e974dec0db6",
   "metadata": {},
   "outputs": [
    {
     "data": {
      "text/plain": [
       "'d'"
      ]
     },
     "execution_count": 52,
     "metadata": {},
     "output_type": "execute_result"
    }
   ],
   "source": [
    "str_5[-1]"
   ]
  },
  {
   "cell_type": "code",
   "execution_count": 53,
   "id": "5987695a-dbe6-4b7b-94a4-ee332ab640d3",
   "metadata": {},
   "outputs": [
    {
     "data": {
      "text/plain": [
       "'l'"
      ]
     },
     "execution_count": 53,
     "metadata": {},
     "output_type": "execute_result"
    }
   ],
   "source": [
    "str_5[-2]"
   ]
  },
  {
   "cell_type": "code",
   "execution_count": 54,
   "id": "e54bb394-6b1c-4ddc-8fc1-cd86ce0ec6cc",
   "metadata": {},
   "outputs": [
    {
     "data": {
      "text/plain": [
       "'hello world'"
      ]
     },
     "execution_count": 54,
     "metadata": {},
     "output_type": "execute_result"
    }
   ],
   "source": [
    "str_5"
   ]
  },
  {
   "cell_type": "code",
   "execution_count": 55,
   "id": "c9b0b996-2b93-4d32-96e7-71edcfc8ba5f",
   "metadata": {},
   "outputs": [
    {
     "data": {
      "text/plain": [
       "'hello world'"
      ]
     },
     "execution_count": 55,
     "metadata": {},
     "output_type": "execute_result"
    }
   ],
   "source": [
    "str_5[:]"
   ]
  },
  {
   "cell_type": "code",
   "execution_count": 59,
   "id": "eaa97182-ed74-4ff1-b9e0-c92b97058a5d",
   "metadata": {},
   "outputs": [
    {
     "data": {
      "text/plain": [
       "'hello world'"
      ]
     },
     "execution_count": 59,
     "metadata": {},
     "output_type": "execute_result"
    }
   ],
   "source": [
    "str_5[:11]"
   ]
  },
  {
   "cell_type": "code",
   "execution_count": 60,
   "id": "e84f1f8b-d5ba-445f-88dc-0e991017cb36",
   "metadata": {},
   "outputs": [
    {
     "data": {
      "text/plain": [
       "'hello worl'"
      ]
     },
     "execution_count": 60,
     "metadata": {},
     "output_type": "execute_result"
    }
   ],
   "source": [
    "str_5[:-1]"
   ]
  },
  {
   "cell_type": "code",
   "execution_count": 61,
   "id": "99610276-045c-4768-b0d0-37dcac56a8dd",
   "metadata": {},
   "outputs": [
    {
     "data": {
      "text/plain": [
       "'d'"
      ]
     },
     "execution_count": 61,
     "metadata": {},
     "output_type": "execute_result"
    }
   ],
   "source": [
    "str_5[-1]"
   ]
  },
  {
   "cell_type": "code",
   "execution_count": 62,
   "id": "fd5d37f0-defb-4232-af94-4b96833c14d9",
   "metadata": {},
   "outputs": [
    {
     "data": {
      "text/plain": [
       "'llo '"
      ]
     },
     "execution_count": 62,
     "metadata": {},
     "output_type": "execute_result"
    }
   ],
   "source": [
    "str_5[2:6]"
   ]
  },
  {
   "cell_type": "code",
   "execution_count": 63,
   "id": "44b4c0a6-042f-45f5-94cc-cd0c9c783bda",
   "metadata": {},
   "outputs": [
    {
     "data": {
      "text/plain": [
       "'hello world'"
      ]
     },
     "execution_count": 63,
     "metadata": {},
     "output_type": "execute_result"
    }
   ],
   "source": [
    "str_5"
   ]
  },
  {
   "cell_type": "code",
   "execution_count": 64,
   "id": "c1658ce6-4212-4549-be0e-31e9120de050",
   "metadata": {},
   "outputs": [
    {
     "data": {
      "text/plain": [
       "'llo worl'"
      ]
     },
     "execution_count": 64,
     "metadata": {},
     "output_type": "execute_result"
    }
   ],
   "source": [
    "str_5[2:-1]"
   ]
  },
  {
   "cell_type": "code",
   "execution_count": 65,
   "id": "5b1dfd10-f6fc-481d-a255-93fe846a15c4",
   "metadata": {},
   "outputs": [
    {
     "name": "stdin",
     "output_type": "stream",
     "text": [
      "값을 입력하세요 3\n"
     ]
    },
    {
     "name": "stdout",
     "output_type": "stream",
     "text": [
      "나는 사과를  3 개 먹었습니다\n"
     ]
    }
   ],
   "source": [
    "result = input(\"값을 입력하세요\")\n",
    "print(\"나는 사과를 \", result, \"개 먹었습니다\")"
   ]
  },
  {
   "cell_type": "code",
   "execution_count": 67,
   "id": "bb8a69a9-7ad8-4bab-96a2-f25c10cb56c1",
   "metadata": {},
   "outputs": [
    {
     "name": "stdin",
     "output_type": "stream",
     "text": [
      "값을 입력하세요 3\n"
     ]
    },
    {
     "name": "stdout",
     "output_type": "stream",
     "text": [
      "나는 사과를 3개 먹었습니다\n"
     ]
    }
   ],
   "source": [
    "result = input(\"값을 입력하세요\")\n",
    "print(\"나는 사과를 %s개 먹었습니다\" % result)"
   ]
  },
  {
   "cell_type": "code",
   "execution_count": 69,
   "id": "3d2f8da6-f0a8-4b77-8920-15529add6946",
   "metadata": {},
   "outputs": [
    {
     "name": "stdin",
     "output_type": "stream",
     "text": [
      "사과는 몇개 먹었나요? :  1\n",
      "배는 몇개 먹었나요? :  2\n"
     ]
    },
    {
     "name": "stdout",
     "output_type": "stream",
     "text": [
      "나는 사과를 1개, 배는 2개 먹었습니다. \n"
     ]
    }
   ],
   "source": [
    "result_1 = input(\"사과는 몇개 먹었나요? : \")\n",
    "result_2 = input(\"배는 몇개 먹었나요? : \")\n",
    "\n",
    "print(\"나는 사과를 %s개, 배는 %s개 먹었습니다. \" % (result_1, result_2))"
   ]
  },
  {
   "cell_type": "code",
   "execution_count": 70,
   "id": "88dc1296-d93d-458a-a640-fec54a4888a5",
   "metadata": {},
   "outputs": [
    {
     "name": "stdin",
     "output_type": "stream",
     "text": [
      "사과는 몇개 먹었나요? :  4\n",
      "배는 몇개 먹었나요? :  6\n"
     ]
    },
    {
     "name": "stdout",
     "output_type": "stream",
     "text": [
      "나는 사과를 4개, 배는 6개 먹었습니다. \n"
     ]
    }
   ],
   "source": [
    "result_1 = input(\"사과는 몇개 먹었나요? : \")\n",
    "result_2 = input(\"배는 몇개 먹었나요? : \")\n",
    "\n",
    "print(\"나는 사과를 {}개, 배는 {}개 먹었습니다. \".format(result_1, result_2))"
   ]
  },
  {
   "cell_type": "code",
   "execution_count": 71,
   "id": "30251f55-044f-4735-b966-40785a8ab27d",
   "metadata": {},
   "outputs": [
    {
     "name": "stdin",
     "output_type": "stream",
     "text": [
      "사과는 몇개 먹었나요? :  3\n",
      "배는 몇개 먹었나요? :  2\n"
     ]
    },
    {
     "name": "stdout",
     "output_type": "stream",
     "text": [
      "나는 사과를 3개, 배는 2개 먹었습니다. \n"
     ]
    }
   ],
   "source": [
    "result_1 = input(\"사과는 몇개 먹었나요? : \")\n",
    "result_2 = input(\"배는 몇개 먹었나요? : \")\n",
    "\n",
    "print(f\"나는 사과를 {result_1}개, 배는 {result_2}개 먹었습니다. \")"
   ]
  },
  {
   "cell_type": "code",
   "execution_count": 72,
   "id": "0574b687-2ede-4a98-8ed1-7049a48f0f24",
   "metadata": {},
   "outputs": [],
   "source": [
    "# split\n",
    "ip_1 = \"192.168.0.1\""
   ]
  },
  {
   "cell_type": "code",
   "execution_count": 73,
   "id": "6344d7e9-708d-4062-9e7b-78611f75aa03",
   "metadata": {},
   "outputs": [
    {
     "data": {
      "text/plain": [
       "['192', '168', '0', '1']"
      ]
     },
     "execution_count": 73,
     "metadata": {},
     "output_type": "execute_result"
    }
   ],
   "source": [
    "ip_1.split(\".\")"
   ]
  },
  {
   "cell_type": "code",
   "execution_count": 75,
   "id": "1369f9c5-11ec-4424-9c7b-d6169dfe8a5e",
   "metadata": {},
   "outputs": [],
   "source": [
    "addr_1 = \"서울시 중구 을지로\""
   ]
  },
  {
   "cell_type": "code",
   "execution_count": 82,
   "id": "a83f5f8d-7e62-48a2-aeca-ffb3b9bd3fe0",
   "metadata": {},
   "outputs": [
    {
     "data": {
      "text/plain": [
       "['서울시', '중구', '을지로']"
      ]
     },
     "execution_count": 82,
     "metadata": {},
     "output_type": "execute_result"
    }
   ],
   "source": [
    "# addr_1.split()\n",
    "addr_1.split(\" \")#자른 값을 반환 한다."
   ]
  },
  {
   "cell_type": "code",
   "execution_count": 81,
   "id": "6d1c2fce-0e8b-4f99-8262-c72a4a3e4ed1",
   "metadata": {},
   "outputs": [
    {
     "data": {
      "text/plain": [
       "'서울시 중구 을지로'"
      ]
     },
     "execution_count": 81,
     "metadata": {},
     "output_type": "execute_result"
    }
   ],
   "source": [
    "addr_1 #값이 변경된건 아니다. "
   ]
  },
  {
   "cell_type": "code",
   "execution_count": 83,
   "id": "721f696a-012a-403d-90cb-7bdf8f516433",
   "metadata": {},
   "outputs": [],
   "source": [
    "addr_1 = addr_1.split(\" \")#자른 값을 반환 한다."
   ]
  },
  {
   "cell_type": "code",
   "execution_count": 84,
   "id": "b930d4b8-3a28-47af-859a-911a3c21066e",
   "metadata": {},
   "outputs": [
    {
     "data": {
      "text/plain": [
       "['서울시', '중구', '을지로']"
      ]
     },
     "execution_count": 84,
     "metadata": {},
     "output_type": "execute_result"
    }
   ],
   "source": [
    "addr_1"
   ]
  },
  {
   "cell_type": "code",
   "execution_count": 86,
   "id": "13b920a1-82a2-422a-9b75-1dcb857379e6",
   "metadata": {},
   "outputs": [
    {
     "name": "stdin",
     "output_type": "stream",
     "text": [
      "이름을 입력하세요 : 오민엽\n",
      "태어난 연도를 입력하세요 : 1985\n"
     ]
    },
    {
     "name": "stdout",
     "output_type": "stream",
     "text": [
      "나의 이름은 오민엽 이고, 나이는 40세 입니다.\n"
     ]
    }
   ],
   "source": [
    "# 이름을 입력하세요 : 오민엽\n",
    "# 태어난 연도를 입력하세요 :1985\n",
    "# 나의 이름은 오민엽 이고, 나이는 40세 입니다.\n",
    "\n",
    "name = input(\"이름을 입력하세요 :\")\n",
    "year = input(\"태어난 연도를 입력하세요 :\")\n",
    "age = 2024 - int(year) + 1\n",
    "print(f\"나의 이름은 {name} 이고, 나이는 {age}세 입니다.\")"
   ]
  },
  {
   "cell_type": "code",
   "execution_count": 89,
   "id": "1872f144-9d36-49b0-aa98-770295eb98a6",
   "metadata": {},
   "outputs": [
    {
     "data": {
      "text/plain": [
       "bool"
      ]
     },
     "execution_count": 89,
     "metadata": {},
     "output_type": "execute_result"
    }
   ],
   "source": [
    "type(True)"
   ]
  },
  {
   "cell_type": "code",
   "execution_count": 90,
   "id": "9cf74ec8-9c18-47ad-bfa4-fc574b4e1a7e",
   "metadata": {},
   "outputs": [
    {
     "data": {
      "text/plain": [
       "bool"
      ]
     },
     "execution_count": 90,
     "metadata": {},
     "output_type": "execute_result"
    }
   ],
   "source": [
    "type(False)"
   ]
  },
  {
   "cell_type": "code",
   "execution_count": 92,
   "id": "eb6052aa-0a77-4cb2-b4f6-bf77e06dc54f",
   "metadata": {},
   "outputs": [
    {
     "data": {
      "text/plain": [
       "True"
      ]
     },
     "execution_count": 92,
     "metadata": {},
     "output_type": "execute_result"
    }
   ],
   "source": [
    "True == 1"
   ]
  },
  {
   "cell_type": "code",
   "execution_count": 93,
   "id": "617c5031-2b39-41ae-82c6-a8f4399128e5",
   "metadata": {},
   "outputs": [
    {
     "data": {
      "text/plain": [
       "True"
      ]
     },
     "execution_count": 93,
     "metadata": {},
     "output_type": "execute_result"
    }
   ],
   "source": [
    "False == 0"
   ]
  },
  {
   "cell_type": "code",
   "execution_count": 94,
   "id": "744c680c-05a4-4bc3-88b9-d96d75186b7f",
   "metadata": {},
   "outputs": [
    {
     "data": {
      "text/plain": [
       "1"
      ]
     },
     "execution_count": 94,
     "metadata": {},
     "output_type": "execute_result"
    }
   ],
   "source": [
    "int(True)"
   ]
  },
  {
   "cell_type": "code",
   "execution_count": 95,
   "id": "fc95c0dc-c24d-4557-88f0-4e6a50501b3f",
   "metadata": {},
   "outputs": [
    {
     "data": {
      "text/plain": [
       "0"
      ]
     },
     "execution_count": 95,
     "metadata": {},
     "output_type": "execute_result"
    }
   ],
   "source": [
    "int(False)"
   ]
  },
  {
   "cell_type": "code",
   "execution_count": 96,
   "id": "0b7c3076-3848-4ccf-9f2d-af2d7336e236",
   "metadata": {},
   "outputs": [
    {
     "data": {
      "text/plain": [
       "False"
      ]
     },
     "execution_count": 96,
     "metadata": {},
     "output_type": "execute_result"
    }
   ],
   "source": [
    " 1 <= 0"
   ]
  },
  {
   "cell_type": "code",
   "execution_count": 97,
   "id": "104bb62f-e1b9-4436-94f3-650931b59823",
   "metadata": {},
   "outputs": [
    {
     "name": "stderr",
     "output_type": "stream",
     "text": [
      "<>:1: SyntaxWarning: \"is\" with a literal. Did you mean \"==\"?\n",
      "<>:1: SyntaxWarning: \"is\" with a literal. Did you mean \"==\"?\n",
      "C:\\Users\\ohminy\\AppData\\Local\\Temp\\ipykernel_12968\\2297060732.py:1: SyntaxWarning: \"is\" with a literal. Did you mean \"==\"?\n",
      "  \"a\" is \"b\"\n"
     ]
    },
    {
     "data": {
      "text/plain": [
       "False"
      ]
     },
     "execution_count": 97,
     "metadata": {},
     "output_type": "execute_result"
    }
   ],
   "source": [
    "\"a\" is \"b\""
   ]
  },
  {
   "cell_type": "code",
   "execution_count": 98,
   "id": "fe37717d-1f79-4073-ae27-df1f976cf0d8",
   "metadata": {},
   "outputs": [
    {
     "data": {
      "text/plain": [
       "list"
      ]
     },
     "execution_count": 98,
     "metadata": {},
     "output_type": "execute_result"
    }
   ],
   "source": [
    "# list\n",
    "# 기본형\n",
    "list_1 = []\n",
    "type(list_1)"
   ]
  },
  {
   "cell_type": "code",
   "execution_count": 99,
   "id": "ab263139-f56a-4a33-a8f6-3198d0011d80",
   "metadata": {},
   "outputs": [],
   "source": [
    "# 리스트에 숫자를 넣어 둔다.\n",
    "list_2 = [1,2,3,4,5,10]"
   ]
  },
  {
   "cell_type": "code",
   "execution_count": 100,
   "id": "8c28c809-f004-4e05-b34f-08589061bf84",
   "metadata": {},
   "outputs": [
    {
     "data": {
      "text/plain": [
       "[1, 2, 3, 4, 5, 10]"
      ]
     },
     "execution_count": 100,
     "metadata": {},
     "output_type": "execute_result"
    }
   ],
   "source": [
    "list_2"
   ]
  },
  {
   "cell_type": "code",
   "execution_count": 101,
   "id": "4f291316-d553-43e1-aae6-20ca3ddf6624",
   "metadata": {},
   "outputs": [],
   "source": [
    "list_3 = [\"hello\", \"world\"]"
   ]
  },
  {
   "cell_type": "code",
   "execution_count": 102,
   "id": "eb471f21-ff1d-4434-aba2-7232867e04b3",
   "metadata": {},
   "outputs": [
    {
     "data": {
      "text/plain": [
       "['hello', 'world']"
      ]
     },
     "execution_count": 102,
     "metadata": {},
     "output_type": "execute_result"
    }
   ],
   "source": [
    "list_3"
   ]
  },
  {
   "cell_type": "code",
   "execution_count": 106,
   "id": "c8c64aca-29cb-48e9-84bf-737e92bcfe09",
   "metadata": {},
   "outputs": [],
   "source": [
    "list_4 = [str_1, str_2]"
   ]
  },
  {
   "cell_type": "code",
   "execution_count": 107,
   "id": "f48531e7-dff3-447e-a534-225f1e9bf6f2",
   "metadata": {},
   "outputs": [
    {
     "data": {
      "text/plain": [
       "['줄바꿈을\\n나타 낸다.\\n진짜인가', '줄바꿈을\\\\나타 낸다.\\\\진짜인가']"
      ]
     },
     "execution_count": 107,
     "metadata": {},
     "output_type": "execute_result"
    }
   ],
   "source": [
    "list_4"
   ]
  },
  {
   "cell_type": "code",
   "execution_count": 108,
   "id": "71b94fd6-b092-4fd6-aff5-f4fc78b3da67",
   "metadata": {},
   "outputs": [],
   "source": [
    "list_5 = [str_1, str_2, 2, 3, 4]"
   ]
  },
  {
   "cell_type": "code",
   "execution_count": 109,
   "id": "a948bcfe-b9ae-483d-ac75-9d640d052e22",
   "metadata": {},
   "outputs": [
    {
     "data": {
      "text/plain": [
       "['줄바꿈을\\n나타 낸다.\\n진짜인가', '줄바꿈을\\\\나타 낸다.\\\\진짜인가', 2, 3, 4]"
      ]
     },
     "execution_count": 109,
     "metadata": {},
     "output_type": "execute_result"
    }
   ],
   "source": [
    "list_5"
   ]
  },
  {
   "cell_type": "code",
   "execution_count": 116,
   "id": "c52b5b8a-7f08-415a-a881-25d3be3fb138",
   "metadata": {},
   "outputs": [],
   "source": [
    "list_4 = list_2 + list_3"
   ]
  },
  {
   "cell_type": "code",
   "execution_count": 117,
   "id": "99795839-5ea5-4654-9e66-33acc691bfe0",
   "metadata": {},
   "outputs": [
    {
     "data": {
      "text/plain": [
       "[1, 2, 3, 4, 5, 10, 'hello', 'world']"
      ]
     },
     "execution_count": 117,
     "metadata": {},
     "output_type": "execute_result"
    }
   ],
   "source": [
    "list_4"
   ]
  },
  {
   "cell_type": "code",
   "execution_count": 118,
   "id": "8a659c35-6367-4d31-860f-7adeb8dce0df",
   "metadata": {},
   "outputs": [
    {
     "ename": "TypeError",
     "evalue": "unsupported operand type(s) for -: 'list' and 'list'",
     "output_type": "error",
     "traceback": [
      "\u001b[1;31m---------------------------------------------------------------------------\u001b[0m",
      "\u001b[1;31mTypeError\u001b[0m                                 Traceback (most recent call last)",
      "Cell \u001b[1;32mIn[118], line 1\u001b[0m\n\u001b[1;32m----> 1\u001b[0m list_2 \u001b[38;5;241m-\u001b[39m list_3\n",
      "\u001b[1;31mTypeError\u001b[0m: unsupported operand type(s) for -: 'list' and 'list'"
     ]
    }
   ],
   "source": [
    "list_2 - list_3"
   ]
  },
  {
   "cell_type": "code",
   "execution_count": 119,
   "id": "29c27965-54e8-4b79-b171-897776e54217",
   "metadata": {},
   "outputs": [
    {
     "ename": "TypeError",
     "evalue": "can only concatenate list (not \"int\") to list",
     "output_type": "error",
     "traceback": [
      "\u001b[1;31m---------------------------------------------------------------------------\u001b[0m",
      "\u001b[1;31mTypeError\u001b[0m                                 Traceback (most recent call last)",
      "Cell \u001b[1;32mIn[119], line 1\u001b[0m\n\u001b[1;32m----> 1\u001b[0m list_2 \u001b[38;5;241m+\u001b[39m \u001b[38;5;241m4\u001b[39m\n",
      "\u001b[1;31mTypeError\u001b[0m: can only concatenate list (not \"int\") to list"
     ]
    }
   ],
   "source": [
    "list_2 + 4"
   ]
  },
  {
   "cell_type": "code",
   "execution_count": 120,
   "id": "0e1be769-3b87-4894-bcdd-15818df54039",
   "metadata": {},
   "outputs": [
    {
     "ename": "TypeError",
     "evalue": "can only concatenate list (not \"str\") to list",
     "output_type": "error",
     "traceback": [
      "\u001b[1;31m---------------------------------------------------------------------------\u001b[0m",
      "\u001b[1;31mTypeError\u001b[0m                                 Traceback (most recent call last)",
      "Cell \u001b[1;32mIn[120], line 1\u001b[0m\n\u001b[1;32m----> 1\u001b[0m list_2 \u001b[38;5;241m+\u001b[39m \u001b[38;5;124m\"\u001b[39m\u001b[38;5;124mlist\u001b[39m\u001b[38;5;124m\"\u001b[39m\n",
      "\u001b[1;31mTypeError\u001b[0m: can only concatenate list (not \"str\") to list"
     ]
    }
   ],
   "source": [
    "list_2 + \"list\""
   ]
  },
  {
   "cell_type": "code",
   "execution_count": 125,
   "id": "bbfa0923-db07-4d31-8b0f-5ae60263445a",
   "metadata": {},
   "outputs": [
    {
     "data": {
      "text/plain": [
       "[1, 2, 3, 4, 5, 10]"
      ]
     },
     "execution_count": 125,
     "metadata": {},
     "output_type": "execute_result"
    }
   ],
   "source": [
    "list_2"
   ]
  },
  {
   "cell_type": "code",
   "execution_count": 126,
   "id": "918346af-9c26-498f-8798-1149b6e86dbe",
   "metadata": {},
   "outputs": [
    {
     "data": {
      "text/plain": [
       "4"
      ]
     },
     "execution_count": 126,
     "metadata": {},
     "output_type": "execute_result"
    }
   ],
   "source": [
    "list_2[3]"
   ]
  },
  {
   "cell_type": "code",
   "execution_count": 127,
   "id": "7db410fe-70d4-468e-b144-b4fd3de85302",
   "metadata": {},
   "outputs": [],
   "source": [
    "del list_2[3]"
   ]
  },
  {
   "cell_type": "code",
   "execution_count": 128,
   "id": "1316fd46-c9e0-4459-9ae9-9eb40f6ddf8b",
   "metadata": {},
   "outputs": [
    {
     "data": {
      "text/plain": [
       "[1, 2, 3, 5, 10]"
      ]
     },
     "execution_count": 128,
     "metadata": {},
     "output_type": "execute_result"
    }
   ],
   "source": [
    "list_2"
   ]
  },
  {
   "cell_type": "code",
   "execution_count": 129,
   "id": "8470c826-f356-4f4b-af40-3fb97481dcd7",
   "metadata": {},
   "outputs": [],
   "source": [
    "del list_2[3:]"
   ]
  },
  {
   "cell_type": "code",
   "execution_count": 131,
   "id": "3d614620-c661-4b14-8b8c-c12002a51aa1",
   "metadata": {},
   "outputs": [
    {
     "data": {
      "text/plain": [
       "[1, 2, 3]"
      ]
     },
     "execution_count": 131,
     "metadata": {},
     "output_type": "execute_result"
    }
   ],
   "source": [
    "list_2"
   ]
  },
  {
   "cell_type": "code",
   "execution_count": 134,
   "id": "94e79755-9fac-4586-99ac-4398bcd2a0d0",
   "metadata": {},
   "outputs": [],
   "source": [
    "list_2[0] = list_3"
   ]
  },
  {
   "cell_type": "code",
   "execution_count": 135,
   "id": "f01524f6-41d5-4564-9e69-1d06c8e1867b",
   "metadata": {},
   "outputs": [
    {
     "data": {
      "text/plain": [
       "[['hello', 'world'], 2, 3]"
      ]
     },
     "execution_count": 135,
     "metadata": {},
     "output_type": "execute_result"
    }
   ],
   "source": [
    "list_2"
   ]
  },
  {
   "cell_type": "code",
   "execution_count": 136,
   "id": "f89a49ca-0457-4af6-aa30-55a10efbe28d",
   "metadata": {},
   "outputs": [],
   "source": [
    "list_2[-1:-1] = list_3"
   ]
  },
  {
   "cell_type": "code",
   "execution_count": 137,
   "id": "4f08ad21-8cfa-4a1a-a250-97ec4da2d2e4",
   "metadata": {},
   "outputs": [
    {
     "data": {
      "text/plain": [
       "[['hello', 'world'], 2, 'hello', 'world', 3]"
      ]
     },
     "execution_count": 137,
     "metadata": {},
     "output_type": "execute_result"
    }
   ],
   "source": [
    "list_2"
   ]
  },
  {
   "cell_type": "code",
   "execution_count": 138,
   "id": "b626787d-06ef-4c71-84a2-3a60d44c3f22",
   "metadata": {},
   "outputs": [],
   "source": [
    "list_3 = [1,2,3,4,5,6,7,8,9,10]"
   ]
  },
  {
   "cell_type": "code",
   "execution_count": 139,
   "id": "dd9964e0-cc79-4caa-9eaf-7fd52c89c48a",
   "metadata": {},
   "outputs": [
    {
     "data": {
      "text/plain": [
       "[1, 2, 3, 4, 5, 6, 7, 8, 9, 10]"
      ]
     },
     "execution_count": 139,
     "metadata": {},
     "output_type": "execute_result"
    }
   ],
   "source": [
    "list_3[:]"
   ]
  },
  {
   "cell_type": "code",
   "execution_count": 140,
   "id": "f3de78f6-a416-4b51-8e77-1ea812be8671",
   "metadata": {},
   "outputs": [
    {
     "data": {
      "text/plain": [
       "[1, 3, 5, 7, 9]"
      ]
     },
     "execution_count": 140,
     "metadata": {},
     "output_type": "execute_result"
    }
   ],
   "source": [
    "list_3[::2]"
   ]
  },
  {
   "cell_type": "code",
   "execution_count": 142,
   "id": "7d6014dd-d837-4963-a7f9-05ad02b0baae",
   "metadata": {},
   "outputs": [
    {
     "data": {
      "text/plain": [
       "[10, 9, 8, 7, 6, 5, 4, 3, 2, 1]"
      ]
     },
     "execution_count": 142,
     "metadata": {},
     "output_type": "execute_result"
    }
   ],
   "source": [
    "list_3[::-1]"
   ]
  },
  {
   "cell_type": "code",
   "execution_count": 143,
   "id": "d8fa2428-7a4f-4e47-b39b-2c17abe6b6cc",
   "metadata": {},
   "outputs": [],
   "source": [
    "list_3.reverse()"
   ]
  },
  {
   "cell_type": "code",
   "execution_count": 144,
   "id": "4b6bd50d-8f50-43b4-9f0c-dd97de349677",
   "metadata": {},
   "outputs": [
    {
     "data": {
      "text/plain": [
       "[10, 9, 8, 7, 6, 5, 4, 3, 2, 1]"
      ]
     },
     "execution_count": 144,
     "metadata": {},
     "output_type": "execute_result"
    }
   ],
   "source": [
    "list_3"
   ]
  },
  {
   "cell_type": "code",
   "execution_count": 145,
   "id": "fa212800-4b72-4e59-86ae-e77f9a1735a0",
   "metadata": {},
   "outputs": [
    {
     "data": {
      "text/plain": [
       "False"
      ]
     },
     "execution_count": 145,
     "metadata": {},
     "output_type": "execute_result"
    }
   ],
   "source": [
    "11 in list_3"
   ]
  },
  {
   "cell_type": "code",
   "execution_count": 146,
   "id": "afb609f0-e24c-4ba5-944b-300f14de3f35",
   "metadata": {},
   "outputs": [
    {
     "data": {
      "text/plain": [
       "True"
      ]
     },
     "execution_count": 146,
     "metadata": {},
     "output_type": "execute_result"
    }
   ],
   "source": [
    "2 in list_3"
   ]
  },
  {
   "cell_type": "code",
   "execution_count": 147,
   "id": "3ea6d896-c117-4a13-8597-8bb226353a78",
   "metadata": {},
   "outputs": [
    {
     "data": {
      "text/plain": [
       "False"
      ]
     },
     "execution_count": 147,
     "metadata": {},
     "output_type": "execute_result"
    }
   ],
   "source": [
    "\"hello\" in list_3"
   ]
  },
  {
   "cell_type": "code",
   "execution_count": 148,
   "id": "67406f4d-d0e0-41ad-9651-d5b449d9a008",
   "metadata": {},
   "outputs": [
    {
     "data": {
      "text/plain": [
       "True"
      ]
     },
     "execution_count": 148,
     "metadata": {},
     "output_type": "execute_result"
    }
   ],
   "source": [
    "\"h\" in \"hello world\""
   ]
  },
  {
   "cell_type": "code",
   "execution_count": 149,
   "id": "1559c3b2-fb7f-4e7b-b75d-385e03ee8e15",
   "metadata": {},
   "outputs": [
    {
     "data": {
      "text/plain": [
       "True"
      ]
     },
     "execution_count": 149,
     "metadata": {},
     "output_type": "execute_result"
    }
   ],
   "source": [
    "\"he\" in \"hello world\""
   ]
  },
  {
   "cell_type": "code",
   "execution_count": 150,
   "id": "5c3815bb-83de-42a8-8627-6e4904d93cfd",
   "metadata": {},
   "outputs": [],
   "source": [
    "val_1 = \"hello\"\n",
    "val_2 = \"world\"\n",
    "list_5 = [val_1, val_2]"
   ]
  },
  {
   "cell_type": "code",
   "execution_count": 154,
   "id": "b8d6db93-6dd4-405e-9147-392a65cde340",
   "metadata": {},
   "outputs": [
    {
     "data": {
      "text/plain": [
       "2743141556016"
      ]
     },
     "execution_count": 154,
     "metadata": {},
     "output_type": "execute_result"
    }
   ],
   "source": [
    "id(list_5[0])"
   ]
  },
  {
   "cell_type": "code",
   "execution_count": 153,
   "id": "656ddccf-1506-4ea0-811b-dc69665ce41f",
   "metadata": {},
   "outputs": [
    {
     "data": {
      "text/plain": [
       "2743141556016"
      ]
     },
     "execution_count": 153,
     "metadata": {},
     "output_type": "execute_result"
    }
   ],
   "source": [
    "id(val_1)"
   ]
  },
  {
   "cell_type": "code",
   "execution_count": 155,
   "id": "b1fc6587-0407-4259-94a1-ceb3fc6ad1c1",
   "metadata": {},
   "outputs": [],
   "source": [
    "del list_5"
   ]
  },
  {
   "cell_type": "code",
   "execution_count": 156,
   "id": "bd46f116-8572-4d5c-99a2-df02557eb6c9",
   "metadata": {},
   "outputs": [
    {
     "data": {
      "text/plain": [
       "'hello'"
      ]
     },
     "execution_count": 156,
     "metadata": {},
     "output_type": "execute_result"
    }
   ],
   "source": [
    "val_1"
   ]
  },
  {
   "cell_type": "code",
   "execution_count": null,
   "id": "941b9347-6f93-4f20-a6cd-f4b214de7284",
   "metadata": {},
   "outputs": [],
   "source": [
    "list_1."
   ]
  },
  {
   "cell_type": "code",
   "execution_count": 163,
   "id": "71a3a219-1247-4992-bdc4-ed9333f00803",
   "metadata": {},
   "outputs": [],
   "source": [
    "list_6=[6]"
   ]
  },
  {
   "cell_type": "code",
   "execution_count": 164,
   "id": "a11b683b-4546-400f-9adf-0f41daf20c35",
   "metadata": {},
   "outputs": [
    {
     "data": {
      "text/plain": [
       "[6]"
      ]
     },
     "execution_count": 164,
     "metadata": {},
     "output_type": "execute_result"
    }
   ],
   "source": [
    "list_6"
   ]
  },
  {
   "cell_type": "code",
   "execution_count": 166,
   "id": "e43ffca5-1906-47b3-8607-c9571bf23874",
   "metadata": {},
   "outputs": [
    {
     "data": {
      "text/plain": [
       "list"
      ]
     },
     "execution_count": 166,
     "metadata": {},
     "output_type": "execute_result"
    }
   ],
   "source": [
    "type(list_6)"
   ]
  },
  {
   "cell_type": "code",
   "execution_count": 159,
   "id": "34de07d2-5da2-41b3-8ceb-487ff799e158",
   "metadata": {},
   "outputs": [],
   "source": [
    "# tuple\n",
    "tuple_1 = (1,2,3,4)"
   ]
  },
  {
   "cell_type": "code",
   "execution_count": 160,
   "id": "f3208ff0-c5c9-4601-948a-698da50c6e46",
   "metadata": {},
   "outputs": [],
   "source": [
    "tuple_2 = ()"
   ]
  },
  {
   "cell_type": "code",
   "execution_count": 162,
   "id": "952d0268-3e78-4283-a832-0902bd1842ea",
   "metadata": {},
   "outputs": [
    {
     "data": {
      "text/plain": [
       "tuple"
      ]
     },
     "execution_count": 162,
     "metadata": {},
     "output_type": "execute_result"
    }
   ],
   "source": [
    "type(tuple_2)"
   ]
  },
  {
   "cell_type": "code",
   "execution_count": 167,
   "id": "34ef2449-3e6b-4a2a-b5e2-b8e1c57868a9",
   "metadata": {},
   "outputs": [],
   "source": [
    "tuple_3 = (3)"
   ]
  },
  {
   "cell_type": "code",
   "execution_count": 169,
   "id": "110000a6-de29-4e04-96f1-1c637ee86a0c",
   "metadata": {},
   "outputs": [
    {
     "data": {
      "text/plain": [
       "int"
      ]
     },
     "execution_count": 169,
     "metadata": {},
     "output_type": "execute_result"
    }
   ],
   "source": [
    "type(tuple_3)"
   ]
  },
  {
   "cell_type": "code",
   "execution_count": 174,
   "id": "7de5a3b4-1005-4541-9032-9446c4ecccac",
   "metadata": {},
   "outputs": [],
   "source": [
    "tuple_4 = (\"hello\")"
   ]
  },
  {
   "cell_type": "code",
   "execution_count": 175,
   "id": "17d4e1c9-6393-4b69-abd2-e41aeb0a47ca",
   "metadata": {},
   "outputs": [
    {
     "data": {
      "text/plain": [
       "'hello'"
      ]
     },
     "execution_count": 175,
     "metadata": {},
     "output_type": "execute_result"
    }
   ],
   "source": [
    "tuple_4"
   ]
  },
  {
   "cell_type": "code",
   "execution_count": 171,
   "id": "043da7e8-17e1-4e0d-9ee5-8fc7cfa2a329",
   "metadata": {},
   "outputs": [
    {
     "data": {
      "text/plain": [
       "str"
      ]
     },
     "execution_count": 171,
     "metadata": {},
     "output_type": "execute_result"
    }
   ],
   "source": [
    "type(tuple_4)"
   ]
  },
  {
   "cell_type": "code",
   "execution_count": 172,
   "id": "4048a304-c9df-4d8b-a5d4-14588a47cc2c",
   "metadata": {},
   "outputs": [],
   "source": [
    "tuple_5 = (\"hello\",)"
   ]
  },
  {
   "cell_type": "code",
   "execution_count": 173,
   "id": "e4303ede-0b18-4b06-b15e-a016824792ff",
   "metadata": {},
   "outputs": [
    {
     "data": {
      "text/plain": [
       "('hello',)"
      ]
     },
     "execution_count": 173,
     "metadata": {},
     "output_type": "execute_result"
    }
   ],
   "source": [
    "tuple_5"
   ]
  },
  {
   "cell_type": "code",
   "execution_count": 158,
   "id": "11ceb5aa-21d0-4e95-8c1a-7674d9816bc5",
   "metadata": {},
   "outputs": [
    {
     "data": {
      "text/plain": [
       "(1, 2, 3, 4)"
      ]
     },
     "execution_count": 158,
     "metadata": {},
     "output_type": "execute_result"
    }
   ],
   "source": [
    "tuple_1"
   ]
  },
  {
   "cell_type": "code",
   "execution_count": 182,
   "id": "567bebfb-dce0-4ca1-8618-bf13e3607917",
   "metadata": {},
   "outputs": [],
   "source": [
    "tuple_6 = 11,22,33,44,55"
   ]
  },
  {
   "cell_type": "code",
   "execution_count": 183,
   "id": "1db07cf4-57ab-4e6f-b975-577f14924c37",
   "metadata": {},
   "outputs": [],
   "source": [
    "val_1,val_2,val_3,val_4,val_5 = tuple_6 # 언패킹 "
   ]
  },
  {
   "cell_type": "code",
   "execution_count": 184,
   "id": "9b6879d0-b0b9-4d7c-b168-1ac4bee46173",
   "metadata": {},
   "outputs": [
    {
     "data": {
      "text/plain": [
       "11"
      ]
     },
     "execution_count": 184,
     "metadata": {},
     "output_type": "execute_result"
    }
   ],
   "source": [
    "val_1"
   ]
  },
  {
   "cell_type": "code",
   "execution_count": 186,
   "id": "2e2950d1-667e-4cdf-95eb-168ed0b66049",
   "metadata": {},
   "outputs": [],
   "source": [
    "val_11, *val_22 = tuple_6"
   ]
  },
  {
   "cell_type": "code",
   "execution_count": 187,
   "id": "828d8d7e-c7f5-48fb-9d66-e3d5c4ff4e8c",
   "metadata": {},
   "outputs": [
    {
     "data": {
      "text/plain": [
       "11"
      ]
     },
     "execution_count": 187,
     "metadata": {},
     "output_type": "execute_result"
    }
   ],
   "source": [
    "val_11"
   ]
  },
  {
   "cell_type": "code",
   "execution_count": 188,
   "id": "ef6bba90-98bc-434c-9bb6-b265462eaccf",
   "metadata": {},
   "outputs": [
    {
     "data": {
      "text/plain": [
       "[22, 33, 44, 55]"
      ]
     },
     "execution_count": 188,
     "metadata": {},
     "output_type": "execute_result"
    }
   ],
   "source": [
    "val_22"
   ]
  },
  {
   "cell_type": "code",
   "execution_count": 196,
   "id": "7c671db6-9383-4ed0-a189-312e9e795ca9",
   "metadata": {},
   "outputs": [],
   "source": [
    "val_33, *val_44, val_55 = tuple_6"
   ]
  },
  {
   "cell_type": "code",
   "execution_count": 197,
   "id": "8c03490b-4989-43c2-9cd7-8a5e0b579933",
   "metadata": {},
   "outputs": [
    {
     "data": {
      "text/plain": [
       "55"
      ]
     },
     "execution_count": 197,
     "metadata": {},
     "output_type": "execute_result"
    }
   ],
   "source": [
    "val_55"
   ]
  },
  {
   "cell_type": "code",
   "execution_count": 198,
   "id": "6f8683f6-616b-4b5f-8d9d-c3bbfeef4c5e",
   "metadata": {},
   "outputs": [
    {
     "data": {
      "text/plain": [
       "[22, 33, 44]"
      ]
     },
     "execution_count": 198,
     "metadata": {},
     "output_type": "execute_result"
    }
   ],
   "source": [
    "val_44"
   ]
  },
  {
   "cell_type": "code",
   "execution_count": 199,
   "id": "3d890b6d-91f1-4870-9d5e-e763d454352c",
   "metadata": {},
   "outputs": [
    {
     "data": {
      "text/plain": [
       "11"
      ]
     },
     "execution_count": 199,
     "metadata": {},
     "output_type": "execute_result"
    }
   ],
   "source": [
    "val_33"
   ]
  },
  {
   "cell_type": "code",
   "execution_count": 200,
   "id": "03b968a3-f730-4ce5-8551-c6aa04f568d8",
   "metadata": {},
   "outputs": [],
   "source": [
    "# 튜플을 사용하는 경우\n",
    "# 1. 함수를 정의할때 하나이상의 값을 반환하는 경우\n",
    "# def fun_1():\n",
    "#     return val_1, val_2\n",
    "# 2. 튜플에 있는 값들을 함수의 인수로 사용하는경우\n",
    "# def fun_1(a,b,c)\n",
    "\n",
    "# 리스트와의 차이점\n",
    "# - 변경이 불가능한 시퀀스 자료형이다. \n",
    "# - 문자, 리스트, 튜플 과 같이 순서가 있는 자료형을 시퀀스 자료형이라고 한다. -> 인덱싱과 슬라이싱\n",
    "# - list(), tuple() 를 사용해 형태 변환이 가능하다. "
   ]
  },
  {
   "cell_type": "code",
   "execution_count": 208,
   "id": "e6c1f5a9-298c-45bb-978c-66b75cb51f6c",
   "metadata": {},
   "outputs": [
    {
     "data": {
      "text/plain": [
       "(1, 2, 3, 4, 1, 2, 3, 4)"
      ]
     },
     "execution_count": 208,
     "metadata": {},
     "output_type": "execute_result"
    }
   ],
   "source": [
    "tuple_1"
   ]
  },
  {
   "cell_type": "code",
   "execution_count": 209,
   "id": "8ea509ce-abb6-4439-b286-5ede6b01baaa",
   "metadata": {},
   "outputs": [
    {
     "data": {
      "text/plain": [
       "2743229466176"
      ]
     },
     "execution_count": 209,
     "metadata": {},
     "output_type": "execute_result"
    }
   ],
   "source": [
    "id(tuple_1)"
   ]
  },
  {
   "cell_type": "code",
   "execution_count": 210,
   "id": "fffaf333-4cb5-444e-bfa0-59b452d67266",
   "metadata": {},
   "outputs": [],
   "source": [
    "tuple_1 = tuple_1 + tuple_1"
   ]
  },
  {
   "cell_type": "code",
   "execution_count": 211,
   "id": "7f9243d7-5c70-4389-9b4a-f96a005ad4d6",
   "metadata": {},
   "outputs": [
    {
     "data": {
      "text/plain": [
       "2743234419472"
      ]
     },
     "execution_count": 211,
     "metadata": {},
     "output_type": "execute_result"
    }
   ],
   "source": [
    "id(tuple_1)"
   ]
  },
  {
   "cell_type": "markdown",
   "id": "5fdba4f7-9ccb-4d21-b08a-27ef768e237a",
   "metadata": {},
   "source": [
    "# 딕셔너리\n",
    "- {key1:val1, key2:val2}\n",
    "- 딕셔너리는 임의의 개체의 집합적 자료형이다. 데이터 저장의 순서가 없다.\n",
    "- 데이터의 순서를 정의할수 없는 맵핑형 자료형이다.\n",
    "- key 를 통해서 value 에 접근 가능하다\n",
    "    - value : 임의의 객체 가능\n",
    "    - key : 해시 가능이고, 변경 불가능한 자료형만 가능하다.( 문자, 숫자, 튜플, 함수 가능 / 리스트(unhashable), 사전 불가) "
   ]
  },
  {
   "cell_type": "code",
   "execution_count": 212,
   "id": "4a1cc1e8-dbe2-4413-afd1-f9ced3bf3abd",
   "metadata": {},
   "outputs": [],
   "source": [
    "dic_1 = {\"hello\":\"world\", 2:\"good\", (3,):\"bye\"}"
   ]
  },
  {
   "cell_type": "code",
   "execution_count": 213,
   "id": "78f2a208-78fd-4e64-a2cf-cef5c5b56ae9",
   "metadata": {},
   "outputs": [
    {
     "data": {
      "text/plain": [
       "'world'"
      ]
     },
     "execution_count": 213,
     "metadata": {},
     "output_type": "execute_result"
    }
   ],
   "source": [
    "dic_1[\"hello\"]"
   ]
  },
  {
   "cell_type": "code",
   "execution_count": 214,
   "id": "d613a0b4-a8c0-4720-9afd-6aef43c293b4",
   "metadata": {},
   "outputs": [
    {
     "data": {
      "text/plain": [
       "'bye'"
      ]
     },
     "execution_count": 214,
     "metadata": {},
     "output_type": "execute_result"
    }
   ],
   "source": [
    "dic_1[(3,)]"
   ]
  },
  {
   "cell_type": "code",
   "execution_count": 216,
   "id": "14edd8ac-ebab-4f8d-90ae-cb76759b2f28",
   "metadata": {},
   "outputs": [
    {
     "ename": "TypeError",
     "evalue": "unhashable type: 'dict'",
     "output_type": "error",
     "traceback": [
      "\u001b[1;31m---------------------------------------------------------------------------\u001b[0m",
      "\u001b[1;31mTypeError\u001b[0m                                 Traceback (most recent call last)",
      "Cell \u001b[1;32mIn[216], line 1\u001b[0m\n\u001b[1;32m----> 1\u001b[0m dic_1 \u001b[38;5;241m=\u001b[39m {\u001b[38;5;124m\"\u001b[39m\u001b[38;5;124mhello\u001b[39m\u001b[38;5;124m\"\u001b[39m:\u001b[38;5;124m\"\u001b[39m\u001b[38;5;124mworld\u001b[39m\u001b[38;5;124m\"\u001b[39m, \u001b[38;5;241m2\u001b[39m:\u001b[38;5;124m\"\u001b[39m\u001b[38;5;124mgood\u001b[39m\u001b[38;5;124m\"\u001b[39m, {\u001b[38;5;124m\"\u001b[39m\u001b[38;5;124mhello\u001b[39m\u001b[38;5;124m\"\u001b[39m:\u001b[38;5;124m\"\u001b[39m\u001b[38;5;124mworld\u001b[39m\u001b[38;5;124m\"\u001b[39m}:\u001b[38;5;124m\"\u001b[39m\u001b[38;5;124mbye\u001b[39m\u001b[38;5;124m\"\u001b[39m}\n",
      "\u001b[1;31mTypeError\u001b[0m: unhashable type: 'dict'"
     ]
    }
   ],
   "source": [
    "dic_1 = {\"hello\":\"world\", 2:\"good\", {\"hello\":\"world\"}:\"bye\"}"
   ]
  },
  {
   "cell_type": "code",
   "execution_count": 223,
   "id": "d3874116-98f8-4b02-8e0a-5e8e7ccc4b6e",
   "metadata": {},
   "outputs": [],
   "source": [
    "dic_2 = dict()"
   ]
  },
  {
   "cell_type": "code",
   "execution_count": 224,
   "id": "fd912bc1-48f9-4486-a47e-c2ce1fbcbf0d",
   "metadata": {},
   "outputs": [
    {
     "data": {
      "text/plain": [
       "dict"
      ]
     },
     "execution_count": 224,
     "metadata": {},
     "output_type": "execute_result"
    }
   ],
   "source": [
    "type(dic_2)"
   ]
  },
  {
   "cell_type": "code",
   "execution_count": 225,
   "id": "8f26af01-af8e-4983-a0c6-68823740f319",
   "metadata": {},
   "outputs": [],
   "source": [
    "dic_3 = {}"
   ]
  },
  {
   "cell_type": "code",
   "execution_count": 226,
   "id": "9c30ab77-5dd9-41b6-b0d3-4ff99afe2c76",
   "metadata": {},
   "outputs": [
    {
     "data": {
      "text/plain": [
       "dict"
      ]
     },
     "execution_count": 226,
     "metadata": {},
     "output_type": "execute_result"
    }
   ],
   "source": [
    "type(dic_3)"
   ]
  },
  {
   "cell_type": "code",
   "execution_count": 227,
   "id": "75aacf2e-2dd3-43e4-b0cf-df1327958dae",
   "metadata": {},
   "outputs": [
    {
     "data": {
      "text/plain": [
       "{'one': 1, 'two': 2}"
      ]
     },
     "execution_count": 227,
     "metadata": {},
     "output_type": "execute_result"
    }
   ],
   "source": [
    "dict(one = 1, two =2)"
   ]
  },
  {
   "cell_type": "code",
   "execution_count": 254,
   "id": "de661d03-4eab-4dd5-a3f8-664fbde46798",
   "metadata": {},
   "outputs": [
    {
     "data": {
      "text/plain": [
       "{'one': 1, 'two': 2}"
      ]
     },
     "execution_count": 254,
     "metadata": {},
     "output_type": "execute_result"
    }
   ],
   "source": [
    "dict([(\"one\",1), (\"two\", 2)])"
   ]
  },
  {
   "cell_type": "code",
   "execution_count": 270,
   "id": "9689283a-a697-4c43-bc1b-2f77832a1759",
   "metadata": {},
   "outputs": [],
   "source": [
    "keys = [\"one\", \"two\", \"three\"]\n",
    "values = [1,2,3]"
   ]
  },
  {
   "cell_type": "code",
   "execution_count": 271,
   "id": "35f79f07-00ec-4f49-b05a-128d914fcc2b",
   "metadata": {},
   "outputs": [],
   "source": [
    "zip_1 = zip(keys, values)"
   ]
  },
  {
   "cell_type": "code",
   "execution_count": 272,
   "id": "2dac8870-01b8-4717-ba06-a296ddfbf323",
   "metadata": {},
   "outputs": [],
   "source": [
    "dict_3 = dict(zip_1)"
   ]
  },
  {
   "cell_type": "code",
   "execution_count": 273,
   "id": "a756f7b7-9ec1-4844-af71-99a7abd76ee1",
   "metadata": {},
   "outputs": [],
   "source": [
    "zip_1 = zip(keys, values)"
   ]
  },
  {
   "cell_type": "code",
   "execution_count": 274,
   "id": "750ad8fd-8c3d-4a9a-8af8-2da6ebf106aa",
   "metadata": {},
   "outputs": [
    {
     "data": {
      "text/plain": [
       "('one', 1)"
      ]
     },
     "execution_count": 274,
     "metadata": {},
     "output_type": "execute_result"
    }
   ],
   "source": [
    "next(zip_1)"
   ]
  },
  {
   "cell_type": "code",
   "execution_count": 275,
   "id": "edbb654f-cb0d-4fc4-bae8-7797dcd904e5",
   "metadata": {},
   "outputs": [
    {
     "data": {
      "text/plain": [
       "{'one': 1, 'two': 2, 'three': 3}"
      ]
     },
     "execution_count": 275,
     "metadata": {},
     "output_type": "execute_result"
    }
   ],
   "source": [
    "dict_3"
   ]
  },
  {
   "cell_type": "code",
   "execution_count": 276,
   "id": "0b0b34dd-494c-4a56-8696-71f8ed174e6e",
   "metadata": {},
   "outputs": [
    {
     "data": {
      "text/plain": [
       "dict_keys(['one', 'two', 'three'])"
      ]
     },
     "execution_count": 276,
     "metadata": {},
     "output_type": "execute_result"
    }
   ],
   "source": [
    "dict_3.keys()"
   ]
  },
  {
   "cell_type": "code",
   "execution_count": 277,
   "id": "6cb24d6a-f116-4385-94cd-7daf9eac208d",
   "metadata": {},
   "outputs": [
    {
     "data": {
      "text/plain": [
       "dict_values([1, 2, 3])"
      ]
     },
     "execution_count": 277,
     "metadata": {},
     "output_type": "execute_result"
    }
   ],
   "source": [
    "dict_3.values()"
   ]
  },
  {
   "cell_type": "code",
   "execution_count": 278,
   "id": "6b486fde-e15d-4319-9aaa-3373bd2d7340",
   "metadata": {},
   "outputs": [
    {
     "data": {
      "text/plain": [
       "dict_items([('one', 1), ('two', 2), ('three', 3)])"
      ]
     },
     "execution_count": 278,
     "metadata": {},
     "output_type": "execute_result"
    }
   ],
   "source": [
    "dict_3.items()"
   ]
  },
  {
   "cell_type": "code",
   "execution_count": 279,
   "id": "c95d723f-2cd2-41b1-a641-478803fd3361",
   "metadata": {},
   "outputs": [
    {
     "data": {
      "text/plain": [
       "1"
      ]
     },
     "execution_count": 279,
     "metadata": {},
     "output_type": "execute_result"
    }
   ],
   "source": [
    "dict_3[\"one\"]"
   ]
  },
  {
   "cell_type": "code",
   "execution_count": 281,
   "id": "63c254a1-4fff-4319-b77a-8a044fdc5b67",
   "metadata": {},
   "outputs": [
    {
     "data": {
      "text/plain": [
       "'없다'"
      ]
     },
     "execution_count": 281,
     "metadata": {},
     "output_type": "execute_result"
    }
   ],
   "source": [
    "dict_3.get(\"five\", \"없다\")"
   ]
  },
  {
   "cell_type": "code",
   "execution_count": 282,
   "id": "0a6effac-7170-4279-adba-c4da5107d5fb",
   "metadata": {},
   "outputs": [],
   "source": [
    "dict_3[\"four\"] = 4"
   ]
  },
  {
   "cell_type": "code",
   "execution_count": 283,
   "id": "ea003d34-f612-4fe6-a031-284feade66e6",
   "metadata": {},
   "outputs": [
    {
     "data": {
      "text/plain": [
       "{'one': 1, 'two': 2, 'three': 3, 'four': 4}"
      ]
     },
     "execution_count": 283,
     "metadata": {},
     "output_type": "execute_result"
    }
   ],
   "source": [
    "dict_3"
   ]
  },
  {
   "cell_type": "code",
   "execution_count": 284,
   "id": "ad707590-0f89-4b99-a9eb-5bfb27bd6270",
   "metadata": {},
   "outputs": [],
   "source": [
    "del dict_3[\"three\"]"
   ]
  },
  {
   "cell_type": "code",
   "execution_count": 285,
   "id": "475de5ea-b2de-4018-8ff3-448e66362d8d",
   "metadata": {},
   "outputs": [
    {
     "data": {
      "text/plain": [
       "{'one': 1, 'two': 2, 'four': 4}"
      ]
     },
     "execution_count": 285,
     "metadata": {},
     "output_type": "execute_result"
    }
   ],
   "source": [
    "dict_3"
   ]
  },
  {
   "cell_type": "code",
   "execution_count": 286,
   "id": "e7998e91-4099-4dfc-bea4-c450b4e710e4",
   "metadata": {},
   "outputs": [
    {
     "data": {
      "text/plain": [
       "dict_keys"
      ]
     },
     "execution_count": 286,
     "metadata": {},
     "output_type": "execute_result"
    }
   ],
   "source": [
    "type(dict_3.keys())"
   ]
  },
  {
   "cell_type": "code",
   "execution_count": 287,
   "id": "7b7bf42a-5a5c-4015-861d-0801ae6c5c2f",
   "metadata": {},
   "outputs": [
    {
     "data": {
      "text/plain": [
       "['one', 'two', 'four']"
      ]
     },
     "execution_count": 287,
     "metadata": {},
     "output_type": "execute_result"
    }
   ],
   "source": [
    "list(dict_3.keys())"
   ]
  },
  {
   "cell_type": "code",
   "execution_count": 288,
   "id": "96ce2310-421b-4bbf-b6db-d51a0cdccc1b",
   "metadata": {},
   "outputs": [],
   "source": [
    "sets = {1,2,3,4,5}"
   ]
  },
  {
   "cell_type": "code",
   "execution_count": 289,
   "id": "2a6cae04-2f74-4399-90f6-05494fd4344d",
   "metadata": {},
   "outputs": [
    {
     "data": {
      "text/plain": [
       "set"
      ]
     },
     "execution_count": 289,
     "metadata": {},
     "output_type": "execute_result"
    }
   ],
   "source": [
    "type(sets)"
   ]
  },
  {
   "cell_type": "code",
   "execution_count": 291,
   "id": "da7703d0-dcad-4508-a711-60f29f2d2c4c",
   "metadata": {},
   "outputs": [],
   "source": [
    "sets = {11,22,33,44,55,11,11,11}"
   ]
  },
  {
   "cell_type": "code",
   "execution_count": 293,
   "id": "aa8d74d7-e4a2-46df-96d0-5c4a42baf322",
   "metadata": {},
   "outputs": [
    {
     "data": {
      "text/plain": [
       "{11, 22, 33, 44, 55}"
      ]
     },
     "execution_count": 293,
     "metadata": {},
     "output_type": "execute_result"
    }
   ],
   "source": [
    "sets"
   ]
  },
  {
   "cell_type": "markdown",
   "id": "321721f3-5887-4b85-a971-54f28cdd98f4",
   "metadata": {},
   "source": [
    "# 추가 학습\n",
    "- set : 변경 가능한 집합\n",
    "- frozenset : 변경 불가능한 집합\n",
    "- 집합의 원소는 hashable 이고 변경 불가능한 자료형만 집합의 원소로 사용될 수 있다. "
   ]
  },
  {
   "cell_type": "code",
   "execution_count": 295,
   "id": "10ba22c0-9635-429d-9ec4-4ea85bc5196e",
   "metadata": {},
   "outputs": [],
   "source": [
    "# 4시 30분 착석"
   ]
  },
  {
   "cell_type": "code",
   "execution_count": null,
   "id": "25027861-750c-4154-8123-d4600f3b7cf4",
   "metadata": {},
   "outputs": [],
   "source": []
  }
 ],
 "metadata": {
  "kernelspec": {
   "display_name": "Python 3 (ipykernel)",
   "language": "python",
   "name": "python3"
  },
  "language_info": {
   "codemirror_mode": {
    "name": "ipython",
    "version": 3
   },
   "file_extension": ".py",
   "mimetype": "text/x-python",
   "name": "python",
   "nbconvert_exporter": "python",
   "pygments_lexer": "ipython3",
   "version": "3.11.7"
  }
 },
 "nbformat": 4,
 "nbformat_minor": 5
}
