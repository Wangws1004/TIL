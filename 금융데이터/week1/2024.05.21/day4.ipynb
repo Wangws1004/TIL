{
 "cells": [
  {
   "cell_type": "markdown",
   "id": "7a1f6111-4af3-4a5e-9547-079077e94cb3",
   "metadata": {},
   "source": [
    "# list comprehension\n",
    "- 리스트 내부에 조건식을 넣을수 있다.\n",
    "```python\n",
    "list_name = [<결과> for i in (list)]\n",
    "list_name = [<결과> for i in (list) if <condition>]\n",
    "```"
   ]
  },
  {
   "cell_type": "code",
   "execution_count": 2,
   "id": "04ae6062-45ab-4d63-b983-8df12a0918fe",
   "metadata": {},
   "outputs": [],
   "source": [
    "list_1 = [2,3,4,5,6,7]"
   ]
  },
  {
   "cell_type": "code",
   "execution_count": 3,
   "id": "03ec57eb-666a-4312-9355-c2026f262dba",
   "metadata": {},
   "outputs": [],
   "source": [
    "list_2 = []\n",
    "for i in list_1:\n",
    "    result = i + 1 # 연산 \n",
    "    list_2.append(result) #결과 추가 "
   ]
  },
  {
   "cell_type": "code",
   "execution_count": 4,
   "id": "511b6a8b-5363-41d6-a60c-b83021c98819",
   "metadata": {},
   "outputs": [
    {
     "data": {
      "text/plain": [
       "[3, 4, 5, 6, 7, 8]"
      ]
     },
     "execution_count": 4,
     "metadata": {},
     "output_type": "execute_result"
    }
   ],
   "source": [
    "list_2"
   ]
  },
  {
   "cell_type": "code",
   "execution_count": 5,
   "id": "3be513a9-fc59-4af5-a699-0e5caa86fbe3",
   "metadata": {},
   "outputs": [],
   "source": [
    "list_3 = [i + 1 for i in list_1]"
   ]
  },
  {
   "cell_type": "code",
   "execution_count": 6,
   "id": "5c1ec379-21bc-42df-9d4c-a1c9e4fa1a20",
   "metadata": {},
   "outputs": [
    {
     "data": {
      "text/plain": [
       "[3, 4, 5, 6, 7, 8]"
      ]
     },
     "execution_count": 6,
     "metadata": {},
     "output_type": "execute_result"
    }
   ],
   "source": [
    "list_3"
   ]
  },
  {
   "cell_type": "code",
   "execution_count": 7,
   "id": "b9ede6c3-7b6b-45f7-991f-205dfdc33288",
   "metadata": {},
   "outputs": [],
   "source": [
    "list_4 = [i for i in range(1,10) if i%2==0]"
   ]
  },
  {
   "cell_type": "code",
   "execution_count": 8,
   "id": "629d3776-6656-4098-8ed4-dc1e47a2b257",
   "metadata": {},
   "outputs": [
    {
     "data": {
      "text/plain": [
       "[2, 4, 6, 8]"
      ]
     },
     "execution_count": 8,
     "metadata": {},
     "output_type": "execute_result"
    }
   ],
   "source": [
    "list_4"
   ]
  },
  {
   "cell_type": "code",
   "execution_count": 10,
   "id": "bb936be0-c654-468d-8a73-2366e8a98b01",
   "metadata": {},
   "outputs": [
    {
     "name": "stdout",
     "output_type": "stream",
     "text": [
      "1 번째 90학생 축하 합니다.\n",
      "hello\n",
      "3 번째 67학생 축하 합니다.\n",
      "hello\n",
      "5 번째 80학생 축하 합니다.\n"
     ]
    }
   ],
   "source": [
    "# continue \n",
    "# 강제로 loop 을 돌게 만들고, 조건은(i) 그대로 이어 받는다.\n",
    "marks = [90, 25, 67, 45, 80]\n",
    "number = 0 \n",
    "for mark in marks:\n",
    "    number += 1\n",
    "    if mark < 60:\n",
    "        print(\"hello\")\n",
    "    else:\n",
    "        print(f\"{number} 번째 {mark}학생 축하 합니다.\")"
   ]
  },
  {
   "cell_type": "code",
   "execution_count": 11,
   "id": "17bc1271-512c-4427-8537-6e8d99d9f23b",
   "metadata": {},
   "outputs": [
    {
     "name": "stdout",
     "output_type": "stream",
     "text": [
      "1 번째 90학생 축하 합니다.\n",
      "3 번째 67학생 축하 합니다.\n",
      "5 번째 80학생 축하 합니다.\n"
     ]
    }
   ],
   "source": [
    "# continue \n",
    "# 강제로 loop 을 돌게 만들고, 조건은(i) 그대로 이어 받는다.\n",
    "marks = [90, 25, 67, 45, 80]\n",
    "number = 0 \n",
    "for mark in marks:\n",
    "    number += 1\n",
    "    if mark < 60:\n",
    "        continue\n",
    "        print(\"hello\")\n",
    "    else:\n",
    "        print(f\"{number} 번째 {mark}학생 축하 합니다.\")"
   ]
  },
  {
   "cell_type": "code",
   "execution_count": 13,
   "id": "b5716bad-b806-4010-84c0-8f26bdbf16d0",
   "metadata": {},
   "outputs": [
    {
     "name": "stdout",
     "output_type": "stream",
     "text": [
      "1 번째 90학생 축하 합니다.\n"
     ]
    }
   ],
   "source": [
    "# break \n",
    "# loop 를 강제로 정지 시킨다. \n",
    "marks = [90, 25, 67, 45, 80]\n",
    "number = 0 \n",
    "for mark in marks:\n",
    "    number += 1\n",
    "    if mark < 60:\n",
    "        break\n",
    "        print(\"hello\")\n",
    "    else:\n",
    "        print(f\"{number} 번째 {mark}학생 축하 합니다.\")"
   ]
  },
  {
   "cell_type": "code",
   "execution_count": 15,
   "id": "22a67286-5691-44f6-8c49-bb32ef1b66cb",
   "metadata": {},
   "outputs": [],
   "source": [
    "# pass 다음 문장을 수행한다. \n",
    "for i in range(19):\n",
    "    pass\n",
    "def func_1():\n",
    "    pass\n",
    "def func_2():\n",
    "    pass"
   ]
  },
  {
   "cell_type": "markdown",
   "id": "0a2a76cd-7655-46e1-8a59-c1ff49d9b993",
   "metadata": {},
   "source": [
    "- 변수명 season1 으로 지정하고, seasons = [\"봄\",\"여름\", \"가을\", \"겨울\"]\r\n",
    "- \"겨울\" 일 경우에만 \"아 겨울 진짜 추워 죽겠다\" 라고 출력되고\r\n",
    "- 나머지에 대해서는 \"현재 계절은 (나머지)가 아닙니다. 라고 작성해 보세요\r\n",
    "```\r\n",
    "현재 계절은 봄이 아닙니다.\r\n",
    "현재 계절은 여름이 아닙니다.\r\n",
    "현재 계절은 가을이 아닙니다.\r\n",
    "아 겨울 진짜 추워 죽겠다\r\n",
    "```"
   ]
  },
  {
   "cell_type": "code",
   "execution_count": 17,
   "id": "eafdf66d-2f88-434c-9999-4b893dc4794b",
   "metadata": {},
   "outputs": [
    {
     "name": "stdout",
     "output_type": "stream",
     "text": [
      "현재 계절은 봄이 아닙니다.\n",
      "현재 계절은 여름이 아닙니다.\n",
      "현재 계절은 가을이 아닙니다.\n",
      "겨울 너무 춥다\n"
     ]
    }
   ],
   "source": [
    "seasons = [\"봄\",\"여름\", \"가을\", \"겨울\"]\n",
    "for season1 in seasons:\n",
    "    if season1 == \"겨울\":\n",
    "        print(f\"{season1} 너무 춥다\")\n",
    "    else:\n",
    "        print(f\"현재 계절은 {season1}이 아닙니다.\")"
   ]
  },
  {
   "cell_type": "markdown",
   "id": "d0aa5e1d-d3ed-4081-9e9c-027bada5c3eb",
   "metadata": {},
   "source": [
    "# 반복문을 이용해서\r\n",
    "\n",
    "- 다음과 같이 출력되게 코딩해 보세요\r\n",
    "- ★ : ㅁ 한자\r\n",
    "```\r\n",
    "★★★★★\n",
    "\n",
    "> 참고 : 이스케이프 문자\r",
    "    \n",
    "- \\n : 개행    \r\n",
    "- \\t : 4칸 백    \r\n",
    "\r\n",
    "- __참고__ : print(end=) 를 찾(python docs)아보세요\r\n",
    "\r\n",
    "```\r\n",
    "```"
   ]
  },
  {
   "cell_type": "code",
   "execution_count": 18,
   "id": "22597e8c-e35e-4a1d-b998-8b7891dd7a02",
   "metadata": {},
   "outputs": [
    {
     "name": "stdout",
     "output_type": "stream",
     "text": [
      "hello\n",
      "world\n"
     ]
    }
   ],
   "source": [
    "print(\"hello\")\n",
    "print(\"world\")"
   ]
  },
  {
   "cell_type": "code",
   "execution_count": 19,
   "id": "53568f3b-e534-4710-b823-8507d51701e7",
   "metadata": {},
   "outputs": [
    {
     "name": "stdout",
     "output_type": "stream",
     "text": [
      "hello\n",
      "world\n"
     ]
    }
   ],
   "source": [
    "print(\"hello\", end=\"\\n\")\n",
    "print(\"world\")"
   ]
  },
  {
   "cell_type": "code",
   "execution_count": 20,
   "id": "a9794ccf-436f-4701-a922-fec152c67cb7",
   "metadata": {},
   "outputs": [
    {
     "name": "stdout",
     "output_type": "stream",
     "text": [
      "helloworld\n"
     ]
    }
   ],
   "source": [
    "print(\"hello\", end=\"\")\n",
    "print(\"world\")"
   ]
  },
  {
   "cell_type": "code",
   "execution_count": 22,
   "id": "83f11412-43b2-4542-94da-833ec731f32b",
   "metadata": {},
   "outputs": [
    {
     "name": "stdout",
     "output_type": "stream",
     "text": [
      "★★★★★"
     ]
    }
   ],
   "source": [
    "print(\"★\", end=\"\")\n",
    "print(\"★\", end=\"\")\n",
    "print(\"★\", end=\"\")\n",
    "print(\"★\", end=\"\")\n",
    "print(\"★\", end=\"\")"
   ]
  },
  {
   "cell_type": "code",
   "execution_count": 23,
   "id": "e0782215-c6d4-4cb4-be52-8ec26c4c92f9",
   "metadata": {},
   "outputs": [
    {
     "name": "stdout",
     "output_type": "stream",
     "text": [
      "★★★★★"
     ]
    }
   ],
   "source": [
    "for i in range(5):\n",
    "    print(\"★\", end=\"\")"
   ]
  },
  {
   "cell_type": "code",
   "execution_count": 24,
   "id": "85cedd1f-12a5-484c-91f9-d07fdb012db8",
   "metadata": {},
   "outputs": [
    {
     "name": "stdout",
     "output_type": "stream",
     "text": [
      "★★★★★"
     ]
    }
   ],
   "source": [
    "print(\"★★★★★\", end=\"\")"
   ]
  },
  {
   "cell_type": "markdown",
   "id": "059755bc-4a55-486b-a791-6625f11f2c0e",
   "metadata": {},
   "source": [
    "- 다음과 같이 출력되도록 작성해 보세요\r\n",
    "```\r\n",
    "★★★★★\r\n",
    "★★★★★\r\n",
    "★★★★★\r\n",
    "★★★★★\r\n",
    "`````\n",
    "```"
   ]
  },
  {
   "cell_type": "code",
   "execution_count": 26,
   "id": "95e99fa3-27b4-4687-a008-374fb8b85220",
   "metadata": {},
   "outputs": [
    {
     "name": "stdout",
     "output_type": "stream",
     "text": [
      "★★★★★\n",
      "★★★★★\n",
      "★★★★★\n",
      "★★★★★"
     ]
    }
   ],
   "source": [
    "for i in range(5):\n",
    "    print(\"★\", end=\"\")\n",
    "print(\"\")\n",
    "for i in range(5):\n",
    "    print(\"★\", end=\"\")\n",
    "print(\"\")\n",
    "for i in range(5):\n",
    "    print(\"★\", end=\"\")\n",
    "print(\"\")\n",
    "for i in range(5):\n",
    "    print(\"★\", end=\"\")"
   ]
  },
  {
   "cell_type": "code",
   "execution_count": 28,
   "id": "916efda7-ad77-4c2f-9215-6e654304a954",
   "metadata": {},
   "outputs": [
    {
     "name": "stdout",
     "output_type": "stream",
     "text": [
      "★★★★★\n",
      "★★★★★\n",
      "★★★★★\n",
      "★★★★★\n"
     ]
    }
   ],
   "source": [
    "for j in range(4):\n",
    "    for i in range(5):\n",
    "        print(\"★\", end=\"\")\n",
    "    print(\"\")"
   ]
  },
  {
   "cell_type": "code",
   "execution_count": 32,
   "id": "a4e32b86-b880-4fa0-aea8-4b9aad40cce8",
   "metadata": {},
   "outputs": [
    {
     "name": "stdout",
     "output_type": "stream",
     "text": [
      "★★★★★\n",
      "★★★★★\n",
      "★★★★★\n",
      "★★★★★\n"
     ]
    }
   ],
   "source": [
    "for j in range(4):\n",
    "    for i in range(5):\n",
    "        if i == 4: \n",
    "            print(\"★\")\n",
    "        else:\n",
    "            print(\"★\", end=\"\")"
   ]
  },
  {
   "cell_type": "code",
   "execution_count": 30,
   "id": "dc04eeda-e0ff-40c9-b74d-6b3bff65d698",
   "metadata": {},
   "outputs": [
    {
     "data": {
      "text/plain": [
       "0"
      ]
     },
     "execution_count": 30,
     "metadata": {},
     "output_type": "execute_result"
    }
   ],
   "source": [
    "4%4"
   ]
  },
  {
   "cell_type": "markdown",
   "id": "7ead677e-23b4-44d5-b6b3-7a1603dde2cb",
   "metadata": {},
   "source": [
    "```\r\n",
    "★\r\n",
    "★★\r\n",
    "★★★\r\n",
    "★★★★\r\n",
    "★★★★★\r\n",
    "```\r\n",
    "\r\n",
    "```\r\n",
    "★★★★★\r\n",
    "★★★★\r\n",
    "★★★\r\n",
    "★★\r\n",
    "★\r\n",
    "```\r\n",
    "\r\n",
    "```\r\n",
    "☆☆☆☆★\r\n",
    "☆☆☆★★\r\n",
    "☆☆★★★\r\n",
    "☆★★★★\r\n",
    "★★★★★\r\n",
    "```\r\n",
    "\r\n",
    "```\r\n",
    "    ★\r\n",
    "   ★★\r\n",
    "  ★★★\r\n",
    " ★★★★\r\n",
    "★★★★★\r\n",
    "```\r\n"
   ]
  },
  {
   "cell_type": "code",
   "execution_count": 38,
   "id": "3bc8b0d3-46eb-43ec-8c4f-b5a1440ea7ef",
   "metadata": {},
   "outputs": [
    {
     "name": "stdout",
     "output_type": "stream",
     "text": [
      "★\n",
      "★★\n",
      "★★★\n",
      "★★★★\n"
     ]
    }
   ],
   "source": [
    "print(\"★\"*1)\n",
    "print(\"★\"*2)\n",
    "print(\"★\"*3)\n",
    "print(\"★\"*4)"
   ]
  },
  {
   "cell_type": "code",
   "execution_count": 39,
   "id": "1281fc30-c422-4693-aad9-805e751b82fc",
   "metadata": {},
   "outputs": [
    {
     "name": "stdout",
     "output_type": "stream",
     "text": [
      "★\n",
      "★★\n",
      "★★★\n",
      "★★★★\n",
      "★★★★★\n"
     ]
    }
   ],
   "source": [
    "for i in range(1, 6):\n",
    "    print(\"★\"*i)"
   ]
  },
  {
   "cell_type": "code",
   "execution_count": 41,
   "id": "87cf19a5-6350-4787-8657-bab91f624abe",
   "metadata": {},
   "outputs": [
    {
     "name": "stdout",
     "output_type": "stream",
     "text": [
      "★\n",
      "★★\n",
      "★★★\n",
      "★★★★\n",
      "★★★★★\n"
     ]
    }
   ],
   "source": [
    "for i in range(1, 6):\n",
    "    for j in range(0, i):\n",
    "        print(\"★\", end=\"\")\n",
    "    print(\"\")"
   ]
  },
  {
   "cell_type": "code",
   "execution_count": 45,
   "id": "0d6a7f7b-c717-47d6-b997-6f259c3cb7d3",
   "metadata": {},
   "outputs": [
    {
     "data": {
      "text/plain": [
       "[5, 4, 3, 2, 1]"
      ]
     },
     "execution_count": 45,
     "metadata": {},
     "output_type": "execute_result"
    }
   ],
   "source": [
    "list(range(5, 0, -1))"
   ]
  },
  {
   "cell_type": "code",
   "execution_count": 46,
   "id": "352f980b-e032-43a5-8b1a-dd914994adab",
   "metadata": {},
   "outputs": [
    {
     "name": "stdout",
     "output_type": "stream",
     "text": [
      "★★★★★\n",
      "★★★★\n",
      "★★★\n",
      "★★\n",
      "★\n"
     ]
    }
   ],
   "source": [
    "for i in range(5, 0, -1):\n",
    "    print(\"★\"*i)"
   ]
  },
  {
   "cell_type": "code",
   "execution_count": 48,
   "id": "76a790c8-4b0f-4240-8eac-527bc9dd0fed",
   "metadata": {},
   "outputs": [
    {
     "name": "stdout",
     "output_type": "stream",
     "text": [
      "☆☆☆☆★\n",
      "☆☆☆★★\n",
      "☆☆★★★\n",
      "☆★★★★\n"
     ]
    }
   ],
   "source": [
    "print(\"☆\"*4 + \"★\"*1)\n",
    "print(\"☆\"*3 + \"★\"*2)\n",
    "print(\"☆\"*2 + \"★\"*3)\n",
    "print(\"☆\"*1 + \"★\"*4)"
   ]
  },
  {
   "cell_type": "code",
   "execution_count": 50,
   "id": "58cc6f5b-b1e0-4666-8048-e7000971d622",
   "metadata": {},
   "outputs": [
    {
     "name": "stdout",
     "output_type": "stream",
     "text": [
      "☆☆☆☆★\n",
      "☆☆☆★★\n",
      "☆☆★★★\n",
      "☆★★★★\n",
      "★★★★★\n"
     ]
    }
   ],
   "source": [
    "for i in range(1, 6):\n",
    "    print(\"☆\"*(5-i) + \"★\"*i)"
   ]
  },
  {
   "cell_type": "code",
   "execution_count": 56,
   "id": "aef401ec-8459-4d0d-a4a5-f1892584d788",
   "metadata": {},
   "outputs": [
    {
     "name": "stdout",
     "output_type": "stream",
     "text": [
      "☆☆☆☆★\n",
      "☆☆☆★★\n",
      "☆☆★★★\n",
      "☆★★★★\n",
      "★★★★★\n"
     ]
    }
   ],
   "source": [
    "for i in range(1, 6):\n",
    "    for j in range(5-i):\n",
    "        print(\"☆\", end=\"\")\n",
    "    for j in range(i):\n",
    "        print(\"★\", end=\"\")        \n",
    "    print(\"\")"
   ]
  },
  {
   "cell_type": "code",
   "execution_count": 57,
   "id": "cfe8271a-87e5-4eb9-b40c-38276279496a",
   "metadata": {},
   "outputs": [
    {
     "name": "stdout",
     "output_type": "stream",
     "text": [
      "    ★\n",
      "   ★★\n",
      "  ★★★\n",
      " ★★★★\n"
     ]
    }
   ],
   "source": [
    "print(\" \"*4 + \"★\"*1)\n",
    "print(\" \"*3 + \"★\"*2)\n",
    "print(\" \"*2 + \"★\"*3)\n",
    "print(\" \"*1 + \"★\"*4)"
   ]
  },
  {
   "cell_type": "code",
   "execution_count": 62,
   "id": "d6deeffb-c2c2-4f26-bc48-559e0d51b343",
   "metadata": {},
   "outputs": [
    {
     "name": "stdout",
     "output_type": "stream",
     "text": [
      "    ★\n",
      "   ★★\n",
      "  ★★★\n"
     ]
    }
   ],
   "source": [
    "# 오른쪽 정렬 \n",
    "print(\"{:>5}\".format(\"★\"))\n",
    "print(\"{:>5}\".format(\"★★\"))\n",
    "print(\"{:>5}\".format(\"★★★\"))"
   ]
  },
  {
   "cell_type": "code",
   "execution_count": 64,
   "id": "02505ebc-2ad4-41d8-96cc-d357707bbbfd",
   "metadata": {},
   "outputs": [
    {
     "name": "stdout",
     "output_type": "stream",
     "text": [
      "    ★\n",
      "   ★★\n",
      "  ★★★\n",
      " ★★★★\n",
      "★★★★★\n"
     ]
    }
   ],
   "source": [
    "for i in range(1, 6):\n",
    "    print(\"{:>5}\".format(\"★\"*i))"
   ]
  },
  {
   "cell_type": "code",
   "execution_count": 65,
   "id": "d7104e33-61bf-4fdd-8991-0f16e89ab0e4",
   "metadata": {},
   "outputs": [
    {
     "name": "stdout",
     "output_type": "stream",
     "text": [
      "  ★  \n",
      " ★★  \n",
      " ★★★ \n",
      "★★★★ \n",
      "★★★★★\n"
     ]
    }
   ],
   "source": [
    "# 가운데 정렬 \n",
    "for i in range(1, 6):\n",
    "    print(\"{:^5}\".format(\"★\"*i))"
   ]
  },
  {
   "cell_type": "code",
   "execution_count": 67,
   "id": "45ba7fd2-5161-41ee-8f8b-37d8d3c8b3c1",
   "metadata": {},
   "outputs": [
    {
     "name": "stdout",
     "output_type": "stream",
     "text": [
      "    ★\n",
      "   ★★\n",
      "  ★★★\n",
      " ★★★★\n",
      "★★★★★\n"
     ]
    }
   ],
   "source": [
    "for i in range(1, 6):\n",
    "    print(f\"{'★'*i:>5}\")"
   ]
  },
  {
   "cell_type": "code",
   "execution_count": 68,
   "id": "835ab736-05c7-40d6-9463-9a6c96051c45",
   "metadata": {},
   "outputs": [
    {
     "name": "stdout",
     "output_type": "stream",
     "text": [
      "  ★  \n",
      " ★★  \n",
      " ★★★ \n",
      "★★★★ \n",
      "★★★★★\n"
     ]
    }
   ],
   "source": [
    "for i in range(1, 6):\n",
    "    print(f\"{'★'*i:^5}\")"
   ]
  },
  {
   "cell_type": "markdown",
   "id": "6a34ba5a-80bf-4eee-a411-84e8efe64bb9",
   "metadata": {},
   "source": [
    "# while \n",
    "```python\n",
    "while <condition>:\n",
    "    <문장1>\n",
    "    <문장2>\n",
    "else:\n",
    "    <문장3>\n",
    "```"
   ]
  },
  {
   "cell_type": "code",
   "execution_count": 2,
   "id": "174e369e-bbdc-46d3-bcb5-087b6df01aaa",
   "metadata": {},
   "outputs": [
    {
     "name": "stdout",
     "output_type": "stream",
     "text": [
      "world\n",
      "world\n"
     ]
    }
   ],
   "source": [
    "while False:\n",
    "    print(\"hello\")\n",
    "else:\n",
    "    print(\"world\")\n",
    "print(\"world\")"
   ]
  },
  {
   "cell_type": "code",
   "execution_count": 3,
   "id": "32888f02-301e-461c-8404-9ed91e001ace",
   "metadata": {},
   "outputs": [
    {
     "name": "stdout",
     "output_type": "stream",
     "text": [
      "1\n",
      "2\n",
      "3\n",
      "4\n",
      "5\n",
      "6\n",
      "7\n",
      "8\n",
      "9\n"
     ]
    }
   ],
   "source": [
    "i = 1\n",
    "while i < 10:\n",
    "    print(i)\n",
    "    i += 1"
   ]
  },
  {
   "cell_type": "code",
   "execution_count": 4,
   "id": "b9b3be6d-57a3-4088-ae02-92d8e204f7ad",
   "metadata": {},
   "outputs": [],
   "source": [
    "# while 문과 for 문의 차이점\n",
    "# 마동석\n",
    "# 딱 10대만 맞자 : for 문\n",
    "# while : 맞다가 아프면 벨눌러 : while 문"
   ]
  },
  {
   "cell_type": "code",
   "execution_count": 13,
   "id": "e6139e07-9fee-44ee-8c16-28b312ff55fe",
   "metadata": {},
   "outputs": [
    {
     "name": "stdout",
     "output_type": "stream",
     "text": [
      "1\n",
      "2\n",
      "3\n",
      "4\n",
      "5\n",
      "6\n",
      "7\n",
      "8\n",
      "9\n",
      "10\n",
      "55\n"
     ]
    }
   ],
   "source": [
    "# 1부터 10 까지 합을 구하시오\n",
    "acc_init = 0 # 덧셈을 받는다\n",
    "count_init =1 # count를 초기화\n",
    "while count_init < 11:\n",
    "    print(count_init)\n",
    "    acc_init = acc_init + count_init\n",
    "    count_init += 1\n",
    "print(acc_init) # 출력 55"
   ]
  },
  {
   "cell_type": "code",
   "execution_count": 14,
   "id": "42a42951-cbef-4644-92ae-ef30a79afec7",
   "metadata": {},
   "outputs": [],
   "source": [
    "while True:\n",
    "    break"
   ]
  },
  {
   "cell_type": "markdown",
   "id": "6366914b-35ac-4a06-bbb7-66b1be50f567",
   "metadata": {},
   "source": [
    "# up and down 게임을 만들어 보세요 1 부터 100 사이의 숫자를 랜덤으로 뽑아서 만들어 보세요\n",
    "```\n",
    "import ranom\n",
    "ran_num = random.randint(0,101)\n",
    "\n",
    "몇일까? 15\r\n",
    "숫자가 작습니다.\r\n",
    "몇일까? 16\r\n",
    "숫자가 작습니다.\r\n",
    "몇일까? 17\r\n",
    "숫자가 작습니다.\r\n",
    "몇일까? 19\r\n",
    "숫자가 작습니다.\r\n",
    "몇일까? 25\r\n",
    "숫자가 작습니다.\r\n",
    "몇일까? 30\r\n",
    "숫자가 작습니다.\r\n",
    "몇일까? 80\r\n",
    "숫자가 작습니다.\r\n",
    "몇일까? 90\r\n",
    "숫자가 큽니다.\r\n",
    "몇일까? 85\r\n",
    "숫자가 큽니다.\r\n",
    "몇일까? 84\r\n",
    "숫자가 큽니다.\r\n",
    "몇일까? 83\r\n",
    "숫자가 큽니다.\r\n",
    "몇일까? 82\r\n",
    "숫자가 작습니다.\r\n",
    "정답 입니다.\n",
    "```"
   ]
  },
  {
   "cell_type": "code",
   "execution_count": 33,
   "id": "c3c1a3ca-3ed7-4756-af9c-617cc773c0cf",
   "metadata": {},
   "outputs": [],
   "source": [
    "import random\n",
    "ran_num = random.randint(0,101)\n",
    "\n",
    "# 방법1\n",
    "while True:\n",
    "    break\n",
    "    if True:\n",
    "        pass #< 숫자가 큰경우 >\n",
    "    elif True:\n",
    "        pass #< 숫자가 작은 경우>\n",
    "    else:\n",
    "        pass #< 숫자를 맞춘 경우>\n",
    "\n",
    "# 방법2\n",
    "while True: # 숫자를 틀린경우\n",
    "    break\n",
    "    if True:\n",
    "        pass #< 숫자가 큰경우 >\n",
    "    else:\n",
    "        pass #< 숫자가 작은 경우>\n",
    "else:\n",
    "    pass #< 숫자를 맞춘 경우>"
   ]
  },
  {
   "cell_type": "code",
   "execution_count": 31,
   "id": "ed2a8ff7-679d-4874-9f22-2537a23aee56",
   "metadata": {},
   "outputs": [
    {
     "data": {
      "text/plain": [
       "60"
      ]
     },
     "execution_count": 31,
     "metadata": {},
     "output_type": "execute_result"
    }
   ],
   "source": [
    "ran_num"
   ]
  },
  {
   "cell_type": "code",
   "execution_count": 40,
   "id": "2c4b896c-9025-4c8e-b7cf-280c6062b8f3",
   "metadata": {},
   "outputs": [
    {
     "name": "stdout",
     "output_type": "stream",
     "text": [
      "숫자가 작습니다\n"
     ]
    },
    {
     "name": "stdin",
     "output_type": "stream",
     "text": [
      "몇일까?  5\n"
     ]
    },
    {
     "name": "stdout",
     "output_type": "stream",
     "text": [
      "숫자가 작습니다\n"
     ]
    },
    {
     "name": "stdin",
     "output_type": "stream",
     "text": [
      "몇일까?  20\n"
     ]
    },
    {
     "name": "stdout",
     "output_type": "stream",
     "text": [
      "숫자가 큽니다\n"
     ]
    },
    {
     "name": "stdin",
     "output_type": "stream",
     "text": [
      "몇일까?  10\n"
     ]
    },
    {
     "name": "stdout",
     "output_type": "stream",
     "text": [
      "정답입니다.\n"
     ]
    }
   ],
   "source": [
    "# 방법2 \n",
    "import random\n",
    "# ran_num = random.randint(0,101)\n",
    "ran_num = 10\n",
    "user_input = int(input(\"몇일까? \"))\n",
    "while ran_num != user_input:\n",
    "    # user_input = int(input(\"몇일까? \")) # 2\n",
    "    if user_input > ran_num:\n",
    "        print(\"숫자가 큽니다\") # 3\n",
    "    else:\n",
    "        print(\"숫자가 작습니다\")# 4\n",
    "    user_input = int(input(\"몇일까? \"))\n",
    "else:\n",
    "    print(\"정답입니다.\")"
   ]
  },
  {
   "cell_type": "code",
   "execution_count": 41,
   "id": "249a5ad0-cc7c-41df-a663-d98549aa1934",
   "metadata": {},
   "outputs": [
    {
     "name": "stdin",
     "output_type": "stream",
     "text": [
      "몇일까?  30\n"
     ]
    },
    {
     "name": "stdout",
     "output_type": "stream",
     "text": [
      "숫자가 큽니다\n"
     ]
    },
    {
     "name": "stdin",
     "output_type": "stream",
     "text": [
      "몇일까?  20\n"
     ]
    },
    {
     "name": "stdout",
     "output_type": "stream",
     "text": [
      "숫자가 큽니다\n"
     ]
    },
    {
     "name": "stdin",
     "output_type": "stream",
     "text": [
      "몇일까?  8\n"
     ]
    },
    {
     "name": "stdout",
     "output_type": "stream",
     "text": [
      "숫자가 작습니다\n"
     ]
    },
    {
     "name": "stdin",
     "output_type": "stream",
     "text": [
      "몇일까?  10\n"
     ]
    },
    {
     "name": "stdout",
     "output_type": "stream",
     "text": [
      "정답입니다.\n",
      "정답입니다.\n"
     ]
    }
   ],
   "source": [
    "# 방법2 \n",
    "import random\n",
    "# ran_num = random.randint(0,101)\n",
    "ran_num = 10\n",
    "user_input = -1\n",
    "while ran_num != user_input:\n",
    "    user_input = int(input(\"몇일까? \")) # 2\n",
    "    if user_input > ran_num:\n",
    "        print(\"숫자가 큽니다\") # 3\n",
    "    elif user_input < ran_num:\n",
    "        print(\"숫자가 작습니다\")# 4\n",
    "    else:\n",
    "        print(\"숫자가 같습니다.\")\n",
    "else:\n",
    "    print(\"정답입니다.\")"
   ]
  },
  {
   "cell_type": "code",
   "execution_count": 44,
   "id": "9bc6e1d9-3049-4715-b5df-da73bd90e867",
   "metadata": {},
   "outputs": [
    {
     "name": "stdin",
     "output_type": "stream",
     "text": [
      "몇일까?  20\n"
     ]
    },
    {
     "name": "stdout",
     "output_type": "stream",
     "text": [
      "숫자가 작습니다\n"
     ]
    },
    {
     "name": "stdin",
     "output_type": "stream",
     "text": [
      "몇일까?  30\n"
     ]
    },
    {
     "name": "stdout",
     "output_type": "stream",
     "text": [
      "숫자가 큽니다\n"
     ]
    },
    {
     "name": "stdin",
     "output_type": "stream",
     "text": [
      "몇일까?  27\n"
     ]
    },
    {
     "name": "stdout",
     "output_type": "stream",
     "text": [
      "숫자가 작습니다\n"
     ]
    },
    {
     "name": "stdin",
     "output_type": "stream",
     "text": [
      "몇일까?  29\n"
     ]
    },
    {
     "name": "stdout",
     "output_type": "stream",
     "text": [
      "숫자가 큽니다\n"
     ]
    },
    {
     "name": "stdin",
     "output_type": "stream",
     "text": [
      "몇일까?  28\n"
     ]
    },
    {
     "name": "stdout",
     "output_type": "stream",
     "text": [
      "숫자가 같습니다.\n",
      "정답입니다.\n"
     ]
    }
   ],
   "source": [
    "# 방법2 \n",
    "import random\n",
    "ran_num = random.randint(0,101)\n",
    "\n",
    "while True:\n",
    "    user_input = int(input(\"몇일까? \")) # 2\n",
    "    if user_input > ran_num:\n",
    "        print(\"숫자가 큽니다\") # 3\n",
    "    elif user_input < ran_num:\n",
    "        print(\"숫자가 작습니다\")# 4\n",
    "    else:\n",
    "        print(\"숫자가 같습니다.\")\n",
    "        print(\"정답입니다.\")\n",
    "        break"
   ]
  },
  {
   "cell_type": "markdown",
   "id": "9a8bb58f-179a-48f6-8b11-81b3b189eef5",
   "metadata": {},
   "source": [
    "# 다음과 같은 자판기를 만들어 보세요\r\n",
    "```\r\n",
    "현금을 입력하세요 : 5000\r\n",
    "coke 1개 출력\r\n",
    "거스름돈 4000원 받으세요\r\n",
    "coke가 100개 남았습니다.\r\n",
    "```\r\n",
    "\r\n",
    "```\r\n",
    "coke = 101\r\n",
    "\r\n",
    "while True:\r\n",
    "  money = int(input(\"현금을 입력하세요 : \"))\r\n",
    "  if coke == 0:``\r\n",
    "    pass\r\n",
    "  if money >= 1000:\r\n",
    "    pass\r\n",
    "  else:\r\n",
    "    pass\r\n",
    "```"
   ]
  },
  {
   "cell_type": "code",
   "execution_count": 50,
   "id": "9729495d-7c04-45f8-bec1-49b881756e43",
   "metadata": {},
   "outputs": [
    {
     "name": "stdin",
     "output_type": "stream",
     "text": [
      "현금을 입력 하세요 :  6000\n"
     ]
    },
    {
     "name": "stdout",
     "output_type": "stream",
     "text": [
      "coke 1개 출력\n",
      "거스름돈 5000를 받으세요.\n",
      "coke 가 100개 남았습니다.\n"
     ]
    }
   ],
   "source": [
    "coke = 101\n",
    "\n",
    "while True:\n",
    "    money = int(input(\"현금을 입력 하세요 : \"))\n",
    "    if coke == 0:\n",
    "        print(\"재고 부족\")\n",
    "        print(\"판매 중지\")\n",
    "        print(f\"{money} 를 환불합니다.\")\n",
    "        break\n",
    "    elif money >= 1000:\n",
    "        print(\"coke 1개 출력\")\n",
    "        money  -= 1000\n",
    "        coke -= 1\n",
    "        print(f\"거스름돈 {money}를 받으세요.\")\n",
    "        print(f\"coke 가 {coke}개 남았습니다.\")\n",
    "        break\n",
    "    else:\n",
    "        print(\"돈이 부족합니다.\")\n",
    "        print(f\"coke 가 {coke}개 남았습니다.\")\n",
    "        break\n",
    "        "
   ]
  },
  {
   "cell_type": "markdown",
   "id": "6c8dd71a-f68c-4602-88dc-cd79afaa6a2b",
   "metadata": {},
   "source": [
    "# 과제\n",
    " 잔돈이 남아있는 경우 1 또는 0 으로 콜라를 더 뽑을지 물어보아라\r",
    "```\n",
    "현금을 입력하세요 : 6000\r\n",
    "콜라를 뽑으시겠습니까? 1 or  : 01\r\n",
    "coke 1개 출력\r\n",
    "거스름돈 5000를 남아 있습니다.\r\n",
    "coke가 96개 남았습니다.\r\n",
    "콜라를 뽑으시겠습니까? 1 :  or 01\r\n",
    "coke 1개 출력\r\n",
    "거스름돈 4000를 남아 있습니다.\r\n",
    "coke가 95개 남았습니다.\r\n",
    "콜라를 뽑으시겠습니 : 까? 1 or 01\r\n",
    "coke 1개 출력\r\n",
    "거스름돈 3000를 남아 있습니다.\r\n",
    "coke가 94개 남았습니다.\r\n",
    "콜라를 뽑으 : 시겠습니까? 1 or 01\r\n",
    "coke 1개 출력\r\n",
    "거스름돈 2000를 남아 있습니다.\r\n",
    "coke가 93개 남았습니다.\r\n",
    "콜라 : 를 뽑으시겠습니까? 1 or 01\r\n",
    "coke 1개 출력\r\n",
    "거스름돈 1000를 남아 있습니다.\r\n",
    "coke가 92개 남았습니다. : \r\n",
    "콜라를 뽑으시겠습니까? 1 or 01\r\n",
    "coke 1개 출력\r\n",
    "거스름돈 0를 남아 있습니다.\r\n",
    "coke가 91개 남았습니다.\r\n",
    "돈이 부족합니다.\r\n",
    "coke가 91개 남았습니다.\n",
    "```\n"
   ]
  },
  {
   "cell_type": "markdown",
   "id": "2cc865cd-2767-4488-8882-d12c7614c6bc",
   "metadata": {},
   "source": [
    "# 가위바위보 게임\r\n",
    "- 총 10게임\r\n",
    "- 다음과 같이 결과 출력되도록 만들어 보세요\r\n",
    "- 결과는 항상 달라야 합니다.\r\n",
    "- 단 잘못내는 경우는 패로 기록됨\r\n",
    "\r\n",
    "- 가위바위보를 항상 다르게 뽑는 방법은?\r\n",
    "  - 리스트에 10개를 넣어서 랜덤으로 뽑던가\r\n",
    "  - 랜덤으로 뽑아서 리스트에 \n",
    "1\r\n",
    "```\r\n",
    "가위,바위,보: 가위\r\n",
    "이겼다\r\n",
    "가위,바위,보: 가위\r\n",
    "비겼습니다.\r\n",
    "가위,바위,보: 보\r\n",
    "비겼습니다.\r\n",
    "가위,바위,보: 가위\r\n",
    "비겼습니다.\r\n",
    "가위,바위,보: 바위\r\n",
    "이겼다\r\n",
    "가위,바위,보: 보\r\n",
    "이겼다\r\n",
    "가위,바위,보: 가위\r\n",
    "이겼다\r\n",
    "가위,바위,보: 바위\r\n",
    "졌다\r\n",
    "가위,바위,보: 모\r\n",
    "잘못내셨습니다.\r\n",
    "가위,바위,보: 보\r\n",
    "비겼\n",
    "습니다.\r\n",
    "승:4\r\n",
    "패:2\r\n",
    "비김:4\r\n",
    "```0개를 넣던가\r\n"
   ]
  },
  {
   "cell_type": "markdown",
   "id": "8ac43b28-9087-4f4c-820c-b10620095f0d",
   "metadata": {},
   "source": [
    "- 힌트 : 도시는 리스트에 추가하세요\r\n",
    "- 힌트 : 도시를 추가하는 함수와 종료후 입력한 도시를 앞에 3글자만 출력하는 함수로 만드세요\r\n",
    "- 도시를 추가하여 도시의 앞글자 3개만 출력하는 코드를 작성하시오.\r\n",
    "\r\n",
    "\r\n",
    "```\r\n",
    "1. 도시를 추가\r\n",
    "2. 추가 완료\r\n",
    "3. 종료\r\n",
    "값을 입력하세요:  1\r\n",
    "도시를 영어로 입력하세요:  seoul\r\n",
    "\r\n",
    "1. 도시를 추가\r\n",
    "2. 추가 완료\r\n",
    "3. 종료\r\n",
    "값을 입력하세요:  1\r\n",
    "도시를 영어로 입력하세요:  busan\r\n",
    "\r\n",
    "1. 도시를 추가 -> 추가\r\n",
    "2. 추가 완료 -> 반환후 종료\r\n",
    "3. 종료 -> 그냥 종료\r\n",
    "값을 입력하세요:  2\r\n",
    "['seo', 'bus']\r\n",
    "종료\r\n",
    "```"
   ]
  },
  {
   "cell_type": "markdown",
   "id": "1258f45e-a478-4f06-8434-b8c03fc607ee",
   "metadata": {},
   "source": [
    "myoh0623@gmail.com 로 과제 제출 하세요\r\n",
    "(내일 아침 7시까지 될수있으면 21일 23시 전까지 보내주세요)\r\n",
    "ipynb 파일이나 py 파일을 보내지 마세요\r\n",
    "코드와 실행 결과를 캡쳐해서 보내주세요\r\n",
    "메일 보내시기 전에 이름을 확인\r\n",
    "메일 제목 : 새싹 : 파이썬 과제 제출(day4)\r\n",
    "안녕하세요 새싹 과정 수강하는 ~~ 입니다. \r\n",
    "과제 제출합니다. \r\n",
    "~~ 에 문제가 있어서 코드가 제대로 동작하지 않습니다. \r\n",
    "\r\n",
    "감사합니다. \r\n",
    "오민엽 드림. "
   ]
  }
 ],
 "metadata": {
  "kernelspec": {
   "display_name": "Python 3 (ipykernel)",
   "language": "python",
   "name": "python3"
  },
  "language_info": {
   "codemirror_mode": {
    "name": "ipython",
    "version": 3
   },
   "file_extension": ".py",
   "mimetype": "text/x-python",
   "name": "python",
   "nbconvert_exporter": "python",
   "pygments_lexer": "ipython3",
   "version": "3.11.7"
  }
 },
 "nbformat": 4,
 "nbformat_minor": 5
}
