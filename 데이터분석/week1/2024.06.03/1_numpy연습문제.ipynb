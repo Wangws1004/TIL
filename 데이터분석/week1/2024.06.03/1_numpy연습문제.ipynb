{
 "cells": [
  {
   "cell_type": "code",
   "execution_count": 1,
   "id": "2cce6001-6281-4677-99a6-7ec27eb94bd5",
   "metadata": {},
   "outputs": [
    {
     "data": {
      "text/plain": [
       "'1.26.4'"
      ]
     },
     "execution_count": 1,
     "metadata": {},
     "output_type": "execute_result"
    }
   ],
   "source": [
    "# 1. numpy 버전\n",
    "import numpy as np\n",
    "np.__version__"
   ]
  },
  {
   "cell_type": "code",
   "execution_count": null,
   "id": "5356f1a9-2d74-41ae-8e69-e637556c07fc",
   "metadata": {},
   "outputs": [],
   "source": [
    "# 2. 크기 10, 1차원, 원소 0 \n",
    "# 2-1\n",
    "a = np.array([0,0,0,0,0,0,0,0,0,0])\n",
    "print(a)\n",
    "print(a.shape)"
   ]
  },
  {
   "cell_type": "code",
   "execution_count": null,
   "id": "8a597a29-8d11-44ac-b4f7-e9ba3ed6e329",
   "metadata": {},
   "outputs": [],
   "source": [
    "# 2-2 \n",
    "b = np.zeros(10)\n",
    "print(b)\n",
    "print(b.shape)"
   ]
  },
  {
   "cell_type": "code",
   "execution_count": null,
   "id": "430c25da-0cb2-43ac-b2be-2200b0aef13b",
   "metadata": {},
   "outputs": [],
   "source": [
    "print(type(a))\n",
    "print(type(b))"
   ]
  },
  {
   "cell_type": "code",
   "execution_count": null,
   "id": "f3250776-2c14-470b-bdf3-7c658c2d9a7f",
   "metadata": {},
   "outputs": [],
   "source": [
    "c = np.zeros_like(b)"
   ]
  },
  {
   "cell_type": "code",
   "execution_count": null,
   "id": "1d06c421-07a2-4a48-9a9b-622efd9a5129",
   "metadata": {},
   "outputs": [],
   "source": [
    "print(type(c))"
   ]
  },
  {
   "cell_type": "code",
   "execution_count": null,
   "id": "e0ac3ff3-2129-4d83-a1e7-7057bbd05f90",
   "metadata": {},
   "outputs": [],
   "source": [
    "d = np.full(10, 0)"
   ]
  },
  {
   "cell_type": "code",
   "execution_count": null,
   "id": "2c56c129-2465-42e3-b96b-a33298766f0c",
   "metadata": {},
   "outputs": [],
   "source": [
    "print(type(d))"
   ]
  },
  {
   "cell_type": "code",
   "execution_count": null,
   "id": "d16c5f24-09f5-4064-8433-4fe854e488f6",
   "metadata": {},
   "outputs": [],
   "source": [
    "# 11.3\n",
    "n_arr = np.arange(1,11)"
   ]
  },
  {
   "cell_type": "code",
   "execution_count": null,
   "id": "554d38c1-fc49-46dc-8841-4ac713b94036",
   "metadata": {},
   "outputs": [],
   "source": [
    "n_arr.dtype"
   ]
  },
  {
   "cell_type": "code",
   "execution_count": null,
   "id": "28c8692b-4429-4d53-b0e1-164d7c308a5c",
   "metadata": {
    "scrolled": true
   },
   "outputs": [],
   "source": [
    "n_arr.itemsize # element의 byte 크기, 1byte 는 8bit "
   ]
  },
  {
   "cell_type": "code",
   "execution_count": null,
   "id": "8940b627-fe2d-45ff-9464-1c9528b1d2a6",
   "metadata": {},
   "outputs": [],
   "source": [
    "n_arr.size # element의 갯수"
   ]
  },
  {
   "cell_type": "code",
   "execution_count": null,
   "id": "d78c7a72-779a-4e7b-8d3b-dbf8c14456fd",
   "metadata": {},
   "outputs": [],
   "source": [
    "n_arr.size * n_arr.itemsize # 크기 40 byte"
   ]
  },
  {
   "cell_type": "code",
   "execution_count": null,
   "id": "fefdaa2d-9751-4c63-8f53-e923473d32ac",
   "metadata": {},
   "outputs": [],
   "source": [
    "# 11.3-2 dtype 변경\n",
    "n_arr = np.arange(1,11).astype(\"int64\")"
   ]
  },
  {
   "cell_type": "code",
   "execution_count": null,
   "id": "034445ee-de21-40f0-967f-bab7fd1f3342",
   "metadata": {},
   "outputs": [],
   "source": [
    "n_arr.dtype"
   ]
  },
  {
   "cell_type": "code",
   "execution_count": null,
   "id": "5ba1b952-3d38-4399-bfd6-4cdaf2f3825b",
   "metadata": {},
   "outputs": [],
   "source": [
    "n_arr.size * n_arr.itemsize "
   ]
  },
  {
   "cell_type": "code",
   "execution_count": null,
   "id": "c0d55067-10cb-4875-8721-3a234242030c",
   "metadata": {},
   "outputs": [],
   "source": [
    "import sys"
   ]
  },
  {
   "cell_type": "code",
   "execution_count": null,
   "id": "c649b382-e473-4411-867c-432c3f917575",
   "metadata": {},
   "outputs": [],
   "source": [
    "sys.a.min()a.min()(1)"
   ]
  },
  {
   "cell_type": "code",
   "execution_count": null,
   "id": "c6557430-38c1-4750-b45b-e2281179d8dc",
   "metadata": {},
   "outputs": [],
   "source": [
    "# 11.4 1부터 10까지 \n",
    "a = np.arange(1,11)\n",
    "print(a)"
   ]
  },
  {
   "cell_type": "code",
   "execution_count": null,
   "id": "d15c48fb-571c-4805-aecb-c3d2e2faef40",
   "metadata": {},
   "outputs": [],
   "source": [
    "a[::-1] #[start, end, step]"
   ]
  },
  {
   "cell_type": "code",
   "execution_count": null,
   "id": "6b7895d5-9657-48b7-b895-19ef59394230",
   "metadata": {},
   "outputs": [],
   "source": [
    "np.arange(10, 0, -1)"
   ]
  },
  {
   "cell_type": "code",
   "execution_count": null,
   "id": "d287a441-ae1f-4706-b7df-27358713003c",
   "metadata": {},
   "outputs": [],
   "source": [
    "b = a[::-1].copy()"
   ]
  },
  {
   "cell_type": "code",
   "execution_count": null,
   "id": "93c7cc63-4b3c-49e5-b9fb-ed50514c2079",
   "metadata": {},
   "outputs": [],
   "source": [
    "b.reshape(2,5)"
   ]
  },
  {
   "cell_type": "code",
   "execution_count": null,
   "id": "aba67a3f-b4fd-4dc2-97f8-29dea0d0a299",
   "metadata": {},
   "outputs": [],
   "source": [
    "c = b.reshape(2,5).copy()"
   ]
  },
  {
   "cell_type": "code",
   "execution_count": null,
   "id": "69c099fe-d01e-4fb4-b8fd-4c59b2d0a09d",
   "metadata": {},
   "outputs": [],
   "source": [
    "c.reshape(5,2)"
   ]
  },
  {
   "cell_type": "code",
   "execution_count": null,
   "id": "29ed85b5-e027-4207-9951-bb4278fb11f0",
   "metadata": {},
   "outputs": [],
   "source": [
    "# 1~16 -> 4x4 배열 \n",
    "np.arange(1,17).reshape(4,4)"
   ]
  },
  {
   "cell_type": "code",
   "execution_count": null,
   "id": "67bed2c4-c51a-4801-ba6a-8be1c0a99ec6",
   "metadata": {},
   "outputs": [],
   "source": [
    "# np.arange?"
   ]
  },
  {
   "cell_type": "code",
   "execution_count": null,
   "id": "6707c3c8-f48b-411f-bad8-6ba582717560",
   "metadata": {},
   "outputs": [],
   "source": [
    "# 참고 \n",
    "# 난수 생성 알고리즘 -> seed 를 고정하여 난수생성 알고리즘을 실행하면 -> 항상 같은 난수가 생성된다.\n",
    "np.random.seed(1234)"
   ]
  },
  {
   "cell_type": "code",
   "execution_count": null,
   "id": "7cbe64f6-b6a6-4c7c-b621-6e6ef26e03f1",
   "metadata": {},
   "outputs": [],
   "source": [
    "a = np.random.random(10)"
   ]
  },
  {
   "cell_type": "code",
   "execution_count": null,
   "id": "8232125d-aa22-4cc9-97a2-c5ba529e83d9",
   "metadata": {},
   "outputs": [],
   "source": [
    "a"
   ]
  },
  {
   "cell_type": "code",
   "execution_count": null,
   "id": "b3f1082c-0b67-4014-bccb-885fb4539db3",
   "metadata": {},
   "outputs": [],
   "source": [
    "a.min()"
   ]
  },
  {
   "cell_type": "code",
   "execution_count": null,
   "id": "a8333cd1-0e46-4edd-90d7-953a4c5574f6",
   "metadata": {},
   "outputs": [],
   "source": [
    "a.max()"
   ]
  },
  {
   "cell_type": "code",
   "execution_count": null,
   "id": "8addfb9c-8446-4289-8d0a-ac1f83cfd932",
   "metadata": {},
   "outputs": [],
   "source": [
    "a.mean()"
   ]
  },
  {
   "cell_type": "code",
   "execution_count": null,
   "id": "008efc21-d084-4d98-a852-5c1e9b4d53f5",
   "metadata": {},
   "outputs": [],
   "source": [
    "n = int(input(\"n : \"))\n",
    "arr_1 = np.full((n,n),0)\n",
    "for i in range(n):\n",
    "    for j in range(n):\n",
    "        if (i+j)%2 == 0:\n",
    "            arr_1[i,j] = 1\n",
    "print(arr_1)"
   ]
  },
  {
   "cell_type": "code",
   "execution_count": null,
   "id": "8f1f2ca5-6819-45a4-9882-f082f4e4bf32",
   "metadata": {},
   "outputs": [],
   "source": [
    "arr_1 = np.full((4,4,),0)\n",
    "arr_1"
   ]
  },
  {
   "cell_type": "code",
   "execution_count": null,
   "id": "a61e91a4-ce77-4813-8915-382e6eed5226",
   "metadata": {},
   "outputs": [],
   "source": [
    "arr_1[0,0] = 1"
   ]
  },
  {
   "cell_type": "code",
   "execution_count": null,
   "id": "abd6cc89-82b6-41eb-93a9-6cfa9dbe2177",
   "metadata": {},
   "outputs": [],
   "source": [
    "arr_1"
   ]
  },
  {
   "cell_type": "code",
   "execution_count": null,
   "id": "db20b831-52c9-4dd5-8488-19975bcf9b44",
   "metadata": {},
   "outputs": [],
   "source": [
    "n = int(input(\"n : \"))\n",
    "arr_1 = np.full((n,n),0)\n",
    "for i in range(n):\n",
    "    arr_1[i,i] = i+1\n",
    "print(arr_1)"
   ]
  },
  {
   "cell_type": "code",
   "execution_count": null,
   "id": "f9a2fe63-8cb3-4fa1-9924-49495639eb64",
   "metadata": {},
   "outputs": [],
   "source": [
    "n = int(input(\"n : \"))\n",
    "a = np.full((n,n),1)\n",
    "b = a.copy()\n",
    "b[1:-1, 1:-1] =0\n",
    "print(a)\n",
    "print(b)"
   ]
  },
  {
   "cell_type": "code",
   "execution_count": null,
   "id": "435922fd-d56e-4408-97ff-3e488af8f017",
   "metadata": {},
   "outputs": [],
   "source": [
    "n = int(input(\"n : \"))\n",
    "a = np.full((n,n),1)\n",
    "b = a.copy()\n",
    "# b[[0,-1], :] = 0\n",
    "# b[:, [0,-1]] = 0\n",
    "b[[0,-1], :] = b[:, [0,-1]] = 0\n",
    "print(b)"
   ]
  },
  {
   "cell_type": "code",
   "execution_count": null,
   "id": "de962fa2-53e7-4d2f-bd3e-5a8b99362265",
   "metadata": {},
   "outputs": [],
   "source": [
    "a = np.arange(0,81,10)\n",
    "b = np.arange(0,21,20)"
   ]
  },
  {
   "cell_type": "code",
   "execution_count": null,
   "id": "5503d3e8-da33-48ff-9209-795617a1af11",
   "metadata": {},
   "outputs": [],
   "source": [
    "bool_arr = np.full(a.shape, True)\n",
    "for idx, i in enumerate(a):\n",
    "    if i not in b:\n",
    "        bool_arr[idx] = False\n",
    "print(bool_arr)"
   ]
  },
  {
   "cell_type": "code",
   "execution_count": null,
   "id": "0be5bad5-8fb1-410f-abec-8ac618f487b0",
   "metadata": {},
   "outputs": [],
   "source": [
    "bool_arr = np.full(a.shape, False)\n",
    "for idx, i in enumerate(a):\n",
    "    if i in b:\n",
    "        bool_arr[idx] = True\n",
    "print(bool_arr)"
   ]
  },
  {
   "cell_type": "code",
   "execution_count": null,
   "id": "b217dd43-d88a-42c1-9e85-bd024623eaab",
   "metadata": {},
   "outputs": [],
   "source": [
    "from collections import Counter\n",
    "arr_1 = np.array([[80, 120, 40], [60, 80, 120], [40, 40, 40]])\n",
    "Counter(arr_1.flatten())"
   ]
  },
  {
   "cell_type": "code",
   "execution_count": null,
   "id": "219e7c48-152d-4e53-8b7a-f01fbfb7a446",
   "metadata": {},
   "outputs": [],
   "source": [
    "dic_count = dict()\n",
    "for j in arr_1:\n",
    "    for i in j:\n",
    "        if i in dic_count:\n",
    "            dic_count[i] += 1\n",
    "        else:\n",
    "            dic_count[i] = 1"
   ]
  },
  {
   "cell_type": "code",
   "execution_count": null,
   "id": "2285e5ea-78a7-427c-a3d2-c8d215b563f8",
   "metadata": {},
   "outputs": [],
   "source": [
    "dic_count"
   ]
  },
  {
   "cell_type": "code",
   "execution_count": null,
   "id": "18e1b6bf-8524-4f65-9c0c-dcbc3a364f11",
   "metadata": {},
   "outputs": [],
   "source": [
    "dic_count = dict()\n",
    "arr_2 = arr_1.flatten()\n",
    "for i in arr_2:\n",
    "    if i in dic_count:\n",
    "        dic_count[i] += 1\n",
    "    else:\n",
    "        dic_count[i] = 1"
   ]
  },
  {
   "cell_type": "code",
   "execution_count": null,
   "id": "0071c9a2-6050-49bd-a1f0-508b618d81d4",
   "metadata": {},
   "outputs": [],
   "source": [
    "dic_count"
   ]
  },
  {
   "cell_type": "code",
   "execution_count": null,
   "id": "d93807eb-9410-4cb0-914e-845714d98972",
   "metadata": {},
   "outputs": [],
   "source": [
    "# 13 번\n",
    "a = np.arange(0,81,10)\n",
    "b = np.arange(0,21,20)"
   ]
  },
  {
   "cell_type": "code",
   "execution_count": null,
   "id": "8a5220d0-0a77-41ed-a5f6-c29366a9e829",
   "metadata": {},
   "outputs": [],
   "source": [
    "c = np.empty(0) # 초기화"
   ]
  },
  {
   "cell_type": "code",
   "execution_count": null,
   "id": "082c5e3c-486a-4295-bf08-d55cebfa457d",
   "metadata": {},
   "outputs": [],
   "source": [
    "for i in a:\n",
    "    if i not in b: # 처음에는 not in 을 생각 하기가 어렵다. \n",
    "        c = np.append(c,i)"
   ]
  },
  {
   "cell_type": "code",
   "execution_count": null,
   "id": "e133ef6c-0996-4e70-b57b-cbd915060911",
   "metadata": {},
   "outputs": [],
   "source": [
    "np.setdiff1d(a, b)"
   ]
  },
  {
   "cell_type": "code",
   "execution_count": 165,
   "id": "8f41f5c8-243f-4f7a-a5a4-7b446c20ab5d",
   "metadata": {
    "scrolled": true
   },
   "outputs": [],
   "source": [
    "# np.setdiff1d?"
   ]
  },
  {
   "cell_type": "code",
   "execution_count": 178,
   "id": "296c56d6-b686-4fb8-96df-69e987f49ec5",
   "metadata": {},
   "outputs": [
    {
     "data": {
      "text/plain": [
       "array([[1., 0., 0., 0., 0., 0., 0., 0., 0., 0., 1.],\n",
       "       [0., 1., 0., 0., 0., 0., 0., 0., 0., 1., 0.],\n",
       "       [0., 0., 1., 0., 0., 0., 0., 0., 1., 0., 0.],\n",
       "       [0., 0., 0., 1., 0., 0., 0., 1., 0., 0., 0.],\n",
       "       [0., 0., 0., 0., 1., 0., 1., 0., 0., 0., 0.],\n",
       "       [0., 0., 0., 0., 0., 1., 0., 0., 0., 0., 0.],\n",
       "       [0., 0., 0., 0., 1., 0., 1., 0., 0., 0., 0.],\n",
       "       [0., 0., 0., 1., 0., 0., 0., 1., 0., 0., 0.],\n",
       "       [0., 0., 1., 0., 0., 0., 0., 0., 1., 0., 0.],\n",
       "       [0., 1., 0., 0., 0., 0., 0., 0., 0., 1., 0.],\n",
       "       [1., 0., 0., 0., 0., 0., 0., 0., 0., 0., 1.]])"
      ]
     },
     "execution_count": 178,
     "metadata": {},
     "output_type": "execute_result"
    }
   ],
   "source": [
    "n = 11\n",
    "arr_1 = np.eye(n) + np.eye(n)[::-1]\n",
    "if n % 2 == 1:\n",
    "    arr_1[int(n/2),int(n/2)] = 1\n",
    "arr_1"
   ]
  },
  {
   "cell_type": "code",
   "execution_count": 179,
   "id": "a110359d-447f-460b-b345-a4dece818692",
   "metadata": {},
   "outputs": [
    {
     "name": "stdout",
     "output_type": "stream",
     "text": [
      "[[1. 0. 0. 0. 0. 0. 0. 0. 0. 0. 1.]\n",
      " [0. 1. 0. 0. 0. 0. 0. 0. 0. 1. 0.]\n",
      " [0. 0. 1. 0. 0. 0. 0. 0. 1. 0. 0.]\n",
      " [0. 0. 0. 1. 0. 0. 0. 1. 0. 0. 0.]\n",
      " [0. 0. 0. 0. 1. 0. 1. 0. 0. 0. 0.]\n",
      " [0. 0. 0. 0. 0. 1. 0. 0. 0. 0. 0.]\n",
      " [0. 0. 0. 0. 1. 0. 1. 0. 0. 0. 0.]\n",
      " [0. 0. 0. 1. 0. 0. 0. 1. 0. 0. 0.]\n",
      " [0. 0. 1. 0. 0. 0. 0. 0. 1. 0. 0.]\n",
      " [0. 1. 0. 0. 0. 0. 0. 0. 0. 1. 0.]\n",
      " [1. 0. 0. 0. 0. 0. 0. 0. 0. 0. 1.]]\n"
     ]
    }
   ],
   "source": [
    "n = 11\n",
    "arr_1 = np.eye(n) + np.eye(n)[::-1]\n",
    "arr_1[arr_1>1] = 1\n",
    "print(arr_1)"
   ]
  },
  {
   "cell_type": "code",
   "execution_count": 2,
   "id": "57c583cc-ee93-4dc9-8a75-1dc9f7afa279",
   "metadata": {},
   "outputs": [],
   "source": [
    "# 15번"
   ]
  },
  {
   "cell_type": "code",
   "execution_count": 3,
   "id": "b1320e8c-3f9e-4b6d-add6-6f9cdabf06c5",
   "metadata": {},
   "outputs": [],
   "source": [
    "arr_1 = np.full((10,10), 0)"
   ]
  },
  {
   "cell_type": "code",
   "execution_count": 5,
   "id": "ba17bea4-f1a4-433c-807e-d4183a79dc45",
   "metadata": {},
   "outputs": [],
   "source": [
    "arr_1[1,1] = 1"
   ]
  },
  {
   "cell_type": "code",
   "execution_count": 8,
   "id": "349d0092-9c84-4b4d-8740-e57f1b2fc169",
   "metadata": {},
   "outputs": [],
   "source": [
    "arr_1[0,0] = 1"
   ]
  },
  {
   "cell_type": "code",
   "execution_count": null,
   "id": "f9398a98-e9e9-4840-8ff8-0fdf3f9bba74",
   "metadata": {},
   "outputs": [],
   "source": [
    "arr_1[0,0] = 1"
   ]
  },
  {
   "cell_type": "code",
   "execution_count": 10,
   "id": "ec7f33c7-baf2-41f1-9b9e-02fa0e4ae5c1",
   "metadata": {},
   "outputs": [],
   "source": [
    "arr_1[1,0] = 1"
   ]
  },
  {
   "cell_type": "code",
   "execution_count": 14,
   "id": "b1ede7a4-9730-4cd5-99a7-e5cc590aad07",
   "metadata": {},
   "outputs": [],
   "source": [
    "arr_1[2,0] = arr_1[2,1] = arr_1[2,2] = 1"
   ]
  },
  {
   "cell_type": "code",
   "execution_count": 15,
   "id": "29d325d8-a85c-49a2-bd59-3ef73400ff37",
   "metadata": {},
   "outputs": [
    {
     "data": {
      "text/plain": [
       "array([[1, 0, 0, 0, 0, 0, 0, 0, 0, 0],\n",
       "       [1, 1, 0, 0, 0, 0, 0, 0, 0, 0],\n",
       "       [1, 1, 1, 0, 0, 0, 0, 0, 0, 0],\n",
       "       [0, 0, 0, 0, 0, 0, 0, 0, 0, 0],\n",
       "       [0, 0, 0, 0, 0, 0, 0, 0, 0, 0],\n",
       "       [0, 0, 0, 0, 0, 0, 0, 0, 0, 0],\n",
       "       [0, 0, 0, 0, 0, 0, 0, 0, 0, 0],\n",
       "       [0, 0, 0, 0, 0, 0, 0, 0, 0, 0],\n",
       "       [0, 0, 0, 0, 0, 0, 0, 0, 0, 0],\n",
       "       [0, 0, 0, 0, 0, 0, 0, 0, 0, 0]])"
      ]
     },
     "execution_count": 15,
     "metadata": {},
     "output_type": "execute_result"
    }
   ],
   "source": [
    "arr_1"
   ]
  },
  {
   "cell_type": "code",
   "execution_count": 18,
   "id": "59b26125-8711-4c6a-8ff4-4b37ee27eb56",
   "metadata": {},
   "outputs": [
    {
     "name": "stdout",
     "output_type": "stream",
     "text": [
      "[[1 0 0 0 0 0 0 0 0 0]\n",
      " [1 1 0 0 0 0 0 0 0 0]\n",
      " [1 1 1 0 0 0 0 0 0 0]\n",
      " [1 1 1 1 0 0 0 0 0 0]\n",
      " [1 1 1 1 1 0 0 0 0 0]\n",
      " [1 1 1 1 1 1 0 0 0 0]\n",
      " [1 1 1 1 1 1 1 0 0 0]\n",
      " [1 1 1 1 1 1 1 1 0 0]\n",
      " [1 1 1 1 1 1 1 1 1 0]\n",
      " [1 1 1 1 1 1 1 1 1 1]]\n"
     ]
    }
   ],
   "source": [
    "# 방법1\n",
    "n = 10\n",
    "arr_1 = np.full((n,n), 0)\n",
    "for i in range(n):\n",
    "    for j in range(n):\n",
    "        if i >= j:\n",
    "            arr_1[i,j] = 1\n",
    "print(arr_1)"
   ]
  },
  {
   "cell_type": "code",
   "execution_count": null,
   "id": "6a70c5bd-c7a5-4a6e-860b-89c44c34917c",
   "metadata": {},
   "outputs": [],
   "source": [
    "# 방법2(몰라도됨)\n",
    "np.tril?"
   ]
  },
  {
   "cell_type": "code",
   "execution_count": 21,
   "id": "795081e1-921d-4ce2-8b82-df1d7c7fc8ed",
   "metadata": {},
   "outputs": [
    {
     "data": {
      "text/plain": [
       "array([[1, 0, 0, 0, 0, 0, 0, 0, 0, 0],\n",
       "       [1, 1, 0, 0, 0, 0, 0, 0, 0, 0],\n",
       "       [1, 1, 1, 0, 0, 0, 0, 0, 0, 0],\n",
       "       [1, 1, 1, 1, 0, 0, 0, 0, 0, 0],\n",
       "       [1, 1, 1, 1, 1, 0, 0, 0, 0, 0],\n",
       "       [1, 1, 1, 1, 1, 1, 0, 0, 0, 0],\n",
       "       [1, 1, 1, 1, 1, 1, 1, 0, 0, 0],\n",
       "       [1, 1, 1, 1, 1, 1, 1, 1, 0, 0],\n",
       "       [1, 1, 1, 1, 1, 1, 1, 1, 1, 0],\n",
       "       [1, 1, 1, 1, 1, 1, 1, 1, 1, 1]])"
      ]
     },
     "execution_count": 21,
     "metadata": {},
     "output_type": "execute_result"
    }
   ],
   "source": [
    "n = 10\n",
    "np.tril(np.full((n,n), 1))"
   ]
  },
  {
   "cell_type": "code",
   "execution_count": 17,
   "id": "d29ec223-ff9a-42d3-b33a-46f58685a633",
   "metadata": {},
   "outputs": [
    {
     "data": {
      "text/plain": [
       "55"
      ]
     },
     "execution_count": 17,
     "metadata": {},
     "output_type": "execute_result"
    }
   ],
   "source": [
    "arr_1.sum()"
   ]
  },
  {
   "cell_type": "code",
   "execution_count": 23,
   "id": "c8d42e1e-617a-49b6-b719-2a9c3083f910",
   "metadata": {},
   "outputs": [
    {
     "data": {
      "text/plain": [
       "(10, 10)"
      ]
     },
     "execution_count": 23,
     "metadata": {},
     "output_type": "execute_result"
    }
   ],
   "source": [
    "arr_1.shape"
   ]
  },
  {
   "cell_type": "code",
   "execution_count": 25,
   "id": "32d5e8aa-bc27-404f-8136-0a9bfc85f9d0",
   "metadata": {},
   "outputs": [
    {
     "data": {
      "text/plain": [
       "array([10,  9,  8,  7,  6,  5,  4,  3,  2,  1])"
      ]
     },
     "execution_count": 25,
     "metadata": {},
     "output_type": "execute_result"
    }
   ],
   "source": [
    "arr_1.sum(axis = 0)"
   ]
  },
  {
   "cell_type": "code",
   "execution_count": 26,
   "id": "a777e4eb-d34f-4af9-b225-e100a7c85bb1",
   "metadata": {},
   "outputs": [
    {
     "data": {
      "text/plain": [
       "array([ 1,  2,  3,  4,  5,  6,  7,  8,  9, 10])"
      ]
     },
     "execution_count": 26,
     "metadata": {},
     "output_type": "execute_result"
    }
   ],
   "source": [
    "arr_1.sum(axis = 1)"
   ]
  },
  {
   "cell_type": "code",
   "execution_count": 29,
   "id": "deef41a1-aed4-4e14-a916-d1d3bbb401cd",
   "metadata": {},
   "outputs": [],
   "source": [
    "arr_1 = np.tril(np.full((n,n-3,n-5), 1))"
   ]
  },
  {
   "cell_type": "code",
   "execution_count": 30,
   "id": "75c27218-61f1-4fbf-b6af-3960c88857c4",
   "metadata": {},
   "outputs": [
    {
     "data": {
      "text/plain": [
       "(10, 7, 5)"
      ]
     },
     "execution_count": 30,
     "metadata": {},
     "output_type": "execute_result"
    }
   ],
   "source": [
    "arr_1.shape"
   ]
  },
  {
   "cell_type": "code",
   "execution_count": 31,
   "id": "7cd6d51f-4492-4c86-a257-cf25551e00ff",
   "metadata": {},
   "outputs": [
    {
     "data": {
      "text/plain": [
       "array([[7, 6, 5, 4, 3],\n",
       "       [7, 6, 5, 4, 3],\n",
       "       [7, 6, 5, 4, 3],\n",
       "       [7, 6, 5, 4, 3],\n",
       "       [7, 6, 5, 4, 3],\n",
       "       [7, 6, 5, 4, 3],\n",
       "       [7, 6, 5, 4, 3],\n",
       "       [7, 6, 5, 4, 3],\n",
       "       [7, 6, 5, 4, 3],\n",
       "       [7, 6, 5, 4, 3]])"
      ]
     },
     "execution_count": 31,
     "metadata": {},
     "output_type": "execute_result"
    }
   ],
   "source": [
    "arr_1.sum(axis = 1)"
   ]
  },
  {
   "cell_type": "code",
   "execution_count": 32,
   "id": "a3fee23c-8797-43c3-9a1d-0c7ee0719d3c",
   "metadata": {},
   "outputs": [
    {
     "data": {
      "text/plain": [
       "array([[10,  0,  0,  0,  0],\n",
       "       [10, 10,  0,  0,  0],\n",
       "       [10, 10, 10,  0,  0],\n",
       "       [10, 10, 10, 10,  0],\n",
       "       [10, 10, 10, 10, 10],\n",
       "       [10, 10, 10, 10, 10],\n",
       "       [10, 10, 10, 10, 10]])"
      ]
     },
     "execution_count": 32,
     "metadata": {},
     "output_type": "execute_result"
    }
   ],
   "source": [
    "arr_1.sum(axis = 0)"
   ]
  },
  {
   "cell_type": "code",
   "execution_count": 33,
   "id": "aea8c4b6-f118-40eb-92d7-257f5523e94c",
   "metadata": {},
   "outputs": [
    {
     "data": {
      "text/plain": [
       "array([[1, 2, 3, 4, 5, 5, 5],\n",
       "       [1, 2, 3, 4, 5, 5, 5],\n",
       "       [1, 2, 3, 4, 5, 5, 5],\n",
       "       [1, 2, 3, 4, 5, 5, 5],\n",
       "       [1, 2, 3, 4, 5, 5, 5],\n",
       "       [1, 2, 3, 4, 5, 5, 5],\n",
       "       [1, 2, 3, 4, 5, 5, 5],\n",
       "       [1, 2, 3, 4, 5, 5, 5],\n",
       "       [1, 2, 3, 4, 5, 5, 5],\n",
       "       [1, 2, 3, 4, 5, 5, 5]])"
      ]
     },
     "execution_count": 33,
     "metadata": {},
     "output_type": "execute_result"
    }
   ],
   "source": [
    "arr_1.sum(axis = 2)"
   ]
  },
  {
   "cell_type": "code",
   "execution_count": 35,
   "id": "86881a6a-7d27-457b-af98-6856b25bd9a5",
   "metadata": {},
   "outputs": [],
   "source": [
    "arr_1 = np.array([\n",
    "    [0,1,2],\n",
    "    [3,4,5],\n",
    "    [0,2,4],\n",
    "    [6,8,10]])"
   ]
  },
  {
   "cell_type": "code",
   "execution_count": 40,
   "id": "022ebd3a-d651-49d1-830d-6ffb16fcff8a",
   "metadata": {},
   "outputs": [],
   "source": [
    "arr_1_1 = np.concatenate([arr_1[0], arr_1[2]])"
   ]
  },
  {
   "cell_type": "code",
   "execution_count": 41,
   "id": "3cc2d2d0-9a62-4372-ba71-3a2ad516929e",
   "metadata": {},
   "outputs": [],
   "source": [
    "arr_1_2 = np.concatenate([arr_1[1], arr_1[3]])"
   ]
  },
  {
   "cell_type": "code",
   "execution_count": 43,
   "id": "38227c08-a3d2-4362-ac8f-70f2b118890a",
   "metadata": {},
   "outputs": [
    {
     "data": {
      "text/plain": [
       "array([[ 0,  1,  2,  0,  2,  4],\n",
       "       [ 3,  4,  5,  6,  8, 10]])"
      ]
     },
     "execution_count": 43,
     "metadata": {},
     "output_type": "execute_result"
    }
   ],
   "source": [
    "np.concatenate([arr_1_1, arr_1_2]).reshape(2,6)"
   ]
  },
  {
   "cell_type": "code",
   "execution_count": 44,
   "id": "91719fc7-6015-4408-9e5d-5d8eb1fe753e",
   "metadata": {},
   "outputs": [
    {
     "name": "stdout",
     "output_type": "stream",
     "text": [
      "[[0. 0. 0. 0. 0.]\n",
      " [0. 1. 1. 1. 0.]\n",
      " [0. 1. 2. 1. 0.]\n",
      " [0. 1. 1. 1. 0.]\n",
      " [0. 0. 0. 0. 0.]]\n"
     ]
    }
   ],
   "source": [
    "# 17 번 \n",
    "n = 5\n",
    "arr_1 = np.ones((n,n))\n",
    "arr_1[0, :] = arr_1[-1, :] = arr_1[:, 0] = arr_1[:, -1] =0\n",
    "arr_1[2,2] = 2\n",
    "print(arr_1)"
   ]
  },
  {
   "cell_type": "code",
   "execution_count": 45,
   "id": "93010e81-4b43-49f5-ba3a-d487a58d91a4",
   "metadata": {},
   "outputs": [
    {
     "data": {
      "text/plain": [
       "array([[1., 1., 1.],\n",
       "       [1., 2., 1.],\n",
       "       [1., 1., 1.]])"
      ]
     },
     "execution_count": 45,
     "metadata": {},
     "output_type": "execute_result"
    }
   ],
   "source": [
    "arr_1[1:-1,1:-1]"
   ]
  },
  {
   "cell_type": "code",
   "execution_count": 46,
   "id": "fed1ad4f-8b54-477d-b893-a3e8040c3cf5",
   "metadata": {},
   "outputs": [
    {
     "data": {
      "text/plain": [
       "array([[0., 0., 0.],\n",
       "       [0., 1., 1.],\n",
       "       [0., 1., 2.]])"
      ]
     },
     "execution_count": 46,
     "metadata": {},
     "output_type": "execute_result"
    }
   ],
   "source": [
    "arr_1[:3,:3]"
   ]
  },
  {
   "cell_type": "code",
   "execution_count": 48,
   "id": "2e56ad4c-8a3e-4e7b-b8d1-0338bf17a819",
   "metadata": {},
   "outputs": [
    {
     "data": {
      "text/plain": [
       "array([[0., 0., 0.],\n",
       "       [1., 1., 1.],\n",
       "       [1., 2., 1.]])"
      ]
     },
     "execution_count": 48,
     "metadata": {},
     "output_type": "execute_result"
    }
   ],
   "source": [
    "arr_1[:3,1:4]"
   ]
  },
  {
   "cell_type": "code",
   "execution_count": 49,
   "id": "511906b5-5d7b-47db-ae4f-1f4edcde5292",
   "metadata": {},
   "outputs": [
    {
     "data": {
      "text/plain": [
       "array([[1., 1., 0.],\n",
       "       [2., 1., 0.],\n",
       "       [1., 1., 0.]])"
      ]
     },
     "execution_count": 49,
     "metadata": {},
     "output_type": "execute_result"
    }
   ],
   "source": [
    "arr_1[1:4,2:]"
   ]
  },
  {
   "cell_type": "code",
   "execution_count": 50,
   "id": "1cbc5f22-b291-41a0-a0d4-56b879701ff8",
   "metadata": {},
   "outputs": [
    {
     "data": {
      "text/plain": [
       "array([0., 1., 2., 1., 0.])"
      ]
     },
     "execution_count": 50,
     "metadata": {},
     "output_type": "execute_result"
    }
   ],
   "source": [
    "arr_1[2, :]"
   ]
  },
  {
   "cell_type": "code",
   "execution_count": 51,
   "id": "9e7533c1-ea93-4f0f-8444-a28cddefce2d",
   "metadata": {},
   "outputs": [
    {
     "data": {
      "text/plain": [
       "array([0., 1., 2., 1., 0.])"
      ]
     },
     "execution_count": 51,
     "metadata": {},
     "output_type": "execute_result"
    }
   ],
   "source": [
    "arr_1[:, 2]"
   ]
  },
  {
   "cell_type": "code",
   "execution_count": null,
   "id": "56b59ee0-2e14-4db4-ab89-ae9b9fd4dc73",
   "metadata": {},
   "outputs": [],
   "source": []
  }
 ],
 "metadata": {
  "kernelspec": {
   "display_name": "Python 3 (ipykernel)",
   "language": "python",
   "name": "python3"
  },
  "language_info": {
   "codemirror_mode": {
    "name": "ipython",
    "version": 3
   },
   "file_extension": ".py",
   "mimetype": "text/x-python",
   "name": "python",
   "nbconvert_exporter": "python",
   "pygments_lexer": "ipython3",
   "version": "3.11.9"
  }
 },
 "nbformat": 4,
 "nbformat_minor": 5
}
