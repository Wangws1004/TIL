{
 "cells": [
  {
   "cell_type": "markdown",
   "id": "4e19dd29-fa1c-4ebb-9c95-7fe0a6ddde8d",
   "metadata": {},
   "source": [
    "# 과제\n",
    " 잔돈이 남아있는 경우 1 또는 0 으로 콜라를 더 뽑을지 물어보아라\n",
    "```\n",
    "현금을 입력하세요 : 6000\n",
    "콜라를 뽑으시겠습니까? 1 or  : 01\n",
    "coke 1개 출력\n",
    "거스름돈 5000를 남아 있습니다.\n",
    "coke가 96개 남았습니다.\n",
    "콜라를 뽑으시겠습니까? 1 :  or 01\n",
    "coke 1개 출력\n",
    "거스름돈 4000를 남아 있습니다.\n",
    "coke가 95개 남았습니다.\n",
    "콜라를 뽑으시겠습니 : 까? 1 or 01\n",
    "coke 1개 출력\n",
    "거스름돈 3000를 남아 있습니다.\n",
    "coke가 94개 남았습니다.\n",
    "콜라를 뽑으 : 시겠습니까? 1 or 01\n",
    "coke 1개 출력\n",
    "거스름돈 2000를 남아 있습니다.\n",
    "coke가 93개 남았습니다.\n",
    "콜라 : 를 뽑으시겠습니까? 1 or 01\n",
    "coke 1개 출력\n",
    "거스름돈 1000를 남아 있습니다.\n",
    "coke가 92개 남았습니다. : \n",
    "콜라를 뽑으시겠습니까? 1 or 01\n",
    "coke 1개 출력\n",
    "거스름돈 0를 남아 있습니다.\n",
    "coke가 91개 남았습니다.\n",
    "돈이 부족합니다.\n",
    "coke가 91개 남았습니다.\n",
    "```\n"
   ]
  },
  {
   "cell_type": "code",
   "execution_count": 10,
   "id": "5a44e536-63db-476e-bc7b-712d8b2b7a5c",
   "metadata": {},
   "outputs": [
    {
     "name": "stdin",
     "output_type": "stream",
     "text": [
      "현금을 입력 하세요 :  1100\n",
      "콜라를 뽑으시겠습니까? 1 or 0 :  1\n"
     ]
    },
    {
     "name": "stdout",
     "output_type": "stream",
     "text": [
      "coke 1개 출력\n",
      "coke 가 1개 남았습니다.\n",
      "거스름돈 100원이 남아 있습니다.\n",
      "돈이 부족 합니다.\n",
      "coke 가 1개 남았습니다.\n"
     ]
    }
   ],
   "source": [
    "money = int(input(\"현금을 입력 하세요 : \"))\n",
    "coke = 2\n",
    "while True:\n",
    "    if coke == 0:\n",
    "        print(\"재고부족\")\n",
    "        print(\"판매 중지\")\n",
    "        break\n",
    "    if money >= 1000:\n",
    "        user_input = int(input(\"콜라를 뽑으시겠습니까? 1 or 0 : \"))\n",
    "        if user_input == 1:\n",
    "            print(\"coke 1개 출력\")\n",
    "            money -= 1000\n",
    "            coke -= 1\n",
    "            print(f\"coke 가 {coke}개 남았습니다.\")\n",
    "            print(f\"거스름돈 {money}원이 남아 있습니다.\") \n",
    "            continue\n",
    "        else:\n",
    "            print(f\"거스름돈 {money}원을 받으세요\")\n",
    "            break\n",
    "    else:\n",
    "        print(\"돈이 부족 합니다.\")\n",
    "        print(f\"coke 가 {coke}개 남았습니다.\")\n",
    "        break"
   ]
  },
  {
   "cell_type": "markdown",
   "id": "663dda66-6751-4db3-be8f-354ae20ad82f",
   "metadata": {},
   "source": [
    "# 가위바위보 게임\n",
    "- 총 10게임\n",
    "- 다음과 같이 결과 출력되도록 만들어 보세요\n",
    "- 결과는 항상 달라야 합니다.\n",
    "- 단 잘못내는 경우는 패로 기록됨\n",
    "\n",
    "- 가위바위보를 항상 다르게 뽑는 방법은?\n",
    "  - 리스트에 10개를 넣어서 랜덤으로 뽑던가\n",
    "  - 랜덤으로 뽑아서 리스트에 0개를 넣던가\n",
    "\n",
    "1\n",
    "```\n",
    "가위,바위,보: 가위\n",
    "이겼다\n",
    "가위,바위,보: 가위\n",
    "비겼습니다.\n",
    "가위,바위,보: 보\n",
    "비겼습니다.\n",
    "가위,바위,보: 가위\n",
    "비겼습니다.\n",
    "가위,바위,보: 바위\n",
    "이겼다\n",
    "가위,바위,보: 보\n",
    "이겼다\n",
    "가위,바위,보: 가위\n",
    "이겼다\n",
    "가위,바위,보: 바위\n",
    "졌다\n",
    "가위,바위,보: 모\n",
    "잘못내셨습니다.\n",
    "가위,바위,보: 보\n",
    "비겼\n",
    "습니다.\n",
    "승:4\n",
    "패:2\n",
    "비김:4\n",
    "```"
   ]
  },
  {
   "cell_type": "markdown",
   "id": "e496acea-d08e-4f70-920c-ca528f980c1d",
   "metadata": {},
   "source": [
    "# 방법1\n",
    "- user_input = 가위\n",
    "    - 가위 : 비겼다.\n",
    "    - 바위 : 졌다.\n",
    "    - 보 : 이겼다.\n",
    "- user_input = 바위\n",
    "    - 가위 : 이겼다.\n",
    "    - 바위 : 비겼다.\n",
    "    - 보 : 졌다.\n",
    "- user_input = 보\n",
    "    - 가위 : 졌다.\n",
    "    - 바위 : 이겼다\n",
    "    - 보 : 비겼다.\n",
    " \n",
    "# 방법 2\n",
    "- user_input == srp\n",
    "    - 비겼다.\n",
    "- user_input = 가위\n",
    "    - 바위 : 졌다.\n",
    "    - 보 : 이겼다.\n",
    "- user_input = 바위\n",
    "    - 가위 : 이겼다.\n",
    "    - 보 : 졌다.\n",
    "- user_input = 보\n",
    "    - 가위 : 졌다.\n",
    "    - 바위 : 이겼다\n",
    "# 방법 3\n",
    "- user_input == srp\n",
    "    - 비겼다.\n",
    "- (user_input == \"가위\" and srp ==\"보\") or (user_input == \"바위\" and srp ==\"가위\") or (user_input == \"보\" and srp ==\"바위\")\n",
    "    - 이겼다.\n",
    "- else:\n",
    "    - 졌다."
   ]
  },
  {
   "cell_type": "code",
   "execution_count": 59,
   "id": "d9b5c3f9-2b0c-4470-9a45-2cf8ecec3737",
   "metadata": {},
   "outputs": [
    {
     "data": {
      "text/plain": [
       "'보'"
      ]
     },
     "execution_count": 59,
     "metadata": {},
     "output_type": "execute_result"
    }
   ],
   "source": [
    "srp_dict = {1: \"가위\", 2: \"바위\", 3: \"보\"}\n",
    "srps = [srp_dict[random.randint(1,4)] for i in range(10)]"
   ]
  },
  {
   "cell_type": "code",
   "execution_count": null,
   "id": "47cb6df9-a07f-42d4-8fb2-0e305eb03e62",
   "metadata": {},
   "outputs": [],
   "source": [
    "import random "
   ]
  },
  {
   "cell_type": "code",
   "execution_count": 76,
   "id": "e236c320-e48a-4ebd-a222-0e146beae2c3",
   "metadata": {
    "scrolled": true
   },
   "outputs": [
    {
     "name": "stdin",
     "output_type": "stream",
     "text": [
      "가위, 바위, 보:  가위\n"
     ]
    },
    {
     "name": "stdout",
     "output_type": "stream",
     "text": [
      "비겼다.\n"
     ]
    },
    {
     "name": "stdin",
     "output_type": "stream",
     "text": [
      "가위, 바위, 보:  바위\n"
     ]
    },
    {
     "name": "stdout",
     "output_type": "stream",
     "text": [
      "졌다.\n"
     ]
    },
    {
     "name": "stdin",
     "output_type": "stream",
     "text": [
      "가위, 바위, 보:  ㄴ;어\n"
     ]
    },
    {
     "name": "stdout",
     "output_type": "stream",
     "text": [
      "잘못냈습니다.\n"
     ]
    },
    {
     "name": "stdin",
     "output_type": "stream",
     "text": [
      "가위, 바위, 보:  ㅁㅇ\n"
     ]
    },
    {
     "name": "stdout",
     "output_type": "stream",
     "text": [
      "잘못냈습니다.\n"
     ]
    },
    {
     "name": "stdin",
     "output_type": "stream",
     "text": [
      "가위, 바위, 보:  ㅁㅇㄴ\n"
     ]
    },
    {
     "name": "stdout",
     "output_type": "stream",
     "text": [
      "잘못냈습니다.\n"
     ]
    },
    {
     "name": "stdin",
     "output_type": "stream",
     "text": [
      "가위, 바위, 보:  ㅇㅁ\n"
     ]
    },
    {
     "name": "stdout",
     "output_type": "stream",
     "text": [
      "잘못냈습니다.\n"
     ]
    },
    {
     "name": "stdin",
     "output_type": "stream",
     "text": [
      "가위, 바위, 보:  ㅁㅇ\n"
     ]
    },
    {
     "name": "stdout",
     "output_type": "stream",
     "text": [
      "잘못냈습니다.\n"
     ]
    },
    {
     "name": "stdin",
     "output_type": "stream",
     "text": [
      "가위, 바위, 보:  ㅁㅇ\n"
     ]
    },
    {
     "name": "stdout",
     "output_type": "stream",
     "text": [
      "잘못냈습니다.\n"
     ]
    },
    {
     "name": "stdin",
     "output_type": "stream",
     "text": [
      "가위, 바위, 보:  ㅁㅇ\n"
     ]
    },
    {
     "name": "stdout",
     "output_type": "stream",
     "text": [
      "잘못냈습니다.\n"
     ]
    },
    {
     "name": "stdin",
     "output_type": "stream",
     "text": [
      "가위, 바위, 보:  ㅇㅁ\n"
     ]
    },
    {
     "name": "stdout",
     "output_type": "stream",
     "text": [
      "잘못냈습니다.\n",
      "승 : 0 \n",
      " 패 : 1 \n",
      " 무 : 1\n"
     ]
    }
   ],
   "source": [
    "# 방법 3\n",
    "win = 0\n",
    "lose = 0 \n",
    "draw = 0\n",
    "\n",
    "srps = [random.choice([\"가위\", \"바위\", \"보\"]) for i in range(10)]\n",
    "# [targe for i in <seq>]\n",
    "for srp in srps:\n",
    "    user_input = input(\"가위, 바위, 보: \")\n",
    "    if user_input in [\"가위\", \"바위\", \"보\"]:\n",
    "        if srp == user_input:\n",
    "            draw += 1\n",
    "            print(\"비겼다.\")\n",
    "        elif (user_input == \"가위\" and srp ==\"보\") or (user_input == \"바위\" and srp ==\"가위\") or (user_input == \"보\" and srp ==\"바위\"):\n",
    "            win += 1\n",
    "            print(\"이겼다.\")\n",
    "        else:\n",
    "            lose += 1\n",
    "            print(\"졌다.\")\n",
    "    else:\n",
    "        print(\"잘못냈습니다.\")\n",
    "print(f\"승 : {win} \\n 패 : {lose} \\n 무 : {draw}\")"
   ]
  },
  {
   "cell_type": "markdown",
   "id": "48984d3b-ff95-435f-8bd5-0fbe3e3cbdab",
   "metadata": {},
   "source": [
    "# 가위바위보 4\n",
    "- srp 에 할당되는 가위바위보는 어짜피 랜덤이다.\n",
    "- 승무패를 랜덤으로 뽑자.\n",
    "- 반복문으로 10회 실행 -> 승무패"
   ]
  },
  {
   "cell_type": "code",
   "execution_count": 77,
   "id": "0eb3a297-12f4-49c1-86d1-95c7c41003a0",
   "metadata": {},
   "outputs": [
    {
     "name": "stdin",
     "output_type": "stream",
     "text": [
      "가위, 바위, 보:  가위\n"
     ]
    },
    {
     "name": "stdout",
     "output_type": "stream",
     "text": [
      "이겼다.\n"
     ]
    },
    {
     "name": "stdin",
     "output_type": "stream",
     "text": [
      "가위, 바위, 보:  바위\n"
     ]
    },
    {
     "name": "stdout",
     "output_type": "stream",
     "text": [
      "이겼다.\n"
     ]
    },
    {
     "name": "stdin",
     "output_type": "stream",
     "text": [
      "가위, 바위, 보:  보ㅓ\n"
     ]
    },
    {
     "name": "stdout",
     "output_type": "stream",
     "text": [
      "이겼다.\n"
     ]
    },
    {
     "name": "stdin",
     "output_type": "stream",
     "text": [
      "가위, 바위, 보:  보\n"
     ]
    },
    {
     "name": "stdout",
     "output_type": "stream",
     "text": [
      "이겼다.\n"
     ]
    },
    {
     "name": "stdin",
     "output_type": "stream",
     "text": [
      "가위, 바위, 보:  보\n"
     ]
    },
    {
     "name": "stdout",
     "output_type": "stream",
     "text": [
      "이겼다.\n"
     ]
    },
    {
     "name": "stdin",
     "output_type": "stream",
     "text": [
      "가위, 바위, 보:  보\n"
     ]
    },
    {
     "name": "stdout",
     "output_type": "stream",
     "text": [
      "비겼다.\n"
     ]
    },
    {
     "name": "stdin",
     "output_type": "stream",
     "text": [
      "가위, 바위, 보:  보\n"
     ]
    },
    {
     "name": "stdout",
     "output_type": "stream",
     "text": [
      "이겼다.\n"
     ]
    },
    {
     "name": "stdin",
     "output_type": "stream",
     "text": [
      "가위, 바위, 보:  보\n"
     ]
    },
    {
     "name": "stdout",
     "output_type": "stream",
     "text": [
      "졌다.\n"
     ]
    },
    {
     "name": "stdin",
     "output_type": "stream",
     "text": [
      "가위, 바위, 보:  보\n"
     ]
    },
    {
     "name": "stdout",
     "output_type": "stream",
     "text": [
      "비겼다.\n"
     ]
    },
    {
     "name": "stdin",
     "output_type": "stream",
     "text": [
      "가위, 바위, 보:  보\n"
     ]
    },
    {
     "name": "stdout",
     "output_type": "stream",
     "text": [
      "비겼다.\n",
      "승 : 6 \n",
      " 패 : 1 \n",
      " 무 : 3\n"
     ]
    }
   ],
   "source": [
    "# 방법 4\n",
    "win = 0\n",
    "lose = 0 \n",
    "draw = 0\n",
    "\n",
    "srps = [random.choice([\"승\", \"무\", \"패\"]) for i in range(10)]\n",
    "# [targe for i in <seq>]\n",
    "for srp in srps:\n",
    "    user_input = input(\"가위, 바위, 보: \")\n",
    "    if srp == \"무\":\n",
    "        draw += 1\n",
    "        print(\"비겼다.\")\n",
    "    elif srp == \"승\":\n",
    "        win += 1\n",
    "        print(\"이겼다.\")\n",
    "    else:\n",
    "        lose += 1\n",
    "        print(\"졌다.\")\n",
    "\n",
    "print(f\"승 : {win} \\n 패 : {lose} \\n 무 : {draw}\")"
   ]
  },
  {
   "cell_type": "markdown",
   "id": "25f22838-c763-46c0-8c1e-9f2549e5f8b5",
   "metadata": {},
   "source": [
    "- 힌트 : 도시는 리스트에 추가하세요\n",
    "- 힌트 : 도시를 추가하는 함수와 종료후 입력한 도시를 앞에 3글자만 출력하는 함수로 만드세요\n",
    "- 도시를 추가하여 도시의 앞글자 3개만 출력하는 코드를 작성하시오.\n",
    "\n",
    "\n",
    "```\n",
    "1. 도시를 추가\n",
    "2. 추가 완료\n",
    "3. 종료\n",
    "값을 입력하세요:  1\n",
    "도시를 영어로 입력하세요:  seoul\n",
    "\n",
    "1. 도시를 추가\n",
    "2. 추가 완료\n",
    "3. 종료\n",
    "값을 입력하세요:  1\n",
    "도시를 영어로 입력하세요:  busan\n",
    "\n",
    "1. 도시를 추가 -> 추가\n",
    "2. 추가 완료 -> 반환후 종료\n",
    "3. 종료 -> 그냥 종료\n",
    "값을 입력하세요:  2\n",
    "['seo', 'bus']\n",
    "종료\n",
    "```"
   ]
  },
  {
   "cell_type": "code",
   "execution_count": 4,
   "id": "5def5674-4111-486d-94ee-a37f45959d58",
   "metadata": {},
   "outputs": [
    {
     "name": "stdout",
     "output_type": "stream",
     "text": [
      "1. 도시를 추가 \n",
      "2. 추가 완료 \n",
      "3. 종료\n"
     ]
    },
    {
     "name": "stdin",
     "output_type": "stream",
     "text": [
      "값을 입력하세요:  1\n",
      "도시를 영어로 입력 하세요 seoul\n"
     ]
    },
    {
     "name": "stdout",
     "output_type": "stream",
     "text": [
      "1. 도시를 추가 \n",
      "2. 추가 완료 \n",
      "3. 종료\n"
     ]
    },
    {
     "name": "stdin",
     "output_type": "stream",
     "text": [
      "값을 입력하세요:  1\n",
      "도시를 영어로 입력 하세요 busan\n"
     ]
    },
    {
     "name": "stdout",
     "output_type": "stream",
     "text": [
      "1. 도시를 추가 \n",
      "2. 추가 완료 \n",
      "3. 종료\n"
     ]
    },
    {
     "name": "stdin",
     "output_type": "stream",
     "text": [
      "값을 입력하세요:  1\n",
      "도시를 영어로 입력 하세요 london\n"
     ]
    },
    {
     "name": "stdout",
     "output_type": "stream",
     "text": [
      "1. 도시를 추가 \n",
      "2. 추가 완료 \n",
      "3. 종료\n"
     ]
    },
    {
     "name": "stdin",
     "output_type": "stream",
     "text": [
      "값을 입력하세요:  2\n"
     ]
    },
    {
     "name": "stdout",
     "output_type": "stream",
     "text": [
      "['seo', 'bus', 'lon']\n"
     ]
    }
   ],
   "source": [
    "citys = []\n",
    "prom = \"1. 도시를 추가 \\n2. 추가 완료 \\n3. 종료\"\n",
    "while True:\n",
    "    print(prom)\n",
    "    user_input = input(\"값을 입력하세요: \")\n",
    "    if user_input == \"1\":\n",
    "        city = input(\"도시를 영어로 입력 하세요\")\n",
    "        citys.append(city[:3])\n",
    "    elif user_input == \"2\":\n",
    "        print(citys)\n",
    "        break\n",
    "    elif user_input == \"3\":\n",
    "        print(\"종료 합니다.\")\n",
    "        break\n",
    "    else:\n",
    "        print(\"잘못입력 했습니다.\")"
   ]
  },
  {
   "cell_type": "markdown",
   "id": "14825c0a-48c1-449b-ba41-add5aaf04f01",
   "metadata": {},
   "source": [
    "# 함수\n",
    "- 코드 블럭의 반복 실행을 위해 정의\n",
    "- 단지 반복 실행의 가능성을 위해서만이 아니라 -> 코드 블럭의 논리적인 분리를 위해 사용하기도 한다. \n",
    "- <> : 생략 가능\n",
    "```\n",
    "def func_name(<params>):\n",
    "    <수행할 문장>\n",
    "    <수행할 문장>\n",
    "    return <결과>\n",
    "``` "
   ]
  },
  {
   "cell_type": "code",
   "execution_count": 18,
   "id": "5615f95a-8cb9-478d-927b-ab51d7e5268c",
   "metadata": {},
   "outputs": [],
   "source": [
    "def add(a, b):\n",
    "    c = a + b\n",
    "    return c"
   ]
  },
  {
   "cell_type": "code",
   "execution_count": 15,
   "id": "180d2e9a-0ef9-42c5-8c93-94b60ed03cdf",
   "metadata": {},
   "outputs": [],
   "source": [
    "a = 3\n",
    "b = 7\n",
    "c = a + b"
   ]
  },
  {
   "cell_type": "code",
   "execution_count": 16,
   "id": "90afa4f2-b2fc-4060-8613-17b151f79206",
   "metadata": {},
   "outputs": [
    {
     "data": {
      "text/plain": [
       "10"
      ]
     },
     "execution_count": 16,
     "metadata": {},
     "output_type": "execute_result"
    }
   ],
   "source": [
    "c"
   ]
  },
  {
   "cell_type": "code",
   "execution_count": 17,
   "id": "933c0fe3-7200-421b-8712-f6cc3afa5df2",
   "metadata": {},
   "outputs": [
    {
     "data": {
      "text/plain": [
       "4"
      ]
     },
     "execution_count": 17,
     "metadata": {},
     "output_type": "execute_result"
    }
   ],
   "source": [
    "add(4, 8) # 4 -> a , 8 -> b"
   ]
  },
  {
   "cell_type": "code",
   "execution_count": 19,
   "id": "5521aaf4-35af-4016-a049-53262ad80d85",
   "metadata": {},
   "outputs": [],
   "source": [
    "def add(a, b):\n",
    "    return b"
   ]
  },
  {
   "cell_type": "code",
   "execution_count": 20,
   "id": "2b6bf435-c793-441b-b2d3-fb9b5279864a",
   "metadata": {},
   "outputs": [],
   "source": [
    "def add(a, b):\n",
    "    c = a + b"
   ]
  },
  {
   "cell_type": "code",
   "execution_count": 21,
   "id": "eb8f142a-a4e0-43f8-911e-c3c261232b05",
   "metadata": {},
   "outputs": [],
   "source": [
    "add(4, 8)"
   ]
  },
  {
   "cell_type": "code",
   "execution_count": 24,
   "id": "12ffadbc-7e5a-4767-a447-b31ea6a0916f",
   "metadata": {},
   "outputs": [],
   "source": [
    "def input_citys():\n",
    "    citys = []\n",
    "    prom = \"1. 도시를 추가 \\n2. 추가 완료 \\n3. 종료\"\n",
    "    while True:\n",
    "        print(prom)\n",
    "        user_input = input(\"값을 입력하세요: \")\n",
    "        if user_input == \"1\":\n",
    "            city = input(\"도시를 영어로 입력 하세요\")\n",
    "            citys.append(city[:3])\n",
    "        elif user_input == \"2\":\n",
    "            print(citys)\n",
    "            break\n",
    "        elif user_input == \"3\":\n",
    "            print(\"종료 합니다.\")\n",
    "            break\n",
    "        else:\n",
    "            print(\"잘못입력 했습니다.\")\n",
    "    return citys"
   ]
  },
  {
   "cell_type": "code",
   "execution_count": 25,
   "id": "5d1e408d-c581-4766-a06b-e53ae849c109",
   "metadata": {},
   "outputs": [
    {
     "name": "stdout",
     "output_type": "stream",
     "text": [
      "1. 도시를 추가 \n",
      "2. 추가 완료 \n",
      "3. 종료\n"
     ]
    },
    {
     "name": "stdin",
     "output_type": "stream",
     "text": [
      "값을 입력하세요:  1\n",
      "도시를 영어로 입력 하세요 seoul\n"
     ]
    },
    {
     "name": "stdout",
     "output_type": "stream",
     "text": [
      "1. 도시를 추가 \n",
      "2. 추가 완료 \n",
      "3. 종료\n"
     ]
    },
    {
     "name": "stdin",
     "output_type": "stream",
     "text": [
      "값을 입력하세요:  1\n",
      "도시를 영어로 입력 하세요 busan\n"
     ]
    },
    {
     "name": "stdout",
     "output_type": "stream",
     "text": [
      "1. 도시를 추가 \n",
      "2. 추가 완료 \n",
      "3. 종료\n"
     ]
    },
    {
     "name": "stdin",
     "output_type": "stream",
     "text": [
      "값을 입력하세요:  2\n"
     ]
    },
    {
     "name": "stdout",
     "output_type": "stream",
     "text": [
      "['seo', 'bus']\n"
     ]
    },
    {
     "data": {
      "text/plain": [
       "['seo', 'bus']"
      ]
     },
     "execution_count": 25,
     "metadata": {},
     "output_type": "execute_result"
    }
   ],
   "source": [
    "input_citys()"
   ]
  },
  {
   "cell_type": "code",
   "execution_count": null,
   "id": "7ace69fb-8854-46fb-b0db-c07f8a5bfda3",
   "metadata": {},
   "outputs": [],
   "source": [
    "# 함수 경우의수\n",
    "# 1. 입력이 존재, 결과가 존재\n",
    "# 2. 입력이 없다. 결과도 없다\n",
    "# 3. 입력이 존재, 결과는 없다\n",
    "# 4. 입력이 없다, 결과도 없다. "
   ]
  },
  {
   "cell_type": "code",
   "execution_count": null,
   "id": "6c549684-7e64-4a31-8dc3-3488b2a7bd89",
   "metadata": {},
   "outputs": [],
   "source": [
    "print()# 함수다"
   ]
  },
  {
   "cell_type": "code",
   "execution_count": 33,
   "id": "8f3084dc-35b7-4665-833b-9caf5fc6ed6f",
   "metadata": {},
   "outputs": [
    {
     "name": "stdout",
     "output_type": "stream",
     "text": [
      "hello world\n"
     ]
    }
   ],
   "source": [
    "print(\"hello world\") # 입력 : \"hello world\", 결과 : 없다."
   ]
  },
  {
   "cell_type": "code",
   "execution_count": 34,
   "id": "220a0580-50c0-4413-b559-ebfe7a1ab831",
   "metadata": {},
   "outputs": [
    {
     "name": "stdout",
     "output_type": "stream",
     "text": [
      "hello world\n"
     ]
    }
   ],
   "source": [
    "val_1 = print(\"hello world\")"
   ]
  },
  {
   "cell_type": "code",
   "execution_count": 36,
   "id": "b853fc98-46e7-4f6d-bc90-bdb9ec4bb2db",
   "metadata": {},
   "outputs": [
    {
     "name": "stdout",
     "output_type": "stream",
     "text": [
      "None\n"
     ]
    }
   ],
   "source": [
    "print(val_1)"
   ]
  },
  {
   "cell_type": "code",
   "execution_count": 41,
   "id": "5f4d0676-078f-4420-bc45-694bd9b0c9d8",
   "metadata": {},
   "outputs": [],
   "source": [
    "list_1 = [1,4, 282, 20, 10, 3, 3000]"
   ]
  },
  {
   "cell_type": "code",
   "execution_count": 42,
   "id": "3ae4398f-78ae-4200-a849-b71dc5b7bc11",
   "metadata": {},
   "outputs": [],
   "source": [
    "val_2 = list_1.reverse() # 결과가 없고, 객체 자체를 변경하는 함수다."
   ]
  },
  {
   "cell_type": "code",
   "execution_count": 43,
   "id": "fab834f1-3bef-4420-8a91-cbfb19257b7a",
   "metadata": {},
   "outputs": [
    {
     "data": {
      "text/plain": [
       "[3000, 3, 10, 20, 282, 4, 1]"
      ]
     },
     "execution_count": 43,
     "metadata": {},
     "output_type": "execute_result"
    }
   ],
   "source": [
    "list_1"
   ]
  },
  {
   "cell_type": "code",
   "execution_count": 45,
   "id": "60f576a6-c643-4e21-9999-746a3fc0194b",
   "metadata": {},
   "outputs": [
    {
     "name": "stdout",
     "output_type": "stream",
     "text": [
      "None\n"
     ]
    }
   ],
   "source": [
    "print(val_2)"
   ]
  },
  {
   "cell_type": "code",
   "execution_count": 46,
   "id": "c97db6b9-b8ad-4560-ab0a-e454095123a4",
   "metadata": {},
   "outputs": [
    {
     "data": {
      "text/plain": [
       "function"
      ]
     },
     "execution_count": 46,
     "metadata": {},
     "output_type": "execute_result"
    }
   ],
   "source": [
    "type(add)"
   ]
  },
  {
   "cell_type": "markdown",
   "id": "1d997e09-98f2-4218-82b3-4c3c784f95b4",
   "metadata": {},
   "source": [
    "# [내장 함수](https://docs.python.org/3/library/functions.html)\n",
    "- print\n",
    "- input\n",
    "- int\n",
    "- len\n",
    "- range\n",
    "- ..."
   ]
  },
  {
   "cell_type": "code",
   "execution_count": 47,
   "id": "56baacb3-42a4-420f-bb0d-f9ea411d3f84",
   "metadata": {},
   "outputs": [
    {
     "data": {
      "text/plain": [
       "builtin_function_or_method"
      ]
     },
     "execution_count": 47,
     "metadata": {},
     "output_type": "execute_result"
    }
   ],
   "source": [
    "type(print)"
   ]
  },
  {
   "cell_type": "code",
   "execution_count": 50,
   "id": "6a75e7c5-f5a3-4c3d-9d4a-6befbe161b24",
   "metadata": {},
   "outputs": [],
   "source": [
    "# 실습 \n",
    "# 가위바위보 게임을 함수로 바꿔보세요\n",
    "# 함수의 입력값 :  srps\n",
    "# 함수의 출력 : 승무패 결과\n",
    "import random\n",
    "\n",
    "def srp_func(srps):\n",
    "    win = 0\n",
    "    lose = 0 \n",
    "    draw = 0\n",
    "    \n",
    "    # [targe for i in <seq>]\n",
    "    for srp in srps:\n",
    "        user_input = input(\"가위, 바위, 보: \")\n",
    "        if srp == \"무\":\n",
    "            draw += 1\n",
    "            print(\"비겼다.\")\n",
    "        elif srp == \"승\":\n",
    "            win += 1\n",
    "            print(\"이겼다.\")\n",
    "        else:\n",
    "            lose += 1\n",
    "            print(\"졌다.\")\n",
    "    \n",
    "    print(f\"승 : {win} \\n 패 : {lose} \\n 무 : {draw}\")\n",
    "    return win, lose, draw\n",
    "\n"
   ]
  },
  {
   "cell_type": "code",
   "execution_count": 52,
   "id": "5b490dd2-5be4-48d0-9287-4eb2a89a3e53",
   "metadata": {},
   "outputs": [
    {
     "name": "stdin",
     "output_type": "stream",
     "text": [
      "가위, 바위, 보:  가위\n"
     ]
    },
    {
     "name": "stdout",
     "output_type": "stream",
     "text": [
      "비겼다.\n"
     ]
    },
    {
     "name": "stdin",
     "output_type": "stream",
     "text": [
      "가위, 바위, 보:  바위\n"
     ]
    },
    {
     "name": "stdout",
     "output_type": "stream",
     "text": [
      "비겼다.\n"
     ]
    },
    {
     "name": "stdin",
     "output_type": "stream",
     "text": [
      "가위, 바위, 보:  보\n"
     ]
    },
    {
     "name": "stdout",
     "output_type": "stream",
     "text": [
      "이겼다.\n"
     ]
    },
    {
     "name": "stdin",
     "output_type": "stream",
     "text": [
      "가위, 바위, 보:  보\n"
     ]
    },
    {
     "name": "stdout",
     "output_type": "stream",
     "text": [
      "졌다.\n"
     ]
    },
    {
     "name": "stdin",
     "output_type": "stream",
     "text": [
      "가위, 바위, 보:  보\n"
     ]
    },
    {
     "name": "stdout",
     "output_type": "stream",
     "text": [
      "졌다.\n"
     ]
    },
    {
     "name": "stdin",
     "output_type": "stream",
     "text": [
      "가위, 바위, 보:  보\n"
     ]
    },
    {
     "name": "stdout",
     "output_type": "stream",
     "text": [
      "이겼다.\n"
     ]
    },
    {
     "name": "stdin",
     "output_type": "stream",
     "text": [
      "가위, 바위, 보:  보\n"
     ]
    },
    {
     "name": "stdout",
     "output_type": "stream",
     "text": [
      "비겼다.\n"
     ]
    },
    {
     "name": "stdin",
     "output_type": "stream",
     "text": [
      "가위, 바위, 보:  가위\n"
     ]
    },
    {
     "name": "stdout",
     "output_type": "stream",
     "text": [
      "졌다.\n"
     ]
    },
    {
     "name": "stdin",
     "output_type": "stream",
     "text": [
      "가위, 바위, 보:  뉘\n"
     ]
    },
    {
     "name": "stdout",
     "output_type": "stream",
     "text": [
      "이겼다.\n"
     ]
    },
    {
     "name": "stdin",
     "output_type": "stream",
     "text": [
      "가위, 바위, 보:  위\n"
     ]
    },
    {
     "name": "stdout",
     "output_type": "stream",
     "text": [
      "비겼다.\n",
      "승 : 3 \n",
      " 패 : 3 \n",
      " 무 : 4\n"
     ]
    }
   ],
   "source": [
    "srps = [random.choice([\"승\", \"무\", \"패\"]) for i in range(10)]\n",
    "srp_result = srp_func(srps)"
   ]
  },
  {
   "cell_type": "code",
   "execution_count": 54,
   "id": "9d6e0b06-6385-4dde-8bb0-0c75de1891d4",
   "metadata": {},
   "outputs": [
    {
     "data": {
      "text/plain": [
       "(3, 3, 4)"
      ]
     },
     "execution_count": 54,
     "metadata": {},
     "output_type": "execute_result"
    }
   ],
   "source": [
    "srp_result"
   ]
  },
  {
   "cell_type": "markdown",
   "id": "821c37d8-932a-4260-af80-421d891d33b8",
   "metadata": {},
   "source": [
    "```\r\n",
    "1. 함수를 실행했을때 삼각형의 밑변과 높이를 입력받은후\r\n",
    "삼각형의 면적을 계산하는 함수를 작성하시오\r\n",
    "\r\n",
    "예\r\n",
    "triangle_area()\r\n",
    "삼각형의 밑변 :\r\n",
    "삼격형의 높이 :\r\n",
    "삼각형의 넓이      입니다.\r\n",
    "\r\n",
    "2. 두개의 정수를 받아서 평균을 구하는 함수를 작성하세요\r\n",
    "\r\n",
    "myavg(1,2)\r\n",
    "> 1.5\r\n",
    "\r\n",
    "3. AND 연산자와 OR연산자를 함수로 만들어 보세요\r\n",
    "(단, 파이썬 and, or, &, | 는 사용하지 마세요.)\r\n",
    "# AND 연산자\r\n",
    "and_fun(0,0)\r\n",
    "> 0\r\n",
    "and_fun(0,1)\r\n",
    "> 0\r\n",
    "and_fun(1,0)\r\n",
    "> 0\r\n",
    "and_fun(1,1)\r\n",
    "> 1\r\n",
    "\r\n",
    "# OR연산자를 함수로 만들어 보세요\r\n",
    "or_fun(0,0)\r\n",
    "> 0\r\n",
    "or_fun(0,1)\r\n",
    "> 1\r\n",
    "```0\r\n",
    "xor_fun(1,0) = 1\r\n",
    "xor_fun(0,1) = 1\r\n",
    "```"
   ]
  },
  {
   "cell_type": "code",
   "execution_count": 77,
   "id": "b65bee7c-fe03-401a-a8b9-e2760c2c90e9",
   "metadata": {},
   "outputs": [
    {
     "data": {
      "text/plain": [
       "True"
      ]
     },
     "execution_count": 77,
     "metadata": {},
     "output_type": "execute_result"
    }
   ],
   "source": [
    "\"411\".isdigit() # https://blockdmask.tistory.com/556"
   ]
  },
  {
   "cell_type": "code",
   "execution_count": 80,
   "id": "577a789f-8b36-484b-9b09-cd10d5ddb9c5",
   "metadata": {},
   "outputs": [],
   "source": [
    "def triangle_area():\n",
    "    w_s = input(\"삼각형의 밑변 : \")\n",
    "    h_s = input(\"삼격형의 높이 : \")\n",
    "    if w_s.isdigit() and h_s.isdigit():\n",
    "        w = int(w_s)\n",
    "        h = int(h_s)\n",
    "        result = w * h /2\n",
    "        print(f\"삼각형의 넓이{result}입니다.\")\n",
    "    else:\n",
    "        print(\"정수를 입력 하세요\")"
   ]
  },
  {
   "cell_type": "code",
   "execution_count": 83,
   "id": "7980565a-6335-402f-b13b-1e482d7e0b0f",
   "metadata": {},
   "outputs": [
    {
     "name": "stdin",
     "output_type": "stream",
     "text": [
      "삼각형의 밑변 :  1.58\n",
      "삼격형의 높이 :  124.5\n"
     ]
    },
    {
     "name": "stdout",
     "output_type": "stream",
     "text": [
      "정수를 입력 하세요\n"
     ]
    }
   ],
   "source": [
    "triangle_area()"
   ]
  },
  {
   "cell_type": "code",
   "execution_count": 92,
   "id": "2b8edf2a-c5f6-484c-8395-b4df64e5cbae",
   "metadata": {},
   "outputs": [],
   "source": [
    "def myavg(x_1, x_2):\n",
    "    if isinstance(x_1, int) and isinstance(x_2, int):\n",
    "        result = (x_1 + x_2)/2\n",
    "        return result \n",
    "    else:\n",
    "        print(\"정수를 입력하세요 \")"
   ]
  },
  {
   "cell_type": "code",
   "execution_count": 93,
   "id": "43998565-63ab-4112-8f8f-3e16379a4fd9",
   "metadata": {},
   "outputs": [
    {
     "name": "stdout",
     "output_type": "stream",
     "text": [
      "정수를 입력하세요 \n"
     ]
    }
   ],
   "source": [
    "myavg(1113.414,224)"
   ]
  },
  {
   "cell_type": "code",
   "execution_count": 94,
   "id": "62bb9e75-70ab-4ce1-8371-707ede64809a",
   "metadata": {},
   "outputs": [],
   "source": [
    "# and or \n",
    "def and_fun(x_1, x_2):\n",
    "    if x_1 == 0:\n",
    "        if x_2 == 0 :\n",
    "            result = 0\n",
    "        elif x_2 == 1:\n",
    "            result = 0\n",
    "    elif x_1 == 1:\n",
    "        if x_2 == 0 :\n",
    "            result = 0\n",
    "        elif x_2 == 1:\n",
    "            result = 1\n",
    "    return result \n"
   ]
  },
  {
   "cell_type": "code",
   "execution_count": 99,
   "id": "362decdf-7ccf-4a9c-863c-6acb88cf2989",
   "metadata": {},
   "outputs": [
    {
     "data": {
      "text/plain": [
       "1"
      ]
     },
     "execution_count": 99,
     "metadata": {},
     "output_type": "execute_result"
    }
   ],
   "source": [
    "and_fun(1,1)"
   ]
  },
  {
   "cell_type": "code",
   "execution_count": 101,
   "id": "987397e8-b174-4a06-b980-615b21f3ea5a",
   "metadata": {},
   "outputs": [],
   "source": [
    "# and or \n",
    "def and_fun_1(x_1, x_2):\n",
    "    if x_1 == 0:\n",
    "        if x_2 == 0 :\n",
    "            return 0\n",
    "        elif x_2 == 1:\n",
    "            return 0\n",
    "    elif x_1 == 1:\n",
    "        if x_2 == 0 :\n",
    "            return 0\n",
    "        elif x_2 == 1:\n",
    "            return 1 "
   ]
  },
  {
   "cell_type": "code",
   "execution_count": 105,
   "id": "7d772ec4-1a87-4297-bbdf-0021d5b20aed",
   "metadata": {},
   "outputs": [
    {
     "data": {
      "text/plain": [
       "0"
      ]
     },
     "execution_count": 105,
     "metadata": {},
     "output_type": "execute_result"
    }
   ],
   "source": [
    "and_fun_1(0, 1)"
   ]
  },
  {
   "cell_type": "code",
   "execution_count": 107,
   "id": "e75af730-6bb0-4967-833f-d07252bd1ef8",
   "metadata": {},
   "outputs": [],
   "source": [
    "# and (0, 0), (1, 0), (0,1)     (1,1)\n",
    "def and_fun_2(x_1, x_2):\n",
    "    if 0 in (x_1, x_2):\n",
    "        return 0\n",
    "    else:\n",
    "        return 1"
   ]
  },
  {
   "cell_type": "code",
   "execution_count": 108,
   "id": "a6466746-1126-42d8-a61e-60fe9dd57481",
   "metadata": {},
   "outputs": [],
   "source": [
    "# or  \n",
    "def or_fun_1(x_1, x_2):\n",
    "    if x_1 == 0:\n",
    "        if x_2 == 0 :\n",
    "            return 0\n",
    "        elif x_2 == 1:\n",
    "            return 1\n",
    "    elif x_1 == 1:\n",
    "        if x_2 == 0 :\n",
    "            return 1\n",
    "        elif x_2 == 1:\n",
    "            return 1 "
   ]
  },
  {
   "cell_type": "code",
   "execution_count": 109,
   "id": "7158c13e-4889-44c3-9feb-0791b483d4ad",
   "metadata": {},
   "outputs": [],
   "source": [
    "# and (0, 0), (1, 0), (0,1)     (1,1)\n",
    "def or_fun_2(x_1, x_2):\n",
    "    if 1 in (x_1, x_2):\n",
    "        return 1\n",
    "    else:\n",
    "        return 0"
   ]
  },
  {
   "cell_type": "code",
   "execution_count": null,
   "id": "37ff5204-ac97-4d3b-80aa-cd9857ffaf03",
   "metadata": {},
   "outputs": [],
   "source": [
    "# xor gate 함수를 만들어 보세요\n",
    "# and_fun 과 or_fun 를 적당히 사용하여 함수를 만들어 보세요\n",
    "# 힌트 A XOR B = (A OR B) AND (NOT (A AND B))"
   ]
  },
  {
   "cell_type": "code",
   "execution_count": 112,
   "id": "ce70ebaf-177d-4d64-b42f-1f4fbd782218",
   "metadata": {},
   "outputs": [],
   "source": [
    "\n",
    "def and_fun_2(x_1, x_2):\n",
    "    if 0 in (x_1, x_2):\n",
    "        return 0\n",
    "    else:\n",
    "        return 1\n",
    "        \n",
    "def or_fun_2(x_1, x_2):\n",
    "    if 1 in (x_1, x_2):\n",
    "        return 1\n",
    "    else:\n",
    "        return 0\n",
    "\n",
    "def xor_fun_2(x_1, x_2):\n",
    "    result = and_fun_2(or_fun_2(x_1, x_2), not (and_fun_2(x_1, x_2)))\n",
    "    return result\n"
   ]
  },
  {
   "cell_type": "code",
   "execution_count": 113,
   "id": "f2c897a8-5f27-4855-a8b8-1485ac0197c9",
   "metadata": {},
   "outputs": [
    {
     "data": {
      "text/plain": [
       "0"
      ]
     },
     "execution_count": 113,
     "metadata": {},
     "output_type": "execute_result"
    }
   ],
   "source": [
    "xor_fun_2(1,1)"
   ]
  },
  {
   "cell_type": "code",
   "execution_count": 114,
   "id": "16e419a4-3513-4b6f-a299-25b94b264393",
   "metadata": {},
   "outputs": [
    {
     "data": {
      "text/plain": [
       "0"
      ]
     },
     "execution_count": 114,
     "metadata": {},
     "output_type": "execute_result"
    }
   ],
   "source": [
    "xor_fun_2(0,0)"
   ]
  },
  {
   "cell_type": "code",
   "execution_count": 115,
   "id": "d8d2a479-383f-465b-8082-69d14cb35af5",
   "metadata": {},
   "outputs": [
    {
     "data": {
      "text/plain": [
       "1"
      ]
     },
     "execution_count": 115,
     "metadata": {},
     "output_type": "execute_result"
    }
   ],
   "source": [
    "xor_fun_2(1,0)"
   ]
  },
  {
   "cell_type": "code",
   "execution_count": 116,
   "id": "e649f0df-076b-447d-889d-b2fa400c5a8a",
   "metadata": {},
   "outputs": [
    {
     "data": {
      "text/plain": [
       "1"
      ]
     },
     "execution_count": 116,
     "metadata": {},
     "output_type": "execute_result"
    }
   ],
   "source": [
    "xor_fun_2(0,1)"
   ]
  },
  {
   "cell_type": "markdown",
   "id": "3cf1261b-e469-4db2-ac3f-6f8a96a78591",
   "metadata": {},
   "source": [
    "# 매개변수 전달 방법\n",
    "1. *a\n",
    "   - *a 는 함수정의나 함수 호출시에 사용된다.\n",
    "   - 함수를 정의할때 *a 를 사용하면 가변길이 위치 인수를 나타 낸다.\n",
    "   - 여러개의 인수를 받고, 이 인수들은 튜플로 전달된다. "
   ]
  },
  {
   "cell_type": "code",
   "execution_count": 117,
   "id": "a93f4850-08b8-4439-beef-3e4d428668b7",
   "metadata": {},
   "outputs": [],
   "source": [
    "def my_func(*args):\n",
    "    print(args)\n",
    "    for arg in args:\n",
    "        print(arg)"
   ]
  },
  {
   "cell_type": "code",
   "execution_count": 118,
   "id": "e6dad3b5-e16b-48f4-8e9d-67bfc570df93",
   "metadata": {},
   "outputs": [
    {
     "name": "stdout",
     "output_type": "stream",
     "text": [
      "(1, 2, 3, 4, 5)\n",
      "1\n",
      "2\n",
      "3\n",
      "4\n",
      "5\n"
     ]
    }
   ],
   "source": [
    "my_func(1,2,3,4,5)"
   ]
  },
  {
   "cell_type": "code",
   "execution_count": 123,
   "id": "9c46ffb5-23a5-49ae-8cf0-032042a4ba1a",
   "metadata": {},
   "outputs": [],
   "source": [
    "def my_func_1(args):\n",
    "    print(args)\n",
    "    for arg in args:\n",
    "        print(arg)"
   ]
  },
  {
   "cell_type": "code",
   "execution_count": 124,
   "id": "f0073804-4a6a-4b80-998d-cebdaa189a3b",
   "metadata": {},
   "outputs": [
    {
     "ename": "TypeError",
     "evalue": "my_func_1() takes 1 positional argument but 5 were given",
     "output_type": "error",
     "traceback": [
      "\u001b[1;31m---------------------------------------------------------------------------\u001b[0m",
      "\u001b[1;31mTypeError\u001b[0m                                 Traceback (most recent call last)",
      "Cell \u001b[1;32mIn[124], line 1\u001b[0m\n\u001b[1;32m----> 1\u001b[0m my_func_1(\u001b[38;5;241m1\u001b[39m,\u001b[38;5;241m2\u001b[39m,\u001b[38;5;241m3\u001b[39m,\u001b[38;5;241m4\u001b[39m,\u001b[38;5;241m5\u001b[39m)\n",
      "\u001b[1;31mTypeError\u001b[0m: my_func_1() takes 1 positional argument but 5 were given"
     ]
    }
   ],
   "source": [
    "my_func_1(1,2,3,4,5)"
   ]
  },
  {
   "cell_type": "code",
   "execution_count": 125,
   "id": "2dde69b5-038c-4a26-933d-6bd87d3d4dd3",
   "metadata": {},
   "outputs": [
    {
     "name": "stdout",
     "output_type": "stream",
     "text": [
      "[1, 2, 3, 4, 5]\n",
      "1\n",
      "2\n",
      "3\n",
      "4\n",
      "5\n"
     ]
    }
   ],
   "source": [
    "my_func_1([1,2,3,4,5])"
   ]
  },
  {
   "cell_type": "markdown",
   "id": "925b802d-a065-46de-a146-5609d2a50c63",
   "metadata": {},
   "source": [
    "# **\n",
    "- **a 는 함수의 정의나 호출 시에 사용된다.\n",
    "- **a 가변길이 키워드 인수를 나타낸다.\n",
    "- 매개변수는 딕셔너리로 묶여서 해당 변수에 전달된다. "
   ]
  },
  {
   "cell_type": "code",
   "execution_count": 150,
   "id": "6bf172d3-7b13-4316-9825-4a2d8682ddf8",
   "metadata": {},
   "outputs": [],
   "source": [
    "def my_func_2(**kwargs):\n",
    "    for key, value in kwargs.items():\n",
    "        print(key, value)"
   ]
  },
  {
   "cell_type": "code",
   "execution_count": 151,
   "id": "6ca8eaa2-7ea1-4138-9e74-0178091c3e07",
   "metadata": {},
   "outputs": [
    {
     "name": "stdout",
     "output_type": "stream",
     "text": [
      "a 1\n",
      "b 2\n",
      "c 3\n"
     ]
    }
   ],
   "source": [
    "my_func_2( a = 1, b= 2, c= 3)"
   ]
  },
  {
   "cell_type": "code",
   "execution_count": 152,
   "id": "2a6d7fa9-e37a-4a8e-a77b-6f91e5343ef7",
   "metadata": {},
   "outputs": [
    {
     "name": "stdout",
     "output_type": "stream",
     "text": [
      "x 10\n",
      "y 20\n"
     ]
    }
   ],
   "source": [
    "my_dict = {\"x\" : 10 , \"y\" : 20}\n",
    "my_func_2(**my_dict)"
   ]
  },
  {
   "cell_type": "code",
   "execution_count": 131,
   "id": "fbe53f96-bdf2-4408-8d26-a5e768452adf",
   "metadata": {},
   "outputs": [
    {
     "ename": "SyntaxError",
     "evalue": "invalid syntax (2337616376.py, line 1)",
     "output_type": "error",
     "traceback": [
      "\u001b[1;36m  Cell \u001b[1;32mIn[131], line 1\u001b[1;36m\u001b[0m\n\u001b[1;33m    **{\"x\" : 10 , \"y\" : 20}\u001b[0m\n\u001b[1;37m    ^\u001b[0m\n\u001b[1;31mSyntaxError\u001b[0m\u001b[1;31m:\u001b[0m invalid syntax\n"
     ]
    }
   ],
   "source": []
  },
  {
   "cell_type": "code",
   "execution_count": 133,
   "id": "a1a489a3-83ef-4d62-9060-d40e677550bb",
   "metadata": {},
   "outputs": [
    {
     "data": {
      "text/plain": [
       "\u001b[1;31mSignature:\u001b[0m \u001b[0mprint\u001b[0m\u001b[1;33m(\u001b[0m\u001b[1;33m*\u001b[0m\u001b[0margs\u001b[0m\u001b[1;33m,\u001b[0m \u001b[0msep\u001b[0m\u001b[1;33m=\u001b[0m\u001b[1;34m' '\u001b[0m\u001b[1;33m,\u001b[0m \u001b[0mend\u001b[0m\u001b[1;33m=\u001b[0m\u001b[1;34m'\\n'\u001b[0m\u001b[1;33m,\u001b[0m \u001b[0mfile\u001b[0m\u001b[1;33m=\u001b[0m\u001b[1;32mNone\u001b[0m\u001b[1;33m,\u001b[0m \u001b[0mflush\u001b[0m\u001b[1;33m=\u001b[0m\u001b[1;32mFalse\u001b[0m\u001b[1;33m)\u001b[0m\u001b[1;33m\u001b[0m\u001b[1;33m\u001b[0m\u001b[0m\n",
       "\u001b[1;31mDocstring:\u001b[0m\n",
       "Prints the values to a stream, or to sys.stdout by default.\n",
       "\n",
       "sep\n",
       "  string inserted between values, default a space.\n",
       "end\n",
       "  string appended after the last value, default a newline.\n",
       "file\n",
       "  a file-like object (stream); defaults to the current sys.stdout.\n",
       "flush\n",
       "  whether to forcibly flush the stream.\n",
       "\u001b[1;31mType:\u001b[0m      builtin_function_or_method"
      ]
     },
     "metadata": {},
     "output_type": "display_data"
    }
   ],
   "source": [
    "print??"
   ]
  },
  {
   "cell_type": "code",
   "execution_count": 134,
   "id": "1cca7028-0dcb-4b63-ba46-30d754fc946e",
   "metadata": {},
   "outputs": [
    {
     "name": "stdout",
     "output_type": "stream",
     "text": [
      "hello world hi 집에가고싶다\n"
     ]
    }
   ],
   "source": [
    "print(\"hello\", \"world\", \"hi\", \"집에가고싶다\")"
   ]
  },
  {
   "cell_type": "markdown",
   "id": "8210be6f-0931-4f01-938e-341dc4286a90",
   "metadata": {},
   "source": [
    "# 일급시민 함수\n",
    "- 파이썬의 모든 함수는 일급 시민 함수 이다.\n",
    "- 함수를 다른 함수에 인수로 전달할수 있다.\n",
    "- 함수의 반환값으로 함수를 전달 가능 하다.\n",
    "- 변수나 자료구조에 함수를 저장할 수 있다. "
   ]
  },
  {
   "cell_type": "code",
   "execution_count": 135,
   "id": "4fdd3216-c662-4a12-836e-dad192dbe150",
   "metadata": {},
   "outputs": [],
   "source": [
    "def add(a,b):\n",
    "    return a+b "
   ]
  },
  {
   "cell_type": "code",
   "execution_count": 145,
   "id": "4c89b950-0d91-4324-9265-7c10fd7cb849",
   "metadata": {},
   "outputs": [],
   "source": [
    "def add(a,b):\n",
    "    return a-b\n",
    "\n",
    "def add(a,b):\n",
    "    return a+b+2"
   ]
  },
  {
   "cell_type": "code",
   "execution_count": 146,
   "id": "98450314-f300-4724-b73e-deb15a7e81d4",
   "metadata": {},
   "outputs": [
    {
     "data": {
      "text/plain": [
       "6"
      ]
     },
     "execution_count": 146,
     "metadata": {},
     "output_type": "execute_result"
    }
   ],
   "source": [
    "add(1,3)"
   ]
  },
  {
   "cell_type": "code",
   "execution_count": 136,
   "id": "ca260ead-a2a5-4124-a50c-aa1bfd6b81d3",
   "metadata": {},
   "outputs": [],
   "source": [
    "# 함수를 변수에 저장\n",
    "addition = add"
   ]
  },
  {
   "cell_type": "code",
   "execution_count": 137,
   "id": "1d169950-fef4-4336-ad9f-477cb2eb7a8b",
   "metadata": {},
   "outputs": [
    {
     "data": {
      "text/plain": [
       "3"
      ]
     },
     "execution_count": 137,
     "metadata": {},
     "output_type": "execute_result"
    }
   ],
   "source": [
    "addition(1,2)"
   ]
  },
  {
   "cell_type": "code",
   "execution_count": 138,
   "id": "b5fa730c-7e27-4d94-8281-713d421b70b7",
   "metadata": {},
   "outputs": [],
   "source": [
    "# g는 함수 : 함수르 다른함수에 인수로 전달 \n",
    "def func_3(g, a, b):\n",
    "    a += 1\n",
    "    b += 3\n",
    "    return g(a,b)"
   ]
  },
  {
   "cell_type": "code",
   "execution_count": 139,
   "id": "5fdbb6f3-e788-4c35-a74f-cc67b0d437e3",
   "metadata": {},
   "outputs": [
    {
     "data": {
      "text/plain": [
       "9"
      ]
     },
     "execution_count": 139,
     "metadata": {},
     "output_type": "execute_result"
    }
   ],
   "source": [
    "func_3(add, 2, 3)"
   ]
  },
  {
   "cell_type": "code",
   "execution_count": 140,
   "id": "63643c01-2c29-454e-9935-070d8dd0c714",
   "metadata": {},
   "outputs": [],
   "source": [
    "def mul(a,b):\n",
    "    return a*b "
   ]
  },
  {
   "cell_type": "code",
   "execution_count": 141,
   "id": "44997589-0c4b-4ea0-b679-798332880e08",
   "metadata": {},
   "outputs": [
    {
     "data": {
      "text/plain": [
       "18"
      ]
     },
     "execution_count": 141,
     "metadata": {},
     "output_type": "execute_result"
    }
   ],
   "source": [
    "func_3(mul, 2, 3)"
   ]
  },
  {
   "cell_type": "code",
   "execution_count": 144,
   "id": "9557c51f-a104-40c3-a3b8-f7089a4bcabe",
   "metadata": {},
   "outputs": [
    {
     "name": "stdout",
     "output_type": "stream",
     "text": [
      "13\n",
      "30\n"
     ]
    }
   ],
   "source": [
    "funcs = [add, mul]\n",
    "for func in funcs:\n",
    "    print(func(3,10))"
   ]
  },
  {
   "cell_type": "code",
   "execution_count": null,
   "id": "9f6c70aa-dafd-40f3-af0f-0a85d08376ac",
   "metadata": {},
   "outputs": [],
   "source": []
  }
 ],
 "metadata": {
  "kernelspec": {
   "display_name": "Python 3 (ipykernel)",
   "language": "python",
   "name": "python3"
  },
  "language_info": {
   "codemirror_mode": {
    "name": "ipython",
    "version": 3
   },
   "file_extension": ".py",
   "mimetype": "text/x-python",
   "name": "python",
   "nbconvert_exporter": "python",
   "pygments_lexer": "ipython3",
   "version": "3.11.7"
  }
 },
 "nbformat": 4,
 "nbformat_minor": 5
}
