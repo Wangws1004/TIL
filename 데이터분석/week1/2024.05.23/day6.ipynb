{
 "cells": [
  {
   "cell_type": "markdown",
   "id": "0dfe5290-2b6d-420d-91a4-58385c1a5962",
   "metadata": {},
   "source": [
    "- 힌트 과목과 점수를 리스트에 저장 받으세요\n",
    "- 딕셔너리 보다는 리스트 추천\n",
    "```\n",
    "국어:점수\n",
    "영어:점수\n",
    "수학:점수\n",
    ".\n",
    ".\n",
    ".\n",
    "등을 입력했을 경우 평균을 내어주는 함수를 작성해보시오.\n",
    "(과목의 제한은 없다.)\n",
    "\n",
    "과목: 수학\n",
    "점수: 20\n",
    "추가 하실 건가요?\n",
    "    예 or 아니오 : 예\n",
    "과목: 국어\n",
    "점수: 50\n",
    "추가 하실 건가요?\n",
    "    예 or 아니오 : 아니오\n",
    "수학 : 20\n",
    "국어 : 50\n",
    "평균 : 35\n",
    "```"
   ]
  },
  {
   "cell_type": "code",
   "execution_count": 1,
   "id": "21fbd00e-2b5b-4bf7-9e33-b70493bf0e1b",
   "metadata": {},
   "outputs": [
    {
     "name": "stdin",
     "output_type": "stream",
     "text": [
      "과목을 입력 하세요 :  수학\n",
      "점수를 입력 하세요 :  100\n",
      "계속 추가 하실 건가요? (예 or 아니요)  아니요\n"
     ]
    },
    {
     "name": "stdout",
     "output_type": "stream",
     "text": [
      "평균 : 100.0\n"
     ]
    }
   ],
   "source": [
    "\n",
    "\n",
    "def average(scores):\n",
    "    result = sum(scores)/len(scores)\n",
    "    return result\n",
    "\n",
    "\n",
    "subs = [] # while 문안에 있으면 계속 초기화 된다.\n",
    "scores = [] # 계속 초기화\n",
    "\n",
    "while True:\n",
    "    user_sub = input(\"과목을 입력 하세요 : \")\n",
    "    subs.append(user_sub)\n",
    "    user_score = int(input(\"점수를 입력 하세요 : \"))\n",
    "    scores.append(user_score)\n",
    "    user_input = input(\"계속 추가 하실 건가요? (예 or 아니요) \")\n",
    "    if user_input == \"예\":\n",
    "        print(subs)\n",
    "        print(scores)\n",
    "    else:\n",
    "        print(f\"평균 : {average(scores)}\")\n",
    "        break"
   ]
  },
  {
   "cell_type": "code",
   "execution_count": 13,
   "id": "ab029e51-8c27-4a16-bcac-882fb641007f",
   "metadata": {},
   "outputs": [],
   "source": [
    "scores = [100, 70, 50]\n",
    "def average(scores):\n",
    "    result = sum(scores)/len(scores)\n",
    "    return result"
   ]
  },
  {
   "cell_type": "code",
   "execution_count": 14,
   "id": "d2d65ced-2d8b-4fb3-970f-9ed01b9c4f7c",
   "metadata": {},
   "outputs": [
    {
     "ename": "TypeError",
     "evalue": "'int' object is not callable",
     "output_type": "error",
     "traceback": [
      "\u001b[1;31m---------------------------------------------------------------------------\u001b[0m",
      "\u001b[1;31mTypeError\u001b[0m                                 Traceback (most recent call last)",
      "Cell \u001b[1;32mIn[14], line 1\u001b[0m\n\u001b[1;32m----> 1\u001b[0m average(scores)\n",
      "Cell \u001b[1;32mIn[13], line 3\u001b[0m, in \u001b[0;36maverage\u001b[1;34m(scores)\u001b[0m\n\u001b[0;32m      2\u001b[0m \u001b[38;5;28;01mdef\u001b[39;00m \u001b[38;5;21maverage\u001b[39m(scores):\n\u001b[1;32m----> 3\u001b[0m     result \u001b[38;5;241m=\u001b[39m \u001b[38;5;28msum\u001b[39m(scores)\u001b[38;5;241m/\u001b[39m\u001b[38;5;28mlen\u001b[39m(scores)\n\u001b[0;32m      4\u001b[0m     \u001b[38;5;28;01mreturn\u001b[39;00m result\n",
      "\u001b[1;31mTypeError\u001b[0m: 'int' object is not callable"
     ]
    }
   ],
   "source": [
    "average(scores)"
   ]
  },
  {
   "cell_type": "code",
   "execution_count": 10,
   "id": "11327037-0a16-48ed-a27d-b9ecfc4dd01a",
   "metadata": {},
   "outputs": [
    {
     "data": {
      "text/plain": [
       "73.33333333333333"
      ]
     },
     "execution_count": 10,
     "metadata": {},
     "output_type": "execute_result"
    }
   ],
   "source": [
    "scores = [100, 70, 50]\n",
    "sum = 0\n",
    "for score in scores:\n",
    "    sum += score\n",
    "sum / len(scores)"
   ]
  },
  {
   "cell_type": "code",
   "execution_count": 2,
   "id": "57721b10-3f5f-455c-865b-5eb9d839617a",
   "metadata": {},
   "outputs": [],
   "source": [
    "def average(scores):\n",
    "    result = sum(scores)/len(scores)\n",
    "    return result\n",
    "\n",
    "def main():\n",
    "    subs = [] # while 문안에 있으면 계속 초기화 된다.\n",
    "    scores = [] # 계속 초기화\n",
    "    \n",
    "    while True:\n",
    "        user_sub = input(\"과목을 입력 하세요 : \")\n",
    "        subs.append(user_sub)\n",
    "        user_score = int(input(\"점수를 입력 하세요 : \"))\n",
    "        scores.append(user_score)\n",
    "        user_input = input(\"계속 추가 하실 건가요? (예 or 아니요) \")\n",
    "        if user_input == \"예\":\n",
    "            for sub, sco in zip(subs, scores):\n",
    "                print(f\"{sub} : {sco}\")\n",
    "        else:\n",
    "            print(f\"평균 : {average(scores)}\")\n",
    "            break"
   ]
  },
  {
   "cell_type": "code",
   "execution_count": 3,
   "id": "d6472abe-7612-4a32-bf7c-963d7b34cb88",
   "metadata": {},
   "outputs": [
    {
     "name": "stdin",
     "output_type": "stream",
     "text": [
      "과목을 입력 하세요 :  수학\n",
      "점수를 입력 하세요 :  100\n",
      "계속 추가 하실 건가요? (예 or 아니요)  예\n"
     ]
    },
    {
     "name": "stdout",
     "output_type": "stream",
     "text": [
      "수학 : 100\n"
     ]
    },
    {
     "name": "stdin",
     "output_type": "stream",
     "text": [
      "과목을 입력 하세요 :  체육\n",
      "점수를 입력 하세요 :  90\n",
      "계속 추가 하실 건가요? (예 or 아니요)  예\n"
     ]
    },
    {
     "name": "stdout",
     "output_type": "stream",
     "text": [
      "수학 : 100\n",
      "체육 : 90\n"
     ]
    },
    {
     "name": "stdin",
     "output_type": "stream",
     "text": [
      "과목을 입력 하세요 :  국어\n",
      "점수를 입력 하세요 :  50\n",
      "계속 추가 하실 건가요? (예 or 아니요)  아니요\n"
     ]
    },
    {
     "name": "stdout",
     "output_type": "stream",
     "text": [
      "평균 : 80.0\n"
     ]
    }
   ],
   "source": [
    "main()"
   ]
  },
  {
   "cell_type": "markdown",
   "id": "4acea346-be4b-44ee-8472-3a6a5e78466d",
   "metadata": {},
   "source": [
    "# 람다 함수\n",
    "- 이름 없는 한 줄 짜리 함수\n",
    "- 일반 함수와의 차이\n",
    "    - 일반 함수는 함수를 정의하고 함수를 인수로 전달 가능\n",
    "    - 람다 함수는 정의와 동시에 함수 객체로 사용한다.\n",
    "```\n",
    "lambda <인수들> : <반환할 식>\n",
    "```"
   ]
  },
  {
   "cell_type": "code",
   "execution_count": 7,
   "id": "5ff1abab-249c-4b9c-b9a5-4ed09f876a17",
   "metadata": {},
   "outputs": [],
   "source": [
    "lam_1 = lambda x,y : x+y"
   ]
  },
  {
   "cell_type": "code",
   "execution_count": 8,
   "id": "299c12bd-2690-42c0-9333-8e89e77ea26c",
   "metadata": {},
   "outputs": [
    {
     "data": {
      "text/plain": [
       "3"
      ]
     },
     "execution_count": 8,
     "metadata": {},
     "output_type": "execute_result"
    }
   ],
   "source": [
    "lam_1(1,2)"
   ]
  },
  {
   "cell_type": "markdown",
   "id": "3fa8fbeb-4145-49d6-a725-ad75d486a60c",
   "metadata": {},
   "source": [
    "# map 함수, fileter 함수\n",
    "- 함수를 매개변수로 전달 하는 함수이다.\n",
    "- map()\n",
    "    - 리스트의 요소를 함수에 넣고 리턴된 값으로 새로운 리스트를 구성해주는 함수\n",
    "```\n",
    "map(<function>, <list>)\n",
    "```"
   ]
  },
  {
   "cell_type": "code",
   "execution_count": 9,
   "id": "39b53e2f-d27a-49ae-8deb-0811398fe1be",
   "metadata": {},
   "outputs": [],
   "source": [
    "list_input_a = [1,2,3,4,5]"
   ]
  },
  {
   "cell_type": "code",
   "execution_count": 10,
   "id": "d9d0694b-5cfe-44f2-9e6b-dcbd8b18f027",
   "metadata": {},
   "outputs": [],
   "source": [
    "def power(items):\n",
    "    return items * items"
   ]
  },
  {
   "cell_type": "code",
   "execution_count": 11,
   "id": "97c4b983-44d2-4d72-b8d7-adfef2bcfd9a",
   "metadata": {},
   "outputs": [],
   "source": [
    "map_output = map(power, list_input_a)"
   ]
  },
  {
   "cell_type": "code",
   "execution_count": 12,
   "id": "14ea2b04-9cf4-4317-ad71-afad75e0d4ca",
   "metadata": {},
   "outputs": [
    {
     "name": "stdout",
     "output_type": "stream",
     "text": [
      "<map object at 0x00000197208FD5D0>\n"
     ]
    }
   ],
   "source": [
    "print(map_output)"
   ]
  },
  {
   "cell_type": "code",
   "execution_count": 13,
   "id": "0d67538f-e1d3-456f-a400-1e08b02888fc",
   "metadata": {},
   "outputs": [
    {
     "data": {
      "text/plain": [
       "map"
      ]
     },
     "execution_count": 13,
     "metadata": {},
     "output_type": "execute_result"
    }
   ],
   "source": [
    "type(map_output)"
   ]
  },
  {
   "cell_type": "code",
   "execution_count": 14,
   "id": "3a27c3af-ea6a-4876-9253-818537e8956f",
   "metadata": {},
   "outputs": [
    {
     "data": {
      "text/plain": [
       "[1, 4, 9, 16, 25]"
      ]
     },
     "execution_count": 14,
     "metadata": {},
     "output_type": "execute_result"
    }
   ],
   "source": [
    "list(map_output)"
   ]
  },
  {
   "cell_type": "code",
   "execution_count": 15,
   "id": "8dec0b6c-4820-40d5-bf7b-50425356051f",
   "metadata": {},
   "outputs": [
    {
     "data": {
      "text/plain": [
       "[1, 4, 9, 16, 25]"
      ]
     },
     "execution_count": 15,
     "metadata": {},
     "output_type": "execute_result"
    }
   ],
   "source": [
    "[power(num) for num in list_input_a]"
   ]
  },
  {
   "cell_type": "code",
   "execution_count": 16,
   "id": "a7d648b6-9988-45e9-b622-c722bb69a38f",
   "metadata": {},
   "outputs": [],
   "source": [
    "map_output_1 = map(lambda x : x * x , list_input_a)"
   ]
  },
  {
   "cell_type": "code",
   "execution_count": 17,
   "id": "4f5787e1-1b4c-4617-a35c-65e9a3e93068",
   "metadata": {},
   "outputs": [
    {
     "data": {
      "text/plain": [
       "[1, 4, 9, 16, 25]"
      ]
     },
     "execution_count": 17,
     "metadata": {},
     "output_type": "execute_result"
    }
   ],
   "source": [
    "list(map_output_1)"
   ]
  },
  {
   "cell_type": "code",
   "execution_count": 21,
   "id": "043a61cb-0976-4eb0-9259-36fc6a132fff",
   "metadata": {},
   "outputs": [],
   "source": [
    "# 람다 함수를 사용해 문자열 길이로 리스트를 정렬 하는 예\n",
    "words = [\"apple\", \"banana\", \"cherry\", \"date\"]\n",
    "# sorted()"
   ]
  },
  {
   "cell_type": "code",
   "execution_count": 23,
   "id": "2e740894-a67f-48b6-82db-378143db5fc6",
   "metadata": {
    "scrolled": true
   },
   "outputs": [
    {
     "data": {
      "text/plain": [
       "['apple', 'banana', 'cherry', 'date']"
      ]
     },
     "execution_count": 23,
     "metadata": {},
     "output_type": "execute_result"
    }
   ],
   "source": [
    "sorted(words)"
   ]
  },
  {
   "cell_type": "code",
   "execution_count": 24,
   "id": "f59cc43e-c9fc-4ea3-b5ca-3680c3008d23",
   "metadata": {},
   "outputs": [],
   "source": [
    "sorted_words = sorted(words, key=lambda x: len(x))"
   ]
  },
  {
   "cell_type": "code",
   "execution_count": 25,
   "id": "5b827f24-d3c3-4fd6-b805-8b80497a5054",
   "metadata": {},
   "outputs": [
    {
     "data": {
      "text/plain": [
       "['date', 'apple', 'banana', 'cherry']"
      ]
     },
     "execution_count": 25,
     "metadata": {},
     "output_type": "execute_result"
    }
   ],
   "source": [
    "sorted_words"
   ]
  },
  {
   "cell_type": "markdown",
   "id": "3abf48d6-406a-49af-a77a-f8daf780b55d",
   "metadata": {},
   "source": [
    "# filter 함수\n",
    "- 리스트의 요소를 함수에 넣고 리턴된 값이 True 인 것으로 구성된 새로운 리스트를 반환한다.\n",
    "```\n",
    "filter(<함수>, <리스트>)\n",
    "```"
   ]
  },
  {
   "cell_type": "code",
   "execution_count": 27,
   "id": "16211f7c-5b2d-4fa0-8b39-57dc08c1fc93",
   "metadata": {},
   "outputs": [],
   "source": [
    "filter_list = [1,2,3,4,5,6,7,8,9]"
   ]
  },
  {
   "cell_type": "code",
   "execution_count": 28,
   "id": "82728924-bf84-46e0-9e31-4e43058836b3",
   "metadata": {},
   "outputs": [],
   "source": [
    "filter_output = filter(lambda x: x<4, filter_list)"
   ]
  },
  {
   "cell_type": "code",
   "execution_count": 41,
   "id": "1f57bc56-0d4e-4a69-95b0-ec08b981f666",
   "metadata": {},
   "outputs": [
    {
     "data": {
      "text/plain": [
       "\u001b[1;31mInit signature:\u001b[0m \u001b[0mfilter\u001b[0m\u001b[1;33m(\u001b[0m\u001b[0mself\u001b[0m\u001b[1;33m,\u001b[0m \u001b[1;33m/\u001b[0m\u001b[1;33m,\u001b[0m \u001b[1;33m*\u001b[0m\u001b[0margs\u001b[0m\u001b[1;33m,\u001b[0m \u001b[1;33m**\u001b[0m\u001b[0mkwargs\u001b[0m\u001b[1;33m)\u001b[0m\u001b[1;33m\u001b[0m\u001b[1;33m\u001b[0m\u001b[0m\n",
       "\u001b[1;31mDocstring:\u001b[0m     \n",
       "filter(function or None, iterable) --> filter object\n",
       "\n",
       "Return an iterator yielding those items of iterable for which function(item)\n",
       "is true. If function is None, return the items that are true.\n",
       "\u001b[1;31mType:\u001b[0m           type\n",
       "\u001b[1;31mSubclasses:\u001b[0m     "
      ]
     },
     "metadata": {},
     "output_type": "display_data"
    }
   ],
   "source": [
    "filter?"
   ]
  },
  {
   "cell_type": "code",
   "execution_count": 30,
   "id": "8e9ae5c2-8852-45db-8c3c-10b4451d6514",
   "metadata": {},
   "outputs": [
    {
     "data": {
      "text/plain": [
       "[1, 2, 3]"
      ]
     },
     "execution_count": 30,
     "metadata": {},
     "output_type": "execute_result"
    }
   ],
   "source": [
    "list(filter_output)"
   ]
  },
  {
   "cell_type": "code",
   "execution_count": 31,
   "id": "6d837c12-ef72-4f58-b9f8-8dc91af5ade8",
   "metadata": {},
   "outputs": [],
   "source": [
    "# 람다 함수를 사용해 리스트에서 짝수만 필터링 하도록 만들어 보세요\n",
    "# 리스트는 1부터 10까지 \n",
    "filter_even = filter(lambda x: x % 2 == 0, filter_list)"
   ]
  },
  {
   "cell_type": "code",
   "execution_count": 33,
   "id": "a8b6436b-9f5b-4296-b20a-7fefde2c7e1b",
   "metadata": {},
   "outputs": [
    {
     "data": {
      "text/plain": [
       "[2, 4, 6, 8]"
      ]
     },
     "execution_count": 33,
     "metadata": {},
     "output_type": "execute_result"
    }
   ],
   "source": [
    "list(filter_even)"
   ]
  },
  {
   "cell_type": "code",
   "execution_count": 34,
   "id": "deb83028-a2ad-4bec-ab1e-a671dd46c6df",
   "metadata": {},
   "outputs": [
    {
     "name": "stdout",
     "output_type": "stream",
     "text": [
      "['x']\n"
     ]
    }
   ],
   "source": [
    "# case 1\n",
    "# 11. 다음 코드의 실행 결과를 쓰시오.\n",
    "# 재할당과 동시에 local val 이 된다. \n",
    "def test(x, y):\n",
    "    tmp = x\n",
    "    x = y\n",
    "    y = tmp\n",
    "    return y.append(x) # -> None\n",
    "\n",
    "x = [\"y\"]\n",
    "y = [\"x\"]\n",
    "test(x, y)\n",
    "print(y)"
   ]
  },
  {
   "cell_type": "code",
   "execution_count": 35,
   "id": "69cad1ce-dd57-4018-b69c-db4fc9e149b8",
   "metadata": {},
   "outputs": [
    {
     "name": "stdout",
     "output_type": "stream",
     "text": [
      "['x', ['y']]\n"
     ]
    }
   ],
   "source": [
    "# case 2\n",
    "# global val 을 그대로 변경\n",
    "def test(x, y):\n",
    "    return y.append(x) # -> None\n",
    "\n",
    "x = [\"y\"]\n",
    "y = [\"x\"]\n",
    "test(x, y)\n",
    "print(y)"
   ]
  },
  {
   "cell_type": "markdown",
   "id": "39bcc893-9b67-425e-a814-f565d7321c6c",
   "metadata": {},
   "source": [
    "# 데코레이터\n",
    "- 특정 함수가 실행되기 전에 (공통으로)수행해야 하는 함수를 미리 지정해 놓는다. \n",
    "- 예) 로그인 기능 \n",
    "- 관리자 페이지 www.google.com/admin\n",
    "\n",
    "```python\n",
    "def decorator_func(origin_func):\n",
    "    def wrapper_func(*args, **kwargs):\n",
    "        # 데코레이터가 적용 함수 호출 전에 수행 할 작업\n",
    "        result = origin_func(*args, **kwargs)\n",
    "        # 데코레이터가 적용될 함수 호출 후에 수행할 작업\n",
    "        return result\n",
    "    return wrapper_func\n",
    "```"
   ]
  },
  {
   "cell_type": "code",
   "execution_count": 52,
   "id": "8d503299-fea4-46e5-9fa3-beb09fcd139a",
   "metadata": {},
   "outputs": [],
   "source": [
    "users = {\n",
    "    \"user1\" : \"password1\", \n",
    "    \"user2\" : \"password2\",\n",
    "    \"user3\" : \"password3\", \n",
    "}\n",
    "current_user = None\n",
    "\n",
    "# 로그인 함수 구현 \n",
    "# global 의 current_user 을 확인하고 패스워드가 동일 하다면 username 으로 변경 되는 함수 \n",
    "def login(username, password):\n",
    "    global current_user # current_user 함수 밖에 정의된 변수\n",
    "    if username in users and users[username] == password:\n",
    "        current_user = username\n",
    "        print(f\"{current_user} 님이 로그인 했습니다.\")\n",
    "\n",
    "def logout():\n",
    "    global current_user\n",
    "    if current_user: # None 이 아닌 값이 있다.\n",
    "        print(f\"{current_user} 님이 로그아웃 했습니다.\")\n",
    "        current_user = None\n",
    "    else:\n",
    "        print(\"로그인 상태가 아닙니다.\")"
   ]
  },
  {
   "cell_type": "code",
   "execution_count": 55,
   "id": "9c047698-ae7e-46c2-8c18-87c105f9758c",
   "metadata": {},
   "outputs": [
    {
     "name": "stdout",
     "output_type": "stream",
     "text": [
      "user1 님이 로그인 했습니다.\n",
      "user1\n"
     ]
    }
   ],
   "source": [
    "login(\"user1\", \"password1\")\n",
    "print(current_user)"
   ]
  },
  {
   "cell_type": "code",
   "execution_count": 56,
   "id": "29cb1ddd-7ac6-4186-b147-f3d61e63e6c5",
   "metadata": {},
   "outputs": [
    {
     "name": "stdout",
     "output_type": "stream",
     "text": [
      "user1 님이 로그아웃 했습니다.\n",
      "None\n"
     ]
    }
   ],
   "source": [
    "logout()\n",
    "print(current_user)"
   ]
  },
  {
   "cell_type": "code",
   "execution_count": 57,
   "id": "e620d5dc-e5df-41df-bad3-355ae0eb8522",
   "metadata": {},
   "outputs": [
    {
     "name": "stdout",
     "output_type": "stream",
     "text": [
      "로그인 상태가 아닙니다.\n"
     ]
    }
   ],
   "source": [
    "current_user = None\n",
    "logout()"
   ]
  },
  {
   "cell_type": "code",
   "execution_count": 51,
   "id": "f3c1f3d9-1374-420e-8301-07d4d5836013",
   "metadata": {},
   "outputs": [
    {
     "data": {
      "text/plain": [
       "False"
      ]
     },
     "execution_count": 51,
     "metadata": {},
     "output_type": "execute_result"
    }
   ],
   "source": [
    "# bool(None)"
   ]
  },
  {
   "cell_type": "code",
   "execution_count": 59,
   "id": "5061207e-ef0b-43a8-8c00-a8ad66fc18b6",
   "metadata": {},
   "outputs": [],
   "source": [
    "def login_required(func):\n",
    "    def wrapper(*args, **kwargs):\n",
    "        if current_user is None:\n",
    "            print(\"로그인이 필요 합니다.\")\n",
    "        else:\n",
    "            func(*args, **kwargs)\n",
    "    return wrapper"
   ]
  },
  {
   "cell_type": "code",
   "execution_count": 60,
   "id": "97dce53f-32f2-41c3-bd73-8296025fa0ec",
   "metadata": {},
   "outputs": [],
   "source": [
    "@login_required\n",
    "def view_profile():\n",
    "    print(f\"{current_user} 의 프로필 페이지\")"
   ]
  },
  {
   "cell_type": "code",
   "execution_count": 61,
   "id": "dbfd9462-b729-44ea-b124-8c06c601134a",
   "metadata": {},
   "outputs": [
    {
     "name": "stdout",
     "output_type": "stream",
     "text": [
      "로그인이 필요 합니다.\n"
     ]
    }
   ],
   "source": [
    "view_profile()"
   ]
  },
  {
   "cell_type": "code",
   "execution_count": 62,
   "id": "51e8e72e-5579-4722-9ba0-8166c65ac8bc",
   "metadata": {},
   "outputs": [
    {
     "name": "stdout",
     "output_type": "stream",
     "text": [
      "user1 님이 로그인 했습니다.\n",
      "user1 의 프로필 페이지\n",
      "user1 님이 로그아웃 했습니다.\n"
     ]
    }
   ],
   "source": [
    "# 로그인 시도 -> view profile -> logout\n",
    "login(\"user1\", \"password1\")\n",
    "view_profile()\n",
    "logout()"
   ]
  },
  {
   "cell_type": "code",
   "execution_count": 63,
   "id": "386b817f-1f44-455f-bb5d-25b5ec1e58e3",
   "metadata": {},
   "outputs": [
    {
     "name": "stdout",
     "output_type": "stream",
     "text": [
      "로그인이 필요 합니다.\n",
      "로그인 상태가 아닙니다.\n"
     ]
    }
   ],
   "source": [
    "# 로그인 시도 -> view profile -> logout\n",
    "login(\"user1\", \"passwor1\")\n",
    "view_profile()\n",
    "logout()"
   ]
  },
  {
   "cell_type": "markdown",
   "id": "d6e6591c-3208-4c5c-8d1f-0cb4ec09180d",
   "metadata": {},
   "source": [
    "# 변수의 유효 범위\n",
    "- 변수가 어느 범위에서 유효한지를 나타냄\n",
    "- 함수 내부에서 정의된 변수 local 변수\n",
    "- 함수 외부에서 정의되면 해당 모듈 Global 변수가 된다.\n",
    "- local 변수 : 해당 정의된 함수에서만 사용 가능\n",
    "- global 변수 : 코드의 모든 범위에서 사용 가능"
   ]
  },
  {
   "cell_type": "markdown",
   "id": "831213fc-866f-4063-a1c9-6f09a4a79e9f",
   "metadata": {},
   "source": [
    "# 재귀 함수 \n",
    "- 재귀 함수 란 뭔가요?\n",
    "```\n",
    "n! = n * (n-1) * (n-2) * (n-3) * ... * 3 * 2 * 1\n",
    "   = n * (n-1)!\n",
    "(n-1)! = (n-1) * (n-2) * (n-3) * ... * 3 * 2 * 1\n",
    "       = (n-1) * (n-2)!\n",
    "...\n",
    "(2)! = 2 * 1\n",
    "     = 2 * 1!\n",
    "(1)! = 1 * 0!\n",
    "(0)! = 1\n",
    "```"
   ]
  },
  {
   "cell_type": "code",
   "execution_count": 64,
   "id": "e009453c-5805-4290-8cea-aad22585d2a0",
   "metadata": {},
   "outputs": [],
   "source": [
    "def factorial(n):\n",
    "    result = 1\n",
    "    for i in range(1, n+1):\n",
    "        result *= i\n",
    "    return result \n",
    "    "
   ]
  },
  {
   "cell_type": "code",
   "execution_count": 67,
   "id": "8bf00cc3-f587-4d9c-ac01-358af99363c5",
   "metadata": {},
   "outputs": [
    {
     "data": {
      "text/plain": [
       "120"
      ]
     },
     "execution_count": 67,
     "metadata": {},
     "output_type": "execute_result"
    }
   ],
   "source": [
    "factorial(5)"
   ]
  },
  {
   "cell_type": "code",
   "execution_count": 73,
   "id": "52995e1f-1abd-433c-80cc-c6a1e177a531",
   "metadata": {},
   "outputs": [],
   "source": [
    "def factorial_1(n):\n",
    "    result = 1\n",
    "    for i in range(n, 0, -1):\n",
    "        result *= i\n",
    "    return result \n",
    "    "
   ]
  },
  {
   "cell_type": "code",
   "execution_count": 74,
   "id": "7ffaa14a-a7af-4f71-b1ae-968a06bd6b38",
   "metadata": {},
   "outputs": [
    {
     "data": {
      "text/plain": [
       "120"
      ]
     },
     "execution_count": 74,
     "metadata": {},
     "output_type": "execute_result"
    }
   ],
   "source": [
    "factorial_1(5)"
   ]
  },
  {
   "cell_type": "code",
   "execution_count": 75,
   "id": "09c4ede2-2684-401a-9db0-6cb364991c43",
   "metadata": {},
   "outputs": [],
   "source": [
    "# n! = n * (n-1) * (n-2) * (n-3) * ... * 3 * 2 * 1 = n * (n-1)!\n",
    "# n! = n * (n-1)!\n",
    "# 단, 0! = 1 이라고 하기로 한다. \n",
    "# \n",
    "\n",
    "def factorial_3(n):\n",
    "    if n == 0:\n",
    "        return 1\n",
    "    else:\n",
    "        return n * factorial_3(n-1)"
   ]
  },
  {
   "cell_type": "code",
   "execution_count": 76,
   "id": "b4ee8246-b7a4-496b-89f0-267f3f61021b",
   "metadata": {},
   "outputs": [
    {
     "data": {
      "text/plain": [
       "120"
      ]
     },
     "execution_count": 76,
     "metadata": {},
     "output_type": "execute_result"
    }
   ],
   "source": [
    "factorial_3(5)"
   ]
  },
  {
   "cell_type": "markdown",
   "id": "e6029239-fe85-4991-917e-29e4a022ad4a",
   "metadata": {},
   "source": [
    "# 1부터 n까지의 합을 구하는 함수를 만들어 보세요 \n",
    "```\n",
    "sig(n) = n + (n-1) + (n-2) + (n-3) + ... + 2 + 1 = n + sig(n-1)\n",
    "sig(n-1) = n-1 + sig(n-2)\n",
    "...\n",
    "sig(2) = 2 + 1\n",
    "sig(1) = 1\n",
    "```\n",
    "\n",
    "# x^n 을 구하는 함수를 만들어 보세요\n",
    "```\n",
    "pow(x^n) = x * x * ... * x = x * pow(x^n-1)\n",
    "pow(x^n-1) = x * pow(x^n-2)\n",
    "pow(x^2) = x * pow(x^1)\n",
    "pow(x^1) = x\n",
    "```\n"
   ]
  },
  {
   "cell_type": "code",
   "execution_count": 78,
   "id": "63283185-5b63-46d1-9178-856fc49922ec",
   "metadata": {},
   "outputs": [],
   "source": [
    "def sig(n):\n",
    "    if n == 1:\n",
    "        return 1\n",
    "    else:\n",
    "        return n + sig(n-1)"
   ]
  },
  {
   "cell_type": "code",
   "execution_count": 79,
   "id": "3bc354a7-1683-4bf2-8c01-722ea2acc155",
   "metadata": {},
   "outputs": [
    {
     "data": {
      "text/plain": [
       "55"
      ]
     },
     "execution_count": 79,
     "metadata": {},
     "output_type": "execute_result"
    }
   ],
   "source": [
    "sig(10)"
   ]
  },
  {
   "cell_type": "code",
   "execution_count": 80,
   "id": "a870cab0-8ef9-44e4-9ca3-f4e7a5a10a4d",
   "metadata": {},
   "outputs": [],
   "source": [
    "def power(x, n):\n",
    "    if n == 1:\n",
    "        return x\n",
    "    else:\n",
    "        return x * power(x, n-1)"
   ]
  },
  {
   "cell_type": "code",
   "execution_count": 81,
   "id": "10edee3a-1bf5-40cb-a0f3-fda67a8b9892",
   "metadata": {},
   "outputs": [
    {
     "data": {
      "text/plain": [
       "1024"
      ]
     },
     "execution_count": 81,
     "metadata": {},
     "output_type": "execute_result"
    }
   ],
   "source": [
    "power(2, 10)"
   ]
  },
  {
   "cell_type": "code",
   "execution_count": 82,
   "id": "0822d32a-819d-4b4d-9028-986a00f597b7",
   "metadata": {},
   "outputs": [],
   "source": [
    "def power_(x, n):\n",
    "    if n == 0:\n",
    "        return 1\n",
    "    else:\n",
    "        return x * power(x, n-1)"
   ]
  },
  {
   "cell_type": "code",
   "execution_count": 83,
   "id": "da2e2bdb-96e7-481f-ba9e-5cb5e5556ab2",
   "metadata": {},
   "outputs": [
    {
     "data": {
      "text/plain": [
       "1024"
      ]
     },
     "execution_count": 83,
     "metadata": {},
     "output_type": "execute_result"
    }
   ],
   "source": [
    "power(2,10)"
   ]
  },
  {
   "cell_type": "markdown",
   "id": "68423925-d287-4ff5-9297-fb7c635a6936",
   "metadata": {},
   "source": [
    "# 최대 공약수 계산기\n",
    "```\n",
    "15와 12의 최대 공약수는?\n",
    "15        12\n",
    "15%12     12\n",
    "12         3\n",
    "12 % 3     3\n",
    "3          0\n",
    "최대 공약수는 3이다.\n",
    "```\n",
    "- 숫자 m,n\n",
    "- 경우1 : m < n\n",
    "    - m 과 n 의 위치를 바꿔준다.\n",
    "- 경우2 : m >= n\n",
    "    - m 에서 n을 나눠 나머지만 갖고온다.\n",
    "    - m 에서 n을 나눠 나머지가 0일때 까지 반복 한다.(탈출 조건) -> n을 반환 하고 탈출\n",
    "\n",
    "```\n",
    "16        21\n",
    "21        16\n",
    "21%16     16\n",
    "16         5\n",
    "16%5       5\n",
    "5          1\n",
    "5%1        1\n",
    "1          0\n",
    "```\n",
    "1을 반환 하고 종료 \n"
   ]
  },
  {
   "cell_type": "code",
   "execution_count": 84,
   "id": "8f007555-84ab-4120-97c3-04d597c0cc56",
   "metadata": {},
   "outputs": [],
   "source": [
    "def gcd(m, n):\n",
    "    if m < n :\n",
    "        m, n = n, m\n",
    "    if m%n == 0:\n",
    "        return n\n",
    "    else:\n",
    "        return gcd(n, m%n)"
   ]
  },
  {
   "cell_type": "code",
   "execution_count": 85,
   "id": "8b72d472-3a88-49fd-ac4a-38e93c73d75d",
   "metadata": {},
   "outputs": [
    {
     "data": {
      "text/plain": [
       "5"
      ]
     },
     "execution_count": 85,
     "metadata": {},
     "output_type": "execute_result"
    }
   ],
   "source": [
    "gcd(5, 10)"
   ]
  },
  {
   "cell_type": "code",
   "execution_count": 86,
   "id": "4d5fa22e-1850-408b-8a77-554c74b7efd6",
   "metadata": {},
   "outputs": [
    {
     "data": {
      "text/plain": [
       "3"
      ]
     },
     "execution_count": 86,
     "metadata": {},
     "output_type": "execute_result"
    }
   ],
   "source": [
    "gcd(15, 12)"
   ]
  },
  {
   "cell_type": "code",
   "execution_count": 87,
   "id": "f946c37f-27a5-4a31-b389-7782c8822cca",
   "metadata": {},
   "outputs": [
    {
     "data": {
      "text/plain": [
       "1"
      ]
     },
     "execution_count": 87,
     "metadata": {},
     "output_type": "execute_result"
    }
   ],
   "source": [
    "gcd(16, 21)"
   ]
  },
  {
   "cell_type": "markdown",
   "id": "ae3422c8-23af-4214-be67-380647315c20",
   "metadata": {},
   "source": [
    "- 1, 1, 2, 3, 5, 8, 13, 21, ...\n",
    "- fibo 탈출 조건은? n = 1, n =2\n",
    "- fibo 탈출이 안된다면? fibo(n-2) + fibo(n-1) = fibo(n)\n",
    "- fibo(5) = fibo(4) + fibo(3)\n",
    "- fibo(4) = fibo(3) + fibo(2)\n",
    "- fibo(3) = fibo(2) + fibo(1)\n",
    "\n",
    "# 구현"
   ]
  },
  {
   "cell_type": "code",
   "execution_count": 88,
   "id": "c7c805ff-721f-4d64-947e-ba07a304d801",
   "metadata": {},
   "outputs": [],
   "source": [
    "def fibo(n):\n",
    "    if n <= 0:\n",
    "        return 0 \n",
    "    if n == 1 or n == 2:\n",
    "        return 1\n",
    "    else:\n",
    "        return fibo(n-1) + fibo(n-2)"
   ]
  },
  {
   "cell_type": "code",
   "execution_count": 95,
   "id": "6f13efff-a4d6-44d9-abc3-39199e728e31",
   "metadata": {},
   "outputs": [
    {
     "data": {
      "text/plain": [
       "55"
      ]
     },
     "execution_count": 95,
     "metadata": {},
     "output_type": "execute_result"
    }
   ],
   "source": [
    "fibo(10)"
   ]
  },
  {
   "cell_type": "code",
   "execution_count": 96,
   "id": "7b79c983-7825-4ad7-866e-ea042b38dc0d",
   "metadata": {},
   "outputs": [],
   "source": [
    "counter = 0 \n",
    "\n",
    "def fibo(n):\n",
    "    global counter\n",
    "    counter += 1\n",
    "    print(f\"fibo {n}을 구합니다.\")\n",
    "    if n <= 0:\n",
    "        return 0 \n",
    "    if n == 1 or n == 2:\n",
    "        return 1\n",
    "    else:\n",
    "        return fibo(n-1) + fibo(n-2)"
   ]
  },
  {
   "cell_type": "code",
   "execution_count": 98,
   "id": "3b7706d5-9c05-450e-9906-5379e2fbcb74",
   "metadata": {
    "scrolled": true
   },
   "outputs": [
    {
     "name": "stdout",
     "output_type": "stream",
     "text": [
      "fibo 10을 구합니다.\n",
      "fibo 9을 구합니다.\n",
      "fibo 8을 구합니다.\n",
      "fibo 7을 구합니다.\n",
      "fibo 6을 구합니다.\n",
      "fibo 5을 구합니다.\n",
      "fibo 4을 구합니다.\n",
      "fibo 3을 구합니다.\n",
      "fibo 2을 구합니다.\n",
      "fibo 1을 구합니다.\n",
      "fibo 2을 구합니다.\n",
      "fibo 3을 구합니다.\n",
      "fibo 2을 구합니다.\n",
      "fibo 1을 구합니다.\n",
      "fibo 4을 구합니다.\n",
      "fibo 3을 구합니다.\n",
      "fibo 2을 구합니다.\n",
      "fibo 1을 구합니다.\n",
      "fibo 2을 구합니다.\n",
      "fibo 5을 구합니다.\n",
      "fibo 4을 구합니다.\n",
      "fibo 3을 구합니다.\n",
      "fibo 2을 구합니다.\n",
      "fibo 1을 구합니다.\n",
      "fibo 2을 구합니다.\n",
      "fibo 3을 구합니다.\n",
      "fibo 2을 구합니다.\n",
      "fibo 1을 구합니다.\n",
      "fibo 6을 구합니다.\n",
      "fibo 5을 구합니다.\n",
      "fibo 4을 구합니다.\n",
      "fibo 3을 구합니다.\n",
      "fibo 2을 구합니다.\n",
      "fibo 1을 구합니다.\n",
      "fibo 2을 구합니다.\n",
      "fibo 3을 구합니다.\n",
      "fibo 2을 구합니다.\n",
      "fibo 1을 구합니다.\n",
      "fibo 4을 구합니다.\n",
      "fibo 3을 구합니다.\n",
      "fibo 2을 구합니다.\n",
      "fibo 1을 구합니다.\n",
      "fibo 2을 구합니다.\n",
      "fibo 7을 구합니다.\n",
      "fibo 6을 구합니다.\n",
      "fibo 5을 구합니다.\n",
      "fibo 4을 구합니다.\n",
      "fibo 3을 구합니다.\n",
      "fibo 2을 구합니다.\n",
      "fibo 1을 구합니다.\n",
      "fibo 2을 구합니다.\n",
      "fibo 3을 구합니다.\n",
      "fibo 2을 구합니다.\n",
      "fibo 1을 구합니다.\n",
      "fibo 4을 구합니다.\n",
      "fibo 3을 구합니다.\n",
      "fibo 2을 구합니다.\n",
      "fibo 1을 구합니다.\n",
      "fibo 2을 구합니다.\n",
      "fibo 5을 구합니다.\n",
      "fibo 4을 구합니다.\n",
      "fibo 3을 구합니다.\n",
      "fibo 2을 구합니다.\n",
      "fibo 1을 구합니다.\n",
      "fibo 2을 구합니다.\n",
      "fibo 3을 구합니다.\n",
      "fibo 2을 구합니다.\n",
      "fibo 1을 구합니다.\n",
      "fibo 8을 구합니다.\n",
      "fibo 7을 구합니다.\n",
      "fibo 6을 구합니다.\n",
      "fibo 5을 구합니다.\n",
      "fibo 4을 구합니다.\n",
      "fibo 3을 구합니다.\n",
      "fibo 2을 구합니다.\n",
      "fibo 1을 구합니다.\n",
      "fibo 2을 구합니다.\n",
      "fibo 3을 구합니다.\n",
      "fibo 2을 구합니다.\n",
      "fibo 1을 구합니다.\n",
      "fibo 4을 구합니다.\n",
      "fibo 3을 구합니다.\n",
      "fibo 2을 구합니다.\n",
      "fibo 1을 구합니다.\n",
      "fibo 2을 구합니다.\n",
      "fibo 5을 구합니다.\n",
      "fibo 4을 구합니다.\n",
      "fibo 3을 구합니다.\n",
      "fibo 2을 구합니다.\n",
      "fibo 1을 구합니다.\n",
      "fibo 2을 구합니다.\n",
      "fibo 3을 구합니다.\n",
      "fibo 2을 구합니다.\n",
      "fibo 1을 구합니다.\n",
      "fibo 6을 구합니다.\n",
      "fibo 5을 구합니다.\n",
      "fibo 4을 구합니다.\n",
      "fibo 3을 구합니다.\n",
      "fibo 2을 구합니다.\n",
      "fibo 1을 구합니다.\n",
      "fibo 2을 구합니다.\n",
      "fibo 3을 구합니다.\n",
      "fibo 2을 구합니다.\n",
      "fibo 1을 구합니다.\n",
      "fibo 4을 구합니다.\n",
      "fibo 3을 구합니다.\n",
      "fibo 2을 구합니다.\n",
      "fibo 1을 구합니다.\n",
      "fibo 2을 구합니다.\n"
     ]
    },
    {
     "data": {
      "text/plain": [
       "55"
      ]
     },
     "execution_count": 98,
     "metadata": {},
     "output_type": "execute_result"
    }
   ],
   "source": [
    "fibo(10)"
   ]
  },
  {
   "cell_type": "code",
   "execution_count": 99,
   "id": "45c7b1ae-f391-4c84-9dca-3246ec0fc404",
   "metadata": {},
   "outputs": [
    {
     "data": {
      "text/plain": [
       "118"
      ]
     },
     "execution_count": 99,
     "metadata": {},
     "output_type": "execute_result"
    }
   ],
   "source": [
    "counter"
   ]
  },
  {
   "cell_type": "code",
   "execution_count": 100,
   "id": "c4cfbe0d-a345-4830-ae11-e29761fae7db",
   "metadata": {},
   "outputs": [],
   "source": [
    "#메모화\n",
    "counter = 0 \n",
    "fibo_dict={1:1, 2:1}\n",
    "\n",
    "def fibo_memo(n):\n",
    "    global counter\n",
    "    counter += 1\n",
    "    if n <= 0:\n",
    "        return 0 \n",
    "    if n in fibo_dict:\n",
    "        return fibo_dict[n] # 메모 되어 있는 값을 리턴\n",
    "    else:\n",
    "        result = fibo_memo(n-1) + fibo_memo(n-2) # 메모 되어 있지 않는 값을 구함\n",
    "        fibo_dict[n] = result\n",
    "        return result"
   ]
  },
  {
   "cell_type": "code",
   "execution_count": 101,
   "id": "7d017a63-4d48-4c46-ab02-fe347575f28d",
   "metadata": {},
   "outputs": [
    {
     "data": {
      "text/plain": [
       "55"
      ]
     },
     "execution_count": 101,
     "metadata": {},
     "output_type": "execute_result"
    }
   ],
   "source": [
    "fibo_memo(10)"
   ]
  },
  {
   "cell_type": "code",
   "execution_count": 102,
   "id": "a1f32213-0ae3-41be-967a-f1d388e71603",
   "metadata": {},
   "outputs": [
    {
     "data": {
      "text/plain": [
       "17"
      ]
     },
     "execution_count": 102,
     "metadata": {},
     "output_type": "execute_result"
    }
   ],
   "source": [
    "counter"
   ]
  },
  {
   "cell_type": "code",
   "execution_count": 104,
   "id": "92ca11d9-a4e6-4099-aacb-a317a400f452",
   "metadata": {},
   "outputs": [],
   "source": [
    "# 하노이의 탑 "
   ]
  },
  {
   "cell_type": "markdown",
   "id": "3fcf6b3b-e1eb-463b-8876-7768e67f1960",
   "metadata": {},
   "source": [
    "# 심즈 캐릭터 (class)\n",
    "- 성별 : 여자\n",
    "- 얼굴모양 : 갸름한\n",
    "- 몸무게 : 50\n",
    "- 눈크기 : 크다\n",
    "- 콧날 : 높은편\n",
    "- 키 : 165\n",
    "- 이름 : 차은우\n",
    "\n",
    "- -> 생성 -> 오민엽(instance)\n",
    "- -> 생성 -> 차은우(instance)\n",
    "- -> 생성 -> 김태리(instance)"
   ]
  },
  {
   "cell_type": "markdown",
   "id": "2f4d59e2-ff16-4794-a518-0c6b031794ce",
   "metadata": {},
   "source": [
    "## 객체 \n",
    "- 메모리에 올라가면 객체다.\n",
    "- 파이썬에서는 객체(object) 단위로 메모리 위의 정보를 관리\n",
    "- 객체는 value, type, id 세가지 특성을 갖어야 한다.\n",
    "\n",
    "## instance\n",
    "- 객체가 어떤 클래스에 속할때, 그 객체를 그 클래스의 인스턴스라고 한다.\n",
    "- 클래스에 의해 생성된 객체 "
   ]
  },
  {
   "cell_type": "code",
   "execution_count": 105,
   "id": "a9ddb892-2192-42dd-ae22-699e0e28d6b6",
   "metadata": {},
   "outputs": [],
   "source": [
    "a_1 = \"hello\" # 객체를 만들어서 변수에 대입"
   ]
  },
  {
   "cell_type": "code",
   "execution_count": 107,
   "id": "27c75b33-536f-498b-a3c8-2a1f53f23975",
   "metadata": {},
   "outputs": [
    {
     "data": {
      "text/plain": [
       "'hello'"
      ]
     },
     "execution_count": 107,
     "metadata": {},
     "output_type": "execute_result"
    }
   ],
   "source": [
    "a_1 #객체의 value"
   ]
  },
  {
   "cell_type": "code",
   "execution_count": 108,
   "id": "24f0b27b-4b2d-4c18-8505-172a09bbe1aa",
   "metadata": {},
   "outputs": [
    {
     "data": {
      "text/plain": [
       "str"
      ]
     },
     "execution_count": 108,
     "metadata": {},
     "output_type": "execute_result"
    }
   ],
   "source": [
    "type(a_1) # 객체의 유형을 구할수 있다."
   ]
  },
  {
   "cell_type": "code",
   "execution_count": 109,
   "id": "04246cfc-1609-4818-a324-e9d585cd91e4",
   "metadata": {},
   "outputs": [
    {
     "data": {
      "text/plain": [
       "1748576363440"
      ]
     },
     "execution_count": 109,
     "metadata": {},
     "output_type": "execute_result"
    }
   ],
   "source": [
    "id(a_1) # 객체의 고유 번호를 구할 수 있다"
   ]
  },
  {
   "cell_type": "code",
   "execution_count": 110,
   "id": "8ce6ecf5-7bb6-4300-9183-d108d094812d",
   "metadata": {},
   "outputs": [],
   "source": [
    "a_2 = \"hello\""
   ]
  },
  {
   "cell_type": "code",
   "execution_count": 111,
   "id": "f126302a-46a8-46de-8ffa-7bd01b9fb5c8",
   "metadata": {},
   "outputs": [
    {
     "data": {
      "text/plain": [
       "1748576363440"
      ]
     },
     "execution_count": 111,
     "metadata": {},
     "output_type": "execute_result"
    }
   ],
   "source": [
    "id(a_1)"
   ]
  },
  {
   "cell_type": "code",
   "execution_count": 112,
   "id": "a36176a4-d353-467c-941e-4e5a90bba793",
   "metadata": {},
   "outputs": [
    {
     "data": {
      "text/plain": [
       "1748576363440"
      ]
     },
     "execution_count": 112,
     "metadata": {},
     "output_type": "execute_result"
    }
   ],
   "source": [
    "id(a_2)"
   ]
  },
  {
   "cell_type": "code",
   "execution_count": 113,
   "id": "0562c732-e8a7-465a-bd12-ad28d4a34164",
   "metadata": {},
   "outputs": [
    {
     "data": {
      "text/plain": [
       "True"
      ]
     },
     "execution_count": 113,
     "metadata": {},
     "output_type": "execute_result"
    }
   ],
   "source": [
    "a_1 is a_2"
   ]
  },
  {
   "cell_type": "code",
   "execution_count": 114,
   "id": "52207787-ef5d-4912-841e-d6d67be24418",
   "metadata": {},
   "outputs": [],
   "source": [
    "a_3 = 258\n",
    "a_4 = 258"
   ]
  },
  {
   "cell_type": "code",
   "execution_count": 115,
   "id": "1b6dd50c-518e-488a-b225-e4495294633c",
   "metadata": {},
   "outputs": [
    {
     "data": {
      "text/plain": [
       "1748674777424"
      ]
     },
     "execution_count": 115,
     "metadata": {},
     "output_type": "execute_result"
    }
   ],
   "source": [
    "id(a_3)"
   ]
  },
  {
   "cell_type": "code",
   "execution_count": 116,
   "id": "10c1b448-f8aa-49e6-b12c-c1035f6c0e7e",
   "metadata": {},
   "outputs": [
    {
     "data": {
      "text/plain": [
       "1748674777392"
      ]
     },
     "execution_count": 116,
     "metadata": {},
     "output_type": "execute_result"
    }
   ],
   "source": [
    "id(a_4)"
   ]
  },
  {
   "cell_type": "code",
   "execution_count": 117,
   "id": "64c1edad-a576-46a0-97ab-35c851eeb783",
   "metadata": {},
   "outputs": [
    {
     "data": {
      "text/plain": [
       "False"
      ]
     },
     "execution_count": 117,
     "metadata": {},
     "output_type": "execute_result"
    }
   ],
   "source": [
    "a_3 is a_4"
   ]
  },
  {
   "cell_type": "code",
   "execution_count": 120,
   "id": "b44ae93e-d631-420f-aa8e-fbfee767defe",
   "metadata": {},
   "outputs": [],
   "source": [
    "# 명함을 제작하는 회사를 창업\n",
    "# 이름, 이메일, 주소\n",
    "name_1 = \"오민엽\"\n",
    "email_1 = \"myoh0623@gmail.com\"\n",
    "add_1 = \"seoul\"\n",
    "\n",
    "def print_business_card(name, email, add):\n",
    "    print(\"=\"*30)\n",
    "    print(f\"Name : {name}\")\n",
    "    print(f\"E-mail : {email}\")\n",
    "    print(f\"Add : {add}\")\n",
    "    print(\"=\"*30)\n"
   ]
  },
  {
   "cell_type": "code",
   "execution_count": 121,
   "id": "404ca679-32a6-4bca-945d-5bcf5ba75f5d",
   "metadata": {},
   "outputs": [
    {
     "name": "stdout",
     "output_type": "stream",
     "text": [
      "==============================\n",
      "Name : 오민엽\n",
      "E-mail : myoh0623@gmail.com\n",
      "Add : seoul\n",
      "==============================\n"
     ]
    }
   ],
   "source": [
    "print_business_card(name_1, email_1, add_1)"
   ]
  },
  {
   "cell_type": "code",
   "execution_count": 123,
   "id": "4015a76f-5c63-42bf-b50d-00d2fad78cf3",
   "metadata": {},
   "outputs": [
    {
     "name": "stdout",
     "output_type": "stream",
     "text": [
      "==============================\n",
      "Name : 성시경\n",
      "E-mail : tjdtlrud@gmail.com\n",
      "Add : seoul\n",
      "==============================\n"
     ]
    }
   ],
   "source": [
    "name_2 = \"성시경\"\n",
    "email_2 = \"tjdtlrud@gmail.com\"\n",
    "add_2 = \"seoul\"\n",
    "print_business_card(name_2, email_2, add_2)"
   ]
  },
  {
   "cell_type": "markdown",
   "id": "8266e3ca-d738-4fb5-894a-71450996278f",
   "metadata": {},
   "source": [
    "- 회원수가 계속 늘어난다면 변수명을 계속 추가해야할까?\n",
    "- 리스트에 추가 한다.\n",
    "```\n",
    "name_list = [name1, name2, name3, ...]\n",
    "email_list = [email1, email2, email3, ...]\n",
    "add_list = [add1, add2, add3, ...]\n",
    "```"
   ]
  },
  {
   "cell_type": "code",
   "execution_count": 124,
   "id": "75206cd9-d82b-45da-8cc9-fb69398fbeef",
   "metadata": {},
   "outputs": [],
   "source": [
    "class BussinessCard:\n",
    "    pass"
   ]
  },
  {
   "cell_type": "code",
   "execution_count": 125,
   "id": "af5d3ff5-e937-4074-9f76-22696aa6e26f",
   "metadata": {},
   "outputs": [],
   "source": [
    "member_1 = BussinessCard()"
   ]
  },
  {
   "cell_type": "code",
   "execution_count": 126,
   "id": "6e3adcd7-770f-4a5d-814a-5e09820a176d",
   "metadata": {},
   "outputs": [
    {
     "data": {
      "text/plain": [
       "<__main__.BussinessCard at 0x19724de14d0>"
      ]
     },
     "execution_count": 126,
     "metadata": {},
     "output_type": "execute_result"
    }
   ],
   "source": [
    "member_1"
   ]
  },
  {
   "cell_type": "code",
   "execution_count": 127,
   "id": "0ad67d20-2949-49a6-86cb-5db248c0297c",
   "metadata": {},
   "outputs": [],
   "source": [
    "member_2 = BussinessCard()"
   ]
  },
  {
   "cell_type": "code",
   "execution_count": 128,
   "id": "9e5e0585-f551-4412-b7b2-7cd4c3aa7ec7",
   "metadata": {},
   "outputs": [
    {
     "data": {
      "text/plain": [
       "<__main__.BussinessCard at 0x19724e69e90>"
      ]
     },
     "execution_count": 128,
     "metadata": {},
     "output_type": "execute_result"
    }
   ],
   "source": [
    "member_2"
   ]
  },
  {
   "cell_type": "code",
   "execution_count": 129,
   "id": "7e3d45f4-5799-4579-81f0-3f3e93a3148d",
   "metadata": {},
   "outputs": [
    {
     "name": "stdout",
     "output_type": "stream",
     "text": [
      "<class '__main__.BussinessCard'>\n",
      "1748670783120\n"
     ]
    }
   ],
   "source": [
    "print(type(member_2))\n",
    "print(id(member_2))"
   ]
  },
  {
   "cell_type": "code",
   "execution_count": 149,
   "id": "5f7adbc6-714a-4f80-b99d-02ad4d6aa6a0",
   "metadata": {},
   "outputs": [],
   "source": [
    "class BussinessCard:\n",
    "    def set_info(self, name, email, add):\n",
    "        self.name = name\n",
    "        self.email = email\n",
    "        self.add = add\n",
    "    def print_business_card(self):\n",
    "        print(\"=\"*30)\n",
    "        print(f\"Name : {self.name}\")\n",
    "        print(f\"E-mail : {self.email}\")\n",
    "        print(f\"Add : {self.add}\")\n",
    "        print(\"=\"*30)"
   ]
  },
  {
   "cell_type": "code",
   "execution_count": 150,
   "id": "b43b18e9-6d46-42bb-9353-77333b8791fc",
   "metadata": {},
   "outputs": [],
   "source": [
    "member3 = BussinessCard()"
   ]
  },
  {
   "cell_type": "code",
   "execution_count": 151,
   "id": "3efe19fc-c043-4fac-b6eb-c478efce77c4",
   "metadata": {},
   "outputs": [],
   "source": [
    "member3.set_info(name_1, email_1, add_1)"
   ]
  },
  {
   "cell_type": "code",
   "execution_count": 152,
   "id": "818e82b7-930f-4c69-a14d-e737ab798d79",
   "metadata": {},
   "outputs": [
    {
     "data": {
      "text/plain": [
       "'seoul'"
      ]
     },
     "execution_count": 152,
     "metadata": {},
     "output_type": "execute_result"
    }
   ],
   "source": [
    "member3.add"
   ]
  },
  {
   "cell_type": "code",
   "execution_count": 153,
   "id": "6da1b742-0d14-4551-8ec8-ba349894ab00",
   "metadata": {},
   "outputs": [
    {
     "name": "stdout",
     "output_type": "stream",
     "text": [
      "==============================\n",
      "Name : 오민엽\n",
      "E-mail : myoh0623@gmail.com\n",
      "Add : seoul\n",
      "==============================\n"
     ]
    }
   ],
   "source": [
    "member3.print_business_card()\n",
    "# ==============================\n",
    "# Name : 오민엽\n",
    "# E-mail : myoh0623@gmail.com\n",
    "# Add : seoul\n",
    "# =============================="
   ]
  },
  {
   "cell_type": "code",
   "execution_count": 158,
   "id": "40c95211-b15f-4dac-8c38-fbbefeb0ad5a",
   "metadata": {},
   "outputs": [],
   "source": [
    "# 학생 정보를 입력 받는 class 를 만들어 보세요\n",
    "# 이름, 국어점수, 수학점수를 입력받고 다음과 같이 출력 가능 \n",
    "\n",
    "# 이름 : 오민엽\n",
    "# 국어 : 80\n",
    "# 수학 : 100\n",
    "# 총점 : 180\n",
    "# 평균 : 90\n",
    "\n",
    "class Student:\n",
    "    def set_info(self, name, korean, math):\n",
    "        self.name = name\n",
    "        self.korean = korean\n",
    "        self.math = math\n",
    "        \n",
    "    def get_sum(self):\n",
    "        return self.korean + self.math\n",
    "\n",
    "    def get_average(self):\n",
    "        return self.get_sum()/2\n",
    "\n",
    "    def print_string(self):\n",
    "        print(f'''\n",
    "        이름 : {self.name}\n",
    "        국어 : {self.korean}\n",
    "        수학 : {self.math}\n",
    "        총점 : {self.get_sum()}\n",
    "        평균 : {self.get_average()}\n",
    "        ''')\n"
   ]
  },
  {
   "cell_type": "code",
   "execution_count": 159,
   "id": "06858428-afdb-4c1e-bba3-a1bdb4554724",
   "metadata": {},
   "outputs": [],
   "source": [
    "student_1 = Student()"
   ]
  },
  {
   "cell_type": "code",
   "execution_count": 160,
   "id": "ee398f2f-b8a3-4271-b960-e61f80750ffc",
   "metadata": {},
   "outputs": [],
   "source": [
    "student_1.set_info(\"오민엽\", 100, 90)"
   ]
  },
  {
   "cell_type": "code",
   "execution_count": 161,
   "id": "3f992382-0d16-4b72-96cf-867e97eda95a",
   "metadata": {},
   "outputs": [
    {
     "name": "stdout",
     "output_type": "stream",
     "text": [
      "\n",
      "        이름 : 오민엽\n",
      "        국어 : 100\n",
      "        수학 : 90\n",
      "        총점 : 190\n",
      "        평균 : 95.0\n",
      "        \n"
     ]
    }
   ],
   "source": [
    "student_1.print_string()"
   ]
  },
  {
   "cell_type": "code",
   "execution_count": 172,
   "id": "5c64a387-4cb4-4f1c-8e73-9460b4dd7d87",
   "metadata": {},
   "outputs": [],
   "source": [
    "\n",
    "class Student:\n",
    "    def set_info(self, name, **subjects):\n",
    "        self.name = name\n",
    "        self.subjects = subjects\n",
    "\n",
    "    def get_sum(self):\n",
    "        return sum(self.subjects.values())\n",
    "\n",
    "    def get_average(self):\n",
    "        return self.get_sum()/len(self.subjects)\n",
    "\n",
    "    def print_string(self):\n",
    "        subject_socre = \"\\n\".join([f\"{subject} : {score}\" for subject, score in self.subjects.items()])\n",
    "        print(f'''\n",
    "이름 : {self.name}\n",
    "{subject_socre}\n",
    "총점 : {self.get_sum()}\n",
    "평균 : {self.get_average()}\n",
    "        ''')\n"
   ]
  },
  {
   "cell_type": "code",
   "execution_count": 173,
   "id": "e2d391d4-47ad-42c6-b4df-fbd12844b38b",
   "metadata": {},
   "outputs": [],
   "source": [
    "student_2 = Student()"
   ]
  },
  {
   "cell_type": "code",
   "execution_count": 174,
   "id": "ecaf3d2d-57d9-4655-82bb-0944eae3ea71",
   "metadata": {},
   "outputs": [],
   "source": [
    "student_2.set_info(\"오민엽\", 수학=90, 영어=80, 과학=100)"
   ]
  },
  {
   "cell_type": "code",
   "execution_count": 175,
   "id": "d85c0b3a-d6d6-45ff-b207-6bcb0b19c5f4",
   "metadata": {},
   "outputs": [
    {
     "name": "stdout",
     "output_type": "stream",
     "text": [
      "\n",
      "이름 : 오민엽\n",
      "수학 : 90\n",
      "영어 : 80\n",
      "과학 : 100\n",
      "총점 : 270\n",
      "평균 : 90.0\n",
      "        \n"
     ]
    }
   ],
   "source": [
    "student_2.print_string()"
   ]
  },
  {
   "cell_type": "code",
   "execution_count": 176,
   "id": "12ede48e-60fc-420a-97fe-cd85189f8d73",
   "metadata": {},
   "outputs": [],
   "source": [
    "# __init__ : 생성자는 인스턴스 객체가 생성될때 초기화를 위해 자동으로 호출되는 메서드\n",
    "# __del__ : 메모리에서 제거 될때 자동으로 호출되는 메서드 \n",
    "class Student:\n",
    "    def __init__(self, name, **subjects):\n",
    "        self.name = name\n",
    "        # print(\"응애에요\")\n",
    "        self.subjects = subjects\n",
    "\n",
    "    def get_sum(self):\n",
    "        return sum(self.subjects.values())\n",
    "\n",
    "    def get_average(self):\n",
    "        return self.get_sum()/len(self.subjects)\n",
    "\n",
    "    def print_string(self):\n",
    "        subject_socre = \"\\n\".join([f\"{subject} : {score}\" for subject, score in self.subjects.items()])\n",
    "        print(f'''\n",
    "이름 : {self.name}\n",
    "{subject_socre}\n",
    "총점 : {self.get_sum()}\n",
    "평균 : {self.get_average()}\n",
    "        ''')\n"
   ]
  },
  {
   "cell_type": "code",
   "execution_count": 178,
   "id": "34d0f9f6-fbba-49f2-b545-3280067425c4",
   "metadata": {},
   "outputs": [
    {
     "name": "stdout",
     "output_type": "stream",
     "text": [
      "응애에요\n"
     ]
    }
   ],
   "source": [
    "student_3 = Student(\"오민엽\", 수학=90, 영어=80, 과학=100)"
   ]
  },
  {
   "cell_type": "code",
   "execution_count": 179,
   "id": "94e5ffb9-0ec3-49b8-9a25-19fbf69fb044",
   "metadata": {},
   "outputs": [
    {
     "name": "stdout",
     "output_type": "stream",
     "text": [
      "\n",
      "이름 : 오민엽\n",
      "수학 : 90\n",
      "영어 : 80\n",
      "과학 : 100\n",
      "총점 : 270\n",
      "평균 : 90.0\n",
      "        \n"
     ]
    }
   ],
   "source": [
    "student_3.print_string()"
   ]
  },
  {
   "cell_type": "code",
   "execution_count": 181,
   "id": "bb237936-f54a-4a75-ac23-088d40fd7cf6",
   "metadata": {},
   "outputs": [],
   "source": [
    "class Student:\n",
    "    def __init__(self, name, **subjects):\n",
    "        self.name = name\n",
    "        # print(\"응애에요\")\n",
    "        self.subjects = subjects\n",
    "\n",
    "    def add_score(self, subject, score):\n",
    "        self.subjects[subject] = score\n",
    "\n",
    "    def get_sum(self):\n",
    "        return sum(self.subjects.values())\n",
    "\n",
    "    def get_average(self):\n",
    "        return self.get_sum()/len(self.subjects)\n",
    "\n",
    "    def print_string(self):\n",
    "        subject_socre = \"\\n\".join([f\"{subject} : {score}\" for subject, score in self.subjects.items()])\n",
    "        print(f'''\n",
    "이름 : {self.name}\n",
    "{subject_socre}\n",
    "총점 : {self.get_sum()}\n",
    "평균 : {self.get_average()}\n",
    "        ''')"
   ]
  },
  {
   "cell_type": "code",
   "execution_count": 182,
   "id": "9085c729-ab13-4d5a-8334-89678e45df4e",
   "metadata": {},
   "outputs": [],
   "source": [
    "student_4 = Student(\"오민엽\", 수학=90, 영어=80, 과학=100)"
   ]
  },
  {
   "cell_type": "code",
   "execution_count": 183,
   "id": "2a478ce2-7e89-496c-852a-d605c1356f0a",
   "metadata": {},
   "outputs": [],
   "source": [
    "student_4.add_score(\"체육\", 100)"
   ]
  },
  {
   "cell_type": "code",
   "execution_count": 184,
   "id": "f65a6512-6970-4663-b647-34dec56cdab3",
   "metadata": {},
   "outputs": [
    {
     "name": "stdout",
     "output_type": "stream",
     "text": [
      "\n",
      "이름 : 오민엽\n",
      "수학 : 90\n",
      "영어 : 80\n",
      "과학 : 100\n",
      "체육 : 100\n",
      "총점 : 370\n",
      "평균 : 92.5\n",
      "        \n"
     ]
    }
   ],
   "source": [
    "student_4.print_string()"
   ]
  },
  {
   "cell_type": "code",
   "execution_count": 212,
   "id": "ae40efea-d273-43c0-9f11-42333598eecd",
   "metadata": {},
   "outputs": [],
   "source": [
    "# class 의 상속\n",
    "class Aniaml():\n",
    "    def __init__(self, name, age):\n",
    "        self.name = name\n",
    "        self.age = age\n",
    "    def sounds(self):\n",
    "        # 하위 class 에서 정의\n",
    "        pass\n",
    "    def hunting(self):\n",
    "        self.sounds()"
   ]
  },
  {
   "cell_type": "code",
   "execution_count": 220,
   "id": "0861588d-b493-4316-aff6-eb3230418c42",
   "metadata": {},
   "outputs": [],
   "source": [
    "class Dog(Aniaml):\n",
    "    def __init__(self, name, age):\n",
    "        super().__init__(name, age)\n",
    "        self.walk = True\n",
    "    def sounds(self):\n",
    "        print(\"멍멍\")\n",
    "    def groups(self):\n",
    "        print(\"사냥을 시작.\")\n",
    "\n",
    "class Cat(Aniaml):\n",
    "    def __init__(self, name, age):\n",
    "        super().__init__(name, age)\n",
    "        self.walk = False\n",
    "    def sounds(self):\n",
    "        print(\"야옹\")\n",
    "    def alone(self):\n",
    "        print(\"혼자 사냥을 시작한다.\")\n"
   ]
  },
  {
   "cell_type": "code",
   "execution_count": 221,
   "id": "ee0df1b1-9b83-4518-9635-8004df39ec10",
   "metadata": {},
   "outputs": [],
   "source": [
    "hi_1 = Dog(\"hi_1\", 10)"
   ]
  },
  {
   "cell_type": "code",
   "execution_count": 222,
   "id": "e376128f-82cb-4666-87c7-ca35b2fe2cc6",
   "metadata": {},
   "outputs": [
    {
     "name": "stdout",
     "output_type": "stream",
     "text": [
      "멍멍\n"
     ]
    }
   ],
   "source": [
    "hi_1.sounds()"
   ]
  },
  {
   "cell_type": "code",
   "execution_count": 223,
   "id": "cb79c6c3-2690-4370-a613-9e5408fda659",
   "metadata": {},
   "outputs": [
    {
     "name": "stdout",
     "output_type": "stream",
     "text": [
      "멍멍\n"
     ]
    }
   ],
   "source": [
    "hi_1.hunting()"
   ]
  },
  {
   "cell_type": "code",
   "execution_count": 196,
   "id": "7aa712b4-7a9b-4f80-8d91-d78d4b1b96fe",
   "metadata": {},
   "outputs": [
    {
     "name": "stdout",
     "output_type": "stream",
     "text": [
      "사냥을 시작.\n"
     ]
    }
   ],
   "source": [
    "hi_1.groups()"
   ]
  },
  {
   "cell_type": "code",
   "execution_count": 197,
   "id": "c5ed8b86-0562-49a7-b50a-4addc48bd499",
   "metadata": {},
   "outputs": [],
   "source": [
    "li_1 = Cat(\"li_1\", 10)"
   ]
  },
  {
   "cell_type": "code",
   "execution_count": 198,
   "id": "be3ea2e6-f0a3-4867-8687-3be4d83e0387",
   "metadata": {},
   "outputs": [
    {
     "name": "stdout",
     "output_type": "stream",
     "text": [
      "야옹\n"
     ]
    }
   ],
   "source": [
    "li_1.sounds()"
   ]
  },
  {
   "cell_type": "code",
   "execution_count": 199,
   "id": "af96ec22-c907-45c5-a38e-b67607eb69dc",
   "metadata": {},
   "outputs": [
    {
     "data": {
      "text/plain": [
       "False"
      ]
     },
     "execution_count": 199,
     "metadata": {},
     "output_type": "execute_result"
    }
   ],
   "source": [
    "li_1.walk"
   ]
  },
  {
   "cell_type": "code",
   "execution_count": 200,
   "id": "21e9e49f-3c5a-4fd9-abe7-7ab38d9c6ba9",
   "metadata": {},
   "outputs": [
    {
     "name": "stdout",
     "output_type": "stream",
     "text": [
      "혼자 사냥을 시작한다.\n"
     ]
    }
   ],
   "source": [
    "li_1.alone()"
   ]
  },
  {
   "cell_type": "code",
   "execution_count": null,
   "id": "e6ce6142-efd2-4f97-a267-0632dec99411",
   "metadata": {},
   "outputs": [],
   "source": []
  }
 ],
 "metadata": {
  "kernelspec": {
   "display_name": "Python 3 (ipykernel)",
   "language": "python",
   "name": "python3"
  },
  "language_info": {
   "codemirror_mode": {
    "name": "ipython",
    "version": 3
   },
   "file_extension": ".py",
   "mimetype": "text/x-python",
   "name": "python",
   "nbconvert_exporter": "python",
   "pygments_lexer": "ipython3",
   "version": "3.11.7"
  }
 },
 "nbformat": 4,
 "nbformat_minor": 5
}
