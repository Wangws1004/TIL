{
 "cells": [
  {
   "cell_type": "markdown",
   "id": "aa81f4f0-ba52-47dc-bdb1-928fcffa36b9",
   "metadata": {},
   "source": [
    "# if 문\n",
    "```python\n",
    "if <조건>:\n",
    "    <상태1>\n",
    "    <상태2>\n",
    "else:\n",
    "    <상태3>\n",
    "    <상태4>\n",
    "```"
   ]
  },
  {
   "cell_type": "code",
   "execution_count": 5,
   "id": "d9262fcb-3634-428a-b17d-57050fb5318c",
   "metadata": {},
   "outputs": [
    {
     "name": "stdout",
     "output_type": "stream",
     "text": [
      "걸어간다\n",
      "도착했다\n"
     ]
    }
   ],
   "source": [
    "# money = True\n",
    "money = False\n",
    "if money:\n",
    "    print(\"택시를 타고 간다\")\n",
    "else:\n",
    "    print(\"걸어간다\")\n",
    "\n",
    "print(\"도착했다\")"
   ]
  },
  {
   "cell_type": "code",
   "execution_count": 9,
   "id": "eca86bfd-f1d7-4fe5-8b31-0548e0612e1b",
   "metadata": {},
   "outputs": [
    {
     "ename": "IndentationError",
     "evalue": "unexpected indent (2167587169.py, line 5)",
     "output_type": "error",
     "traceback": [
      "\u001b[1;36m  Cell \u001b[1;32mIn[9], line 5\u001b[1;36m\u001b[0m\n\u001b[1;33m    print(\"들여쓰기 2칸\")\u001b[0m\n\u001b[1;37m    ^\u001b[0m\n\u001b[1;31mIndentationError\u001b[0m\u001b[1;31m:\u001b[0m unexpected indent\n"
     ]
    }
   ],
   "source": [
    "# money = True\n",
    "money = False\n",
    "if money:\n",
    " print(\"택시를 타고 간다\")\n",
    "  print(\"들여쓰기 2칸\")\n",
    "else:\n",
    "  print(\"걸어간다\")\n",
    "\n",
    "print(\"도착했다\")"
   ]
  },
  {
   "cell_type": "code",
   "execution_count": 10,
   "id": "89984c6b-828f-498f-9c4e-a069d45e1fd9",
   "metadata": {},
   "outputs": [],
   "source": [
    "# score 라는 변수에 점수를 입력받고\n",
    "# 90점 이상일때만 합격이라고 출력되는 코드를 작성해 보세요\n",
    "\n",
    "# 점수를 입력하세요 : 90\n",
    "# 90 점의 점수로 합격입니다.\n",
    "\n",
    "# 점수를 입력하세요 : 89\n",
    "# 89 점의 점수로 불합격 입니다. \n"
   ]
  },
  {
   "cell_type": "code",
   "execution_count": 17,
   "id": "616db199-6bbb-4ffd-854b-8dbeb89c2766",
   "metadata": {},
   "outputs": [
    {
     "name": "stdin",
     "output_type": "stream",
     "text": [
      "점수를 입력하세요 : 89\n"
     ]
    }
   ],
   "source": [
    "score = input(\"점수를 입력하세요 :\")"
   ]
  },
  {
   "cell_type": "code",
   "execution_count": 18,
   "id": "ae5bc37b-0742-4118-99c8-f55465402958",
   "metadata": {},
   "outputs": [],
   "source": [
    "boole = int(score) >= 90"
   ]
  },
  {
   "cell_type": "code",
   "execution_count": 20,
   "id": "f46f36b6-df17-4530-882f-c1f35f8169d4",
   "metadata": {},
   "outputs": [
    {
     "name": "stdout",
     "output_type": "stream",
     "text": [
      "89점의 점수로 불합격 입니다.\n"
     ]
    }
   ],
   "source": [
    "if boole:\n",
    "    print(f\"{score}점의 점수로 합격 입니다.\")\n",
    "else:\n",
    "    print(f\"{score}점의 점수로 불합격 입니다.\")"
   ]
  },
  {
   "cell_type": "code",
   "execution_count": 22,
   "id": "c9b6dc7c-d87f-4139-9305-f1c955d18def",
   "metadata": {},
   "outputs": [
    {
     "name": "stdin",
     "output_type": "stream",
     "text": [
      "점수를 입력하세요 : 80\n"
     ]
    },
    {
     "name": "stdout",
     "output_type": "stream",
     "text": [
      "80점의 점수로 불합격 입니다.\n"
     ]
    }
   ],
   "source": [
    "score = input(\"점수를 입력하세요 :\")\n",
    "boole = int(score) >= 90\n",
    "if boole:\n",
    "    print(f\"{score}점의 점수로 합격 입니다.\")\n",
    "else:\n",
    "    print(f\"{score}점의 점수로 불합격 입니다.\")"
   ]
  },
  {
   "cell_type": "code",
   "execution_count": 25,
   "id": "c3149714-de02-473d-b7e2-ae59a951cd8d",
   "metadata": {},
   "outputs": [
    {
     "name": "stdout",
     "output_type": "stream",
     "text": [
      "false\n"
     ]
    }
   ],
   "source": [
    "if 0:\n",
    "    print(\"true\")\n",
    "else:\n",
    "    print(\"false\")"
   ]
  },
  {
   "cell_type": "code",
   "execution_count": 26,
   "id": "097fa8f1-31a8-4b90-8905-5784c794f3f9",
   "metadata": {},
   "outputs": [
    {
     "name": "stdout",
     "output_type": "stream",
     "text": [
      "true\n"
     ]
    }
   ],
   "source": [
    "if 1:\n",
    "    print(\"true\")\n",
    "else:\n",
    "    print(\"false\")"
   ]
  },
  {
   "cell_type": "markdown",
   "id": "1cad55fd-7acf-4b7f-9449-fc34f817d816",
   "metadata": {},
   "source": [
    "# condition\n",
    "- 비교 연산자\n",
    "    - <, >, ==, !=, >=, <= \n",
    "- 논리 연산자\n",
    "    - and, or, not\n",
    "    - and : 둘다 참이면 참이다. (하나라도 거짓이면 거짓이다) -> 교집합 연산\n",
    "    - or : 둘중에 하나만 참이어도 참이다. (둘다 거짓이면 거짓이다.) ->  합집합 연산\n",
    "    - not : x 가 거짓(참) 이면 참(거짓) 이다. "
   ]
  },
  {
   "cell_type": "code",
   "execution_count": 30,
   "id": "db18d1f5-91f4-49ea-b975-51febd0e82a9",
   "metadata": {},
   "outputs": [
    {
     "data": {
      "text/plain": [
       "True"
      ]
     },
     "execution_count": 30,
     "metadata": {},
     "output_type": "execute_result"
    }
   ],
   "source": [
    "(True and True)"
   ]
  },
  {
   "cell_type": "code",
   "execution_count": 31,
   "id": "bac03c39-ec99-4f1b-96b4-2c7f6ba07bbe",
   "metadata": {},
   "outputs": [
    {
     "data": {
      "text/plain": [
       "False"
      ]
     },
     "execution_count": 31,
     "metadata": {},
     "output_type": "execute_result"
    }
   ],
   "source": [
    "(True and False)"
   ]
  },
  {
   "cell_type": "code",
   "execution_count": 32,
   "id": "ca01cda4-1a9f-4c3f-a63a-34868e0e7591",
   "metadata": {},
   "outputs": [
    {
     "data": {
      "text/plain": [
       "False"
      ]
     },
     "execution_count": 32,
     "metadata": {},
     "output_type": "execute_result"
    }
   ],
   "source": [
    "(False or False)"
   ]
  },
  {
   "cell_type": "code",
   "execution_count": 7,
   "id": "30a8c396-4a11-4e2d-be00-01af9f8e88b3",
   "metadata": {},
   "outputs": [
    {
     "name": "stdin",
     "output_type": "stream",
     "text": [
      "값을 입력하세요 20\n"
     ]
    },
    {
     "name": "stdout",
     "output_type": "stream",
     "text": [
      "정상 입니다.\n"
     ]
    }
   ],
   "source": [
    "# 숫자를 입력 받고 \n",
    "# 15 이상, 20 이하면 정상입니다.\n",
    "# 15 <= x <= 20\n",
    "# 15 미만, 20 초과 이면 비정상 입니다. 를 출력하게 작성해 보세요\n",
    "x = int(input(\"값을 입력하세요\"))\n",
    "condition = (15 <= x) and (x <= 20) # (15 <= x <= 20)\n",
    "\n",
    "if condition:\n",
    "    print(\"정상 입니다.\")\n",
    "else:\n",
    "    print(\"비정상 입니다.\")"
   ]
  },
  {
   "cell_type": "markdown",
   "id": "7b1d1a3e-6d13-42fb-80ae-483e7fb8b56a",
   "metadata": {},
   "source": [
    "# if ~ elif ~ else\n",
    "```\n",
    "if <condition>:\n",
    "    <수행할 문장1>\n",
    "    <수행할 문장2>\n",
    "elif <condition>:\n",
    "    <수행할 문장3>\n",
    "    <수행할 문장4>\n",
    "elif <condition>:\n",
    "    <수행할 문장5>\n",
    "    <수행할 문장6>\n",
    "else:\n",
    "    <수행할 문장7>\n",
    "    <수행할 문장8>\n",
    "```"
   ]
  },
  {
   "cell_type": "code",
   "execution_count": 8,
   "id": "17cbe5a5-703e-43b6-9abd-be58e098a229",
   "metadata": {},
   "outputs": [
    {
     "name": "stdout",
     "output_type": "stream",
     "text": [
      "condition1\n"
     ]
    }
   ],
   "source": [
    "n = 12\n",
    "if n > 5:\n",
    "    print(\"condition1\")\n",
    "elif n > 10:\n",
    "    print(\"condition2\")\n",
    "elif n > 15:\n",
    "    print(\"condition3\")"
   ]
  },
  {
   "cell_type": "code",
   "execution_count": 9,
   "id": "1a01041c-4a1d-42ec-8f41-6191b6426b05",
   "metadata": {},
   "outputs": [
    {
     "name": "stdout",
     "output_type": "stream",
     "text": [
      "condition1\n",
      "condition2\n"
     ]
    }
   ],
   "source": [
    "n = 12\n",
    "if n > 5:\n",
    "    print(\"condition1\")\n",
    "if n > 10:\n",
    "    print(\"condition2\")\n",
    "if n > 15:\n",
    "    print(\"condition3\")"
   ]
  },
  {
   "cell_type": "code",
   "execution_count": 12,
   "id": "6b19cfec-f1b2-46db-843b-3da9d02392e5",
   "metadata": {},
   "outputs": [
    {
     "name": "stdin",
     "output_type": "stream",
     "text": [
      "가위 바위 보 보\n"
     ]
    },
    {
     "name": "stdout",
     "output_type": "stream",
     "text": [
      "비겼다\n"
     ]
    }
   ],
   "source": [
    "# 가위 바위 보 게임 \n",
    "# srp 라는 변수에 srp = \"가위\" 일 경우 \"이겼다\" 를 출력 하도록 만들어 보세요\n",
    "# srp = \"바위\" 인 경우 \"졌다\" 출력\n",
    "# srp = \"보\" 인경우 \"비겼다\" 출력\n",
    "\n",
    "srp = input(\"가위 바위 보\")\n",
    "if \"가위\" == srp:\n",
    "    print(\"이겼다\")\n",
    "elif \"바위\" == srp:\n",
    "    print(\"졌다\")\n",
    "elif \"보\" == srp:\n",
    "    print(\"비겼다\")"
   ]
  },
  {
   "cell_type": "code",
   "execution_count": 15,
   "id": "616b9740-db5c-49a5-913f-979e557ecc89",
   "metadata": {},
   "outputs": [
    {
     "name": "stdin",
     "output_type": "stream",
     "text": [
      "가위 바위 보 보\n"
     ]
    },
    {
     "name": "stdout",
     "output_type": "stream",
     "text": [
      "비겼다\n"
     ]
    }
   ],
   "source": [
    "srp = input(\"가위 바위 보\")\n",
    "if srp == \"가위\":\n",
    "    print(\"이겼다\")\n",
    "elif srp == \"바위\":\n",
    "    print(\"졌다\")\n",
    "elif srp == \"보\":\n",
    "    print(\"비겼다\")"
   ]
  },
  {
   "cell_type": "markdown",
   "id": "c9c3394d-d2e9-402b-be1d-8df007c4368e",
   "metadata": {},
   "source": [
    "# 점수를 입력 받고 학점이 출력되도록 만들어 보세요\n",
    "- 숫자를 입력 받아야 합니다. ( str.isdigit()  확인) \n",
    "- 90점 이상 A, 90점 미만 80점 이하 B, 80점 미만 70점 이상 C, 70점 미만 60점 이상 D, 60점 미만 F"
   ]
  },
  {
   "cell_type": "code",
   "execution_count": 32,
   "id": "05923fd6-6e8f-4a83-9626-97d81150fe8b",
   "metadata": {},
   "outputs": [
    {
     "name": "stdin",
     "output_type": "stream",
     "text": [
      "점수를 입력 하세요 dlkjkldjd\n"
     ]
    },
    {
     "name": "stdout",
     "output_type": "stream",
     "text": [
      "잘못 입력 했습니다.\n"
     ]
    }
   ],
   "source": [
    "score = input(\"점수를 입력 하세요\")\n",
    "if score.isdigit():\n",
    "    score = float(score)\n",
    "    if score > 100:\n",
    "        print(\"올바른 점수를 입력하세요\")\n",
    "    elif score >= 90:\n",
    "        print(\"당신의 등급: A\")\n",
    "    elif score >= 80:\n",
    "        print(\"당신의 등급: B\")\n",
    "    elif score >= 70:\n",
    "        print(\"당신의 등급: C\")\n",
    "    elif score >= 60:\n",
    "        print(\"당신의 등급: D\")\n",
    "    else:\n",
    "        print(\"재수강 하세요 : F\")\n",
    "else:\n",
    "    print(\"잘못 입력 했습니다.\")"
   ]
  },
  {
   "cell_type": "code",
   "execution_count": 26,
   "id": "b4345ae1-f1a3-433a-b9b5-a94002be7e92",
   "metadata": {},
   "outputs": [
    {
     "data": {
      "text/plain": [
       "True"
      ]
     },
     "execution_count": 26,
     "metadata": {},
     "output_type": "execute_result"
    }
   ],
   "source": [
    "score.isdigit()"
   ]
  },
  {
   "cell_type": "code",
   "execution_count": null,
   "id": "62d0df7e-7041-4b32-89cf-0a8e5342108e",
   "metadata": {},
   "outputs": [],
   "source": [
    "str.isdigit() "
   ]
  },
  {
   "cell_type": "code",
   "execution_count": 33,
   "id": "393ac055-9a5b-4fc4-a9d6-b479e46a6166",
   "metadata": {},
   "outputs": [],
   "source": [
    "# https://pythontutor.com/python-compiler.html#mode=edit"
   ]
  },
  {
   "cell_type": "markdown",
   "id": "72e72677-9cb4-4e69-a876-b46adbd4316d",
   "metadata": {},
   "source": [
    "# for 기본형\n",
    "- for 문은 임의의 리퀀스 자료형의 항목들을 그 시퀀스에 들어있는 순서대로 iteration(반복) 한다.\n",
    "```python\n",
    "for <target> in <object>:\n",
    "    <수행할 문장1>\n",
    "    <수행할 문장2>\n",
    "else:\n",
    "    <수행할 문장3>\n",
    "```"
   ]
  },
  {
   "cell_type": "code",
   "execution_count": 35,
   "id": "d6e8404a-dd79-4f1a-8778-5e17e0b6c02c",
   "metadata": {},
   "outputs": [
    {
     "name": "stdout",
     "output_type": "stream",
     "text": [
      "2\n",
      "5\n",
      "1\n",
      "3\n",
      "5\n"
     ]
    }
   ],
   "source": [
    "for target in [2,5,1,3,5]:\n",
    "    print(target)"
   ]
  },
  {
   "cell_type": "code",
   "execution_count": null,
   "id": "c026d739-6c9e-428d-9dc5-13ce6c0734fb",
   "metadata": {},
   "outputs": [],
   "source": [
    "for target in (2,\"hello\",1,3,\"world\"):\n",
    "    print(target)"
   ]
  },
  {
   "cell_type": "code",
   "execution_count": 36,
   "id": "042a3d07-9c55-4878-8a72-525d93d8b1b0",
   "metadata": {},
   "outputs": [
    {
     "name": "stdout",
     "output_type": "stream",
     "text": [
      "h\n",
      "-\n",
      "e\n",
      "-\n",
      "l\n",
      "-\n",
      "l\n",
      "-\n",
      "o\n",
      "-\n"
     ]
    }
   ],
   "source": [
    "for target in \"hello\":\n",
    "    print(target)\n",
    "    print(\"-\")"
   ]
  },
  {
   "cell_type": "code",
   "execution_count": 37,
   "id": "28130bf0-6ede-457f-ac64-b2b15f5a4235",
   "metadata": {},
   "outputs": [
    {
     "name": "stdout",
     "output_type": "stream",
     "text": [
      "1\n",
      "2\n",
      "3\n",
      "4\n",
      "5\n",
      "6\n",
      "7\n",
      "8\n",
      "9\n",
      "10\n"
     ]
    }
   ],
   "source": [
    "# 1부터 10까지 더해서 출력하는 code를 작성해 보세요 \n",
    "# 단계1: 1부터 10까지  출력하도록 코딩\n",
    "for i in [1,2,3,4,5,6,7,8,9,10]:\n",
    "    print(i)"
   ]
  },
  {
   "cell_type": "code",
   "execution_count": null,
   "id": "4b6c2f53-8117-4142-a063-ef9f3f9a946d",
   "metadata": {},
   "outputs": [],
   "source": [
    "# 단계2: result = 0 으로 초기값을 할당하고  result += i 더도록 할당\n",
    "for i in [1,2,3,4,5,6,7,8,9,10]:\n",
    "    print(i)"
   ]
  },
  {
   "cell_type": "code",
   "execution_count": 47,
   "id": "0393e807-8aa5-413b-a14c-283a4ab635cd",
   "metadata": {},
   "outputs": [],
   "source": [
    "result = 0 \n",
    "i = 1\n",
    "result = result + i# 0 + 1 -> 1"
   ]
  },
  {
   "cell_type": "code",
   "execution_count": 48,
   "id": "f9a6a4ed-06d6-44fa-9c3c-685d98f2958a",
   "metadata": {},
   "outputs": [],
   "source": [
    "i = 2\n",
    "result = result + i# 1 + 2 -> 3"
   ]
  },
  {
   "cell_type": "code",
   "execution_count": 49,
   "id": "c8c1dcf8-4fa1-4158-a7ab-4cf4d68a6228",
   "metadata": {},
   "outputs": [
    {
     "data": {
      "text/plain": [
       "3"
      ]
     },
     "execution_count": 49,
     "metadata": {},
     "output_type": "execute_result"
    }
   ],
   "source": [
    "result"
   ]
  },
  {
   "cell_type": "code",
   "execution_count": 50,
   "id": "2f19ec71-1333-4428-91d7-deb630a04529",
   "metadata": {},
   "outputs": [
    {
     "name": "stdout",
     "output_type": "stream",
     "text": [
      "6\n"
     ]
    }
   ],
   "source": [
    "i = 3\n",
    "result = result + i# 1 + 2 -> 3\n",
    "print(result)"
   ]
  },
  {
   "cell_type": "code",
   "execution_count": 51,
   "id": "7c2149fb-7bb6-4984-a0c9-10ca462fc789",
   "metadata": {},
   "outputs": [
    {
     "name": "stdout",
     "output_type": "stream",
     "text": [
      "10\n"
     ]
    }
   ],
   "source": [
    "i = 4\n",
    "result = result + i# 1 + 2 -> 3\n",
    "print(result)"
   ]
  },
  {
   "cell_type": "code",
   "execution_count": 52,
   "id": "c8bc1481-b54a-4833-a4d9-771ac8207721",
   "metadata": {},
   "outputs": [
    {
     "name": "stdout",
     "output_type": "stream",
     "text": [
      "15\n"
     ]
    }
   ],
   "source": [
    "i = 5\n",
    "result = result + i# 1 + 2 -> 3\n",
    "print(result)"
   ]
  },
  {
   "cell_type": "code",
   "execution_count": 53,
   "id": "13d6efc9-5d10-40e8-93dd-fa406f133096",
   "metadata": {},
   "outputs": [
    {
     "name": "stdout",
     "output_type": "stream",
     "text": [
      "21\n"
     ]
    }
   ],
   "source": [
    "i = 6\n",
    "result = result + i# 1 + 2 -> 3\n",
    "print(result)"
   ]
  },
  {
   "cell_type": "code",
   "execution_count": 54,
   "id": "8c60f724-a98a-4826-8b24-b28c6186f0fc",
   "metadata": {},
   "outputs": [
    {
     "name": "stdout",
     "output_type": "stream",
     "text": [
      "28\n"
     ]
    }
   ],
   "source": [
    "i = 7\n",
    "result = result + i# 1 + 2 -> 3\n",
    "print(result)"
   ]
  },
  {
   "cell_type": "code",
   "execution_count": 55,
   "id": "bf2fa7d3-9d99-4bde-9012-a0604946d0ce",
   "metadata": {},
   "outputs": [
    {
     "name": "stdout",
     "output_type": "stream",
     "text": [
      "36\n"
     ]
    }
   ],
   "source": [
    "i = 8\n",
    "result = result + i# 1 + 2 -> 3\n",
    "print(result)"
   ]
  },
  {
   "cell_type": "code",
   "execution_count": 56,
   "id": "6ba8823d-3968-4494-bbd8-e145c863d847",
   "metadata": {},
   "outputs": [
    {
     "name": "stdout",
     "output_type": "stream",
     "text": [
      "45\n"
     ]
    }
   ],
   "source": [
    "i = 9\n",
    "result = result + i# 1 + 2 -> 3\n",
    "print(result)"
   ]
  },
  {
   "cell_type": "code",
   "execution_count": 57,
   "id": "6a3655b7-b414-4e9b-a681-b8b565f792b1",
   "metadata": {},
   "outputs": [
    {
     "name": "stdout",
     "output_type": "stream",
     "text": [
      "55\n"
     ]
    }
   ],
   "source": [
    "i = 10\n",
    "result = result + i# 1 + 2 -> 3\n",
    "print(result)"
   ]
  },
  {
   "cell_type": "code",
   "execution_count": 60,
   "id": "1019c2f6-40e2-43e9-9009-491da6b31f00",
   "metadata": {},
   "outputs": [
    {
     "name": "stdout",
     "output_type": "stream",
     "text": [
      "1\n",
      "3\n",
      "6\n",
      "10\n",
      "15\n",
      "21\n",
      "28\n",
      "36\n",
      "45\n",
      "55\n",
      "code\n",
      "code\n"
     ]
    }
   ],
   "source": [
    "result = 0 # 초기화\n",
    "for i in [1,2,3,4,5,6,7,8,9,10]:\n",
    "    result = result + i\n",
    "    print(result)\n",
    "else:\n",
    "    print(\"code\")"
   ]
  },
  {
   "cell_type": "code",
   "execution_count": 61,
   "id": "2f6b0438-2804-49a4-8042-0f527307d765",
   "metadata": {},
   "outputs": [
    {
     "name": "stdout",
     "output_type": "stream",
     "text": [
      "1\n",
      "3\n",
      "6\n",
      "10\n",
      "15\n",
      "21\n",
      "28\n",
      "36\n",
      "45\n",
      "55\n"
     ]
    }
   ],
   "source": [
    "result = 0 # 초기화\n",
    "for i in [1,2,3,4,5,6,7,8,9,10]:\n",
    "    result += i # result = result + i  \n",
    "    print(result)"
   ]
  },
  {
   "cell_type": "code",
   "execution_count": 62,
   "id": "551f0d6f-323b-4c4c-af16-a131bef08be8",
   "metadata": {},
   "outputs": [
    {
     "data": {
      "text/plain": [
       "\u001b[1;31mInit signature:\u001b[0m \u001b[0mrange\u001b[0m\u001b[1;33m(\u001b[0m\u001b[0mself\u001b[0m\u001b[1;33m,\u001b[0m \u001b[1;33m/\u001b[0m\u001b[1;33m,\u001b[0m \u001b[1;33m*\u001b[0m\u001b[0margs\u001b[0m\u001b[1;33m,\u001b[0m \u001b[1;33m**\u001b[0m\u001b[0mkwargs\u001b[0m\u001b[1;33m)\u001b[0m\u001b[1;33m\u001b[0m\u001b[1;33m\u001b[0m\u001b[0m\n",
       "\u001b[1;31mDocstring:\u001b[0m     \n",
       "range(stop) -> range object\n",
       "range(start, stop[, step]) -> range object\n",
       "\n",
       "Return an object that produces a sequence of integers from start (inclusive)\n",
       "to stop (exclusive) by step.  range(i, j) produces i, i+1, i+2, ..., j-1.\n",
       "start defaults to 0, and stop is omitted!  range(4) produces 0, 1, 2, 3.\n",
       "These are exactly the valid indices for a list of 4 elements.\n",
       "When step is given, it specifies the increment (or decrement).\n",
       "\u001b[1;31mType:\u001b[0m           type\n",
       "\u001b[1;31mSubclasses:\u001b[0m     "
      ]
     },
     "metadata": {},
     "output_type": "display_data"
    }
   ],
   "source": [
    "range?"
   ]
  },
  {
   "cell_type": "code",
   "execution_count": 64,
   "id": "d96d300e-c725-48ae-9778-809d1bf7ebdc",
   "metadata": {},
   "outputs": [
    {
     "data": {
      "text/plain": [
       "range"
      ]
     },
     "execution_count": 64,
     "metadata": {},
     "output_type": "execute_result"
    }
   ],
   "source": [
    "type(range(0,10))"
   ]
  },
  {
   "cell_type": "code",
   "execution_count": 65,
   "id": "8a2c07ea-9ea3-4ca2-9a49-bcf1799d096a",
   "metadata": {},
   "outputs": [
    {
     "data": {
      "text/plain": [
       "[0, 1, 2, 3, 4, 5, 6, 7, 8, 9]"
      ]
     },
     "execution_count": 65,
     "metadata": {},
     "output_type": "execute_result"
    }
   ],
   "source": [
    "list(range(0,10))"
   ]
  },
  {
   "cell_type": "code",
   "execution_count": 67,
   "id": "8bb70f6c-af15-483f-8e0c-83785e216f3f",
   "metadata": {},
   "outputs": [
    {
     "data": {
      "text/plain": [
       "[1, 2, 3, 4, 5, 6, 7, 8, 9, 10]"
      ]
     },
     "execution_count": 67,
     "metadata": {},
     "output_type": "execute_result"
    }
   ],
   "source": [
    "list(range(1,11))"
   ]
  },
  {
   "cell_type": "code",
   "execution_count": 68,
   "id": "e08fcedb-17b8-45e6-a6ef-cbee1bea6dc0",
   "metadata": {},
   "outputs": [
    {
     "data": {
      "text/plain": [
       "[1, 3, 5, 7, 9]"
      ]
     },
     "execution_count": 68,
     "metadata": {},
     "output_type": "execute_result"
    }
   ],
   "source": [
    "list(range(1,11,2))"
   ]
  },
  {
   "cell_type": "code",
   "execution_count": 72,
   "id": "f0e80042-14c7-474e-92a4-2c8f4f510d4d",
   "metadata": {},
   "outputs": [
    {
     "data": {
      "text/plain": [
       "[11, 9, 7, 5, 3]"
      ]
     },
     "execution_count": 72,
     "metadata": {},
     "output_type": "execute_result"
    }
   ],
   "source": [
    "list(range(11,1,-2))\n",
    "# list(range(11,1,-1))"
   ]
  },
  {
   "cell_type": "code",
   "execution_count": 73,
   "id": "3cd9faf4-dee3-4fd4-9038-05bd684daaa8",
   "metadata": {},
   "outputs": [
    {
     "name": "stdout",
     "output_type": "stream",
     "text": [
      "45\n"
     ]
    }
   ],
   "source": [
    "result = 0 \n",
    "for i in range(0, 10):\n",
    "    result += i\n",
    "print(result)"
   ]
  },
  {
   "cell_type": "code",
   "execution_count": 76,
   "id": "c4acdc33-e548-4661-be09-79644e487bc3",
   "metadata": {},
   "outputs": [
    {
     "name": "stdin",
     "output_type": "stream",
     "text": [
      "값을 입력하세요 :  11\n"
     ]
    },
    {
     "name": "stdout",
     "output_type": "stream",
     "text": [
      "홀수\n"
     ]
    }
   ],
   "source": [
    "# 문제 \n",
    "# n 을 입력 받고 입력받은 값이 짝수면 1~n 까지 곱하는 펙토리얼을 구현하고\n",
    "# n 이 홀수이면 1부터 n까지 더하는 시그마를 구현해보세요 \n",
    "\n",
    "user_input = int(input(\"값을 입력하세요 : \"))\n",
    "if user_input % 2 ==0:\n",
    "    print(\"짝수\")\n",
    "else:\n",
    "    print(\"홀수\")"
   ]
  },
  {
   "cell_type": "code",
   "execution_count": 79,
   "id": "b80fd8c4-2f9f-45bf-8dc0-5074a5e3e859",
   "metadata": {},
   "outputs": [
    {
     "data": {
      "text/plain": [
       "[1, 2, 3, 4, 5, 6, 7, 8, 9, 10, 11]"
      ]
     },
     "execution_count": 79,
     "metadata": {},
     "output_type": "execute_result"
    }
   ],
   "source": [
    "list(range(1, user_input+1))"
   ]
  },
  {
   "cell_type": "code",
   "execution_count": 80,
   "id": "566442b7-49c1-4065-9c5d-99e837886b22",
   "metadata": {},
   "outputs": [
    {
     "name": "stdout",
     "output_type": "stream",
     "text": [
      "39916800\n"
     ]
    }
   ],
   "source": [
    "result = 1\n",
    "for i in range(1, user_input+1):\n",
    "    result = result * i\n",
    "print(result)"
   ]
  },
  {
   "cell_type": "code",
   "execution_count": 81,
   "id": "bc6b5625-d874-4d95-bb80-1a57f744faeb",
   "metadata": {},
   "outputs": [
    {
     "name": "stdout",
     "output_type": "stream",
     "text": [
      "66\n"
     ]
    }
   ],
   "source": [
    "result = 0\n",
    "for i in range(1, user_input+1):\n",
    "    result = result + i # result += i\n",
    "print(result)"
   ]
  },
  {
   "cell_type": "code",
   "execution_count": 83,
   "id": "036a8ba9-61c9-4670-bad2-8b7993383e52",
   "metadata": {},
   "outputs": [
    {
     "name": "stdin",
     "output_type": "stream",
     "text": [
      "값을 입력하세요 :  9\n"
     ]
    },
    {
     "name": "stdout",
     "output_type": "stream",
     "text": [
      "홀수\n",
      "45\n"
     ]
    }
   ],
   "source": [
    "user_input = int(input(\"값을 입력하세요 : \"))\n",
    "if user_input % 2 ==0:\n",
    "    print(\"짝수\")\n",
    "    result = 1\n",
    "    for i in range(1, user_input+1):\n",
    "        result = result * i\n",
    "else:\n",
    "    print(\"홀수\")\n",
    "    result = 0\n",
    "    for i in range(1, user_input+1):\n",
    "        result = result + i # result += i\n",
    "print(result)"
   ]
  },
  {
   "cell_type": "code",
   "execution_count": 84,
   "id": "fbdf441b-feaa-4927-86ce-9a2b940ca2e9",
   "metadata": {},
   "outputs": [],
   "source": [
    "first, sec = (1, 2)"
   ]
  },
  {
   "cell_type": "code",
   "execution_count": 88,
   "id": "4cbe30ee-a676-40d0-8571-879b5f59cf8e",
   "metadata": {},
   "outputs": [
    {
     "name": "stdout",
     "output_type": "stream",
     "text": [
      "(1, 2)\n",
      "(3, 4)\n",
      "(5, 6)\n"
     ]
    }
   ],
   "source": [
    "for i in [(1,2), (3,4), (5,6)]:\n",
    "    print(i)"
   ]
  },
  {
   "cell_type": "code",
   "execution_count": 90,
   "id": "eb8539cb-4fde-42e7-aba2-d2b706cfecd4",
   "metadata": {},
   "outputs": [
    {
     "name": "stdout",
     "output_type": "stream",
     "text": [
      "i: 1\n",
      "j: 2\n",
      "====================\n",
      "i: 3\n",
      "j: 4\n",
      "====================\n",
      "i: 5\n",
      "j: 6\n",
      "====================\n"
     ]
    }
   ],
   "source": [
    "for i,j in [(1,2), (3,4), (5,6)]:\n",
    "    print(\"i:\", i)\n",
    "    print(\"j:\", j)\n",
    "    print(\"==\"*10)"
   ]
  },
  {
   "cell_type": "code",
   "execution_count": 91,
   "id": "7ad8d3a3-95f6-4e12-92bf-afbb31a1eb60",
   "metadata": {},
   "outputs": [],
   "source": [
    "list_1 = [1,2,3,4,5,6,7]\n",
    "list_2 = [\"a\",\"b\",\"c\",\"d\",\"e\",\"f\",\"g\"]"
   ]
  },
  {
   "cell_type": "code",
   "execution_count": 93,
   "id": "eb696c13-e6f0-4697-a115-8e7dd2471d3f",
   "metadata": {},
   "outputs": [
    {
     "data": {
      "text/plain": [
       "[(1, 'a'), (2, 'b'), (3, 'c'), (4, 'd'), (5, 'e'), (6, 'f'), (7, 'g')]"
      ]
     },
     "execution_count": 93,
     "metadata": {},
     "output_type": "execute_result"
    }
   ],
   "source": [
    "list(zip(list_1, list_2))"
   ]
  },
  {
   "cell_type": "code",
   "execution_count": 94,
   "id": "d3f6eaf8-5e05-4897-9a8e-cfe7da13042c",
   "metadata": {},
   "outputs": [
    {
     "name": "stdout",
     "output_type": "stream",
     "text": [
      "i: 1\n",
      "j: a\n",
      "====================\n",
      "i: 2\n",
      "j: b\n",
      "====================\n",
      "i: 3\n",
      "j: c\n",
      "====================\n",
      "i: 4\n",
      "j: d\n",
      "====================\n",
      "i: 5\n",
      "j: e\n",
      "====================\n",
      "i: 6\n",
      "j: f\n",
      "====================\n",
      "i: 7\n",
      "j: g\n",
      "====================\n"
     ]
    }
   ],
   "source": [
    "for i,j in zip(list_1, list_2):\n",
    "    print(\"i:\", i)\n",
    "    print(\"j:\", j)\n",
    "    print(\"==\"*10)"
   ]
  },
  {
   "cell_type": "code",
   "execution_count": 98,
   "id": "159b2ffc-df52-4c55-8d70-4ce63eb09f08",
   "metadata": {},
   "outputs": [
    {
     "data": {
      "text/plain": [
       "[(0, 'a'), (1, 'b'), (2, 'c'), (3, 'd'), (4, 'e'), (5, 'f'), (6, 'g')]"
      ]
     },
     "execution_count": 98,
     "metadata": {},
     "output_type": "execute_result"
    }
   ],
   "source": [
    "list(enumerate(list_2))"
   ]
  },
  {
   "cell_type": "code",
   "execution_count": 97,
   "id": "1a1dadcf-3fdc-49d0-be60-63300d4ebb59",
   "metadata": {},
   "outputs": [
    {
     "name": "stdout",
     "output_type": "stream",
     "text": [
      "0 a\n",
      "1 b\n",
      "2 c\n",
      "3 d\n",
      "4 e\n",
      "5 f\n",
      "6 g\n"
     ]
    }
   ],
   "source": [
    "for i, j in list(enumerate(list_2)):\n",
    "    print(i, j)"
   ]
  },
  {
   "cell_type": "markdown",
   "id": "a551dddf-e25e-4c79-8203-0958f44e781b",
   "metadata": {},
   "source": [
    "# 실습\r\n",
    "- 반복문을 이용해 다음과 같이 출력 되도록 작성해 보세요\r\n",
    "- 힌트, 빈리스트를 만들고 시작한다.\r\n",
    "- 힌트, 반복문, 빈리스트, append\r\n",
    "\r\n",
    "```\r\n",
    "[1]\r\n",
    "[1, 2]\r\n",
    "[1, 2, 3]\r\n",
    "[1, 2, 3, 4]\r\n",
    "[1, 2, 3, 4, 5]\r\n",
    "```\r\n"
   ]
  },
  {
   "cell_type": "code",
   "execution_count": 99,
   "id": "7237b0ff-595b-452c-aedf-cce0e0c570e6",
   "metadata": {},
   "outputs": [],
   "source": [
    "list_1 = []"
   ]
  },
  {
   "cell_type": "code",
   "execution_count": 100,
   "id": "54e81b0e-4955-45a5-a099-a32d918984ba",
   "metadata": {},
   "outputs": [
    {
     "name": "stdout",
     "output_type": "stream",
     "text": [
      "[1]\n"
     ]
    }
   ],
   "source": [
    "list_1.append(1)\n",
    "print(list_1)"
   ]
  },
  {
   "cell_type": "code",
   "execution_count": 101,
   "id": "559cc1d5-a26f-47c5-aff2-b133258a4e03",
   "metadata": {},
   "outputs": [
    {
     "name": "stdout",
     "output_type": "stream",
     "text": [
      "[1, 2]\n"
     ]
    }
   ],
   "source": [
    "list_1.append(2)\n",
    "print(list_1)"
   ]
  },
  {
   "cell_type": "code",
   "execution_count": 102,
   "id": "090d97b5-096a-47dd-9c50-d1de20e08f20",
   "metadata": {},
   "outputs": [
    {
     "name": "stdout",
     "output_type": "stream",
     "text": [
      "[1, 2, 3]\n"
     ]
    }
   ],
   "source": [
    "list_1.append(3)\n",
    "print(list_1)"
   ]
  },
  {
   "cell_type": "code",
   "execution_count": 103,
   "id": "fd4fbcd9-8c34-4891-a9cf-f7c224938d59",
   "metadata": {},
   "outputs": [
    {
     "name": "stdout",
     "output_type": "stream",
     "text": [
      "[1, 2, 3, 4]\n"
     ]
    }
   ],
   "source": [
    "list_1.append(4)\n",
    "print(list_1)"
   ]
  },
  {
   "cell_type": "code",
   "execution_count": 104,
   "id": "06d0aef9-20b8-4f6e-a1c9-2cf1abc77e4b",
   "metadata": {},
   "outputs": [
    {
     "name": "stdout",
     "output_type": "stream",
     "text": [
      "[1, 2, 3, 4, 5]\n"
     ]
    }
   ],
   "source": [
    "list_1.append(5)\n",
    "print(list_1)"
   ]
  },
  {
   "cell_type": "code",
   "execution_count": 105,
   "id": "310de2d8-1d1e-46ac-90c4-d86c574118e4",
   "metadata": {},
   "outputs": [
    {
     "name": "stdout",
     "output_type": "stream",
     "text": [
      "[1]\n",
      "[1, 2]\n",
      "[1, 2, 3]\n",
      "[1, 2, 3, 4]\n",
      "[1, 2, 3, 4, 5]\n"
     ]
    }
   ],
   "source": [
    "list_1 = []\n",
    "for i in range(1, 6):\n",
    "    list_1.append(i)\n",
    "    print(list_1)"
   ]
  },
  {
   "cell_type": "code",
   "execution_count": 110,
   "id": "2504e1b0-a68c-4d43-808a-7be5181820e6",
   "metadata": {},
   "outputs": [
    {
     "name": "stdout",
     "output_type": "stream",
     "text": [
      "1번 학생은 불합격\n",
      "2번 학생은 불합격\n",
      "3번 학생은 합격\n",
      "4번 학생은 합격\n",
      "5번 학생은 불합격\n",
      "6번 학생은 합격\n"
     ]
    }
   ],
   "source": [
    "# scores 를 확인하고 60점 미만인 학생들은 불합격 으로 출력되게 작성해 보세요\n",
    "\n",
    "# 1번 학생은 불합격\n",
    "# 2번 학생은 불합격\n",
    "# 3번 학생은 합격\n",
    "# 4번 학생은 합격\n",
    "# 5번 학생은 불합격\n",
    "# 6번 학생은 합격\n",
    "\n",
    "scores = [15, 50, 60, 70, 52, 75]\n",
    "for j,i in enumerate(scores):\n",
    "    if i >= 60 :\n",
    "        print(f\"{j+1}번 학생은 합격\")\n",
    "    else:\n",
    "        print(f\"{j+1}번 학생은 불합격\")"
   ]
  },
  {
   "cell_type": "code",
   "execution_count": 108,
   "id": "711c15f1-3eed-4312-9278-bf34bd111618",
   "metadata": {},
   "outputs": [
    {
     "data": {
      "text/plain": [
       "[(0, 15), (1, 50), (2, 60), (3, 70), (4, 52), (5, 75)]"
      ]
     },
     "execution_count": 108,
     "metadata": {},
     "output_type": "execute_result"
    }
   ],
   "source": [
    "scores = [15, 50, 60, 70, 52, 75]\n",
    "list(enumerate(scores))"
   ]
  },
  {
   "cell_type": "code",
   "execution_count": 113,
   "id": "e6ad854f-906f-4291-a605-6dea842b0b30",
   "metadata": {},
   "outputs": [
    {
     "name": "stdout",
     "output_type": "stream",
     "text": [
      "1번 학생은 불합격\n",
      "2번 학생은 불합격\n",
      "3번 학생은 합격\n",
      "4번 학생은 합격\n",
      "5번 학생은 불합격\n",
      "6번 학생은 합격\n"
     ]
    }
   ],
   "source": [
    "j = 1\n",
    "scores = [15, 50, 60, 70, 52, 75]\n",
    "for i in scores:\n",
    "    if i >= 60 :\n",
    "        print(f\"{j}번 학생은 합격\")\n",
    "    else:\n",
    "        print(f\"{j}번 학생은 불합격\")\n",
    "    j = j + 1"
   ]
  },
  {
   "cell_type": "code",
   "execution_count": 114,
   "id": "a4b535d9-119c-4fb9-b4d9-4ac1b2bb3a8a",
   "metadata": {},
   "outputs": [
    {
     "name": "stdout",
     "output_type": "stream",
     "text": [
      "1번 학생은 불합격\n",
      "2번 학생은 불합격\n",
      "3번 학생은 합격\n",
      "4번 학생은 합격\n",
      "5번 학생은 불합격\n",
      "6번 학생은 합격\n"
     ]
    }
   ],
   "source": [
    "j = 0\n",
    "scores = [15, 50, 60, 70, 52, 75]\n",
    "for i in scores:\n",
    "    j = j + 1\n",
    "    if i >= 60:\n",
    "        print(f\"{j}번 학생은 합격\")\n",
    "    else:\n",
    "        print(f\"{j}번 학생은 불합격\")"
   ]
  },
  {
   "cell_type": "code",
   "execution_count": 115,
   "id": "194bcfb0-e9c5-4dac-b6ed-440f3fbae03c",
   "metadata": {},
   "outputs": [
    {
     "name": "stdout",
     "output_type": "stream",
     "text": [
      "15\n",
      "50\n",
      "60\n",
      "70\n",
      "52\n",
      "75\n"
     ]
    }
   ],
   "source": [
    "scores = [15, 50, 60, 70, 52, 75]\n",
    "for score in scores:\n",
    "    print(score)"
   ]
  },
  {
   "cell_type": "markdown",
   "id": "2ebf4336-6ac0-441c-9c4d-9aef2a305266",
   "metadata": {},
   "source": [
    "### 반복문을 이용해서 구구단 계산을 만들어 보세요\n",
    "- 출력 결과는 다음과 같습니다\n",
    "\n",
    "```\n",
    "2x1 = 2\n",
    "2x2 = 4\n",
    "2x3 = 6\n",
    "2x4 = 8\n",
    "2x5 = 10\n",
    "2x6 = 12\n",
    "2x7 = 14\n",
    "2x8 = 16\n",
    "2x9 = 18\n",
    "```"
   ]
  },
  {
   "cell_type": "code",
   "execution_count": 116,
   "id": "d708b30c-5b61-4e9a-b7ce-4d5feb599ef0",
   "metadata": {},
   "outputs": [
    {
     "name": "stdin",
     "output_type": "stream",
     "text": [
      "몇단을 계산 하실건가요? :  3\n"
     ]
    },
    {
     "name": "stdout",
     "output_type": "stream",
     "text": [
      "3x1 = 3\n",
      "3x2 = 6\n",
      "3x3 = 9\n",
      "3x4 = 12\n",
      "3x5 = 15\n",
      "3x6 = 18\n",
      "3x7 = 21\n",
      "3x8 = 24\n",
      "3x9 = 27\n"
     ]
    }
   ],
   "source": [
    "user_input = int(input(\"몇단을 계산 하실건가요? : \"))\n",
    "for i in range(1, 10):\n",
    "    print(f\"{user_input}x{i} = {user_input * i}\")"
   ]
  },
  {
   "cell_type": "markdown",
   "id": "ca2f1140-2c3f-4497-a8c0-db25a3f860c0",
   "metadata": {},
   "source": [
    "```\n",
    "===== 1단 =====\n",
    "1x1 = 1\n",
    "1x2 = 2\n",
    "1x3 = 3\n",
    "1x4 = 4\n",
    "1x5 = 5\n",
    "1x6 = 6\n",
    "1x7 = 7\n",
    "1x8 = 8\n",
    "1x9 = 9\n",
    "===== 2단 =====\n",
    "2x1 = 2\n",
    "2x2 = 4\n",
    "2x3 = 6\n",
    "2x4 = 8\n",
    "2x5 = 10\n",
    "2x6 = 12\n",
    "2x7 = 14\n",
    "2x8 = 16\n",
    "2x9 = 18\n",
    "===== 3단 =====\n",
    "3x1 = 3\n",
    "3x2 = 6\n",
    "3x3 = 9\n",
    "3x4 = 12\n",
    "3x5 = 15\n",
    "3x6 = 18\n",
    "3x7 = 21\n",
    "3x8 = 24\n",
    "3x9 = 27\n",
    "===== 4단 =====\n",
    "4x1 = 4\n",
    "4x2 = 8\n",
    "4x3 = 12\n",
    "4x4 = 16\n",
    "4x5 = 20\n",
    "4x6 = 24\n",
    "4x7 = 28\n",
    "4x8 = 32\n",
    "4x9 = 36\n",
    "===== 5단 =====\n",
    "5x1 = 5\n",
    "5x2 = 10\n",
    "5x3 = 15\n",
    "5x4 = 20\n",
    "5x5 = 25\n",
    "5x6 = 30\n",
    "5x7 = 35\n",
    "5x8 = 40\n",
    "5x9 = 45\n",
    "===== 6단 =====\n",
    "6x1 = 6\n",
    "6x2 = 12\n",
    "6x3 = 18\n",
    "6x4 = 24\n",
    "6x5 = 30\n",
    "6x6 = 36\n",
    "6x7 = 42\n",
    "6x8 = 48\n",
    "6x9 = 54\n",
    "===== 7단 =====\n",
    "7x1 = 7\n",
    "7x2 = 14\n",
    "7x3 = 21\n",
    "7x4 = 28\n",
    "7x5 = 35\n",
    "7x6 = 42\n",
    "7x7 = 49\n",
    "7x8 = 56\n",
    "7x9 = 63\n",
    "===== 8단 =====\n",
    "8x1 = 8\n",
    "8x2 = 16\n",
    "8x3 = 24\n",
    "8x4 = 32\n",
    "8x5 = 40\n",
    "8x6 = 48\n",
    "8x7 = 56\n",
    "8x8 = 64\n",
    "8x9 = 72\n",
    "===== 9단 =====\n",
    "9x1 = 9\n",
    "9x2 = 18\n",
    "9x3 = 27\n",
    "9x4 = 36\n",
    "9x5 = 45\n",
    "9x6 = 54\n",
    "9x7 = 63\n",
    "9x8 = 72\n",
    "9x9 = 81\n",
    "```"
   ]
  },
  {
   "cell_type": "code",
   "execution_count": null,
   "id": "eaebb904-ee30-42e0-a317-2768b33f0158",
   "metadata": {},
   "outputs": [],
   "source": []
  }
 ],
 "metadata": {
  "kernelspec": {
   "display_name": "Python 3 (ipykernel)",
   "language": "python",
   "name": "python3"
  },
  "language_info": {
   "codemirror_mode": {
    "name": "ipython",
    "version": 3
   },
   "file_extension": ".py",
   "mimetype": "text/x-python",
   "name": "python",
   "nbconvert_exporter": "python",
   "pygments_lexer": "ipython3",
   "version": "3.11.7"
  }
 },
 "nbformat": 4,
 "nbformat_minor": 5
}
