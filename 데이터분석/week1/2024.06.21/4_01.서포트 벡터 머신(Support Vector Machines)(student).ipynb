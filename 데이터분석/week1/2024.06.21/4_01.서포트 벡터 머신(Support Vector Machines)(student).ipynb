{
 "cells": [
  {
   "cell_type": "markdown",
   "metadata": {
    "id": "g63soNOvFUSa"
   },
   "source": [
    "# 서포트 벡터 머신(Support Vector Machines)"
   ]
  },
  {
   "cell_type": "markdown",
   "metadata": {
    "id": "Rrbp02Mk5CDA"
   },
   "source": [
    "- 회귀, 분류, 이상치 탐지 등에 사용되는 지도학습 방법\n",
    "- 클래스 사이의 경계에 위치한 데이터 포인트를 서포트 벡터(support vector)라고 한다.\n",
    "- 각 지지 벡터가 클래스 사이의 결정 경계를 구분하는데 얼마나 중요한지를 학습\n",
    "- 각 지지 벡터 사이의 마진이 가장 큰 방향으로 학습\n",
    "- 지지 벡터 까지의 거리와 지지 벡터의 중요도를 기반으로 예측을 수행\n",
    "\n",
    "![support vector machine](https://upload.wikimedia.org/wikipedia/commons/thumb/2/20/Svm_separating_hyperplanes.png/220px-Svm_separating_hyperplanes.png)\n",
    "\n",
    "- H3은 두 클래스의 점들을 제대로 분류하고 있지 않음\n",
    "- H1과 H2는 두 클래스의 점들을 분류하는데, H2가 H1보다 더 큰 마진을 갖고 분류하는 것을 확인할 수 있음"
   ]
  },
  {
   "cell_type": "code",
   "execution_count": 1,
   "metadata": {
    "executionInfo": {
     "elapsed": 317,
     "status": "ok",
     "timestamp": 1633168564916,
     "user": {
      "displayName": "박영빈",
      "photoUrl": "https://lh3.googleusercontent.com/a/default-user=s64",
      "userId": "06406289282683365716"
     },
     "user_tz": -540
    },
    "id": "zBilnkAn4_U3",
    "tags": []
   },
   "outputs": [],
   "source": [
    "import multiprocessing\n",
    "import pandas as pd\n",
    "import numpy as np\n",
    "import matplotlib.pyplot as plt"
   ]
  },
  {
   "cell_type": "code",
   "execution_count": 2,
   "metadata": {
    "executionInfo": {
     "elapsed": 1588,
     "status": "ok",
     "timestamp": 1633168567127,
     "user": {
      "displayName": "박영빈",
      "photoUrl": "https://lh3.googleusercontent.com/a/default-user=s64",
      "userId": "06406289282683365716"
     },
     "user_tz": -540
    },
    "id": "1YRJRPy6hTe0",
    "tags": []
   },
   "outputs": [],
   "source": [
    "from sklearn.svm import SVR, SVC \n",
    "from sklearn.datasets import load_diabetes\n",
    "from sklearn.datasets import load_breast_cancer, load_iris, load_wine\n",
    "from sklearn.pipeline import make_pipeline, Pipeline\n",
    "from sklearn.model_selection import train_test_split, cross_val_score, GridSearchCV, cross_validate\n",
    "from sklearn.preprocessing import StandardScaler, MinMaxScaler\n",
    "from sklearn.manifold import TSNE"
   ]
  },
  {
   "cell_type": "markdown",
   "metadata": {
    "id": "UxS0mPsCh4l0"
   },
   "source": [
    "## SVM을 이용한 회귀 모델과 분류 모델"
   ]
  },
  {
   "cell_type": "markdown",
   "metadata": {
    "id": "NTtcx3p8wtNX"
   },
   "source": [
    "### SVM을 사용한 회귀 모델 (SVR)"
   ]
  },
  {
   "cell_type": "code",
   "execution_count": 4,
   "metadata": {
    "colab": {
     "base_uri": "https://localhost:8080/"
    },
    "executionInfo": {
     "elapsed": 64,
     "status": "ok",
     "timestamp": 1633168567132,
     "user": {
      "displayName": "박영빈",
      "photoUrl": "https://lh3.googleusercontent.com/a/default-user=s64",
      "userId": "06406289282683365716"
     },
     "user_tz": -540
    },
    "id": "sCrhSrMf5BqB",
    "outputId": "1b34b781-157d-469a-e09e-22b7965b4f59"
   },
   "outputs": [
    {
     "name": "stdout",
     "output_type": "stream",
     "text": [
      "Train Data Score: 0.21537081803194957\n",
      "Test Data Score: 0.23908939655470351\n"
     ]
    }
   ],
   "source": [
    "# url 을 통해서 불러오세요 \n",
    "import pandas as pd\n",
    "url = \"https://raw.githubusercontent.com/myoh0623/dataset/main/boston.csv\"\n",
    "boston_df = pd.read_csv(url)\n",
    "x = boston_df.iloc[:, 0:-1]\n",
    "y = boston_df.iloc[:, -1]\n",
    "x_train, x_test, y_train, y_test = train_test_split(x, y, test_size=.2)\n",
    "\n",
    "\n",
    "model = SVR()\n",
    "model.fit(x_train, y_train)\n",
    "\n",
    "# 회귀 모델이라 score 가 낮을수 있다. \n",
    "print(f'Train Data Score: {model.score(x_train, y_train)}')\n",
    "print(f'Test Data Score: {model.score(x_test, y_test)}')"
   ]
  },
  {
   "cell_type": "markdown",
   "metadata": {
    "id": "CQraX6MzwvtE"
   },
   "source": [
    "### SVM을 사용한 분류 모델 (SVC)"
   ]
  },
  {
   "cell_type": "code",
   "execution_count": 5,
   "metadata": {},
   "outputs": [
    {
     "data": {
      "text/plain": [
       "(0.9186813186813186, 0.9298245614035088)"
      ]
     },
     "execution_count": 5,
     "metadata": {},
     "output_type": "execute_result"
    }
   ],
   "source": [
    "x, y = load_breast_cancer(return_X_y=True)\n",
    "x_train, x_test, y_train, y_test = train_test_split(x, y, test_size=.2)\n",
    "\n",
    "model = SVC()\n",
    "model.fit(x_train, y_train)\n",
    "\n",
    "model.score(x_train, y_train), model.score(x_test, y_test)"
   ]
  },
  {
   "cell_type": "code",
   "execution_count": 7,
   "metadata": {},
   "outputs": [
    {
     "name": "stdout",
     "output_type": "stream",
     "text": [
      "train data score : 0.7868131868131868\n",
      "test data score : 0.8508771929824561\n",
      "f1-score score : 0.903954802259887\n",
      "recall-score score : 1.0\n",
      " \n",
      "train data score : 0.8879120879120879\n",
      "test data score : 0.9122807017543859\n",
      "f1-score score : 0.9411764705882353\n",
      "recall-score score : 1.0\n",
      " \n",
      "train data score : 0.9186813186813186\n",
      "test data score : 0.9298245614035088\n",
      "f1-score score : 0.9518072289156626\n",
      "recall-score score : 0.9875\n",
      " \n",
      "train data score : 0.9230769230769231\n",
      "test data score : 0.9298245614035088\n",
      "f1-score score : 0.9506172839506173\n",
      "recall-score score : 0.9625\n",
      " \n"
     ]
    }
   ],
   "source": [
    "# 실습 C-value를 변경하면서 학습을 시켜 보세요\n",
    "# f1-score, recall 를 구해보세요\n",
    "# 0.01, 0.1, 1, 10\n",
    "# 질병의 예방에 있어서는 precision 이 중요하고\n",
    "# 질병을 판단 하는데 있어서는 recall 이 중요하다.\n",
    "from sklearn.metrics import f1_score, recall_score\n",
    "# https://scikit-learn.org/stable/modules/generated/sklearn.svm.SVC.html\n",
    "models = [SVC(C=0.01), SVC(C=0.1), SVC(C=1), SVC(C=10)]\n",
    "\n",
    "for model in models:\n",
    "    model.fit(x_train, y_train)\n",
    "    print(f\"train data score : {model.score(x_train, y_train)}\")\n",
    "    print(f\"test data score : {model.score(x_test, y_test)}\")\n",
    "    print(f\"f1-score score : {f1_score(y_test, model.predict(x_test))}\")\n",
    "    print(f\"recall-score score : {recall_score(y_test, model.predict(x_test))}\")\n",
    "    print(\" \")"
   ]
  },
  {
   "cell_type": "markdown",
   "metadata": {
    "id": "zgd_dvKrGeFh"
   },
   "source": [
    "## 커널 기법\n",
    "\n",
    "- 입력 데이터를 고차원 공간에 사상해서 비선형 특징을 학습할 수 있도록 확장하는 방법\n",
    "- scikit-learn에서는 Linear, Polynomial, RBF(Radial Basis Function)등 다양한 커널 기법을 지원\n",
    "- https://scikit-learn.org/stable/modules/svm.html#kernel-functions"
   ]
  },
  {
   "cell_type": "code",
   "execution_count": 11,
   "metadata": {},
   "outputs": [
    {
     "name": "stdout",
     "output_type": "stream",
     "text": [
      "Train Data Score: 0.4554141029558435\n",
      "Test Data Score: 0.6344363976459313\n",
      "Train Data Score: 0.7411306673945179\n",
      "Test Data Score: 0.7248207987630981\n",
      "Train Data Score: 0.5326027725301978\n",
      "Test Data Score: 0.5724962454050346\n"
     ]
    }
   ],
   "source": [
    "# load_boston 보스턴 집값\n",
    "\n",
    "models = [SVR(kernel = \"linear\"), SVR(kernel = \"rbf\"), SVR(kernel = \"poly\")]\n",
    "\n",
    "# 회귀 모델이라 score 가 낮을수 있다. \n",
    "for model in models:\n",
    "    model.fit(x_train, y_train)\n",
    "    print(f'Train Data Score: {model.score(x_train, y_train)}')\n",
    "    print(f'Test Data Score: {model.score(x_test, y_test)}')"
   ]
  },
  {
   "cell_type": "code",
   "execution_count": null,
   "metadata": {},
   "outputs": [],
   "source": [
    "# 유방암 데이터에 컬널별 분류를 적용해 보자.\n",
    "# [\"linear\", \"poly\", \"rbf\", \"sigmoid\"]\n",
    "# https://scikit-learn.org/stable/modules/svm.html#kernel-functions"
   ]
  },
  {
   "cell_type": "markdown",
   "metadata": {
    "id": "ysbUu5o3Lm2V"
   },
   "source": [
    "## 매개변수 튜닝\n",
    "\n",
    "- SVM은 사용하는 커널에 따라 다양한 매개변수 설정 가능\n",
    "- 매개변수를 변경하면서 성능변화를 관찰"
   ]
  },
  {
   "cell_type": "code",
   "execution_count": 12,
   "metadata": {},
   "outputs": [
    {
     "name": "stdout",
     "output_type": "stream",
     "text": [
      "Best parameters: {'C': 10, 'kernel': 'linear'}\n",
      "Best cross-validation score: 0.9516483516483516\n",
      "Test set score: 0.9473684210526315\n",
      "F1-score: 0.9634146341463414\n",
      "Recall: 0.9875\n"
     ]
    }
   ],
   "source": [
    "param_grid = {\n",
    "    'kernel': ['linear', 'poly', 'rbf', 'sigmoid'],\n",
    "    'C': [0.01, 0.1, 1, 10]\n",
    "}\n",
    "\n",
    "\n",
    "grid_search = GridSearchCV(SVC(), param_grid, cv=5, scoring='accuracy', n_jobs=-1)\n",
    "\n",
    "grid_search.fit(x_train, y_train)\n",
    "\n",
    "print(f'Best parameters: {grid_search.best_params_}')\n",
    "print(f'Best cross-validation score: {grid_search.best_score_}')\n",
    "\n",
    "best_model = grid_search.best_estimator_\n",
    "\n",
    "\n",
    "y_pred = best_model.predict(x_test)\n",
    "\n",
    "\n",
    "print(f'Test set score: {best_model.score(x_test, y_test)}')\n",
    "print(f'F1-score: {f1_score(y_test, y_pred)}')\n",
    "print(f'Recall: {recall_score(y_test, y_pred)}')"
   ]
  },
  {
   "cell_type": "markdown",
   "metadata": {
    "id": "aEQL8h8WU0An"
   },
   "source": [
    "## 데이터 전처리\n",
    "\n",
    "- SVM은 입력 데이터가 정규화 되어야 좋은 성능을 보임\n",
    "- 주로 모든 특성 값을 [0, 1] 범위로 맞추는 방법을 사용\n",
    "- scikit-learn의 StandardScaler 또는 MinMaxScaler를 사용해 정규화"
   ]
  },
  {
   "cell_type": "code",
   "execution_count": 13,
   "metadata": {},
   "outputs": [],
   "source": [
    "# StandardScaler, MinMaxScaler를 sklearn 의 docs 에서 확인 \n",
    "# load_breast_cancer 에 StandardScaler 를 이용해 정규화를 진행 하고 학습을 시켜 보세요 "
   ]
  },
  {
   "cell_type": "code",
   "execution_count": 15,
   "metadata": {},
   "outputs": [],
   "source": [
    "from sklearn.preprocessing import StandardScaler"
   ]
  },
  {
   "cell_type": "code",
   "execution_count": 18,
   "metadata": {},
   "outputs": [],
   "source": [
    "x, y = load_breast_cancer(return_X_y = True)\n",
    "scaler = StandardScaler()\n",
    "x = scaler.fit_transform(x) # fit + transform\n",
    "x_train, x_test, y_train, y_test = train_test_split(x, y, random_state=1234)"
   ]
  },
  {
   "cell_type": "code",
   "execution_count": 19,
   "metadata": {},
   "outputs": [
    {
     "name": "stdout",
     "output_type": "stream",
     "text": [
      "Best parameters: {'C': 0.1, 'kernel': 'linear'}\n",
      "Best cross-validation score: 0.9788782489740082\n",
      "Test set score: 0.958041958041958\n",
      "F1-score: 0.967032967032967\n",
      "Recall: 1.0\n"
     ]
    }
   ],
   "source": [
    "param_grid = {\n",
    "    'kernel': ['linear', 'poly', 'rbf', 'sigmoid'],\n",
    "    'C': [0.01, 0.1, 1, 10]\n",
    "}\n",
    "\n",
    "grid_search = GridSearchCV(SVC(), param_grid, cv=5, scoring='accuracy', n_jobs=-1)\n",
    "\n",
    "grid_search.fit(x_train, y_train)\n",
    "\n",
    "print(f'Best parameters: {grid_search.best_params_}')\n",
    "print(f'Best cross-validation score: {grid_search.best_score_}')\n",
    "\n",
    "best_model = grid_search.best_estimator_\n",
    "y_pred = best_model.predict(x_test)\n",
    "print(f'Test set score: {best_model.score(x_test, y_test)}')\n",
    "print(f'F1-score: {f1_score(y_test, y_pred)}')\n",
    "print(f'Recall: {recall_score(y_test, y_pred)}')"
   ]
  },
  {
   "cell_type": "code",
   "execution_count": null,
   "metadata": {},
   "outputs": [],
   "source": []
  }
 ],
 "metadata": {
  "colab": {
   "collapsed_sections": [],
   "name": "5 서포트 벡터 머신(Support Vector Machines).ipynb",
   "provenance": [
    {
     "file_id": "1tTbmeS0Bp0_NkFDsT1DvwvnRjkZUY9Yz",
     "timestamp": 1632747262302
    }
   ]
  },
  "kernelspec": {
   "display_name": "Python 3 (ipykernel)",
   "language": "python",
   "name": "python3"
  },
  "language_info": {
   "codemirror_mode": {
    "name": "ipython",
    "version": 3
   },
   "file_extension": ".py",
   "mimetype": "text/x-python",
   "name": "python",
   "nbconvert_exporter": "python",
   "pygments_lexer": "ipython3",
   "version": "3.11.9"
  },
  "vscode": {
   "interpreter": {
    "hash": "916dbcbb3f70747c44a77c7bcd40155683ae19c65e1c03b4aa3499c5328201f1"
   }
  }
 },
 "nbformat": 4,
 "nbformat_minor": 4
}
