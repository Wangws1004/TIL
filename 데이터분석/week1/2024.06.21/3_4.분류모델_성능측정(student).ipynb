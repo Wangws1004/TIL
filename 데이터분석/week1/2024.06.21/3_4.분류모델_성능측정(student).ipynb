{
 "cells": [
  {
   "cell_type": "markdown",
   "metadata": {
    "id": "zxynTFaVH-Dg"
   },
   "source": [
    "# 모델 성능 평가지표 (Metirc)\n",
    "- 실제값과 모델에 의해 예측된 값을 비교하여 모델의 성능을 측정 하는 것\n",
    "- 모델 평가 목적\n",
    "    - Over Fitting 을 방지하고 최적의 모델을 찾기 위해    "
   ]
  },
  {
   "cell_type": "markdown",
   "metadata": {},
   "source": [
    "- 분류 문제 성능측정\n",
    "    - 실제값과 예측값이 일치하는 갯수를 통해 측정"
   ]
  },
  {
   "cell_type": "markdown",
   "metadata": {
    "id": "gTvJfeRfOJA6"
   },
   "source": [
    "# 분류문제 성능 측정"
   ]
  },
  {
   "cell_type": "markdown",
   "metadata": {},
   "source": [
    "![](https://codetorial.net/tensorflow/_images/MNIST_sample.png)"
   ]
  },
  {
   "cell_type": "markdown",
   "metadata": {
    "id": "6k77JujSOI_E"
   },
   "source": [
    "## 손글씨 분류 문제\n",
    "- 0~9 손글씨 이미지 받아오기"
   ]
  },
  {
   "cell_type": "code",
   "execution_count": 1,
   "metadata": {
    "id": "1CpTSh0AOI80",
    "tags": []
   },
   "outputs": [],
   "source": [
    "from sklearn.datasets import load_digits\n",
    "digits = load_digits()"
   ]
  },
  {
   "cell_type": "markdown",
   "metadata": {
    "id": "vevRv-1_aB-S"
   },
   "source": [
    "- 8 x 8 크기의 이미지가 Flatten 되어있다.\n"
   ]
  },
  {
   "cell_type": "code",
   "execution_count": 2,
   "metadata": {
    "colab": {
     "base_uri": "https://localhost:8080/"
    },
    "id": "1LLu1vfTOI48",
    "outputId": "c0d014de-6094-4e42-c09e-69cd4a33e3b2",
    "tags": []
   },
   "outputs": [
    {
     "data": {
      "text/plain": [
       "(1797, 64)"
      ]
     },
     "execution_count": 2,
     "metadata": {},
     "output_type": "execute_result"
    }
   ],
   "source": [
    "digits.data.shape\n",
    "# 8*8 인 이미지 이고, 8*8 을 학습시키기 위해 flatten 해 놓은 데이터 이다. "
   ]
  },
  {
   "cell_type": "code",
   "execution_count": 3,
   "metadata": {},
   "outputs": [
    {
     "data": {
      "text/plain": [
       "array([ 0.,  0.,  5., 13.,  9.,  1.,  0.,  0.,  0.,  0., 13., 15., 10.,\n",
       "       15.,  5.,  0.,  0.,  3., 15.,  2.,  0., 11.,  8.,  0.,  0.,  4.,\n",
       "       12.,  0.,  0.,  8.,  8.,  0.,  0.,  5.,  8.,  0.,  0.,  9.,  8.,\n",
       "        0.,  0.,  4., 11.,  0.,  1., 12.,  7.,  0.,  0.,  2., 14.,  5.,\n",
       "       10., 12.,  0.,  0.,  0.,  0.,  6., 13., 10.,  0.,  0.,  0.])"
      ]
     },
     "execution_count": 3,
     "metadata": {},
     "output_type": "execute_result"
    }
   ],
   "source": [
    "digits.data[0]"
   ]
  },
  {
   "cell_type": "markdown",
   "metadata": {},
   "source": [
    "```\n",
    "[ 0.,  0.,  5., 13.,  9.,  1.,  0.,  0.,\r\n",
    "  0.,  0., 13., 15., 10., 15.,  5.,  0.,  \r\n",
    "  0.,  3., 15.,  2.,  0., 11.,  8.,  0.,  \r\n",
    "  0.,  4., 12.,  0.,  0.,  8.,  8.,  0.,  \r\n",
    "  0.,  5.,  8.,  0.,  0.,  9.,  8.,  0.,  \r\n",
    "  0.,  4., 11.,  0.,  1., 12.,  7.,  0.,  \r\n",
    "  0.,  2., 14.,  5., 10., 12.,  0.,  0.,  \r\n",
    "  0.,  0.,  6., 13., 10.,  0.,  0.,  0.]\n",
    "```"
   ]
  },
  {
   "cell_type": "code",
   "execution_count": 45,
   "metadata": {
    "colab": {
     "base_uri": "https://localhost:8080/",
     "height": 265
    },
    "id": "024AFZ-pOIzK",
    "outputId": "4350da79-2511-4b13-80d7-71636f8b3814",
    "tags": []
   },
   "outputs": [
    {
     "data": {
      "image/png": "[encoded data removed]",
      "text/plain": [
       "<Figure size 640x480 with 4 Axes>"
      ]
     },
     "metadata": {},
     "output_type": "display_data"
    }
   ],
   "source": [
    "fig,ax = plt.subplots(2,2)\n",
    "ax[0,0].imshow(digits.data[0].reshape(8,8),cmap=\"gray\")\n",
    "ax[0,1].imshow(digits.data[1].reshape(8,8),cmap=\"gray\")\n",
    "ax[1,0].imshow(digits.data[2].reshape(8,8),cmap=\"gray\")\n",
    "ax[1,1].imshow(digits.data[3].reshape(8,8),cmap=\"gray\")\n",
    "plt.show()"
   ]
  },
  {
   "cell_type": "code",
   "execution_count": 4,
   "metadata": {},
   "outputs": [
    {
     "data": {
      "text/plain": [
       "0"
      ]
     },
     "execution_count": 4,
     "metadata": {},
     "output_type": "execute_result"
    }
   ],
   "source": [
    "digits.target[0]"
   ]
  },
  {
   "cell_type": "code",
   "execution_count": 5,
   "metadata": {},
   "outputs": [
    {
     "data": {
      "text/plain": [
       "1"
      ]
     },
     "execution_count": 5,
     "metadata": {},
     "output_type": "execute_result"
    }
   ],
   "source": [
    "digits.target[1]"
   ]
  },
  {
   "cell_type": "code",
   "execution_count": 6,
   "metadata": {},
   "outputs": [
    {
     "data": {
      "text/plain": [
       "2"
      ]
     },
     "execution_count": 6,
     "metadata": {},
     "output_type": "execute_result"
    }
   ],
   "source": [
    "digits.target[2]"
   ]
  },
  {
   "cell_type": "code",
   "execution_count": 7,
   "metadata": {},
   "outputs": [
    {
     "data": {
      "text/plain": [
       "3"
      ]
     },
     "execution_count": 7,
     "metadata": {},
     "output_type": "execute_result"
    }
   ],
   "source": [
    "digits.target[3]"
   ]
  },
  {
   "cell_type": "code",
   "execution_count": 12,
   "metadata": {},
   "outputs": [
    {
     "data": {
      "text/plain": [
       "array([0, 1, 2, ..., 8, 9, 8])"
      ]
     },
     "execution_count": 12,
     "metadata": {},
     "output_type": "execute_result"
    }
   ],
   "source": [
    "digits. #정답을 저장"
   ]
  },
  {
   "cell_type": "code",
   "execution_count": 14,
   "metadata": {},
   "outputs": [
    {
     "data": {
      "text/plain": [
       "Counter({3: 183,\n",
       "         1: 182,\n",
       "         5: 182,\n",
       "         4: 181,\n",
       "         6: 181,\n",
       "         9: 180,\n",
       "         7: 179,\n",
       "         0: 178,\n",
       "         2: 177,\n",
       "         8: 174})"
      ]
     },
     "execution_count": 14,
     "metadata": {},
     "output_type": "execute_result"
    }
   ],
   "source": [
    "import collections\n",
    "collections.Counter(digits.target)\n",
    "# 보통 180 개의 데이터 셋을 갖고 있다. "
   ]
  },
  {
   "cell_type": "markdown",
   "metadata": {
    "id": "CTG0X9HJcD3y"
   },
   "source": [
    "### 5을 맞추는 문제로 재정의"
   ]
  },
  {
   "cell_type": "code",
   "execution_count": 15,
   "metadata": {},
   "outputs": [],
   "source": [
    "data = digits.data\n",
    "target = (digits.target == 5).astype(int)"
   ]
  },
  {
   "cell_type": "code",
   "execution_count": 19,
   "metadata": {},
   "outputs": [
    {
     "data": {
      "text/plain": [
       "Counter({0: 1615, 1: 182})"
      ]
     },
     "execution_count": 19,
     "metadata": {},
     "output_type": "execute_result"
    }
   ],
   "source": [
    "collections.Counter(target # data 가 5 이면 target 5 -> 1 변경, data 5가 아니면 target 0 으로 변경 \n",
    "# 숫자 5는 182개  나머지 1615개 "
   ]
  },
  {
   "cell_type": "markdown",
   "metadata": {
    "id": "VHFWLGvuOIr9"
   },
   "source": [
    "### 학습셋과 검증셋 분리"
   ]
  },
  {
   "cell_type": "code",
   "execution_count": 20,
   "metadata": {
    "tags": []
   },
   "outputs": [],
   "source": [
    "from sklearn.model_selection import train_test_split"
   ]
  },
  {
   "cell_type": "code",
   "execution_count": 21,
   "metadata": {
    "colab": {
     "base_uri": "https://localhost:8080/"
    },
    "id": "Y4pNtWKLOIpT",
    "outputId": "68be5946-2262-4649-ea39-97723b1a5d9c",
    "tags": []
   },
   "outputs": [
    {
     "data": {
      "text/plain": [
       "((1347, 64), (450, 64), (1347,), (450,))"
      ]
     },
     "execution_count": 21,
     "metadata": {},
     "output_type": "execute_result"
    }
   ],
   "source": [
    "x_train, x_test, y_train, y_test = train_test_split(data, target)\n",
    "x_train.shape,x_test.shape,y_train.shape,y_test.shape "
   ]
  },
  {
   "cell_type": "code",
   "execution_count": 23,
   "metadata": {},
   "outputs": [
    {
     "data": {
      "text/plain": [
       "Counter({0: 1207, 1: 140})"
      ]
     },
     "execution_count": 23,
     "metadata": {},
     "output_type": "execute_result"
    }
   ],
   "source": [
    "collections.Counter(y_train # 10% 로 정답 비중을 갖고 있다. "
   ]
  },
  {
   "cell_type": "code",
   "execution_count": 25,
   "metadata": {},
   "outputs": [
    {
     "data": {
      "text/plain": [
       "Counter({0: 408, 1: 42})"
      ]
     },
     "execution_count": 25,
     "metadata": {},
     "output_type": "execute_result"
    }
   ],
   "source": [
    "collections.Counter(y_test) # 10% 로 정답 비중을 갖고 있다."
   ]
  },
  {
   "cell_type": "markdown",
   "metadata": {
    "id": "9lIlMrflOIkb"
   },
   "source": [
    "# 혼동행렬(Confusin Matrix)\n",
    "- 이진 분류의 model 성능측정 지표\n",
    "    - 이진 분류에서 예측 오류가 어느정도 되는지와 어떠한 유형의 예측 오류가 발생하는지를 나타내는 지표\n",
    "\n",
    "- Precision (정밀도)\n",
    "    - 양성으로 예측한 값들 중에 맞춘 비율\n",
    "\n",
    "- Recall(재현율)\n",
    "    - Sensitivity(민감도)\n",
    "    - TPR\n",
    "    - 실제 양성값들 중에 맞춘 비율\n",
    "\n",
    "- FPR\n",
    "    - 실제 음성값들 중에 못 맞춘 비율"
   ]
  },
  {
   "cell_type": "markdown",
   "metadata": {
    "id": "qy6W_glIOIiM"
   },
   "source": [
    "## Evaluating model performance : F-score, Accuracy\n",
    "\n",
    "1. True Positive(TP) : 결함이 있다고 예측한 것들 중 실제로 결함이 있는 것\n",
    "2. False Positive(FP) : 결함이 있다고 예측한 것들 중 실제로 결함이 없는 것\n",
    "3. True Negative(TN) : 결함이 없다고 예측한 것들 중 실제로 결함이 없는 것\n",
    "4. False Negative(FN) : 결함이 없다고 예측한 것들 중 실제로 결함이 있는 것\n",
    "\n",
    "|                     | 실제 True          | 실제 False          |\n",
    "|---                  |---                 |---                  |\n",
    "| 분류결과 True       | $$N_{TP}$$         |    $$N_{FP}$$       |\n",
    "| 분류결과 False      |   $$N_{FN}$$       |   $$N_{TN}$$        | \n",
    "\n",
    "- $N$ : 개수를 나타낸다. \n",
    "\n",
    "### accuracy, precision, recall \n",
    "$$\\text{accuracy} = \\frac{\\text{정확하게 예측한 개수}}{\\text{예측한 전체 개수}} \\frac{N_{TP} + N_{TN}}{N_{TP}+N_{FN}+N_{FP}+N_{TN}}$$\n",
    "$$\\text{precision} = \\frac{\\text{True 라고 정확하게 예측한 개수}}{\\text{True 라고 예측한 총 개수}} = \\frac{N_{TP}}{N_{TP}+N_{FP}}$$\n",
    "$$\\text{recall} = \\frac{\\text{True 라고 정확하게 예측한 개수}}{\\text{실제로 True의 개수}} =\\frac{N_{TP}}{N_{TP}+N_{FN}}$$\n",
    "\n",
    "### F-score\n",
    "- precision과 recall을 이용해 계산 가능\n",
    "\n",
    "$$\\text{F-score} = \\frac{(1+\\beta^2) \\text{precision} \\times \\text{recall}}{\\beta^2 \\text{precision} + \\text{recall}}$$\n",
    "\n",
    "- $\\beta$는 precision과 recall중 어떤 것에 가중을 부여하여 판단할지 사용자가 정하는 상수 "
   ]
  },
  {
   "cell_type": "markdown",
   "metadata": {
    "id": "H_713hlhOIfh"
   },
   "source": [
    "## 임계값(thresholds)\n",
    "- 모델은 분류에서 확률(0~1) 또는 음수에서 양수사이에 실수를 예측값으로 출력\n",
    "- 사이킷런에서는 `predict_probar`, `decision_function`메소드를 제공\n",
    "- predict_probar : 0.5 이상이면 1로 예측\n",
    "- decision_function : 0 이상이면 1로 예측"
   ]
  },
  {
   "cell_type": "markdown",
   "metadata": {
    "id": "K1gcDEbAOIdZ"
   },
   "source": [
    "## Accuracy 의 한계\n",
    "- 오류(틀린갯수)중에서 FN 오류를 줄이는 것이 더 중요한 경우\n",
    "- 오류 중에 FP 오류를 줄이는 것이 더 중요한 경우\n",
    "- 정확도는 위에 두가지 오류에 정도의 차이를 구분할수 없기 때문에 적절한 성능지표가 될수 없다.\n",
    "- 음성(0)이 양성(1)보다 훨씬 많은 경우 음성(0)으로만 예측해도 높은 정확도를 보이기 때문에 적절한 성능지표가 될수없다.\n"
   ]
  },
  {
   "cell_type": "code",
   "execution_count": 26,
   "metadata": {
    "tags": []
   },
   "outputs": [],
   "source": [
    "import numpy as np\n",
    "SEED =1234"
   ]
  },
  {
   "cell_type": "markdown",
   "metadata": {
    "id": "zuYaESF8OIWE"
   },
   "source": [
    "- Decision Tree"
   ]
  },
  {
   "cell_type": "code",
   "execution_count": 27,
   "metadata": {},
   "outputs": [],
   "source": [
    "# Decision tree model 을 이용해 학습시켜 보자\n",
    "from sklearn.tree import DecisionTreeClassifier"
   ]
  },
  {
   "cell_type": "code",
   "execution_count": 28,
   "metadata": {},
   "outputs": [
    {
     "data": {
      "text/html": [
       "<style>#sk-container-id-1 {\n",
       "  /* Definition of color scheme common for light and dark mode */\n",
       "  --sklearn-color-text: black;\n",
       "  --sklearn-color-line: gray;\n",
       "  /* Definition of color scheme for unfitted estimators */\n",
       "  --sklearn-color-unfitted-level-0: #fff5e6;\n",
       "  --sklearn-color-unfitted-level-1: #f6e4d2;\n",
       "  --sklearn-color-unfitted-level-2: #ffe0b3;\n",
       "  --sklearn-color-unfitted-level-3: chocolate;\n",
       "  /* Definition of color scheme for fitted estimators */\n",
       "  --sklearn-color-fitted-level-0: #f0f8ff;\n",
       "  --sklearn-color-fitted-level-1: #d4ebff;\n",
       "  --sklearn-color-fitted-level-2: #b3dbfd;\n",
       "  --sklearn-color-fitted-level-3: cornflowerblue;\n",
       "\n",
       "  /* Specific color for light theme */\n",
       "  --sklearn-color-text-on-default-background: var(--sg-text-color, var(--theme-code-foreground, var(--jp-content-font-color1, black)));\n",
       "  --sklearn-color-background: var(--sg-background-color, var(--theme-background, var(--jp-layout-color0, white)));\n",
       "  --sklearn-color-border-box: var(--sg-text-color, var(--theme-code-foreground, var(--jp-content-font-color1, black)));\n",
       "  --sklearn-color-icon: #696969;\n",
       "\n",
       "  @media (prefers-color-scheme: dark) {\n",
       "    /* Redefinition of color scheme for dark theme */\n",
       "    --sklearn-color-text-on-default-background: var(--sg-text-color, var(--theme-code-foreground, var(--jp-content-font-color1, white)));\n",
       "    --sklearn-color-background: var(--sg-background-color, var(--theme-background, var(--jp-layout-color0, #111)));\n",
       "    --sklearn-color-border-box: var(--sg-text-color, var(--theme-code-foreground, var(--jp-content-font-color1, white)));\n",
       "    --sklearn-color-icon: #878787;\n",
       "  }\n",
       "}\n",
       "\n",
       "#sk-container-id-1 {\n",
       "  color: var(--sklearn-color-text);\n",
       "}\n",
       "\n",
       "#sk-container-id-1 pre {\n",
       "  padding: 0;\n",
       "}\n",
       "\n",
       "#sk-container-id-1 input.sk-hidden--visually {\n",
       "  border: 0;\n",
       "  clip: rect(1px 1px 1px 1px);\n",
       "  clip: rect(1px, 1px, 1px, 1px);\n",
       "  height: 1px;\n",
       "  margin: -1px;\n",
       "  overflow: hidden;\n",
       "  padding: 0;\n",
       "  position: absolute;\n",
       "  width: 1px;\n",
       "}\n",
       "\n",
       "#sk-container-id-1 div.sk-dashed-wrapped {\n",
       "  border: 1px dashed var(--sklearn-color-line);\n",
       "  margin: 0 0.4em 0.5em 0.4em;\n",
       "  box-sizing: border-box;\n",
       "  padding-bottom: 0.4em;\n",
       "  background-color: var(--sklearn-color-background);\n",
       "}\n",
       "\n",
       "#sk-container-id-1 div.sk-container {\n",
       "  /* jupyter's `normalize.less` sets `[hidden] { display: none; }`\n",
       "     but bootstrap.min.css set `[hidden] { display: none !important; }`\n",
       "     so we also need the `!important` here to be able to override the\n",
       "     default hidden behavior on the sphinx rendered scikit-learn.org.\n",
       "     See: https://github.com/scikit-learn/scikit-learn/issues/21755 */\n",
       "  display: inline-block !important;\n",
       "  position: relative;\n",
       "}\n",
       "\n",
       "#sk-container-id-1 div.sk-text-repr-fallback {\n",
       "  display: none;\n",
       "}\n",
       "\n",
       "div.sk-parallel-item,\n",
       "div.sk-serial,\n",
       "div.sk-item {\n",
       "  /* draw centered vertical line to link estimators */\n",
       "  background-image: linear-gradient(var(--sklearn-color-text-on-default-background), var(--sklearn-color-text-on-default-background));\n",
       "  background-size: 2px 100%;\n",
       "  background-repeat: no-repeat;\n",
       "  background-position: center center;\n",
       "}\n",
       "\n",
       "/* Parallel-specific style estimator block */\n",
       "\n",
       "#sk-container-id-1 div.sk-parallel-item::after {\n",
       "  content: \"\";\n",
       "  width: 100%;\n",
       "  border-bottom: 2px solid var(--sklearn-color-text-on-default-background);\n",
       "  flex-grow: 1;\n",
       "}\n",
       "\n",
       "#sk-container-id-1 div.sk-parallel {\n",
       "  display: flex;\n",
       "  align-items: stretch;\n",
       "  justify-content: center;\n",
       "  background-color: var(--sklearn-color-background);\n",
       "  position: relative;\n",
       "}\n",
       "\n",
       "#sk-container-id-1 div.sk-parallel-item {\n",
       "  display: flex;\n",
       "  flex-direction: column;\n",
       "}\n",
       "\n",
       "#sk-container-id-1 div.sk-parallel-item:first-child::after {\n",
       "  align-self: flex-end;\n",
       "  width: 50%;\n",
       "}\n",
       "\n",
       "#sk-container-id-1 div.sk-parallel-item:last-child::after {\n",
       "  align-self: flex-start;\n",
       "  width: 50%;\n",
       "}\n",
       "\n",
       "#sk-container-id-1 div.sk-parallel-item:only-child::after {\n",
       "  width: 0;\n",
       "}\n",
       "\n",
       "/* Serial-specific style estimator block */\n",
       "\n",
       "#sk-container-id-1 div.sk-serial {\n",
       "  display: flex;\n",
       "  flex-direction: column;\n",
       "  align-items: center;\n",
       "  background-color: var(--sklearn-color-background);\n",
       "  padding-right: 1em;\n",
       "  padding-left: 1em;\n",
       "}\n",
       "\n",
       "\n",
       "/* Toggleable style: style used for estimator/Pipeline/ColumnTransformer box that is\n",
       "clickable and can be expanded/collapsed.\n",
       "- Pipeline and ColumnTransformer use this feature and define the default style\n",
       "- Estimators will overwrite some part of the style using the `sk-estimator` class\n",
       "*/\n",
       "\n",
       "/* Pipeline and ColumnTransformer style (default) */\n",
       "\n",
       "#sk-container-id-1 div.sk-toggleable {\n",
       "  /* Default theme specific background. It is overwritten whether we have a\n",
       "  specific estimator or a Pipeline/ColumnTransformer */\n",
       "  background-color: var(--sklearn-color-background);\n",
       "}\n",
       "\n",
       "/* Toggleable label */\n",
       "#sk-container-id-1 label.sk-toggleable__label {\n",
       "  cursor: pointer;\n",
       "  display: block;\n",
       "  width: 100%;\n",
       "  margin-bottom: 0;\n",
       "  padding: 0.5em;\n",
       "  box-sizing: border-box;\n",
       "  text-align: center;\n",
       "}\n",
       "\n",
       "#sk-container-id-1 label.sk-toggleable__label-arrow:before {\n",
       "  /* Arrow on the left of the label */\n",
       "  content: \"▸\";\n",
       "  float: left;\n",
       "  margin-right: 0.25em;\n",
       "  color: var(--sklearn-color-icon);\n",
       "}\n",
       "\n",
       "#sk-container-id-1 label.sk-toggleable__label-arrow:hover:before {\n",
       "  color: var(--sklearn-color-text);\n",
       "}\n",
       "\n",
       "/* Toggleable content - dropdown */\n",
       "\n",
       "#sk-container-id-1 div.sk-toggleable__content {\n",
       "  max-height: 0;\n",
       "  max-width: 0;\n",
       "  overflow: hidden;\n",
       "  text-align: left;\n",
       "  /* unfitted */\n",
       "  background-color: var(--sklearn-color-unfitted-level-0);\n",
       "}\n",
       "\n",
       "#sk-container-id-1 div.sk-toggleable__content.fitted {\n",
       "  /* fitted */\n",
       "  background-color: var(--sklearn-color-fitted-level-0);\n",
       "}\n",
       "\n",
       "#sk-container-id-1 div.sk-toggleable__content pre {\n",
       "  margin: 0.2em;\n",
       "  border-radius: 0.25em;\n",
       "  color: var(--sklearn-color-text);\n",
       "  /* unfitted */\n",
       "  background-color: var(--sklearn-color-unfitted-level-0);\n",
       "}\n",
       "\n",
       "#sk-container-id-1 div.sk-toggleable__content.fitted pre {\n",
       "  /* unfitted */\n",
       "  background-color: var(--sklearn-color-fitted-level-0);\n",
       "}\n",
       "\n",
       "#sk-container-id-1 input.sk-toggleable__control:checked~div.sk-toggleable__content {\n",
       "  /* Expand drop-down */\n",
       "  max-height: 200px;\n",
       "  max-width: 100%;\n",
       "  overflow: auto;\n",
       "}\n",
       "\n",
       "#sk-container-id-1 input.sk-toggleable__control:checked~label.sk-toggleable__label-arrow:before {\n",
       "  content: \"▾\";\n",
       "}\n",
       "\n",
       "/* Pipeline/ColumnTransformer-specific style */\n",
       "\n",
       "#sk-container-id-1 div.sk-label input.sk-toggleable__control:checked~label.sk-toggleable__label {\n",
       "  color: var(--sklearn-color-text);\n",
       "  background-color: var(--sklearn-color-unfitted-level-2);\n",
       "}\n",
       "\n",
       "#sk-container-id-1 div.sk-label.fitted input.sk-toggleable__control:checked~label.sk-toggleable__label {\n",
       "  background-color: var(--sklearn-color-fitted-level-2);\n",
       "}\n",
       "\n",
       "/* Estimator-specific style */\n",
       "\n",
       "/* Colorize estimator box */\n",
       "#sk-container-id-1 div.sk-estimator input.sk-toggleable__control:checked~label.sk-toggleable__label {\n",
       "  /* unfitted */\n",
       "  background-color: var(--sklearn-color-unfitted-level-2);\n",
       "}\n",
       "\n",
       "#sk-container-id-1 div.sk-estimator.fitted input.sk-toggleable__control:checked~label.sk-toggleable__label {\n",
       "  /* fitted */\n",
       "  background-color: var(--sklearn-color-fitted-level-2);\n",
       "}\n",
       "\n",
       "#sk-container-id-1 div.sk-label label.sk-toggleable__label,\n",
       "#sk-container-id-1 div.sk-label label {\n",
       "  /* The background is the default theme color */\n",
       "  color: var(--sklearn-color-text-on-default-background);\n",
       "}\n",
       "\n",
       "/* On hover, darken the color of the background */\n",
       "#sk-container-id-1 div.sk-label:hover label.sk-toggleable__label {\n",
       "  color: var(--sklearn-color-text);\n",
       "  background-color: var(--sklearn-color-unfitted-level-2);\n",
       "}\n",
       "\n",
       "/* Label box, darken color on hover, fitted */\n",
       "#sk-container-id-1 div.sk-label.fitted:hover label.sk-toggleable__label.fitted {\n",
       "  color: var(--sklearn-color-text);\n",
       "  background-color: var(--sklearn-color-fitted-level-2);\n",
       "}\n",
       "\n",
       "/* Estimator label */\n",
       "\n",
       "#sk-container-id-1 div.sk-label label {\n",
       "  font-family: monospace;\n",
       "  font-weight: bold;\n",
       "  display: inline-block;\n",
       "  line-height: 1.2em;\n",
       "}\n",
       "\n",
       "#sk-container-id-1 div.sk-label-container {\n",
       "  text-align: center;\n",
       "}\n",
       "\n",
       "/* Estimator-specific */\n",
       "#sk-container-id-1 div.sk-estimator {\n",
       "  font-family: monospace;\n",
       "  border: 1px dotted var(--sklearn-color-border-box);\n",
       "  border-radius: 0.25em;\n",
       "  box-sizing: border-box;\n",
       "  margin-bottom: 0.5em;\n",
       "  /* unfitted */\n",
       "  background-color: var(--sklearn-color-unfitted-level-0);\n",
       "}\n",
       "\n",
       "#sk-container-id-1 div.sk-estimator.fitted {\n",
       "  /* fitted */\n",
       "  background-color: var(--sklearn-color-fitted-level-0);\n",
       "}\n",
       "\n",
       "/* on hover */\n",
       "#sk-container-id-1 div.sk-estimator:hover {\n",
       "  /* unfitted */\n",
       "  background-color: var(--sklearn-color-unfitted-level-2);\n",
       "}\n",
       "\n",
       "#sk-container-id-1 div.sk-estimator.fitted:hover {\n",
       "  /* fitted */\n",
       "  background-color: var(--sklearn-color-fitted-level-2);\n",
       "}\n",
       "\n",
       "/* Specification for estimator info (e.g. \"i\" and \"?\") */\n",
       "\n",
       "/* Common style for \"i\" and \"?\" */\n",
       "\n",
       ".sk-estimator-doc-link,\n",
       "a:link.sk-estimator-doc-link,\n",
       "a:visited.sk-estimator-doc-link {\n",
       "  float: right;\n",
       "  font-size: smaller;\n",
       "  line-height: 1em;\n",
       "  font-family: monospace;\n",
       "  background-color: var(--sklearn-color-background);\n",
       "  border-radius: 1em;\n",
       "  height: 1em;\n",
       "  width: 1em;\n",
       "  text-decoration: none !important;\n",
       "  margin-left: 1ex;\n",
       "  /* unfitted */\n",
       "  border: var(--sklearn-color-unfitted-level-1) 1pt solid;\n",
       "  color: var(--sklearn-color-unfitted-level-1);\n",
       "}\n",
       "\n",
       ".sk-estimator-doc-link.fitted,\n",
       "a:link.sk-estimator-doc-link.fitted,\n",
       "a:visited.sk-estimator-doc-link.fitted {\n",
       "  /* fitted */\n",
       "  border: var(--sklearn-color-fitted-level-1) 1pt solid;\n",
       "  color: var(--sklearn-color-fitted-level-1);\n",
       "}\n",
       "\n",
       "/* On hover */\n",
       "div.sk-estimator:hover .sk-estimator-doc-link:hover,\n",
       ".sk-estimator-doc-link:hover,\n",
       "div.sk-label-container:hover .sk-estimator-doc-link:hover,\n",
       ".sk-estimator-doc-link:hover {\n",
       "  /* unfitted */\n",
       "  background-color: var(--sklearn-color-unfitted-level-3);\n",
       "  color: var(--sklearn-color-background);\n",
       "  text-decoration: none;\n",
       "}\n",
       "\n",
       "div.sk-estimator.fitted:hover .sk-estimator-doc-link.fitted:hover,\n",
       ".sk-estimator-doc-link.fitted:hover,\n",
       "div.sk-label-container:hover .sk-estimator-doc-link.fitted:hover,\n",
       ".sk-estimator-doc-link.fitted:hover {\n",
       "  /* fitted */\n",
       "  background-color: var(--sklearn-color-fitted-level-3);\n",
       "  color: var(--sklearn-color-background);\n",
       "  text-decoration: none;\n",
       "}\n",
       "\n",
       "/* Span, style for the box shown on hovering the info icon */\n",
       ".sk-estimator-doc-link span {\n",
       "  display: none;\n",
       "  z-index: 9999;\n",
       "  position: relative;\n",
       "  font-weight: normal;\n",
       "  right: .2ex;\n",
       "  padding: .5ex;\n",
       "  margin: .5ex;\n",
       "  width: min-content;\n",
       "  min-width: 20ex;\n",
       "  max-width: 50ex;\n",
       "  color: var(--sklearn-color-text);\n",
       "  box-shadow: 2pt 2pt 4pt #999;\n",
       "  /* unfitted */\n",
       "  background: var(--sklearn-color-unfitted-level-0);\n",
       "  border: .5pt solid var(--sklearn-color-unfitted-level-3);\n",
       "}\n",
       "\n",
       ".sk-estimator-doc-link.fitted span {\n",
       "  /* fitted */\n",
       "  background: var(--sklearn-color-fitted-level-0);\n",
       "  border: var(--sklearn-color-fitted-level-3);\n",
       "}\n",
       "\n",
       ".sk-estimator-doc-link:hover span {\n",
       "  display: block;\n",
       "}\n",
       "\n",
       "/* \"?\"-specific style due to the `<a>` HTML tag */\n",
       "\n",
       "#sk-container-id-1 a.estimator_doc_link {\n",
       "  float: right;\n",
       "  font-size: 1rem;\n",
       "  line-height: 1em;\n",
       "  font-family: monospace;\n",
       "  background-color: var(--sklearn-color-background);\n",
       "  border-radius: 1rem;\n",
       "  height: 1rem;\n",
       "  width: 1rem;\n",
       "  text-decoration: none;\n",
       "  /* unfitted */\n",
       "  color: var(--sklearn-color-unfitted-level-1);\n",
       "  border: var(--sklearn-color-unfitted-level-1) 1pt solid;\n",
       "}\n",
       "\n",
       "#sk-container-id-1 a.estimator_doc_link.fitted {\n",
       "  /* fitted */\n",
       "  border: var(--sklearn-color-fitted-level-1) 1pt solid;\n",
       "  color: var(--sklearn-color-fitted-level-1);\n",
       "}\n",
       "\n",
       "/* On hover */\n",
       "#sk-container-id-1 a.estimator_doc_link:hover {\n",
       "  /* unfitted */\n",
       "  background-color: var(--sklearn-color-unfitted-level-3);\n",
       "  color: var(--sklearn-color-background);\n",
       "  text-decoration: none;\n",
       "}\n",
       "\n",
       "#sk-container-id-1 a.estimator_doc_link.fitted:hover {\n",
       "  /* fitted */\n",
       "  background-color: var(--sklearn-color-fitted-level-3);\n",
       "}\n",
       "</style><div id=\"sk-container-id-1\" class=\"sk-top-container\"><div class=\"sk-text-repr-fallback\"><pre>DecisionTreeClassifier(max_depth=3, random_state=1234)</pre><b>In a Jupyter environment, please rerun this cell to show the HTML representation or trust the notebook. <br />On GitHub, the HTML representation is unable to render, please try loading this page with nbviewer.org.</b></div><div class=\"sk-container\" hidden><div class=\"sk-item\"><div class=\"sk-estimator fitted sk-toggleable\"><input class=\"sk-toggleable__control sk-hidden--visually\" id=\"sk-estimator-id-1\" type=\"checkbox\" checked><label for=\"sk-estimator-id-1\" class=\"sk-toggleable__label fitted sk-toggleable__label-arrow fitted\">&nbsp;&nbsp;DecisionTreeClassifier<a class=\"sk-estimator-doc-link fitted\" rel=\"noreferrer\" target=\"_blank\" href=\"https://scikit-learn.org/1.5/modules/generated/sklearn.tree.DecisionTreeClassifier.html\">?<span>Documentation for DecisionTreeClassifier</span></a><span class=\"sk-estimator-doc-link fitted\">i<span>Fitted</span></span></label><div class=\"sk-toggleable__content fitted\"><pre>DecisionTreeClassifier(max_depth=3, random_state=1234)</pre></div> </div></div></div></div>"
      ],
      "text/plain": [
       "DecisionTreeClassifier(max_depth=3, random_state=1234)"
      ]
     },
     "execution_count": 28,
     "metadata": {},
     "output_type": "execute_result"
    }
   ],
   "source": [
    "tree = DecisionTreeClassifier(max_depth=3, random_state=SEED)\n",
    "tree.fit(x_train, y_train)"
   ]
  },
  {
   "cell_type": "code",
   "execution_count": 30,
   "metadata": {},
   "outputs": [],
   "source": [
    "pred_tree = tree.predict(x_test)"
   ]
  },
  {
   "cell_type": "markdown",
   "metadata": {
    "id": "xPZSt5R-pyfc"
   },
   "source": [
    "- 정확도 평가"
   ]
  },
  {
   "cell_type": "code",
   "execution_count": 31,
   "metadata": {},
   "outputs": [],
   "source": [
    "from sklearn.metrics import accuracy_score"
   ]
  },
  {
   "cell_type": "code",
   "execution_count": 35,
   "metadata": {},
   "outputs": [
    {
     "data": {
      "text/plain": [
       "0.9688888888888889"
      ]
     },
     "execution_count": 35,
     "metadata": {},
     "output_type": "execute_result"
    }
   ],
   "source": [
    "accuracy_score(y_test, pred_tree) # 96%의 정확도를 나타 내고 있따. "
   ]
  },
  {
   "cell_type": "markdown",
   "metadata": {
    "id": "wdr35IRspyas"
   },
   "source": [
    "- Confusion Matrix 그리기"
   ]
  },
  {
   "cell_type": "code",
   "execution_count": 37,
   "metadata": {
    "scrolled": true
   },
   "outputs": [
    {
     "data": {
      "text/plain": [
       "\u001b[1;31mSignature:\u001b[0m\n",
       "\u001b[0mconfusion_matrix\u001b[0m\u001b[1;33m(\u001b[0m\u001b[1;33m\n",
       "\u001b[0m    \u001b[0my_true\u001b[0m\u001b[1;33m,\u001b[0m\u001b[1;33m\n",
       "\u001b[0m    \u001b[0my_pred\u001b[0m\u001b[1;33m,\u001b[0m\u001b[1;33m\n",
       "\u001b[0m    \u001b[1;33m*\u001b[0m\u001b[1;33m,\u001b[0m\u001b[1;33m\n",
       "\u001b[0m    \u001b[0mlabels\u001b[0m\u001b[1;33m=\u001b[0m\u001b[1;32mNone\u001b[0m\u001b[1;33m,\u001b[0m\u001b[1;33m\n",
       "\u001b[0m    \u001b[0msample_weight\u001b[0m\u001b[1;33m=\u001b[0m\u001b[1;32mNone\u001b[0m\u001b[1;33m,\u001b[0m\u001b[1;33m\n",
       "\u001b[0m    \u001b[0mnormalize\u001b[0m\u001b[1;33m=\u001b[0m\u001b[1;32mNone\u001b[0m\u001b[1;33m,\u001b[0m\u001b[1;33m\n",
       "\u001b[0m\u001b[1;33m)\u001b[0m\u001b[1;33m\u001b[0m\u001b[1;33m\u001b[0m\u001b[0m\n",
       "\u001b[1;31mDocstring:\u001b[0m\n",
       "Compute confusion matrix to evaluate the accuracy of a classification.\n",
       "\n",
       "By definition a confusion matrix :math:`C` is such that :math:`C_{i, j}`\n",
       "is equal to the number of observations known to be in group :math:`i` and\n",
       "predicted to be in group :math:`j`.\n",
       "\n",
       "Thus in binary classification, the count of true negatives is\n",
       ":math:`C_{0,0}`, false negatives is :math:`C_{1,0}`, true positives is\n",
       ":math:`C_{1,1}` and false positives is :math:`C_{0,1}`.\n",
       "\n",
       "Read more in the :ref:`User Guide <confusion_matrix>`.\n",
       "\n",
       "Parameters\n",
       "----------\n",
       "y_true : array-like of shape (n_samples,)\n",
       "    Ground truth (correct) target values.\n",
       "\n",
       "y_pred : array-like of shape (n_samples,)\n",
       "    Estimated targets as returned by a classifier.\n",
       "\n",
       "labels : array-like of shape (n_classes), default=None\n",
       "    List of labels to index the matrix. This may be used to reorder\n",
       "    or select a subset of labels.\n",
       "    If ``None`` is given, those that appear at least once\n",
       "    in ``y_true`` or ``y_pred`` are used in sorted order.\n",
       "\n",
       "sample_weight : array-like of shape (n_samples,), default=None\n",
       "    Sample weights.\n",
       "\n",
       "    .. versionadded:: 0.18\n",
       "\n",
       "normalize : {'true', 'pred', 'all'}, default=None\n",
       "    Normalizes confusion matrix over the true (rows), predicted (columns)\n",
       "    conditions or all the population. If None, confusion matrix will not be\n",
       "    normalized.\n",
       "\n",
       "Returns\n",
       "-------\n",
       "C : ndarray of shape (n_classes, n_classes)\n",
       "    Confusion matrix whose i-th row and j-th\n",
       "    column entry indicates the number of\n",
       "    samples with true label being i-th class\n",
       "    and predicted label being j-th class.\n",
       "\n",
       "See Also\n",
       "--------\n",
       "ConfusionMatrixDisplay.from_estimator : Plot the confusion matrix\n",
       "    given an estimator, the data, and the label.\n",
       "ConfusionMatrixDisplay.from_predictions : Plot the confusion matrix\n",
       "    given the true and predicted labels.\n",
       "ConfusionMatrixDisplay : Confusion Matrix visualization.\n",
       "\n",
       "References\n",
       "----------\n",
       ".. [1] `Wikipedia entry for the Confusion matrix\n",
       "       <https://en.wikipedia.org/wiki/Confusion_matrix>`_\n",
       "       (Wikipedia and other references may use a different\n",
       "       convention for axes).\n",
       "\n",
       "Examples\n",
       "--------\n",
       ">>> from sklearn.metrics import confusion_matrix\n",
       ">>> y_true = [2, 0, 2, 2, 0, 1]\n",
       ">>> y_pred = [0, 0, 2, 2, 0, 2]\n",
       ">>> confusion_matrix(y_true, y_pred)\n",
       "array([[2, 0, 0],\n",
       "       [0, 0, 1],\n",
       "       [1, 0, 2]])\n",
       "\n",
       ">>> y_true = [\"cat\", \"ant\", \"cat\", \"cat\", \"ant\", \"bird\"]\n",
       ">>> y_pred = [\"ant\", \"ant\", \"cat\", \"cat\", \"ant\", \"cat\"]\n",
       ">>> confusion_matrix(y_true, y_pred, labels=[\"ant\", \"bird\", \"cat\"])\n",
       "array([[2, 0, 0],\n",
       "       [0, 0, 1],\n",
       "       [1, 0, 2]])\n",
       "\n",
       "In the binary case, we can extract true positives, etc. as follows:\n",
       "\n",
       ">>> tn, fp, fn, tp = confusion_matrix([0, 1, 0, 1], [1, 1, 1, 0]).ravel()\n",
       ">>> (tn, fp, fn, tp)\n",
       "(0, 2, 1, 1)\n",
       "\u001b[1;31mFile:\u001b[0m      c:\\users\\ohminy\\anaconda3\\envs\\week4\\lib\\site-packages\\sklearn\\metrics\\_classification.py\n",
       "\u001b[1;31mType:\u001b[0m      function"
      ]
     },
     "metadata": {},
     "output_type": "display_data"
    }
   ],
   "source": [
    "from sklearn.metrics import confusion_matrix, ConfusionMatrixDisplay\n",
    "confusion_matrix?"
   ]
  },
  {
   "cell_type": "code",
   "execution_count": 39,
   "metadata": {},
   "outputs": [],
   "source": [
    "import matplotlib.pyplot as plt"
   ]
  },
  {
   "cell_type": "code",
   "execution_count": 41,
   "metadata": {
    "colab": {
     "base_uri": "https://localhost:8080/",
     "height": 278
    },
    "id": "0qUyIay5pyYa",
    "outputId": "e8f72e61-b70e-4a0d-cca3-6ebdcbaec271",
    "tags": []
   },
   "outputs": [
    {
     "data": {
      "image/png": "[encoded data removed]",
      "text/plain": [
       "<Figure size 640x480 with 2 Axes>"
      ]
     },
     "metadata": {},
     "output_type": "display_data"
    }
   ],
   "source": [
    "cm = confusion_matrix(y_test,pred_tree)\n",
    "disp = ConfusionMatrixDisplay(confusion_matrix=cm)\n",
    "disp.plot()\n",
    "plt.show()"
   ]
  },
  {
   "cell_type": "code",
   "execution_count": 42,
   "metadata": {},
   "outputs": [
    {
     "name": "stdout",
     "output_type": "stream",
     "text": [
      "0.9888888888888889\n"
     ]
    }
   ],
   "source": [
    "# Logistic regression model 로 돌려보세요\n",
    "from sklearn.linear_model import LogisticRegression\n",
    "\n",
    "logistic = LogisticRegression(random_state=SEED)\n",
    "logistic.fit(x_train, y_train)\n",
    "pred_logistic = logistic.predict(x_test)\n",
    "\n",
    "score = accuracy_score(y_test, pred_logistic)\n",
    "print(score)"
   ]
  },
  {
   "cell_type": "code",
   "execution_count": 44,
   "metadata": {},
   "outputs": [
    {
     "data": {
      "text/plain": [
       "<sklearn.metrics._plot.confusion_matrix.ConfusionMatrixDisplay at 0x228b1439610>"
      ]
     },
     "execution_count": 44,
     "metadata": {},
     "output_type": "execute_result"
    },
    {
     "data": {
      "image/png": "[encoded data removed]",
      "text/plain": [
       "<Figure size 640x480 with 2 Axes>"
      ]
     },
     "metadata": {},
     "output_type": "display_data"
    }
   ],
   "source": [
    "cm = confusion_matrix(y_test, pred_logistic)\n",
    "disp = ConfusionMatrixDisplay(confusion_matrix=cm)\n",
    "disp.plot()"
   ]
  },
  {
   "cell_type": "markdown",
   "metadata": {
    "id": "NK9wxnfzpyWF"
   },
   "source": [
    "## Precision vs Recall\n",
    "- FP 줄이는것이 목표일때 Precision 사용\n",
    "- FN 줄이는것이 목표일때 Recall 사용"
   ]
  },
  {
   "cell_type": "code",
   "execution_count": 45,
   "metadata": {
    "colab": {
     "base_uri": "https://localhost:8080/"
    },
    "id": "_XmK_-HhpyTs",
    "outputId": "9e189c3a-8b02-4379-93e4-2ae4bdb1c422",
    "tags": []
   },
   "outputs": [
    {
     "data": {
      "text/plain": [
       "0.9666666666666667"
      ]
     },
     "execution_count": 45,
     "metadata": {},
     "output_type": "execute_result"
    }
   ],
   "source": [
    "from sklearn.metrics import precision_score , recall_score\n",
    "\n",
    "precision_score(y_test,pred_tree)"
   ]
  },
  {
   "cell_type": "code",
   "execution_count": 47,
   "metadata": {
    "scrolled": true,
    "tags": []
   },
   "outputs": [],
   "source": [
    "# precision_score?"
   ]
  },
  {
   "cell_type": "code",
   "execution_count": 48,
   "metadata": {
    "colab": {
     "base_uri": "https://localhost:8080/"
    },
    "id": "tKBeekwApyRQ",
    "outputId": "13181273-d897-4e41-ed46-acf33bbcf8da",
    "tags": []
   },
   "outputs": [
    {
     "data": {
      "text/plain": [
       "0.6904761904761905"
      ]
     },
     "execution_count": 48,
     "metadata": {},
     "output_type": "execute_result"
    }
   ],
   "source": [
    "recall_score(y_test,pred_tree)"
   ]
  },
  {
   "cell_type": "markdown",
   "metadata": {
    "id": "O1MdLrO4y8os"
   },
   "source": [
    "### Precision-Recall Trade-off (절충관계)"
   ]
  },
  {
   "cell_type": "markdown",
   "metadata": {
    "id": "8g7_t6lTpyMY"
   },
   "source": [
    "![trade_off.png](https://i0.wp.com/thecleverprogrammer.com/wp-content/uploads/2020/07/un-87.png)"
   ]
  },
  {
   "cell_type": "code",
   "execution_count": 56,
   "metadata": {
    "scrolled": true
   },
   "outputs": [
    {
     "name": "stdout",
     "output_type": "stream",
     "text": [
      "[0.01059322 0.01059322 0.01059322 0.00900901 0.01059322 0.01059322\n",
      " 0.01059322 0.01059322 0.01059322 0.00900901 0.00900901 0.01059322\n",
      " 0.01059322 0.01059322 0.01059322 0.38596491 0.01059322 0.01059322\n",
      " 0.01059322 0.01059322 0.00900901 0.01059322 0.00900901 0.01059322\n",
      " 0.01059322 0.01059322 0.38596491 0.01059322 0.01059322 0.01059322\n",
      " 0.01059322 0.01059322 0.01059322 0.01059322 0.01059322 0.97169811\n",
      " 0.01059322 0.01059322 0.01059322 0.01059322 0.01059322 0.01059322\n",
      " 0.01059322 0.01059322 0.00900901 0.01059322 0.97169811 0.01059322\n",
      " 0.38596491 0.01059322 0.00900901 0.01059322 0.01059322 0.97169811\n",
      " 0.01059322 1.         0.97169811 0.         0.01059322 0.01059322\n",
      " 0.00900901 0.01059322 0.01059322 0.00900901 0.00900901 0.01059322\n",
      " 0.01059322 0.01059322 0.01059322 0.01059322 0.00900901 0.00900901\n",
      " 0.01059322 0.00900901 0.01059322 0.01059322 0.00900901 0.00900901\n",
      " 0.01059322 0.01059322 0.00900901 0.01059322 0.01059322 0.01059322\n",
      " 0.00900901 0.38596491 0.00900901 0.01059322 0.01059322 0.38596491\n",
      " 0.00900901 0.01059322 0.01059322 0.01059322 0.00900901 0.01059322\n",
      " 0.01059322 0.01059322 0.00900901 0.01059322 0.00900901 0.01059322\n",
      " 0.01059322 0.00900901 0.01059322 0.01059322 0.01059322 0.01059322\n",
      " 0.01059322 0.01059322 0.01059322 0.01059322 0.01059322 0.01059322\n",
      " 0.01059322 0.97169811 0.01059322 0.00900901 0.01059322 0.01059322\n",
      " 0.01059322 0.01059322 0.01059322 0.01059322 0.97169811 0.97169811\n",
      " 0.97169811 0.01059322 0.01059322 0.01059322 0.01059322 0.00900901\n",
      " 0.38596491 0.01059322 0.00900901 0.01059322 0.38596491 0.01059322\n",
      " 0.01059322 0.01059322 0.01059322 0.01059322 0.00900901 0.01059322\n",
      " 0.01059322 0.38596491 0.01059322 0.00900901 0.01059322 0.01059322\n",
      " 0.00900901 0.01059322 0.01059322 0.00900901 0.01059322 0.00900901\n",
      " 0.01059322 0.01059322 0.01059322 0.01059322 0.01059322 0.01059322\n",
      " 0.01059322 0.97169811 0.00900901 0.01059322 0.97169811 0.00900901\n",
      " 0.01059322 0.01059322 0.00900901 0.01059322 0.01059322 0.01059322\n",
      " 0.00900901 0.01059322 0.01059322 0.01059322 0.01059322 0.00900901\n",
      " 0.01059322 0.01059322 0.01059322 0.01059322 0.01059322 0.01059322\n",
      " 0.01059322 0.01059322 0.01059322 0.01059322 0.00900901 0.00900901\n",
      " 0.01059322 0.00900901 0.00900901 0.01059322 0.00900901 0.01059322\n",
      " 0.01059322 0.01059322 0.97169811 0.01059322 0.01059322 0.00900901\n",
      " 0.01059322 0.01059322 0.00900901 0.01059322 0.01059322 0.01059322\n",
      " 0.00900901 0.00900901 0.00900901 0.01059322 0.01059322 0.01059322\n",
      " 0.01059322 0.01059322 0.01059322 0.97169811 0.01059322 0.01059322\n",
      " 0.01059322 0.01059322 0.00900901 0.01059322 0.01059322 0.01059322\n",
      " 0.01059322 0.00900901 0.00900901 0.01059322 0.01059322 0.38596491\n",
      " 0.01059322 0.01059322 0.38596491 0.01059322 0.01059322 0.01059322\n",
      " 0.01059322 0.01059322 0.00900901 0.00900901 0.01059322 0.01059322\n",
      " 0.00900901 0.01059322 0.97169811 0.00900901 0.01059322 0.01059322\n",
      " 0.00900901 0.01059322 0.01059322 0.00900901 0.00900901 0.01059322\n",
      " 0.01059322 0.01059322 0.97169811 0.01059322 0.01059322 0.01059322\n",
      " 0.01059322 0.01059322 0.01059322 0.         0.01059322 0.01059322\n",
      " 0.97169811 0.01059322 0.01059322 0.01059322 0.01059322 0.01059322\n",
      " 0.01059322 0.97169811 0.00900901 0.00900901 0.01059322 0.01059322\n",
      " 0.38596491 0.01059322 0.97169811 0.00900901 0.01059322 0.01059322\n",
      " 0.01059322 0.01059322 0.01059322 0.00900901 0.38596491 0.01059322\n",
      " 0.01059322 0.01059322 0.01059322 0.01059322 0.97169811 0.00900901\n",
      " 0.01059322 0.01059322 0.00900901 0.01059322 0.01059322 0.01059322\n",
      " 0.01059322 0.01059322 0.01059322 0.00900901 0.00900901 0.01059322\n",
      " 0.01059322 0.01059322 0.01059322 0.97169811 0.01059322 0.01059322\n",
      " 0.00900901 0.01059322 0.01059322 0.00900901 0.01059322 0.01059322\n",
      " 0.01059322 0.01059322 0.00900901 0.01059322 0.01059322 0.01059322\n",
      " 0.01059322 0.01059322 0.01059322 0.01059322 0.01059322 0.01059322\n",
      " 0.01059322 0.01059322 0.97169811 0.01059322 0.01059322 0.2\n",
      " 0.00900901 0.01059322 0.01059322 0.01059322 0.01059322 0.00900901\n",
      " 0.01059322 0.97169811 0.01059322 0.01059322 0.38596491 0.01059322\n",
      " 0.01059322 0.38596491 0.97169811 0.01059322 0.01059322 0.01059322\n",
      " 0.01059322 0.00900901 0.01059322 0.00900901 0.01059322 0.01059322\n",
      " 0.01059322 0.97169811 0.01059322 0.00900901 0.00900901 0.01059322\n",
      " 0.01059322 0.38596491 0.01059322 0.01059322 0.01059322 0.00900901\n",
      " 0.01059322 0.01059322 0.01059322 0.97169811 0.01059322 0.00900901\n",
      " 0.01059322 0.01059322 0.01059322 0.38596491 0.01059322 0.01059322\n",
      " 0.01059322 0.01059322 0.01059322 0.01059322 0.97169811 0.01059322\n",
      " 0.01059322 0.38596491 0.01059322 0.01059322 0.01059322 0.01059322\n",
      " 0.01059322 0.01059322 0.01059322 0.01059322 0.01059322 0.97169811\n",
      " 0.01059322 0.01059322 0.00900901 0.97169811 0.01059322 0.01059322\n",
      " 0.00900901 0.         0.00900901 0.00900901 0.01059322 0.01059322\n",
      " 0.01059322 0.00900901 0.01059322 0.00900901 0.01059322 0.00900901\n",
      " 0.01059322 0.01059322 0.01059322 0.01059322 0.01059322 0.01059322\n",
      " 0.00900901 0.01059322 0.01059322 0.00900901 0.00900901 0.01059322\n",
      " 0.01059322 0.01059322 0.01059322 0.97169811 0.97169811 0.01059322\n",
      " 0.01059322 0.01059322 0.01059322 0.01059322 0.38596491 0.01059322]\n"
     ]
    }
   ],
   "source": [
    "predict_proba = tree.predict_proba(x_test)[:, 1] # 숫자 5일 확률들만 출력해 보자\n",
    "print(predict_proba)"
   ]
  },
  {
   "cell_type": "code",
   "execution_count": 55,
   "metadata": {},
   "outputs": [
    {
     "data": {
      "text/plain": [
       "30"
      ]
     },
     "execution_count": 55,
     "metadata": {},
     "output_type": "execute_result"
    }
   ],
   "source": [
    "sum(tree.predict_proba(x_test)[:, 1] > 0.5) # 0.5 를 기준으로 숫자 5인지 아닌지를 분류 한다. "
   ]
  },
  {
   "cell_type": "code",
   "execution_count": 63,
   "metadata": {},
   "outputs": [],
   "source": [
    "threshold = 0.3 # 0.3 으로 기준을 낮추자 \n",
    "pred = np.where(predict_proba > threshold, 1, 0) # threshold 값 이상이면1 아니면 0 "
   ]
  },
  {
   "cell_type": "code",
   "execution_count": 64,
   "metadata": {},
   "outputs": [
    {
     "data": {
      "text/plain": [
       "(0.6875, 0.7857142857142857)"
      ]
     },
     "execution_count": 64,
     "metadata": {},
     "output_type": "execute_result"
    }
   ],
   "source": [
    "precision_score(y_test, pred), recall_score(y_test, pred)"
   ]
  },
  {
   "cell_type": "code",
   "execution_count": 65,
   "metadata": {},
   "outputs": [
    {
     "data": {
      "text/plain": [
       "<sklearn.metrics._plot.confusion_matrix.ConfusionMatrixDisplay at 0x228b4abbe10>"
      ]
     },
     "execution_count": 65,
     "metadata": {},
     "output_type": "execute_result"
    },
    {
     "data": {
      "image/png": "[encoded data removed]",
      "text/plain": [
       "<Figure size 640x480 with 2 Axes>"
      ]
     },
     "metadata": {},
     "output_type": "display_data"
    }
   ],
   "source": [
    "cm = confusion_matrix(y_test, pred)\n",
    "disp = ConfusionMatrixDisplay(confusion_matrix=cm)\n",
    "disp.plot()\n",
    "# 숫자 5가 아닌데 5라고 예측한 숫자들이 늘어 났다. 좀더 여유롭게 예측함 "
   ]
  },
  {
   "cell_type": "markdown",
   "metadata": {
    "id": "4Jbt-CIRpyBK"
   },
   "source": [
    "## F1-score\n",
    "$$\n",
    "F1 = 2*\\frac{Precision*Recall}{Precision+Recall}\n",
    "$$\n",
    "- Precision 과 Recall의 조화평균\n",
    "- 정밀도와 재현율 사이에 하나가 높아지면 다른 하나가 낮아지는 상황이 자주 발생하기에 이를 보정하기 위해 개발\n",
    "- 정밀도와 재현율이 어느 한쪽으로 치우치지 않았을때 높은 점수가 나온다.\n",
    "- Precison 과 Recall은 Trade-off 관계이기때문에, 이둘의 조화평균값이 F1-score를 많이 사용한다."
   ]
  },
  {
   "cell_type": "markdown",
   "metadata": {
    "id": "9cdW6aqCpx-2"
   },
   "source": [
    "- precision = 0.1, recall = 0.9 가정!!"
   ]
  },
  {
   "cell_type": "code",
   "execution_count": 66,
   "metadata": {},
   "outputs": [
    {
     "data": {
      "text/plain": [
       "0.5"
      ]
     },
     "execution_count": 66,
     "metadata": {},
     "output_type": "execute_result"
    }
   ],
   "source": [
    "(0.1 + 0.9)/2 # 산술평균"
   ]
  },
  {
   "cell_type": "code",
   "execution_count": 69,
   "metadata": {},
   "outputs": [
    {
     "data": {
      "text/plain": [
       "0.18000000000000002"
      ]
     },
     "execution_count": 69,
     "metadata": {},
     "output_type": "execute_result"
    }
   ],
   "source": [
    "2*(0.1 * 0.9) / (0.1 + 0.9) # 조화평균"
   ]
  },
  {
   "cell_type": "code",
   "execution_count": 70,
   "metadata": {},
   "outputs": [
    {
     "data": {
      "text/plain": [
       "0.5"
      ]
     },
     "execution_count": 70,
     "metadata": {},
     "output_type": "execute_result"
    }
   ],
   "source": [
    "2*(0.5 * 0.5) / (0.5 + 0.5)"
   ]
  },
  {
   "cell_type": "code",
   "execution_count": 72,
   "metadata": {},
   "outputs": [
    {
     "data": {
      "text/plain": [
       "0.7333333333333333"
      ]
     },
     "execution_count": 72,
     "metadata": {},
     "output_type": "execute_result"
    }
   ],
   "source": [
    "from sklearn.metrics import f1_score\n",
    "f1_score(y_test, pred)"
   ]
  },
  {
   "cell_type": "code",
   "execution_count": 73,
   "metadata": {},
   "outputs": [
    {
     "name": "stdout",
     "output_type": "stream",
     "text": [
      "              precision    recall  f1-score   support\n",
      "\n",
      "           0       0.98      0.96      0.97       408\n",
      "           1       0.69      0.79      0.73        42\n",
      "\n",
      "    accuracy                           0.95       450\n",
      "   macro avg       0.83      0.87      0.85       450\n",
      "weighted avg       0.95      0.95      0.95       450\n",
      "\n"
     ]
    }
   ],
   "source": [
    "# precision, recall, f1-score 를 한번에\n",
    "from sklearn.metrics import classification_report\n",
    "print(classification_report(y_test, pred))"
   ]
  },
  {
   "cell_type": "markdown",
   "metadata": {
    "id": "ObMcIHQmpxxm"
   },
   "source": [
    "## ROC (Receiver Operating Characteristic curve)\n",
    "- FPR을 X축으로, TPR을 Y축으로 해서 둘간의 관계를 표현한 그래프\n",
    "    - FPR = FP / (FP+TN)\n",
    "    - TPR = TP / (FN+TP)\n",
    "- FPR이 천천히 증가하면서  TPR이 빨리 증가하는 모델을 만들어야한다.\n",
    "- 면적이 클수록 좋은 모델임"
   ]
  },
  {
   "cell_type": "markdown",
   "metadata": {},
   "source": [
    "# 참고\n",
    "- ROC vs AP\n",
    "- ROC : 이진 분류기에서 사용되는 평가지표\n",
    "    - TPR, FPR\n",
    "    - AUC 값으로 ROC 커브의 결과를 나타낸다.\n",
    "- mAP : 다중클래스 분류기 or 컴퓨터 비전에서 사용되는 객체탐지기에 사용된다.\n",
    "    - Precision, recall\n",
    "    -  각클래스의 AP의 평균값으로 mAP 값을 산출 한다. "
   ]
  },
  {
   "cell_type": "markdown",
   "metadata": {
    "id": "tgxJcJMUpxvZ"
   },
   "source": [
    "![ROC.png](https://miro.medium.com/max/640/1*pk05QGzoWhCgRiiFbz-oKQ.webp)"
   ]
  },
  {
   "cell_type": "markdown",
   "metadata": {
    "id": "NkvvlwdNpxte"
   },
   "source": [
    "- ROC Curve"
   ]
  },
  {
   "cell_type": "code",
   "execution_count": 74,
   "metadata": {},
   "outputs": [
    {
     "data": {
      "image/png": "[encoded data removed]",
      "text/plain": [
       "<Figure size 640x480 with 1 Axes>"
      ]
     },
     "metadata": {},
     "output_type": "display_data"
    }
   ],
   "source": [
    "from sklearn.metrics import RocCurveDisplay\n",
    "RocCurveDisplay.from_predictions(y_test, pred_tree)\n",
    "plt.show()"
   ]
  },
  {
   "cell_type": "markdown",
   "metadata": {
    "id": "cBvhwEP_d2vo"
   },
   "source": [
    "## AUROC (ROC AUC) \n",
    "- Roc Curved의 밑부분 면적 \n",
    "- 넓을수록 모형 성능이 좋다 (1에 가까울수록 좋다)\n",
    "- 임계값이 어떻게 선택되었는지와 무관하게 모델의 예측 품질을 측정 할수 있다\n",
    "- Poor model(0.5 ~ 0.7)\n",
    "- Fare model(0.7 ~ 0.8)\n",
    "- Good model(0.8 ~ 0.9)\n",
    "- Excellent model (0.9~1.0)"
   ]
  },
  {
   "cell_type": "markdown",
   "metadata": {},
   "source": [
    "# 다중분류 Metric"
   ]
  },
  {
   "cell_type": "markdown",
   "metadata": {
    "id": "gV0Nw-IXf2mv"
   },
   "source": [
    "## F1-score (다중분류)\n",
    "- micro\n",
    "    - 전체 클래스의 대하여 TP/FP/FN 구한뒤에 F1-score 계산\n",
    "- macro\n",
    "    - 각 클래스 대하여 F1-score 구한뒤 산술 평균\n",
    "- weighted\n",
    "    - 각 클래스의 대하여 F1-score 구한뒤 각 클래스가 차지하는 비율에 따라 가중평균\n",
    "    \n"
   ]
  },
  {
   "cell_type": "code",
   "execution_count": 75,
   "metadata": {},
   "outputs": [
    {
     "data": {
      "text/plain": [
       "0.9466666666666667"
      ]
     },
     "execution_count": 75,
     "metadata": {},
     "output_type": "execute_result"
    }
   ],
   "source": [
    "f1_score(y_test, pred, average=\"micro\")"
   ]
  },
  {
   "cell_type": "code",
   "execution_count": 76,
   "metadata": {},
   "outputs": [
    {
     "data": {
      "text/plain": [
       "0.8518518518518519"
      ]
     },
     "execution_count": 76,
     "metadata": {},
     "output_type": "execute_result"
    }
   ],
   "source": [
    "f1_score(y_test, pred, average=\"macro\")"
   ]
  },
  {
   "cell_type": "code",
   "execution_count": 77,
   "metadata": {},
   "outputs": [
    {
     "data": {
      "text/plain": [
       "0.9482469135802469"
      ]
     },
     "execution_count": 77,
     "metadata": {},
     "output_type": "execute_result"
    }
   ],
   "source": [
    "f1_score(y_test, pred, average=\"weighted\")"
   ]
  },
  {
   "cell_type": "markdown",
   "metadata": {
    "id": "8-A-grBnjrR3"
   },
   "source": [
    "# Metric 아님!\n",
    "- 소프트맥스 함수(Softmax Function)\n",
    "$$\n",
    "softmax(z) = \\frac{e^{z_{i}}}{\\sum_{j=1}^K e^{z_{j}}} \\ \\ \\ for\\ i=1,2,\\dots,K\n",
    "$$\n",
    "    - 각클래스에 대한 확률을 출력\n",
    "    - 입력받은 값들을 0~1사이의 값들로 모두 정규화하면 출력값들의 합은 항상 1이 되는 특성을 가진 함수"
   ]
  },
  {
   "cell_type": "code",
   "execution_count": null,
   "metadata": {},
   "outputs": [],
   "source": [
    "# LOGIT -> 확률(X) SCORE(0~1 사이의 점수) -> SOFTMAX FUNCTION -> 확률\n"
   ]
  },
  {
   "cell_type": "markdown",
   "metadata": {
    "id": "hggje6FGqVpl"
   },
   "source": [
    "- 음의 로그함수\n",
    "    - 1을 넣으면 0이 나온다. 0에 가까운 값을 넣을수록 큰값이 나온다."
   ]
  },
  {
   "cell_type": "markdown",
   "metadata": {
    "id": "274PTAlzqyiM"
   },
   "source": [
    "## Multi classification 에서의 Cross_entropy(logloss)\n",
    "- 모델이 예측한 확률 값을 반영해서 평가\n",
    "- 0에 가까울수록 좋은 모델\n",
    "- 정답에 해당하는 확률값들을 음의 로그함수에 넣어서 나온값들의 평균으로 평가 한다. "
   ]
  },
  {
   "cell_type": "markdown",
   "metadata": {
    "id": "iKe8Qmonsb2g"
   },
   "source": [
    "\n",
    "<img src = \"https://velog.velcdn.com/images%2Fskyepodium%2Fpost%2F70022c68-6383-4fb4-b588-60d220917606%2F%E1%84%89%E1%85%B3%E1%84%8F%E1%85%B3%E1%84%85%E1%85%B5%E1%86%AB%E1%84%89%E1%85%A3%E1%86%BA%202021-05-23%20%E1%84%8B%E1%85%A9%E1%84%92%E1%85%AE%206.51.00.png\" width = \"1000\"></br>\n",
    "<img src = \"https://velog.velcdn.com/images%2Fskyepodium%2Fpost%2F7c785085-fb24-4c7e-93a4-6b8ec79c4c4a%2F%E1%84%89%E1%85%B3%E1%84%8F%E1%85%B3%E1%84%85%E1%85%B5%E1%86%AB%E1%84%89%E1%85%A3%E1%86%BA%202021-05-23%20%E1%84%8B%E1%85%A9%E1%84%92%E1%85%AE%206.18.41.png\" width = \"1000\">\n",
    "\n",
    "- https://velog.io/@skyepodium/logloss-%EC%95%8C%EC%95%84%EB%B3%B4%EA%B8%B0"
   ]
  },
  {
   "cell_type": "code",
   "execution_count": null,
   "metadata": {},
   "outputs": [],
   "source": []
  }
 ],
 "metadata": {
  "colab": {
   "authorship_tag": "ABX9TyPb6j6c7xeD+dvm4fIfcb2b",
   "include_colab_link": true,
   "provenance": []
  },
  "kernelspec": {
   "display_name": "Python 3 (ipykernel)",
   "language": "python",
   "name": "python3"
  },
  "language_info": {
   "codemirror_mode": {
    "name": "ipython",
    "version": 3
   },
   "file_extension": ".py",
   "mimetype": "text/x-python",
   "name": "python",
   "nbconvert_exporter": "python",
   "pygments_lexer": "ipython3",
   "version": "3.11.9"
  },
  "vscode": {
   "interpreter": {
    "hash": "106dcd2154cfa932e62c1d0bc1ce9c27a83b078e0171c73c85fcd8f00976afbc"
   }
  }
 },
 "nbformat": 4,
 "nbformat_minor": 4
}
