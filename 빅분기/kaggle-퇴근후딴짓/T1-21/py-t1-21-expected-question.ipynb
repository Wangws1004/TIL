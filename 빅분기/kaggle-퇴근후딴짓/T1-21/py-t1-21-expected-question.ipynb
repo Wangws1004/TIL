{
 "cells": [
  {
   "cell_type": "markdown",
   "id": "9c155b77",
   "metadata": {
    "papermill": {
     "duration": 0.010004,
     "end_time": "2021-11-22T03:50:19.257206",
     "exception": false,
     "start_time": "2021-11-22T03:50:19.247202",
     "status": "completed"
    },
    "tags": []
   },
   "source": [
    "## 나이 구간 나누기\n",
    "###  basic1 데이터 중 'age'컬럼 이상치를 제거하고, 동일한 개수로 나이 순으로 3그룹으로 나눈 뒤 각 그룹의 중앙값을 더하시오\n",
    "### (이상치는 음수(0포함), 소수점 값)\n",
    "- data: basic1.csv\n",
    "- 오른쪽 상단 copy&edit 클릭 -> 예상문제 풀이 시작\n"
   ]
  },
  {
   "cell_type": "code",
   "execution_count": 1,
   "id": "8fb7e92d",
   "metadata": {
    "_cell_guid": "b1076dfc-b9ad-4769-8c92-a6c4dae69d19",
    "_uuid": "8f2839f25d086af736a60e9eeb907d3b93b6e0e5",
    "execution": {
     "iopub.execute_input": "2021-11-22T03:50:19.289159Z",
     "iopub.status.busy": "2021-11-22T03:50:19.288211Z",
     "iopub.status.idle": "2021-11-22T03:50:19.292353Z",
     "shell.execute_reply": "2021-11-22T03:50:19.291736Z",
     "shell.execute_reply.started": "2021-11-22T03:49:58.281501Z"
    },
    "papermill": {
     "duration": 0.025931,
     "end_time": "2021-11-22T03:50:19.292537",
     "exception": false,
     "start_time": "2021-11-22T03:50:19.266606",
     "status": "completed"
    },
    "tags": []
   },
   "outputs": [],
   "source": [
    "import pandas as pd"
   ]
  },
  {
   "cell_type": "code",
   "execution_count": 2,
   "id": "ea8c755d",
   "metadata": {
    "execution": {
     "iopub.execute_input": "2021-11-22T03:50:19.313037Z",
     "iopub.status.busy": "2021-11-22T03:50:19.312244Z",
     "iopub.status.idle": "2021-11-22T03:50:19.333736Z",
     "shell.execute_reply": "2021-11-22T03:50:19.334271Z",
     "shell.execute_reply.started": "2021-11-22T03:49:58.288651Z"
    },
    "papermill": {
     "duration": 0.033244,
     "end_time": "2021-11-22T03:50:19.334427",
     "exception": false,
     "start_time": "2021-11-22T03:50:19.301183",
     "status": "completed"
    },
    "tags": []
   },
   "outputs": [],
   "source": [
    "df = pd.read_csv('../input/bigdatacertificationkr/basic1.csv')"
   ]
  },
  {
   "cell_type": "code",
   "execution_count": 3,
   "id": "01101e4d",
   "metadata": {
    "execution": {
     "iopub.execute_input": "2021-11-22T03:50:19.357643Z",
     "iopub.status.busy": "2021-11-22T03:50:19.357027Z",
     "iopub.status.idle": "2021-11-22T03:50:19.372585Z",
     "shell.execute_reply": "2021-11-22T03:50:19.373173Z",
     "shell.execute_reply.started": "2021-11-22T03:49:58.308884Z"
    },
    "papermill": {
     "duration": 0.029843,
     "end_time": "2021-11-22T03:50:19.373344",
     "exception": false,
     "start_time": "2021-11-22T03:50:19.343501",
     "status": "completed"
    },
    "tags": []
   },
   "outputs": [
    {
     "name": "stdout",
     "output_type": "stream",
     "text": [
      "전체 데이터: (100, 8)\n",
      "음수(0포함)값 제거 후 데이터 크기: (96, 8)\n",
      "소수점 제거 후 데이터 크기: (90, 8)\n"
     ]
    }
   ],
   "source": [
    "# age 이상치 (음수(0포함), 소수점 제거)\n",
    "print('전체 데이터:', df.shape)\n",
    "df = df[~(df['age'] <= 0)]\n",
    "print('음수(0포함)값 제거 후 데이터 크기:', df.shape)\n",
    "\n",
    "df = df[(df['age'] == round(df['age'],0))]\n",
    "print('소수점 제거 후 데이터 크기:', df.shape)"
   ]
  },
  {
   "cell_type": "code",
   "execution_count": 4,
   "id": "abe46774",
   "metadata": {
    "execution": {
     "iopub.execute_input": "2021-11-22T03:50:19.398275Z",
     "iopub.status.busy": "2021-11-22T03:50:19.394581Z",
     "iopub.status.idle": "2021-11-22T03:50:19.415337Z",
     "shell.execute_reply": "2021-11-22T03:50:19.415878Z",
     "shell.execute_reply.started": "2021-11-22T03:49:58.323036Z"
    },
    "papermill": {
     "duration": 0.032929,
     "end_time": "2021-11-22T03:50:19.416079",
     "exception": false,
     "start_time": "2021-11-22T03:50:19.383150",
     "status": "completed"
    },
    "tags": []
   },
   "outputs": [
    {
     "data": {
      "text/html": [
       "<div>\n",
       "<style scoped>\n",
       "    .dataframe tbody tr th:only-of-type {\n",
       "        vertical-align: middle;\n",
       "    }\n",
       "\n",
       "    .dataframe tbody tr th {\n",
       "        vertical-align: top;\n",
       "    }\n",
       "\n",
       "    .dataframe thead th {\n",
       "        text-align: right;\n",
       "    }\n",
       "</style>\n",
       "<table border=\"1\" class=\"dataframe\">\n",
       "  <thead>\n",
       "    <tr style=\"text-align: right;\">\n",
       "      <th></th>\n",
       "      <th>id</th>\n",
       "      <th>age</th>\n",
       "      <th>city</th>\n",
       "      <th>f1</th>\n",
       "      <th>f2</th>\n",
       "      <th>f3</th>\n",
       "      <th>f4</th>\n",
       "      <th>f5</th>\n",
       "    </tr>\n",
       "  </thead>\n",
       "  <tbody>\n",
       "    <tr>\n",
       "      <th>0</th>\n",
       "      <td>id01</td>\n",
       "      <td>2.0</td>\n",
       "      <td>서울</td>\n",
       "      <td>NaN</td>\n",
       "      <td>0</td>\n",
       "      <td>NaN</td>\n",
       "      <td>ENFJ</td>\n",
       "      <td>91.297791</td>\n",
       "    </tr>\n",
       "    <tr>\n",
       "      <th>1</th>\n",
       "      <td>id02</td>\n",
       "      <td>9.0</td>\n",
       "      <td>서울</td>\n",
       "      <td>70.0</td>\n",
       "      <td>1</td>\n",
       "      <td>NaN</td>\n",
       "      <td>ENFJ</td>\n",
       "      <td>60.339826</td>\n",
       "    </tr>\n",
       "    <tr>\n",
       "      <th>2</th>\n",
       "      <td>id03</td>\n",
       "      <td>27.0</td>\n",
       "      <td>서울</td>\n",
       "      <td>61.0</td>\n",
       "      <td>1</td>\n",
       "      <td>NaN</td>\n",
       "      <td>ISTJ</td>\n",
       "      <td>17.252986</td>\n",
       "    </tr>\n",
       "    <tr>\n",
       "      <th>3</th>\n",
       "      <td>id04</td>\n",
       "      <td>75.0</td>\n",
       "      <td>서울</td>\n",
       "      <td>NaN</td>\n",
       "      <td>2</td>\n",
       "      <td>NaN</td>\n",
       "      <td>INFP</td>\n",
       "      <td>52.667078</td>\n",
       "    </tr>\n",
       "    <tr>\n",
       "      <th>4</th>\n",
       "      <td>id05</td>\n",
       "      <td>24.0</td>\n",
       "      <td>서울</td>\n",
       "      <td>85.0</td>\n",
       "      <td>2</td>\n",
       "      <td>NaN</td>\n",
       "      <td>ISFJ</td>\n",
       "      <td>29.269869</td>\n",
       "    </tr>\n",
       "  </tbody>\n",
       "</table>\n",
       "</div>"
      ],
      "text/plain": [
       "     id   age city    f1  f2   f3    f4         f5\n",
       "0  id01   2.0   서울   NaN   0  NaN  ENFJ  91.297791\n",
       "1  id02   9.0   서울  70.0   1  NaN  ENFJ  60.339826\n",
       "2  id03  27.0   서울  61.0   1  NaN  ISTJ  17.252986\n",
       "3  id04  75.0   서울   NaN   2  NaN  INFP  52.667078\n",
       "4  id05  24.0   서울  85.0   2  NaN  ISFJ  29.269869"
      ]
     },
     "execution_count": 4,
     "metadata": {},
     "output_type": "execute_result"
    }
   ],
   "source": [
    "df.head()"
   ]
  },
  {
   "cell_type": "code",
   "execution_count": 5,
   "id": "5466fa69",
   "metadata": {
    "execution": {
     "iopub.execute_input": "2021-11-22T03:50:19.446816Z",
     "iopub.status.busy": "2021-11-22T03:50:19.445795Z",
     "iopub.status.idle": "2021-11-22T03:50:19.465603Z",
     "shell.execute_reply": "2021-11-22T03:50:19.466169Z",
     "shell.execute_reply.started": "2021-11-22T03:49:58.352353Z"
    },
    "papermill": {
     "duration": 0.039802,
     "end_time": "2021-11-22T03:50:19.466345",
     "exception": false,
     "start_time": "2021-11-22T03:50:19.426543",
     "status": "completed"
    },
    "tags": []
   },
   "outputs": [
    {
     "data": {
      "text/plain": [
       "0      (0.999, 38.667]\n",
       "1      (0.999, 38.667]\n",
       "2      (0.999, 38.667]\n",
       "3      (73.333, 100.0]\n",
       "4      (0.999, 38.667]\n",
       "            ...       \n",
       "95     (73.333, 100.0]\n",
       "96     (73.333, 100.0]\n",
       "97    (38.667, 73.333]\n",
       "98     (0.999, 38.667]\n",
       "99    (38.667, 73.333]\n",
       "Name: age, Length: 90, dtype: category\n",
       "Categories (3, interval[float64, right]): [(0.999, 38.667] < (38.667, 73.333] < (73.333, 100.0]]"
      ]
     },
     "execution_count": 5,
     "metadata": {},
     "output_type": "execute_result"
    }
   ],
   "source": [
    "# 기준 확인\n",
    "pd.qcut(df['age'], q=3)"
   ]
  },
  {
   "cell_type": "code",
   "execution_count": 6,
   "id": "aa9d0850",
   "metadata": {
    "execution": {
     "iopub.execute_input": "2021-11-22T03:50:19.500412Z",
     "iopub.status.busy": "2021-11-22T03:50:19.499573Z",
     "iopub.status.idle": "2021-11-22T03:50:19.508683Z",
     "shell.execute_reply": "2021-11-22T03:50:19.509269Z",
     "shell.execute_reply.started": "2021-11-22T03:49:58.370406Z"
    },
    "papermill": {
     "duration": 0.029175,
     "end_time": "2021-11-22T03:50:19.509442",
     "exception": false,
     "start_time": "2021-11-22T03:50:19.480267",
     "status": "completed"
    },
    "tags": []
   },
   "outputs": [],
   "source": [
    "# 구간 분할\n",
    "df['range'] = pd.qcut(df['age'], q=3, labels=['group1','group2','group3'])"
   ]
  },
  {
   "cell_type": "code",
   "execution_count": 7,
   "id": "e857119d",
   "metadata": {
    "execution": {
     "iopub.execute_input": "2021-11-22T03:50:19.536709Z",
     "iopub.status.busy": "2021-11-22T03:50:19.536074Z",
     "iopub.status.idle": "2021-11-22T03:50:19.548328Z",
     "shell.execute_reply": "2021-11-22T03:50:19.548841Z",
     "shell.execute_reply.started": "2021-11-22T03:49:58.381859Z"
    },
    "papermill": {
     "duration": 0.027901,
     "end_time": "2021-11-22T03:50:19.549133",
     "exception": false,
     "start_time": "2021-11-22T03:50:19.521232",
     "status": "completed"
    },
    "tags": []
   },
   "outputs": [
    {
     "data": {
      "text/plain": [
       "group1    30\n",
       "group2    30\n",
       "group3    30\n",
       "Name: range, dtype: int64"
      ]
     },
     "execution_count": 7,
     "metadata": {},
     "output_type": "execute_result"
    }
   ],
   "source": [
    "# 수량 비교\n",
    "df['range'].value_counts()"
   ]
  },
  {
   "cell_type": "code",
   "execution_count": 8,
   "id": "b1d60c32",
   "metadata": {
    "execution": {
     "iopub.execute_input": "2021-11-22T03:50:19.580408Z",
     "iopub.status.busy": "2021-11-22T03:50:19.579731Z",
     "iopub.status.idle": "2021-11-22T03:50:19.585130Z",
     "shell.execute_reply": "2021-11-22T03:50:19.585700Z",
     "shell.execute_reply.started": "2021-11-22T03:49:58.396690Z"
    },
    "papermill": {
     "duration": 0.023871,
     "end_time": "2021-11-22T03:50:19.585862",
     "exception": false,
     "start_time": "2021-11-22T03:50:19.561991",
     "status": "completed"
    },
    "tags": []
   },
   "outputs": [
    {
     "name": "stdout",
     "output_type": "stream",
     "text": [
      "165.0\n"
     ]
    }
   ],
   "source": [
    "# 중간이상 - 중간이하 \n",
    "g1_med = df[df['range'] == 'group1']['age'].median()\n",
    "g2_med = df[df['range'] == 'group2']['age'].median()\n",
    "g3_med = df[df['range'] == 'group3']['age'].median()\n",
    "\n",
    "print(g1_med + g2_med + g3_med)"
   ]
  },
  {
   "cell_type": "code",
   "execution_count": null,
   "id": "9d5e9e17",
   "metadata": {
    "papermill": {
     "duration": 0.010913,
     "end_time": "2021-11-22T03:50:19.608367",
     "exception": false,
     "start_time": "2021-11-22T03:50:19.597454",
     "status": "completed"
    },
    "tags": []
   },
   "outputs": [],
   "source": []
  }
 ],
 "metadata": {
  "kernelspec": {
   "display_name": "Python 3",
   "language": "python",
   "name": "python3"
  },
  "language_info": {
   "codemirror_mode": {
    "name": "ipython",
    "version": 3
   },
   "file_extension": ".py",
   "mimetype": "text/x-python",
   "name": "python",
   "nbconvert_exporter": "python",
   "pygments_lexer": "ipython3",
   "version": "3.7.10"
  },
  "papermill": {
   "default_parameters": {},
   "duration": 10.20411,
   "end_time": "2021-11-22T03:50:20.228476",
   "environment_variables": {},
   "exception": null,
   "input_path": "__notebook__.ipynb",
   "output_path": "__notebook__.ipynb",
   "parameters": {},
   "start_time": "2021-11-22T03:50:10.024366",
   "version": "2.3.3"
  }
 },
 "nbformat": 4,
 "nbformat_minor": 5
}
