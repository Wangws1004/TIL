{
 "cells": [
  {
   "cell_type": "markdown",
   "id": "5427cadc",
   "metadata": {
    "papermill": {
     "duration": 0.033332,
     "end_time": "2023-06-11T11:28:45.250286",
     "exception": false,
     "start_time": "2023-06-11T11:28:45.216954",
     "status": "completed"
    },
    "tags": []
   },
   "source": [
    "## 당뇨병 여부 판단\n",
    "- 이상치 처리 (Glucose, BloodPressure, SkinThickness, Insulin, BMI가 0인 값)"
   ]
  },
  {
   "cell_type": "markdown",
   "id": "aed275d8",
   "metadata": {
    "papermill": {
     "duration": 0.026679,
     "end_time": "2023-06-11T11:28:45.304665",
     "exception": false,
     "start_time": "2023-06-11T11:28:45.277986",
     "status": "completed"
    },
    "tags": []
   },
   "source": [
    "## [참고]작업형2 문구\n",
    "- 출력을 원하실 경우 print() 함수 활용\n",
    "- 예시) print(df.head())\n",
    "- getcwd(), chdir() 등 작업 폴더 설정 불필요\n",
    "- 파일 경로 상 내부 드라이브 경로(C: 등) 접근 불가\n",
    "\n",
    "### 데이터 파일 읽기 예제\n",
    "- import pandas as pd\n",
    "- X_test = pd.read_csv(\"data/X_test.csv\")\n",
    "- X_train = pd.read_csv(\"data/X_train.csv\")\n",
    "- y_train = pd.read_csv(\"data/y_train.csv\")\n",
    "\n",
    "### 사용자 코딩\n",
    "\n",
    "### 답안 제출 참고\n",
    "- 아래 코드 예측변수와 수험번호를 개인별로 변경하여 활용\n",
    "- pd.DataFrame({'cust_id': X_test.cust_id, 'gender': pred}).to_csv('003000000.csv', index=False)"
   ]
  },
  {
   "cell_type": "code",
   "execution_count": 1,
   "id": "f702e369",
   "metadata": {
    "_cell_guid": "b1076dfc-b9ad-4769-8c92-a6c4dae69d19",
    "_uuid": "8f2839f25d086af736a60e9eeb907d3b93b6e0e5",
    "execution": {
     "iopub.execute_input": "2023-06-11T11:28:45.366320Z",
     "iopub.status.busy": "2023-06-11T11:28:45.364305Z",
     "iopub.status.idle": "2023-06-11T11:28:46.465774Z",
     "shell.execute_reply": "2023-06-11T11:28:46.466381Z",
     "shell.execute_reply.started": "2023-06-11T11:23:03.473162Z"
    },
    "papermill": {
     "duration": 1.134318,
     "end_time": "2023-06-11T11:28:46.466790",
     "exception": false,
     "start_time": "2023-06-11T11:28:45.332472",
     "status": "completed"
    },
    "tags": []
   },
   "outputs": [
    {
     "data": {
      "text/plain": [
       "((614, 9), (154, 9), (614, 2), (154, 2))"
      ]
     },
     "execution_count": 1,
     "metadata": {},
     "output_type": "execute_result"
    }
   ],
   "source": [
    "# 시험환경 세팅 (코드 변경 X)\n",
    "import pandas as pd\n",
    "import numpy as np\n",
    "from sklearn.model_selection import train_test_split\n",
    "\n",
    "def exam_data_load(df, target, id_name=\"\", null_name=\"\"):\n",
    "    if id_name == \"\":\n",
    "        df = df.reset_index().rename(columns={\"index\": \"id\"})\n",
    "        id_name = 'id'\n",
    "    else:\n",
    "        id_name = id_name\n",
    "    \n",
    "    if null_name != \"\":\n",
    "        df[df == null_name] = np.nan\n",
    "    \n",
    "    X_train, X_test = train_test_split(df, test_size=0.2, random_state=2021)\n",
    "    \n",
    "    y_train = X_train[[id_name, target]]\n",
    "    X_train = X_train.drop(columns=[target])\n",
    "\n",
    "    \n",
    "    y_test = X_test[[id_name, target]]\n",
    "    X_test = X_test.drop(columns=[target])\n",
    "    return X_train, X_test, y_train, y_test \n",
    "    \n",
    "df = pd.read_csv(\"../input/pima-indians-diabetes-database/diabetes.csv\")\n",
    "X_train, X_test, y_train, y_test = exam_data_load(df, target='Outcome')\n",
    "\n",
    "X_train.shape, X_test.shape, y_train.shape, y_test.shape"
   ]
  },
  {
   "cell_type": "markdown",
   "id": "1133cb21",
   "metadata": {
    "papermill": {
     "duration": 0.027538,
     "end_time": "2023-06-11T11:28:46.522197",
     "exception": false,
     "start_time": "2023-06-11T11:28:46.494659",
     "status": "completed"
    },
    "tags": []
   },
   "source": [
    "## Start"
   ]
  },
  {
   "cell_type": "markdown",
   "id": "d4c1d841",
   "metadata": {
    "papermill": {
     "duration": 0.027305,
     "end_time": "2023-06-11T11:28:46.577548",
     "exception": false,
     "start_time": "2023-06-11T11:28:46.550243",
     "status": "completed"
    },
    "tags": []
   },
   "source": [
    "## 라이브러리 및 데이터 불러오기"
   ]
  },
  {
   "cell_type": "code",
   "execution_count": 2,
   "id": "92d30da1",
   "metadata": {
    "execution": {
     "iopub.execute_input": "2023-06-11T11:28:46.638671Z",
     "iopub.status.busy": "2023-06-11T11:28:46.637468Z",
     "iopub.status.idle": "2023-06-11T11:28:46.641585Z",
     "shell.execute_reply": "2023-06-11T11:28:46.642154Z",
     "shell.execute_reply.started": "2023-06-11T11:23:03.502286Z"
    },
    "papermill": {
     "duration": 0.037537,
     "end_time": "2023-06-11T11:28:46.642391",
     "exception": false,
     "start_time": "2023-06-11T11:28:46.604854",
     "status": "completed"
    },
    "tags": []
   },
   "outputs": [],
   "source": [
    "# 라이브러리\n",
    "import pandas as pd"
   ]
  },
  {
   "cell_type": "code",
   "execution_count": 3,
   "id": "a14c596b",
   "metadata": {
    "execution": {
     "iopub.execute_input": "2023-06-11T11:28:46.703681Z",
     "iopub.status.busy": "2023-06-11T11:28:46.702881Z",
     "iopub.status.idle": "2023-06-11T11:28:46.707430Z",
     "shell.execute_reply": "2023-06-11T11:28:46.708033Z",
     "shell.execute_reply.started": "2023-06-11T11:23:03.508154Z"
    },
    "papermill": {
     "duration": 0.038578,
     "end_time": "2023-06-11T11:28:46.708226",
     "exception": false,
     "start_time": "2023-06-11T11:28:46.669648",
     "status": "completed"
    },
    "tags": []
   },
   "outputs": [
    {
     "data": {
      "text/plain": [
       "((614, 9), (614, 2), (154, 9))"
      ]
     },
     "execution_count": 3,
     "metadata": {},
     "output_type": "execute_result"
    }
   ],
   "source": [
    "# 데이터 불러오기 (생략)\n",
    "X_train.shape, y_train.shape, X_test.shape"
   ]
  },
  {
   "cell_type": "markdown",
   "id": "850368dd",
   "metadata": {
    "papermill": {
     "duration": 0.02867,
     "end_time": "2023-06-11T11:28:46.765418",
     "exception": false,
     "start_time": "2023-06-11T11:28:46.736748",
     "status": "completed"
    },
    "tags": []
   },
   "source": [
    "## EDA"
   ]
  },
  {
   "cell_type": "code",
   "execution_count": 4,
   "id": "cb8da739",
   "metadata": {
    "execution": {
     "iopub.execute_input": "2023-06-11T11:28:46.825193Z",
     "iopub.status.busy": "2023-06-11T11:28:46.824410Z",
     "iopub.status.idle": "2023-06-11T11:28:46.845702Z",
     "shell.execute_reply": "2023-06-11T11:28:46.844963Z",
     "shell.execute_reply.started": "2023-06-11T11:23:03.521874Z"
    },
    "papermill": {
     "duration": 0.052921,
     "end_time": "2023-06-11T11:28:46.845860",
     "exception": false,
     "start_time": "2023-06-11T11:28:46.792939",
     "status": "completed"
    },
    "tags": []
   },
   "outputs": [
    {
     "data": {
      "text/html": [
       "<div>\n",
       "<style scoped>\n",
       "    .dataframe tbody tr th:only-of-type {\n",
       "        vertical-align: middle;\n",
       "    }\n",
       "\n",
       "    .dataframe tbody tr th {\n",
       "        vertical-align: top;\n",
       "    }\n",
       "\n",
       "    .dataframe thead th {\n",
       "        text-align: right;\n",
       "    }\n",
       "</style>\n",
       "<table border=\"1\" class=\"dataframe\">\n",
       "  <thead>\n",
       "    <tr style=\"text-align: right;\">\n",
       "      <th></th>\n",
       "      <th>id</th>\n",
       "      <th>Pregnancies</th>\n",
       "      <th>Glucose</th>\n",
       "      <th>BloodPressure</th>\n",
       "      <th>SkinThickness</th>\n",
       "      <th>Insulin</th>\n",
       "      <th>BMI</th>\n",
       "      <th>DiabetesPedigreeFunction</th>\n",
       "      <th>Age</th>\n",
       "    </tr>\n",
       "  </thead>\n",
       "  <tbody>\n",
       "    <tr>\n",
       "      <th>147</th>\n",
       "      <td>147</td>\n",
       "      <td>2</td>\n",
       "      <td>106</td>\n",
       "      <td>64</td>\n",
       "      <td>35</td>\n",
       "      <td>119</td>\n",
       "      <td>30.5</td>\n",
       "      <td>1.400</td>\n",
       "      <td>34</td>\n",
       "    </tr>\n",
       "    <tr>\n",
       "      <th>344</th>\n",
       "      <td>344</td>\n",
       "      <td>8</td>\n",
       "      <td>95</td>\n",
       "      <td>72</td>\n",
       "      <td>0</td>\n",
       "      <td>0</td>\n",
       "      <td>36.8</td>\n",
       "      <td>0.485</td>\n",
       "      <td>57</td>\n",
       "    </tr>\n",
       "    <tr>\n",
       "      <th>390</th>\n",
       "      <td>390</td>\n",
       "      <td>1</td>\n",
       "      <td>100</td>\n",
       "      <td>66</td>\n",
       "      <td>29</td>\n",
       "      <td>196</td>\n",
       "      <td>32.0</td>\n",
       "      <td>0.444</td>\n",
       "      <td>42</td>\n",
       "    </tr>\n",
       "    <tr>\n",
       "      <th>150</th>\n",
       "      <td>150</td>\n",
       "      <td>1</td>\n",
       "      <td>136</td>\n",
       "      <td>74</td>\n",
       "      <td>50</td>\n",
       "      <td>204</td>\n",
       "      <td>37.4</td>\n",
       "      <td>0.399</td>\n",
       "      <td>24</td>\n",
       "    </tr>\n",
       "    <tr>\n",
       "      <th>132</th>\n",
       "      <td>132</td>\n",
       "      <td>3</td>\n",
       "      <td>170</td>\n",
       "      <td>64</td>\n",
       "      <td>37</td>\n",
       "      <td>225</td>\n",
       "      <td>34.5</td>\n",
       "      <td>0.356</td>\n",
       "      <td>30</td>\n",
       "    </tr>\n",
       "  </tbody>\n",
       "</table>\n",
       "</div>"
      ],
      "text/plain": [
       "      id  Pregnancies  Glucose  BloodPressure  SkinThickness  Insulin   BMI  \\\n",
       "147  147            2      106             64             35      119  30.5   \n",
       "344  344            8       95             72              0        0  36.8   \n",
       "390  390            1      100             66             29      196  32.0   \n",
       "150  150            1      136             74             50      204  37.4   \n",
       "132  132            3      170             64             37      225  34.5   \n",
       "\n",
       "     DiabetesPedigreeFunction  Age  \n",
       "147                     1.400   34  \n",
       "344                     0.485   57  \n",
       "390                     0.444   42  \n",
       "150                     0.399   24  \n",
       "132                     0.356   30  "
      ]
     },
     "execution_count": 4,
     "metadata": {},
     "output_type": "execute_result"
    }
   ],
   "source": [
    "X_train.head()"
   ]
  },
  {
   "cell_type": "code",
   "execution_count": 5,
   "id": "3d245dfc",
   "metadata": {
    "execution": {
     "iopub.execute_input": "2023-06-11T11:28:46.910656Z",
     "iopub.status.busy": "2023-06-11T11:28:46.909886Z",
     "iopub.status.idle": "2023-06-11T11:28:46.925231Z",
     "shell.execute_reply": "2023-06-11T11:28:46.925856Z",
     "shell.execute_reply.started": "2023-06-11T11:23:03.543259Z"
    },
    "papermill": {
     "duration": 0.050843,
     "end_time": "2023-06-11T11:28:46.926052",
     "exception": false,
     "start_time": "2023-06-11T11:28:46.875209",
     "status": "completed"
    },
    "tags": []
   },
   "outputs": [
    {
     "data": {
      "text/plain": [
       "id   Outcome\n",
       "0    1          1\n",
       "514  0          1\n",
       "504  0          1\n",
       "506  1          1\n",
       "507  0          1\n",
       "               ..\n",
       "265  0          1\n",
       "266  1          1\n",
       "267  0          1\n",
       "268  0          1\n",
       "766  1          1\n",
       "Length: 614, dtype: int64"
      ]
     },
     "execution_count": 5,
     "metadata": {},
     "output_type": "execute_result"
    }
   ],
   "source": [
    "y_train.value_counts()"
   ]
  },
  {
   "cell_type": "code",
   "execution_count": 6,
   "id": "464ed85b",
   "metadata": {
    "execution": {
     "iopub.execute_input": "2023-06-11T11:28:46.996194Z",
     "iopub.status.busy": "2023-06-11T11:28:46.986517Z",
     "iopub.status.idle": "2023-06-11T11:28:47.004699Z",
     "shell.execute_reply": "2023-06-11T11:28:47.005310Z",
     "shell.execute_reply.started": "2023-06-11T11:23:03.558328Z"
    },
    "papermill": {
     "duration": 0.051203,
     "end_time": "2023-06-11T11:28:47.005535",
     "exception": false,
     "start_time": "2023-06-11T11:28:46.954332",
     "status": "completed"
    },
    "tags": []
   },
   "outputs": [
    {
     "name": "stdout",
     "output_type": "stream",
     "text": [
      "<class 'pandas.core.frame.DataFrame'>\n",
      "Int64Index: 614 entries, 147 to 116\n",
      "Data columns (total 9 columns):\n",
      " #   Column                    Non-Null Count  Dtype  \n",
      "---  ------                    --------------  -----  \n",
      " 0   id                        614 non-null    int64  \n",
      " 1   Pregnancies               614 non-null    int64  \n",
      " 2   Glucose                   614 non-null    int64  \n",
      " 3   BloodPressure             614 non-null    int64  \n",
      " 4   SkinThickness             614 non-null    int64  \n",
      " 5   Insulin                   614 non-null    int64  \n",
      " 6   BMI                       614 non-null    float64\n",
      " 7   DiabetesPedigreeFunction  614 non-null    float64\n",
      " 8   Age                       614 non-null    int64  \n",
      "dtypes: float64(2), int64(7)\n",
      "memory usage: 48.0 KB\n"
     ]
    }
   ],
   "source": [
    "X_train.info()"
   ]
  },
  {
   "cell_type": "code",
   "execution_count": 7,
   "id": "d0b55844",
   "metadata": {
    "execution": {
     "iopub.execute_input": "2023-06-11T11:28:47.071695Z",
     "iopub.status.busy": "2023-06-11T11:28:47.070890Z",
     "iopub.status.idle": "2023-06-11T11:28:47.079693Z",
     "shell.execute_reply": "2023-06-11T11:28:47.079076Z",
     "shell.execute_reply.started": "2023-06-11T11:23:03.572788Z"
    },
    "papermill": {
     "duration": 0.044694,
     "end_time": "2023-06-11T11:28:47.079885",
     "exception": false,
     "start_time": "2023-06-11T11:28:47.035191",
     "status": "completed"
    },
    "tags": []
   },
   "outputs": [
    {
     "data": {
      "text/plain": [
       "id                          0\n",
       "Pregnancies                 0\n",
       "Glucose                     0\n",
       "BloodPressure               0\n",
       "SkinThickness               0\n",
       "Insulin                     0\n",
       "BMI                         0\n",
       "DiabetesPedigreeFunction    0\n",
       "Age                         0\n",
       "dtype: int64"
      ]
     },
     "execution_count": 7,
     "metadata": {},
     "output_type": "execute_result"
    }
   ],
   "source": [
    "X_train.isnull().sum()"
   ]
  },
  {
   "cell_type": "code",
   "execution_count": 8,
   "id": "4e075656",
   "metadata": {
    "execution": {
     "iopub.execute_input": "2023-06-11T11:28:47.149452Z",
     "iopub.status.busy": "2023-06-11T11:28:47.148605Z",
     "iopub.status.idle": "2023-06-11T11:28:47.153790Z",
     "shell.execute_reply": "2023-06-11T11:28:47.153027Z",
     "shell.execute_reply.started": "2023-06-11T11:23:03.584096Z"
    },
    "papermill": {
     "duration": 0.044064,
     "end_time": "2023-06-11T11:28:47.153973",
     "exception": false,
     "start_time": "2023-06-11T11:28:47.109909",
     "status": "completed"
    },
    "tags": []
   },
   "outputs": [
    {
     "data": {
      "text/plain": [
       "id                          0\n",
       "Pregnancies                 0\n",
       "Glucose                     0\n",
       "BloodPressure               0\n",
       "SkinThickness               0\n",
       "Insulin                     0\n",
       "BMI                         0\n",
       "DiabetesPedigreeFunction    0\n",
       "Age                         0\n",
       "dtype: int64"
      ]
     },
     "execution_count": 8,
     "metadata": {},
     "output_type": "execute_result"
    }
   ],
   "source": [
    "X_test.isnull().sum()"
   ]
  },
  {
   "cell_type": "code",
   "execution_count": 9,
   "id": "47c17835",
   "metadata": {
    "execution": {
     "iopub.execute_input": "2023-06-11T11:28:47.222923Z",
     "iopub.status.busy": "2023-06-11T11:28:47.221843Z",
     "iopub.status.idle": "2023-06-11T11:28:47.259238Z",
     "shell.execute_reply": "2023-06-11T11:28:47.258097Z",
     "shell.execute_reply.started": "2023-06-11T11:23:03.597772Z"
    },
    "papermill": {
     "duration": 0.075487,
     "end_time": "2023-06-11T11:28:47.259431",
     "exception": false,
     "start_time": "2023-06-11T11:28:47.183944",
     "status": "completed"
    },
    "tags": []
   },
   "outputs": [
    {
     "data": {
      "text/html": [
       "<div>\n",
       "<style scoped>\n",
       "    .dataframe tbody tr th:only-of-type {\n",
       "        vertical-align: middle;\n",
       "    }\n",
       "\n",
       "    .dataframe tbody tr th {\n",
       "        vertical-align: top;\n",
       "    }\n",
       "\n",
       "    .dataframe thead th {\n",
       "        text-align: right;\n",
       "    }\n",
       "</style>\n",
       "<table border=\"1\" class=\"dataframe\">\n",
       "  <thead>\n",
       "    <tr style=\"text-align: right;\">\n",
       "      <th></th>\n",
       "      <th>id</th>\n",
       "      <th>Pregnancies</th>\n",
       "      <th>Glucose</th>\n",
       "      <th>BloodPressure</th>\n",
       "      <th>SkinThickness</th>\n",
       "      <th>Insulin</th>\n",
       "      <th>BMI</th>\n",
       "      <th>DiabetesPedigreeFunction</th>\n",
       "      <th>Age</th>\n",
       "    </tr>\n",
       "  </thead>\n",
       "  <tbody>\n",
       "    <tr>\n",
       "      <th>count</th>\n",
       "      <td>614.000000</td>\n",
       "      <td>614.000000</td>\n",
       "      <td>614.000000</td>\n",
       "      <td>614.000000</td>\n",
       "      <td>614.000000</td>\n",
       "      <td>614.000000</td>\n",
       "      <td>614.000000</td>\n",
       "      <td>614.000000</td>\n",
       "      <td>614.000000</td>\n",
       "    </tr>\n",
       "    <tr>\n",
       "      <th>mean</th>\n",
       "      <td>386.978827</td>\n",
       "      <td>3.845277</td>\n",
       "      <td>120.705212</td>\n",
       "      <td>68.530945</td>\n",
       "      <td>20.982085</td>\n",
       "      <td>82.229642</td>\n",
       "      <td>31.948534</td>\n",
       "      <td>0.477471</td>\n",
       "      <td>33.319218</td>\n",
       "    </tr>\n",
       "    <tr>\n",
       "      <th>std</th>\n",
       "      <td>219.881344</td>\n",
       "      <td>3.388952</td>\n",
       "      <td>32.047977</td>\n",
       "      <td>19.761915</td>\n",
       "      <td>15.965031</td>\n",
       "      <td>116.525772</td>\n",
       "      <td>7.734385</td>\n",
       "      <td>0.339811</td>\n",
       "      <td>11.940953</td>\n",
       "    </tr>\n",
       "    <tr>\n",
       "      <th>min</th>\n",
       "      <td>0.000000</td>\n",
       "      <td>0.000000</td>\n",
       "      <td>0.000000</td>\n",
       "      <td>0.000000</td>\n",
       "      <td>0.000000</td>\n",
       "      <td>0.000000</td>\n",
       "      <td>0.000000</td>\n",
       "      <td>0.078000</td>\n",
       "      <td>21.000000</td>\n",
       "    </tr>\n",
       "    <tr>\n",
       "      <th>25%</th>\n",
       "      <td>196.500000</td>\n",
       "      <td>1.000000</td>\n",
       "      <td>99.000000</td>\n",
       "      <td>62.000000</td>\n",
       "      <td>0.000000</td>\n",
       "      <td>0.000000</td>\n",
       "      <td>27.400000</td>\n",
       "      <td>0.244250</td>\n",
       "      <td>24.000000</td>\n",
       "    </tr>\n",
       "    <tr>\n",
       "      <th>50%</th>\n",
       "      <td>388.000000</td>\n",
       "      <td>3.000000</td>\n",
       "      <td>117.000000</td>\n",
       "      <td>72.000000</td>\n",
       "      <td>23.000000</td>\n",
       "      <td>44.000000</td>\n",
       "      <td>32.250000</td>\n",
       "      <td>0.377000</td>\n",
       "      <td>29.000000</td>\n",
       "    </tr>\n",
       "    <tr>\n",
       "      <th>75%</th>\n",
       "      <td>575.750000</td>\n",
       "      <td>6.000000</td>\n",
       "      <td>140.000000</td>\n",
       "      <td>80.000000</td>\n",
       "      <td>33.000000</td>\n",
       "      <td>130.000000</td>\n",
       "      <td>36.600000</td>\n",
       "      <td>0.628500</td>\n",
       "      <td>41.000000</td>\n",
       "    </tr>\n",
       "    <tr>\n",
       "      <th>max</th>\n",
       "      <td>766.000000</td>\n",
       "      <td>17.000000</td>\n",
       "      <td>199.000000</td>\n",
       "      <td>114.000000</td>\n",
       "      <td>99.000000</td>\n",
       "      <td>846.000000</td>\n",
       "      <td>59.400000</td>\n",
       "      <td>2.420000</td>\n",
       "      <td>81.000000</td>\n",
       "    </tr>\n",
       "  </tbody>\n",
       "</table>\n",
       "</div>"
      ],
      "text/plain": [
       "               id  Pregnancies     Glucose  BloodPressure  SkinThickness  \\\n",
       "count  614.000000   614.000000  614.000000     614.000000     614.000000   \n",
       "mean   386.978827     3.845277  120.705212      68.530945      20.982085   \n",
       "std    219.881344     3.388952   32.047977      19.761915      15.965031   \n",
       "min      0.000000     0.000000    0.000000       0.000000       0.000000   \n",
       "25%    196.500000     1.000000   99.000000      62.000000       0.000000   \n",
       "50%    388.000000     3.000000  117.000000      72.000000      23.000000   \n",
       "75%    575.750000     6.000000  140.000000      80.000000      33.000000   \n",
       "max    766.000000    17.000000  199.000000     114.000000      99.000000   \n",
       "\n",
       "          Insulin         BMI  DiabetesPedigreeFunction         Age  \n",
       "count  614.000000  614.000000                614.000000  614.000000  \n",
       "mean    82.229642   31.948534                  0.477471   33.319218  \n",
       "std    116.525772    7.734385                  0.339811   11.940953  \n",
       "min      0.000000    0.000000                  0.078000   21.000000  \n",
       "25%      0.000000   27.400000                  0.244250   24.000000  \n",
       "50%     44.000000   32.250000                  0.377000   29.000000  \n",
       "75%    130.000000   36.600000                  0.628500   41.000000  \n",
       "max    846.000000   59.400000                  2.420000   81.000000  "
      ]
     },
     "execution_count": 9,
     "metadata": {},
     "output_type": "execute_result"
    }
   ],
   "source": [
    "X_train.describe()"
   ]
  },
  {
   "cell_type": "markdown",
   "id": "39bfbb27",
   "metadata": {
    "papermill": {
     "duration": 0.031219,
     "end_time": "2023-06-11T11:28:47.322665",
     "exception": false,
     "start_time": "2023-06-11T11:28:47.291446",
     "status": "completed"
    },
    "tags": []
   },
   "source": [
    "## 데이터 전처리"
   ]
  },
  {
   "cell_type": "code",
   "execution_count": 10,
   "id": "25f53a13",
   "metadata": {
    "execution": {
     "iopub.execute_input": "2023-06-11T11:28:47.395171Z",
     "iopub.status.busy": "2023-06-11T11:28:47.393628Z",
     "iopub.status.idle": "2023-06-11T11:28:47.400935Z",
     "shell.execute_reply": "2023-06-11T11:28:47.400110Z",
     "shell.execute_reply.started": "2023-06-11T11:23:03.643028Z"
    },
    "papermill": {
     "duration": 0.047719,
     "end_time": "2023-06-11T11:28:47.401123",
     "exception": false,
     "start_time": "2023-06-11T11:28:47.353404",
     "status": "completed"
    },
    "tags": []
   },
   "outputs": [
    {
     "name": "stdout",
     "output_type": "stream",
     "text": [
      "Glucose: 5\n",
      "BloodPressure: 31\n",
      "SkinThickness: 175\n",
      "Insulin: 287\n",
      "BMI: 9\n"
     ]
    }
   ],
   "source": [
    "#이상치 처리\n",
    "#Train\n",
    "print('Glucose:',len(X_train[X_train['Glucose']==0]))\n",
    "print('BloodPressure:',len(X_train[X_train['BloodPressure']==0]))\n",
    "print('SkinThickness:',len(X_train[X_train['SkinThickness']==0]))\n",
    "print('Insulin:',len(X_train[X_train['Insulin']==0]))\n",
    "print('BMI:',len(X_train[X_train['BMI']==0]))"
   ]
  },
  {
   "cell_type": "code",
   "execution_count": 11,
   "id": "0fabc499",
   "metadata": {
    "execution": {
     "iopub.execute_input": "2023-06-11T11:28:47.477394Z",
     "iopub.status.busy": "2023-06-11T11:28:47.476178Z",
     "iopub.status.idle": "2023-06-11T11:28:47.481875Z",
     "shell.execute_reply": "2023-06-11T11:28:47.481078Z",
     "shell.execute_reply.started": "2023-06-11T11:23:03.656731Z"
    },
    "papermill": {
     "duration": 0.048869,
     "end_time": "2023-06-11T11:28:47.482054",
     "exception": false,
     "start_time": "2023-06-11T11:28:47.433185",
     "status": "completed"
    },
    "tags": []
   },
   "outputs": [
    {
     "name": "stdout",
     "output_type": "stream",
     "text": [
      "Glucose: 0\n",
      "BloodPressure: 4\n",
      "SkinThickness: 52\n",
      "Insulin: 87\n",
      "BMI: 2\n"
     ]
    }
   ],
   "source": [
    "#Test\n",
    "print('Glucose:',len(X_test[X_test['Glucose']==0]))\n",
    "print('BloodPressure:',len(X_test[X_test['BloodPressure']==0]))\n",
    "print('SkinThickness:',len(X_test[X_test['SkinThickness']==0]))\n",
    "print('Insulin:',len(X_test[X_test['Insulin']==0]))\n",
    "print('BMI:',len(X_test[X_test['BMI']==0]))"
   ]
  },
  {
   "cell_type": "markdown",
   "id": "4c8f88da",
   "metadata": {
    "papermill": {
     "duration": 0.033019,
     "end_time": "2023-06-11T11:28:47.546797",
     "exception": false,
     "start_time": "2023-06-11T11:28:47.513778",
     "status": "completed"
    },
    "tags": []
   },
   "source": [
    "트레인에만 0이 있는 포도당(Glucose)는 삭제\n",
    "나머지는 평균값으로 대체 하여 이상치를 처리함"
   ]
  },
  {
   "cell_type": "code",
   "execution_count": 12,
   "id": "d0395307",
   "metadata": {
    "execution": {
     "iopub.execute_input": "2023-06-11T11:28:47.614221Z",
     "iopub.status.busy": "2023-06-11T11:28:47.613435Z",
     "iopub.status.idle": "2023-06-11T11:28:47.621164Z",
     "shell.execute_reply": "2023-06-11T11:28:47.620414Z",
     "shell.execute_reply.started": "2023-06-11T11:23:03.672013Z"
    },
    "papermill": {
     "duration": 0.042913,
     "end_time": "2023-06-11T11:28:47.621335",
     "exception": false,
     "start_time": "2023-06-11T11:28:47.578422",
     "status": "completed"
    },
    "tags": []
   },
   "outputs": [
    {
     "data": {
      "text/plain": [
       "Int64Index([182, 75, 342, 502, 349], dtype='int64')"
      ]
     },
     "execution_count": 12,
     "metadata": {},
     "output_type": "execute_result"
    }
   ],
   "source": [
    "# 포도당 이상치 삭제\n",
    "del_idx = X_train[(X_train['Glucose']==0)].index\n",
    "del_idx"
   ]
  },
  {
   "cell_type": "code",
   "execution_count": 13,
   "id": "bdbd55b4",
   "metadata": {
    "execution": {
     "iopub.execute_input": "2023-06-11T11:28:47.695812Z",
     "iopub.status.busy": "2023-06-11T11:28:47.694402Z",
     "iopub.status.idle": "2023-06-11T11:28:47.699765Z",
     "shell.execute_reply": "2023-06-11T11:28:47.699135Z",
     "shell.execute_reply.started": "2023-06-11T11:23:03.726287Z"
    },
    "papermill": {
     "duration": 0.046224,
     "end_time": "2023-06-11T11:28:47.699949",
     "exception": false,
     "start_time": "2023-06-11T11:28:47.653725",
     "status": "completed"
    },
    "tags": []
   },
   "outputs": [
    {
     "name": "stdout",
     "output_type": "stream",
     "text": [
      "Glucose 이상치 삭제 전 : (614, 9) (614, 2)\n",
      "Glucose 이상치 삭제 후 : (609, 9) (609, 2)\n"
     ]
    }
   ],
   "source": [
    "print('Glucose 이상치 삭제 전 :', X_train.shape, y_train.shape)\n",
    "X_train = X_train.drop(index=del_idx, axis=0)\n",
    "y_train = y_train.drop(index=del_idx, axis=0)\n",
    "print('Glucose 이상치 삭제 후 :', X_train.shape, y_train.shape)"
   ]
  },
  {
   "cell_type": "code",
   "execution_count": 14,
   "id": "d2173141",
   "metadata": {
    "execution": {
     "iopub.execute_input": "2023-06-11T11:28:47.776996Z",
     "iopub.status.busy": "2023-06-11T11:28:47.773981Z",
     "iopub.status.idle": "2023-06-11T11:28:47.784494Z",
     "shell.execute_reply": "2023-06-11T11:28:47.783746Z",
     "shell.execute_reply.started": "2023-06-11T11:23:03.739180Z"
    },
    "papermill": {
     "duration": 0.05221,
     "end_time": "2023-06-11T11:28:47.784683",
     "exception": false,
     "start_time": "2023-06-11T11:28:47.732473",
     "status": "completed"
    },
    "tags": []
   },
   "outputs": [],
   "source": [
    "# 포도당을 제외한 이상치, 평균값으로 대체\n",
    "cols = ['BloodPressure', 'SkinThickness', 'Insulin', 'BMI']\n",
    "cols_mean = X_train[cols].mean()\n",
    "X_train.loc[:, cols].replace(0, cols_mean, inplace=True)\n",
    "# 또는 X_train[cols] = X_train[cols].replace(0, cols_mean)"
   ]
  },
  {
   "cell_type": "code",
   "execution_count": 15,
   "id": "42c40092",
   "metadata": {
    "execution": {
     "iopub.execute_input": "2023-06-11T11:28:47.863765Z",
     "iopub.status.busy": "2023-06-11T11:28:47.862560Z",
     "iopub.status.idle": "2023-06-11T11:28:47.877968Z",
     "shell.execute_reply": "2023-06-11T11:28:47.877009Z",
     "shell.execute_reply.started": "2023-06-11T11:23:03.760513Z"
    },
    "papermill": {
     "duration": 0.060759,
     "end_time": "2023-06-11T11:28:47.878166",
     "exception": false,
     "start_time": "2023-06-11T11:28:47.817407",
     "status": "completed"
    },
    "tags": []
   },
   "outputs": [],
   "source": [
    "# 스케일링\n",
    "from sklearn.preprocessing import StandardScaler\n",
    "scaler = StandardScaler()\n",
    "cols = ['Pregnancies','Glucose','BloodPressure','SkinThickness','Insulin','BMI','DiabetesPedigreeFunction','Age']\n",
    "X_train[cols] = scaler.fit_transform(X_train[cols])\n",
    "X_test[cols] = scaler.fit_transform(X_test[cols])"
   ]
  },
  {
   "cell_type": "code",
   "execution_count": 16,
   "id": "170da0d0",
   "metadata": {
    "execution": {
     "iopub.execute_input": "2023-06-11T11:28:47.955257Z",
     "iopub.status.busy": "2023-06-11T11:28:47.954180Z",
     "iopub.status.idle": "2023-06-11T11:28:47.959059Z",
     "shell.execute_reply": "2023-06-11T11:28:47.958236Z",
     "shell.execute_reply.started": "2023-06-11T11:23:03.781611Z"
    },
    "papermill": {
     "duration": 0.047277,
     "end_time": "2023-06-11T11:28:47.959260",
     "exception": false,
     "start_time": "2023-06-11T11:28:47.911983",
     "status": "completed"
    },
    "tags": []
   },
   "outputs": [],
   "source": [
    "# id 제외\n",
    "X = X_train.drop('id',axis=1)\n",
    "test = X_test.drop('id',axis=1)"
   ]
  },
  {
   "cell_type": "code",
   "execution_count": 17,
   "id": "4592d8e3",
   "metadata": {
    "execution": {
     "iopub.execute_input": "2023-06-11T11:28:48.033765Z",
     "iopub.status.busy": "2023-06-11T11:28:48.032947Z",
     "iopub.status.idle": "2023-06-11T11:28:48.136788Z",
     "shell.execute_reply": "2023-06-11T11:28:48.137376Z",
     "shell.execute_reply.started": "2023-06-11T11:23:03.792911Z"
    },
    "papermill": {
     "duration": 0.145617,
     "end_time": "2023-06-11T11:28:48.137677",
     "exception": false,
     "start_time": "2023-06-11T11:28:47.992060",
     "status": "completed"
    },
    "tags": []
   },
   "outputs": [],
   "source": [
    "from sklearn.svm import SVC\n",
    "model = SVC(random_state=2022)\n",
    "model.fit(X, y_train['Outcome'])\n",
    "predictions = model.predict(test)"
   ]
  },
  {
   "cell_type": "code",
   "execution_count": 18,
   "id": "de88ae27",
   "metadata": {
    "execution": {
     "iopub.execute_input": "2023-06-11T11:28:48.208153Z",
     "iopub.status.busy": "2023-06-11T11:28:48.207301Z",
     "iopub.status.idle": "2023-06-11T11:28:48.223462Z",
     "shell.execute_reply": "2023-06-11T11:28:48.224086Z",
     "shell.execute_reply.started": "2023-06-11T11:23:03.819041Z"
    },
    "papermill": {
     "duration": 0.053383,
     "end_time": "2023-06-11T11:28:48.224309",
     "exception": false,
     "start_time": "2023-06-11T11:28:48.170926",
     "status": "completed"
    },
    "tags": []
   },
   "outputs": [
    {
     "data": {
      "text/plain": [
       "83.42"
      ]
     },
     "execution_count": 18,
     "metadata": {},
     "output_type": "execute_result"
    }
   ],
   "source": [
    "# 오버피팅 되었을 경우에 점수가 잘나올 수 있음 (객관적인 평가 아님, 밸리데이션 데이터로 평가 필요함)\n",
    "round(model.score(X, y_train['Outcome']) * 100, 2) "
   ]
  },
  {
   "cell_type": "code",
   "execution_count": 19,
   "id": "8559d52a",
   "metadata": {
    "execution": {
     "iopub.execute_input": "2023-06-11T11:28:48.296233Z",
     "iopub.status.busy": "2023-06-11T11:28:48.295159Z",
     "iopub.status.idle": "2023-06-11T11:28:48.306326Z",
     "shell.execute_reply": "2023-06-11T11:28:48.307072Z",
     "shell.execute_reply.started": "2023-06-11T11:23:03.839168Z"
    },
    "papermill": {
     "duration": 0.049786,
     "end_time": "2023-06-11T11:28:48.307332",
     "exception": false,
     "start_time": "2023-06-11T11:28:48.257546",
     "status": "completed"
    },
    "tags": []
   },
   "outputs": [
    {
     "data": {
      "text/html": [
       "<div>\n",
       "<style scoped>\n",
       "    .dataframe tbody tr th:only-of-type {\n",
       "        vertical-align: middle;\n",
       "    }\n",
       "\n",
       "    .dataframe tbody tr th {\n",
       "        vertical-align: top;\n",
       "    }\n",
       "\n",
       "    .dataframe thead th {\n",
       "        text-align: right;\n",
       "    }\n",
       "</style>\n",
       "<table border=\"1\" class=\"dataframe\">\n",
       "  <thead>\n",
       "    <tr style=\"text-align: right;\">\n",
       "      <th></th>\n",
       "      <th>idx</th>\n",
       "      <th>Outcome</th>\n",
       "    </tr>\n",
       "  </thead>\n",
       "  <tbody>\n",
       "    <tr>\n",
       "      <th>0</th>\n",
       "      <td>258</td>\n",
       "      <td>1</td>\n",
       "    </tr>\n",
       "    <tr>\n",
       "      <th>1</th>\n",
       "      <td>220</td>\n",
       "      <td>1</td>\n",
       "    </tr>\n",
       "    <tr>\n",
       "      <th>2</th>\n",
       "      <td>438</td>\n",
       "      <td>0</td>\n",
       "    </tr>\n",
       "    <tr>\n",
       "      <th>3</th>\n",
       "      <td>130</td>\n",
       "      <td>1</td>\n",
       "    </tr>\n",
       "    <tr>\n",
       "      <th>4</th>\n",
       "      <td>730</td>\n",
       "      <td>0</td>\n",
       "    </tr>\n",
       "  </tbody>\n",
       "</table>\n",
       "</div>"
      ],
      "text/plain": [
       "   idx  Outcome\n",
       "0  258        1\n",
       "1  220        1\n",
       "2  438        0\n",
       "3  130        1\n",
       "4  730        0"
      ]
     },
     "execution_count": 19,
     "metadata": {},
     "output_type": "execute_result"
    }
   ],
   "source": [
    "output = pd.DataFrame({'idx': X_test.index, 'Outcome': predictions})\n",
    "output.head()"
   ]
  },
  {
   "cell_type": "code",
   "execution_count": 20,
   "id": "ca2d6dc6",
   "metadata": {
    "execution": {
     "iopub.execute_input": "2023-06-11T11:28:48.381555Z",
     "iopub.status.busy": "2023-06-11T11:28:48.380767Z",
     "iopub.status.idle": "2023-06-11T11:28:48.388206Z",
     "shell.execute_reply": "2023-06-11T11:28:48.388849Z",
     "shell.execute_reply.started": "2023-06-11T11:23:03.851507Z"
    },
    "papermill": {
     "duration": 0.047763,
     "end_time": "2023-06-11T11:28:48.389088",
     "exception": false,
     "start_time": "2023-06-11T11:28:48.341325",
     "status": "completed"
    },
    "tags": []
   },
   "outputs": [],
   "source": [
    "# 수험번호.csv로 출력\n",
    "output.to_csv('1234567.csv', index=False)"
   ]
  },
  {
   "cell_type": "markdown",
   "id": "c41e4c16",
   "metadata": {
    "papermill": {
     "duration": 0.032668,
     "end_time": "2023-06-11T11:28:48.455277",
     "exception": false,
     "start_time": "2023-06-11T11:28:48.422609",
     "status": "completed"
    },
    "tags": []
   },
   "source": [
    "## 결과 체점 (수험자는 알 수 없는 부분임)"
   ]
  },
  {
   "cell_type": "code",
   "execution_count": 21,
   "id": "0d00fb86",
   "metadata": {
    "execution": {
     "iopub.execute_input": "2023-06-11T11:28:48.526092Z",
     "iopub.status.busy": "2023-06-11T11:28:48.525278Z",
     "iopub.status.idle": "2023-06-11T11:28:48.538769Z",
     "shell.execute_reply": "2023-06-11T11:28:48.538082Z",
     "shell.execute_reply.started": "2023-06-11T11:23:03.863784Z"
    },
    "papermill": {
     "duration": 0.049921,
     "end_time": "2023-06-11T11:28:48.538936",
     "exception": false,
     "start_time": "2023-06-11T11:28:48.489015",
     "status": "completed"
    },
    "tags": []
   },
   "outputs": [
    {
     "data": {
      "text/plain": [
       "76.62"
      ]
     },
     "execution_count": 21,
     "metadata": {},
     "output_type": "execute_result"
    }
   ],
   "source": [
    "round(model.score(test, y_test['Outcome']) * 100, 2) # 60점대로 낮은 정확도를 보여줌"
   ]
  }
 ],
 "metadata": {
  "kernelspec": {
   "display_name": "Python 3",
   "language": "python",
   "name": "python3"
  },
  "language_info": {
   "codemirror_mode": {
    "name": "ipython",
    "version": 3
   },
   "file_extension": ".py",
   "mimetype": "text/x-python",
   "name": "python",
   "nbconvert_exporter": "python",
   "pygments_lexer": "ipython3",
   "version": "3.7.10"
  },
  "papermill": {
   "default_parameters": {},
   "duration": 16.173933,
   "end_time": "2023-06-11T11:28:49.688063",
   "environment_variables": {},
   "exception": null,
   "input_path": "__notebook__.ipynb",
   "output_path": "__notebook__.ipynb",
   "parameters": {},
   "start_time": "2023-06-11T11:28:33.514130",
   "version": "2.3.3"
  }
 },
 "nbformat": 4,
 "nbformat_minor": 5
}
