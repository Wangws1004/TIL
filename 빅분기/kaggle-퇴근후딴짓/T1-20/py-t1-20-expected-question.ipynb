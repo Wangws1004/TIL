{
 "cells": [
  {
   "cell_type": "markdown",
   "id": "9b25ec75",
   "metadata": {
    "execution": {
     "iopub.execute_input": "2021-11-18T01:40:12.744485Z",
     "iopub.status.busy": "2021-11-18T01:40:12.743794Z",
     "iopub.status.idle": "2021-11-18T01:40:12.752699Z",
     "shell.execute_reply": "2021-11-18T01:40:12.751205Z",
     "shell.execute_reply.started": "2021-11-18T01:40:12.744442Z"
    },
    "papermill": {
     "duration": 0.010668,
     "end_time": "2022-11-16T11:46:22.403532",
     "exception": false,
     "start_time": "2022-11-16T11:46:22.392864",
     "status": "completed"
    },
    "tags": []
   },
   "source": [
    "## 고객과 잘 맞는 타입 추천 :)\n",
    "### basic1 데이터와 basic3 데이터를 'f4'값을 기준으로 병합하고, \n",
    "### 병합한 데이터에서 r2결측치를 제거한다음, 앞에서 부터 20개 데이터를 선택하고 'f2'컬럼 합을 구하시오\n",
    "\n",
    "- basic1.csv: 고객 데이터 \n",
    "- basic3.csv: 잘 어울리는 관계 데이터 (추천1:r1, 추천2:r2)"
   ]
  },
  {
   "cell_type": "code",
   "execution_count": 1,
   "id": "49049c05",
   "metadata": {
    "execution": {
     "iopub.execute_input": "2022-11-16T11:46:22.435360Z",
     "iopub.status.busy": "2022-11-16T11:46:22.434594Z",
     "iopub.status.idle": "2022-11-16T11:46:22.464393Z",
     "shell.execute_reply": "2022-11-16T11:46:22.464980Z",
     "shell.execute_reply.started": "2021-11-19T10:05:40.617036Z"
    },
    "papermill": {
     "duration": 0.050273,
     "end_time": "2022-11-16T11:46:22.465308",
     "exception": false,
     "start_time": "2022-11-16T11:46:22.415035",
     "status": "completed"
    },
    "tags": []
   },
   "outputs": [],
   "source": [
    "# 라이브러리 및 데이터 로드\n",
    "import pandas as pd\n",
    "b1 = pd.read_csv(\"../input/bigdatacertificationkr/basic1.csv\")\n",
    "b3 = pd.read_csv(\"../input/bigdatacertificationkr/basic3.csv\")"
   ]
  },
  {
   "cell_type": "code",
   "execution_count": 2,
   "id": "74148bc2",
   "metadata": {
    "execution": {
     "iopub.execute_input": "2022-11-16T11:46:22.487800Z",
     "iopub.status.busy": "2022-11-16T11:46:22.486952Z",
     "iopub.status.idle": "2022-11-16T11:46:22.509139Z",
     "shell.execute_reply": "2022-11-16T11:46:22.509661Z",
     "shell.execute_reply.started": "2021-11-19T10:05:40.666237Z"
    },
    "papermill": {
     "duration": 0.03492,
     "end_time": "2022-11-16T11:46:22.509840",
     "exception": false,
     "start_time": "2022-11-16T11:46:22.474920",
     "status": "completed"
    },
    "tags": []
   },
   "outputs": [
    {
     "data": {
      "text/html": [
       "<div>\n",
       "<style scoped>\n",
       "    .dataframe tbody tr th:only-of-type {\n",
       "        vertical-align: middle;\n",
       "    }\n",
       "\n",
       "    .dataframe tbody tr th {\n",
       "        vertical-align: top;\n",
       "    }\n",
       "\n",
       "    .dataframe thead th {\n",
       "        text-align: right;\n",
       "    }\n",
       "</style>\n",
       "<table border=\"1\" class=\"dataframe\">\n",
       "  <thead>\n",
       "    <tr style=\"text-align: right;\">\n",
       "      <th></th>\n",
       "      <th>id</th>\n",
       "      <th>age</th>\n",
       "      <th>city</th>\n",
       "      <th>f1</th>\n",
       "      <th>f2</th>\n",
       "      <th>f3</th>\n",
       "      <th>f4</th>\n",
       "      <th>f5</th>\n",
       "    </tr>\n",
       "  </thead>\n",
       "  <tbody>\n",
       "    <tr>\n",
       "      <th>0</th>\n",
       "      <td>id01</td>\n",
       "      <td>2.0</td>\n",
       "      <td>서울</td>\n",
       "      <td>NaN</td>\n",
       "      <td>0</td>\n",
       "      <td>NaN</td>\n",
       "      <td>ENFJ</td>\n",
       "      <td>91.297791</td>\n",
       "    </tr>\n",
       "    <tr>\n",
       "      <th>1</th>\n",
       "      <td>id02</td>\n",
       "      <td>9.0</td>\n",
       "      <td>서울</td>\n",
       "      <td>70.0</td>\n",
       "      <td>1</td>\n",
       "      <td>NaN</td>\n",
       "      <td>ENFJ</td>\n",
       "      <td>60.339826</td>\n",
       "    </tr>\n",
       "    <tr>\n",
       "      <th>2</th>\n",
       "      <td>id03</td>\n",
       "      <td>27.0</td>\n",
       "      <td>서울</td>\n",
       "      <td>61.0</td>\n",
       "      <td>1</td>\n",
       "      <td>NaN</td>\n",
       "      <td>ISTJ</td>\n",
       "      <td>17.252986</td>\n",
       "    </tr>\n",
       "    <tr>\n",
       "      <th>3</th>\n",
       "      <td>id04</td>\n",
       "      <td>75.0</td>\n",
       "      <td>서울</td>\n",
       "      <td>NaN</td>\n",
       "      <td>2</td>\n",
       "      <td>NaN</td>\n",
       "      <td>INFP</td>\n",
       "      <td>52.667078</td>\n",
       "    </tr>\n",
       "    <tr>\n",
       "      <th>4</th>\n",
       "      <td>id05</td>\n",
       "      <td>24.0</td>\n",
       "      <td>서울</td>\n",
       "      <td>85.0</td>\n",
       "      <td>2</td>\n",
       "      <td>NaN</td>\n",
       "      <td>ISFJ</td>\n",
       "      <td>29.269869</td>\n",
       "    </tr>\n",
       "  </tbody>\n",
       "</table>\n",
       "</div>"
      ],
      "text/plain": [
       "     id   age city    f1  f2   f3    f4         f5\n",
       "0  id01   2.0   서울   NaN   0  NaN  ENFJ  91.297791\n",
       "1  id02   9.0   서울  70.0   1  NaN  ENFJ  60.339826\n",
       "2  id03  27.0   서울  61.0   1  NaN  ISTJ  17.252986\n",
       "3  id04  75.0   서울   NaN   2  NaN  INFP  52.667078\n",
       "4  id05  24.0   서울  85.0   2  NaN  ISFJ  29.269869"
      ]
     },
     "execution_count": 2,
     "metadata": {},
     "output_type": "execute_result"
    }
   ],
   "source": [
    "b1.head()"
   ]
  },
  {
   "cell_type": "code",
   "execution_count": 3,
   "id": "5301d0bb",
   "metadata": {
    "execution": {
     "iopub.execute_input": "2022-11-16T11:46:22.536020Z",
     "iopub.status.busy": "2022-11-16T11:46:22.535331Z",
     "iopub.status.idle": "2022-11-16T11:46:22.544211Z",
     "shell.execute_reply": "2022-11-16T11:46:22.544738Z",
     "shell.execute_reply.started": "2021-11-19T10:05:40.691437Z"
    },
    "papermill": {
     "duration": 0.022137,
     "end_time": "2022-11-16T11:46:22.544920",
     "exception": false,
     "start_time": "2022-11-16T11:46:22.522783",
     "status": "completed"
    },
    "tags": []
   },
   "outputs": [
    {
     "data": {
      "text/html": [
       "<div>\n",
       "<style scoped>\n",
       "    .dataframe tbody tr th:only-of-type {\n",
       "        vertical-align: middle;\n",
       "    }\n",
       "\n",
       "    .dataframe tbody tr th {\n",
       "        vertical-align: top;\n",
       "    }\n",
       "\n",
       "    .dataframe thead th {\n",
       "        text-align: right;\n",
       "    }\n",
       "</style>\n",
       "<table border=\"1\" class=\"dataframe\">\n",
       "  <thead>\n",
       "    <tr style=\"text-align: right;\">\n",
       "      <th></th>\n",
       "      <th>f4</th>\n",
       "      <th>r1</th>\n",
       "      <th>r2</th>\n",
       "    </tr>\n",
       "  </thead>\n",
       "  <tbody>\n",
       "    <tr>\n",
       "      <th>0</th>\n",
       "      <td>INFP</td>\n",
       "      <td>ENFJ</td>\n",
       "      <td>ENTJ</td>\n",
       "    </tr>\n",
       "    <tr>\n",
       "      <th>1</th>\n",
       "      <td>ENFP</td>\n",
       "      <td>INFJ</td>\n",
       "      <td>NaN</td>\n",
       "    </tr>\n",
       "    <tr>\n",
       "      <th>2</th>\n",
       "      <td>INFJ</td>\n",
       "      <td>ENFP</td>\n",
       "      <td>ENTP</td>\n",
       "    </tr>\n",
       "    <tr>\n",
       "      <th>3</th>\n",
       "      <td>ENFJ</td>\n",
       "      <td>INFP</td>\n",
       "      <td>ISFP</td>\n",
       "    </tr>\n",
       "    <tr>\n",
       "      <th>4</th>\n",
       "      <td>INTJ</td>\n",
       "      <td>ENFP</td>\n",
       "      <td>ENTP</td>\n",
       "    </tr>\n",
       "  </tbody>\n",
       "</table>\n",
       "</div>"
      ],
      "text/plain": [
       "     f4    r1    r2\n",
       "0  INFP  ENFJ  ENTJ\n",
       "1  ENFP  INFJ   NaN\n",
       "2  INFJ  ENFP  ENTP\n",
       "3  ENFJ  INFP  ISFP\n",
       "4  INTJ  ENFP  ENTP"
      ]
     },
     "execution_count": 3,
     "metadata": {},
     "output_type": "execute_result"
    }
   ],
   "source": [
    "b3.head()"
   ]
  },
  {
   "cell_type": "code",
   "execution_count": 4,
   "id": "7a0d60a6",
   "metadata": {
    "execution": {
     "iopub.execute_input": "2022-11-16T11:46:22.568960Z",
     "iopub.status.busy": "2022-11-16T11:46:22.568260Z",
     "iopub.status.idle": "2022-11-16T11:46:22.597860Z",
     "shell.execute_reply": "2022-11-16T11:46:22.598408Z",
     "shell.execute_reply.started": "2021-11-19T10:12:32.582512Z"
    },
    "papermill": {
     "duration": 0.043248,
     "end_time": "2022-11-16T11:46:22.598592",
     "exception": false,
     "start_time": "2022-11-16T11:46:22.555344",
     "status": "completed"
    },
    "tags": []
   },
   "outputs": [
    {
     "data": {
      "text/html": [
       "<div>\n",
       "<style scoped>\n",
       "    .dataframe tbody tr th:only-of-type {\n",
       "        vertical-align: middle;\n",
       "    }\n",
       "\n",
       "    .dataframe tbody tr th {\n",
       "        vertical-align: top;\n",
       "    }\n",
       "\n",
       "    .dataframe thead th {\n",
       "        text-align: right;\n",
       "    }\n",
       "</style>\n",
       "<table border=\"1\" class=\"dataframe\">\n",
       "  <thead>\n",
       "    <tr style=\"text-align: right;\">\n",
       "      <th></th>\n",
       "      <th>id</th>\n",
       "      <th>age</th>\n",
       "      <th>city</th>\n",
       "      <th>f1</th>\n",
       "      <th>f2</th>\n",
       "      <th>f3</th>\n",
       "      <th>f4</th>\n",
       "      <th>f5</th>\n",
       "      <th>r1</th>\n",
       "      <th>r2</th>\n",
       "    </tr>\n",
       "  </thead>\n",
       "  <tbody>\n",
       "    <tr>\n",
       "      <th>0</th>\n",
       "      <td>id01</td>\n",
       "      <td>2.0</td>\n",
       "      <td>서울</td>\n",
       "      <td>NaN</td>\n",
       "      <td>0</td>\n",
       "      <td>NaN</td>\n",
       "      <td>ENFJ</td>\n",
       "      <td>91.297791</td>\n",
       "      <td>INFP</td>\n",
       "      <td>ISFP</td>\n",
       "    </tr>\n",
       "    <tr>\n",
       "      <th>1</th>\n",
       "      <td>id02</td>\n",
       "      <td>9.0</td>\n",
       "      <td>서울</td>\n",
       "      <td>70.0</td>\n",
       "      <td>1</td>\n",
       "      <td>NaN</td>\n",
       "      <td>ENFJ</td>\n",
       "      <td>60.339826</td>\n",
       "      <td>INFP</td>\n",
       "      <td>ISFP</td>\n",
       "    </tr>\n",
       "    <tr>\n",
       "      <th>2</th>\n",
       "      <td>id03</td>\n",
       "      <td>27.0</td>\n",
       "      <td>서울</td>\n",
       "      <td>61.0</td>\n",
       "      <td>1</td>\n",
       "      <td>NaN</td>\n",
       "      <td>ISTJ</td>\n",
       "      <td>17.252986</td>\n",
       "      <td>ESFP</td>\n",
       "      <td>NaN</td>\n",
       "    </tr>\n",
       "    <tr>\n",
       "      <th>3</th>\n",
       "      <td>id04</td>\n",
       "      <td>75.0</td>\n",
       "      <td>서울</td>\n",
       "      <td>NaN</td>\n",
       "      <td>2</td>\n",
       "      <td>NaN</td>\n",
       "      <td>INFP</td>\n",
       "      <td>52.667078</td>\n",
       "      <td>ENFJ</td>\n",
       "      <td>ENTJ</td>\n",
       "    </tr>\n",
       "    <tr>\n",
       "      <th>4</th>\n",
       "      <td>id05</td>\n",
       "      <td>24.0</td>\n",
       "      <td>서울</td>\n",
       "      <td>85.0</td>\n",
       "      <td>2</td>\n",
       "      <td>NaN</td>\n",
       "      <td>ISFJ</td>\n",
       "      <td>29.269869</td>\n",
       "      <td>ESFP</td>\n",
       "      <td>ESTP</td>\n",
       "    </tr>\n",
       "  </tbody>\n",
       "</table>\n",
       "</div>"
      ],
      "text/plain": [
       "     id   age city    f1  f2   f3    f4         f5    r1    r2\n",
       "0  id01   2.0   서울   NaN   0  NaN  ENFJ  91.297791  INFP  ISFP\n",
       "1  id02   9.0   서울  70.0   1  NaN  ENFJ  60.339826  INFP  ISFP\n",
       "2  id03  27.0   서울  61.0   1  NaN  ISTJ  17.252986  ESFP   NaN\n",
       "3  id04  75.0   서울   NaN   2  NaN  INFP  52.667078  ENFJ  ENTJ\n",
       "4  id05  24.0   서울  85.0   2  NaN  ISFJ  29.269869  ESFP  ESTP"
      ]
     },
     "execution_count": 4,
     "metadata": {},
     "output_type": "execute_result"
    }
   ],
   "source": [
    "# 데이터 결합(b1을 기준으로 결합) \n",
    "df = pd.merge(left = b1 , right = b3, how = \"left\", on = \"f4\")\n",
    "df.head()"
   ]
  },
  {
   "cell_type": "code",
   "execution_count": 5,
   "id": "5f7e6227",
   "metadata": {
    "execution": {
     "iopub.execute_input": "2022-11-16T11:46:22.624134Z",
     "iopub.status.busy": "2022-11-16T11:46:22.623144Z",
     "iopub.status.idle": "2022-11-16T11:46:22.639229Z",
     "shell.execute_reply": "2022-11-16T11:46:22.638539Z",
     "shell.execute_reply.started": "2021-11-19T10:12:36.349900Z"
    },
    "papermill": {
     "duration": 0.029918,
     "end_time": "2022-11-16T11:46:22.639380",
     "exception": false,
     "start_time": "2022-11-16T11:46:22.609462",
     "status": "completed"
    },
    "tags": []
   },
   "outputs": [
    {
     "data": {
      "text/html": [
       "<div>\n",
       "<style scoped>\n",
       "    .dataframe tbody tr th:only-of-type {\n",
       "        vertical-align: middle;\n",
       "    }\n",
       "\n",
       "    .dataframe tbody tr th {\n",
       "        vertical-align: top;\n",
       "    }\n",
       "\n",
       "    .dataframe thead th {\n",
       "        text-align: right;\n",
       "    }\n",
       "</style>\n",
       "<table border=\"1\" class=\"dataframe\">\n",
       "  <thead>\n",
       "    <tr style=\"text-align: right;\">\n",
       "      <th></th>\n",
       "      <th>id</th>\n",
       "      <th>age</th>\n",
       "      <th>city</th>\n",
       "      <th>f1</th>\n",
       "      <th>f2</th>\n",
       "      <th>f3</th>\n",
       "      <th>f4</th>\n",
       "      <th>f5</th>\n",
       "      <th>r1</th>\n",
       "      <th>r2</th>\n",
       "    </tr>\n",
       "  </thead>\n",
       "  <tbody>\n",
       "    <tr>\n",
       "      <th>95</th>\n",
       "      <td>id96</td>\n",
       "      <td>92.0</td>\n",
       "      <td>경기</td>\n",
       "      <td>53.0</td>\n",
       "      <td>1</td>\n",
       "      <td>NaN</td>\n",
       "      <td>ENTJ</td>\n",
       "      <td>52.667078</td>\n",
       "      <td>INFP</td>\n",
       "      <td>NaN</td>\n",
       "    </tr>\n",
       "    <tr>\n",
       "      <th>96</th>\n",
       "      <td>id97</td>\n",
       "      <td>100.0</td>\n",
       "      <td>경기</td>\n",
       "      <td>NaN</td>\n",
       "      <td>0</td>\n",
       "      <td>NaN</td>\n",
       "      <td>INFP</td>\n",
       "      <td>67.886373</td>\n",
       "      <td>ENFJ</td>\n",
       "      <td>ENTJ</td>\n",
       "    </tr>\n",
       "    <tr>\n",
       "      <th>97</th>\n",
       "      <td>id98</td>\n",
       "      <td>39.0</td>\n",
       "      <td>경기</td>\n",
       "      <td>58.0</td>\n",
       "      <td>2</td>\n",
       "      <td>NaN</td>\n",
       "      <td>INFP</td>\n",
       "      <td>98.429899</td>\n",
       "      <td>ENFJ</td>\n",
       "      <td>ENTJ</td>\n",
       "    </tr>\n",
       "    <tr>\n",
       "      <th>98</th>\n",
       "      <td>id99</td>\n",
       "      <td>1.0</td>\n",
       "      <td>경기</td>\n",
       "      <td>47.0</td>\n",
       "      <td>0</td>\n",
       "      <td>NaN</td>\n",
       "      <td>ESFJ</td>\n",
       "      <td>97.381034</td>\n",
       "      <td>ISFP</td>\n",
       "      <td>ISTP</td>\n",
       "    </tr>\n",
       "    <tr>\n",
       "      <th>99</th>\n",
       "      <td>id100</td>\n",
       "      <td>47.0</td>\n",
       "      <td>경기</td>\n",
       "      <td>53.0</td>\n",
       "      <td>0</td>\n",
       "      <td>vip</td>\n",
       "      <td>ESFP</td>\n",
       "      <td>33.308999</td>\n",
       "      <td>ISFJ</td>\n",
       "      <td>ISTJ</td>\n",
       "    </tr>\n",
       "  </tbody>\n",
       "</table>\n",
       "</div>"
      ],
      "text/plain": [
       "       id    age city    f1  f2   f3    f4         f5    r1    r2\n",
       "95   id96   92.0   경기  53.0   1  NaN  ENTJ  52.667078  INFP   NaN\n",
       "96   id97  100.0   경기   NaN   0  NaN  INFP  67.886373  ENFJ  ENTJ\n",
       "97   id98   39.0   경기  58.0   2  NaN  INFP  98.429899  ENFJ  ENTJ\n",
       "98   id99    1.0   경기  47.0   0  NaN  ESFJ  97.381034  ISFP  ISTP\n",
       "99  id100   47.0   경기  53.0   0  vip  ESFP  33.308999  ISFJ  ISTJ"
      ]
     },
     "execution_count": 5,
     "metadata": {},
     "output_type": "execute_result"
    }
   ],
   "source": [
    "df.tail()"
   ]
  },
  {
   "cell_type": "code",
   "execution_count": 6,
   "id": "16c6affe",
   "metadata": {
    "execution": {
     "iopub.execute_input": "2022-11-16T11:46:22.667529Z",
     "iopub.status.busy": "2022-11-16T11:46:22.666784Z",
     "iopub.status.idle": "2022-11-16T11:46:22.672861Z",
     "shell.execute_reply": "2022-11-16T11:46:22.673369Z",
     "shell.execute_reply.started": "2021-11-19T10:12:40.677270Z"
    },
    "papermill": {
     "duration": 0.022731,
     "end_time": "2022-11-16T11:46:22.673566",
     "exception": false,
     "start_time": "2022-11-16T11:46:22.650835",
     "status": "completed"
    },
    "tags": []
   },
   "outputs": [
    {
     "data": {
      "text/plain": [
       "id       0\n",
       "age      0\n",
       "city     0\n",
       "f1      31\n",
       "f2       0\n",
       "f3      95\n",
       "f4       0\n",
       "f5       0\n",
       "r1       0\n",
       "r2      17\n",
       "dtype: int64"
      ]
     },
     "execution_count": 6,
     "metadata": {},
     "output_type": "execute_result"
    }
   ],
   "source": [
    "# 결측치 확인\n",
    "df.isnull().sum()"
   ]
  },
  {
   "cell_type": "code",
   "execution_count": 7,
   "id": "9a8375af",
   "metadata": {
    "execution": {
     "iopub.execute_input": "2022-11-16T11:46:22.700704Z",
     "iopub.status.busy": "2022-11-16T11:46:22.699939Z",
     "iopub.status.idle": "2022-11-16T11:46:22.707740Z",
     "shell.execute_reply": "2022-11-16T11:46:22.708286Z",
     "shell.execute_reply.started": "2021-11-19T10:12:41.489087Z"
    },
    "papermill": {
     "duration": 0.023091,
     "end_time": "2022-11-16T11:46:22.708470",
     "exception": false,
     "start_time": "2022-11-16T11:46:22.685379",
     "status": "completed"
    },
    "tags": []
   },
   "outputs": [
    {
     "name": "stdout",
     "output_type": "stream",
     "text": [
      "(100, 10)\n",
      "(83, 10)\n"
     ]
    }
   ],
   "source": [
    "# r2컬럼 결측치 제거\n",
    "print(df.shape)\n",
    "df = df.dropna(subset=['r2'])\n",
    "print(df.shape)"
   ]
  },
  {
   "cell_type": "code",
   "execution_count": 8,
   "id": "fe55aeb1",
   "metadata": {
    "execution": {
     "iopub.execute_input": "2022-11-16T11:46:22.739699Z",
     "iopub.status.busy": "2022-11-16T11:46:22.738973Z",
     "iopub.status.idle": "2022-11-16T11:46:22.741744Z",
     "shell.execute_reply": "2022-11-16T11:46:22.741241Z",
     "shell.execute_reply.started": "2021-11-19T10:12:42.464699Z"
    },
    "papermill": {
     "duration": 0.021021,
     "end_time": "2022-11-16T11:46:22.741896",
     "exception": false,
     "start_time": "2022-11-16T11:46:22.720875",
     "status": "completed"
    },
    "tags": []
   },
   "outputs": [],
   "source": [
    "# 인덱스 리셋\n",
    "df = df.reset_index()"
   ]
  },
  {
   "cell_type": "code",
   "execution_count": 9,
   "id": "8d6994f5",
   "metadata": {
    "execution": {
     "iopub.execute_input": "2022-11-16T11:46:22.772574Z",
     "iopub.status.busy": "2022-11-16T11:46:22.771486Z",
     "iopub.status.idle": "2022-11-16T11:46:22.776215Z",
     "shell.execute_reply": "2022-11-16T11:46:22.775571Z",
     "shell.execute_reply.started": "2021-11-19T10:12:43.942669Z"
    },
    "papermill": {
     "duration": 0.02185,
     "end_time": "2022-11-16T11:46:22.776366",
     "exception": false,
     "start_time": "2022-11-16T11:46:22.754516",
     "status": "completed"
    },
    "tags": []
   },
   "outputs": [
    {
     "name": "stdout",
     "output_type": "stream",
     "text": [
      "15\n"
     ]
    }
   ],
   "source": [
    "# 앞에서 부터 20개 데이터를 선택하고 'f2'컬럼 합\n",
    "print(df.iloc[:20]['f2'].sum())"
   ]
  },
  {
   "cell_type": "code",
   "execution_count": null,
   "id": "58c7bb00",
   "metadata": {
    "papermill": {
     "duration": 0.011995,
     "end_time": "2022-11-16T11:46:22.800692",
     "exception": false,
     "start_time": "2022-11-16T11:46:22.788697",
     "status": "completed"
    },
    "tags": []
   },
   "outputs": [],
   "source": []
  },
  {
   "cell_type": "code",
   "execution_count": null,
   "id": "62753d7b",
   "metadata": {
    "papermill": {
     "duration": 0.013047,
     "end_time": "2022-11-16T11:46:22.827443",
     "exception": false,
     "start_time": "2022-11-16T11:46:22.814396",
     "status": "completed"
    },
    "tags": []
   },
   "outputs": [],
   "source": []
  }
 ],
 "metadata": {
  "kernelspec": {
   "display_name": "Python 3",
   "language": "python",
   "name": "python3"
  },
  "language_info": {
   "codemirror_mode": {
    "name": "ipython",
    "version": 3
   },
   "file_extension": ".py",
   "mimetype": "text/x-python",
   "name": "python",
   "nbconvert_exporter": "python",
   "pygments_lexer": "ipython3",
   "version": "3.7.10"
  },
  "papermill": {
   "default_parameters": {},
   "duration": 10.419547,
   "end_time": "2022-11-16T11:46:23.451693",
   "environment_variables": {},
   "exception": null,
   "input_path": "__notebook__.ipynb",
   "output_path": "__notebook__.ipynb",
   "parameters": {},
   "start_time": "2022-11-16T11:46:13.032146",
   "version": "2.3.3"
  }
 },
 "nbformat": 4,
 "nbformat_minor": 5
}
