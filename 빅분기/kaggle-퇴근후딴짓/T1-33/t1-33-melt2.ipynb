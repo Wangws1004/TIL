{
 "cells": [
  {
   "cell_type": "markdown",
   "id": "577e659f",
   "metadata": {
    "papermill": {
     "duration": 0.003599,
     "end_time": "2022-12-02T12:40:32.978385",
     "exception": false,
     "start_time": "2022-12-02T12:40:32.974786",
     "status": "completed"
    },
    "tags": []
   },
   "source": [
    "## Q. 수학, 영어 점수 중 사람과 과목에 상관없이 90점 이상인 점수의 평균을 정수로 구하시오 (소수점 버림)\n",
    "- updated 22.12.2"
   ]
  },
  {
   "cell_type": "code",
   "execution_count": 1,
   "id": "c597630c",
   "metadata": {
    "execution": {
     "iopub.execute_input": "2022-12-02T12:40:32.986233Z",
     "iopub.status.busy": "2022-12-02T12:40:32.985502Z",
     "iopub.status.idle": "2022-12-02T12:40:33.023750Z",
     "shell.execute_reply": "2022-12-02T12:40:33.022183Z"
    },
    "papermill": {
     "duration": 0.045365,
     "end_time": "2022-12-02T12:40:33.026613",
     "exception": false,
     "start_time": "2022-12-02T12:40:32.981248",
     "status": "completed"
    },
    "tags": []
   },
   "outputs": [
    {
     "data": {
      "text/html": [
       "<div>\n",
       "<style scoped>\n",
       "    .dataframe tbody tr th:only-of-type {\n",
       "        vertical-align: middle;\n",
       "    }\n",
       "\n",
       "    .dataframe tbody tr th {\n",
       "        vertical-align: top;\n",
       "    }\n",
       "\n",
       "    .dataframe thead th {\n",
       "        text-align: right;\n",
       "    }\n",
       "</style>\n",
       "<table border=\"1\" class=\"dataframe\">\n",
       "  <thead>\n",
       "    <tr style=\"text-align: right;\">\n",
       "      <th></th>\n",
       "      <th>Name</th>\n",
       "      <th>수학</th>\n",
       "      <th>영어</th>\n",
       "      <th>국어</th>\n",
       "    </tr>\n",
       "  </thead>\n",
       "  <tbody>\n",
       "    <tr>\n",
       "      <th>0</th>\n",
       "      <td>김딴짓</td>\n",
       "      <td>90</td>\n",
       "      <td>92</td>\n",
       "      <td>91</td>\n",
       "    </tr>\n",
       "    <tr>\n",
       "      <th>1</th>\n",
       "      <td>박분기</td>\n",
       "      <td>93</td>\n",
       "      <td>84</td>\n",
       "      <td>94</td>\n",
       "    </tr>\n",
       "    <tr>\n",
       "      <th>2</th>\n",
       "      <td>이퇴근</td>\n",
       "      <td>85</td>\n",
       "      <td>86</td>\n",
       "      <td>83</td>\n",
       "    </tr>\n",
       "  </tbody>\n",
       "</table>\n",
       "</div>"
      ],
      "text/plain": [
       "  Name  수학  영어  국어\n",
       "0  김딴짓  90  92  91\n",
       "1  박분기  93  84  94\n",
       "2  이퇴근  85  86  83"
      ]
     },
     "execution_count": 1,
     "metadata": {},
     "output_type": "execute_result"
    }
   ],
   "source": [
    "import pandas as pd\n",
    "df = pd.DataFrame({'Name': {0: '김딴짓', 1: '박분기', 2: '이퇴근'},\n",
    "                   '수학': {0: 90, 1: 93, 2: 85},\n",
    "                   '영어': {0: 92, 1: 84, 2: 86},\n",
    "                   '국어': {0: 91, 1: 94, 2: 83},})\n",
    "\n",
    "df"
   ]
  },
  {
   "cell_type": "code",
   "execution_count": 2,
   "id": "932d3446",
   "metadata": {
    "execution": {
     "iopub.execute_input": "2022-12-02T12:40:33.033320Z",
     "iopub.status.busy": "2022-12-02T12:40:33.032978Z",
     "iopub.status.idle": "2022-12-02T12:40:33.037598Z",
     "shell.execute_reply": "2022-12-02T12:40:33.036456Z"
    },
    "papermill": {
     "duration": 0.010375,
     "end_time": "2022-12-02T12:40:33.039701",
     "exception": false,
     "start_time": "2022-12-02T12:40:33.029326",
     "status": "completed"
    },
    "tags": []
   },
   "outputs": [],
   "source": [
    "#your code"
   ]
  },
  {
   "cell_type": "code",
   "execution_count": null,
   "id": "320e537f",
   "metadata": {
    "papermill": {
     "duration": 0.002434,
     "end_time": "2022-12-02T12:40:33.044718",
     "exception": false,
     "start_time": "2022-12-02T12:40:33.042284",
     "status": "completed"
    },
    "tags": []
   },
   "outputs": [],
   "source": []
  },
  {
   "cell_type": "code",
   "execution_count": null,
   "id": "e917a20e",
   "metadata": {
    "papermill": {
     "duration": 0.002296,
     "end_time": "2022-12-02T12:40:33.049503",
     "exception": false,
     "start_time": "2022-12-02T12:40:33.047207",
     "status": "completed"
    },
    "tags": []
   },
   "outputs": [],
   "source": []
  },
  {
   "cell_type": "code",
   "execution_count": null,
   "id": "4ae0988e",
   "metadata": {
    "papermill": {
     "duration": 0.002263,
     "end_time": "2022-12-02T12:40:33.054328",
     "exception": false,
     "start_time": "2022-12-02T12:40:33.052065",
     "status": "completed"
    },
    "tags": []
   },
   "outputs": [],
   "source": []
  },
  {
   "cell_type": "code",
   "execution_count": null,
   "id": "3cfb179c",
   "metadata": {
    "papermill": {
     "duration": 0.002236,
     "end_time": "2022-12-02T12:40:33.059075",
     "exception": false,
     "start_time": "2022-12-02T12:40:33.056839",
     "status": "completed"
    },
    "tags": []
   },
   "outputs": [],
   "source": []
  },
  {
   "cell_type": "code",
   "execution_count": 3,
   "id": "f717afe6",
   "metadata": {
    "execution": {
     "iopub.execute_input": "2022-12-02T12:40:33.066116Z",
     "iopub.status.busy": "2022-12-02T12:40:33.065425Z",
     "iopub.status.idle": "2022-12-02T12:40:33.084788Z",
     "shell.execute_reply": "2022-12-02T12:40:33.083435Z"
    },
    "papermill": {
     "duration": 0.025586,
     "end_time": "2022-12-02T12:40:33.087167",
     "exception": false,
     "start_time": "2022-12-02T12:40:33.061581",
     "status": "completed"
    },
    "tags": []
   },
   "outputs": [
    {
     "name": "stdout",
     "output_type": "stream",
     "text": [
      "91\n"
     ]
    }
   ],
   "source": [
    "# 풀이\n",
    "df = pd.melt(df, id_vars=['Name'], value_vars=['수학', '영어'])\n",
    "cond = df['value'] >= 90\n",
    "print(int(df[cond]['value'].mean()))"
   ]
  }
 ],
 "metadata": {
  "kernelspec": {
   "display_name": "Python 3",
   "language": "python",
   "name": "python3"
  },
  "language_info": {
   "codemirror_mode": {
    "name": "ipython",
    "version": 3
   },
   "file_extension": ".py",
   "mimetype": "text/x-python",
   "name": "python",
   "nbconvert_exporter": "python",
   "pygments_lexer": "ipython3",
   "version": "3.7.12"
  },
  "papermill": {
   "default_parameters": {},
   "duration": 8.977437,
   "end_time": "2022-12-02T12:40:33.710574",
   "environment_variables": {},
   "exception": null,
   "input_path": "__notebook__.ipynb",
   "output_path": "__notebook__.ipynb",
   "parameters": {},
   "start_time": "2022-12-02T12:40:24.733137",
   "version": "2.3.4"
  }
 },
 "nbformat": 4,
 "nbformat_minor": 5
}
