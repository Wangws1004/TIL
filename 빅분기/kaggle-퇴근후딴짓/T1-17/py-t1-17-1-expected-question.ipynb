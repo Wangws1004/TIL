{
 "cells": [
  {
   "cell_type": "markdown",
   "id": "06b88c17",
   "metadata": {
    "papermill": {
     "duration": 0.009383,
     "end_time": "2021-11-14T07:03:26.400045",
     "exception": false,
     "start_time": "2021-11-14T07:03:26.390662",
     "status": "completed"
    },
    "tags": []
   },
   "source": [
    "### 2022년 5월 sales의 중앙값을 구하시오\n",
    "\n",
    "- 데이터셋 : basic2.csv \n",
    "- 오른쪽 상단 copy&edit 클릭 -> 예상문제 풀이 시작"
   ]
  },
  {
   "cell_type": "code",
   "execution_count": 1,
   "id": "905bd6b2",
   "metadata": {
    "_cell_guid": "b1076dfc-b9ad-4769-8c92-a6c4dae69d19",
    "_uuid": "8f2839f25d086af736a60e9eeb907d3b93b6e0e5",
    "execution": {
     "iopub.execute_input": "2021-11-14T07:03:26.426325Z",
     "iopub.status.busy": "2021-11-14T07:03:26.425599Z",
     "iopub.status.idle": "2021-11-14T07:03:26.431388Z",
     "shell.execute_reply": "2021-11-14T07:03:26.431960Z",
     "shell.execute_reply.started": "2021-11-14T06:55:26.799483Z"
    },
    "papermill": {
     "duration": 0.023077,
     "end_time": "2021-11-14T07:03:26.432317",
     "exception": false,
     "start_time": "2021-11-14T07:03:26.409240",
     "status": "completed"
    },
    "tags": []
   },
   "outputs": [],
   "source": [
    "# 라이브러리 불러오기\n",
    "import pandas as pd"
   ]
  },
  {
   "cell_type": "code",
   "execution_count": 2,
   "id": "61667608",
   "metadata": {
    "execution": {
     "iopub.execute_input": "2021-11-14T07:03:26.451882Z",
     "iopub.status.busy": "2021-11-14T07:03:26.451242Z",
     "iopub.status.idle": "2021-11-14T07:03:26.472878Z",
     "shell.execute_reply": "2021-11-14T07:03:26.473429Z",
     "shell.execute_reply.started": "2021-11-14T06:55:26.806287Z"
    },
    "papermill": {
     "duration": 0.033051,
     "end_time": "2021-11-14T07:03:26.473624",
     "exception": false,
     "start_time": "2021-11-14T07:03:26.440573",
     "status": "completed"
    },
    "tags": []
   },
   "outputs": [],
   "source": [
    "# 데이터 불러오기\n",
    "df = pd.read_csv(\"../input/bigdatacertificationkr/basic2.csv\")"
   ]
  },
  {
   "cell_type": "code",
   "execution_count": 3,
   "id": "814e04c9",
   "metadata": {
    "execution": {
     "iopub.execute_input": "2021-11-14T07:03:26.495432Z",
     "iopub.status.busy": "2021-11-14T07:03:26.494764Z",
     "iopub.status.idle": "2021-11-14T07:03:26.512768Z",
     "shell.execute_reply": "2021-11-14T07:03:26.513276Z",
     "shell.execute_reply.started": "2021-11-14T06:55:26.839618Z"
    },
    "papermill": {
     "duration": 0.031526,
     "end_time": "2021-11-14T07:03:26.513443",
     "exception": false,
     "start_time": "2021-11-14T07:03:26.481917",
     "status": "completed"
    },
    "tags": []
   },
   "outputs": [
    {
     "data": {
      "text/html": [
       "<div>\n",
       "<style scoped>\n",
       "    .dataframe tbody tr th:only-of-type {\n",
       "        vertical-align: middle;\n",
       "    }\n",
       "\n",
       "    .dataframe tbody tr th {\n",
       "        vertical-align: top;\n",
       "    }\n",
       "\n",
       "    .dataframe thead th {\n",
       "        text-align: right;\n",
       "    }\n",
       "</style>\n",
       "<table border=\"1\" class=\"dataframe\">\n",
       "  <thead>\n",
       "    <tr style=\"text-align: right;\">\n",
       "      <th></th>\n",
       "      <th>Date</th>\n",
       "      <th>Sales</th>\n",
       "      <th>PV</th>\n",
       "      <th>UV</th>\n",
       "      <th>Events</th>\n",
       "    </tr>\n",
       "  </thead>\n",
       "  <tbody>\n",
       "    <tr>\n",
       "      <th>0</th>\n",
       "      <td>2022-01-01</td>\n",
       "      <td>22711525</td>\n",
       "      <td>397349</td>\n",
       "      <td>4421.0</td>\n",
       "      <td>1</td>\n",
       "    </tr>\n",
       "    <tr>\n",
       "      <th>1</th>\n",
       "      <td>2022-01-02</td>\n",
       "      <td>36779</td>\n",
       "      <td>3969</td>\n",
       "      <td>2289.0</td>\n",
       "      <td>0</td>\n",
       "    </tr>\n",
       "    <tr>\n",
       "      <th>2</th>\n",
       "      <td>2022-01-03</td>\n",
       "      <td>13943875</td>\n",
       "      <td>373890</td>\n",
       "      <td>NaN</td>\n",
       "      <td>1</td>\n",
       "    </tr>\n",
       "    <tr>\n",
       "      <th>3</th>\n",
       "      <td>2022-01-04</td>\n",
       "      <td>8088593</td>\n",
       "      <td>142054</td>\n",
       "      <td>2157.0</td>\n",
       "      <td>0</td>\n",
       "    </tr>\n",
       "    <tr>\n",
       "      <th>4</th>\n",
       "      <td>2022-01-05</td>\n",
       "      <td>2395374</td>\n",
       "      <td>190684</td>\n",
       "      <td>NaN</td>\n",
       "      <td>0</td>\n",
       "    </tr>\n",
       "  </tbody>\n",
       "</table>\n",
       "</div>"
      ],
      "text/plain": [
       "         Date     Sales      PV      UV  Events\n",
       "0  2022-01-01  22711525  397349  4421.0       1\n",
       "1  2022-01-02     36779    3969  2289.0       0\n",
       "2  2022-01-03  13943875  373890     NaN       1\n",
       "3  2022-01-04   8088593  142054  2157.0       0\n",
       "4  2022-01-05   2395374  190684     NaN       0"
      ]
     },
     "execution_count": 3,
     "metadata": {},
     "output_type": "execute_result"
    }
   ],
   "source": [
    "df.head()"
   ]
  },
  {
   "cell_type": "code",
   "execution_count": 4,
   "id": "0f992ce0",
   "metadata": {
    "execution": {
     "iopub.execute_input": "2021-11-14T07:03:26.535126Z",
     "iopub.status.busy": "2021-11-14T07:03:26.534447Z",
     "iopub.status.idle": "2021-11-14T07:03:26.557364Z",
     "shell.execute_reply": "2021-11-14T07:03:26.558071Z",
     "shell.execute_reply.started": "2021-11-14T06:55:30.174308Z"
    },
    "papermill": {
     "duration": 0.035465,
     "end_time": "2021-11-14T07:03:26.558301",
     "exception": false,
     "start_time": "2021-11-14T07:03:26.522836",
     "status": "completed"
    },
    "tags": []
   },
   "outputs": [
    {
     "name": "stdout",
     "output_type": "stream",
     "text": [
      "<class 'pandas.core.frame.DataFrame'>\n",
      "RangeIndex: 730 entries, 0 to 729\n",
      "Data columns (total 5 columns):\n",
      " #   Column  Non-Null Count  Dtype  \n",
      "---  ------  --------------  -----  \n",
      " 0   Date    730 non-null    object \n",
      " 1   Sales   730 non-null    int64  \n",
      " 2   PV      730 non-null    int64  \n",
      " 3   UV      684 non-null    float64\n",
      " 4   Events  730 non-null    int64  \n",
      "dtypes: float64(1), int64(3), object(1)\n",
      "memory usage: 28.6+ KB\n"
     ]
    }
   ],
   "source": [
    "df.info()"
   ]
  },
  {
   "cell_type": "code",
   "execution_count": 5,
   "id": "61b76229",
   "metadata": {
    "execution": {
     "iopub.execute_input": "2021-11-14T07:03:26.585499Z",
     "iopub.status.busy": "2021-11-14T07:03:26.583813Z",
     "iopub.status.idle": "2021-11-14T07:03:26.601237Z",
     "shell.execute_reply": "2021-11-14T07:03:26.600626Z",
     "shell.execute_reply.started": "2021-11-14T06:55:37.090016Z"
    },
    "papermill": {
     "duration": 0.031837,
     "end_time": "2021-11-14T07:03:26.601390",
     "exception": false,
     "start_time": "2021-11-14T07:03:26.569553",
     "status": "completed"
    },
    "tags": []
   },
   "outputs": [
    {
     "name": "stdout",
     "output_type": "stream",
     "text": [
      "<class 'pandas.core.frame.DataFrame'>\n",
      "RangeIndex: 730 entries, 0 to 729\n",
      "Data columns (total 5 columns):\n",
      " #   Column  Non-Null Count  Dtype         \n",
      "---  ------  --------------  -----         \n",
      " 0   Date    730 non-null    datetime64[ns]\n",
      " 1   Sales   730 non-null    int64         \n",
      " 2   PV      730 non-null    int64         \n",
      " 3   UV      684 non-null    float64       \n",
      " 4   Events  730 non-null    int64         \n",
      "dtypes: datetime64[ns](1), float64(1), int64(3)\n",
      "memory usage: 28.6 KB\n"
     ]
    }
   ],
   "source": [
    "# datetime으로 type변경\n",
    "df['Date'] = pd.to_datetime(df['Date'])\n",
    "df.info()"
   ]
  },
  {
   "cell_type": "code",
   "execution_count": 6,
   "id": "34d6fa83",
   "metadata": {
    "execution": {
     "iopub.execute_input": "2021-11-14T07:03:26.624547Z",
     "iopub.status.busy": "2021-11-14T07:03:26.623528Z",
     "iopub.status.idle": "2021-11-14T07:03:26.631544Z",
     "shell.execute_reply": "2021-11-14T07:03:26.632250Z",
     "shell.execute_reply.started": "2021-11-14T06:55:45.834759Z"
    },
    "papermill": {
     "duration": 0.021403,
     "end_time": "2021-11-14T07:03:26.632492",
     "exception": false,
     "start_time": "2021-11-14T07:03:26.611089",
     "status": "completed"
    },
    "tags": []
   },
   "outputs": [],
   "source": [
    "# 새로운 컬럼 추가 (년, 월, 일)\n",
    "df['year'] = df['Date'].dt.year\n",
    "df['month'] = df['Date'].dt.month\n",
    "df['day'] = df['Date'].dt.day"
   ]
  },
  {
   "cell_type": "code",
   "execution_count": 7,
   "id": "1ccb69c6",
   "metadata": {
    "execution": {
     "iopub.execute_input": "2021-11-14T07:03:26.668997Z",
     "iopub.status.busy": "2021-11-14T07:03:26.665718Z",
     "iopub.status.idle": "2021-11-14T07:03:26.673456Z",
     "shell.execute_reply": "2021-11-14T07:03:26.672672Z",
     "shell.execute_reply.started": "2021-11-14T06:55:58.058259Z"
    },
    "papermill": {
     "duration": 0.031256,
     "end_time": "2021-11-14T07:03:26.673611",
     "exception": false,
     "start_time": "2021-11-14T07:03:26.642355",
     "status": "completed"
    },
    "tags": []
   },
   "outputs": [
    {
     "data": {
      "text/html": [
       "<div>\n",
       "<style scoped>\n",
       "    .dataframe tbody tr th:only-of-type {\n",
       "        vertical-align: middle;\n",
       "    }\n",
       "\n",
       "    .dataframe tbody tr th {\n",
       "        vertical-align: top;\n",
       "    }\n",
       "\n",
       "    .dataframe thead th {\n",
       "        text-align: right;\n",
       "    }\n",
       "</style>\n",
       "<table border=\"1\" class=\"dataframe\">\n",
       "  <thead>\n",
       "    <tr style=\"text-align: right;\">\n",
       "      <th></th>\n",
       "      <th>Date</th>\n",
       "      <th>Sales</th>\n",
       "      <th>PV</th>\n",
       "      <th>UV</th>\n",
       "      <th>Events</th>\n",
       "      <th>year</th>\n",
       "      <th>month</th>\n",
       "      <th>day</th>\n",
       "    </tr>\n",
       "  </thead>\n",
       "  <tbody>\n",
       "    <tr>\n",
       "      <th>0</th>\n",
       "      <td>2022-01-01</td>\n",
       "      <td>22711525</td>\n",
       "      <td>397349</td>\n",
       "      <td>4421.0</td>\n",
       "      <td>1</td>\n",
       "      <td>2022</td>\n",
       "      <td>1</td>\n",
       "      <td>1</td>\n",
       "    </tr>\n",
       "    <tr>\n",
       "      <th>1</th>\n",
       "      <td>2022-01-02</td>\n",
       "      <td>36779</td>\n",
       "      <td>3969</td>\n",
       "      <td>2289.0</td>\n",
       "      <td>0</td>\n",
       "      <td>2022</td>\n",
       "      <td>1</td>\n",
       "      <td>2</td>\n",
       "    </tr>\n",
       "    <tr>\n",
       "      <th>2</th>\n",
       "      <td>2022-01-03</td>\n",
       "      <td>13943875</td>\n",
       "      <td>373890</td>\n",
       "      <td>NaN</td>\n",
       "      <td>1</td>\n",
       "      <td>2022</td>\n",
       "      <td>1</td>\n",
       "      <td>3</td>\n",
       "    </tr>\n",
       "    <tr>\n",
       "      <th>3</th>\n",
       "      <td>2022-01-04</td>\n",
       "      <td>8088593</td>\n",
       "      <td>142054</td>\n",
       "      <td>2157.0</td>\n",
       "      <td>0</td>\n",
       "      <td>2022</td>\n",
       "      <td>1</td>\n",
       "      <td>4</td>\n",
       "    </tr>\n",
       "    <tr>\n",
       "      <th>4</th>\n",
       "      <td>2022-01-05</td>\n",
       "      <td>2395374</td>\n",
       "      <td>190684</td>\n",
       "      <td>NaN</td>\n",
       "      <td>0</td>\n",
       "      <td>2022</td>\n",
       "      <td>1</td>\n",
       "      <td>5</td>\n",
       "    </tr>\n",
       "  </tbody>\n",
       "</table>\n",
       "</div>"
      ],
      "text/plain": [
       "        Date     Sales      PV      UV  Events  year  month  day\n",
       "0 2022-01-01  22711525  397349  4421.0       1  2022      1    1\n",
       "1 2022-01-02     36779    3969  2289.0       0  2022      1    2\n",
       "2 2022-01-03  13943875  373890     NaN       1  2022      1    3\n",
       "3 2022-01-04   8088593  142054  2157.0       0  2022      1    4\n",
       "4 2022-01-05   2395374  190684     NaN       0  2022      1    5"
      ]
     },
     "execution_count": 7,
     "metadata": {},
     "output_type": "execute_result"
    }
   ],
   "source": [
    "df.head()"
   ]
  },
  {
   "cell_type": "code",
   "execution_count": 8,
   "id": "4e9416c9",
   "metadata": {
    "execution": {
     "iopub.execute_input": "2021-11-14T07:03:26.702311Z",
     "iopub.status.busy": "2021-11-14T07:03:26.701202Z",
     "iopub.status.idle": "2021-11-14T07:03:26.708040Z",
     "shell.execute_reply": "2021-11-14T07:03:26.708694Z",
     "shell.execute_reply.started": "2021-11-14T06:56:10.378045Z"
    },
    "papermill": {
     "duration": 0.024278,
     "end_time": "2021-11-14T07:03:26.708901",
     "exception": false,
     "start_time": "2021-11-14T07:03:26.684623",
     "status": "completed"
    },
    "tags": []
   },
   "outputs": [
    {
     "name": "stdout",
     "output_type": "stream",
     "text": [
      "1477685.0\n"
     ]
    }
   ],
   "source": [
    "# 문제 조건에 맞는 값 구하기\n",
    "cond = (df['year']==2022) & (df['month']==5)\n",
    "print(df[cond]['Sales'].median())"
   ]
  }
 ],
 "metadata": {
  "kernelspec": {
   "display_name": "Python 3",
   "language": "python",
   "name": "python3"
  },
  "language_info": {
   "codemirror_mode": {
    "name": "ipython",
    "version": 3
   },
   "file_extension": ".py",
   "mimetype": "text/x-python",
   "name": "python",
   "nbconvert_exporter": "python",
   "pygments_lexer": "ipython3",
   "version": "3.7.10"
  },
  "papermill": {
   "default_parameters": {},
   "duration": 10.050694,
   "end_time": "2021-11-14T07:03:27.329721",
   "environment_variables": {},
   "exception": null,
   "input_path": "__notebook__.ipynb",
   "output_path": "__notebook__.ipynb",
   "parameters": {},
   "start_time": "2021-11-14T07:03:17.279027",
   "version": "2.3.3"
  }
 },
 "nbformat": 4,
 "nbformat_minor": 5
}
