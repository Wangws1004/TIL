{
 "cells": [
  {
   "cell_type": "markdown",
   "id": "6da2888d",
   "metadata": {
    "_cell_guid": "b1076dfc-b9ad-4769-8c92-a6c4dae69d19",
    "_uuid": "8f2839f25d086af736a60e9eeb907d3b93b6e0e5",
    "papermill": {
     "duration": 0.010545,
     "end_time": "2021-11-25T23:33:18.988849",
     "exception": false,
     "start_time": "2021-11-25T23:33:18.978304",
     "status": "completed"
    },
    "tags": []
   },
   "source": [
    "### 주어진 데이터(basic2.csv)에서 주 단위 Sales의 합계를 구하고, 가장 큰 값을 가진 주와 작은 값을 가진 주의 차이를 구하시오(절대값)\n",
    "- 데이터셋 : basic2.csv\n",
    "- 오른쪽 상단 copy&edit 클릭 -> 예상문제 풀이 시작"
   ]
  },
  {
   "cell_type": "code",
   "execution_count": 1,
   "id": "f2f737d9",
   "metadata": {
    "execution": {
     "iopub.execute_input": "2021-11-25T23:33:19.015628Z",
     "iopub.status.busy": "2021-11-25T23:33:19.014399Z",
     "iopub.status.idle": "2021-11-25T23:33:19.026209Z",
     "shell.execute_reply": "2021-11-25T23:33:19.026746Z",
     "shell.execute_reply.started": "2021-11-25T23:08:42.368328Z"
    },
    "papermill": {
     "duration": 0.026277,
     "end_time": "2021-11-25T23:33:19.027074",
     "exception": false,
     "start_time": "2021-11-25T23:33:19.000797",
     "status": "completed"
    },
    "tags": []
   },
   "outputs": [],
   "source": [
    "import pandas as pd"
   ]
  },
  {
   "cell_type": "code",
   "execution_count": 2,
   "id": "17360c9b",
   "metadata": {
    "execution": {
     "iopub.execute_input": "2021-11-25T23:33:19.052406Z",
     "iopub.status.busy": "2021-11-25T23:33:19.051715Z",
     "iopub.status.idle": "2021-11-25T23:33:19.081612Z",
     "shell.execute_reply": "2021-11-25T23:33:19.080823Z",
     "shell.execute_reply.started": "2021-11-25T23:30:40.970008Z"
    },
    "papermill": {
     "duration": 0.045231,
     "end_time": "2021-11-25T23:33:19.081798",
     "exception": false,
     "start_time": "2021-11-25T23:33:19.036567",
     "status": "completed"
    },
    "tags": []
   },
   "outputs": [],
   "source": [
    "df = pd.read_csv(\"../input/bigdatacertificationkr/basic2.csv\", parse_dates=['Date'], index_col=0)\n",
    "\n",
    "# 아래 코드를 한줄로 표현함\n",
    "# df = pd.read_csv(\"../input/bigdatacertificationkr/basic2.csv\")\n",
    "# df['Date'] = pd.to_datetime(df['Date'])\n",
    "# df = df.set_index('Date')"
   ]
  },
  {
   "cell_type": "code",
   "execution_count": 3,
   "id": "ffd24dbc",
   "metadata": {
    "execution": {
     "iopub.execute_input": "2021-11-25T23:33:19.108777Z",
     "iopub.status.busy": "2021-11-25T23:33:19.107796Z",
     "iopub.status.idle": "2021-11-25T23:33:19.129808Z",
     "shell.execute_reply": "2021-11-25T23:33:19.130344Z",
     "shell.execute_reply.started": "2021-11-25T23:30:46.051242Z"
    },
    "papermill": {
     "duration": 0.035974,
     "end_time": "2021-11-25T23:33:19.130564",
     "exception": false,
     "start_time": "2021-11-25T23:33:19.094590",
     "status": "completed"
    },
    "tags": []
   },
   "outputs": [
    {
     "name": "stdout",
     "output_type": "stream",
     "text": [
      "(730, 4)\n"
     ]
    },
    {
     "data": {
      "text/html": [
       "<div>\n",
       "<style scoped>\n",
       "    .dataframe tbody tr th:only-of-type {\n",
       "        vertical-align: middle;\n",
       "    }\n",
       "\n",
       "    .dataframe tbody tr th {\n",
       "        vertical-align: top;\n",
       "    }\n",
       "\n",
       "    .dataframe thead th {\n",
       "        text-align: right;\n",
       "    }\n",
       "</style>\n",
       "<table border=\"1\" class=\"dataframe\">\n",
       "  <thead>\n",
       "    <tr style=\"text-align: right;\">\n",
       "      <th></th>\n",
       "      <th>Sales</th>\n",
       "      <th>PV</th>\n",
       "      <th>UV</th>\n",
       "      <th>Events</th>\n",
       "    </tr>\n",
       "    <tr>\n",
       "      <th>Date</th>\n",
       "      <th></th>\n",
       "      <th></th>\n",
       "      <th></th>\n",
       "      <th></th>\n",
       "    </tr>\n",
       "  </thead>\n",
       "  <tbody>\n",
       "    <tr>\n",
       "      <th>2022-01-01</th>\n",
       "      <td>22711525</td>\n",
       "      <td>397349</td>\n",
       "      <td>4421.0</td>\n",
       "      <td>1</td>\n",
       "    </tr>\n",
       "    <tr>\n",
       "      <th>2022-01-02</th>\n",
       "      <td>36779</td>\n",
       "      <td>3969</td>\n",
       "      <td>2289.0</td>\n",
       "      <td>0</td>\n",
       "    </tr>\n",
       "    <tr>\n",
       "      <th>2022-01-03</th>\n",
       "      <td>13943875</td>\n",
       "      <td>373890</td>\n",
       "      <td>NaN</td>\n",
       "      <td>1</td>\n",
       "    </tr>\n",
       "  </tbody>\n",
       "</table>\n",
       "</div>"
      ],
      "text/plain": [
       "               Sales      PV      UV  Events\n",
       "Date                                        \n",
       "2022-01-01  22711525  397349  4421.0       1\n",
       "2022-01-02     36779    3969  2289.0       0\n",
       "2022-01-03  13943875  373890     NaN       1"
      ]
     },
     "execution_count": 3,
     "metadata": {},
     "output_type": "execute_result"
    }
   ],
   "source": [
    "print(df.shape)\n",
    "df.head(3)"
   ]
  },
  {
   "cell_type": "code",
   "execution_count": 4,
   "id": "64932708",
   "metadata": {
    "execution": {
     "iopub.execute_input": "2021-11-25T23:33:19.155460Z",
     "iopub.status.busy": "2021-11-25T23:33:19.154828Z",
     "iopub.status.idle": "2021-11-25T23:33:19.165600Z",
     "shell.execute_reply": "2021-11-25T23:33:19.166123Z",
     "shell.execute_reply.started": "2021-11-25T23:30:46.361984Z"
    },
    "papermill": {
     "duration": 0.025075,
     "end_time": "2021-11-25T23:33:19.166303",
     "exception": false,
     "start_time": "2021-11-25T23:33:19.141228",
     "status": "completed"
    },
    "tags": []
   },
   "outputs": [
    {
     "data": {
      "text/html": [
       "<div>\n",
       "<style scoped>\n",
       "    .dataframe tbody tr th:only-of-type {\n",
       "        vertical-align: middle;\n",
       "    }\n",
       "\n",
       "    .dataframe tbody tr th {\n",
       "        vertical-align: top;\n",
       "    }\n",
       "\n",
       "    .dataframe thead th {\n",
       "        text-align: right;\n",
       "    }\n",
       "</style>\n",
       "<table border=\"1\" class=\"dataframe\">\n",
       "  <thead>\n",
       "    <tr style=\"text-align: right;\">\n",
       "      <th></th>\n",
       "      <th>Sales</th>\n",
       "      <th>PV</th>\n",
       "      <th>UV</th>\n",
       "      <th>Events</th>\n",
       "    </tr>\n",
       "    <tr>\n",
       "      <th>Date</th>\n",
       "      <th></th>\n",
       "      <th></th>\n",
       "      <th></th>\n",
       "      <th></th>\n",
       "    </tr>\n",
       "  </thead>\n",
       "  <tbody>\n",
       "    <tr>\n",
       "      <th>2023-12-29</th>\n",
       "      <td>1164008</td>\n",
       "      <td>14309</td>\n",
       "      <td>193.0</td>\n",
       "      <td>0</td>\n",
       "    </tr>\n",
       "    <tr>\n",
       "      <th>2023-12-30</th>\n",
       "      <td>3977696</td>\n",
       "      <td>60935</td>\n",
       "      <td>NaN</td>\n",
       "      <td>0</td>\n",
       "    </tr>\n",
       "    <tr>\n",
       "      <th>2023-12-31</th>\n",
       "      <td>3719764</td>\n",
       "      <td>60963</td>\n",
       "      <td>1507.0</td>\n",
       "      <td>0</td>\n",
       "    </tr>\n",
       "  </tbody>\n",
       "</table>\n",
       "</div>"
      ],
      "text/plain": [
       "              Sales     PV      UV  Events\n",
       "Date                                      \n",
       "2023-12-29  1164008  14309   193.0       0\n",
       "2023-12-30  3977696  60935     NaN       0\n",
       "2023-12-31  3719764  60963  1507.0       0"
      ]
     },
     "execution_count": 4,
     "metadata": {},
     "output_type": "execute_result"
    }
   ],
   "source": [
    "df.tail(3)"
   ]
  },
  {
   "cell_type": "markdown",
   "id": "2690933f",
   "metadata": {
    "papermill": {
     "duration": 0.010921,
     "end_time": "2021-11-25T23:33:19.187850",
     "exception": false,
     "start_time": "2021-11-25T23:33:19.176929",
     "status": "completed"
    },
    "tags": []
   },
   "source": [
    "### 단위 \n",
    "- 주 단위 W\n",
    "- 2주 단위 2W\n",
    "- 월 단위 M"
   ]
  },
  {
   "cell_type": "code",
   "execution_count": 5,
   "id": "5ab1d9be",
   "metadata": {
    "execution": {
     "iopub.execute_input": "2021-11-25T23:33:19.213289Z",
     "iopub.status.busy": "2021-11-25T23:33:19.212537Z",
     "iopub.status.idle": "2021-11-25T23:33:19.242847Z",
     "shell.execute_reply": "2021-11-25T23:33:19.243370Z",
     "shell.execute_reply.started": "2021-11-25T23:30:46.934781Z"
    },
    "papermill": {
     "duration": 0.044869,
     "end_time": "2021-11-25T23:33:19.243587",
     "exception": false,
     "start_time": "2021-11-25T23:33:19.198718",
     "status": "completed"
    },
    "tags": []
   },
   "outputs": [
    {
     "data": {
      "text/html": [
       "<div>\n",
       "<style scoped>\n",
       "    .dataframe tbody tr th:only-of-type {\n",
       "        vertical-align: middle;\n",
       "    }\n",
       "\n",
       "    .dataframe tbody tr th {\n",
       "        vertical-align: top;\n",
       "    }\n",
       "\n",
       "    .dataframe thead th {\n",
       "        text-align: right;\n",
       "    }\n",
       "</style>\n",
       "<table border=\"1\" class=\"dataframe\">\n",
       "  <thead>\n",
       "    <tr style=\"text-align: right;\">\n",
       "      <th></th>\n",
       "      <th>Sales</th>\n",
       "      <th>PV</th>\n",
       "      <th>UV</th>\n",
       "      <th>Events</th>\n",
       "    </tr>\n",
       "    <tr>\n",
       "      <th>Date</th>\n",
       "      <th></th>\n",
       "      <th></th>\n",
       "      <th></th>\n",
       "      <th></th>\n",
       "    </tr>\n",
       "  </thead>\n",
       "  <tbody>\n",
       "    <tr>\n",
       "      <th>2022-01-02</th>\n",
       "      <td>22748304</td>\n",
       "      <td>401318</td>\n",
       "      <td>6710.0</td>\n",
       "      <td>1</td>\n",
       "    </tr>\n",
       "    <tr>\n",
       "      <th>2022-01-09</th>\n",
       "      <td>33373822</td>\n",
       "      <td>1148464</td>\n",
       "      <td>15189.0</td>\n",
       "      <td>2</td>\n",
       "    </tr>\n",
       "    <tr>\n",
       "      <th>2022-01-16</th>\n",
       "      <td>20754519</td>\n",
       "      <td>283773</td>\n",
       "      <td>9344.0</td>\n",
       "      <td>0</td>\n",
       "    </tr>\n",
       "    <tr>\n",
       "      <th>2022-01-23</th>\n",
       "      <td>21880751</td>\n",
       "      <td>538633</td>\n",
       "      <td>9841.0</td>\n",
       "      <td>1</td>\n",
       "    </tr>\n",
       "    <tr>\n",
       "      <th>2022-01-30</th>\n",
       "      <td>28878452</td>\n",
       "      <td>560814</td>\n",
       "      <td>7808.0</td>\n",
       "      <td>1</td>\n",
       "    </tr>\n",
       "  </tbody>\n",
       "</table>\n",
       "</div>"
      ],
      "text/plain": [
       "               Sales       PV       UV  Events\n",
       "Date                                          \n",
       "2022-01-02  22748304   401318   6710.0       1\n",
       "2022-01-09  33373822  1148464  15189.0       2\n",
       "2022-01-16  20754519   283773   9344.0       0\n",
       "2022-01-23  21880751   538633   9841.0       1\n",
       "2022-01-30  28878452   560814   7808.0       1"
      ]
     },
     "execution_count": 5,
     "metadata": {},
     "output_type": "execute_result"
    }
   ],
   "source": [
    "df_w = df.resample('W').sum()\n",
    "df_w.head()"
   ]
  },
  {
   "cell_type": "code",
   "execution_count": 6,
   "id": "59cc1af6",
   "metadata": {
    "execution": {
     "iopub.execute_input": "2021-11-25T23:33:19.270151Z",
     "iopub.status.busy": "2021-11-25T23:33:19.269446Z",
     "iopub.status.idle": "2021-11-25T23:33:19.275327Z",
     "shell.execute_reply": "2021-11-25T23:33:19.275861Z",
     "shell.execute_reply.started": "2021-11-25T23:30:47.285241Z"
    },
    "papermill": {
     "duration": 0.021037,
     "end_time": "2021-11-25T23:33:19.276051",
     "exception": false,
     "start_time": "2021-11-25T23:33:19.255014",
     "status": "completed"
    },
    "tags": []
   },
   "outputs": [
    {
     "data": {
      "text/plain": [
       "99165648"
      ]
     },
     "execution_count": 6,
     "metadata": {},
     "output_type": "execute_result"
    }
   ],
   "source": [
    "ma = df_w['Sales'].max()\n",
    "ma"
   ]
  },
  {
   "cell_type": "code",
   "execution_count": 7,
   "id": "3e3707ca",
   "metadata": {
    "execution": {
     "iopub.execute_input": "2021-11-25T23:33:19.302991Z",
     "iopub.status.busy": "2021-11-25T23:33:19.302262Z",
     "iopub.status.idle": "2021-11-25T23:33:19.307853Z",
     "shell.execute_reply": "2021-11-25T23:33:19.308454Z",
     "shell.execute_reply.started": "2021-11-25T23:30:47.801582Z"
    },
    "papermill": {
     "duration": 0.021084,
     "end_time": "2021-11-25T23:33:19.308653",
     "exception": false,
     "start_time": "2021-11-25T23:33:19.287569",
     "status": "completed"
    },
    "tags": []
   },
   "outputs": [
    {
     "data": {
      "text/plain": [
       "7526598"
      ]
     },
     "execution_count": 7,
     "metadata": {},
     "output_type": "execute_result"
    }
   ],
   "source": [
    "mi = df_w['Sales'].min()\n",
    "mi"
   ]
  },
  {
   "cell_type": "code",
   "execution_count": 8,
   "id": "db3f5e9b",
   "metadata": {
    "execution": {
     "iopub.execute_input": "2021-11-25T23:33:19.343545Z",
     "iopub.status.busy": "2021-11-25T23:33:19.342504Z",
     "iopub.status.idle": "2021-11-25T23:33:19.345730Z",
     "shell.execute_reply": "2021-11-25T23:33:19.346230Z",
     "shell.execute_reply.started": "2021-11-25T23:30:48.503208Z"
    },
    "papermill": {
     "duration": 0.025669,
     "end_time": "2021-11-25T23:33:19.346412",
     "exception": false,
     "start_time": "2021-11-25T23:33:19.320743",
     "status": "completed"
    },
    "tags": []
   },
   "outputs": [
    {
     "name": "stdout",
     "output_type": "stream",
     "text": [
      "91639050\n"
     ]
    }
   ],
   "source": [
    "print(ma - mi)"
   ]
  },
  {
   "cell_type": "code",
   "execution_count": null,
   "id": "2ac03bb7",
   "metadata": {
    "papermill": {
     "duration": 0.013714,
     "end_time": "2021-11-25T23:33:19.373247",
     "exception": false,
     "start_time": "2021-11-25T23:33:19.359533",
     "status": "completed"
    },
    "tags": []
   },
   "outputs": [],
   "source": []
  }
 ],
 "metadata": {
  "kernelspec": {
   "display_name": "Python 3",
   "language": "python",
   "name": "python3"
  },
  "language_info": {
   "codemirror_mode": {
    "name": "ipython",
    "version": 3
   },
   "file_extension": ".py",
   "mimetype": "text/x-python",
   "name": "python",
   "nbconvert_exporter": "python",
   "pygments_lexer": "ipython3",
   "version": "3.7.10"
  },
  "papermill": {
   "default_parameters": {},
   "duration": 10.847263,
   "end_time": "2021-11-25T23:33:20.003309",
   "environment_variables": {},
   "exception": null,
   "input_path": "__notebook__.ipynb",
   "output_path": "__notebook__.ipynb",
   "parameters": {},
   "start_time": "2021-11-25T23:33:09.156046",
   "version": "2.3.3"
  }
 },
 "nbformat": 4,
 "nbformat_minor": 5
}
