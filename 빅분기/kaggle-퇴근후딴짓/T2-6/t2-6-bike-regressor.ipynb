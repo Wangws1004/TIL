{
 "cells": [
  {
   "cell_type": "markdown",
   "id": "486d067c",
   "metadata": {
    "papermill": {
     "duration": 0.006514,
     "end_time": "2022-11-29T10:12:08.069496",
     "exception": false,
     "start_time": "2022-11-29T10:12:08.062982",
     "status": "completed"
    },
    "tags": []
   },
   "source": [
    "## Baseline code\n",
    "\n",
    "- target: count컬럼"
   ]
  },
  {
   "cell_type": "code",
   "execution_count": 1,
   "id": "97073d21",
   "metadata": {
    "_execution_state": "idle",
    "_uuid": "051d70d956493feee0c6d64651c6a088724dca2a",
    "execution": {
     "iopub.execute_input": "2022-11-29T10:12:08.082821Z",
     "iopub.status.busy": "2022-11-29T10:12:08.082158Z",
     "iopub.status.idle": "2022-11-29T10:12:08.091237Z",
     "shell.execute_reply": "2022-11-29T10:12:08.089890Z"
    },
    "papermill": {
     "duration": 0.018356,
     "end_time": "2022-11-29T10:12:08.093410",
     "exception": false,
     "start_time": "2022-11-29T10:12:08.075054",
     "status": "completed"
    },
    "tags": []
   },
   "outputs": [],
   "source": [
    "import pandas as pd"
   ]
  },
  {
   "cell_type": "code",
   "execution_count": 2,
   "id": "e61c5c18",
   "metadata": {
    "execution": {
     "iopub.execute_input": "2022-11-29T10:12:08.106304Z",
     "iopub.status.busy": "2022-11-29T10:12:08.105937Z",
     "iopub.status.idle": "2022-11-29T10:12:08.160155Z",
     "shell.execute_reply": "2022-11-29T10:12:08.158802Z"
    },
    "papermill": {
     "duration": 0.063296,
     "end_time": "2022-11-29T10:12:08.162471",
     "exception": false,
     "start_time": "2022-11-29T10:12:08.099175",
     "status": "completed"
    },
    "tags": []
   },
   "outputs": [],
   "source": [
    "train = pd.read_csv(\"/kaggle/input/bike-sharing-demand/train.csv\")\n",
    "test = pd.read_csv(\"/kaggle/input/bike-sharing-demand/test.csv\")"
   ]
  },
  {
   "cell_type": "markdown",
   "id": "635b1363",
   "metadata": {
    "papermill": {
     "duration": 0.005497,
     "end_time": "2022-11-29T10:12:08.173857",
     "exception": false,
     "start_time": "2022-11-29T10:12:08.168360",
     "status": "completed"
    },
    "tags": []
   },
   "source": [
    "## EDA"
   ]
  },
  {
   "cell_type": "code",
   "execution_count": 3,
   "id": "56fd53f3",
   "metadata": {
    "execution": {
     "iopub.execute_input": "2022-11-29T10:12:08.187595Z",
     "iopub.status.busy": "2022-11-29T10:12:08.186875Z",
     "iopub.status.idle": "2022-11-29T10:12:08.194875Z",
     "shell.execute_reply": "2022-11-29T10:12:08.193815Z"
    },
    "papermill": {
     "duration": 0.016881,
     "end_time": "2022-11-29T10:12:08.196621",
     "exception": false,
     "start_time": "2022-11-29T10:12:08.179740",
     "status": "completed"
    },
    "tags": []
   },
   "outputs": [
    {
     "data": {
      "text/plain": [
       "((10886, 12), (6493, 9))"
      ]
     },
     "execution_count": 3,
     "metadata": {},
     "output_type": "execute_result"
    }
   ],
   "source": [
    "# 데이터 크기\n",
    "train.shape, test.shape"
   ]
  },
  {
   "cell_type": "code",
   "execution_count": 4,
   "id": "572a4cfc",
   "metadata": {
    "execution": {
     "iopub.execute_input": "2022-11-29T10:12:08.210316Z",
     "iopub.status.busy": "2022-11-29T10:12:08.209724Z",
     "iopub.status.idle": "2022-11-29T10:12:08.233523Z",
     "shell.execute_reply": "2022-11-29T10:12:08.232679Z"
    },
    "papermill": {
     "duration": 0.032741,
     "end_time": "2022-11-29T10:12:08.235330",
     "exception": false,
     "start_time": "2022-11-29T10:12:08.202589",
     "status": "completed"
    },
    "tags": []
   },
   "outputs": [
    {
     "data": {
      "text/html": [
       "<div>\n",
       "<style scoped>\n",
       "    .dataframe tbody tr th:only-of-type {\n",
       "        vertical-align: middle;\n",
       "    }\n",
       "\n",
       "    .dataframe tbody tr th {\n",
       "        vertical-align: top;\n",
       "    }\n",
       "\n",
       "    .dataframe thead th {\n",
       "        text-align: right;\n",
       "    }\n",
       "</style>\n",
       "<table border=\"1\" class=\"dataframe\">\n",
       "  <thead>\n",
       "    <tr style=\"text-align: right;\">\n",
       "      <th></th>\n",
       "      <th>datetime</th>\n",
       "      <th>season</th>\n",
       "      <th>holiday</th>\n",
       "      <th>workingday</th>\n",
       "      <th>weather</th>\n",
       "      <th>temp</th>\n",
       "      <th>atemp</th>\n",
       "      <th>humidity</th>\n",
       "      <th>windspeed</th>\n",
       "      <th>casual</th>\n",
       "      <th>registered</th>\n",
       "      <th>count</th>\n",
       "    </tr>\n",
       "  </thead>\n",
       "  <tbody>\n",
       "    <tr>\n",
       "      <th>0</th>\n",
       "      <td>2011-01-01 00:00:00</td>\n",
       "      <td>1</td>\n",
       "      <td>0</td>\n",
       "      <td>0</td>\n",
       "      <td>1</td>\n",
       "      <td>9.84</td>\n",
       "      <td>14.395</td>\n",
       "      <td>81</td>\n",
       "      <td>0.0</td>\n",
       "      <td>3</td>\n",
       "      <td>13</td>\n",
       "      <td>16</td>\n",
       "    </tr>\n",
       "    <tr>\n",
       "      <th>1</th>\n",
       "      <td>2011-01-01 01:00:00</td>\n",
       "      <td>1</td>\n",
       "      <td>0</td>\n",
       "      <td>0</td>\n",
       "      <td>1</td>\n",
       "      <td>9.02</td>\n",
       "      <td>13.635</td>\n",
       "      <td>80</td>\n",
       "      <td>0.0</td>\n",
       "      <td>8</td>\n",
       "      <td>32</td>\n",
       "      <td>40</td>\n",
       "    </tr>\n",
       "  </tbody>\n",
       "</table>\n",
       "</div>"
      ],
      "text/plain": [
       "              datetime  season  holiday  workingday  weather  temp   atemp  \\\n",
       "0  2011-01-01 00:00:00       1        0           0        1  9.84  14.395   \n",
       "1  2011-01-01 01:00:00       1        0           0        1  9.02  13.635   \n",
       "\n",
       "   humidity  windspeed  casual  registered  count  \n",
       "0        81        0.0       3          13     16  \n",
       "1        80        0.0       8          32     40  "
      ]
     },
     "execution_count": 4,
     "metadata": {},
     "output_type": "execute_result"
    }
   ],
   "source": [
    "# 데이터 샘플\n",
    "train.head(2)"
   ]
  },
  {
   "cell_type": "code",
   "execution_count": 5,
   "id": "620e147b",
   "metadata": {
    "execution": {
     "iopub.execute_input": "2022-11-29T10:12:08.250453Z",
     "iopub.status.busy": "2022-11-29T10:12:08.249837Z",
     "iopub.status.idle": "2022-11-29T10:12:08.261361Z",
     "shell.execute_reply": "2022-11-29T10:12:08.260477Z"
    },
    "papermill": {
     "duration": 0.022181,
     "end_time": "2022-11-29T10:12:08.263680",
     "exception": false,
     "start_time": "2022-11-29T10:12:08.241499",
     "status": "completed"
    },
    "tags": []
   },
   "outputs": [
    {
     "data": {
      "text/html": [
       "<div>\n",
       "<style scoped>\n",
       "    .dataframe tbody tr th:only-of-type {\n",
       "        vertical-align: middle;\n",
       "    }\n",
       "\n",
       "    .dataframe tbody tr th {\n",
       "        vertical-align: top;\n",
       "    }\n",
       "\n",
       "    .dataframe thead th {\n",
       "        text-align: right;\n",
       "    }\n",
       "</style>\n",
       "<table border=\"1\" class=\"dataframe\">\n",
       "  <thead>\n",
       "    <tr style=\"text-align: right;\">\n",
       "      <th></th>\n",
       "      <th>datetime</th>\n",
       "      <th>season</th>\n",
       "      <th>holiday</th>\n",
       "      <th>workingday</th>\n",
       "      <th>weather</th>\n",
       "      <th>temp</th>\n",
       "      <th>atemp</th>\n",
       "      <th>humidity</th>\n",
       "      <th>windspeed</th>\n",
       "    </tr>\n",
       "  </thead>\n",
       "  <tbody>\n",
       "    <tr>\n",
       "      <th>0</th>\n",
       "      <td>2011-01-20 00:00:00</td>\n",
       "      <td>1</td>\n",
       "      <td>0</td>\n",
       "      <td>1</td>\n",
       "      <td>1</td>\n",
       "      <td>10.66</td>\n",
       "      <td>11.365</td>\n",
       "      <td>56</td>\n",
       "      <td>26.0027</td>\n",
       "    </tr>\n",
       "    <tr>\n",
       "      <th>1</th>\n",
       "      <td>2011-01-20 01:00:00</td>\n",
       "      <td>1</td>\n",
       "      <td>0</td>\n",
       "      <td>1</td>\n",
       "      <td>1</td>\n",
       "      <td>10.66</td>\n",
       "      <td>13.635</td>\n",
       "      <td>56</td>\n",
       "      <td>0.0000</td>\n",
       "    </tr>\n",
       "  </tbody>\n",
       "</table>\n",
       "</div>"
      ],
      "text/plain": [
       "              datetime  season  holiday  workingday  weather   temp   atemp  \\\n",
       "0  2011-01-20 00:00:00       1        0           1        1  10.66  11.365   \n",
       "1  2011-01-20 01:00:00       1        0           1        1  10.66  13.635   \n",
       "\n",
       "   humidity  windspeed  \n",
       "0        56    26.0027  \n",
       "1        56     0.0000  "
      ]
     },
     "execution_count": 5,
     "metadata": {},
     "output_type": "execute_result"
    }
   ],
   "source": [
    "# 데이터 샘플\n",
    "test.head(2)"
   ]
  },
  {
   "cell_type": "markdown",
   "id": "1cee3b81",
   "metadata": {
    "papermill": {
     "duration": 0.006006,
     "end_time": "2022-11-29T10:12:08.276054",
     "exception": false,
     "start_time": "2022-11-29T10:12:08.270048",
     "status": "completed"
    },
    "tags": []
   },
   "source": [
    "- casual, registered의 합이 count인 것을 확인할 수 있음 (test에는 없으므로 제거)"
   ]
  },
  {
   "cell_type": "code",
   "execution_count": 6,
   "id": "d9ee2206",
   "metadata": {
    "execution": {
     "iopub.execute_input": "2022-11-29T10:12:08.289852Z",
     "iopub.status.busy": "2022-11-29T10:12:08.289464Z",
     "iopub.status.idle": "2022-11-29T10:12:08.298535Z",
     "shell.execute_reply": "2022-11-29T10:12:08.297679Z"
    },
    "papermill": {
     "duration": 0.018255,
     "end_time": "2022-11-29T10:12:08.300413",
     "exception": false,
     "start_time": "2022-11-29T10:12:08.282158",
     "status": "completed"
    },
    "tags": []
   },
   "outputs": [
    {
     "data": {
      "text/plain": [
       "datetime      0\n",
       "season        0\n",
       "holiday       0\n",
       "workingday    0\n",
       "weather       0\n",
       "temp          0\n",
       "atemp         0\n",
       "humidity      0\n",
       "windspeed     0\n",
       "casual        0\n",
       "registered    0\n",
       "count         0\n",
       "dtype: int64"
      ]
     },
     "execution_count": 6,
     "metadata": {},
     "output_type": "execute_result"
    }
   ],
   "source": [
    "# 결측값 확인\n",
    "train.isnull().sum()"
   ]
  },
  {
   "cell_type": "code",
   "execution_count": 7,
   "id": "65c4581f",
   "metadata": {
    "execution": {
     "iopub.execute_input": "2022-11-29T10:12:08.315355Z",
     "iopub.status.busy": "2022-11-29T10:12:08.314708Z",
     "iopub.status.idle": "2022-11-29T10:12:08.322823Z",
     "shell.execute_reply": "2022-11-29T10:12:08.322104Z"
    },
    "papermill": {
     "duration": 0.017662,
     "end_time": "2022-11-29T10:12:08.324686",
     "exception": false,
     "start_time": "2022-11-29T10:12:08.307024",
     "status": "completed"
    },
    "tags": []
   },
   "outputs": [
    {
     "data": {
      "text/plain": [
       "datetime      0\n",
       "season        0\n",
       "holiday       0\n",
       "workingday    0\n",
       "weather       0\n",
       "temp          0\n",
       "atemp         0\n",
       "humidity      0\n",
       "windspeed     0\n",
       "dtype: int64"
      ]
     },
     "execution_count": 7,
     "metadata": {},
     "output_type": "execute_result"
    }
   ],
   "source": [
    "# 결측값 확인\n",
    "test.isnull().sum()"
   ]
  },
  {
   "cell_type": "code",
   "execution_count": 8,
   "id": "bd1143aa",
   "metadata": {
    "execution": {
     "iopub.execute_input": "2022-11-29T10:12:08.339719Z",
     "iopub.status.busy": "2022-11-29T10:12:08.339092Z",
     "iopub.status.idle": "2022-11-29T10:12:08.559751Z",
     "shell.execute_reply": "2022-11-29T10:12:08.558435Z"
    },
    "papermill": {
     "duration": 0.230609,
     "end_time": "2022-11-29T10:12:08.561894",
     "exception": false,
     "start_time": "2022-11-29T10:12:08.331285",
     "status": "completed"
    },
    "tags": []
   },
   "outputs": [
    {
     "data": {
      "text/plain": [
       "<AxesSubplot:>"
      ]
     },
     "execution_count": 8,
     "metadata": {},
     "output_type": "execute_result"
    },
    {
     "data": {
      "image/png": "[encoded data removed]",
      "text/plain": [
       "<Figure size 432x288 with 1 Axes>"
      ]
     },
     "metadata": {
      "needs_background": "light"
     },
     "output_type": "display_data"
    }
   ],
   "source": [
    "train['count'].hist()"
   ]
  },
  {
   "cell_type": "markdown",
   "id": "94503a00",
   "metadata": {
    "papermill": {
     "duration": 0.00627,
     "end_time": "2022-11-29T10:12:08.575055",
     "exception": false,
     "start_time": "2022-11-29T10:12:08.568785",
     "status": "completed"
    },
    "tags": []
   },
   "source": [
    "## 전처리"
   ]
  },
  {
   "cell_type": "code",
   "execution_count": 9,
   "id": "fdd123c3",
   "metadata": {
    "execution": {
     "iopub.execute_input": "2022-11-29T10:12:08.590043Z",
     "iopub.status.busy": "2022-11-29T10:12:08.589371Z",
     "iopub.status.idle": "2022-11-29T10:12:08.618072Z",
     "shell.execute_reply": "2022-11-29T10:12:08.616976Z"
    },
    "papermill": {
     "duration": 0.03898,
     "end_time": "2022-11-29T10:12:08.620523",
     "exception": false,
     "start_time": "2022-11-29T10:12:08.581543",
     "status": "completed"
    },
    "tags": []
   },
   "outputs": [],
   "source": [
    "# datetime\n",
    "\n",
    "train['datetime'] = pd.to_datetime(train['datetime'])\n",
    "test['datetime'] = pd.to_datetime(test['datetime'])\n",
    "\n",
    "train['year'] = train['datetime'].dt.year\n",
    "train['month'] = train['datetime'].dt.month\n",
    "train['day'] = train['datetime'].dt.day\n",
    "\n",
    "test['year'] = test['datetime'].dt.year\n",
    "test['month'] = test['datetime'].dt.month\n",
    "test['day'] = test['datetime'].dt.day\n",
    "\n",
    "train = train.drop('datetime', axis=1)\n",
    "test = test.drop('datetime', axis=1)"
   ]
  },
  {
   "cell_type": "code",
   "execution_count": 10,
   "id": "6fd5f62b",
   "metadata": {
    "execution": {
     "iopub.execute_input": "2022-11-29T10:12:08.635835Z",
     "iopub.status.busy": "2022-11-29T10:12:08.635443Z",
     "iopub.status.idle": "2022-11-29T10:12:08.650215Z",
     "shell.execute_reply": "2022-11-29T10:12:08.648910Z"
    },
    "papermill": {
     "duration": 0.02482,
     "end_time": "2022-11-29T10:12:08.652284",
     "exception": false,
     "start_time": "2022-11-29T10:12:08.627464",
     "status": "completed"
    },
    "tags": []
   },
   "outputs": [
    {
     "data": {
      "text/html": [
       "<div>\n",
       "<style scoped>\n",
       "    .dataframe tbody tr th:only-of-type {\n",
       "        vertical-align: middle;\n",
       "    }\n",
       "\n",
       "    .dataframe tbody tr th {\n",
       "        vertical-align: top;\n",
       "    }\n",
       "\n",
       "    .dataframe thead th {\n",
       "        text-align: right;\n",
       "    }\n",
       "</style>\n",
       "<table border=\"1\" class=\"dataframe\">\n",
       "  <thead>\n",
       "    <tr style=\"text-align: right;\">\n",
       "      <th></th>\n",
       "      <th>season</th>\n",
       "      <th>holiday</th>\n",
       "      <th>workingday</th>\n",
       "      <th>weather</th>\n",
       "      <th>temp</th>\n",
       "      <th>atemp</th>\n",
       "      <th>humidity</th>\n",
       "      <th>windspeed</th>\n",
       "      <th>count</th>\n",
       "      <th>year</th>\n",
       "      <th>month</th>\n",
       "      <th>day</th>\n",
       "    </tr>\n",
       "  </thead>\n",
       "  <tbody>\n",
       "    <tr>\n",
       "      <th>0</th>\n",
       "      <td>1</td>\n",
       "      <td>0</td>\n",
       "      <td>0</td>\n",
       "      <td>1</td>\n",
       "      <td>9.84</td>\n",
       "      <td>14.395</td>\n",
       "      <td>81</td>\n",
       "      <td>0.0</td>\n",
       "      <td>16</td>\n",
       "      <td>2011</td>\n",
       "      <td>1</td>\n",
       "      <td>1</td>\n",
       "    </tr>\n",
       "  </tbody>\n",
       "</table>\n",
       "</div>"
      ],
      "text/plain": [
       "   season  holiday  workingday  weather  temp   atemp  humidity  windspeed  \\\n",
       "0       1        0           0        1  9.84  14.395        81        0.0   \n",
       "\n",
       "   count  year  month  day  \n",
       "0     16  2011      1    1  "
      ]
     },
     "execution_count": 10,
     "metadata": {},
     "output_type": "execute_result"
    }
   ],
   "source": [
    "# test에는 없는 컬럼 삭제\n",
    "train = train.drop(['casual', 'registered'], axis=1)\n",
    "train.head(1)"
   ]
  },
  {
   "cell_type": "code",
   "execution_count": 11,
   "id": "5a5928c9",
   "metadata": {
    "execution": {
     "iopub.execute_input": "2022-11-29T10:12:08.667755Z",
     "iopub.status.busy": "2022-11-29T10:12:08.667361Z",
     "iopub.status.idle": "2022-11-29T10:12:08.676436Z",
     "shell.execute_reply": "2022-11-29T10:12:08.675308Z"
    },
    "papermill": {
     "duration": 0.018828,
     "end_time": "2022-11-29T10:12:08.678289",
     "exception": false,
     "start_time": "2022-11-29T10:12:08.659461",
     "status": "completed"
    },
    "tags": []
   },
   "outputs": [
    {
     "data": {
      "text/plain": [
       "0         16\n",
       "1         40\n",
       "2         32\n",
       "3         13\n",
       "4          1\n",
       "        ... \n",
       "10881    336\n",
       "10882    241\n",
       "10883    168\n",
       "10884    129\n",
       "10885     88\n",
       "Name: count, Length: 10886, dtype: int64"
      ]
     },
     "execution_count": 11,
     "metadata": {},
     "output_type": "execute_result"
    }
   ],
   "source": [
    "# target 별도 저장\n",
    "target = train.pop('count')\n",
    "target"
   ]
  },
  {
   "cell_type": "code",
   "execution_count": 12,
   "id": "15cab9ae",
   "metadata": {
    "execution": {
     "iopub.execute_input": "2022-11-29T10:12:08.693884Z",
     "iopub.status.busy": "2022-11-29T10:12:08.693548Z",
     "iopub.status.idle": "2022-11-29T10:12:09.708620Z",
     "shell.execute_reply": "2022-11-29T10:12:09.707560Z"
    },
    "papermill": {
     "duration": 1.025346,
     "end_time": "2022-11-29T10:12:09.711026",
     "exception": false,
     "start_time": "2022-11-29T10:12:08.685680",
     "status": "completed"
    },
    "tags": []
   },
   "outputs": [
    {
     "data": {
      "text/plain": [
       "((8708, 11), (2178, 11), (8708,), (2178,))"
      ]
     },
     "execution_count": 12,
     "metadata": {},
     "output_type": "execute_result"
    }
   ],
   "source": [
    "from sklearn.model_selection import train_test_split\n",
    "\n",
    "X_train, X_val, y_train, y_val = train_test_split(train, target, test_size=0.2, random_state=2023)\n",
    "X_train.shape, X_val.shape, y_train.shape, y_val.shape"
   ]
  },
  {
   "cell_type": "markdown",
   "id": "c42fa274",
   "metadata": {
    "papermill": {
     "duration": 0.00678,
     "end_time": "2022-11-29T10:12:09.725237",
     "exception": false,
     "start_time": "2022-11-29T10:12:09.718457",
     "status": "completed"
    },
    "tags": []
   },
   "source": [
    "## 선형회귀 모델"
   ]
  },
  {
   "cell_type": "code",
   "execution_count": 13,
   "id": "0effb471",
   "metadata": {
    "execution": {
     "iopub.execute_input": "2022-11-29T10:12:09.741126Z",
     "iopub.status.busy": "2022-11-29T10:12:09.740466Z",
     "iopub.status.idle": "2022-11-29T10:12:09.744899Z",
     "shell.execute_reply": "2022-11-29T10:12:09.743613Z"
    },
    "papermill": {
     "duration": 0.015215,
     "end_time": "2022-11-29T10:12:09.747314",
     "exception": false,
     "start_time": "2022-11-29T10:12:09.732099",
     "status": "completed"
    },
    "tags": []
   },
   "outputs": [],
   "source": [
    "# 평가\n",
    "from sklearn.metrics import r2_score"
   ]
  },
  {
   "cell_type": "code",
   "execution_count": 14,
   "id": "6fb83d7a",
   "metadata": {
    "execution": {
     "iopub.execute_input": "2022-11-29T10:12:09.764104Z",
     "iopub.status.busy": "2022-11-29T10:12:09.763556Z",
     "iopub.status.idle": "2022-11-29T10:12:09.884779Z",
     "shell.execute_reply": "2022-11-29T10:12:09.883989Z"
    },
    "papermill": {
     "duration": 0.132575,
     "end_time": "2022-11-29T10:12:09.887409",
     "exception": false,
     "start_time": "2022-11-29T10:12:09.754834",
     "status": "completed"
    },
    "tags": []
   },
   "outputs": [
    {
     "data": {
      "text/plain": [
       "0.30780476926281297"
      ]
     },
     "execution_count": 14,
     "metadata": {},
     "output_type": "execute_result"
    }
   ],
   "source": [
    "from sklearn.linear_model import LinearRegression\n",
    "lr = LinearRegression()\n",
    "lr.fit(X_train, y_train)\n",
    "pred = lr.predict(X_val)\n",
    "r2_score(y_val, pred)"
   ]
  },
  {
   "cell_type": "markdown",
   "id": "d44ae5fb",
   "metadata": {
    "papermill": {
     "duration": 0.02134,
     "end_time": "2022-11-29T10:12:09.918553",
     "exception": false,
     "start_time": "2022-11-29T10:12:09.897213",
     "status": "completed"
    },
    "tags": []
   },
   "source": [
    "## 랜덤포레스트"
   ]
  },
  {
   "cell_type": "code",
   "execution_count": 15,
   "id": "7b627cf8",
   "metadata": {
    "execution": {
     "iopub.execute_input": "2022-11-29T10:12:09.963632Z",
     "iopub.status.busy": "2022-11-29T10:12:09.963221Z",
     "iopub.status.idle": "2022-11-29T10:12:12.387746Z",
     "shell.execute_reply": "2022-11-29T10:12:12.386617Z"
    },
    "papermill": {
     "duration": 2.454164,
     "end_time": "2022-11-29T10:12:12.389675",
     "exception": false,
     "start_time": "2022-11-29T10:12:09.935511",
     "status": "completed"
    },
    "tags": []
   },
   "outputs": [
    {
     "data": {
      "text/plain": [
       "0.438516899626206"
      ]
     },
     "execution_count": 15,
     "metadata": {},
     "output_type": "execute_result"
    }
   ],
   "source": [
    "from sklearn.ensemble import RandomForestRegressor\n",
    "rf = RandomForestRegressor()\n",
    "rf.fit(X_train, y_train)\n",
    "pred = rf.predict(X_val)\n",
    "r2_score(y_val, pred)"
   ]
  },
  {
   "cell_type": "markdown",
   "id": "7c847827",
   "metadata": {
    "papermill": {
     "duration": 0.007085,
     "end_time": "2022-11-29T10:12:12.404100",
     "exception": false,
     "start_time": "2022-11-29T10:12:12.397015",
     "status": "completed"
    },
    "tags": []
   },
   "source": [
    "## XGBoost 모델"
   ]
  },
  {
   "cell_type": "code",
   "execution_count": 16,
   "id": "6034566e",
   "metadata": {
    "execution": {
     "iopub.execute_input": "2022-11-29T10:12:12.420644Z",
     "iopub.status.busy": "2022-11-29T10:12:12.419885Z",
     "iopub.status.idle": "2022-11-29T10:12:13.098719Z",
     "shell.execute_reply": "2022-11-29T10:12:13.097946Z"
    },
    "papermill": {
     "duration": 0.68952,
     "end_time": "2022-11-29T10:12:13.100857",
     "exception": false,
     "start_time": "2022-11-29T10:12:12.411337",
     "status": "completed"
    },
    "tags": []
   },
   "outputs": [
    {
     "data": {
      "text/plain": [
       "0.40839958233431084"
      ]
     },
     "execution_count": 16,
     "metadata": {},
     "output_type": "execute_result"
    }
   ],
   "source": [
    "from xgboost import XGBRegressor\n",
    "xgb = XGBRegressor()\n",
    "xgb.fit(X_train, y_train)\n",
    "pred = xgb.predict(X_val)\n",
    "r2_score(y_val, pred)"
   ]
  },
  {
   "cell_type": "code",
   "execution_count": 17,
   "id": "60149b10",
   "metadata": {
    "execution": {
     "iopub.execute_input": "2022-11-29T10:12:13.118878Z",
     "iopub.status.busy": "2022-11-29T10:12:13.118527Z",
     "iopub.status.idle": "2022-11-29T10:12:18.493724Z",
     "shell.execute_reply": "2022-11-29T10:12:18.492848Z"
    },
    "papermill": {
     "duration": 5.386638,
     "end_time": "2022-11-29T10:12:18.495797",
     "exception": false,
     "start_time": "2022-11-29T10:12:13.109159",
     "status": "completed"
    },
    "tags": []
   },
   "outputs": [
    {
     "data": {
      "text/plain": [
       "0.4473182182516243"
      ]
     },
     "execution_count": 17,
     "metadata": {},
     "output_type": "execute_result"
    }
   ],
   "source": [
    "# 하이퍼파라미터 \n",
    "from xgboost import XGBRegressor\n",
    "xgb = XGBRegressor(n_estimators=500, learning_rate=0.01, max_depth=9)\n",
    "xgb.fit(X_train, y_train)\n",
    "pred = xgb.predict(X_val)\n",
    "r2_score(y_val, pred)"
   ]
  },
  {
   "cell_type": "markdown",
   "id": "5e293ce7",
   "metadata": {
    "papermill": {
     "duration": 0.007842,
     "end_time": "2022-11-29T10:12:18.511444",
     "exception": false,
     "start_time": "2022-11-29T10:12:18.503602",
     "status": "completed"
    },
    "tags": []
   },
   "source": [
    "## test 데이터 예측"
   ]
  },
  {
   "cell_type": "code",
   "execution_count": 18,
   "id": "cfdceb7e",
   "metadata": {
    "execution": {
     "iopub.execute_input": "2022-11-29T10:12:18.528571Z",
     "iopub.status.busy": "2022-11-29T10:12:18.528191Z",
     "iopub.status.idle": "2022-11-29T10:12:18.590071Z",
     "shell.execute_reply": "2022-11-29T10:12:18.589350Z"
    },
    "papermill": {
     "duration": 0.072981,
     "end_time": "2022-11-29T10:12:18.591985",
     "exception": false,
     "start_time": "2022-11-29T10:12:18.519004",
     "status": "completed"
    },
    "tags": []
   },
   "outputs": [
    {
     "data": {
      "text/plain": [
       "array([ 86.14312,  67.58316,  67.58316, ..., 146.57967, 109.61407,\n",
       "       178.52168], dtype=float32)"
      ]
     },
     "execution_count": 18,
     "metadata": {},
     "output_type": "execute_result"
    }
   ],
   "source": [
    "# 예측\n",
    "pred = xgb.predict(test)\n",
    "pred"
   ]
  },
  {
   "cell_type": "code",
   "execution_count": 19,
   "id": "20bb07f3",
   "metadata": {
    "execution": {
     "iopub.execute_input": "2022-11-29T10:12:18.609639Z",
     "iopub.status.busy": "2022-11-29T10:12:18.608700Z",
     "iopub.status.idle": "2022-11-29T10:12:18.636279Z",
     "shell.execute_reply": "2022-11-29T10:12:18.635293Z"
    },
    "papermill": {
     "duration": 0.038871,
     "end_time": "2022-11-29T10:12:18.638669",
     "exception": false,
     "start_time": "2022-11-29T10:12:18.599798",
     "status": "completed"
    },
    "tags": []
   },
   "outputs": [],
   "source": [
    "# csv 파일 생성\n",
    "test = pd.read_csv(\"/kaggle/input/bike-sharing-demand/test.csv\")\n",
    "\n",
    "submit = pd.DataFrame({\n",
    "    'datetime': test['datetime'],\n",
    "    'count': pred\n",
    "})\n",
    "submit.to_csv(\"submission.csv\", index=False)"
   ]
  },
  {
   "cell_type": "code",
   "execution_count": 20,
   "id": "727003d0",
   "metadata": {
    "execution": {
     "iopub.execute_input": "2022-11-29T10:12:18.655288Z",
     "iopub.status.busy": "2022-11-29T10:12:18.654921Z",
     "iopub.status.idle": "2022-11-29T10:12:18.669411Z",
     "shell.execute_reply": "2022-11-29T10:12:18.667976Z"
    },
    "papermill": {
     "duration": 0.024923,
     "end_time": "2022-11-29T10:12:18.671237",
     "exception": false,
     "start_time": "2022-11-29T10:12:18.646314",
     "status": "completed"
    },
    "tags": []
   },
   "outputs": [
    {
     "name": "stdout",
     "output_type": "stream",
     "text": [
      "                 datetime      count\n",
      "0     2011-01-20 00:00:00   86.14312\n",
      "1     2011-01-20 01:00:00   67.58316\n",
      "2     2011-01-20 02:00:00   67.58316\n",
      "3     2011-01-20 03:00:00   79.79623\n",
      "4     2011-01-20 04:00:00   79.79623\n",
      "...                   ...        ...\n",
      "6488  2012-12-31 19:00:00  148.04665\n",
      "6489  2012-12-31 20:00:00  148.04665\n",
      "6490  2012-12-31 21:00:00  146.57967\n",
      "6491  2012-12-31 22:00:00  109.61407\n",
      "6492  2012-12-31 23:00:00  178.52168\n",
      "\n",
      "[6493 rows x 2 columns]\n",
      "(6493, 2) (6493, 9)\n"
     ]
    }
   ],
   "source": [
    "# 점검\n",
    "print(pd.read_csv(\"submission.csv\"))\n",
    "print(submit.shape, test.shape)"
   ]
  }
 ],
 "metadata": {
  "kernelspec": {
   "display_name": "Python 3",
   "language": "python",
   "name": "python3"
  },
  "language_info": {
   "codemirror_mode": {
    "name": "ipython",
    "version": 3
   },
   "file_extension": ".py",
   "mimetype": "text/x-python",
   "name": "python",
   "nbconvert_exporter": "python",
   "pygments_lexer": "ipython3",
   "version": "3.7.12"
  },
  "papermill": {
   "default_parameters": {},
   "duration": 18.812953,
   "end_time": "2022-11-29T10:12:19.400321",
   "environment_variables": {},
   "exception": null,
   "input_path": "__notebook__.ipynb",
   "output_path": "__notebook__.ipynb",
   "parameters": {},
   "start_time": "2022-11-29T10:12:00.587368",
   "version": "2.3.4"
  }
 },
 "nbformat": 4,
 "nbformat_minor": 5
}
