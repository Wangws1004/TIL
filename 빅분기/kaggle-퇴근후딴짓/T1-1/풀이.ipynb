{
  "cells": [
    {
      "cell_type": "markdown",
      "id": "20897715",
      "metadata": {
        "papermill": {
          "duration": 0.015174,
          "end_time": "2021-12-03T07:21:54.141286",
          "exception": false,
          "start_time": "2021-12-03T07:21:54.126112",
          "status": "completed"
        },
        "tags": [],
        "id": "20897715"
      },
      "source": [
        "## 이상치를 찾아라\n",
        "### 데이터에서 IQR을 활용해 Fare컬럼의 이상치를 찾고, 이상치 데이터의 여성 수를 구하시오\n",
        "- 강의 영상 : https://youtu.be/ipBW5D_UJEo\n",
        "- 데이터셋 : titanic\n",
        "- 오른쪽 상단 copy&edit 클릭 -> 예상문제 풀이 시작\n",
        "- 데이터 위치 \"../input/titanic/train.csv\" (copy&edit가 아닐 경우 별도로 데이터셋 불러와야 함)"
      ]
    },
    {
      "cell_type": "markdown",
      "id": "84be3c93",
      "metadata": {
        "papermill": {
          "duration": 0.012621,
          "end_time": "2021-12-03T07:21:54.168166",
          "exception": false,
          "start_time": "2021-12-03T07:21:54.155545",
          "status": "completed"
        },
        "tags": [],
        "id": "84be3c93"
      },
      "source": [
        "![440px-Boxplot_vs_PDF.svg.png](attachment:313d91a5-157c-404f-8395-2298413d15e2.png)"
      ]
    },
    {
      "cell_type": "code",
      "execution_count": 1,
      "id": "812a2116",
      "metadata": {
        "execution": {
          "iopub.execute_input": "2021-12-03T07:21:54.199817Z",
          "iopub.status.busy": "2021-12-03T07:21:54.198634Z",
          "iopub.status.idle": "2021-12-03T07:21:54.201652Z",
          "shell.execute_reply": "2021-12-03T07:21:54.200995Z",
          "shell.execute_reply.started": "2021-12-03T07:21:17.927725Z"
        },
        "papermill": {
          "duration": 0.020599,
          "end_time": "2021-12-03T07:21:54.201824",
          "exception": false,
          "start_time": "2021-12-03T07:21:54.181225",
          "status": "completed"
        },
        "tags": [],
        "id": "812a2116"
      },
      "outputs": [],
      "source": [
        "# 라이브러리 및 데이터 불러오기\n",
        "\n",
        "\n",
        "import pandas as pd"
      ]
    },
    {
      "cell_type": "code",
      "execution_count": 2,
      "id": "a65fbef6",
      "metadata": {
        "execution": {
          "iopub.execute_input": "2021-12-03T07:21:54.231643Z",
          "iopub.status.busy": "2021-12-03T07:21:54.230933Z",
          "iopub.status.idle": "2021-12-03T07:21:54.233597Z",
          "shell.execute_reply": "2021-12-03T07:21:54.234091Z",
          "shell.execute_reply.started": "2021-12-03T07:21:17.933282Z"
        },
        "papermill": {
          "duration": 0.019346,
          "end_time": "2021-12-03T07:21:54.234291",
          "exception": false,
          "start_time": "2021-12-03T07:21:54.214945",
          "status": "completed"
        },
        "tags": [],
        "colab": {
          "base_uri": "https://localhost:8080/",
          "height": 374
        },
        "id": "a65fbef6",
        "outputId": "bdcd65a8-f794-4e68-959c-aab507fd2d32"
      },
      "outputs": [
        {
          "output_type": "execute_result",
          "data": {
            "text/plain": [
              "   PassengerId  Survived  Pclass  \\\n",
              "0            1         0       3   \n",
              "1            2         1       1   \n",
              "2            3         1       3   \n",
              "3            4         1       1   \n",
              "4            5         0       3   \n",
              "\n",
              "                                                Name     Sex   Age  SibSp  \\\n",
              "0                            Braund, Mr. Owen Harris    male  22.0      1   \n",
              "1  Cumings, Mrs. John Bradley (Florence Briggs Th...  female  38.0      1   \n",
              "2                             Heikkinen, Miss. Laina  female  26.0      0   \n",
              "3       Futrelle, Mrs. Jacques Heath (Lily May Peel)  female  35.0      1   \n",
              "4                           Allen, Mr. William Henry    male  35.0      0   \n",
              "\n",
              "   Parch            Ticket     Fare Cabin Embarked  \n",
              "0      0         A/5 21171   7.2500   NaN        S  \n",
              "1      0          PC 17599  71.2833   C85        C  \n",
              "2      0  STON/O2. 3101282   7.9250   NaN        S  \n",
              "3      0            113803  53.1000  C123        S  \n",
              "4      0            373450   8.0500   NaN        S  "
            ],
            "text/html": [
              "\n",
              "  <div id=\"df-8aea439a-8534-4bfa-978d-9effdd1f1ec5\" class=\"colab-df-container\">\n",
              "    <div>\n",
              "<style scoped>\n",
              "    .dataframe tbody tr th:only-of-type {\n",
              "        vertical-align: middle;\n",
              "    }\n",
              "\n",
              "    .dataframe tbody tr th {\n",
              "        vertical-align: top;\n",
              "    }\n",
              "\n",
              "    .dataframe thead th {\n",
              "        text-align: right;\n",
              "    }\n",
              "</style>\n",
              "<table border=\"1\" class=\"dataframe\">\n",
              "  <thead>\n",
              "    <tr style=\"text-align: right;\">\n",
              "      <th></th>\n",
              "      <th>PassengerId</th>\n",
              "      <th>Survived</th>\n",
              "      <th>Pclass</th>\n",
              "      <th>Name</th>\n",
              "      <th>Sex</th>\n",
              "      <th>Age</th>\n",
              "      <th>SibSp</th>\n",
              "      <th>Parch</th>\n",
              "      <th>Ticket</th>\n",
              "      <th>Fare</th>\n",
              "      <th>Cabin</th>\n",
              "      <th>Embarked</th>\n",
              "    </tr>\n",
              "  </thead>\n",
              "  <tbody>\n",
              "    <tr>\n",
              "      <th>0</th>\n",
              "      <td>1</td>\n",
              "      <td>0</td>\n",
              "      <td>3</td>\n",
              "      <td>Braund, Mr. Owen Harris</td>\n",
              "      <td>male</td>\n",
              "      <td>22.0</td>\n",
              "      <td>1</td>\n",
              "      <td>0</td>\n",
              "      <td>A/5 21171</td>\n",
              "      <td>7.2500</td>\n",
              "      <td>NaN</td>\n",
              "      <td>S</td>\n",
              "    </tr>\n",
              "    <tr>\n",
              "      <th>1</th>\n",
              "      <td>2</td>\n",
              "      <td>1</td>\n",
              "      <td>1</td>\n",
              "      <td>Cumings, Mrs. John Bradley (Florence Briggs Th...</td>\n",
              "      <td>female</td>\n",
              "      <td>38.0</td>\n",
              "      <td>1</td>\n",
              "      <td>0</td>\n",
              "      <td>PC 17599</td>\n",
              "      <td>71.2833</td>\n",
              "      <td>C85</td>\n",
              "      <td>C</td>\n",
              "    </tr>\n",
              "    <tr>\n",
              "      <th>2</th>\n",
              "      <td>3</td>\n",
              "      <td>1</td>\n",
              "      <td>3</td>\n",
              "      <td>Heikkinen, Miss. Laina</td>\n",
              "      <td>female</td>\n",
              "      <td>26.0</td>\n",
              "      <td>0</td>\n",
              "      <td>0</td>\n",
              "      <td>STON/O2. 3101282</td>\n",
              "      <td>7.9250</td>\n",
              "      <td>NaN</td>\n",
              "      <td>S</td>\n",
              "    </tr>\n",
              "    <tr>\n",
              "      <th>3</th>\n",
              "      <td>4</td>\n",
              "      <td>1</td>\n",
              "      <td>1</td>\n",
              "      <td>Futrelle, Mrs. Jacques Heath (Lily May Peel)</td>\n",
              "      <td>female</td>\n",
              "      <td>35.0</td>\n",
              "      <td>1</td>\n",
              "      <td>0</td>\n",
              "      <td>113803</td>\n",
              "      <td>53.1000</td>\n",
              "      <td>C123</td>\n",
              "      <td>S</td>\n",
              "    </tr>\n",
              "    <tr>\n",
              "      <th>4</th>\n",
              "      <td>5</td>\n",
              "      <td>0</td>\n",
              "      <td>3</td>\n",
              "      <td>Allen, Mr. William Henry</td>\n",
              "      <td>male</td>\n",
              "      <td>35.0</td>\n",
              "      <td>0</td>\n",
              "      <td>0</td>\n",
              "      <td>373450</td>\n",
              "      <td>8.0500</td>\n",
              "      <td>NaN</td>\n",
              "      <td>S</td>\n",
              "    </tr>\n",
              "  </tbody>\n",
              "</table>\n",
              "</div>\n",
              "    <div class=\"colab-df-buttons\">\n",
              "\n",
              "  <div class=\"colab-df-container\">\n",
              "    <button class=\"colab-df-convert\" onclick=\"convertToInteractive('df-8aea439a-8534-4bfa-978d-9effdd1f1ec5')\"\n",
              "            title=\"Convert this dataframe to an interactive table.\"\n",
              "            style=\"display:none;\">\n",
              "\n",
              "  <svg xmlns=\"http://www.w3.org/2000/svg\" height=\"24px\" viewBox=\"0 -960 960 960\">\n",
              "    <path d=\"M120-120v-720h720v720H120Zm60-500h600v-160H180v160Zm220 220h160v-160H400v160Zm0 220h160v-160H400v160ZM180-400h160v-160H180v160Zm440 0h160v-160H620v160ZM180-180h160v-160H180v160Zm440 0h160v-160H620v160Z\"/>\n",
              "  </svg>\n",
              "    </button>\n",
              "\n",
              "  <style>\n",
              "    .colab-df-container {\n",
              "      display:flex;\n",
              "      gap: 12px;\n",
              "    }\n",
              "\n",
              "    .colab-df-convert {\n",
              "      background-color: #E8F0FE;\n",
              "      border: none;\n",
              "      border-radius: 50%;\n",
              "      cursor: pointer;\n",
              "      display: none;\n",
              "      fill: #1967D2;\n",
              "      height: 32px;\n",
              "      padding: 0 0 0 0;\n",
              "      width: 32px;\n",
              "    }\n",
              "\n",
              "    .colab-df-convert:hover {\n",
              "      background-color: #E2EBFA;\n",
              "      box-shadow: 0px 1px 2px rgba(60, 64, 67, 0.3), 0px 1px 3px 1px rgba(60, 64, 67, 0.15);\n",
              "      fill: #174EA6;\n",
              "    }\n",
              "\n",
              "    .colab-df-buttons div {\n",
              "      margin-bottom: 4px;\n",
              "    }\n",
              "\n",
              "    [theme=dark] .colab-df-convert {\n",
              "      background-color: #3B4455;\n",
              "      fill: #D2E3FC;\n",
              "    }\n",
              "\n",
              "    [theme=dark] .colab-df-convert:hover {\n",
              "      background-color: #434B5C;\n",
              "      box-shadow: 0px 1px 3px 1px rgba(0, 0, 0, 0.15);\n",
              "      filter: drop-shadow(0px 1px 2px rgba(0, 0, 0, 0.3));\n",
              "      fill: #FFFFFF;\n",
              "    }\n",
              "  </style>\n",
              "\n",
              "    <script>\n",
              "      const buttonEl =\n",
              "        document.querySelector('#df-8aea439a-8534-4bfa-978d-9effdd1f1ec5 button.colab-df-convert');\n",
              "      buttonEl.style.display =\n",
              "        google.colab.kernel.accessAllowed ? 'block' : 'none';\n",
              "\n",
              "      async function convertToInteractive(key) {\n",
              "        const element = document.querySelector('#df-8aea439a-8534-4bfa-978d-9effdd1f1ec5');\n",
              "        const dataTable =\n",
              "          await google.colab.kernel.invokeFunction('convertToInteractive',\n",
              "                                                    [key], {});\n",
              "        if (!dataTable) return;\n",
              "\n",
              "        const docLinkHtml = 'Like what you see? Visit the ' +\n",
              "          '<a target=\"_blank\" href=https://colab.research.google.com/notebooks/data_table.ipynb>data table notebook</a>'\n",
              "          + ' to learn more about interactive tables.';\n",
              "        element.innerHTML = '';\n",
              "        dataTable['output_type'] = 'display_data';\n",
              "        await google.colab.output.renderOutput(dataTable, element);\n",
              "        const docLink = document.createElement('div');\n",
              "        docLink.innerHTML = docLinkHtml;\n",
              "        element.appendChild(docLink);\n",
              "      }\n",
              "    </script>\n",
              "  </div>\n",
              "\n",
              "\n",
              "<div id=\"df-5b6608bc-21d0-4309-b88f-c03023283aa7\">\n",
              "  <button class=\"colab-df-quickchart\" onclick=\"quickchart('df-5b6608bc-21d0-4309-b88f-c03023283aa7')\"\n",
              "            title=\"Suggest charts\"\n",
              "            style=\"display:none;\">\n",
              "\n",
              "<svg xmlns=\"http://www.w3.org/2000/svg\" height=\"24px\"viewBox=\"0 0 24 24\"\n",
              "     width=\"24px\">\n",
              "    <g>\n",
              "        <path d=\"M19 3H5c-1.1 0-2 .9-2 2v14c0 1.1.9 2 2 2h14c1.1 0 2-.9 2-2V5c0-1.1-.9-2-2-2zM9 17H7v-7h2v7zm4 0h-2V7h2v10zm4 0h-2v-4h2v4z\"/>\n",
              "    </g>\n",
              "</svg>\n",
              "  </button>\n",
              "\n",
              "<style>\n",
              "  .colab-df-quickchart {\n",
              "      --bg-color: #E8F0FE;\n",
              "      --fill-color: #1967D2;\n",
              "      --hover-bg-color: #E2EBFA;\n",
              "      --hover-fill-color: #174EA6;\n",
              "      --disabled-fill-color: #AAA;\n",
              "      --disabled-bg-color: #DDD;\n",
              "  }\n",
              "\n",
              "  [theme=dark] .colab-df-quickchart {\n",
              "      --bg-color: #3B4455;\n",
              "      --fill-color: #D2E3FC;\n",
              "      --hover-bg-color: #434B5C;\n",
              "      --hover-fill-color: #FFFFFF;\n",
              "      --disabled-bg-color: #3B4455;\n",
              "      --disabled-fill-color: #666;\n",
              "  }\n",
              "\n",
              "  .colab-df-quickchart {\n",
              "    background-color: var(--bg-color);\n",
              "    border: none;\n",
              "    border-radius: 50%;\n",
              "    cursor: pointer;\n",
              "    display: none;\n",
              "    fill: var(--fill-color);\n",
              "    height: 32px;\n",
              "    padding: 0;\n",
              "    width: 32px;\n",
              "  }\n",
              "\n",
              "  .colab-df-quickchart:hover {\n",
              "    background-color: var(--hover-bg-color);\n",
              "    box-shadow: 0 1px 2px rgba(60, 64, 67, 0.3), 0 1px 3px 1px rgba(60, 64, 67, 0.15);\n",
              "    fill: var(--button-hover-fill-color);\n",
              "  }\n",
              "\n",
              "  .colab-df-quickchart-complete:disabled,\n",
              "  .colab-df-quickchart-complete:disabled:hover {\n",
              "    background-color: var(--disabled-bg-color);\n",
              "    fill: var(--disabled-fill-color);\n",
              "    box-shadow: none;\n",
              "  }\n",
              "\n",
              "  .colab-df-spinner {\n",
              "    border: 2px solid var(--fill-color);\n",
              "    border-color: transparent;\n",
              "    border-bottom-color: var(--fill-color);\n",
              "    animation:\n",
              "      spin 1s steps(1) infinite;\n",
              "  }\n",
              "\n",
              "  @keyframes spin {\n",
              "    0% {\n",
              "      border-color: transparent;\n",
              "      border-bottom-color: var(--fill-color);\n",
              "      border-left-color: var(--fill-color);\n",
              "    }\n",
              "    20% {\n",
              "      border-color: transparent;\n",
              "      border-left-color: var(--fill-color);\n",
              "      border-top-color: var(--fill-color);\n",
              "    }\n",
              "    30% {\n",
              "      border-color: transparent;\n",
              "      border-left-color: var(--fill-color);\n",
              "      border-top-color: var(--fill-color);\n",
              "      border-right-color: var(--fill-color);\n",
              "    }\n",
              "    40% {\n",
              "      border-color: transparent;\n",
              "      border-right-color: var(--fill-color);\n",
              "      border-top-color: var(--fill-color);\n",
              "    }\n",
              "    60% {\n",
              "      border-color: transparent;\n",
              "      border-right-color: var(--fill-color);\n",
              "    }\n",
              "    80% {\n",
              "      border-color: transparent;\n",
              "      border-right-color: var(--fill-color);\n",
              "      border-bottom-color: var(--fill-color);\n",
              "    }\n",
              "    90% {\n",
              "      border-color: transparent;\n",
              "      border-bottom-color: var(--fill-color);\n",
              "    }\n",
              "  }\n",
              "</style>\n",
              "\n",
              "  <script>\n",
              "    async function quickchart(key) {\n",
              "      const quickchartButtonEl =\n",
              "        document.querySelector('#' + key + ' button');\n",
              "      quickchartButtonEl.disabled = true;  // To prevent multiple clicks.\n",
              "      quickchartButtonEl.classList.add('colab-df-spinner');\n",
              "      try {\n",
              "        const charts = await google.colab.kernel.invokeFunction(\n",
              "            'suggestCharts', [key], {});\n",
              "      } catch (error) {\n",
              "        console.error('Error during call to suggestCharts:', error);\n",
              "      }\n",
              "      quickchartButtonEl.classList.remove('colab-df-spinner');\n",
              "      quickchartButtonEl.classList.add('colab-df-quickchart-complete');\n",
              "    }\n",
              "    (() => {\n",
              "      let quickchartButtonEl =\n",
              "        document.querySelector('#df-5b6608bc-21d0-4309-b88f-c03023283aa7 button');\n",
              "      quickchartButtonEl.style.display =\n",
              "        google.colab.kernel.accessAllowed ? 'block' : 'none';\n",
              "    })();\n",
              "  </script>\n",
              "</div>\n",
              "\n",
              "    </div>\n",
              "  </div>\n"
            ],
            "application/vnd.google.colaboratory.intrinsic+json": {
              "type": "dataframe",
              "variable_name": "df",
              "summary": "{\n  \"name\": \"df\",\n  \"rows\": 891,\n  \"fields\": [\n    {\n      \"column\": \"PassengerId\",\n      \"properties\": {\n        \"dtype\": \"number\",\n        \"std\": 257,\n        \"min\": 1,\n        \"max\": 891,\n        \"num_unique_values\": 891,\n        \"samples\": [\n          710,\n          440,\n          841\n        ],\n        \"semantic_type\": \"\",\n        \"description\": \"\"\n      }\n    },\n    {\n      \"column\": \"Survived\",\n      \"properties\": {\n        \"dtype\": \"number\",\n        \"std\": 0,\n        \"min\": 0,\n        \"max\": 1,\n        \"num_unique_values\": 2,\n        \"samples\": [\n          1,\n          0\n        ],\n        \"semantic_type\": \"\",\n        \"description\": \"\"\n      }\n    },\n    {\n      \"column\": \"Pclass\",\n      \"properties\": {\n        \"dtype\": \"number\",\n        \"std\": 0,\n        \"min\": 1,\n        \"max\": 3,\n        \"num_unique_values\": 3,\n        \"samples\": [\n          3,\n          1\n        ],\n        \"semantic_type\": \"\",\n        \"description\": \"\"\n      }\n    },\n    {\n      \"column\": \"Name\",\n      \"properties\": {\n        \"dtype\": \"string\",\n        \"num_unique_values\": 891,\n        \"samples\": [\n          \"Moubarek, Master. Halim Gonios (\\\"William George\\\")\",\n          \"Kvillner, Mr. Johan Henrik Johannesson\"\n        ],\n        \"semantic_type\": \"\",\n        \"description\": \"\"\n      }\n    },\n    {\n      \"column\": \"Sex\",\n      \"properties\": {\n        \"dtype\": \"category\",\n        \"num_unique_values\": 2,\n        \"samples\": [\n          \"female\",\n          \"male\"\n        ],\n        \"semantic_type\": \"\",\n        \"description\": \"\"\n      }\n    },\n    {\n      \"column\": \"Age\",\n      \"properties\": {\n        \"dtype\": \"number\",\n        \"std\": 14.526497332334042,\n        \"min\": 0.42,\n        \"max\": 80.0,\n        \"num_unique_values\": 88,\n        \"samples\": [\n          0.75,\n          22.0\n        ],\n        \"semantic_type\": \"\",\n        \"description\": \"\"\n      }\n    },\n    {\n      \"column\": \"SibSp\",\n      \"properties\": {\n        \"dtype\": \"number\",\n        \"std\": 1,\n        \"min\": 0,\n        \"max\": 8,\n        \"num_unique_values\": 7,\n        \"samples\": [\n          1,\n          0\n        ],\n        \"semantic_type\": \"\",\n        \"description\": \"\"\n      }\n    },\n    {\n      \"column\": \"Parch\",\n      \"properties\": {\n        \"dtype\": \"number\",\n        \"std\": 0,\n        \"min\": 0,\n        \"max\": 6,\n        \"num_unique_values\": 7,\n        \"samples\": [\n          0,\n          1\n        ],\n        \"semantic_type\": \"\",\n        \"description\": \"\"\n      }\n    },\n    {\n      \"column\": \"Ticket\",\n      \"properties\": {\n        \"dtype\": \"string\",\n        \"num_unique_values\": 681,\n        \"samples\": [\n          \"11774\",\n          \"248740\"\n        ],\n        \"semantic_type\": \"\",\n        \"description\": \"\"\n      }\n    },\n    {\n      \"column\": \"Fare\",\n      \"properties\": {\n        \"dtype\": \"number\",\n        \"std\": 49.6934285971809,\n        \"min\": 0.0,\n        \"max\": 512.3292,\n        \"num_unique_values\": 248,\n        \"samples\": [\n          11.2417,\n          51.8625\n        ],\n        \"semantic_type\": \"\",\n        \"description\": \"\"\n      }\n    },\n    {\n      \"column\": \"Cabin\",\n      \"properties\": {\n        \"dtype\": \"category\",\n        \"num_unique_values\": 147,\n        \"samples\": [\n          \"D45\",\n          \"B49\"\n        ],\n        \"semantic_type\": \"\",\n        \"description\": \"\"\n      }\n    },\n    {\n      \"column\": \"Embarked\",\n      \"properties\": {\n        \"dtype\": \"category\",\n        \"num_unique_values\": 3,\n        \"samples\": [\n          \"S\",\n          \"C\"\n        ],\n        \"semantic_type\": \"\",\n        \"description\": \"\"\n      }\n    }\n  ]\n}"
            }
          },
          "metadata": {},
          "execution_count": 2
        }
      ],
      "source": [
        "# 간단한 탐색적 데이터 분석 (EDA)\n",
        "\n",
        "\n",
        "df = pd.read_csv('train.csv')\n",
        "df.head()"
      ]
    },
    {
      "cell_type": "code",
      "execution_count": 4,
      "id": "bce93b81",
      "metadata": {
        "execution": {
          "iopub.execute_input": "2021-12-03T07:21:54.264168Z",
          "iopub.status.busy": "2021-12-03T07:21:54.263463Z",
          "iopub.status.idle": "2021-12-03T07:21:54.265906Z",
          "shell.execute_reply": "2021-12-03T07:21:54.266414Z",
          "shell.execute_reply.started": "2021-12-03T07:21:17.948773Z"
        },
        "papermill": {
          "duration": 0.019039,
          "end_time": "2021-12-03T07:21:54.266631",
          "exception": false,
          "start_time": "2021-12-03T07:21:54.247592",
          "status": "completed"
        },
        "tags": [],
        "colab": {
          "base_uri": "https://localhost:8080/"
        },
        "id": "bce93b81",
        "outputId": "39e9d65b-6aa7-4f75-cbd4-281aa150d453"
      },
      "outputs": [
        {
          "output_type": "stream",
          "name": "stdout",
          "text": [
            "65.6344 -26.724\n"
          ]
        }
      ],
      "source": [
        "# IQR 구하기\n",
        "Q1 = df['Fare'].quantile(0.25)\n",
        "Q3 = df['Fare'].quantile(0.75)\n",
        "\n",
        "IQR = Q3 - Q1\n",
        "top = Q3 + 1.5 * IQR\n",
        "btm = Q1 - 1.5 * IQR\n",
        "\n",
        "print(top, btm)\n"
      ]
    },
    {
      "cell_type": "code",
      "execution_count": 14,
      "id": "e49f842a",
      "metadata": {
        "execution": {
          "iopub.execute_input": "2021-12-03T07:21:54.296208Z",
          "iopub.status.busy": "2021-12-03T07:21:54.295465Z",
          "iopub.status.idle": "2021-12-03T07:21:54.298304Z",
          "shell.execute_reply": "2021-12-03T07:21:54.298905Z",
          "shell.execute_reply.started": "2021-12-03T07:21:17.961102Z"
        },
        "papermill": {
          "duration": 0.019276,
          "end_time": "2021-12-03T07:21:54.299103",
          "exception": false,
          "start_time": "2021-12-03T07:21:54.279827",
          "status": "completed"
        },
        "tags": [],
        "colab": {
          "base_uri": "https://localhost:8080/"
        },
        "id": "e49f842a",
        "outputId": "2b42aa66-e0a8-4bbf-ef80-2e4f7cef001e"
      },
      "outputs": [
        {
          "output_type": "stream",
          "name": "stdout",
          "text": [
            "0 116\n"
          ]
        }
      ],
      "source": [
        "# 이상치 데이터 구하기\n",
        "\n",
        "\n",
        "outliar_top = df[df['Fare'] > top]\n",
        "outliar_btm = df[df['Fare'] < btm]\n",
        "print(len(outliar_btm), len(outliar_top))"
      ]
    },
    {
      "cell_type": "code",
      "execution_count": 23,
      "id": "3990d884",
      "metadata": {
        "execution": {
          "iopub.execute_input": "2021-12-03T07:21:54.329192Z",
          "iopub.status.busy": "2021-12-03T07:21:54.328454Z",
          "iopub.status.idle": "2021-12-03T07:21:54.330924Z",
          "shell.execute_reply": "2021-12-03T07:21:54.331520Z",
          "shell.execute_reply.started": "2021-12-03T07:21:17.973454Z"
        },
        "papermill": {
          "duration": 0.019133,
          "end_time": "2021-12-03T07:21:54.331716",
          "exception": false,
          "start_time": "2021-12-03T07:21:54.312583",
          "status": "completed"
        },
        "tags": [],
        "colab": {
          "base_uri": "https://localhost:8080/"
        },
        "id": "3990d884",
        "outputId": "b345c9ca-0ca8-4f34-d9f7-4b7414cc13ef"
      },
      "outputs": [
        {
          "output_type": "execute_result",
          "data": {
            "text/plain": [
              "70"
            ]
          },
          "metadata": {},
          "execution_count": 23
        }
      ],
      "source": [
        "# 이상치 데이터에서 여성 수 구하기, 출력하기 print()\n",
        "\n",
        "\n",
        "res = sum(outliar_top['Sex'] == 'female')\n",
        "res"
      ]
    },
    {
      "cell_type": "markdown",
      "id": "fbef5955",
      "metadata": {
        "papermill": {
          "duration": 0.014057,
          "end_time": "2021-12-03T07:21:54.359134",
          "exception": false,
          "start_time": "2021-12-03T07:21:54.345077",
          "status": "completed"
        },
        "tags": [],
        "id": "fbef5955"
      },
      "source": [
        "## Hint"
      ]
    },
    {
      "cell_type": "code",
      "execution_count": null,
      "id": "5ddbb838",
      "metadata": {
        "execution": {
          "iopub.execute_input": "2021-12-03T07:21:54.395675Z",
          "iopub.status.busy": "2021-12-03T07:21:54.392995Z",
          "iopub.status.idle": "2021-12-03T07:21:54.400172Z",
          "shell.execute_reply": "2021-12-03T07:21:54.399480Z",
          "shell.execute_reply.started": "2021-12-03T07:21:17.982445Z"
        },
        "papermill": {
          "duration": 0.027138,
          "end_time": "2021-12-03T07:21:54.400324",
          "exception": false,
          "start_time": "2021-12-03T07:21:54.373186",
          "status": "completed"
        },
        "tags": [],
        "id": "5ddbb838"
      },
      "outputs": [],
      "source": [
        "# IQR 구하기\n",
        "# pandas 활용\n",
        "# Q1 = df[col].quantile(.25)\n",
        "# Q3 = df[col].quantile(.75)\n",
        "\n",
        "# numpy 활용\n",
        "# Q1 = np.percentile(df[col], 25)\n",
        "# Q3 = np.percentile(df[col], 75)\n",
        "\n",
        "# IQR = Q3 - Q1\n",
        "# Q1 - 1.5 * IQR, Q3 + 1.5 * IQR"
      ]
    },
    {
      "cell_type": "markdown",
      "id": "c357f4be",
      "metadata": {
        "papermill": {
          "duration": 0.012648,
          "end_time": "2021-12-03T07:21:54.427281",
          "exception": false,
          "start_time": "2021-12-03T07:21:54.414633",
          "status": "completed"
        },
        "tags": [],
        "id": "c357f4be"
      },
      "source": [
        "## 해답"
      ]
    },
    {
      "cell_type": "code",
      "execution_count": null,
      "id": "c266245f",
      "metadata": {
        "execution": {
          "iopub.execute_input": "2021-12-03T07:21:54.463012Z",
          "iopub.status.busy": "2021-12-03T07:21:54.462125Z",
          "iopub.status.idle": "2021-12-03T07:21:54.499948Z",
          "shell.execute_reply": "2021-12-03T07:21:54.500709Z",
          "shell.execute_reply.started": "2021-12-03T07:21:17.994248Z"
        },
        "papermill": {
          "duration": 0.057809,
          "end_time": "2021-12-03T07:21:54.500972",
          "exception": false,
          "start_time": "2021-12-03T07:21:54.443163",
          "status": "completed"
        },
        "tags": [],
        "id": "c266245f"
      },
      "outputs": [],
      "source": [
        "# 라이브러리 및 데이터 불러오기\n",
        "import pandas as pd\n",
        "import numpy as np\n",
        "df = pd.read_csv('../input/titanic/train.csv')"
      ]
    },
    {
      "cell_type": "code",
      "execution_count": null,
      "id": "7f275522",
      "metadata": {
        "execution": {
          "iopub.execute_input": "2021-12-03T07:21:54.542233Z",
          "iopub.status.busy": "2021-12-03T07:21:54.541476Z",
          "iopub.status.idle": "2021-12-03T07:21:54.563458Z",
          "shell.execute_reply": "2021-12-03T07:21:54.563947Z",
          "shell.execute_reply.started": "2021-12-03T07:21:18.015643Z"
        },
        "papermill": {
          "duration": 0.049308,
          "end_time": "2021-12-03T07:21:54.564142",
          "exception": false,
          "start_time": "2021-12-03T07:21:54.514834",
          "status": "completed"
        },
        "tags": [],
        "id": "7f275522",
        "outputId": "e3625e38-2283-45ae-a27c-e75419269cd7"
      },
      "outputs": [
        {
          "name": "stdout",
          "output_type": "stream",
          "text": [
            "(891, 12)\n",
            "PassengerId      0\n",
            "Survived         0\n",
            "Pclass           0\n",
            "Name             0\n",
            "Sex              0\n",
            "Age            177\n",
            "SibSp            0\n",
            "Parch            0\n",
            "Ticket           0\n",
            "Fare             0\n",
            "Cabin          687\n",
            "Embarked         2\n",
            "dtype: int64\n"
          ]
        },
        {
          "data": {
            "text/html": [
              "<div>\n",
              "<style scoped>\n",
              "    .dataframe tbody tr th:only-of-type {\n",
              "        vertical-align: middle;\n",
              "    }\n",
              "\n",
              "    .dataframe tbody tr th {\n",
              "        vertical-align: top;\n",
              "    }\n",
              "\n",
              "    .dataframe thead th {\n",
              "        text-align: right;\n",
              "    }\n",
              "</style>\n",
              "<table border=\"1\" class=\"dataframe\">\n",
              "  <thead>\n",
              "    <tr style=\"text-align: right;\">\n",
              "      <th></th>\n",
              "      <th>PassengerId</th>\n",
              "      <th>Survived</th>\n",
              "      <th>Pclass</th>\n",
              "      <th>Name</th>\n",
              "      <th>Sex</th>\n",
              "      <th>Age</th>\n",
              "      <th>SibSp</th>\n",
              "      <th>Parch</th>\n",
              "      <th>Ticket</th>\n",
              "      <th>Fare</th>\n",
              "      <th>Cabin</th>\n",
              "      <th>Embarked</th>\n",
              "    </tr>\n",
              "  </thead>\n",
              "  <tbody>\n",
              "    <tr>\n",
              "      <th>0</th>\n",
              "      <td>1</td>\n",
              "      <td>0</td>\n",
              "      <td>3</td>\n",
              "      <td>Braund, Mr. Owen Harris</td>\n",
              "      <td>male</td>\n",
              "      <td>22.0</td>\n",
              "      <td>1</td>\n",
              "      <td>0</td>\n",
              "      <td>A/5 21171</td>\n",
              "      <td>7.2500</td>\n",
              "      <td>NaN</td>\n",
              "      <td>S</td>\n",
              "    </tr>\n",
              "    <tr>\n",
              "      <th>1</th>\n",
              "      <td>2</td>\n",
              "      <td>1</td>\n",
              "      <td>1</td>\n",
              "      <td>Cumings, Mrs. John Bradley (Florence Briggs Th...</td>\n",
              "      <td>female</td>\n",
              "      <td>38.0</td>\n",
              "      <td>1</td>\n",
              "      <td>0</td>\n",
              "      <td>PC 17599</td>\n",
              "      <td>71.2833</td>\n",
              "      <td>C85</td>\n",
              "      <td>C</td>\n",
              "    </tr>\n",
              "    <tr>\n",
              "      <th>2</th>\n",
              "      <td>3</td>\n",
              "      <td>1</td>\n",
              "      <td>3</td>\n",
              "      <td>Heikkinen, Miss. Laina</td>\n",
              "      <td>female</td>\n",
              "      <td>26.0</td>\n",
              "      <td>0</td>\n",
              "      <td>0</td>\n",
              "      <td>STON/O2. 3101282</td>\n",
              "      <td>7.9250</td>\n",
              "      <td>NaN</td>\n",
              "      <td>S</td>\n",
              "    </tr>\n",
              "    <tr>\n",
              "      <th>3</th>\n",
              "      <td>4</td>\n",
              "      <td>1</td>\n",
              "      <td>1</td>\n",
              "      <td>Futrelle, Mrs. Jacques Heath (Lily May Peel)</td>\n",
              "      <td>female</td>\n",
              "      <td>35.0</td>\n",
              "      <td>1</td>\n",
              "      <td>0</td>\n",
              "      <td>113803</td>\n",
              "      <td>53.1000</td>\n",
              "      <td>C123</td>\n",
              "      <td>S</td>\n",
              "    </tr>\n",
              "    <tr>\n",
              "      <th>4</th>\n",
              "      <td>5</td>\n",
              "      <td>0</td>\n",
              "      <td>3</td>\n",
              "      <td>Allen, Mr. William Henry</td>\n",
              "      <td>male</td>\n",
              "      <td>35.0</td>\n",
              "      <td>0</td>\n",
              "      <td>0</td>\n",
              "      <td>373450</td>\n",
              "      <td>8.0500</td>\n",
              "      <td>NaN</td>\n",
              "      <td>S</td>\n",
              "    </tr>\n",
              "  </tbody>\n",
              "</table>\n",
              "</div>"
            ],
            "text/plain": [
              "   PassengerId  Survived  Pclass  \\\n",
              "0            1         0       3   \n",
              "1            2         1       1   \n",
              "2            3         1       3   \n",
              "3            4         1       1   \n",
              "4            5         0       3   \n",
              "\n",
              "                                                Name     Sex   Age  SibSp  \\\n",
              "0                            Braund, Mr. Owen Harris    male  22.0      1   \n",
              "1  Cumings, Mrs. John Bradley (Florence Briggs Th...  female  38.0      1   \n",
              "2                             Heikkinen, Miss. Laina  female  26.0      0   \n",
              "3       Futrelle, Mrs. Jacques Heath (Lily May Peel)  female  35.0      1   \n",
              "4                           Allen, Mr. William Henry    male  35.0      0   \n",
              "\n",
              "   Parch            Ticket     Fare Cabin Embarked  \n",
              "0      0         A/5 21171   7.2500   NaN        S  \n",
              "1      0          PC 17599  71.2833   C85        C  \n",
              "2      0  STON/O2. 3101282   7.9250   NaN        S  \n",
              "3      0            113803  53.1000  C123        S  \n",
              "4      0            373450   8.0500   NaN        S  "
            ]
          },
          "execution_count": 8,
          "metadata": {},
          "output_type": "execute_result"
        }
      ],
      "source": [
        "# 간단한 탐색적 데이터 분석 (EDA)\n",
        "print(df.shape)\n",
        "print(df.isnull().sum())\n",
        "df.head()"
      ]
    },
    {
      "cell_type": "code",
      "execution_count": null,
      "id": "6ea9e4f2",
      "metadata": {
        "execution": {
          "iopub.execute_input": "2021-12-03T07:21:54.596673Z",
          "iopub.status.busy": "2021-12-03T07:21:54.595874Z",
          "iopub.status.idle": "2021-12-03T07:21:54.608466Z",
          "shell.execute_reply": "2021-12-03T07:21:54.608983Z",
          "shell.execute_reply.started": "2021-12-03T07:21:18.036106Z"
        },
        "papermill": {
          "duration": 0.030439,
          "end_time": "2021-12-03T07:21:54.609179",
          "exception": false,
          "start_time": "2021-12-03T07:21:54.578740",
          "status": "completed"
        },
        "tags": [],
        "id": "6ea9e4f2",
        "outputId": "909883fd-22d9-4dd4-bba1-f569cf5f1425"
      },
      "outputs": [
        {
          "data": {
            "text/plain": [
              "(-26.724, 65.6344)"
            ]
          },
          "execution_count": 9,
          "metadata": {},
          "output_type": "execute_result"
        }
      ],
      "source": [
        "# IQR 구하기\n",
        "Q1 = df['Fare'].quantile(.25)\n",
        "Q3 = df['Fare'].quantile(.75)\n",
        "\n",
        "# numpy 활용시\n",
        "# Q1 = np.percentile(df['Fare'], 25)\n",
        "# Q3 = np.percentile(df['Fare'], 75)\n",
        "\n",
        "IQR = Q3 - Q1\n",
        "Q1 - 1.5 * IQR, Q3 + 1.5 * IQR"
      ]
    },
    {
      "cell_type": "code",
      "execution_count": null,
      "id": "53d315cd",
      "metadata": {
        "execution": {
          "iopub.execute_input": "2021-12-03T07:21:54.642356Z",
          "iopub.status.busy": "2021-12-03T07:21:54.641525Z",
          "iopub.status.idle": "2021-12-03T07:21:54.650670Z",
          "shell.execute_reply": "2021-12-03T07:21:54.651187Z",
          "shell.execute_reply.started": "2021-12-03T07:21:18.047296Z"
        },
        "papermill": {
          "duration": 0.027567,
          "end_time": "2021-12-03T07:21:54.651381",
          "exception": false,
          "start_time": "2021-12-03T07:21:54.623814",
          "status": "completed"
        },
        "tags": [],
        "id": "53d315cd",
        "outputId": "de956307-f6e6-419c-f9a6-a7014f56e65e"
      },
      "outputs": [
        {
          "data": {
            "text/plain": [
              "(0, 116)"
            ]
          },
          "execution_count": 10,
          "metadata": {},
          "output_type": "execute_result"
        }
      ],
      "source": [
        "# 이상치 데이터 구하기\n",
        "outdata1 = df[df['Fare']<(Q1 - 1.5 * IQR)]\n",
        "outdata2 = df[df['Fare']>(Q3 + 1.5 * IQR)]\n",
        "len(outdata1), len(outdata2)"
      ]
    },
    {
      "cell_type": "code",
      "execution_count": null,
      "id": "5e6763ce",
      "metadata": {
        "execution": {
          "iopub.execute_input": "2021-12-03T07:21:54.684458Z",
          "iopub.status.busy": "2021-12-03T07:21:54.683780Z",
          "iopub.status.idle": "2021-12-03T07:21:54.689236Z",
          "shell.execute_reply": "2021-12-03T07:21:54.689780Z",
          "shell.execute_reply.started": "2021-12-03T07:21:18.179375Z"
        },
        "papermill": {
          "duration": 0.023604,
          "end_time": "2021-12-03T07:21:54.689997",
          "exception": false,
          "start_time": "2021-12-03T07:21:54.666393",
          "status": "completed"
        },
        "tags": [],
        "id": "5e6763ce",
        "outputId": "9bc8cb89-78e8-48bf-cab2-dd0485b0c30f"
      },
      "outputs": [
        {
          "name": "stdout",
          "output_type": "stream",
          "text": [
            "70\n"
          ]
        }
      ],
      "source": [
        "# 이상치 데이터에서 여성 수 구하기, 출력하기 print()\n",
        "print(sum(outdata2['Sex'] == 'female'))"
      ]
    }
  ],
  "metadata": {
    "kernelspec": {
      "display_name": "Python 3",
      "language": "python",
      "name": "python3"
    },
    "language_info": {
      "codemirror_mode": {
        "name": "ipython",
        "version": 3
      },
      "file_extension": ".py",
      "mimetype": "text/x-python",
      "name": "python",
      "nbconvert_exporter": "python",
      "pygments_lexer": "ipython3",
      "version": "3.7.10"
    },
    "papermill": {
      "default_parameters": {},
      "duration": 10.864883,
      "end_time": "2021-12-03T07:21:56.358952",
      "environment_variables": {},
      "exception": null,
      "input_path": "__notebook__.ipynb",
      "output_path": "__notebook__.ipynb",
      "parameters": {},
      "start_time": "2021-12-03T07:21:45.494069",
      "version": "2.3.3"
    },
    "colab": {
      "provenance": []
    }
  },
  "nbformat": 4,
  "nbformat_minor": 5
}