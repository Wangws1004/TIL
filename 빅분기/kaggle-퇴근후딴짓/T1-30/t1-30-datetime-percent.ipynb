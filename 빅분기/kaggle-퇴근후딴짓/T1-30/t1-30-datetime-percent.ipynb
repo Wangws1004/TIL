{
 "cells": [
  {
   "cell_type": "markdown",
   "id": "be3b5cd8",
   "metadata": {
    "papermill": {
     "duration": 0.003543,
     "end_time": "2022-11-29T14:10:59.565531",
     "exception": false,
     "start_time": "2022-11-29T14:10:59.561988",
     "status": "completed"
    },
    "tags": []
   },
   "source": [
    "# T1-30. 12월 25일 결제 금액(price)은 12월 총 결제금액의 몇 %인가? (정수로 출력)"
   ]
  },
  {
   "cell_type": "code",
   "execution_count": 1,
   "id": "038c127b",
   "metadata": {
    "execution": {
     "iopub.execute_input": "2022-11-29T14:10:59.573575Z",
     "iopub.status.busy": "2022-11-29T14:10:59.572580Z",
     "iopub.status.idle": "2022-11-29T14:10:59.620316Z",
     "shell.execute_reply": "2022-11-29T14:10:59.619193Z"
    },
    "papermill": {
     "duration": 0.056042,
     "end_time": "2022-11-29T14:10:59.624267",
     "exception": false,
     "start_time": "2022-11-29T14:10:59.568225",
     "status": "completed"
    },
    "tags": []
   },
   "outputs": [
    {
     "data": {
      "text/html": [
       "<div>\n",
       "<style scoped>\n",
       "    .dataframe tbody tr th:only-of-type {\n",
       "        vertical-align: middle;\n",
       "    }\n",
       "\n",
       "    .dataframe tbody tr th {\n",
       "        vertical-align: top;\n",
       "    }\n",
       "\n",
       "    .dataframe thead th {\n",
       "        text-align: right;\n",
       "    }\n",
       "</style>\n",
       "<table border=\"1\" class=\"dataframe\">\n",
       "  <thead>\n",
       "    <tr style=\"text-align: right;\">\n",
       "      <th></th>\n",
       "      <th>date</th>\n",
       "      <th>hour</th>\n",
       "      <th>menu</th>\n",
       "      <th>price</th>\n",
       "    </tr>\n",
       "  </thead>\n",
       "  <tbody>\n",
       "    <tr>\n",
       "      <th>0</th>\n",
       "      <td>20221129</td>\n",
       "      <td>13</td>\n",
       "      <td>딸기라떼</td>\n",
       "      <td>4000</td>\n",
       "    </tr>\n",
       "    <tr>\n",
       "      <th>1</th>\n",
       "      <td>20221130</td>\n",
       "      <td>12</td>\n",
       "      <td>카페라떼</td>\n",
       "      <td>3000</td>\n",
       "    </tr>\n",
       "    <tr>\n",
       "      <th>2</th>\n",
       "      <td>20221201</td>\n",
       "      <td>14</td>\n",
       "      <td>바닐라라떼</td>\n",
       "      <td>3500</td>\n",
       "    </tr>\n",
       "    <tr>\n",
       "      <th>3</th>\n",
       "      <td>20221201</td>\n",
       "      <td>16</td>\n",
       "      <td>초코라떼</td>\n",
       "      <td>3500</td>\n",
       "    </tr>\n",
       "    <tr>\n",
       "      <th>4</th>\n",
       "      <td>20221202</td>\n",
       "      <td>17</td>\n",
       "      <td>모카라떼</td>\n",
       "      <td>3500</td>\n",
       "    </tr>\n",
       "    <tr>\n",
       "      <th>5</th>\n",
       "      <td>20221202</td>\n",
       "      <td>12</td>\n",
       "      <td>카라멜라떼</td>\n",
       "      <td>3500</td>\n",
       "    </tr>\n",
       "    <tr>\n",
       "      <th>6</th>\n",
       "      <td>20221203</td>\n",
       "      <td>8</td>\n",
       "      <td>챠이 라떼</td>\n",
       "      <td>3500</td>\n",
       "    </tr>\n",
       "    <tr>\n",
       "      <th>7</th>\n",
       "      <td>20221203</td>\n",
       "      <td>9</td>\n",
       "      <td>아메리카노</td>\n",
       "      <td>2000</td>\n",
       "    </tr>\n",
       "    <tr>\n",
       "      <th>8</th>\n",
       "      <td>20221203</td>\n",
       "      <td>15</td>\n",
       "      <td>오곡 라떼</td>\n",
       "      <td>4000</td>\n",
       "    </tr>\n",
       "    <tr>\n",
       "      <th>9</th>\n",
       "      <td>20221203</td>\n",
       "      <td>16</td>\n",
       "      <td>아메리카노</td>\n",
       "      <td>2000</td>\n",
       "    </tr>\n",
       "    <tr>\n",
       "      <th>10</th>\n",
       "      <td>20221225</td>\n",
       "      <td>10</td>\n",
       "      <td>아메리카노</td>\n",
       "      <td>2000</td>\n",
       "    </tr>\n",
       "    <tr>\n",
       "      <th>11</th>\n",
       "      <td>20221225</td>\n",
       "      <td>14</td>\n",
       "      <td>토피넛 라떼</td>\n",
       "      <td>4000</td>\n",
       "    </tr>\n",
       "    <tr>\n",
       "      <th>12</th>\n",
       "      <td>20221225</td>\n",
       "      <td>16</td>\n",
       "      <td>카페 라떼</td>\n",
       "      <td>3000</td>\n",
       "    </tr>\n",
       "  </tbody>\n",
       "</table>\n",
       "</div>"
      ],
      "text/plain": [
       "        date  hour    menu  price\n",
       "0   20221129    13    딸기라떼   4000\n",
       "1   20221130    12    카페라떼   3000\n",
       "2   20221201    14   바닐라라떼   3500\n",
       "3   20221201    16    초코라떼   3500\n",
       "4   20221202    17    모카라떼   3500\n",
       "5   20221202    12   카라멜라떼   3500\n",
       "6   20221203     8   챠이 라떼   3500\n",
       "7   20221203     9   아메리카노   2000\n",
       "8   20221203    15   오곡 라떼   4000\n",
       "9   20221203    16   아메리카노   2000\n",
       "10  20221225    10   아메리카노   2000\n",
       "11  20221225    14  토피넛 라떼   4000\n",
       "12  20221225    16   카페 라떼   3000"
      ]
     },
     "execution_count": 1,
     "metadata": {},
     "output_type": "execute_result"
    }
   ],
   "source": [
    "import pandas as pd\n",
    "df = pd.read_csv(\"/kaggle/input/bigdatacertificationkr/payment.csv\")\n",
    "df"
   ]
  },
  {
   "cell_type": "code",
   "execution_count": 2,
   "id": "f1adaa5d",
   "metadata": {
    "execution": {
     "iopub.execute_input": "2022-11-29T14:10:59.632237Z",
     "iopub.status.busy": "2022-11-29T14:10:59.631856Z",
     "iopub.status.idle": "2022-11-29T14:10:59.636568Z",
     "shell.execute_reply": "2022-11-29T14:10:59.635229Z"
    },
    "papermill": {
     "duration": 0.011699,
     "end_time": "2022-11-29T14:10:59.638999",
     "exception": false,
     "start_time": "2022-11-29T14:10:59.627300",
     "status": "completed"
    },
    "tags": []
   },
   "outputs": [],
   "source": [
    "# your code"
   ]
  },
  {
   "cell_type": "code",
   "execution_count": null,
   "id": "f3e79c7b",
   "metadata": {
    "papermill": {
     "duration": 0.002964,
     "end_time": "2022-11-29T14:10:59.644957",
     "exception": false,
     "start_time": "2022-11-29T14:10:59.641993",
     "status": "completed"
    },
    "tags": []
   },
   "outputs": [],
   "source": []
  },
  {
   "cell_type": "code",
   "execution_count": null,
   "id": "095946e1",
   "metadata": {
    "papermill": {
     "duration": 0.002486,
     "end_time": "2022-11-29T14:10:59.650321",
     "exception": false,
     "start_time": "2022-11-29T14:10:59.647835",
     "status": "completed"
    },
    "tags": []
   },
   "outputs": [],
   "source": []
  },
  {
   "cell_type": "code",
   "execution_count": null,
   "id": "721644f7",
   "metadata": {
    "papermill": {
     "duration": 0.002511,
     "end_time": "2022-11-29T14:10:59.655803",
     "exception": false,
     "start_time": "2022-11-29T14:10:59.653292",
     "status": "completed"
    },
    "tags": []
   },
   "outputs": [],
   "source": []
  },
  {
   "cell_type": "code",
   "execution_count": null,
   "id": "c93cf725",
   "metadata": {
    "papermill": {
     "duration": 0.002484,
     "end_time": "2022-11-29T14:10:59.661063",
     "exception": false,
     "start_time": "2022-11-29T14:10:59.658579",
     "status": "completed"
    },
    "tags": []
   },
   "outputs": [],
   "source": []
  },
  {
   "cell_type": "code",
   "execution_count": 3,
   "id": "09cd95f9",
   "metadata": {
    "execution": {
     "iopub.execute_input": "2022-11-29T14:10:59.669191Z",
     "iopub.status.busy": "2022-11-29T14:10:59.667848Z",
     "iopub.status.idle": "2022-11-29T14:10:59.686587Z",
     "shell.execute_reply": "2022-11-29T14:10:59.685295Z"
    },
    "papermill": {
     "duration": 0.026036,
     "end_time": "2022-11-29T14:10:59.689856",
     "exception": false,
     "start_time": "2022-11-29T14:10:59.663820",
     "status": "completed"
    },
    "tags": []
   },
   "outputs": [
    {
     "name": "stdout",
     "output_type": "stream",
     "text": [
      "26\n"
     ]
    }
   ],
   "source": [
    "# 풀이\n",
    "df['date'] = pd.to_datetime(df['date'], format='%Y%m%d')\n",
    "cond1 = df['date'].dt.month == 12\n",
    "cond2 = df['date'].dt.day == 25\n",
    "result = sum(df[cond1 & cond2]['price']) / sum(df[cond1]['price'])\n",
    "print(int(result*100))"
   ]
  }
 ],
 "metadata": {
  "kernelspec": {
   "display_name": "Python 3",
   "language": "python",
   "name": "python3"
  },
  "language_info": {
   "codemirror_mode": {
    "name": "ipython",
    "version": 3
   },
   "file_extension": ".py",
   "mimetype": "text/x-python",
   "name": "python",
   "nbconvert_exporter": "python",
   "pygments_lexer": "ipython3",
   "version": "3.7.12"
  },
  "papermill": {
   "default_parameters": {},
   "duration": 9.350016,
   "end_time": "2022-11-29T14:11:00.416579",
   "environment_variables": {},
   "exception": null,
   "input_path": "__notebook__.ipynb",
   "output_path": "__notebook__.ipynb",
   "parameters": {},
   "start_time": "2022-11-29T14:10:51.066563",
   "version": "2.3.4"
  }
 },
 "nbformat": 4,
 "nbformat_minor": 5
}
