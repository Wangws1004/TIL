{
 "cells": [
  {
   "cell_type": "markdown",
   "id": "a7055af7",
   "metadata": {
    "papermill": {
     "duration": 0.018127,
     "end_time": "2021-11-16T13:13:12.911629",
     "exception": false,
     "start_time": "2021-11-16T13:13:12.893502",
     "status": "completed"
    },
    "tags": []
   },
   "source": [
    "## 결측치 처리\n",
    "-  주어진 데이터에서 결측치가 80%이상 되는 컬럼은(변수는) 삭제하고, 80% 미만인 결측치가 있는 컬럼은 'city'별 중앙값으로 값을 대체하고 'f1'컬럼의 평균값을 출력하세요!\n",
    "- 데이터셋 : basic1.csv 오른쪽 상단 copy&edit 클릭 -> 예상문제 풀이 시작\n",
    "- 강의 영상 : https://youtu.be/WqlpqBRn7x4"
   ]
  },
  {
   "cell_type": "code",
   "execution_count": 1,
   "id": "0129e61e",
   "metadata": {
    "execution": {
     "iopub.execute_input": "2021-11-16T13:13:12.952214Z",
     "iopub.status.busy": "2021-11-16T13:13:12.950392Z",
     "iopub.status.idle": "2021-11-16T13:13:12.954607Z",
     "shell.execute_reply": "2021-11-16T13:13:12.953761Z",
     "shell.execute_reply.started": "2021-11-16T13:12:20.556478Z"
    },
    "papermill": {
     "duration": 0.026202,
     "end_time": "2021-11-16T13:13:12.954790",
     "exception": false,
     "start_time": "2021-11-16T13:13:12.928588",
     "status": "completed"
    },
    "tags": []
   },
   "outputs": [],
   "source": [
    "# 라이브러리 및 데이터 불러오기"
   ]
  },
  {
   "cell_type": "code",
   "execution_count": 2,
   "id": "f1a196c7",
   "metadata": {
    "execution": {
     "iopub.execute_input": "2021-11-16T13:13:12.991863Z",
     "iopub.status.busy": "2021-11-16T13:13:12.990737Z",
     "iopub.status.idle": "2021-11-16T13:13:12.994152Z",
     "shell.execute_reply": "2021-11-16T13:13:12.994620Z",
     "shell.execute_reply.started": "2021-11-16T13:12:20.563788Z"
    },
    "papermill": {
     "duration": 0.024352,
     "end_time": "2021-11-16T13:13:12.994800",
     "exception": false,
     "start_time": "2021-11-16T13:13:12.970448",
     "status": "completed"
    },
    "tags": []
   },
   "outputs": [],
   "source": [
    "# EDA - 결측값 확인(비율 확인)"
   ]
  },
  {
   "cell_type": "code",
   "execution_count": 3,
   "id": "81ec11bc",
   "metadata": {
    "execution": {
     "iopub.execute_input": "2021-11-16T13:13:13.029683Z",
     "iopub.status.busy": "2021-11-16T13:13:13.028691Z",
     "iopub.status.idle": "2021-11-16T13:13:13.033794Z",
     "shell.execute_reply": "2021-11-16T13:13:13.033078Z",
     "shell.execute_reply.started": "2021-11-16T13:12:20.574128Z"
    },
    "papermill": {
     "duration": 0.023558,
     "end_time": "2021-11-16T13:13:13.033950",
     "exception": false,
     "start_time": "2021-11-16T13:13:13.010392",
     "status": "completed"
    },
    "tags": []
   },
   "outputs": [],
   "source": [
    "# 80%이상 결측치 컬럼, 삭제"
   ]
  },
  {
   "cell_type": "code",
   "execution_count": 4,
   "id": "4e0396c0",
   "metadata": {
    "execution": {
     "iopub.execute_input": "2021-11-16T13:13:13.071488Z",
     "iopub.status.busy": "2021-11-16T13:13:13.070448Z",
     "iopub.status.idle": "2021-11-16T13:13:13.073593Z",
     "shell.execute_reply": "2021-11-16T13:13:13.072918Z",
     "shell.execute_reply.started": "2021-11-16T13:12:20.584502Z"
    },
    "papermill": {
     "duration": 0.024045,
     "end_time": "2021-11-16T13:13:13.073743",
     "exception": false,
     "start_time": "2021-11-16T13:13:13.049698",
     "status": "completed"
    },
    "tags": []
   },
   "outputs": [],
   "source": [
    "# 80%미만 결측치 컬럼, city별 중앙값으로 대체"
   ]
  },
  {
   "cell_type": "code",
   "execution_count": 5,
   "id": "e95dbc3c",
   "metadata": {
    "execution": {
     "iopub.execute_input": "2021-11-16T13:13:13.111011Z",
     "iopub.status.busy": "2021-11-16T13:13:13.110205Z",
     "iopub.status.idle": "2021-11-16T13:13:13.113200Z",
     "shell.execute_reply": "2021-11-16T13:13:13.112695Z",
     "shell.execute_reply.started": "2021-11-16T13:12:20.593691Z"
    },
    "papermill": {
     "duration": 0.022691,
     "end_time": "2021-11-16T13:13:13.113387",
     "exception": false,
     "start_time": "2021-11-16T13:13:13.090696",
     "status": "completed"
    },
    "tags": []
   },
   "outputs": [],
   "source": [
    "# f1 평균값 결과 출력"
   ]
  },
  {
   "cell_type": "markdown",
   "id": "575e8e68",
   "metadata": {
    "papermill": {
     "duration": 0.014977,
     "end_time": "2021-11-16T13:13:13.143891",
     "exception": false,
     "start_time": "2021-11-16T13:13:13.128914",
     "status": "completed"
    },
    "tags": []
   },
   "source": [
    "## Hint\n",
    "- city별 중앙값으로 대체에서는 map함수 활용"
   ]
  },
  {
   "cell_type": "markdown",
   "id": "ce8383e9",
   "metadata": {
    "papermill": {
     "duration": 0.015154,
     "end_time": "2021-11-16T13:13:13.174495",
     "exception": false,
     "start_time": "2021-11-16T13:13:13.159341",
     "status": "completed"
    },
    "tags": []
   },
   "source": [
    "## 풀이"
   ]
  },
  {
   "cell_type": "code",
   "execution_count": 6,
   "id": "9d09ad36",
   "metadata": {
    "execution": {
     "iopub.execute_input": "2021-11-16T13:13:13.217180Z",
     "iopub.status.busy": "2021-11-16T13:13:13.214228Z",
     "iopub.status.idle": "2021-11-16T13:13:13.264439Z",
     "shell.execute_reply": "2021-11-16T13:13:13.265095Z",
     "shell.execute_reply.started": "2021-11-16T13:12:20.604562Z"
    },
    "papermill": {
     "duration": 0.074195,
     "end_time": "2021-11-16T13:13:13.265304",
     "exception": false,
     "start_time": "2021-11-16T13:13:13.191109",
     "status": "completed"
    },
    "tags": []
   },
   "outputs": [
    {
     "data": {
      "text/html": [
       "<div>\n",
       "<style scoped>\n",
       "    .dataframe tbody tr th:only-of-type {\n",
       "        vertical-align: middle;\n",
       "    }\n",
       "\n",
       "    .dataframe tbody tr th {\n",
       "        vertical-align: top;\n",
       "    }\n",
       "\n",
       "    .dataframe thead th {\n",
       "        text-align: right;\n",
       "    }\n",
       "</style>\n",
       "<table border=\"1\" class=\"dataframe\">\n",
       "  <thead>\n",
       "    <tr style=\"text-align: right;\">\n",
       "      <th></th>\n",
       "      <th>id</th>\n",
       "      <th>age</th>\n",
       "      <th>city</th>\n",
       "      <th>f1</th>\n",
       "      <th>f2</th>\n",
       "      <th>f3</th>\n",
       "      <th>f4</th>\n",
       "      <th>f5</th>\n",
       "    </tr>\n",
       "  </thead>\n",
       "  <tbody>\n",
       "    <tr>\n",
       "      <th>0</th>\n",
       "      <td>id01</td>\n",
       "      <td>2.0</td>\n",
       "      <td>서울</td>\n",
       "      <td>NaN</td>\n",
       "      <td>0</td>\n",
       "      <td>NaN</td>\n",
       "      <td>ENFJ</td>\n",
       "      <td>91.297791</td>\n",
       "    </tr>\n",
       "    <tr>\n",
       "      <th>1</th>\n",
       "      <td>id02</td>\n",
       "      <td>9.0</td>\n",
       "      <td>서울</td>\n",
       "      <td>70.0</td>\n",
       "      <td>1</td>\n",
       "      <td>NaN</td>\n",
       "      <td>ENFJ</td>\n",
       "      <td>60.339826</td>\n",
       "    </tr>\n",
       "    <tr>\n",
       "      <th>2</th>\n",
       "      <td>id03</td>\n",
       "      <td>27.0</td>\n",
       "      <td>서울</td>\n",
       "      <td>61.0</td>\n",
       "      <td>1</td>\n",
       "      <td>NaN</td>\n",
       "      <td>ISTJ</td>\n",
       "      <td>17.252986</td>\n",
       "    </tr>\n",
       "    <tr>\n",
       "      <th>3</th>\n",
       "      <td>id04</td>\n",
       "      <td>75.0</td>\n",
       "      <td>서울</td>\n",
       "      <td>NaN</td>\n",
       "      <td>2</td>\n",
       "      <td>NaN</td>\n",
       "      <td>INFP</td>\n",
       "      <td>52.667078</td>\n",
       "    </tr>\n",
       "    <tr>\n",
       "      <th>4</th>\n",
       "      <td>id05</td>\n",
       "      <td>24.0</td>\n",
       "      <td>서울</td>\n",
       "      <td>85.0</td>\n",
       "      <td>2</td>\n",
       "      <td>NaN</td>\n",
       "      <td>ISFJ</td>\n",
       "      <td>29.269869</td>\n",
       "    </tr>\n",
       "  </tbody>\n",
       "</table>\n",
       "</div>"
      ],
      "text/plain": [
       "     id   age city    f1  f2   f3    f4         f5\n",
       "0  id01   2.0   서울   NaN   0  NaN  ENFJ  91.297791\n",
       "1  id02   9.0   서울  70.0   1  NaN  ENFJ  60.339826\n",
       "2  id03  27.0   서울  61.0   1  NaN  ISTJ  17.252986\n",
       "3  id04  75.0   서울   NaN   2  NaN  INFP  52.667078\n",
       "4  id05  24.0   서울  85.0   2  NaN  ISFJ  29.269869"
      ]
     },
     "execution_count": 6,
     "metadata": {},
     "output_type": "execute_result"
    }
   ],
   "source": [
    "# 라이브러리 및 데이터 불러오기\n",
    "import pandas as pd\n",
    "import numpy as np\n",
    "\n",
    "df = pd.read_csv('../input/bigdatacertificationkr/basic1.csv')\n",
    "df.head()"
   ]
  },
  {
   "cell_type": "code",
   "execution_count": 7,
   "id": "09c0ac53",
   "metadata": {
    "_cell_guid": "b1076dfc-b9ad-4769-8c92-a6c4dae69d19",
    "_uuid": "8f2839f25d086af736a60e9eeb907d3b93b6e0e5",
    "execution": {
     "iopub.execute_input": "2021-11-16T13:13:13.303409Z",
     "iopub.status.busy": "2021-11-16T13:13:13.302746Z",
     "iopub.status.idle": "2021-11-16T13:13:13.311002Z",
     "shell.execute_reply": "2021-11-16T13:13:13.311601Z",
     "shell.execute_reply.started": "2021-11-16T13:12:20.646885Z"
    },
    "papermill": {
     "duration": 0.029115,
     "end_time": "2021-11-16T13:13:13.311784",
     "exception": false,
     "start_time": "2021-11-16T13:13:13.282669",
     "status": "completed"
    },
    "tags": []
   },
   "outputs": [
    {
     "data": {
      "text/plain": [
       "id       0\n",
       "age      0\n",
       "city     0\n",
       "f1      31\n",
       "f2       0\n",
       "f3      95\n",
       "f4       0\n",
       "f5       0\n",
       "dtype: int64"
      ]
     },
     "execution_count": 7,
     "metadata": {},
     "output_type": "execute_result"
    }
   ],
   "source": [
    "# EDA - 결측값 확인\n",
    "df.isnull().sum()"
   ]
  },
  {
   "cell_type": "code",
   "execution_count": 8,
   "id": "da8024cb",
   "metadata": {
    "execution": {
     "iopub.execute_input": "2021-11-16T13:13:13.351715Z",
     "iopub.status.busy": "2021-11-16T13:13:13.351002Z",
     "iopub.status.idle": "2021-11-16T13:13:13.353529Z",
     "shell.execute_reply": "2021-11-16T13:13:13.354055Z",
     "shell.execute_reply.started": "2021-11-16T13:12:20.658708Z"
    },
    "papermill": {
     "duration": 0.025088,
     "end_time": "2021-11-16T13:13:13.354225",
     "exception": false,
     "start_time": "2021-11-16T13:13:13.329137",
     "status": "completed"
    },
    "tags": []
   },
   "outputs": [
    {
     "data": {
      "text/plain": [
       "(100, 8)"
      ]
     },
     "execution_count": 8,
     "metadata": {},
     "output_type": "execute_result"
    }
   ],
   "source": [
    "# 데이터 shape\n",
    "df.shape"
   ]
  },
  {
   "cell_type": "code",
   "execution_count": 9,
   "id": "6f8c3425",
   "metadata": {
    "execution": {
     "iopub.execute_input": "2021-11-16T13:13:13.396459Z",
     "iopub.status.busy": "2021-11-16T13:13:13.395534Z",
     "iopub.status.idle": "2021-11-16T13:13:13.404043Z",
     "shell.execute_reply": "2021-11-16T13:13:13.404584Z",
     "shell.execute_reply.started": "2021-11-16T13:12:20.666565Z"
    },
    "papermill": {
     "duration": 0.029869,
     "end_time": "2021-11-16T13:13:13.404779",
     "exception": false,
     "start_time": "2021-11-16T13:13:13.374910",
     "status": "completed"
    },
    "tags": []
   },
   "outputs": [
    {
     "data": {
      "text/plain": [
       "id      0.00\n",
       "age     0.00\n",
       "city    0.00\n",
       "f1      0.31\n",
       "f2      0.00\n",
       "f3      0.95\n",
       "f4      0.00\n",
       "f5      0.00\n",
       "dtype: float64"
      ]
     },
     "execution_count": 9,
     "metadata": {},
     "output_type": "execute_result"
    }
   ],
   "source": [
    "# EDA - 결측비율 확인\n",
    "df.isnull().sum()/df.shape[0]"
   ]
  },
  {
   "cell_type": "code",
   "execution_count": 10,
   "id": "c060e30f",
   "metadata": {
    "execution": {
     "iopub.execute_input": "2021-11-16T13:13:13.445474Z",
     "iopub.status.busy": "2021-11-16T13:13:13.444821Z",
     "iopub.status.idle": "2021-11-16T13:13:13.457657Z",
     "shell.execute_reply": "2021-11-16T13:13:13.458455Z",
     "shell.execute_reply.started": "2021-11-16T13:12:20.684652Z"
    },
    "papermill": {
     "duration": 0.034824,
     "end_time": "2021-11-16T13:13:13.458640",
     "exception": false,
     "start_time": "2021-11-16T13:13:13.423816",
     "status": "completed"
    },
    "tags": []
   },
   "outputs": [
    {
     "name": "stdout",
     "output_type": "stream",
     "text": [
      "삭제 전: (100, 8)\n",
      "삭제 후: (100, 7)\n"
     ]
    }
   ],
   "source": [
    "# f3 컬럼 삭제\n",
    "print(\"삭제 전:\", df.shape)\n",
    "df = df.drop(['f3'], axis=1)\n",
    "print(\"삭제 후:\", df.shape)\n",
    "\n",
    "# 결측치가 있는 컬럼을 제거하는 2가지 방법\n",
    "# df.drop(['B', 'C'], axis=1)\n",
    "# df.drop(columns=['B', 'C'])"
   ]
  },
  {
   "cell_type": "code",
   "execution_count": 11,
   "id": "9bc6c33b",
   "metadata": {
    "execution": {
     "iopub.execute_input": "2021-11-16T13:13:13.507532Z",
     "iopub.status.busy": "2021-11-16T13:13:13.506545Z",
     "iopub.status.idle": "2021-11-16T13:13:13.510979Z",
     "shell.execute_reply": "2021-11-16T13:13:13.511530Z",
     "shell.execute_reply.started": "2021-11-16T13:12:46.466467Z"
    },
    "papermill": {
     "duration": 0.034374,
     "end_time": "2021-11-16T13:13:13.511715",
     "exception": false,
     "start_time": "2021-11-16T13:13:13.477341",
     "status": "completed"
    },
    "tags": []
   },
   "outputs": [
    {
     "data": {
      "text/plain": [
       "array(['서울', '부산', '대구', '경기'], dtype=object)"
      ]
     },
     "execution_count": 11,
     "metadata": {},
     "output_type": "execute_result"
    }
   ],
   "source": [
    "# 도시 확인\n",
    "df['city'].unique()"
   ]
  },
  {
   "cell_type": "code",
   "execution_count": 12,
   "id": "49136d80",
   "metadata": {
    "execution": {
     "iopub.execute_input": "2021-11-16T13:13:13.553890Z",
     "iopub.status.busy": "2021-11-16T13:13:13.553097Z",
     "iopub.status.idle": "2021-11-16T13:13:13.564622Z",
     "shell.execute_reply": "2021-11-16T13:13:13.565123Z",
     "shell.execute_reply.started": "2021-11-16T13:12:20.715384Z"
    },
    "papermill": {
     "duration": 0.034173,
     "end_time": "2021-11-16T13:13:13.565317",
     "exception": false,
     "start_time": "2021-11-16T13:13:13.531144",
     "status": "completed"
    },
    "tags": []
   },
   "outputs": [
    {
     "data": {
      "text/plain": [
       "(68.0, 58.0, 62.0, 75.0)"
      ]
     },
     "execution_count": 12,
     "metadata": {},
     "output_type": "execute_result"
    }
   ],
   "source": [
    "# 도시별 중앙값 계산\n",
    "s=df[df['city']=='서울']['f1'].median()\n",
    "k=df[df['city']=='경기']['f1'].median()\n",
    "b=df[df['city']=='부산']['f1'].median()\n",
    "d=df[df['city']=='대구']['f1'].median()\n",
    "s, k, b, d\n",
    "\n",
    "#방법2\n",
    "# k, d, b, s = df.groupby('city')['f1'].median()"
   ]
  },
  {
   "cell_type": "code",
   "execution_count": 13,
   "id": "9c6c24ea",
   "metadata": {
    "execution": {
     "iopub.execute_input": "2021-11-16T13:13:13.605678Z",
     "iopub.status.busy": "2021-11-16T13:13:13.604999Z",
     "iopub.status.idle": "2021-11-16T13:13:13.619937Z",
     "shell.execute_reply": "2021-11-16T13:13:13.620439Z",
     "shell.execute_reply.started": "2021-11-16T13:12:20.731771Z"
    },
    "papermill": {
     "duration": 0.037229,
     "end_time": "2021-11-16T13:13:13.620629",
     "exception": false,
     "start_time": "2021-11-16T13:13:13.583400",
     "status": "completed"
    },
    "tags": []
   },
   "outputs": [
    {
     "data": {
      "text/html": [
       "<div>\n",
       "<style scoped>\n",
       "    .dataframe tbody tr th:only-of-type {\n",
       "        vertical-align: middle;\n",
       "    }\n",
       "\n",
       "    .dataframe tbody tr th {\n",
       "        vertical-align: top;\n",
       "    }\n",
       "\n",
       "    .dataframe thead th {\n",
       "        text-align: right;\n",
       "    }\n",
       "</style>\n",
       "<table border=\"1\" class=\"dataframe\">\n",
       "  <thead>\n",
       "    <tr style=\"text-align: right;\">\n",
       "      <th></th>\n",
       "      <th>id</th>\n",
       "      <th>age</th>\n",
       "      <th>city</th>\n",
       "      <th>f1</th>\n",
       "      <th>f2</th>\n",
       "      <th>f4</th>\n",
       "      <th>f5</th>\n",
       "    </tr>\n",
       "  </thead>\n",
       "  <tbody>\n",
       "    <tr>\n",
       "      <th>18</th>\n",
       "      <td>id19</td>\n",
       "      <td>53.0</td>\n",
       "      <td>서울</td>\n",
       "      <td>NaN</td>\n",
       "      <td>0</td>\n",
       "      <td>ISFP</td>\n",
       "      <td>83.685380</td>\n",
       "    </tr>\n",
       "    <tr>\n",
       "      <th>19</th>\n",
       "      <td>id20</td>\n",
       "      <td>11.0</td>\n",
       "      <td>서울</td>\n",
       "      <td>51.0</td>\n",
       "      <td>1</td>\n",
       "      <td>INTJ</td>\n",
       "      <td>91.297791</td>\n",
       "    </tr>\n",
       "    <tr>\n",
       "      <th>20</th>\n",
       "      <td>id21</td>\n",
       "      <td>90.0</td>\n",
       "      <td>부산</td>\n",
       "      <td>NaN</td>\n",
       "      <td>1</td>\n",
       "      <td>ISFP</td>\n",
       "      <td>29.269869</td>\n",
       "    </tr>\n",
       "  </tbody>\n",
       "</table>\n",
       "</div>"
      ],
      "text/plain": [
       "      id   age city    f1  f2    f4         f5\n",
       "18  id19  53.0   서울   NaN   0  ISFP  83.685380\n",
       "19  id20  11.0   서울  51.0   1  INTJ  91.297791\n",
       "20  id21  90.0   부산   NaN   1  ISFP  29.269869"
      ]
     },
     "execution_count": 13,
     "metadata": {},
     "output_type": "execute_result"
    }
   ],
   "source": [
    "# 대체 전 데이터 샘플 출력\n",
    "df[18:21]"
   ]
  },
  {
   "cell_type": "code",
   "execution_count": 14,
   "id": "acdf088b",
   "metadata": {
    "execution": {
     "iopub.execute_input": "2021-11-16T13:13:13.670088Z",
     "iopub.status.busy": "2021-11-16T13:13:13.669390Z",
     "iopub.status.idle": "2021-11-16T13:13:13.673852Z",
     "shell.execute_reply": "2021-11-16T13:13:13.673299Z",
     "shell.execute_reply.started": "2021-11-16T13:12:20.751783Z"
    },
    "papermill": {
     "duration": 0.033409,
     "end_time": "2021-11-16T13:13:13.673999",
     "exception": false,
     "start_time": "2021-11-16T13:13:13.640590",
     "status": "completed"
    },
    "tags": []
   },
   "outputs": [],
   "source": [
    "# f1결측치 city별 중앙값으로 대체\n",
    "df['f1'] = df['f1'].fillna(df['city'].map({'서울':s,'경기':k,'부산':b,'대구':d}))\n",
    "\n",
    "# 만약 그냥 f1 중앙값으로 대체 한다면 \n",
    "# df['f1'] = df['f1'].fillna(df['f1'].median())"
   ]
  },
  {
   "cell_type": "code",
   "execution_count": 15,
   "id": "4729133e",
   "metadata": {
    "execution": {
     "iopub.execute_input": "2021-11-16T13:13:13.723613Z",
     "iopub.status.busy": "2021-11-16T13:13:13.722541Z",
     "iopub.status.idle": "2021-11-16T13:13:13.735442Z",
     "shell.execute_reply": "2021-11-16T13:13:13.734725Z",
     "shell.execute_reply.started": "2021-11-16T13:12:20.764397Z"
    },
    "papermill": {
     "duration": 0.039972,
     "end_time": "2021-11-16T13:13:13.735595",
     "exception": false,
     "start_time": "2021-11-16T13:13:13.695623",
     "status": "completed"
    },
    "tags": []
   },
   "outputs": [
    {
     "data": {
      "text/html": [
       "<div>\n",
       "<style scoped>\n",
       "    .dataframe tbody tr th:only-of-type {\n",
       "        vertical-align: middle;\n",
       "    }\n",
       "\n",
       "    .dataframe tbody tr th {\n",
       "        vertical-align: top;\n",
       "    }\n",
       "\n",
       "    .dataframe thead th {\n",
       "        text-align: right;\n",
       "    }\n",
       "</style>\n",
       "<table border=\"1\" class=\"dataframe\">\n",
       "  <thead>\n",
       "    <tr style=\"text-align: right;\">\n",
       "      <th></th>\n",
       "      <th>id</th>\n",
       "      <th>age</th>\n",
       "      <th>city</th>\n",
       "      <th>f1</th>\n",
       "      <th>f2</th>\n",
       "      <th>f4</th>\n",
       "      <th>f5</th>\n",
       "    </tr>\n",
       "  </thead>\n",
       "  <tbody>\n",
       "    <tr>\n",
       "      <th>18</th>\n",
       "      <td>id19</td>\n",
       "      <td>53.0</td>\n",
       "      <td>서울</td>\n",
       "      <td>68.0</td>\n",
       "      <td>0</td>\n",
       "      <td>ISFP</td>\n",
       "      <td>83.685380</td>\n",
       "    </tr>\n",
       "    <tr>\n",
       "      <th>19</th>\n",
       "      <td>id20</td>\n",
       "      <td>11.0</td>\n",
       "      <td>서울</td>\n",
       "      <td>51.0</td>\n",
       "      <td>1</td>\n",
       "      <td>INTJ</td>\n",
       "      <td>91.297791</td>\n",
       "    </tr>\n",
       "    <tr>\n",
       "      <th>20</th>\n",
       "      <td>id21</td>\n",
       "      <td>90.0</td>\n",
       "      <td>부산</td>\n",
       "      <td>62.0</td>\n",
       "      <td>1</td>\n",
       "      <td>ISFP</td>\n",
       "      <td>29.269869</td>\n",
       "    </tr>\n",
       "  </tbody>\n",
       "</table>\n",
       "</div>"
      ],
      "text/plain": [
       "      id   age city    f1  f2    f4         f5\n",
       "18  id19  53.0   서울  68.0   0  ISFP  83.685380\n",
       "19  id20  11.0   서울  51.0   1  INTJ  91.297791\n",
       "20  id21  90.0   부산  62.0   1  ISFP  29.269869"
      ]
     },
     "execution_count": 15,
     "metadata": {},
     "output_type": "execute_result"
    }
   ],
   "source": [
    "# 대체 후 데이터 샘플 출력\n",
    "df[18:21]"
   ]
  },
  {
   "cell_type": "code",
   "execution_count": 16,
   "id": "f4ec5f8c",
   "metadata": {
    "execution": {
     "iopub.execute_input": "2021-11-16T13:13:13.784379Z",
     "iopub.status.busy": "2021-11-16T13:13:13.783530Z",
     "iopub.status.idle": "2021-11-16T13:13:13.787434Z",
     "shell.execute_reply": "2021-11-16T13:13:13.788434Z",
     "shell.execute_reply.started": "2021-11-16T13:12:20.778996Z"
    },
    "papermill": {
     "duration": 0.032563,
     "end_time": "2021-11-16T13:13:13.788658",
     "exception": false,
     "start_time": "2021-11-16T13:13:13.756095",
     "status": "completed"
    },
    "tags": []
   },
   "outputs": [
    {
     "name": "stdout",
     "output_type": "stream",
     "text": [
      "65.52\n"
     ]
    }
   ],
   "source": [
    "#결과 출력\n",
    "print(df['f1'].mean())"
   ]
  }
 ],
 "metadata": {
  "kernelspec": {
   "display_name": "Python 3",
   "language": "python",
   "name": "python3"
  },
  "language_info": {
   "codemirror_mode": {
    "name": "ipython",
    "version": 3
   },
   "file_extension": ".py",
   "mimetype": "text/x-python",
   "name": "python",
   "nbconvert_exporter": "python",
   "pygments_lexer": "ipython3",
   "version": "3.7.10"
  },
  "papermill": {
   "default_parameters": {},
   "duration": 11.958559,
   "end_time": "2021-11-16T13:13:15.228002",
   "environment_variables": {},
   "exception": null,
   "input_path": "__notebook__.ipynb",
   "output_path": "__notebook__.ipynb",
   "parameters": {},
   "start_time": "2021-11-16T13:13:03.269443",
   "version": "2.3.3"
  }
 },
 "nbformat": 4,
 "nbformat_minor": 5
}
