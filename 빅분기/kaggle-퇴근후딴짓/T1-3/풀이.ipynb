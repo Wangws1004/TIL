{
  "cells": [
    {
      "cell_type": "markdown",
      "id": "a7055af7",
      "metadata": {
        "papermill": {
          "duration": 0.018127,
          "end_time": "2021-11-16T13:13:12.911629",
          "exception": false,
          "start_time": "2021-11-16T13:13:12.893502",
          "status": "completed"
        },
        "tags": [],
        "id": "a7055af7"
      },
      "source": [
        "## 결측치 처리\n",
        "-  주어진 데이터에서 결측치가 80%이상 되는 컬럼은(변수는) 삭제하고, 80% 미만인 결측치가 있는 컬럼은 'city'별 중앙값으로 값을 대체하고 'f1'컬럼의 평균값을 출력하세요!\n",
        "- 데이터셋 : basic1.csv 오른쪽 상단 copy&edit 클릭 -> 예상문제 풀이 시작\n",
        "- 강의 영상 : https://youtu.be/WqlpqBRn7x4"
      ]
    },
    {
      "cell_type": "code",
      "execution_count": 3,
      "id": "0129e61e",
      "metadata": {
        "execution": {
          "iopub.execute_input": "2021-11-16T13:13:12.952214Z",
          "iopub.status.busy": "2021-11-16T13:13:12.950392Z",
          "iopub.status.idle": "2021-11-16T13:13:12.954607Z",
          "shell.execute_reply": "2021-11-16T13:13:12.953761Z",
          "shell.execute_reply.started": "2021-11-16T13:12:20.556478Z"
        },
        "papermill": {
          "duration": 0.026202,
          "end_time": "2021-11-16T13:13:12.954790",
          "exception": false,
          "start_time": "2021-11-16T13:13:12.928588",
          "status": "completed"
        },
        "tags": [],
        "colab": {
          "base_uri": "https://localhost:8080/",
          "height": 204
        },
        "id": "0129e61e",
        "outputId": "8d5b7e96-c927-41a8-999d-3f95b5ae804a"
      },
      "outputs": [
        {
          "output_type": "execute_result",
          "data": {
            "text/plain": [
              "     id   age city    f1  f2   f3    f4         f5\n",
              "0  id01   2.0   서울   NaN   0  NaN  ENFJ  91.297791\n",
              "1  id02   9.0   서울  70.0   1  NaN  ENFJ  60.339826\n",
              "2  id03  27.0   서울  61.0   1  NaN  ISTJ  17.252986\n",
              "3  id04  75.0   서울   NaN   2  NaN  INFP  52.667078\n",
              "4  id05  24.0   서울  85.0   2  NaN  ISFJ  29.269869"
            ],
            "text/html": [
              "\n",
              "  <div id=\"df-c0c6f30a-a9d6-454f-bf24-7f1abb40f6af\" class=\"colab-df-container\">\n",
              "    <div>\n",
              "<style scoped>\n",
              "    .dataframe tbody tr th:only-of-type {\n",
              "        vertical-align: middle;\n",
              "    }\n",
              "\n",
              "    .dataframe tbody tr th {\n",
              "        vertical-align: top;\n",
              "    }\n",
              "\n",
              "    .dataframe thead th {\n",
              "        text-align: right;\n",
              "    }\n",
              "</style>\n",
              "<table border=\"1\" class=\"dataframe\">\n",
              "  <thead>\n",
              "    <tr style=\"text-align: right;\">\n",
              "      <th></th>\n",
              "      <th>id</th>\n",
              "      <th>age</th>\n",
              "      <th>city</th>\n",
              "      <th>f1</th>\n",
              "      <th>f2</th>\n",
              "      <th>f3</th>\n",
              "      <th>f4</th>\n",
              "      <th>f5</th>\n",
              "    </tr>\n",
              "  </thead>\n",
              "  <tbody>\n",
              "    <tr>\n",
              "      <th>0</th>\n",
              "      <td>id01</td>\n",
              "      <td>2.0</td>\n",
              "      <td>서울</td>\n",
              "      <td>NaN</td>\n",
              "      <td>0</td>\n",
              "      <td>NaN</td>\n",
              "      <td>ENFJ</td>\n",
              "      <td>91.297791</td>\n",
              "    </tr>\n",
              "    <tr>\n",
              "      <th>1</th>\n",
              "      <td>id02</td>\n",
              "      <td>9.0</td>\n",
              "      <td>서울</td>\n",
              "      <td>70.0</td>\n",
              "      <td>1</td>\n",
              "      <td>NaN</td>\n",
              "      <td>ENFJ</td>\n",
              "      <td>60.339826</td>\n",
              "    </tr>\n",
              "    <tr>\n",
              "      <th>2</th>\n",
              "      <td>id03</td>\n",
              "      <td>27.0</td>\n",
              "      <td>서울</td>\n",
              "      <td>61.0</td>\n",
              "      <td>1</td>\n",
              "      <td>NaN</td>\n",
              "      <td>ISTJ</td>\n",
              "      <td>17.252986</td>\n",
              "    </tr>\n",
              "    <tr>\n",
              "      <th>3</th>\n",
              "      <td>id04</td>\n",
              "      <td>75.0</td>\n",
              "      <td>서울</td>\n",
              "      <td>NaN</td>\n",
              "      <td>2</td>\n",
              "      <td>NaN</td>\n",
              "      <td>INFP</td>\n",
              "      <td>52.667078</td>\n",
              "    </tr>\n",
              "    <tr>\n",
              "      <th>4</th>\n",
              "      <td>id05</td>\n",
              "      <td>24.0</td>\n",
              "      <td>서울</td>\n",
              "      <td>85.0</td>\n",
              "      <td>2</td>\n",
              "      <td>NaN</td>\n",
              "      <td>ISFJ</td>\n",
              "      <td>29.269869</td>\n",
              "    </tr>\n",
              "  </tbody>\n",
              "</table>\n",
              "</div>\n",
              "    <div class=\"colab-df-buttons\">\n",
              "\n",
              "  <div class=\"colab-df-container\">\n",
              "    <button class=\"colab-df-convert\" onclick=\"convertToInteractive('df-c0c6f30a-a9d6-454f-bf24-7f1abb40f6af')\"\n",
              "            title=\"Convert this dataframe to an interactive table.\"\n",
              "            style=\"display:none;\">\n",
              "\n",
              "  <svg xmlns=\"http://www.w3.org/2000/svg\" height=\"24px\" viewBox=\"0 -960 960 960\">\n",
              "    <path d=\"M120-120v-720h720v720H120Zm60-500h600v-160H180v160Zm220 220h160v-160H400v160Zm0 220h160v-160H400v160ZM180-400h160v-160H180v160Zm440 0h160v-160H620v160ZM180-180h160v-160H180v160Zm440 0h160v-160H620v160Z\"/>\n",
              "  </svg>\n",
              "    </button>\n",
              "\n",
              "  <style>\n",
              "    .colab-df-container {\n",
              "      display:flex;\n",
              "      gap: 12px;\n",
              "    }\n",
              "\n",
              "    .colab-df-convert {\n",
              "      background-color: #E8F0FE;\n",
              "      border: none;\n",
              "      border-radius: 50%;\n",
              "      cursor: pointer;\n",
              "      display: none;\n",
              "      fill: #1967D2;\n",
              "      height: 32px;\n",
              "      padding: 0 0 0 0;\n",
              "      width: 32px;\n",
              "    }\n",
              "\n",
              "    .colab-df-convert:hover {\n",
              "      background-color: #E2EBFA;\n",
              "      box-shadow: 0px 1px 2px rgba(60, 64, 67, 0.3), 0px 1px 3px 1px rgba(60, 64, 67, 0.15);\n",
              "      fill: #174EA6;\n",
              "    }\n",
              "\n",
              "    .colab-df-buttons div {\n",
              "      margin-bottom: 4px;\n",
              "    }\n",
              "\n",
              "    [theme=dark] .colab-df-convert {\n",
              "      background-color: #3B4455;\n",
              "      fill: #D2E3FC;\n",
              "    }\n",
              "\n",
              "    [theme=dark] .colab-df-convert:hover {\n",
              "      background-color: #434B5C;\n",
              "      box-shadow: 0px 1px 3px 1px rgba(0, 0, 0, 0.15);\n",
              "      filter: drop-shadow(0px 1px 2px rgba(0, 0, 0, 0.3));\n",
              "      fill: #FFFFFF;\n",
              "    }\n",
              "  </style>\n",
              "\n",
              "    <script>\n",
              "      const buttonEl =\n",
              "        document.querySelector('#df-c0c6f30a-a9d6-454f-bf24-7f1abb40f6af button.colab-df-convert');\n",
              "      buttonEl.style.display =\n",
              "        google.colab.kernel.accessAllowed ? 'block' : 'none';\n",
              "\n",
              "      async function convertToInteractive(key) {\n",
              "        const element = document.querySelector('#df-c0c6f30a-a9d6-454f-bf24-7f1abb40f6af');\n",
              "        const dataTable =\n",
              "          await google.colab.kernel.invokeFunction('convertToInteractive',\n",
              "                                                    [key], {});\n",
              "        if (!dataTable) return;\n",
              "\n",
              "        const docLinkHtml = 'Like what you see? Visit the ' +\n",
              "          '<a target=\"_blank\" href=https://colab.research.google.com/notebooks/data_table.ipynb>data table notebook</a>'\n",
              "          + ' to learn more about interactive tables.';\n",
              "        element.innerHTML = '';\n",
              "        dataTable['output_type'] = 'display_data';\n",
              "        await google.colab.output.renderOutput(dataTable, element);\n",
              "        const docLink = document.createElement('div');\n",
              "        docLink.innerHTML = docLinkHtml;\n",
              "        element.appendChild(docLink);\n",
              "      }\n",
              "    </script>\n",
              "  </div>\n",
              "\n",
              "\n",
              "<div id=\"df-5a8fb187-d6a1-4cea-8c3e-cd29bab9a4ba\">\n",
              "  <button class=\"colab-df-quickchart\" onclick=\"quickchart('df-5a8fb187-d6a1-4cea-8c3e-cd29bab9a4ba')\"\n",
              "            title=\"Suggest charts\"\n",
              "            style=\"display:none;\">\n",
              "\n",
              "<svg xmlns=\"http://www.w3.org/2000/svg\" height=\"24px\"viewBox=\"0 0 24 24\"\n",
              "     width=\"24px\">\n",
              "    <g>\n",
              "        <path d=\"M19 3H5c-1.1 0-2 .9-2 2v14c0 1.1.9 2 2 2h14c1.1 0 2-.9 2-2V5c0-1.1-.9-2-2-2zM9 17H7v-7h2v7zm4 0h-2V7h2v10zm4 0h-2v-4h2v4z\"/>\n",
              "    </g>\n",
              "</svg>\n",
              "  </button>\n",
              "\n",
              "<style>\n",
              "  .colab-df-quickchart {\n",
              "      --bg-color: #E8F0FE;\n",
              "      --fill-color: #1967D2;\n",
              "      --hover-bg-color: #E2EBFA;\n",
              "      --hover-fill-color: #174EA6;\n",
              "      --disabled-fill-color: #AAA;\n",
              "      --disabled-bg-color: #DDD;\n",
              "  }\n",
              "\n",
              "  [theme=dark] .colab-df-quickchart {\n",
              "      --bg-color: #3B4455;\n",
              "      --fill-color: #D2E3FC;\n",
              "      --hover-bg-color: #434B5C;\n",
              "      --hover-fill-color: #FFFFFF;\n",
              "      --disabled-bg-color: #3B4455;\n",
              "      --disabled-fill-color: #666;\n",
              "  }\n",
              "\n",
              "  .colab-df-quickchart {\n",
              "    background-color: var(--bg-color);\n",
              "    border: none;\n",
              "    border-radius: 50%;\n",
              "    cursor: pointer;\n",
              "    display: none;\n",
              "    fill: var(--fill-color);\n",
              "    height: 32px;\n",
              "    padding: 0;\n",
              "    width: 32px;\n",
              "  }\n",
              "\n",
              "  .colab-df-quickchart:hover {\n",
              "    background-color: var(--hover-bg-color);\n",
              "    box-shadow: 0 1px 2px rgba(60, 64, 67, 0.3), 0 1px 3px 1px rgba(60, 64, 67, 0.15);\n",
              "    fill: var(--button-hover-fill-color);\n",
              "  }\n",
              "\n",
              "  .colab-df-quickchart-complete:disabled,\n",
              "  .colab-df-quickchart-complete:disabled:hover {\n",
              "    background-color: var(--disabled-bg-color);\n",
              "    fill: var(--disabled-fill-color);\n",
              "    box-shadow: none;\n",
              "  }\n",
              "\n",
              "  .colab-df-spinner {\n",
              "    border: 2px solid var(--fill-color);\n",
              "    border-color: transparent;\n",
              "    border-bottom-color: var(--fill-color);\n",
              "    animation:\n",
              "      spin 1s steps(1) infinite;\n",
              "  }\n",
              "\n",
              "  @keyframes spin {\n",
              "    0% {\n",
              "      border-color: transparent;\n",
              "      border-bottom-color: var(--fill-color);\n",
              "      border-left-color: var(--fill-color);\n",
              "    }\n",
              "    20% {\n",
              "      border-color: transparent;\n",
              "      border-left-color: var(--fill-color);\n",
              "      border-top-color: var(--fill-color);\n",
              "    }\n",
              "    30% {\n",
              "      border-color: transparent;\n",
              "      border-left-color: var(--fill-color);\n",
              "      border-top-color: var(--fill-color);\n",
              "      border-right-color: var(--fill-color);\n",
              "    }\n",
              "    40% {\n",
              "      border-color: transparent;\n",
              "      border-right-color: var(--fill-color);\n",
              "      border-top-color: var(--fill-color);\n",
              "    }\n",
              "    60% {\n",
              "      border-color: transparent;\n",
              "      border-right-color: var(--fill-color);\n",
              "    }\n",
              "    80% {\n",
              "      border-color: transparent;\n",
              "      border-right-color: var(--fill-color);\n",
              "      border-bottom-color: var(--fill-color);\n",
              "    }\n",
              "    90% {\n",
              "      border-color: transparent;\n",
              "      border-bottom-color: var(--fill-color);\n",
              "    }\n",
              "  }\n",
              "</style>\n",
              "\n",
              "  <script>\n",
              "    async function quickchart(key) {\n",
              "      const quickchartButtonEl =\n",
              "        document.querySelector('#' + key + ' button');\n",
              "      quickchartButtonEl.disabled = true;  // To prevent multiple clicks.\n",
              "      quickchartButtonEl.classList.add('colab-df-spinner');\n",
              "      try {\n",
              "        const charts = await google.colab.kernel.invokeFunction(\n",
              "            'suggestCharts', [key], {});\n",
              "      } catch (error) {\n",
              "        console.error('Error during call to suggestCharts:', error);\n",
              "      }\n",
              "      quickchartButtonEl.classList.remove('colab-df-spinner');\n",
              "      quickchartButtonEl.classList.add('colab-df-quickchart-complete');\n",
              "    }\n",
              "    (() => {\n",
              "      let quickchartButtonEl =\n",
              "        document.querySelector('#df-5a8fb187-d6a1-4cea-8c3e-cd29bab9a4ba button');\n",
              "      quickchartButtonEl.style.display =\n",
              "        google.colab.kernel.accessAllowed ? 'block' : 'none';\n",
              "    })();\n",
              "  </script>\n",
              "</div>\n",
              "\n",
              "    </div>\n",
              "  </div>\n"
            ],
            "application/vnd.google.colaboratory.intrinsic+json": {
              "type": "dataframe",
              "variable_name": "df",
              "summary": "{\n  \"name\": \"df\",\n  \"rows\": 100,\n  \"fields\": [\n    {\n      \"column\": \"id\",\n      \"properties\": {\n        \"dtype\": \"string\",\n        \"num_unique_values\": 100,\n        \"samples\": [\n          \"id84\",\n          \"id54\",\n          \"id71\"\n        ],\n        \"semantic_type\": \"\",\n        \"description\": \"\"\n      }\n    },\n    {\n      \"column\": \"age\",\n      \"properties\": {\n        \"dtype\": \"number\",\n        \"std\": 30.44275852258869,\n        \"min\": -13.5,\n        \"max\": 100.0,\n        \"num_unique_values\": 71,\n        \"samples\": [\n          80.0,\n          2.0,\n          43.0\n        ],\n        \"semantic_type\": \"\",\n        \"description\": \"\"\n      }\n    },\n    {\n      \"column\": \"city\",\n      \"properties\": {\n        \"dtype\": \"category\",\n        \"num_unique_values\": 4,\n        \"samples\": [\n          \"\\ubd80\\uc0b0\",\n          \"\\uacbd\\uae30\",\n          \"\\uc11c\\uc6b8\"\n        ],\n        \"semantic_type\": \"\",\n        \"description\": \"\"\n      }\n    },\n    {\n      \"column\": \"f1\",\n      \"properties\": {\n        \"dtype\": \"number\",\n        \"std\": 19.453893291430724,\n        \"min\": 12.0,\n        \"max\": 111.0,\n        \"num_unique_values\": 43,\n        \"samples\": [\n          12.0,\n          78.0,\n          82.0\n        ],\n        \"semantic_type\": \"\",\n        \"description\": \"\"\n      }\n    },\n    {\n      \"column\": \"f2\",\n      \"properties\": {\n        \"dtype\": \"number\",\n        \"std\": 0,\n        \"min\": 0,\n        \"max\": 2,\n        \"num_unique_values\": 3,\n        \"samples\": [\n          0,\n          1,\n          2\n        ],\n        \"semantic_type\": \"\",\n        \"description\": \"\"\n      }\n    },\n    {\n      \"column\": \"f3\",\n      \"properties\": {\n        \"dtype\": \"category\",\n        \"num_unique_values\": 1,\n        \"samples\": [\n          \"vip\"\n        ],\n        \"semantic_type\": \"\",\n        \"description\": \"\"\n      }\n    },\n    {\n      \"column\": \"f4\",\n      \"properties\": {\n        \"dtype\": \"category\",\n        \"num_unique_values\": 16,\n        \"samples\": [\n          \"ENFJ\"\n        ],\n        \"semantic_type\": \"\",\n        \"description\": \"\"\n      }\n    },\n    {\n      \"column\": \"f5\",\n      \"properties\": {\n        \"dtype\": \"number\",\n        \"std\": 28.45424373061051,\n        \"min\": 9.796377581,\n        \"max\": 98.42989897,\n        \"num_unique_values\": 20,\n        \"samples\": [\n          91.29779092\n        ],\n        \"semantic_type\": \"\",\n        \"description\": \"\"\n      }\n    }\n  ]\n}"
            }
          },
          "metadata": {},
          "execution_count": 3
        }
      ],
      "source": [
        "# 라이브러리 및 데이터 불러오기\n",
        "import pandas as pd\n",
        "\n",
        "df = pd.read_csv('basic1.csv')\n",
        "df.head()"
      ]
    },
    {
      "cell_type": "code",
      "execution_count": 8,
      "id": "f1a196c7",
      "metadata": {
        "execution": {
          "iopub.execute_input": "2021-11-16T13:13:12.991863Z",
          "iopub.status.busy": "2021-11-16T13:13:12.990737Z",
          "iopub.status.idle": "2021-11-16T13:13:12.994152Z",
          "shell.execute_reply": "2021-11-16T13:13:12.994620Z",
          "shell.execute_reply.started": "2021-11-16T13:12:20.563788Z"
        },
        "papermill": {
          "duration": 0.024352,
          "end_time": "2021-11-16T13:13:12.994800",
          "exception": false,
          "start_time": "2021-11-16T13:13:12.970448",
          "status": "completed"
        },
        "tags": [],
        "colab": {
          "base_uri": "https://localhost:8080/"
        },
        "id": "f1a196c7",
        "outputId": "43c6dd53-a76f-4d8a-f4ec-d117cf51016d"
      },
      "outputs": [
        {
          "output_type": "execute_result",
          "data": {
            "text/plain": [
              "id       0\n",
              "age      0\n",
              "city     0\n",
              "f1      31\n",
              "f2       0\n",
              "f3      95\n",
              "f4       0\n",
              "f5       0\n",
              "dtype: int64"
            ]
          },
          "metadata": {},
          "execution_count": 8
        }
      ],
      "source": [
        "# EDA - 결측값 확인(비율 확인)\n",
        "df.isnull().sum()\n"
      ]
    },
    {
      "cell_type": "code",
      "source": [
        "df.shape[0]"
      ],
      "metadata": {
        "colab": {
          "base_uri": "https://localhost:8080/"
        },
        "id": "1ebEizSq5i0V",
        "outputId": "a867e27c-554b-44c4-ea53-99d07cacf928"
      },
      "id": "1ebEizSq5i0V",
      "execution_count": 10,
      "outputs": [
        {
          "output_type": "execute_result",
          "data": {
            "text/plain": [
              "100"
            ]
          },
          "metadata": {},
          "execution_count": 10
        }
      ]
    },
    {
      "cell_type": "code",
      "source": [
        "percent = df.isnull().sum()/df.shape[0]\n",
        "percent"
      ],
      "metadata": {
        "colab": {
          "base_uri": "https://localhost:8080/"
        },
        "id": "HRTARxrC5kAh",
        "outputId": "12adaceb-9a35-4e39-94d2-b1a56adc4e21"
      },
      "id": "HRTARxrC5kAh",
      "execution_count": 11,
      "outputs": [
        {
          "output_type": "execute_result",
          "data": {
            "text/plain": [
              "id      0.00\n",
              "age     0.00\n",
              "city    0.00\n",
              "f1      0.31\n",
              "f2      0.00\n",
              "f3      0.95\n",
              "f4      0.00\n",
              "f5      0.00\n",
              "dtype: float64"
            ]
          },
          "metadata": {},
          "execution_count": 11
        }
      ]
    },
    {
      "cell_type": "code",
      "execution_count": 18,
      "id": "81ec11bc",
      "metadata": {
        "execution": {
          "iopub.execute_input": "2021-11-16T13:13:13.029683Z",
          "iopub.status.busy": "2021-11-16T13:13:13.028691Z",
          "iopub.status.idle": "2021-11-16T13:13:13.033794Z",
          "shell.execute_reply": "2021-11-16T13:13:13.033078Z",
          "shell.execute_reply.started": "2021-11-16T13:12:20.574128Z"
        },
        "papermill": {
          "duration": 0.023558,
          "end_time": "2021-11-16T13:13:13.033950",
          "exception": false,
          "start_time": "2021-11-16T13:13:13.010392",
          "status": "completed"
        },
        "tags": [],
        "colab": {
          "base_uri": "https://localhost:8080/",
          "height": 419
        },
        "id": "81ec11bc",
        "outputId": "cb09fad1-b40f-47ee-e861-21351ba2a13f"
      },
      "outputs": [
        {
          "output_type": "execute_result",
          "data": {
            "text/plain": [
              "       id    age city    f1  f2    f4         f5\n",
              "0    id01    2.0   서울   NaN   0  ENFJ  91.297791\n",
              "1    id02    9.0   서울  70.0   1  ENFJ  60.339826\n",
              "2    id03   27.0   서울  61.0   1  ISTJ  17.252986\n",
              "3    id04   75.0   서울   NaN   2  INFP  52.667078\n",
              "4    id05   24.0   서울  85.0   2  ISFJ  29.269869\n",
              "..    ...    ...  ...   ...  ..   ...        ...\n",
              "95   id96   92.0   경기  53.0   1  ENTJ  52.667078\n",
              "96   id97  100.0   경기   NaN   0  INFP  67.886373\n",
              "97   id98   39.0   경기  58.0   2  INFP  98.429899\n",
              "98   id99    1.0   경기  47.0   0  ESFJ  97.381034\n",
              "99  id100   47.0   경기  53.0   0  ESFP  33.308999\n",
              "\n",
              "[100 rows x 7 columns]"
            ],
            "text/html": [
              "\n",
              "  <div id=\"df-7fac2c19-54cb-43ae-beaa-33acb3785fce\" class=\"colab-df-container\">\n",
              "    <div>\n",
              "<style scoped>\n",
              "    .dataframe tbody tr th:only-of-type {\n",
              "        vertical-align: middle;\n",
              "    }\n",
              "\n",
              "    .dataframe tbody tr th {\n",
              "        vertical-align: top;\n",
              "    }\n",
              "\n",
              "    .dataframe thead th {\n",
              "        text-align: right;\n",
              "    }\n",
              "</style>\n",
              "<table border=\"1\" class=\"dataframe\">\n",
              "  <thead>\n",
              "    <tr style=\"text-align: right;\">\n",
              "      <th></th>\n",
              "      <th>id</th>\n",
              "      <th>age</th>\n",
              "      <th>city</th>\n",
              "      <th>f1</th>\n",
              "      <th>f2</th>\n",
              "      <th>f4</th>\n",
              "      <th>f5</th>\n",
              "    </tr>\n",
              "  </thead>\n",
              "  <tbody>\n",
              "    <tr>\n",
              "      <th>0</th>\n",
              "      <td>id01</td>\n",
              "      <td>2.0</td>\n",
              "      <td>서울</td>\n",
              "      <td>NaN</td>\n",
              "      <td>0</td>\n",
              "      <td>ENFJ</td>\n",
              "      <td>91.297791</td>\n",
              "    </tr>\n",
              "    <tr>\n",
              "      <th>1</th>\n",
              "      <td>id02</td>\n",
              "      <td>9.0</td>\n",
              "      <td>서울</td>\n",
              "      <td>70.0</td>\n",
              "      <td>1</td>\n",
              "      <td>ENFJ</td>\n",
              "      <td>60.339826</td>\n",
              "    </tr>\n",
              "    <tr>\n",
              "      <th>2</th>\n",
              "      <td>id03</td>\n",
              "      <td>27.0</td>\n",
              "      <td>서울</td>\n",
              "      <td>61.0</td>\n",
              "      <td>1</td>\n",
              "      <td>ISTJ</td>\n",
              "      <td>17.252986</td>\n",
              "    </tr>\n",
              "    <tr>\n",
              "      <th>3</th>\n",
              "      <td>id04</td>\n",
              "      <td>75.0</td>\n",
              "      <td>서울</td>\n",
              "      <td>NaN</td>\n",
              "      <td>2</td>\n",
              "      <td>INFP</td>\n",
              "      <td>52.667078</td>\n",
              "    </tr>\n",
              "    <tr>\n",
              "      <th>4</th>\n",
              "      <td>id05</td>\n",
              "      <td>24.0</td>\n",
              "      <td>서울</td>\n",
              "      <td>85.0</td>\n",
              "      <td>2</td>\n",
              "      <td>ISFJ</td>\n",
              "      <td>29.269869</td>\n",
              "    </tr>\n",
              "    <tr>\n",
              "      <th>...</th>\n",
              "      <td>...</td>\n",
              "      <td>...</td>\n",
              "      <td>...</td>\n",
              "      <td>...</td>\n",
              "      <td>...</td>\n",
              "      <td>...</td>\n",
              "      <td>...</td>\n",
              "    </tr>\n",
              "    <tr>\n",
              "      <th>95</th>\n",
              "      <td>id96</td>\n",
              "      <td>92.0</td>\n",
              "      <td>경기</td>\n",
              "      <td>53.0</td>\n",
              "      <td>1</td>\n",
              "      <td>ENTJ</td>\n",
              "      <td>52.667078</td>\n",
              "    </tr>\n",
              "    <tr>\n",
              "      <th>96</th>\n",
              "      <td>id97</td>\n",
              "      <td>100.0</td>\n",
              "      <td>경기</td>\n",
              "      <td>NaN</td>\n",
              "      <td>0</td>\n",
              "      <td>INFP</td>\n",
              "      <td>67.886373</td>\n",
              "    </tr>\n",
              "    <tr>\n",
              "      <th>97</th>\n",
              "      <td>id98</td>\n",
              "      <td>39.0</td>\n",
              "      <td>경기</td>\n",
              "      <td>58.0</td>\n",
              "      <td>2</td>\n",
              "      <td>INFP</td>\n",
              "      <td>98.429899</td>\n",
              "    </tr>\n",
              "    <tr>\n",
              "      <th>98</th>\n",
              "      <td>id99</td>\n",
              "      <td>1.0</td>\n",
              "      <td>경기</td>\n",
              "      <td>47.0</td>\n",
              "      <td>0</td>\n",
              "      <td>ESFJ</td>\n",
              "      <td>97.381034</td>\n",
              "    </tr>\n",
              "    <tr>\n",
              "      <th>99</th>\n",
              "      <td>id100</td>\n",
              "      <td>47.0</td>\n",
              "      <td>경기</td>\n",
              "      <td>53.0</td>\n",
              "      <td>0</td>\n",
              "      <td>ESFP</td>\n",
              "      <td>33.308999</td>\n",
              "    </tr>\n",
              "  </tbody>\n",
              "</table>\n",
              "<p>100 rows × 7 columns</p>\n",
              "</div>\n",
              "    <div class=\"colab-df-buttons\">\n",
              "\n",
              "  <div class=\"colab-df-container\">\n",
              "    <button class=\"colab-df-convert\" onclick=\"convertToInteractive('df-7fac2c19-54cb-43ae-beaa-33acb3785fce')\"\n",
              "            title=\"Convert this dataframe to an interactive table.\"\n",
              "            style=\"display:none;\">\n",
              "\n",
              "  <svg xmlns=\"http://www.w3.org/2000/svg\" height=\"24px\" viewBox=\"0 -960 960 960\">\n",
              "    <path d=\"M120-120v-720h720v720H120Zm60-500h600v-160H180v160Zm220 220h160v-160H400v160Zm0 220h160v-160H400v160ZM180-400h160v-160H180v160Zm440 0h160v-160H620v160ZM180-180h160v-160H180v160Zm440 0h160v-160H620v160Z\"/>\n",
              "  </svg>\n",
              "    </button>\n",
              "\n",
              "  <style>\n",
              "    .colab-df-container {\n",
              "      display:flex;\n",
              "      gap: 12px;\n",
              "    }\n",
              "\n",
              "    .colab-df-convert {\n",
              "      background-color: #E8F0FE;\n",
              "      border: none;\n",
              "      border-radius: 50%;\n",
              "      cursor: pointer;\n",
              "      display: none;\n",
              "      fill: #1967D2;\n",
              "      height: 32px;\n",
              "      padding: 0 0 0 0;\n",
              "      width: 32px;\n",
              "    }\n",
              "\n",
              "    .colab-df-convert:hover {\n",
              "      background-color: #E2EBFA;\n",
              "      box-shadow: 0px 1px 2px rgba(60, 64, 67, 0.3), 0px 1px 3px 1px rgba(60, 64, 67, 0.15);\n",
              "      fill: #174EA6;\n",
              "    }\n",
              "\n",
              "    .colab-df-buttons div {\n",
              "      margin-bottom: 4px;\n",
              "    }\n",
              "\n",
              "    [theme=dark] .colab-df-convert {\n",
              "      background-color: #3B4455;\n",
              "      fill: #D2E3FC;\n",
              "    }\n",
              "\n",
              "    [theme=dark] .colab-df-convert:hover {\n",
              "      background-color: #434B5C;\n",
              "      box-shadow: 0px 1px 3px 1px rgba(0, 0, 0, 0.15);\n",
              "      filter: drop-shadow(0px 1px 2px rgba(0, 0, 0, 0.3));\n",
              "      fill: #FFFFFF;\n",
              "    }\n",
              "  </style>\n",
              "\n",
              "    <script>\n",
              "      const buttonEl =\n",
              "        document.querySelector('#df-7fac2c19-54cb-43ae-beaa-33acb3785fce button.colab-df-convert');\n",
              "      buttonEl.style.display =\n",
              "        google.colab.kernel.accessAllowed ? 'block' : 'none';\n",
              "\n",
              "      async function convertToInteractive(key) {\n",
              "        const element = document.querySelector('#df-7fac2c19-54cb-43ae-beaa-33acb3785fce');\n",
              "        const dataTable =\n",
              "          await google.colab.kernel.invokeFunction('convertToInteractive',\n",
              "                                                    [key], {});\n",
              "        if (!dataTable) return;\n",
              "\n",
              "        const docLinkHtml = 'Like what you see? Visit the ' +\n",
              "          '<a target=\"_blank\" href=https://colab.research.google.com/notebooks/data_table.ipynb>data table notebook</a>'\n",
              "          + ' to learn more about interactive tables.';\n",
              "        element.innerHTML = '';\n",
              "        dataTable['output_type'] = 'display_data';\n",
              "        await google.colab.output.renderOutput(dataTable, element);\n",
              "        const docLink = document.createElement('div');\n",
              "        docLink.innerHTML = docLinkHtml;\n",
              "        element.appendChild(docLink);\n",
              "      }\n",
              "    </script>\n",
              "  </div>\n",
              "\n",
              "\n",
              "<div id=\"df-1941709e-5239-4842-8147-ea456888fa94\">\n",
              "  <button class=\"colab-df-quickchart\" onclick=\"quickchart('df-1941709e-5239-4842-8147-ea456888fa94')\"\n",
              "            title=\"Suggest charts\"\n",
              "            style=\"display:none;\">\n",
              "\n",
              "<svg xmlns=\"http://www.w3.org/2000/svg\" height=\"24px\"viewBox=\"0 0 24 24\"\n",
              "     width=\"24px\">\n",
              "    <g>\n",
              "        <path d=\"M19 3H5c-1.1 0-2 .9-2 2v14c0 1.1.9 2 2 2h14c1.1 0 2-.9 2-2V5c0-1.1-.9-2-2-2zM9 17H7v-7h2v7zm4 0h-2V7h2v10zm4 0h-2v-4h2v4z\"/>\n",
              "    </g>\n",
              "</svg>\n",
              "  </button>\n",
              "\n",
              "<style>\n",
              "  .colab-df-quickchart {\n",
              "      --bg-color: #E8F0FE;\n",
              "      --fill-color: #1967D2;\n",
              "      --hover-bg-color: #E2EBFA;\n",
              "      --hover-fill-color: #174EA6;\n",
              "      --disabled-fill-color: #AAA;\n",
              "      --disabled-bg-color: #DDD;\n",
              "  }\n",
              "\n",
              "  [theme=dark] .colab-df-quickchart {\n",
              "      --bg-color: #3B4455;\n",
              "      --fill-color: #D2E3FC;\n",
              "      --hover-bg-color: #434B5C;\n",
              "      --hover-fill-color: #FFFFFF;\n",
              "      --disabled-bg-color: #3B4455;\n",
              "      --disabled-fill-color: #666;\n",
              "  }\n",
              "\n",
              "  .colab-df-quickchart {\n",
              "    background-color: var(--bg-color);\n",
              "    border: none;\n",
              "    border-radius: 50%;\n",
              "    cursor: pointer;\n",
              "    display: none;\n",
              "    fill: var(--fill-color);\n",
              "    height: 32px;\n",
              "    padding: 0;\n",
              "    width: 32px;\n",
              "  }\n",
              "\n",
              "  .colab-df-quickchart:hover {\n",
              "    background-color: var(--hover-bg-color);\n",
              "    box-shadow: 0 1px 2px rgba(60, 64, 67, 0.3), 0 1px 3px 1px rgba(60, 64, 67, 0.15);\n",
              "    fill: var(--button-hover-fill-color);\n",
              "  }\n",
              "\n",
              "  .colab-df-quickchart-complete:disabled,\n",
              "  .colab-df-quickchart-complete:disabled:hover {\n",
              "    background-color: var(--disabled-bg-color);\n",
              "    fill: var(--disabled-fill-color);\n",
              "    box-shadow: none;\n",
              "  }\n",
              "\n",
              "  .colab-df-spinner {\n",
              "    border: 2px solid var(--fill-color);\n",
              "    border-color: transparent;\n",
              "    border-bottom-color: var(--fill-color);\n",
              "    animation:\n",
              "      spin 1s steps(1) infinite;\n",
              "  }\n",
              "\n",
              "  @keyframes spin {\n",
              "    0% {\n",
              "      border-color: transparent;\n",
              "      border-bottom-color: var(--fill-color);\n",
              "      border-left-color: var(--fill-color);\n",
              "    }\n",
              "    20% {\n",
              "      border-color: transparent;\n",
              "      border-left-color: var(--fill-color);\n",
              "      border-top-color: var(--fill-color);\n",
              "    }\n",
              "    30% {\n",
              "      border-color: transparent;\n",
              "      border-left-color: var(--fill-color);\n",
              "      border-top-color: var(--fill-color);\n",
              "      border-right-color: var(--fill-color);\n",
              "    }\n",
              "    40% {\n",
              "      border-color: transparent;\n",
              "      border-right-color: var(--fill-color);\n",
              "      border-top-color: var(--fill-color);\n",
              "    }\n",
              "    60% {\n",
              "      border-color: transparent;\n",
              "      border-right-color: var(--fill-color);\n",
              "    }\n",
              "    80% {\n",
              "      border-color: transparent;\n",
              "      border-right-color: var(--fill-color);\n",
              "      border-bottom-color: var(--fill-color);\n",
              "    }\n",
              "    90% {\n",
              "      border-color: transparent;\n",
              "      border-bottom-color: var(--fill-color);\n",
              "    }\n",
              "  }\n",
              "</style>\n",
              "\n",
              "  <script>\n",
              "    async function quickchart(key) {\n",
              "      const quickchartButtonEl =\n",
              "        document.querySelector('#' + key + ' button');\n",
              "      quickchartButtonEl.disabled = true;  // To prevent multiple clicks.\n",
              "      quickchartButtonEl.classList.add('colab-df-spinner');\n",
              "      try {\n",
              "        const charts = await google.colab.kernel.invokeFunction(\n",
              "            'suggestCharts', [key], {});\n",
              "      } catch (error) {\n",
              "        console.error('Error during call to suggestCharts:', error);\n",
              "      }\n",
              "      quickchartButtonEl.classList.remove('colab-df-spinner');\n",
              "      quickchartButtonEl.classList.add('colab-df-quickchart-complete');\n",
              "    }\n",
              "    (() => {\n",
              "      let quickchartButtonEl =\n",
              "        document.querySelector('#df-1941709e-5239-4842-8147-ea456888fa94 button');\n",
              "      quickchartButtonEl.style.display =\n",
              "        google.colab.kernel.accessAllowed ? 'block' : 'none';\n",
              "    })();\n",
              "  </script>\n",
              "</div>\n",
              "\n",
              "  <div id=\"id_17826b56-d993-40b4-8192-ecf9e35be291\">\n",
              "    <style>\n",
              "      .colab-df-generate {\n",
              "        background-color: #E8F0FE;\n",
              "        border: none;\n",
              "        border-radius: 50%;\n",
              "        cursor: pointer;\n",
              "        display: none;\n",
              "        fill: #1967D2;\n",
              "        height: 32px;\n",
              "        padding: 0 0 0 0;\n",
              "        width: 32px;\n",
              "      }\n",
              "\n",
              "      .colab-df-generate:hover {\n",
              "        background-color: #E2EBFA;\n",
              "        box-shadow: 0px 1px 2px rgba(60, 64, 67, 0.3), 0px 1px 3px 1px rgba(60, 64, 67, 0.15);\n",
              "        fill: #174EA6;\n",
              "      }\n",
              "\n",
              "      [theme=dark] .colab-df-generate {\n",
              "        background-color: #3B4455;\n",
              "        fill: #D2E3FC;\n",
              "      }\n",
              "\n",
              "      [theme=dark] .colab-df-generate:hover {\n",
              "        background-color: #434B5C;\n",
              "        box-shadow: 0px 1px 3px 1px rgba(0, 0, 0, 0.15);\n",
              "        filter: drop-shadow(0px 1px 2px rgba(0, 0, 0, 0.3));\n",
              "        fill: #FFFFFF;\n",
              "      }\n",
              "    </style>\n",
              "    <button class=\"colab-df-generate\" onclick=\"generateWithVariable('df_drop')\"\n",
              "            title=\"Generate code using this dataframe.\"\n",
              "            style=\"display:none;\">\n",
              "\n",
              "  <svg xmlns=\"http://www.w3.org/2000/svg\" height=\"24px\"viewBox=\"0 0 24 24\"\n",
              "       width=\"24px\">\n",
              "    <path d=\"M7,19H8.4L18.45,9,17,7.55,7,17.6ZM5,21V16.75L18.45,3.32a2,2,0,0,1,2.83,0l1.4,1.43a1.91,1.91,0,0,1,.58,1.4,1.91,1.91,0,0,1-.58,1.4L9.25,21ZM18.45,9,17,7.55Zm-12,3A5.31,5.31,0,0,0,4.9,8.1,5.31,5.31,0,0,0,1,6.5,5.31,5.31,0,0,0,4.9,4.9,5.31,5.31,0,0,0,6.5,1,5.31,5.31,0,0,0,8.1,4.9,5.31,5.31,0,0,0,12,6.5,5.46,5.46,0,0,0,6.5,12Z\"/>\n",
              "  </svg>\n",
              "    </button>\n",
              "    <script>\n",
              "      (() => {\n",
              "      const buttonEl =\n",
              "        document.querySelector('#id_17826b56-d993-40b4-8192-ecf9e35be291 button.colab-df-generate');\n",
              "      buttonEl.style.display =\n",
              "        google.colab.kernel.accessAllowed ? 'block' : 'none';\n",
              "\n",
              "      buttonEl.onclick = () => {\n",
              "        google.colab.notebook.generateWithVariable('df_drop');\n",
              "      }\n",
              "      })();\n",
              "    </script>\n",
              "  </div>\n",
              "\n",
              "    </div>\n",
              "  </div>\n"
            ],
            "application/vnd.google.colaboratory.intrinsic+json": {
              "type": "dataframe",
              "variable_name": "df_drop",
              "summary": "{\n  \"name\": \"df_drop\",\n  \"rows\": 100,\n  \"fields\": [\n    {\n      \"column\": \"id\",\n      \"properties\": {\n        \"dtype\": \"string\",\n        \"num_unique_values\": 100,\n        \"samples\": [\n          \"id84\",\n          \"id54\",\n          \"id71\"\n        ],\n        \"semantic_type\": \"\",\n        \"description\": \"\"\n      }\n    },\n    {\n      \"column\": \"age\",\n      \"properties\": {\n        \"dtype\": \"number\",\n        \"std\": 30.44275852258869,\n        \"min\": -13.5,\n        \"max\": 100.0,\n        \"num_unique_values\": 71,\n        \"samples\": [\n          80.0,\n          2.0,\n          43.0\n        ],\n        \"semantic_type\": \"\",\n        \"description\": \"\"\n      }\n    },\n    {\n      \"column\": \"city\",\n      \"properties\": {\n        \"dtype\": \"category\",\n        \"num_unique_values\": 4,\n        \"samples\": [\n          \"\\ubd80\\uc0b0\",\n          \"\\uacbd\\uae30\",\n          \"\\uc11c\\uc6b8\"\n        ],\n        \"semantic_type\": \"\",\n        \"description\": \"\"\n      }\n    },\n    {\n      \"column\": \"f1\",\n      \"properties\": {\n        \"dtype\": \"number\",\n        \"std\": 19.453893291430724,\n        \"min\": 12.0,\n        \"max\": 111.0,\n        \"num_unique_values\": 43,\n        \"samples\": [\n          12.0,\n          78.0,\n          82.0\n        ],\n        \"semantic_type\": \"\",\n        \"description\": \"\"\n      }\n    },\n    {\n      \"column\": \"f2\",\n      \"properties\": {\n        \"dtype\": \"number\",\n        \"std\": 0,\n        \"min\": 0,\n        \"max\": 2,\n        \"num_unique_values\": 3,\n        \"samples\": [\n          0,\n          1,\n          2\n        ],\n        \"semantic_type\": \"\",\n        \"description\": \"\"\n      }\n    },\n    {\n      \"column\": \"f4\",\n      \"properties\": {\n        \"dtype\": \"category\",\n        \"num_unique_values\": 16,\n        \"samples\": [\n          \"ENFJ\",\n          \"ISTJ\",\n          \"INFJ\"\n        ],\n        \"semantic_type\": \"\",\n        \"description\": \"\"\n      }\n    },\n    {\n      \"column\": \"f5\",\n      \"properties\": {\n        \"dtype\": \"number\",\n        \"std\": 28.45424373061051,\n        \"min\": 9.796377581,\n        \"max\": 98.42989897,\n        \"num_unique_values\": 20,\n        \"samples\": [\n          91.29779092,\n          37.11373918,\n          48.43118381\n        ],\n        \"semantic_type\": \"\",\n        \"description\": \"\"\n      }\n    }\n  ]\n}"
            }
          },
          "metadata": {},
          "execution_count": 18
        }
      ],
      "source": [
        "# 80%이상 결측치 컬럼, 삭제\n",
        "df_drop = df.drop(['f3'], axis=1)\n",
        "df_drop"
      ]
    },
    {
      "cell_type": "code",
      "execution_count": 39,
      "id": "4e0396c0",
      "metadata": {
        "execution": {
          "iopub.execute_input": "2021-11-16T13:13:13.071488Z",
          "iopub.status.busy": "2021-11-16T13:13:13.070448Z",
          "iopub.status.idle": "2021-11-16T13:13:13.073593Z",
          "shell.execute_reply": "2021-11-16T13:13:13.072918Z",
          "shell.execute_reply.started": "2021-11-16T13:12:20.584502Z"
        },
        "papermill": {
          "duration": 0.024045,
          "end_time": "2021-11-16T13:13:13.073743",
          "exception": false,
          "start_time": "2021-11-16T13:13:13.049698",
          "status": "completed"
        },
        "tags": [],
        "colab": {
          "base_uri": "https://localhost:8080/"
        },
        "id": "4e0396c0",
        "outputId": "ff71c504-66fc-4bee-8ca4-3e1619e1460c"
      },
      "outputs": [
        {
          "output_type": "stream",
          "name": "stdout",
          "text": [
            "68.0 62.0 75.0 58.0\n"
          ]
        }
      ],
      "source": [
        "# 80%미만 결측치 컬럼, city별 중앙값으로 대체\n",
        "df['city'].unique() # 서울, 부산, 대구, 경기\n",
        "\n",
        "seoul = df[df['city'] == '서울']['f1'].median()\n",
        "busan = df[df['city'] == '부산']['f1'].median()\n",
        "daegu = df[df['city'] == '대구']['f1'].median()\n",
        "geonggi = df[df['city'] == '경기']['f1'].median()\n",
        "\n",
        "print(seoul, busan, daegu, geonggi)"
      ]
    },
    {
      "cell_type": "code",
      "execution_count": 42,
      "id": "e95dbc3c",
      "metadata": {
        "execution": {
          "iopub.execute_input": "2021-11-16T13:13:13.111011Z",
          "iopub.status.busy": "2021-11-16T13:13:13.110205Z",
          "iopub.status.idle": "2021-11-16T13:13:13.113200Z",
          "shell.execute_reply": "2021-11-16T13:13:13.112695Z",
          "shell.execute_reply.started": "2021-11-16T13:12:20.593691Z"
        },
        "papermill": {
          "duration": 0.022691,
          "end_time": "2021-11-16T13:13:13.113387",
          "exception": false,
          "start_time": "2021-11-16T13:13:13.090696",
          "status": "completed"
        },
        "tags": [],
        "colab": {
          "base_uri": "https://localhost:8080/"
        },
        "id": "e95dbc3c",
        "outputId": "92d843d4-d4f8-4dea-d1c9-90e157701779"
      },
      "outputs": [
        {
          "output_type": "execute_result",
          "data": {
            "text/plain": [
              "66.04347826086956"
            ]
          },
          "metadata": {},
          "execution_count": 42
        }
      ],
      "source": [
        "# f1 평균값 결과 출력\n",
        "df['f1'].fillna(df['city'].map({'서울':seoul, '부산':busan, '대구':daegu, '경기':geonggi}))\n",
        "df['f1'].mean()\n"
      ]
    },
    {
      "cell_type": "markdown",
      "id": "575e8e68",
      "metadata": {
        "papermill": {
          "duration": 0.014977,
          "end_time": "2021-11-16T13:13:13.143891",
          "exception": false,
          "start_time": "2021-11-16T13:13:13.128914",
          "status": "completed"
        },
        "tags": [],
        "id": "575e8e68"
      },
      "source": [
        "## Hint\n",
        "- city별 중앙값으로 대체에서는 map함수 활용"
      ]
    },
    {
      "cell_type": "markdown",
      "id": "ce8383e9",
      "metadata": {
        "papermill": {
          "duration": 0.015154,
          "end_time": "2021-11-16T13:13:13.174495",
          "exception": false,
          "start_time": "2021-11-16T13:13:13.159341",
          "status": "completed"
        },
        "tags": [],
        "id": "ce8383e9"
      },
      "source": [
        "## 풀이"
      ]
    },
    {
      "cell_type": "code",
      "execution_count": null,
      "id": "9d09ad36",
      "metadata": {
        "execution": {
          "iopub.execute_input": "2021-11-16T13:13:13.217180Z",
          "iopub.status.busy": "2021-11-16T13:13:13.214228Z",
          "iopub.status.idle": "2021-11-16T13:13:13.264439Z",
          "shell.execute_reply": "2021-11-16T13:13:13.265095Z",
          "shell.execute_reply.started": "2021-11-16T13:12:20.604562Z"
        },
        "papermill": {
          "duration": 0.074195,
          "end_time": "2021-11-16T13:13:13.265304",
          "exception": false,
          "start_time": "2021-11-16T13:13:13.191109",
          "status": "completed"
        },
        "tags": [],
        "id": "9d09ad36",
        "outputId": "d476861e-ff54-48d7-f342-b6b0aebb7927"
      },
      "outputs": [
        {
          "data": {
            "text/html": [
              "<div>\n",
              "<style scoped>\n",
              "    .dataframe tbody tr th:only-of-type {\n",
              "        vertical-align: middle;\n",
              "    }\n",
              "\n",
              "    .dataframe tbody tr th {\n",
              "        vertical-align: top;\n",
              "    }\n",
              "\n",
              "    .dataframe thead th {\n",
              "        text-align: right;\n",
              "    }\n",
              "</style>\n",
              "<table border=\"1\" class=\"dataframe\">\n",
              "  <thead>\n",
              "    <tr style=\"text-align: right;\">\n",
              "      <th></th>\n",
              "      <th>id</th>\n",
              "      <th>age</th>\n",
              "      <th>city</th>\n",
              "      <th>f1</th>\n",
              "      <th>f2</th>\n",
              "      <th>f3</th>\n",
              "      <th>f4</th>\n",
              "      <th>f5</th>\n",
              "    </tr>\n",
              "  </thead>\n",
              "  <tbody>\n",
              "    <tr>\n",
              "      <th>0</th>\n",
              "      <td>id01</td>\n",
              "      <td>2.0</td>\n",
              "      <td>서울</td>\n",
              "      <td>NaN</td>\n",
              "      <td>0</td>\n",
              "      <td>NaN</td>\n",
              "      <td>ENFJ</td>\n",
              "      <td>91.297791</td>\n",
              "    </tr>\n",
              "    <tr>\n",
              "      <th>1</th>\n",
              "      <td>id02</td>\n",
              "      <td>9.0</td>\n",
              "      <td>서울</td>\n",
              "      <td>70.0</td>\n",
              "      <td>1</td>\n",
              "      <td>NaN</td>\n",
              "      <td>ENFJ</td>\n",
              "      <td>60.339826</td>\n",
              "    </tr>\n",
              "    <tr>\n",
              "      <th>2</th>\n",
              "      <td>id03</td>\n",
              "      <td>27.0</td>\n",
              "      <td>서울</td>\n",
              "      <td>61.0</td>\n",
              "      <td>1</td>\n",
              "      <td>NaN</td>\n",
              "      <td>ISTJ</td>\n",
              "      <td>17.252986</td>\n",
              "    </tr>\n",
              "    <tr>\n",
              "      <th>3</th>\n",
              "      <td>id04</td>\n",
              "      <td>75.0</td>\n",
              "      <td>서울</td>\n",
              "      <td>NaN</td>\n",
              "      <td>2</td>\n",
              "      <td>NaN</td>\n",
              "      <td>INFP</td>\n",
              "      <td>52.667078</td>\n",
              "    </tr>\n",
              "    <tr>\n",
              "      <th>4</th>\n",
              "      <td>id05</td>\n",
              "      <td>24.0</td>\n",
              "      <td>서울</td>\n",
              "      <td>85.0</td>\n",
              "      <td>2</td>\n",
              "      <td>NaN</td>\n",
              "      <td>ISFJ</td>\n",
              "      <td>29.269869</td>\n",
              "    </tr>\n",
              "  </tbody>\n",
              "</table>\n",
              "</div>"
            ],
            "text/plain": [
              "     id   age city    f1  f2   f3    f4         f5\n",
              "0  id01   2.0   서울   NaN   0  NaN  ENFJ  91.297791\n",
              "1  id02   9.0   서울  70.0   1  NaN  ENFJ  60.339826\n",
              "2  id03  27.0   서울  61.0   1  NaN  ISTJ  17.252986\n",
              "3  id04  75.0   서울   NaN   2  NaN  INFP  52.667078\n",
              "4  id05  24.0   서울  85.0   2  NaN  ISFJ  29.269869"
            ]
          },
          "execution_count": 6,
          "metadata": {},
          "output_type": "execute_result"
        }
      ],
      "source": [
        "# 라이브러리 및 데이터 불러오기\n",
        "import pandas as pd\n",
        "import numpy as np\n",
        "\n",
        "df = pd.read_csv('../input/bigdatacertificationkr/basic1.csv')\n",
        "df.head()"
      ]
    },
    {
      "cell_type": "code",
      "execution_count": null,
      "id": "09c0ac53",
      "metadata": {
        "_cell_guid": "b1076dfc-b9ad-4769-8c92-a6c4dae69d19",
        "_uuid": "8f2839f25d086af736a60e9eeb907d3b93b6e0e5",
        "execution": {
          "iopub.execute_input": "2021-11-16T13:13:13.303409Z",
          "iopub.status.busy": "2021-11-16T13:13:13.302746Z",
          "iopub.status.idle": "2021-11-16T13:13:13.311002Z",
          "shell.execute_reply": "2021-11-16T13:13:13.311601Z",
          "shell.execute_reply.started": "2021-11-16T13:12:20.646885Z"
        },
        "papermill": {
          "duration": 0.029115,
          "end_time": "2021-11-16T13:13:13.311784",
          "exception": false,
          "start_time": "2021-11-16T13:13:13.282669",
          "status": "completed"
        },
        "tags": [],
        "id": "09c0ac53",
        "outputId": "550e1f0e-ad0a-4bb1-a994-96dc664ee372"
      },
      "outputs": [
        {
          "data": {
            "text/plain": [
              "id       0\n",
              "age      0\n",
              "city     0\n",
              "f1      31\n",
              "f2       0\n",
              "f3      95\n",
              "f4       0\n",
              "f5       0\n",
              "dtype: int64"
            ]
          },
          "execution_count": 7,
          "metadata": {},
          "output_type": "execute_result"
        }
      ],
      "source": [
        "# EDA - 결측값 확인\n",
        "df.isnull().sum()"
      ]
    },
    {
      "cell_type": "code",
      "execution_count": null,
      "id": "da8024cb",
      "metadata": {
        "execution": {
          "iopub.execute_input": "2021-11-16T13:13:13.351715Z",
          "iopub.status.busy": "2021-11-16T13:13:13.351002Z",
          "iopub.status.idle": "2021-11-16T13:13:13.353529Z",
          "shell.execute_reply": "2021-11-16T13:13:13.354055Z",
          "shell.execute_reply.started": "2021-11-16T13:12:20.658708Z"
        },
        "papermill": {
          "duration": 0.025088,
          "end_time": "2021-11-16T13:13:13.354225",
          "exception": false,
          "start_time": "2021-11-16T13:13:13.329137",
          "status": "completed"
        },
        "tags": [],
        "id": "da8024cb",
        "outputId": "a1a6d9c6-cbb4-4841-8959-2fc49e736974"
      },
      "outputs": [
        {
          "data": {
            "text/plain": [
              "(100, 8)"
            ]
          },
          "execution_count": 8,
          "metadata": {},
          "output_type": "execute_result"
        }
      ],
      "source": [
        "# 데이터 shape\n",
        "df.shape"
      ]
    },
    {
      "cell_type": "code",
      "execution_count": null,
      "id": "6f8c3425",
      "metadata": {
        "execution": {
          "iopub.execute_input": "2021-11-16T13:13:13.396459Z",
          "iopub.status.busy": "2021-11-16T13:13:13.395534Z",
          "iopub.status.idle": "2021-11-16T13:13:13.404043Z",
          "shell.execute_reply": "2021-11-16T13:13:13.404584Z",
          "shell.execute_reply.started": "2021-11-16T13:12:20.666565Z"
        },
        "papermill": {
          "duration": 0.029869,
          "end_time": "2021-11-16T13:13:13.404779",
          "exception": false,
          "start_time": "2021-11-16T13:13:13.374910",
          "status": "completed"
        },
        "tags": [],
        "id": "6f8c3425",
        "outputId": "a3d3ce19-01c1-44bb-8fe9-e31b1a00bad1"
      },
      "outputs": [
        {
          "data": {
            "text/plain": [
              "id      0.00\n",
              "age     0.00\n",
              "city    0.00\n",
              "f1      0.31\n",
              "f2      0.00\n",
              "f3      0.95\n",
              "f4      0.00\n",
              "f5      0.00\n",
              "dtype: float64"
            ]
          },
          "execution_count": 9,
          "metadata": {},
          "output_type": "execute_result"
        }
      ],
      "source": [
        "# EDA - 결측비율 확인\n",
        "df.isnull().sum()/df.shape[0]"
      ]
    },
    {
      "cell_type": "code",
      "execution_count": null,
      "id": "c060e30f",
      "metadata": {
        "execution": {
          "iopub.execute_input": "2021-11-16T13:13:13.445474Z",
          "iopub.status.busy": "2021-11-16T13:13:13.444821Z",
          "iopub.status.idle": "2021-11-16T13:13:13.457657Z",
          "shell.execute_reply": "2021-11-16T13:13:13.458455Z",
          "shell.execute_reply.started": "2021-11-16T13:12:20.684652Z"
        },
        "papermill": {
          "duration": 0.034824,
          "end_time": "2021-11-16T13:13:13.458640",
          "exception": false,
          "start_time": "2021-11-16T13:13:13.423816",
          "status": "completed"
        },
        "tags": [],
        "id": "c060e30f",
        "outputId": "5591224a-1067-431d-bc39-23cae29988eb"
      },
      "outputs": [
        {
          "name": "stdout",
          "output_type": "stream",
          "text": [
            "삭제 전: (100, 8)\n",
            "삭제 후: (100, 7)\n"
          ]
        }
      ],
      "source": [
        "# f3 컬럼 삭제\n",
        "print(\"삭제 전:\", df.shape)\n",
        "df = df.drop(['f3'], axis=1)\n",
        "print(\"삭제 후:\", df.shape)\n",
        "\n",
        "# 결측치가 있는 컬럼을 제거하는 2가지 방법\n",
        "# df.drop(['B', 'C'], axis=1)\n",
        "# df.drop(columns=['B', 'C'])"
      ]
    },
    {
      "cell_type": "code",
      "execution_count": null,
      "id": "9bc6c33b",
      "metadata": {
        "execution": {
          "iopub.execute_input": "2021-11-16T13:13:13.507532Z",
          "iopub.status.busy": "2021-11-16T13:13:13.506545Z",
          "iopub.status.idle": "2021-11-16T13:13:13.510979Z",
          "shell.execute_reply": "2021-11-16T13:13:13.511530Z",
          "shell.execute_reply.started": "2021-11-16T13:12:46.466467Z"
        },
        "papermill": {
          "duration": 0.034374,
          "end_time": "2021-11-16T13:13:13.511715",
          "exception": false,
          "start_time": "2021-11-16T13:13:13.477341",
          "status": "completed"
        },
        "tags": [],
        "id": "9bc6c33b",
        "outputId": "2891026d-9115-4cb7-b3d1-1999bef93ef3"
      },
      "outputs": [
        {
          "data": {
            "text/plain": [
              "array(['서울', '부산', '대구', '경기'], dtype=object)"
            ]
          },
          "execution_count": 11,
          "metadata": {},
          "output_type": "execute_result"
        }
      ],
      "source": [
        "# 도시 확인\n",
        "df['city'].unique()"
      ]
    },
    {
      "cell_type": "code",
      "execution_count": null,
      "id": "49136d80",
      "metadata": {
        "execution": {
          "iopub.execute_input": "2021-11-16T13:13:13.553890Z",
          "iopub.status.busy": "2021-11-16T13:13:13.553097Z",
          "iopub.status.idle": "2021-11-16T13:13:13.564622Z",
          "shell.execute_reply": "2021-11-16T13:13:13.565123Z",
          "shell.execute_reply.started": "2021-11-16T13:12:20.715384Z"
        },
        "papermill": {
          "duration": 0.034173,
          "end_time": "2021-11-16T13:13:13.565317",
          "exception": false,
          "start_time": "2021-11-16T13:13:13.531144",
          "status": "completed"
        },
        "tags": [],
        "id": "49136d80",
        "outputId": "ef16d390-4469-41ee-cc90-beca69749114"
      },
      "outputs": [
        {
          "data": {
            "text/plain": [
              "(68.0, 58.0, 62.0, 75.0)"
            ]
          },
          "execution_count": 12,
          "metadata": {},
          "output_type": "execute_result"
        }
      ],
      "source": [
        "# 도시별 중앙값 계산\n",
        "s=df[df['city']=='서울']['f1'].median()\n",
        "k=df[df['city']=='경기']['f1'].median()\n",
        "b=df[df['city']=='부산']['f1'].median()\n",
        "d=df[df['city']=='대구']['f1'].median()\n",
        "s, k, b, d\n",
        "\n",
        "#방법2\n",
        "# k, d, b, s = df.groupby('city')['f1'].median()"
      ]
    },
    {
      "cell_type": "code",
      "execution_count": null,
      "id": "9c6c24ea",
      "metadata": {
        "execution": {
          "iopub.execute_input": "2021-11-16T13:13:13.605678Z",
          "iopub.status.busy": "2021-11-16T13:13:13.604999Z",
          "iopub.status.idle": "2021-11-16T13:13:13.619937Z",
          "shell.execute_reply": "2021-11-16T13:13:13.620439Z",
          "shell.execute_reply.started": "2021-11-16T13:12:20.731771Z"
        },
        "papermill": {
          "duration": 0.037229,
          "end_time": "2021-11-16T13:13:13.620629",
          "exception": false,
          "start_time": "2021-11-16T13:13:13.583400",
          "status": "completed"
        },
        "tags": [],
        "id": "9c6c24ea",
        "outputId": "7189e558-f931-4c7d-b091-10384702ae32"
      },
      "outputs": [
        {
          "data": {
            "text/html": [
              "<div>\n",
              "<style scoped>\n",
              "    .dataframe tbody tr th:only-of-type {\n",
              "        vertical-align: middle;\n",
              "    }\n",
              "\n",
              "    .dataframe tbody tr th {\n",
              "        vertical-align: top;\n",
              "    }\n",
              "\n",
              "    .dataframe thead th {\n",
              "        text-align: right;\n",
              "    }\n",
              "</style>\n",
              "<table border=\"1\" class=\"dataframe\">\n",
              "  <thead>\n",
              "    <tr style=\"text-align: right;\">\n",
              "      <th></th>\n",
              "      <th>id</th>\n",
              "      <th>age</th>\n",
              "      <th>city</th>\n",
              "      <th>f1</th>\n",
              "      <th>f2</th>\n",
              "      <th>f4</th>\n",
              "      <th>f5</th>\n",
              "    </tr>\n",
              "  </thead>\n",
              "  <tbody>\n",
              "    <tr>\n",
              "      <th>18</th>\n",
              "      <td>id19</td>\n",
              "      <td>53.0</td>\n",
              "      <td>서울</td>\n",
              "      <td>NaN</td>\n",
              "      <td>0</td>\n",
              "      <td>ISFP</td>\n",
              "      <td>83.685380</td>\n",
              "    </tr>\n",
              "    <tr>\n",
              "      <th>19</th>\n",
              "      <td>id20</td>\n",
              "      <td>11.0</td>\n",
              "      <td>서울</td>\n",
              "      <td>51.0</td>\n",
              "      <td>1</td>\n",
              "      <td>INTJ</td>\n",
              "      <td>91.297791</td>\n",
              "    </tr>\n",
              "    <tr>\n",
              "      <th>20</th>\n",
              "      <td>id21</td>\n",
              "      <td>90.0</td>\n",
              "      <td>부산</td>\n",
              "      <td>NaN</td>\n",
              "      <td>1</td>\n",
              "      <td>ISFP</td>\n",
              "      <td>29.269869</td>\n",
              "    </tr>\n",
              "  </tbody>\n",
              "</table>\n",
              "</div>"
            ],
            "text/plain": [
              "      id   age city    f1  f2    f4         f5\n",
              "18  id19  53.0   서울   NaN   0  ISFP  83.685380\n",
              "19  id20  11.0   서울  51.0   1  INTJ  91.297791\n",
              "20  id21  90.0   부산   NaN   1  ISFP  29.269869"
            ]
          },
          "execution_count": 13,
          "metadata": {},
          "output_type": "execute_result"
        }
      ],
      "source": [
        "# 대체 전 데이터 샘플 출력\n",
        "df[18:21]"
      ]
    },
    {
      "cell_type": "code",
      "execution_count": null,
      "id": "acdf088b",
      "metadata": {
        "execution": {
          "iopub.execute_input": "2021-11-16T13:13:13.670088Z",
          "iopub.status.busy": "2021-11-16T13:13:13.669390Z",
          "iopub.status.idle": "2021-11-16T13:13:13.673852Z",
          "shell.execute_reply": "2021-11-16T13:13:13.673299Z",
          "shell.execute_reply.started": "2021-11-16T13:12:20.751783Z"
        },
        "papermill": {
          "duration": 0.033409,
          "end_time": "2021-11-16T13:13:13.673999",
          "exception": false,
          "start_time": "2021-11-16T13:13:13.640590",
          "status": "completed"
        },
        "tags": [],
        "id": "acdf088b"
      },
      "outputs": [],
      "source": [
        "# f1결측치 city별 중앙값으로 대체\n",
        "df['f1'] = df['f1'].fillna(df['city'].map({'서울':s,'경기':k,'부산':b,'대구':d}))\n",
        "\n",
        "# 만약 그냥 f1 중앙값으로 대체 한다면\n",
        "# df['f1'] = df['f1'].fillna(df['f1'].median())"
      ]
    },
    {
      "cell_type": "code",
      "execution_count": null,
      "id": "4729133e",
      "metadata": {
        "execution": {
          "iopub.execute_input": "2021-11-16T13:13:13.723613Z",
          "iopub.status.busy": "2021-11-16T13:13:13.722541Z",
          "iopub.status.idle": "2021-11-16T13:13:13.735442Z",
          "shell.execute_reply": "2021-11-16T13:13:13.734725Z",
          "shell.execute_reply.started": "2021-11-16T13:12:20.764397Z"
        },
        "papermill": {
          "duration": 0.039972,
          "end_time": "2021-11-16T13:13:13.735595",
          "exception": false,
          "start_time": "2021-11-16T13:13:13.695623",
          "status": "completed"
        },
        "tags": [],
        "id": "4729133e",
        "outputId": "9000dbda-e56b-4c12-a36a-1b69b0049ba6"
      },
      "outputs": [
        {
          "data": {
            "text/html": [
              "<div>\n",
              "<style scoped>\n",
              "    .dataframe tbody tr th:only-of-type {\n",
              "        vertical-align: middle;\n",
              "    }\n",
              "\n",
              "    .dataframe tbody tr th {\n",
              "        vertical-align: top;\n",
              "    }\n",
              "\n",
              "    .dataframe thead th {\n",
              "        text-align: right;\n",
              "    }\n",
              "</style>\n",
              "<table border=\"1\" class=\"dataframe\">\n",
              "  <thead>\n",
              "    <tr style=\"text-align: right;\">\n",
              "      <th></th>\n",
              "      <th>id</th>\n",
              "      <th>age</th>\n",
              "      <th>city</th>\n",
              "      <th>f1</th>\n",
              "      <th>f2</th>\n",
              "      <th>f4</th>\n",
              "      <th>f5</th>\n",
              "    </tr>\n",
              "  </thead>\n",
              "  <tbody>\n",
              "    <tr>\n",
              "      <th>18</th>\n",
              "      <td>id19</td>\n",
              "      <td>53.0</td>\n",
              "      <td>서울</td>\n",
              "      <td>68.0</td>\n",
              "      <td>0</td>\n",
              "      <td>ISFP</td>\n",
              "      <td>83.685380</td>\n",
              "    </tr>\n",
              "    <tr>\n",
              "      <th>19</th>\n",
              "      <td>id20</td>\n",
              "      <td>11.0</td>\n",
              "      <td>서울</td>\n",
              "      <td>51.0</td>\n",
              "      <td>1</td>\n",
              "      <td>INTJ</td>\n",
              "      <td>91.297791</td>\n",
              "    </tr>\n",
              "    <tr>\n",
              "      <th>20</th>\n",
              "      <td>id21</td>\n",
              "      <td>90.0</td>\n",
              "      <td>부산</td>\n",
              "      <td>62.0</td>\n",
              "      <td>1</td>\n",
              "      <td>ISFP</td>\n",
              "      <td>29.269869</td>\n",
              "    </tr>\n",
              "  </tbody>\n",
              "</table>\n",
              "</div>"
            ],
            "text/plain": [
              "      id   age city    f1  f2    f4         f5\n",
              "18  id19  53.0   서울  68.0   0  ISFP  83.685380\n",
              "19  id20  11.0   서울  51.0   1  INTJ  91.297791\n",
              "20  id21  90.0   부산  62.0   1  ISFP  29.269869"
            ]
          },
          "execution_count": 15,
          "metadata": {},
          "output_type": "execute_result"
        }
      ],
      "source": [
        "# 대체 후 데이터 샘플 출력\n",
        "df[18:21]"
      ]
    },
    {
      "cell_type": "code",
      "execution_count": null,
      "id": "f4ec5f8c",
      "metadata": {
        "execution": {
          "iopub.execute_input": "2021-11-16T13:13:13.784379Z",
          "iopub.status.busy": "2021-11-16T13:13:13.783530Z",
          "iopub.status.idle": "2021-11-16T13:13:13.787434Z",
          "shell.execute_reply": "2021-11-16T13:13:13.788434Z",
          "shell.execute_reply.started": "2021-11-16T13:12:20.778996Z"
        },
        "papermill": {
          "duration": 0.032563,
          "end_time": "2021-11-16T13:13:13.788658",
          "exception": false,
          "start_time": "2021-11-16T13:13:13.756095",
          "status": "completed"
        },
        "tags": [],
        "id": "f4ec5f8c",
        "outputId": "5ebbc605-ce65-4efc-f67f-34d0cd0337b5"
      },
      "outputs": [
        {
          "name": "stdout",
          "output_type": "stream",
          "text": [
            "65.52\n"
          ]
        }
      ],
      "source": [
        "#결과 출력\n",
        "print(df['f1'].mean())"
      ]
    }
  ],
  "metadata": {
    "kernelspec": {
      "display_name": "Python 3",
      "language": "python",
      "name": "python3"
    },
    "language_info": {
      "codemirror_mode": {
        "name": "ipython",
        "version": 3
      },
      "file_extension": ".py",
      "mimetype": "text/x-python",
      "name": "python",
      "nbconvert_exporter": "python",
      "pygments_lexer": "ipython3",
      "version": "3.7.10"
    },
    "papermill": {
      "default_parameters": {},
      "duration": 11.958559,
      "end_time": "2021-11-16T13:13:15.228002",
      "environment_variables": {},
      "exception": null,
      "input_path": "__notebook__.ipynb",
      "output_path": "__notebook__.ipynb",
      "parameters": {},
      "start_time": "2021-11-16T13:13:03.269443",
      "version": "2.3.3"
    },
    "colab": {
      "provenance": []
    }
  },
  "nbformat": 4,
  "nbformat_minor": 5
}