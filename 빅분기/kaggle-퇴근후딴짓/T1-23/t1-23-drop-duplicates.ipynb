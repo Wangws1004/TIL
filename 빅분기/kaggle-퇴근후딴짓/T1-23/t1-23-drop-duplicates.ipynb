{
 "cells": [
  {
   "cell_type": "markdown",
   "id": "747f94bd",
   "metadata": {
    "papermill": {
     "duration": 0.00856,
     "end_time": "2023-11-15T15:05:08.520254",
     "exception": false,
     "start_time": "2023-11-15T15:05:08.511694",
     "status": "completed"
    },
    "tags": []
   },
   "source": [
    "## f1의 결측치를 채운 후 age 컬럼의 중복 제거 전과 후의 'f1' 중앙값 차이를 구하시오 \n",
    "### - 결측치는 f1의 데이터 중 10번째로 큰 값으로 채움\n",
    "### - 중복 데이터 발생시 뒤에 나오는 데이터를 삭제함\n",
    "### - 최종 결과값은 절대값으로 출력\n",
    "\n",
    "- 데이터셋 : basic1.csv\n",
    "- 오른쪽 상단 copy&edit 클릭 -> 예상문제 풀이 시작"
   ]
  },
  {
   "cell_type": "code",
   "execution_count": 1,
   "id": "d60938f4",
   "metadata": {
    "_cell_guid": "b1076dfc-b9ad-4769-8c92-a6c4dae69d19",
    "_uuid": "8f2839f25d086af736a60e9eeb907d3b93b6e0e5",
    "execution": {
     "iopub.execute_input": "2023-11-15T15:05:08.541745Z",
     "iopub.status.busy": "2023-11-15T15:05:08.539853Z",
     "iopub.status.idle": "2023-11-15T15:05:08.551784Z",
     "shell.execute_reply": "2023-11-15T15:05:08.552435Z",
     "shell.execute_reply.started": "2021-11-26T00:50:53.161595Z"
    },
    "papermill": {
     "duration": 0.024946,
     "end_time": "2023-11-15T15:05:08.552771",
     "exception": false,
     "start_time": "2023-11-15T15:05:08.527825",
     "status": "completed"
    },
    "tags": []
   },
   "outputs": [],
   "source": [
    "import pandas as pd"
   ]
  },
  {
   "cell_type": "code",
   "execution_count": 2,
   "id": "0660c921",
   "metadata": {
    "execution": {
     "iopub.execute_input": "2023-11-15T15:05:08.572080Z",
     "iopub.status.busy": "2023-11-15T15:05:08.569909Z",
     "iopub.status.idle": "2023-11-15T15:05:08.612173Z",
     "shell.execute_reply": "2023-11-15T15:05:08.612715Z",
     "shell.execute_reply.started": "2021-11-26T00:50:53.492776Z"
    },
    "papermill": {
     "duration": 0.052855,
     "end_time": "2023-11-15T15:05:08.612894",
     "exception": false,
     "start_time": "2023-11-15T15:05:08.560039",
     "status": "completed"
    },
    "tags": []
   },
   "outputs": [
    {
     "data": {
      "text/html": [
       "<div>\n",
       "<style scoped>\n",
       "    .dataframe tbody tr th:only-of-type {\n",
       "        vertical-align: middle;\n",
       "    }\n",
       "\n",
       "    .dataframe tbody tr th {\n",
       "        vertical-align: top;\n",
       "    }\n",
       "\n",
       "    .dataframe thead th {\n",
       "        text-align: right;\n",
       "    }\n",
       "</style>\n",
       "<table border=\"1\" class=\"dataframe\">\n",
       "  <thead>\n",
       "    <tr style=\"text-align: right;\">\n",
       "      <th></th>\n",
       "      <th>id</th>\n",
       "      <th>age</th>\n",
       "      <th>city</th>\n",
       "      <th>f1</th>\n",
       "      <th>f2</th>\n",
       "      <th>f3</th>\n",
       "      <th>f4</th>\n",
       "      <th>f5</th>\n",
       "    </tr>\n",
       "  </thead>\n",
       "  <tbody>\n",
       "    <tr>\n",
       "      <th>95</th>\n",
       "      <td>id96</td>\n",
       "      <td>92.0</td>\n",
       "      <td>경기</td>\n",
       "      <td>53.0</td>\n",
       "      <td>1</td>\n",
       "      <td>NaN</td>\n",
       "      <td>ENTJ</td>\n",
       "      <td>52.667078</td>\n",
       "    </tr>\n",
       "    <tr>\n",
       "      <th>96</th>\n",
       "      <td>id97</td>\n",
       "      <td>100.0</td>\n",
       "      <td>경기</td>\n",
       "      <td>NaN</td>\n",
       "      <td>0</td>\n",
       "      <td>NaN</td>\n",
       "      <td>INFP</td>\n",
       "      <td>67.886373</td>\n",
       "    </tr>\n",
       "    <tr>\n",
       "      <th>97</th>\n",
       "      <td>id98</td>\n",
       "      <td>39.0</td>\n",
       "      <td>경기</td>\n",
       "      <td>58.0</td>\n",
       "      <td>2</td>\n",
       "      <td>NaN</td>\n",
       "      <td>INFP</td>\n",
       "      <td>98.429899</td>\n",
       "    </tr>\n",
       "    <tr>\n",
       "      <th>98</th>\n",
       "      <td>id99</td>\n",
       "      <td>1.0</td>\n",
       "      <td>경기</td>\n",
       "      <td>47.0</td>\n",
       "      <td>0</td>\n",
       "      <td>NaN</td>\n",
       "      <td>ESFJ</td>\n",
       "      <td>97.381034</td>\n",
       "    </tr>\n",
       "    <tr>\n",
       "      <th>99</th>\n",
       "      <td>id100</td>\n",
       "      <td>47.0</td>\n",
       "      <td>경기</td>\n",
       "      <td>53.0</td>\n",
       "      <td>0</td>\n",
       "      <td>vip</td>\n",
       "      <td>ESFP</td>\n",
       "      <td>33.308999</td>\n",
       "    </tr>\n",
       "  </tbody>\n",
       "</table>\n",
       "</div>"
      ],
      "text/plain": [
       "       id    age city    f1  f2   f3    f4         f5\n",
       "95   id96   92.0   경기  53.0   1  NaN  ENTJ  52.667078\n",
       "96   id97  100.0   경기   NaN   0  NaN  INFP  67.886373\n",
       "97   id98   39.0   경기  58.0   2  NaN  INFP  98.429899\n",
       "98   id99    1.0   경기  47.0   0  NaN  ESFJ  97.381034\n",
       "99  id100   47.0   경기  53.0   0  vip  ESFP  33.308999"
      ]
     },
     "execution_count": 2,
     "metadata": {},
     "output_type": "execute_result"
    }
   ],
   "source": [
    "df = pd.read_csv('../input/bigdatacertificationkr/basic1.csv')\n",
    "df.tail()"
   ]
  },
  {
   "cell_type": "code",
   "execution_count": 3,
   "id": "b81b60c8",
   "metadata": {
    "execution": {
     "iopub.execute_input": "2023-11-15T15:05:08.634455Z",
     "iopub.status.busy": "2023-11-15T15:05:08.633698Z",
     "iopub.status.idle": "2023-11-15T15:05:08.643461Z",
     "shell.execute_reply": "2023-11-15T15:05:08.642822Z",
     "shell.execute_reply.started": "2021-11-26T00:50:55.523195Z"
    },
    "papermill": {
     "duration": 0.022547,
     "end_time": "2023-11-15T15:05:08.643618",
     "exception": false,
     "start_time": "2023-11-15T15:05:08.621071",
     "status": "completed"
    },
    "tags": []
   },
   "outputs": [
    {
     "name": "stdout",
     "output_type": "stream",
     "text": [
      "88.0\n"
     ]
    }
   ],
   "source": [
    "# f1데이터에서 10번째 큰 값으로 결측치를 채움\n",
    "top10 = df['f1'].sort_values(ascending=False).iloc[9]\n",
    "print(top10)\n",
    "df['f1'] = df['f1'].fillna(top10)"
   ]
  },
  {
   "cell_type": "code",
   "execution_count": 4,
   "id": "160c8664",
   "metadata": {
    "execution": {
     "iopub.execute_input": "2023-11-15T15:05:08.667054Z",
     "iopub.status.busy": "2023-11-15T15:05:08.666125Z",
     "iopub.status.idle": "2023-11-15T15:05:08.669995Z",
     "shell.execute_reply": "2023-11-15T15:05:08.669426Z",
     "shell.execute_reply.started": "2021-11-26T00:51:07.645152Z"
    },
    "papermill": {
     "duration": 0.01803,
     "end_time": "2023-11-15T15:05:08.670142",
     "exception": false,
     "start_time": "2023-11-15T15:05:08.652112",
     "status": "completed"
    },
    "tags": []
   },
   "outputs": [
    {
     "data": {
      "text/plain": [
       "77.5"
      ]
     },
     "execution_count": 4,
     "metadata": {},
     "output_type": "execute_result"
    }
   ],
   "source": [
    "# 중복 제거 전 중앙 값\n",
    "result1 = df['f1'].median()\n",
    "result1"
   ]
  },
  {
   "cell_type": "code",
   "execution_count": 5,
   "id": "367b41e3",
   "metadata": {
    "execution": {
     "iopub.execute_input": "2023-11-15T15:05:08.700187Z",
     "iopub.status.busy": "2023-11-15T15:05:08.699342Z",
     "iopub.status.idle": "2023-11-15T15:05:08.702604Z",
     "shell.execute_reply": "2023-11-15T15:05:08.703130Z",
     "shell.execute_reply.started": "2021-11-26T00:51:08.205422Z"
    },
    "papermill": {
     "duration": 0.024799,
     "end_time": "2023-11-15T15:05:08.703314",
     "exception": false,
     "start_time": "2023-11-15T15:05:08.678515",
     "status": "completed"
    },
    "tags": []
   },
   "outputs": [
    {
     "name": "stdout",
     "output_type": "stream",
     "text": [
      "(100, 8)\n",
      "(71, 8)\n"
     ]
    }
   ],
   "source": [
    "# 중복 제거\n",
    "print(df.shape)\n",
    "df = df.drop_duplicates(subset=['age'])\n",
    "print(df.shape)"
   ]
  },
  {
   "cell_type": "code",
   "execution_count": 6,
   "id": "c2eb7783",
   "metadata": {
    "execution": {
     "iopub.execute_input": "2023-11-15T15:05:08.724977Z",
     "iopub.status.busy": "2023-11-15T15:05:08.723978Z",
     "iopub.status.idle": "2023-11-15T15:05:08.730039Z",
     "shell.execute_reply": "2023-11-15T15:05:08.730596Z",
     "shell.execute_reply.started": "2021-11-26T00:51:11.295997Z"
    },
    "papermill": {
     "duration": 0.01867,
     "end_time": "2023-11-15T15:05:08.730782",
     "exception": false,
     "start_time": "2023-11-15T15:05:08.712112",
     "status": "completed"
    },
    "tags": []
   },
   "outputs": [
    {
     "data": {
      "text/plain": [
       "77.0"
      ]
     },
     "execution_count": 6,
     "metadata": {},
     "output_type": "execute_result"
    }
   ],
   "source": [
    "# 중복 제거 후 중앙 값\n",
    "result2 = df['f1'].median()\n",
    "result2"
   ]
  },
  {
   "cell_type": "code",
   "execution_count": 7,
   "id": "bcfe4baa",
   "metadata": {
    "execution": {
     "iopub.execute_input": "2023-11-15T15:05:08.753487Z",
     "iopub.status.busy": "2023-11-15T15:05:08.752389Z",
     "iopub.status.idle": "2023-11-15T15:05:08.757710Z",
     "shell.execute_reply": "2023-11-15T15:05:08.758205Z",
     "shell.execute_reply.started": "2021-11-26T00:51:11.696824Z"
    },
    "papermill": {
     "duration": 0.018382,
     "end_time": "2023-11-15T15:05:08.758397",
     "exception": false,
     "start_time": "2023-11-15T15:05:08.740015",
     "status": "completed"
    },
    "tags": []
   },
   "outputs": [
    {
     "name": "stdout",
     "output_type": "stream",
     "text": [
      "0.5\n"
     ]
    }
   ],
   "source": [
    "# 차이 (절대값)\n",
    "print(abs(result1 - result2))"
   ]
  }
 ],
 "metadata": {
  "kaggle": {
   "accelerator": "none",
   "dataSources": [
    {
     "datasetId": 1633303,
     "sourceId": 2867756,
     "sourceType": "datasetVersion"
    }
   ],
   "dockerImageVersionId": 30145,
   "isGpuEnabled": false,
   "isInternetEnabled": true,
   "language": "python",
   "sourceType": "notebook"
  },
  "kernelspec": {
   "display_name": "Python 3",
   "language": "python",
   "name": "python3"
  },
  "language_info": {
   "codemirror_mode": {
    "name": "ipython",
    "version": 3
   },
   "file_extension": ".py",
   "mimetype": "text/x-python",
   "name": "python",
   "nbconvert_exporter": "python",
   "pygments_lexer": "ipython3",
   "version": "3.7.10"
  },
  "papermill": {
   "default_parameters": {},
   "duration": 9.679456,
   "end_time": "2023-11-15T15:05:09.376855",
   "environment_variables": {},
   "exception": null,
   "input_path": "__notebook__.ipynb",
   "output_path": "__notebook__.ipynb",
   "parameters": {},
   "start_time": "2023-11-15T15:04:59.697399",
   "version": "2.3.3"
  }
 },
 "nbformat": 4,
 "nbformat_minor": 5
}
