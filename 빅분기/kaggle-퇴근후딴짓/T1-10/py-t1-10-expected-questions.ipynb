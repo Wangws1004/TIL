{
 "cells": [
  {
   "cell_type": "markdown",
   "id": "26b5e746",
   "metadata": {
    "papermill": {
     "duration": 0.018962,
     "end_time": "2022-06-21T03:36:14.179026",
     "exception": false,
     "start_time": "2022-06-21T03:36:14.160064",
     "status": "completed"
    },
    "tags": []
   },
   "source": [
    "# 수치형 변수 변환하기\n",
    "\n",
    "\n",
    "### 주어진 데이터에서 20세 이상인 데이터를 추출하고 'f1'컬럼을 결측치를 최빈값으로 채운 후, f1 컬럼의 여-존슨과 박스콕스 변환 값을 구하고, 두 값의 차이를 절대값으로 구한다음 모두 더해 소수점 둘째 자리까지 출력(반올림)하시오\n",
    "- 데이터셋 : basic1.csv\n",
    "- 오른쪽 상단 copy&edit 클릭 -> 예상문제 풀이 시작"
   ]
  },
  {
   "cell_type": "markdown",
   "id": "1543b2f2",
   "metadata": {
    "papermill": {
     "duration": 0.015045,
     "end_time": "2022-06-21T03:36:14.209793",
     "exception": false,
     "start_time": "2022-06-21T03:36:14.194748",
     "status": "completed"
    },
    "tags": []
   },
   "source": [
    "### 박스-콕스\n",
    "![박스-콕스](https://wikimedia.org/api/rest_v1/media/math/render/svg/b565ae8f1cce1e4035e2a36213b8c9ce34b5029d)\n",
    "\n",
    "### 여-존슨\n",
    "![여-존슨](https://wikimedia.org/api/rest_v1/media/math/render/svg/2a99e24c81226f3d0547c471281197ea265553c5)"
   ]
  },
  {
   "cell_type": "code",
   "execution_count": 1,
   "id": "7518a5e0",
   "metadata": {
    "execution": {
     "iopub.execute_input": "2022-06-21T03:36:14.245182Z",
     "iopub.status.busy": "2022-06-21T03:36:14.244011Z",
     "iopub.status.idle": "2022-06-21T03:36:14.247377Z",
     "shell.execute_reply": "2022-06-21T03:36:14.247990Z",
     "shell.execute_reply.started": "2021-10-21T00:17:29.682561Z"
    },
    "papermill": {
     "duration": 0.023077,
     "end_time": "2022-06-21T03:36:14.248286",
     "exception": false,
     "start_time": "2022-06-21T03:36:14.225209",
     "status": "completed"
    },
    "tags": []
   },
   "outputs": [],
   "source": [
    "# 라이브러리 및 데이터 불러오기"
   ]
  },
  {
   "cell_type": "code",
   "execution_count": 2,
   "id": "174bcb28",
   "metadata": {
    "execution": {
     "iopub.execute_input": "2022-06-21T03:36:14.282016Z",
     "iopub.status.busy": "2022-06-21T03:36:14.281378Z",
     "iopub.status.idle": "2022-06-21T03:36:14.284181Z",
     "shell.execute_reply": "2022-06-21T03:36:14.284831Z",
     "shell.execute_reply.started": "2021-10-21T00:17:29.689565Z"
    },
    "papermill": {
     "duration": 0.021355,
     "end_time": "2022-06-21T03:36:14.284993",
     "exception": false,
     "start_time": "2022-06-21T03:36:14.263638",
     "status": "completed"
    },
    "tags": []
   },
   "outputs": [],
   "source": [
    "# 조건에 맞는 데이터"
   ]
  },
  {
   "cell_type": "code",
   "execution_count": 3,
   "id": "039ebfae",
   "metadata": {
    "execution": {
     "iopub.execute_input": "2022-06-21T03:36:14.320656Z",
     "iopub.status.busy": "2022-06-21T03:36:14.319851Z",
     "iopub.status.idle": "2022-06-21T03:36:14.322486Z",
     "shell.execute_reply": "2022-06-21T03:36:14.323033Z",
     "shell.execute_reply.started": "2021-10-21T00:17:29.701755Z"
    },
    "papermill": {
     "duration": 0.022785,
     "end_time": "2022-06-21T03:36:14.323204",
     "exception": false,
     "start_time": "2022-06-21T03:36:14.300419",
     "status": "completed"
    },
    "tags": []
   },
   "outputs": [],
   "source": [
    "# 최빈값으로 'f1' 컬럼 결측치 대체"
   ]
  },
  {
   "cell_type": "code",
   "execution_count": 4,
   "id": "34f7a83b",
   "metadata": {
    "execution": {
     "iopub.execute_input": "2022-06-21T03:36:14.358980Z",
     "iopub.status.busy": "2022-06-21T03:36:14.358313Z",
     "iopub.status.idle": "2022-06-21T03:36:14.359742Z",
     "shell.execute_reply": "2022-06-21T03:36:14.360338Z",
     "shell.execute_reply.started": "2021-10-21T00:17:29.711963Z"
    },
    "papermill": {
     "duration": 0.021514,
     "end_time": "2022-06-21T03:36:14.360496",
     "exception": false,
     "start_time": "2022-06-21T03:36:14.338982",
     "status": "completed"
    },
    "tags": []
   },
   "outputs": [],
   "source": [
    "# 'f1'데이터 여-존슨 yeo-johnson 값 구하기"
   ]
  },
  {
   "cell_type": "code",
   "execution_count": 5,
   "id": "a3ea58e5",
   "metadata": {
    "execution": {
     "iopub.execute_input": "2022-06-21T03:36:14.395828Z",
     "iopub.status.busy": "2022-06-21T03:36:14.395128Z",
     "iopub.status.idle": "2022-06-21T03:36:14.396497Z",
     "shell.execute_reply": "2022-06-21T03:36:14.397098Z",
     "shell.execute_reply.started": "2021-10-21T00:17:29.722753Z"
    },
    "papermill": {
     "duration": 0.021355,
     "end_time": "2022-06-21T03:36:14.397276",
     "exception": false,
     "start_time": "2022-06-21T03:36:14.375921",
     "status": "completed"
    },
    "tags": []
   },
   "outputs": [],
   "source": [
    "# 'f1'데이터 박스-콕스 box-cox 값 구하기"
   ]
  },
  {
   "cell_type": "code",
   "execution_count": 6,
   "id": "679259d5",
   "metadata": {
    "execution": {
     "iopub.execute_input": "2022-06-21T03:36:14.431392Z",
     "iopub.status.busy": "2022-06-21T03:36:14.430748Z",
     "iopub.status.idle": "2022-06-21T03:36:14.433336Z",
     "shell.execute_reply": "2022-06-21T03:36:14.433839Z",
     "shell.execute_reply.started": "2021-10-21T00:17:29.733307Z"
    },
    "papermill": {
     "duration": 0.021236,
     "end_time": "2022-06-21T03:36:14.433997",
     "exception": false,
     "start_time": "2022-06-21T03:36:14.412761",
     "status": "completed"
    },
    "tags": []
   },
   "outputs": [],
   "source": [
    "# 두 값의 차이를 절대값으로 구한다음 모두 더해 소수점 둘째 자리까지 출력(반올림)"
   ]
  },
  {
   "cell_type": "markdown",
   "id": "a8a065ed",
   "metadata": {
    "papermill": {
     "duration": 0.015214,
     "end_time": "2022-06-21T03:36:14.464885",
     "exception": false,
     "start_time": "2022-06-21T03:36:14.449671",
     "status": "completed"
    },
    "tags": []
   },
   "source": [
    "## Hint\n",
    "- https://scikit-learn.org/stable/modules/generated/sklearn.preprocessing.power_transform.html"
   ]
  },
  {
   "cell_type": "code",
   "execution_count": 7,
   "id": "4567fda9",
   "metadata": {
    "execution": {
     "iopub.execute_input": "2022-06-21T03:36:14.499356Z",
     "iopub.status.busy": "2022-06-21T03:36:14.498668Z",
     "iopub.status.idle": "2022-06-21T03:36:15.563986Z",
     "shell.execute_reply": "2022-06-21T03:36:15.563459Z",
     "shell.execute_reply.started": "2021-10-21T00:17:29.742291Z"
    },
    "papermill": {
     "duration": 1.083589,
     "end_time": "2022-06-21T03:36:15.564129",
     "exception": false,
     "start_time": "2022-06-21T03:36:14.480540",
     "status": "completed"
    },
    "tags": []
   },
   "outputs": [
    {
     "name": "stdout",
     "output_type": "stream",
     "text": [
      "[[-1.27332767 -1.24414502]\n",
      " [ 0.10376846  0.03976901]\n",
      " [ 1.16955921  1.20437601]]\n",
      "[[-1.27548765 -1.24611441]\n",
      " [ 0.1087368   0.04392064]\n",
      " [ 1.16675085  1.20219377]]\n"
     ]
    }
   ],
   "source": [
    "from sklearn.preprocessing import power_transform\n",
    "data = [[11, 12], [23, 22], [34, 35]]\n",
    "print(power_transform(data)) # method 디폴트 값은 여-존슨’yeo-johnson’\n",
    "print(power_transform(data, method='box-cox'))"
   ]
  },
  {
   "cell_type": "markdown",
   "id": "ce00d464",
   "metadata": {
    "papermill": {
     "duration": 0.015706,
     "end_time": "2022-06-21T03:36:15.595881",
     "exception": false,
     "start_time": "2022-06-21T03:36:15.580175",
     "status": "completed"
    },
    "tags": []
   },
   "source": [
    "## 풀이"
   ]
  },
  {
   "cell_type": "code",
   "execution_count": 8,
   "id": "40f2274c",
   "metadata": {
    "_cell_guid": "b1076dfc-b9ad-4769-8c92-a6c4dae69d19",
    "_uuid": "8f2839f25d086af736a60e9eeb907d3b93b6e0e5",
    "execution": {
     "iopub.execute_input": "2022-06-21T03:36:15.633652Z",
     "iopub.status.busy": "2022-06-21T03:36:15.632987Z",
     "iopub.status.idle": "2022-06-21T03:36:15.667644Z",
     "shell.execute_reply": "2022-06-21T03:36:15.668160Z",
     "shell.execute_reply.started": "2021-11-08T04:15:03.996781Z"
    },
    "papermill": {
     "duration": 0.056496,
     "end_time": "2022-06-21T03:36:15.668354",
     "exception": false,
     "start_time": "2022-06-21T03:36:15.611858",
     "status": "completed"
    },
    "tags": []
   },
   "outputs": [
    {
     "data": {
      "text/html": [
       "<div>\n",
       "<style scoped>\n",
       "    .dataframe tbody tr th:only-of-type {\n",
       "        vertical-align: middle;\n",
       "    }\n",
       "\n",
       "    .dataframe tbody tr th {\n",
       "        vertical-align: top;\n",
       "    }\n",
       "\n",
       "    .dataframe thead th {\n",
       "        text-align: right;\n",
       "    }\n",
       "</style>\n",
       "<table border=\"1\" class=\"dataframe\">\n",
       "  <thead>\n",
       "    <tr style=\"text-align: right;\">\n",
       "      <th></th>\n",
       "      <th>id</th>\n",
       "      <th>age</th>\n",
       "      <th>city</th>\n",
       "      <th>f1</th>\n",
       "      <th>f2</th>\n",
       "      <th>f3</th>\n",
       "      <th>f4</th>\n",
       "      <th>f5</th>\n",
       "    </tr>\n",
       "  </thead>\n",
       "  <tbody>\n",
       "    <tr>\n",
       "      <th>0</th>\n",
       "      <td>id01</td>\n",
       "      <td>2.0</td>\n",
       "      <td>서울</td>\n",
       "      <td>NaN</td>\n",
       "      <td>0</td>\n",
       "      <td>NaN</td>\n",
       "      <td>ENFJ</td>\n",
       "      <td>91.297791</td>\n",
       "    </tr>\n",
       "    <tr>\n",
       "      <th>1</th>\n",
       "      <td>id02</td>\n",
       "      <td>9.0</td>\n",
       "      <td>서울</td>\n",
       "      <td>70.0</td>\n",
       "      <td>1</td>\n",
       "      <td>NaN</td>\n",
       "      <td>ENFJ</td>\n",
       "      <td>60.339826</td>\n",
       "    </tr>\n",
       "    <tr>\n",
       "      <th>2</th>\n",
       "      <td>id03</td>\n",
       "      <td>27.0</td>\n",
       "      <td>서울</td>\n",
       "      <td>61.0</td>\n",
       "      <td>1</td>\n",
       "      <td>NaN</td>\n",
       "      <td>ISTJ</td>\n",
       "      <td>17.252986</td>\n",
       "    </tr>\n",
       "    <tr>\n",
       "      <th>3</th>\n",
       "      <td>id04</td>\n",
       "      <td>75.0</td>\n",
       "      <td>서울</td>\n",
       "      <td>NaN</td>\n",
       "      <td>2</td>\n",
       "      <td>NaN</td>\n",
       "      <td>INFP</td>\n",
       "      <td>52.667078</td>\n",
       "    </tr>\n",
       "    <tr>\n",
       "      <th>4</th>\n",
       "      <td>id05</td>\n",
       "      <td>24.0</td>\n",
       "      <td>서울</td>\n",
       "      <td>85.0</td>\n",
       "      <td>2</td>\n",
       "      <td>NaN</td>\n",
       "      <td>ISFJ</td>\n",
       "      <td>29.269869</td>\n",
       "    </tr>\n",
       "  </tbody>\n",
       "</table>\n",
       "</div>"
      ],
      "text/plain": [
       "     id   age city    f1  f2   f3    f4         f5\n",
       "0  id01   2.0   서울   NaN   0  NaN  ENFJ  91.297791\n",
       "1  id02   9.0   서울  70.0   1  NaN  ENFJ  60.339826\n",
       "2  id03  27.0   서울  61.0   1  NaN  ISTJ  17.252986\n",
       "3  id04  75.0   서울   NaN   2  NaN  INFP  52.667078\n",
       "4  id05  24.0   서울  85.0   2  NaN  ISFJ  29.269869"
      ]
     },
     "execution_count": 8,
     "metadata": {},
     "output_type": "execute_result"
    }
   ],
   "source": [
    "# 라이브러리 및 데이터 불러오기\n",
    "import pandas as pd\n",
    "import numpy as np\n",
    "from sklearn.preprocessing import power_transform\n",
    "\n",
    "df = pd.read_csv('../input/bigdatacertificationkr/basic1.csv')\n",
    "df.head(5)"
   ]
  },
  {
   "cell_type": "code",
   "execution_count": 9,
   "id": "2fcc3020",
   "metadata": {
    "execution": {
     "iopub.execute_input": "2022-06-21T03:36:15.704635Z",
     "iopub.status.busy": "2022-06-21T03:36:15.703958Z",
     "iopub.status.idle": "2022-06-21T03:36:15.716849Z",
     "shell.execute_reply": "2022-06-21T03:36:15.717403Z",
     "shell.execute_reply.started": "2021-11-08T04:15:04.860922Z"
    },
    "papermill": {
     "duration": 0.032601,
     "end_time": "2022-06-21T03:36:15.717577",
     "exception": false,
     "start_time": "2022-06-21T03:36:15.684976",
     "status": "completed"
    },
    "tags": []
   },
   "outputs": [
    {
     "name": "stdout",
     "output_type": "stream",
     "text": [
      "조건 적용 전: (100, 8)\n",
      "조건 적용 후: (83, 8)\n"
     ]
    }
   ],
   "source": [
    "# 조건에 맞는 데이터\n",
    "print(\"조건 적용 전:\", df.shape)\n",
    "df = df[df['age']>=20]\n",
    "print(\"조건 적용 후:\", df.shape)"
   ]
  },
  {
   "cell_type": "code",
   "execution_count": 10,
   "id": "97567ca5",
   "metadata": {
    "execution": {
     "iopub.execute_input": "2022-06-21T03:36:15.755304Z",
     "iopub.status.busy": "2022-06-21T03:36:15.754639Z",
     "iopub.status.idle": "2022-06-21T03:36:15.774700Z",
     "shell.execute_reply": "2022-06-21T03:36:15.775408Z",
     "shell.execute_reply.started": "2021-11-08T04:15:04.879691Z"
    },
    "papermill": {
     "duration": 0.04112,
     "end_time": "2022-06-21T03:36:15.775603",
     "exception": false,
     "start_time": "2022-06-21T03:36:15.734483",
     "status": "completed"
    },
    "tags": []
   },
   "outputs": [
    {
     "name": "stdout",
     "output_type": "stream",
     "text": [
      "결측치 처리 전: \n",
      " id       0\n",
      "age      0\n",
      "city     0\n",
      "f1      26\n",
      "f2       0\n",
      "f3      78\n",
      "f4       0\n",
      "f5       0\n",
      "dtype: int64\n",
      "최빈값:  50.0\n",
      "결측치 처리 후: \n",
      " id       0\n",
      "age      0\n",
      "city     0\n",
      "f1       0\n",
      "f2       0\n",
      "f3      78\n",
      "f4       0\n",
      "f5       0\n",
      "dtype: int64\n"
     ]
    }
   ],
   "source": [
    "# 최빈값으로 'f1' 컬럼 결측치 대체\n",
    "print(\"결측치 처리 전: \\n\", df.isnull().sum())\n",
    "print(\"최빈값: \",df['f1'].mode()[0])\n",
    "df['f1'] = df['f1'].fillna(df['f1'].mode()[0])\n",
    "print(\"결측치 처리 후: \\n\", df.isnull().sum())   "
   ]
  },
  {
   "cell_type": "code",
   "execution_count": 11,
   "id": "6b633d4e",
   "metadata": {
    "execution": {
     "iopub.execute_input": "2022-06-21T03:36:15.814428Z",
     "iopub.status.busy": "2022-06-21T03:36:15.813734Z",
     "iopub.status.idle": "2022-06-21T03:36:15.827792Z",
     "shell.execute_reply": "2022-06-21T03:36:15.828365Z",
     "shell.execute_reply.started": "2021-11-08T04:15:04.905438Z"
    },
    "papermill": {
     "duration": 0.035048,
     "end_time": "2022-06-21T03:36:15.828536",
     "exception": false,
     "start_time": "2022-06-21T03:36:15.793488",
     "status": "completed"
    },
    "tags": []
   },
   "outputs": [
    {
     "data": {
      "text/plain": [
       "2    0.101083\n",
       "3   -0.585402\n",
       "4    1.463459\n",
       "5   -0.143094\n",
       "6    0.040578\n",
       "Name: y, dtype: float64"
      ]
     },
     "execution_count": 11,
     "metadata": {},
     "output_type": "execute_result"
    }
   ],
   "source": [
    "# 'f1'데이터 여-존슨 yeo-johnson 값 구하기\n",
    "df['y'] = power_transform(df[['f1']]) # method 디폴트 값은 여-존슨’yeo-johnson’\n",
    "df['y'].head()"
   ]
  },
  {
   "cell_type": "code",
   "execution_count": 12,
   "id": "4ca87203",
   "metadata": {
    "execution": {
     "iopub.execute_input": "2022-06-21T03:36:15.868234Z",
     "iopub.status.busy": "2022-06-21T03:36:15.867129Z",
     "iopub.status.idle": "2022-06-21T03:36:15.880000Z",
     "shell.execute_reply": "2022-06-21T03:36:15.880573Z",
     "shell.execute_reply.started": "2021-11-08T04:15:04.923912Z"
    },
    "papermill": {
     "duration": 0.034229,
     "end_time": "2022-06-21T03:36:15.880747",
     "exception": false,
     "start_time": "2022-06-21T03:36:15.846518",
     "status": "completed"
    },
    "tags": []
   },
   "outputs": [
    {
     "data": {
      "text/plain": [
       "2    20.583423\n",
       "3    17.968081\n",
       "4    25.773745\n",
       "5    19.653167\n",
       "6    20.352915\n",
       "Name: y, dtype: float64"
      ]
     },
     "execution_count": 12,
     "metadata": {},
     "output_type": "execute_result"
    }
   ],
   "source": [
    "# 'f1'데이터 여-존슨 yeo-johnson 값 구하기\n",
    "df['y'] = power_transform(df[['f1']],standardize=False) # method 디폴트 값은 여-존슨’yeo-johnson’\n",
    "df['y'].head()"
   ]
  },
  {
   "cell_type": "code",
   "execution_count": 13,
   "id": "ba7ec749",
   "metadata": {
    "execution": {
     "iopub.execute_input": "2022-06-21T03:36:15.920942Z",
     "iopub.status.busy": "2022-06-21T03:36:15.919925Z",
     "iopub.status.idle": "2022-06-21T03:36:15.932665Z",
     "shell.execute_reply": "2022-06-21T03:36:15.933273Z",
     "shell.execute_reply.started": "2021-11-08T04:15:04.941845Z"
    },
    "papermill": {
     "duration": 0.034655,
     "end_time": "2022-06-21T03:36:15.933465",
     "exception": false,
     "start_time": "2022-06-21T03:36:15.898810",
     "status": "completed"
    },
    "tags": []
   },
   "outputs": [
    {
     "data": {
      "text/plain": [
       "2    0.100290\n",
       "3   -0.585656\n",
       "4    1.463969\n",
       "5   -0.143784\n",
       "6    0.039801\n",
       "Name: b, dtype: float64"
      ]
     },
     "execution_count": 13,
     "metadata": {},
     "output_type": "execute_result"
    }
   ],
   "source": [
    "# 'f1'데이터 박스-콕스 box-cox 값 구하기\n",
    "df['b'] = power_transform(df[['f1']], method='box-cox')\n",
    "df['b'].head()"
   ]
  },
  {
   "cell_type": "code",
   "execution_count": 14,
   "id": "b8ba6055",
   "metadata": {
    "execution": {
     "iopub.execute_input": "2022-06-21T03:36:15.983011Z",
     "iopub.status.busy": "2022-06-21T03:36:15.982278Z",
     "iopub.status.idle": "2022-06-21T03:36:15.984924Z",
     "shell.execute_reply": "2022-06-21T03:36:15.985425Z",
     "shell.execute_reply.started": "2021-11-08T04:15:04.956222Z"
    },
    "papermill": {
     "duration": 0.033581,
     "end_time": "2022-06-21T03:36:15.985606",
     "exception": false,
     "start_time": "2022-06-21T03:36:15.952025",
     "status": "completed"
    },
    "tags": []
   },
   "outputs": [
    {
     "data": {
      "text/plain": [
       "2    21.067090\n",
       "3    18.305263\n",
       "4    26.557680\n",
       "5    20.084373\n",
       "6    20.823545\n",
       "Name: b, dtype: float64"
      ]
     },
     "execution_count": 14,
     "metadata": {},
     "output_type": "execute_result"
    }
   ],
   "source": [
    "# 'f1'데이터 박스-콕스 box-cox 값 구하기\n",
    "# 추가 2022.6.21 \n",
    "# standardize=False는 python과 R의 디폴트가 달라 결과를 맞추기 위함이었어요! 이번 문제는 출제 가능성이 낮아 보여요 (이미 풀이한 분들이 있어 그대로 두었습니다.)\n",
    "df['b'] = power_transform(df[['f1']], method='box-cox', standardize=False)\n",
    "df['b'].head()"
   ]
  },
  {
   "cell_type": "code",
   "execution_count": 15,
   "id": "adb36964",
   "metadata": {
    "execution": {
     "iopub.execute_input": "2022-06-21T03:36:16.033192Z",
     "iopub.status.busy": "2022-06-21T03:36:16.032403Z",
     "iopub.status.idle": "2022-06-21T03:36:16.035623Z",
     "shell.execute_reply": "2022-06-21T03:36:16.036116Z",
     "shell.execute_reply.started": "2021-11-08T04:15:04.974866Z"
    },
    "papermill": {
     "duration": 0.031866,
     "end_time": "2022-06-21T03:36:16.036310",
     "exception": false,
     "start_time": "2022-06-21T03:36:16.004444",
     "status": "completed"
    },
    "tags": []
   },
   "outputs": [
    {
     "data": {
      "text/plain": [
       "(array([21.06708953, 18.3052633 , 26.5576802 , 20.08437298, 20.82354507,\n",
       "        29.92014513, 24.11822132, 22.73510562, 18.3052633 , 18.3052633 ,\n",
       "        22.50057055, 26.5576802 , 18.3052633 , 26.9892231 , 18.3052633 ,\n",
       "        18.3052633 , 24.34492271, 16.71079147, 18.3052633 , 20.08437298,\n",
       "        20.82354507, 13.87430348, 24.79522889, 21.78961583, 28.47348918,\n",
       "        18.3052633 , 18.3052633 , 24.79522889, 18.3052633 , 18.3052633 ,\n",
       "        18.3052633 , 24.34492271, 19.58413896, 17.78149164, 20.82354507,\n",
       "        18.3052633 , 27.20371216, 18.3052633 , 24.34492271, 27.20371216,\n",
       "        25.01886978, 18.3052633 , 25.90374843, 18.3052633 , 18.3052633 ,\n",
       "        21.55009581, 18.3052633 , 18.3052633 , 18.3052633 , 21.30926323,\n",
       "        18.3052633 , 26.77388356, 21.30926323, 18.3052633 , 18.3052633 ,\n",
       "        18.82186921, 16.9815023 , 26.5576802 , 26.34059934, 18.3052633 ,\n",
       "        29.30451924, 17.51679379,  6.25392521, 12.96923726, 28.89049447,\n",
       "        18.3052633 , 20.82354507, 18.3052633 , 18.3052633 , 18.3052633 ,\n",
       "        16.71079147, 19.58413896, 24.34492271, 22.26482716, 18.3052633 ,\n",
       "        25.01886978, 20.08437298, 18.3052633 , 16.43795391, 19.07760136,\n",
       "        18.3052633 , 20.33221948, 19.07760136]),\n",
       " 0.6557192658257479)"
      ]
     },
     "execution_count": 15,
     "metadata": {},
     "output_type": "execute_result"
    }
   ],
   "source": [
    "## 박스콕스 방법2\n",
    "from scipy import stats\n",
    "x = stats.boxcox(df['f1'])\n",
    "x"
   ]
  },
  {
   "cell_type": "code",
   "execution_count": 16,
   "id": "917d57d3",
   "metadata": {
    "execution": {
     "iopub.execute_input": "2022-06-21T03:36:16.078663Z",
     "iopub.status.busy": "2022-06-21T03:36:16.077582Z",
     "iopub.status.idle": "2022-06-21T03:36:16.084192Z",
     "shell.execute_reply": "2022-06-21T03:36:16.085150Z",
     "shell.execute_reply.started": "2021-11-08T04:15:04.991866Z"
    },
    "papermill": {
     "duration": 0.030094,
     "end_time": "2022-06-21T03:36:16.085423",
     "exception": false,
     "start_time": "2022-06-21T03:36:16.055329",
     "status": "completed"
    },
    "tags": []
   },
   "outputs": [
    {
     "data": {
      "text/plain": [
       "39.17"
      ]
     },
     "execution_count": 16,
     "metadata": {},
     "output_type": "execute_result"
    }
   ],
   "source": [
    "# 두 값의 차이를 절대값으로 구한다음 모두 더해 소수점 둘째 자리까지 출력(반올림)\n",
    "round(sum(np.abs(df['y'] - df['b'])),2)"
   ]
  }
 ],
 "metadata": {
  "kernelspec": {
   "display_name": "Python 3",
   "language": "python",
   "name": "python3"
  },
  "language_info": {
   "codemirror_mode": {
    "name": "ipython",
    "version": 3
   },
   "file_extension": ".py",
   "mimetype": "text/x-python",
   "name": "python",
   "nbconvert_exporter": "python",
   "pygments_lexer": "ipython3",
   "version": "3.7.10"
  },
  "papermill": {
   "default_parameters": {},
   "duration": 12.415433,
   "end_time": "2022-06-21T03:36:16.715117",
   "environment_variables": {},
   "exception": null,
   "input_path": "__notebook__.ipynb",
   "output_path": "__notebook__.ipynb",
   "parameters": {},
   "start_time": "2022-06-21T03:36:04.299684",
   "version": "2.3.3"
  }
 },
 "nbformat": 4,
 "nbformat_minor": 5
}
