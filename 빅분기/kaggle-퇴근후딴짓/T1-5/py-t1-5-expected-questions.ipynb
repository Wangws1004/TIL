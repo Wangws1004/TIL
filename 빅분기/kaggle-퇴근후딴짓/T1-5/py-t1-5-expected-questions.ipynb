{
 "cells": [
  {
   "cell_type": "markdown",
   "id": "fd287662",
   "metadata": {
    "papermill": {
     "duration": 0.011965,
     "end_time": "2021-10-29T06:33:52.353991",
     "exception": false,
     "start_time": "2021-10-29T06:33:52.342026",
     "status": "completed"
    },
    "tags": []
   },
   "source": [
    "## 조건에 맞는 데이터 표준편차 구하기\n",
    "- 주어진 데이터 중 basic1.csv에서 'f4'컬럼 값이 'ENFJ'와 'INFP'인 'f1'의 표준편차 차이를 절대값으로 구하시오\n",
    "- 데이터셋 : basic1.csv\n",
    "- 오른쪽 상단 copy&edit 클릭 -> 예상문제 풀이 시작"
   ]
  },
  {
   "cell_type": "code",
   "execution_count": 1,
   "id": "57c5d74d",
   "metadata": {
    "execution": {
     "iopub.execute_input": "2021-10-29T06:33:52.382164Z",
     "iopub.status.busy": "2021-10-29T06:33:52.380976Z",
     "iopub.status.idle": "2021-10-29T06:33:52.386572Z",
     "shell.execute_reply": "2021-10-29T06:33:52.385939Z"
    },
    "papermill": {
     "duration": 0.020909,
     "end_time": "2021-10-29T06:33:52.386768",
     "exception": false,
     "start_time": "2021-10-29T06:33:52.365859",
     "status": "completed"
    },
    "tags": []
   },
   "outputs": [],
   "source": [
    "# 라이브러리 및 데이터 불러오기"
   ]
  },
  {
   "cell_type": "code",
   "execution_count": 2,
   "id": "3162423d",
   "metadata": {
    "execution": {
     "iopub.execute_input": "2021-10-29T06:33:52.413366Z",
     "iopub.status.busy": "2021-10-29T06:33:52.412728Z",
     "iopub.status.idle": "2021-10-29T06:33:52.415326Z",
     "shell.execute_reply": "2021-10-29T06:33:52.414825Z"
    },
    "papermill": {
     "duration": 0.017949,
     "end_time": "2021-10-29T06:33:52.415478",
     "exception": false,
     "start_time": "2021-10-29T06:33:52.397529",
     "status": "completed"
    },
    "tags": []
   },
   "outputs": [],
   "source": [
    "# 조건에 맞는 데이터 (ENFJ, INFP)"
   ]
  },
  {
   "cell_type": "code",
   "execution_count": 3,
   "id": "0b193ea1",
   "metadata": {
    "execution": {
     "iopub.execute_input": "2021-10-29T06:33:52.442519Z",
     "iopub.status.busy": "2021-10-29T06:33:52.441600Z",
     "iopub.status.idle": "2021-10-29T06:33:52.444219Z",
     "shell.execute_reply": "2021-10-29T06:33:52.444822Z"
    },
    "papermill": {
     "duration": 0.018492,
     "end_time": "2021-10-29T06:33:52.444985",
     "exception": false,
     "start_time": "2021-10-29T06:33:52.426493",
     "status": "completed"
    },
    "tags": []
   },
   "outputs": [],
   "source": [
    "# 조건에 맞는 f1의 표준편차 (ENFJ, INFP)"
   ]
  },
  {
   "cell_type": "code",
   "execution_count": 4,
   "id": "24fa4e18",
   "metadata": {
    "execution": {
     "iopub.execute_input": "2021-10-29T06:33:52.472425Z",
     "iopub.status.busy": "2021-10-29T06:33:52.471787Z",
     "iopub.status.idle": "2021-10-29T06:33:52.474457Z",
     "shell.execute_reply": "2021-10-29T06:33:52.475072Z"
    },
    "papermill": {
     "duration": 0.019704,
     "end_time": "2021-10-29T06:33:52.475250",
     "exception": false,
     "start_time": "2021-10-29T06:33:52.455546",
     "status": "completed"
    },
    "tags": []
   },
   "outputs": [],
   "source": [
    "# 두 표준편차 차이 절대값 출력"
   ]
  },
  {
   "cell_type": "markdown",
   "id": "bdf152b3",
   "metadata": {
    "papermill": {
     "duration": 0.010357,
     "end_time": "2021-10-29T06:33:52.496688",
     "exception": false,
     "start_time": "2021-10-29T06:33:52.486331",
     "status": "completed"
    },
    "tags": []
   },
   "source": [
    "## Hint\n",
    "- 절대 값 : np.abs()\n",
    "- 표준편차 : DataFrame.std()"
   ]
  },
  {
   "cell_type": "markdown",
   "id": "549fbc14",
   "metadata": {
    "papermill": {
     "duration": 0.010285,
     "end_time": "2021-10-29T06:33:52.517625",
     "exception": false,
     "start_time": "2021-10-29T06:33:52.507340",
     "status": "completed"
    },
    "tags": []
   },
   "source": [
    "## 풀이"
   ]
  },
  {
   "cell_type": "code",
   "execution_count": 5,
   "id": "61d7c026",
   "metadata": {
    "_cell_guid": "b1076dfc-b9ad-4769-8c92-a6c4dae69d19",
    "_uuid": "8f2839f25d086af736a60e9eeb907d3b93b6e0e5",
    "execution": {
     "iopub.execute_input": "2021-10-29T06:33:52.551832Z",
     "iopub.status.busy": "2021-10-29T06:33:52.551159Z",
     "iopub.status.idle": "2021-10-29T06:33:52.594571Z",
     "shell.execute_reply": "2021-10-29T06:33:52.595112Z",
     "shell.execute_reply.started": "2021-10-29T06:32:05.330857Z"
    },
    "papermill": {
     "duration": 0.067138,
     "end_time": "2021-10-29T06:33:52.595281",
     "exception": false,
     "start_time": "2021-10-29T06:33:52.528143",
     "status": "completed"
    },
    "tags": []
   },
   "outputs": [
    {
     "data": {
      "text/html": [
       "<div>\n",
       "<style scoped>\n",
       "    .dataframe tbody tr th:only-of-type {\n",
       "        vertical-align: middle;\n",
       "    }\n",
       "\n",
       "    .dataframe tbody tr th {\n",
       "        vertical-align: top;\n",
       "    }\n",
       "\n",
       "    .dataframe thead th {\n",
       "        text-align: right;\n",
       "    }\n",
       "</style>\n",
       "<table border=\"1\" class=\"dataframe\">\n",
       "  <thead>\n",
       "    <tr style=\"text-align: right;\">\n",
       "      <th></th>\n",
       "      <th>id</th>\n",
       "      <th>age</th>\n",
       "      <th>city</th>\n",
       "      <th>f1</th>\n",
       "      <th>f2</th>\n",
       "      <th>f3</th>\n",
       "      <th>f4</th>\n",
       "      <th>f5</th>\n",
       "    </tr>\n",
       "  </thead>\n",
       "  <tbody>\n",
       "    <tr>\n",
       "      <th>0</th>\n",
       "      <td>id01</td>\n",
       "      <td>2.0</td>\n",
       "      <td>서울</td>\n",
       "      <td>NaN</td>\n",
       "      <td>0</td>\n",
       "      <td>NaN</td>\n",
       "      <td>ENFJ</td>\n",
       "      <td>91.297791</td>\n",
       "    </tr>\n",
       "    <tr>\n",
       "      <th>1</th>\n",
       "      <td>id02</td>\n",
       "      <td>9.0</td>\n",
       "      <td>서울</td>\n",
       "      <td>70.0</td>\n",
       "      <td>1</td>\n",
       "      <td>NaN</td>\n",
       "      <td>ENFJ</td>\n",
       "      <td>60.339826</td>\n",
       "    </tr>\n",
       "    <tr>\n",
       "      <th>2</th>\n",
       "      <td>id03</td>\n",
       "      <td>27.0</td>\n",
       "      <td>서울</td>\n",
       "      <td>61.0</td>\n",
       "      <td>1</td>\n",
       "      <td>NaN</td>\n",
       "      <td>ISTJ</td>\n",
       "      <td>17.252986</td>\n",
       "    </tr>\n",
       "    <tr>\n",
       "      <th>3</th>\n",
       "      <td>id04</td>\n",
       "      <td>75.0</td>\n",
       "      <td>서울</td>\n",
       "      <td>NaN</td>\n",
       "      <td>2</td>\n",
       "      <td>NaN</td>\n",
       "      <td>INFP</td>\n",
       "      <td>52.667078</td>\n",
       "    </tr>\n",
       "    <tr>\n",
       "      <th>4</th>\n",
       "      <td>id05</td>\n",
       "      <td>24.0</td>\n",
       "      <td>서울</td>\n",
       "      <td>85.0</td>\n",
       "      <td>2</td>\n",
       "      <td>NaN</td>\n",
       "      <td>ISFJ</td>\n",
       "      <td>29.269869</td>\n",
       "    </tr>\n",
       "  </tbody>\n",
       "</table>\n",
       "</div>"
      ],
      "text/plain": [
       "     id   age city    f1  f2   f3    f4         f5\n",
       "0  id01   2.0   서울   NaN   0  NaN  ENFJ  91.297791\n",
       "1  id02   9.0   서울  70.0   1  NaN  ENFJ  60.339826\n",
       "2  id03  27.0   서울  61.0   1  NaN  ISTJ  17.252986\n",
       "3  id04  75.0   서울   NaN   2  NaN  INFP  52.667078\n",
       "4  id05  24.0   서울  85.0   2  NaN  ISFJ  29.269869"
      ]
     },
     "execution_count": 5,
     "metadata": {},
     "output_type": "execute_result"
    }
   ],
   "source": [
    "# 라이브러리 및 데이터 불러오기\n",
    "import pandas as pd\n",
    "import numpy as np\n",
    "\n",
    "df = pd.read_csv('../input/bigdatacertificationkr/basic1.csv')\n",
    "df.head()"
   ]
  },
  {
   "cell_type": "code",
   "execution_count": 6,
   "id": "7c554143",
   "metadata": {
    "execution": {
     "iopub.execute_input": "2021-10-29T06:33:52.626885Z",
     "iopub.status.busy": "2021-10-29T06:33:52.626183Z",
     "iopub.status.idle": "2021-10-29T06:33:52.641979Z",
     "shell.execute_reply": "2021-10-29T06:33:52.642639Z",
     "shell.execute_reply.started": "2021-10-29T06:29:53.871399Z"
    },
    "papermill": {
     "duration": 0.035855,
     "end_time": "2021-10-29T06:33:52.642815",
     "exception": false,
     "start_time": "2021-10-29T06:33:52.606960",
     "status": "completed"
    },
    "tags": []
   },
   "outputs": [
    {
     "data": {
      "text/html": [
       "<div>\n",
       "<style scoped>\n",
       "    .dataframe tbody tr th:only-of-type {\n",
       "        vertical-align: middle;\n",
       "    }\n",
       "\n",
       "    .dataframe tbody tr th {\n",
       "        vertical-align: top;\n",
       "    }\n",
       "\n",
       "    .dataframe thead th {\n",
       "        text-align: right;\n",
       "    }\n",
       "</style>\n",
       "<table border=\"1\" class=\"dataframe\">\n",
       "  <thead>\n",
       "    <tr style=\"text-align: right;\">\n",
       "      <th></th>\n",
       "      <th>id</th>\n",
       "      <th>age</th>\n",
       "      <th>city</th>\n",
       "      <th>f1</th>\n",
       "      <th>f2</th>\n",
       "      <th>f3</th>\n",
       "      <th>f4</th>\n",
       "      <th>f5</th>\n",
       "    </tr>\n",
       "  </thead>\n",
       "  <tbody>\n",
       "    <tr>\n",
       "      <th>0</th>\n",
       "      <td>id01</td>\n",
       "      <td>2.0</td>\n",
       "      <td>서울</td>\n",
       "      <td>NaN</td>\n",
       "      <td>0</td>\n",
       "      <td>NaN</td>\n",
       "      <td>ENFJ</td>\n",
       "      <td>91.297791</td>\n",
       "    </tr>\n",
       "    <tr>\n",
       "      <th>1</th>\n",
       "      <td>id02</td>\n",
       "      <td>9.0</td>\n",
       "      <td>서울</td>\n",
       "      <td>70.0</td>\n",
       "      <td>1</td>\n",
       "      <td>NaN</td>\n",
       "      <td>ENFJ</td>\n",
       "      <td>60.339826</td>\n",
       "    </tr>\n",
       "    <tr>\n",
       "      <th>32</th>\n",
       "      <td>id33</td>\n",
       "      <td>47.0</td>\n",
       "      <td>부산</td>\n",
       "      <td>94.0</td>\n",
       "      <td>0</td>\n",
       "      <td>NaN</td>\n",
       "      <td>ENFJ</td>\n",
       "      <td>17.252986</td>\n",
       "    </tr>\n",
       "    <tr>\n",
       "      <th>40</th>\n",
       "      <td>id41</td>\n",
       "      <td>81.0</td>\n",
       "      <td>대구</td>\n",
       "      <td>55.0</td>\n",
       "      <td>0</td>\n",
       "      <td>NaN</td>\n",
       "      <td>ENFJ</td>\n",
       "      <td>37.113739</td>\n",
       "    </tr>\n",
       "    <tr>\n",
       "      <th>44</th>\n",
       "      <td>id45</td>\n",
       "      <td>97.0</td>\n",
       "      <td>대구</td>\n",
       "      <td>88.0</td>\n",
       "      <td>0</td>\n",
       "      <td>NaN</td>\n",
       "      <td>ENFJ</td>\n",
       "      <td>13.049921</td>\n",
       "    </tr>\n",
       "    <tr>\n",
       "      <th>53</th>\n",
       "      <td>id54</td>\n",
       "      <td>53.0</td>\n",
       "      <td>대구</td>\n",
       "      <td>NaN</td>\n",
       "      <td>1</td>\n",
       "      <td>NaN</td>\n",
       "      <td>ENFJ</td>\n",
       "      <td>69.730313</td>\n",
       "    </tr>\n",
       "  </tbody>\n",
       "</table>\n",
       "</div>"
      ],
      "text/plain": [
       "      id   age city    f1  f2   f3    f4         f5\n",
       "0   id01   2.0   서울   NaN   0  NaN  ENFJ  91.297791\n",
       "1   id02   9.0   서울  70.0   1  NaN  ENFJ  60.339826\n",
       "32  id33  47.0   부산  94.0   0  NaN  ENFJ  17.252986\n",
       "40  id41  81.0   대구  55.0   0  NaN  ENFJ  37.113739\n",
       "44  id45  97.0   대구  88.0   0  NaN  ENFJ  13.049921\n",
       "53  id54  53.0   대구   NaN   1  NaN  ENFJ  69.730313"
      ]
     },
     "execution_count": 6,
     "metadata": {},
     "output_type": "execute_result"
    }
   ],
   "source": [
    "# 조건에 맞는 데이터\n",
    "df[df['f4']=='ENFJ']"
   ]
  },
  {
   "cell_type": "code",
   "execution_count": 7,
   "id": "581d79c7",
   "metadata": {
    "execution": {
     "iopub.execute_input": "2021-10-29T06:33:52.669833Z",
     "iopub.status.busy": "2021-10-29T06:33:52.669163Z",
     "iopub.status.idle": "2021-10-29T06:33:52.676768Z",
     "shell.execute_reply": "2021-10-29T06:33:52.676240Z",
     "shell.execute_reply.started": "2021-10-29T06:30:03.762019Z"
    },
    "papermill": {
     "duration": 0.02248,
     "end_time": "2021-10-29T06:33:52.676912",
     "exception": false,
     "start_time": "2021-10-29T06:33:52.654432",
     "status": "completed"
    },
    "tags": []
   },
   "outputs": [
    {
     "data": {
      "text/plain": [
       "17.727097901235837"
      ]
     },
     "execution_count": 7,
     "metadata": {},
     "output_type": "execute_result"
    }
   ],
   "source": [
    "df[df['f4']=='ENFJ']['f1'].std()"
   ]
  },
  {
   "cell_type": "code",
   "execution_count": 8,
   "id": "811e1bde",
   "metadata": {
    "execution": {
     "iopub.execute_input": "2021-10-29T06:33:52.704689Z",
     "iopub.status.busy": "2021-10-29T06:33:52.704014Z",
     "iopub.status.idle": "2021-10-29T06:33:52.711146Z",
     "shell.execute_reply": "2021-10-29T06:33:52.711687Z",
     "shell.execute_reply.started": "2021-10-29T06:30:17.153342Z"
    },
    "papermill": {
     "duration": 0.022901,
     "end_time": "2021-10-29T06:33:52.711863",
     "exception": false,
     "start_time": "2021-10-29T06:33:52.688962",
     "status": "completed"
    },
    "tags": []
   },
   "outputs": [
    {
     "data": {
      "text/plain": [
       "17.727097901235837"
      ]
     },
     "execution_count": 8,
     "metadata": {},
     "output_type": "execute_result"
    }
   ],
   "source": [
    "# 조건에 맞는 f1의 표준편차\n",
    "enfj = df[df['f4']=='ENFJ']['f1'].std()\n",
    "enfj"
   ]
  },
  {
   "cell_type": "code",
   "execution_count": 9,
   "id": "c1a57872",
   "metadata": {
    "execution": {
     "iopub.execute_input": "2021-10-29T06:33:52.741415Z",
     "iopub.status.busy": "2021-10-29T06:33:52.740804Z",
     "iopub.status.idle": "2021-10-29T06:33:52.747360Z",
     "shell.execute_reply": "2021-10-29T06:33:52.747926Z",
     "shell.execute_reply.started": "2021-10-29T06:30:35.689186Z"
    },
    "papermill": {
     "duration": 0.02297,
     "end_time": "2021-10-29T06:33:52.748127",
     "exception": false,
     "start_time": "2021-10-29T06:33:52.725157",
     "status": "completed"
    },
    "tags": []
   },
   "outputs": [
    {
     "data": {
      "text/plain": [
       "23.586719427112648"
      ]
     },
     "execution_count": 9,
     "metadata": {},
     "output_type": "execute_result"
    }
   ],
   "source": [
    "# 조건에 맞는 f1의 표준편차\n",
    "infp = df[df['f4']=='INFP']['f1'].std()\n",
    "infp"
   ]
  },
  {
   "cell_type": "code",
   "execution_count": 10,
   "id": "85034c85",
   "metadata": {
    "execution": {
     "iopub.execute_input": "2021-10-29T06:33:52.779253Z",
     "iopub.status.busy": "2021-10-29T06:33:52.778554Z",
     "iopub.status.idle": "2021-10-29T06:33:52.784135Z",
     "shell.execute_reply": "2021-10-29T06:33:52.784644Z",
     "shell.execute_reply.started": "2021-10-29T06:32:32.699381Z"
    },
    "papermill": {
     "duration": 0.023592,
     "end_time": "2021-10-29T06:33:52.784858",
     "exception": false,
     "start_time": "2021-10-29T06:33:52.761266",
     "status": "completed"
    },
    "tags": []
   },
   "outputs": [
    {
     "name": "stdout",
     "output_type": "stream",
     "text": [
      "5.859621525876811\n"
     ]
    }
   ],
   "source": [
    "# 두 표준편차 차이 절대값 출력\n",
    "print(np.abs(enfj - infp))"
   ]
  }
 ],
 "metadata": {
  "kernelspec": {
   "display_name": "Python 3",
   "language": "python",
   "name": "python3"
  },
  "language_info": {
   "codemirror_mode": {
    "name": "ipython",
    "version": 3
   },
   "file_extension": ".py",
   "mimetype": "text/x-python",
   "name": "python",
   "nbconvert_exporter": "python",
   "pygments_lexer": "ipython3",
   "version": "3.7.10"
  },
  "papermill": {
   "default_parameters": {},
   "duration": 10.877794,
   "end_time": "2021-10-29T06:33:54.022515",
   "environment_variables": {},
   "exception": null,
   "input_path": "__notebook__.ipynb",
   "output_path": "__notebook__.ipynb",
   "parameters": {},
   "start_time": "2021-10-29T06:33:43.144721",
   "version": "2.3.3"
  }
 },
 "nbformat": 4,
 "nbformat_minor": 5
}
