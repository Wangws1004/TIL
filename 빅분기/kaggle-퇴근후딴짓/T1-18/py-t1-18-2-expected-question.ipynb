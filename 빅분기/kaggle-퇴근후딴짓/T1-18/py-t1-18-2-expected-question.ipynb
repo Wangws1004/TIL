{
 "cells": [
  {
   "cell_type": "markdown",
   "id": "e10ba62e",
   "metadata": {
    "papermill": {
     "duration": 0.010131,
     "end_time": "2022-11-15T16:18:04.808447",
     "exception": false,
     "start_time": "2022-11-15T16:18:04.798316",
     "status": "completed"
    },
    "tags": []
   },
   "source": [
    "## 주어진 데이터에서 2022년 5월 주말과 평일의 sales컬럼 평균값 차이를 구하시오 (소수점 둘째자리까지 출력, 반올림)\n",
    "- 데이터셋 : basic2.csv\n",
    "- 오른쪽 상단 copy&edit 클릭 -> 예상문제 풀이 시작"
   ]
  },
  {
   "cell_type": "code",
   "execution_count": 1,
   "id": "b84d86d8",
   "metadata": {
    "_cell_guid": "b1076dfc-b9ad-4769-8c92-a6c4dae69d19",
    "_uuid": "8f2839f25d086af736a60e9eeb907d3b93b6e0e5",
    "execution": {
     "iopub.execute_input": "2022-11-15T16:18:04.837363Z",
     "iopub.status.busy": "2022-11-15T16:18:04.836438Z",
     "iopub.status.idle": "2022-11-15T16:18:04.840779Z",
     "shell.execute_reply": "2022-11-15T16:18:04.840055Z"
    },
    "papermill": {
     "duration": 0.022948,
     "end_time": "2022-11-15T16:18:04.840963",
     "exception": false,
     "start_time": "2022-11-15T16:18:04.818015",
     "status": "completed"
    },
    "tags": []
   },
   "outputs": [],
   "source": [
    "# 라이브러리 불러오기\n",
    "import pandas as pd"
   ]
  },
  {
   "cell_type": "code",
   "execution_count": 2,
   "id": "f8dd0019",
   "metadata": {
    "execution": {
     "iopub.execute_input": "2022-11-15T16:18:04.864825Z",
     "iopub.status.busy": "2022-11-15T16:18:04.864081Z",
     "iopub.status.idle": "2022-11-15T16:18:04.895005Z",
     "shell.execute_reply": "2022-11-15T16:18:04.894244Z"
    },
    "papermill": {
     "duration": 0.044838,
     "end_time": "2022-11-15T16:18:04.895157",
     "exception": false,
     "start_time": "2022-11-15T16:18:04.850319",
     "status": "completed"
    },
    "tags": []
   },
   "outputs": [],
   "source": [
    "# 데이터 불러오기 (datatime컬럼 지정)\n",
    "df = pd.read_csv(\"../input/bigdatacertificationkr/basic2.csv\", parse_dates=['Date'])"
   ]
  },
  {
   "cell_type": "code",
   "execution_count": 3,
   "id": "543cf1ae",
   "metadata": {
    "execution": {
     "iopub.execute_input": "2022-11-15T16:18:04.925809Z",
     "iopub.status.busy": "2022-11-15T16:18:04.924803Z",
     "iopub.status.idle": "2022-11-15T16:18:04.938602Z",
     "shell.execute_reply": "2022-11-15T16:18:04.939125Z"
    },
    "papermill": {
     "duration": 0.032402,
     "end_time": "2022-11-15T16:18:04.939300",
     "exception": false,
     "start_time": "2022-11-15T16:18:04.906898",
     "status": "completed"
    },
    "tags": []
   },
   "outputs": [
    {
     "data": {
      "text/html": [
       "<div>\n",
       "<style scoped>\n",
       "    .dataframe tbody tr th:only-of-type {\n",
       "        vertical-align: middle;\n",
       "    }\n",
       "\n",
       "    .dataframe tbody tr th {\n",
       "        vertical-align: top;\n",
       "    }\n",
       "\n",
       "    .dataframe thead th {\n",
       "        text-align: right;\n",
       "    }\n",
       "</style>\n",
       "<table border=\"1\" class=\"dataframe\">\n",
       "  <thead>\n",
       "    <tr style=\"text-align: right;\">\n",
       "      <th></th>\n",
       "      <th>Date</th>\n",
       "      <th>Sales</th>\n",
       "      <th>PV</th>\n",
       "      <th>UV</th>\n",
       "      <th>Events</th>\n",
       "    </tr>\n",
       "  </thead>\n",
       "  <tbody>\n",
       "    <tr>\n",
       "      <th>0</th>\n",
       "      <td>2022-01-01</td>\n",
       "      <td>22711525</td>\n",
       "      <td>397349</td>\n",
       "      <td>4421.0</td>\n",
       "      <td>1</td>\n",
       "    </tr>\n",
       "    <tr>\n",
       "      <th>1</th>\n",
       "      <td>2022-01-02</td>\n",
       "      <td>36779</td>\n",
       "      <td>3969</td>\n",
       "      <td>2289.0</td>\n",
       "      <td>0</td>\n",
       "    </tr>\n",
       "    <tr>\n",
       "      <th>2</th>\n",
       "      <td>2022-01-03</td>\n",
       "      <td>13943875</td>\n",
       "      <td>373890</td>\n",
       "      <td>NaN</td>\n",
       "      <td>1</td>\n",
       "    </tr>\n",
       "    <tr>\n",
       "      <th>3</th>\n",
       "      <td>2022-01-04</td>\n",
       "      <td>8088593</td>\n",
       "      <td>142054</td>\n",
       "      <td>2157.0</td>\n",
       "      <td>0</td>\n",
       "    </tr>\n",
       "    <tr>\n",
       "      <th>4</th>\n",
       "      <td>2022-01-05</td>\n",
       "      <td>2395374</td>\n",
       "      <td>190684</td>\n",
       "      <td>NaN</td>\n",
       "      <td>0</td>\n",
       "    </tr>\n",
       "  </tbody>\n",
       "</table>\n",
       "</div>"
      ],
      "text/plain": [
       "        Date     Sales      PV      UV  Events\n",
       "0 2022-01-01  22711525  397349  4421.0       1\n",
       "1 2022-01-02     36779    3969  2289.0       0\n",
       "2 2022-01-03  13943875  373890     NaN       1\n",
       "3 2022-01-04   8088593  142054  2157.0       0\n",
       "4 2022-01-05   2395374  190684     NaN       0"
      ]
     },
     "execution_count": 3,
     "metadata": {},
     "output_type": "execute_result"
    }
   ],
   "source": [
    "df.head()"
   ]
  },
  {
   "cell_type": "code",
   "execution_count": 4,
   "id": "527f3f1a",
   "metadata": {
    "execution": {
     "iopub.execute_input": "2022-11-15T16:18:04.982897Z",
     "iopub.status.busy": "2022-11-15T16:18:04.980515Z",
     "iopub.status.idle": "2022-11-15T16:18:04.987142Z",
     "shell.execute_reply": "2022-11-15T16:18:04.986476Z"
    },
    "papermill": {
     "duration": 0.037954,
     "end_time": "2022-11-15T16:18:04.987288",
     "exception": false,
     "start_time": "2022-11-15T16:18:04.949334",
     "status": "completed"
    },
    "tags": []
   },
   "outputs": [
    {
     "name": "stdout",
     "output_type": "stream",
     "text": [
      "<class 'pandas.core.frame.DataFrame'>\n",
      "RangeIndex: 730 entries, 0 to 729\n",
      "Data columns (total 5 columns):\n",
      " #   Column  Non-Null Count  Dtype         \n",
      "---  ------  --------------  -----         \n",
      " 0   Date    730 non-null    datetime64[ns]\n",
      " 1   Sales   730 non-null    int64         \n",
      " 2   PV      730 non-null    int64         \n",
      " 3   UV      684 non-null    float64       \n",
      " 4   Events  730 non-null    int64         \n",
      "dtypes: datetime64[ns](1), float64(1), int64(3)\n",
      "memory usage: 28.6 KB\n"
     ]
    }
   ],
   "source": [
    "df.info()"
   ]
  },
  {
   "cell_type": "code",
   "execution_count": 5,
   "id": "fd54e3bc",
   "metadata": {
    "execution": {
     "iopub.execute_input": "2022-11-15T16:18:05.013499Z",
     "iopub.status.busy": "2022-11-15T16:18:05.012708Z",
     "iopub.status.idle": "2022-11-15T16:18:05.019041Z",
     "shell.execute_reply": "2022-11-15T16:18:05.019620Z"
    },
    "papermill": {
     "duration": 0.022229,
     "end_time": "2022-11-15T16:18:05.019823",
     "exception": false,
     "start_time": "2022-11-15T16:18:04.997594",
     "status": "completed"
    },
    "tags": []
   },
   "outputs": [],
   "source": [
    "df['year'] = df['Date'].dt.year\n",
    "df['month'] = df['Date'].dt.month\n",
    "df['day'] = df['Date'].dt.day\n",
    "df['dayofweek'] = df['Date'].dt.dayofweek"
   ]
  },
  {
   "cell_type": "code",
   "execution_count": 6,
   "id": "62ed1266",
   "metadata": {
    "execution": {
     "iopub.execute_input": "2022-11-15T16:18:05.046689Z",
     "iopub.status.busy": "2022-11-15T16:18:05.045997Z",
     "iopub.status.idle": "2022-11-15T16:18:05.055901Z",
     "shell.execute_reply": "2022-11-15T16:18:05.056472Z"
    },
    "papermill": {
     "duration": 0.026424,
     "end_time": "2022-11-15T16:18:05.056674",
     "exception": false,
     "start_time": "2022-11-15T16:18:05.030250",
     "status": "completed"
    },
    "tags": []
   },
   "outputs": [
    {
     "data": {
      "text/html": [
       "<div>\n",
       "<style scoped>\n",
       "    .dataframe tbody tr th:only-of-type {\n",
       "        vertical-align: middle;\n",
       "    }\n",
       "\n",
       "    .dataframe tbody tr th {\n",
       "        vertical-align: top;\n",
       "    }\n",
       "\n",
       "    .dataframe thead th {\n",
       "        text-align: right;\n",
       "    }\n",
       "</style>\n",
       "<table border=\"1\" class=\"dataframe\">\n",
       "  <thead>\n",
       "    <tr style=\"text-align: right;\">\n",
       "      <th></th>\n",
       "      <th>Date</th>\n",
       "      <th>Sales</th>\n",
       "      <th>PV</th>\n",
       "      <th>UV</th>\n",
       "      <th>Events</th>\n",
       "      <th>year</th>\n",
       "      <th>month</th>\n",
       "      <th>day</th>\n",
       "      <th>dayofweek</th>\n",
       "    </tr>\n",
       "  </thead>\n",
       "  <tbody>\n",
       "    <tr>\n",
       "      <th>0</th>\n",
       "      <td>2022-01-01</td>\n",
       "      <td>22711525</td>\n",
       "      <td>397349</td>\n",
       "      <td>4421.0</td>\n",
       "      <td>1</td>\n",
       "      <td>2022</td>\n",
       "      <td>1</td>\n",
       "      <td>1</td>\n",
       "      <td>5</td>\n",
       "    </tr>\n",
       "    <tr>\n",
       "      <th>1</th>\n",
       "      <td>2022-01-02</td>\n",
       "      <td>36779</td>\n",
       "      <td>3969</td>\n",
       "      <td>2289.0</td>\n",
       "      <td>0</td>\n",
       "      <td>2022</td>\n",
       "      <td>1</td>\n",
       "      <td>2</td>\n",
       "      <td>6</td>\n",
       "    </tr>\n",
       "    <tr>\n",
       "      <th>2</th>\n",
       "      <td>2022-01-03</td>\n",
       "      <td>13943875</td>\n",
       "      <td>373890</td>\n",
       "      <td>NaN</td>\n",
       "      <td>1</td>\n",
       "      <td>2022</td>\n",
       "      <td>1</td>\n",
       "      <td>3</td>\n",
       "      <td>0</td>\n",
       "    </tr>\n",
       "    <tr>\n",
       "      <th>3</th>\n",
       "      <td>2022-01-04</td>\n",
       "      <td>8088593</td>\n",
       "      <td>142054</td>\n",
       "      <td>2157.0</td>\n",
       "      <td>0</td>\n",
       "      <td>2022</td>\n",
       "      <td>1</td>\n",
       "      <td>4</td>\n",
       "      <td>1</td>\n",
       "    </tr>\n",
       "    <tr>\n",
       "      <th>4</th>\n",
       "      <td>2022-01-05</td>\n",
       "      <td>2395374</td>\n",
       "      <td>190684</td>\n",
       "      <td>NaN</td>\n",
       "      <td>0</td>\n",
       "      <td>2022</td>\n",
       "      <td>1</td>\n",
       "      <td>5</td>\n",
       "      <td>2</td>\n",
       "    </tr>\n",
       "  </tbody>\n",
       "</table>\n",
       "</div>"
      ],
      "text/plain": [
       "        Date     Sales      PV      UV  Events  year  month  day  dayofweek\n",
       "0 2022-01-01  22711525  397349  4421.0       1  2022      1    1          5\n",
       "1 2022-01-02     36779    3969  2289.0       0  2022      1    2          6\n",
       "2 2022-01-03  13943875  373890     NaN       1  2022      1    3          0\n",
       "3 2022-01-04   8088593  142054  2157.0       0  2022      1    4          1\n",
       "4 2022-01-05   2395374  190684     NaN       0  2022      1    5          2"
      ]
     },
     "execution_count": 6,
     "metadata": {},
     "output_type": "execute_result"
    }
   ],
   "source": [
    "df.head()"
   ]
  },
  {
   "cell_type": "code",
   "execution_count": 7,
   "id": "f611e603",
   "metadata": {
    "execution": {
     "iopub.execute_input": "2022-11-15T16:18:05.082300Z",
     "iopub.status.busy": "2022-11-15T16:18:05.081567Z",
     "iopub.status.idle": "2022-11-15T16:18:05.086957Z",
     "shell.execute_reply": "2022-11-15T16:18:05.087514Z"
    },
    "papermill": {
     "duration": 0.020099,
     "end_time": "2022-11-15T16:18:05.087715",
     "exception": false,
     "start_time": "2022-11-15T16:18:05.067616",
     "status": "completed"
    },
    "tags": []
   },
   "outputs": [],
   "source": [
    "df['weekend'] = df['dayofweek'].apply(lambda x: x>=5)"
   ]
  },
  {
   "cell_type": "code",
   "execution_count": 8,
   "id": "37fe22ee",
   "metadata": {
    "execution": {
     "iopub.execute_input": "2022-11-15T16:18:05.124100Z",
     "iopub.status.busy": "2022-11-15T16:18:05.115788Z",
     "iopub.status.idle": "2022-11-15T16:18:05.128201Z",
     "shell.execute_reply": "2022-11-15T16:18:05.127567Z"
    },
    "papermill": {
     "duration": 0.02939,
     "end_time": "2022-11-15T16:18:05.128350",
     "exception": false,
     "start_time": "2022-11-15T16:18:05.098960",
     "status": "completed"
    },
    "tags": []
   },
   "outputs": [
    {
     "data": {
      "text/html": [
       "<div>\n",
       "<style scoped>\n",
       "    .dataframe tbody tr th:only-of-type {\n",
       "        vertical-align: middle;\n",
       "    }\n",
       "\n",
       "    .dataframe tbody tr th {\n",
       "        vertical-align: top;\n",
       "    }\n",
       "\n",
       "    .dataframe thead th {\n",
       "        text-align: right;\n",
       "    }\n",
       "</style>\n",
       "<table border=\"1\" class=\"dataframe\">\n",
       "  <thead>\n",
       "    <tr style=\"text-align: right;\">\n",
       "      <th></th>\n",
       "      <th>Date</th>\n",
       "      <th>Sales</th>\n",
       "      <th>PV</th>\n",
       "      <th>UV</th>\n",
       "      <th>Events</th>\n",
       "      <th>year</th>\n",
       "      <th>month</th>\n",
       "      <th>day</th>\n",
       "      <th>dayofweek</th>\n",
       "      <th>weekend</th>\n",
       "    </tr>\n",
       "  </thead>\n",
       "  <tbody>\n",
       "    <tr>\n",
       "      <th>0</th>\n",
       "      <td>2022-01-01</td>\n",
       "      <td>22711525</td>\n",
       "      <td>397349</td>\n",
       "      <td>4421.0</td>\n",
       "      <td>1</td>\n",
       "      <td>2022</td>\n",
       "      <td>1</td>\n",
       "      <td>1</td>\n",
       "      <td>5</td>\n",
       "      <td>True</td>\n",
       "    </tr>\n",
       "    <tr>\n",
       "      <th>1</th>\n",
       "      <td>2022-01-02</td>\n",
       "      <td>36779</td>\n",
       "      <td>3969</td>\n",
       "      <td>2289.0</td>\n",
       "      <td>0</td>\n",
       "      <td>2022</td>\n",
       "      <td>1</td>\n",
       "      <td>2</td>\n",
       "      <td>6</td>\n",
       "      <td>True</td>\n",
       "    </tr>\n",
       "    <tr>\n",
       "      <th>2</th>\n",
       "      <td>2022-01-03</td>\n",
       "      <td>13943875</td>\n",
       "      <td>373890</td>\n",
       "      <td>NaN</td>\n",
       "      <td>1</td>\n",
       "      <td>2022</td>\n",
       "      <td>1</td>\n",
       "      <td>3</td>\n",
       "      <td>0</td>\n",
       "      <td>False</td>\n",
       "    </tr>\n",
       "    <tr>\n",
       "      <th>3</th>\n",
       "      <td>2022-01-04</td>\n",
       "      <td>8088593</td>\n",
       "      <td>142054</td>\n",
       "      <td>2157.0</td>\n",
       "      <td>0</td>\n",
       "      <td>2022</td>\n",
       "      <td>1</td>\n",
       "      <td>4</td>\n",
       "      <td>1</td>\n",
       "      <td>False</td>\n",
       "    </tr>\n",
       "    <tr>\n",
       "      <th>4</th>\n",
       "      <td>2022-01-05</td>\n",
       "      <td>2395374</td>\n",
       "      <td>190684</td>\n",
       "      <td>NaN</td>\n",
       "      <td>0</td>\n",
       "      <td>2022</td>\n",
       "      <td>1</td>\n",
       "      <td>5</td>\n",
       "      <td>2</td>\n",
       "      <td>False</td>\n",
       "    </tr>\n",
       "  </tbody>\n",
       "</table>\n",
       "</div>"
      ],
      "text/plain": [
       "        Date     Sales      PV      UV  Events  year  month  day  dayofweek  \\\n",
       "0 2022-01-01  22711525  397349  4421.0       1  2022      1    1          5   \n",
       "1 2022-01-02     36779    3969  2289.0       0  2022      1    2          6   \n",
       "2 2022-01-03  13943875  373890     NaN       1  2022      1    3          0   \n",
       "3 2022-01-04   8088593  142054  2157.0       0  2022      1    4          1   \n",
       "4 2022-01-05   2395374  190684     NaN       0  2022      1    5          2   \n",
       "\n",
       "   weekend  \n",
       "0     True  \n",
       "1     True  \n",
       "2    False  \n",
       "3    False  \n",
       "4    False  "
      ]
     },
     "execution_count": 8,
     "metadata": {},
     "output_type": "execute_result"
    }
   ],
   "source": [
    "df.head()"
   ]
  },
  {
   "cell_type": "code",
   "execution_count": 9,
   "id": "bb9e4c86",
   "metadata": {
    "execution": {
     "iopub.execute_input": "2022-11-15T16:18:05.160005Z",
     "iopub.status.busy": "2022-11-15T16:18:05.158969Z",
     "iopub.status.idle": "2022-11-15T16:18:05.161705Z",
     "shell.execute_reply": "2022-11-15T16:18:05.161036Z"
    },
    "papermill": {
     "duration": 0.021792,
     "end_time": "2022-11-15T16:18:05.161857",
     "exception": false,
     "start_time": "2022-11-15T16:18:05.140065",
     "status": "completed"
    },
    "tags": []
   },
   "outputs": [],
   "source": [
    "weekend_cond = (df['year']==2022) & (df['month']==5) & (df['weekend'])\n",
    "weekday_cond = (df['year']==2022) & (df['month']==5) & (~df['weekend'])"
   ]
  },
  {
   "cell_type": "code",
   "execution_count": 10,
   "id": "bff34ee3",
   "metadata": {
    "execution": {
     "iopub.execute_input": "2022-11-15T16:18:05.192494Z",
     "iopub.status.busy": "2022-11-15T16:18:05.190085Z",
     "iopub.status.idle": "2022-11-15T16:18:05.198269Z",
     "shell.execute_reply": "2022-11-15T16:18:05.197571Z"
    },
    "papermill": {
     "duration": 0.02484,
     "end_time": "2022-11-15T16:18:05.198417",
     "exception": false,
     "start_time": "2022-11-15T16:18:05.173577",
     "status": "completed"
    },
    "tags": []
   },
   "outputs": [],
   "source": [
    "weekend = df[weekend_cond]['Sales'].mean()\n",
    "weekday = df[weekday_cond]['Sales'].mean()"
   ]
  },
  {
   "cell_type": "code",
   "execution_count": 11,
   "id": "26278949",
   "metadata": {
    "execution": {
     "iopub.execute_input": "2022-11-15T16:18:05.229604Z",
     "iopub.status.busy": "2022-11-15T16:18:05.228937Z",
     "iopub.status.idle": "2022-11-15T16:18:05.232892Z",
     "shell.execute_reply": "2022-11-15T16:18:05.232222Z"
    },
    "papermill": {
     "duration": 0.02198,
     "end_time": "2022-11-15T16:18:05.233046",
     "exception": false,
     "start_time": "2022-11-15T16:18:05.211066",
     "status": "completed"
    },
    "tags": []
   },
   "outputs": [
    {
     "data": {
      "text/plain": [
       "3010339.1"
      ]
     },
     "execution_count": 11,
     "metadata": {},
     "output_type": "execute_result"
    }
   ],
   "source": [
    "round(weekend - weekday, 1)"
   ]
  },
  {
   "cell_type": "code",
   "execution_count": null,
   "id": "9268538d",
   "metadata": {
    "papermill": {
     "duration": 0.011838,
     "end_time": "2022-11-15T16:18:05.257276",
     "exception": false,
     "start_time": "2022-11-15T16:18:05.245438",
     "status": "completed"
    },
    "tags": []
   },
   "outputs": [],
   "source": []
  }
 ],
 "metadata": {
  "kernelspec": {
   "display_name": "Python 3",
   "language": "python",
   "name": "python3"
  },
  "language_info": {
   "codemirror_mode": {
    "name": "ipython",
    "version": 3
   },
   "file_extension": ".py",
   "mimetype": "text/x-python",
   "name": "python",
   "nbconvert_exporter": "python",
   "pygments_lexer": "ipython3",
   "version": "3.7.10"
  },
  "papermill": {
   "default_parameters": {},
   "duration": 10.345898,
   "end_time": "2022-11-15T16:18:05.879985",
   "environment_variables": {},
   "exception": null,
   "input_path": "__notebook__.ipynb",
   "output_path": "__notebook__.ipynb",
   "parameters": {},
   "start_time": "2022-11-15T16:17:55.534087",
   "version": "2.3.3"
  }
 },
 "nbformat": 4,
 "nbformat_minor": 5
}
