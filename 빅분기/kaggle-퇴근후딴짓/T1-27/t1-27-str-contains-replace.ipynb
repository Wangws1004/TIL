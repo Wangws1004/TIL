{
 "cells": [
  {
   "cell_type": "markdown",
   "id": "c7281bcd",
   "metadata": {
    "papermill": {
     "duration": 0.003709,
     "end_time": "2022-11-29T13:52:40.577164",
     "exception": false,
     "start_time": "2022-11-29T13:52:40.573455",
     "status": "completed"
    },
    "tags": []
   },
   "source": [
    "## T1-27. 바닐라라떼 5점, 카페라떼 3점, 아메리카노 2점, 나머지 0점이다 총 메뉴의 점수를 더한 값은?"
   ]
  },
  {
   "cell_type": "code",
   "execution_count": 1,
   "id": "31575841",
   "metadata": {
    "_cell_guid": "b1076dfc-b9ad-4769-8c92-a6c4dae69d19",
    "_uuid": "8f2839f25d086af736a60e9eeb907d3b93b6e0e5",
    "execution": {
     "iopub.execute_input": "2022-11-29T13:52:40.585173Z",
     "iopub.status.busy": "2022-11-29T13:52:40.584521Z",
     "iopub.status.idle": "2022-11-29T13:52:40.638689Z",
     "shell.execute_reply": "2022-11-29T13:52:40.637338Z"
    },
    "papermill": {
     "duration": 0.0619,
     "end_time": "2022-11-29T13:52:40.642057",
     "exception": false,
     "start_time": "2022-11-29T13:52:40.580157",
     "status": "completed"
    },
    "tags": []
   },
   "outputs": [
    {
     "data": {
      "text/html": [
       "<div>\n",
       "<style scoped>\n",
       "    .dataframe tbody tr th:only-of-type {\n",
       "        vertical-align: middle;\n",
       "    }\n",
       "\n",
       "    .dataframe tbody tr th {\n",
       "        vertical-align: top;\n",
       "    }\n",
       "\n",
       "    .dataframe thead th {\n",
       "        text-align: right;\n",
       "    }\n",
       "</style>\n",
       "<table border=\"1\" class=\"dataframe\">\n",
       "  <thead>\n",
       "    <tr style=\"text-align: right;\">\n",
       "      <th></th>\n",
       "      <th>date</th>\n",
       "      <th>hour</th>\n",
       "      <th>menu</th>\n",
       "      <th>price</th>\n",
       "    </tr>\n",
       "  </thead>\n",
       "  <tbody>\n",
       "    <tr>\n",
       "      <th>0</th>\n",
       "      <td>20221129</td>\n",
       "      <td>13</td>\n",
       "      <td>딸기라떼</td>\n",
       "      <td>4000</td>\n",
       "    </tr>\n",
       "    <tr>\n",
       "      <th>1</th>\n",
       "      <td>20221130</td>\n",
       "      <td>12</td>\n",
       "      <td>카페라떼</td>\n",
       "      <td>3000</td>\n",
       "    </tr>\n",
       "    <tr>\n",
       "      <th>2</th>\n",
       "      <td>20221201</td>\n",
       "      <td>14</td>\n",
       "      <td>바닐라라떼</td>\n",
       "      <td>3500</td>\n",
       "    </tr>\n",
       "    <tr>\n",
       "      <th>3</th>\n",
       "      <td>20221201</td>\n",
       "      <td>16</td>\n",
       "      <td>초코라떼</td>\n",
       "      <td>3500</td>\n",
       "    </tr>\n",
       "    <tr>\n",
       "      <th>4</th>\n",
       "      <td>20221202</td>\n",
       "      <td>17</td>\n",
       "      <td>모카라떼</td>\n",
       "      <td>3500</td>\n",
       "    </tr>\n",
       "    <tr>\n",
       "      <th>5</th>\n",
       "      <td>20221202</td>\n",
       "      <td>12</td>\n",
       "      <td>카라멜라떼</td>\n",
       "      <td>3500</td>\n",
       "    </tr>\n",
       "    <tr>\n",
       "      <th>6</th>\n",
       "      <td>20221203</td>\n",
       "      <td>8</td>\n",
       "      <td>챠이 라떼</td>\n",
       "      <td>3500</td>\n",
       "    </tr>\n",
       "    <tr>\n",
       "      <th>7</th>\n",
       "      <td>20221203</td>\n",
       "      <td>9</td>\n",
       "      <td>아메리카노</td>\n",
       "      <td>2000</td>\n",
       "    </tr>\n",
       "    <tr>\n",
       "      <th>8</th>\n",
       "      <td>20221203</td>\n",
       "      <td>15</td>\n",
       "      <td>오곡 라떼</td>\n",
       "      <td>4000</td>\n",
       "    </tr>\n",
       "    <tr>\n",
       "      <th>9</th>\n",
       "      <td>20221203</td>\n",
       "      <td>16</td>\n",
       "      <td>아메리카노</td>\n",
       "      <td>2000</td>\n",
       "    </tr>\n",
       "    <tr>\n",
       "      <th>10</th>\n",
       "      <td>20221225</td>\n",
       "      <td>10</td>\n",
       "      <td>아메리카노</td>\n",
       "      <td>2000</td>\n",
       "    </tr>\n",
       "    <tr>\n",
       "      <th>11</th>\n",
       "      <td>20221225</td>\n",
       "      <td>14</td>\n",
       "      <td>토피넛 라떼</td>\n",
       "      <td>4000</td>\n",
       "    </tr>\n",
       "    <tr>\n",
       "      <th>12</th>\n",
       "      <td>20221225</td>\n",
       "      <td>16</td>\n",
       "      <td>카페 라떼</td>\n",
       "      <td>3000</td>\n",
       "    </tr>\n",
       "  </tbody>\n",
       "</table>\n",
       "</div>"
      ],
      "text/plain": [
       "        date  hour    menu  price\n",
       "0   20221129    13    딸기라떼   4000\n",
       "1   20221130    12    카페라떼   3000\n",
       "2   20221201    14   바닐라라떼   3500\n",
       "3   20221201    16    초코라떼   3500\n",
       "4   20221202    17    모카라떼   3500\n",
       "5   20221202    12   카라멜라떼   3500\n",
       "6   20221203     8   챠이 라떼   3500\n",
       "7   20221203     9   아메리카노   2000\n",
       "8   20221203    15   오곡 라떼   4000\n",
       "9   20221203    16   아메리카노   2000\n",
       "10  20221225    10   아메리카노   2000\n",
       "11  20221225    14  토피넛 라떼   4000\n",
       "12  20221225    16   카페 라떼   3000"
      ]
     },
     "execution_count": 1,
     "metadata": {},
     "output_type": "execute_result"
    }
   ],
   "source": [
    "import pandas as pd\n",
    "df = pd.read_csv(\"/kaggle/input/bigdatacertificationkr/payment.csv\")\n",
    "df"
   ]
  },
  {
   "cell_type": "code",
   "execution_count": 2,
   "id": "13974f9b",
   "metadata": {
    "execution": {
     "iopub.execute_input": "2022-11-29T13:52:40.649720Z",
     "iopub.status.busy": "2022-11-29T13:52:40.649337Z",
     "iopub.status.idle": "2022-11-29T13:52:40.654905Z",
     "shell.execute_reply": "2022-11-29T13:52:40.653644Z"
    },
    "papermill": {
     "duration": 0.013027,
     "end_time": "2022-11-29T13:52:40.658119",
     "exception": false,
     "start_time": "2022-11-29T13:52:40.645092",
     "status": "completed"
    },
    "tags": []
   },
   "outputs": [],
   "source": [
    "# your code"
   ]
  },
  {
   "cell_type": "code",
   "execution_count": null,
   "id": "1ea35e06",
   "metadata": {
    "papermill": {
     "duration": 0.003014,
     "end_time": "2022-11-29T13:52:40.664322",
     "exception": false,
     "start_time": "2022-11-29T13:52:40.661308",
     "status": "completed"
    },
    "tags": []
   },
   "outputs": [],
   "source": []
  },
  {
   "cell_type": "code",
   "execution_count": null,
   "id": "8681bc94",
   "metadata": {
    "papermill": {
     "duration": 0.002615,
     "end_time": "2022-11-29T13:52:40.670019",
     "exception": false,
     "start_time": "2022-11-29T13:52:40.667404",
     "status": "completed"
    },
    "tags": []
   },
   "outputs": [],
   "source": []
  },
  {
   "cell_type": "code",
   "execution_count": null,
   "id": "7c49c85d",
   "metadata": {
    "papermill": {
     "duration": 0.002604,
     "end_time": "2022-11-29T13:52:40.675537",
     "exception": false,
     "start_time": "2022-11-29T13:52:40.672933",
     "status": "completed"
    },
    "tags": []
   },
   "outputs": [],
   "source": []
  },
  {
   "cell_type": "code",
   "execution_count": null,
   "id": "ca1860d9",
   "metadata": {
    "papermill": {
     "duration": 0.002547,
     "end_time": "2022-11-29T13:52:40.681026",
     "exception": false,
     "start_time": "2022-11-29T13:52:40.678479",
     "status": "completed"
    },
    "tags": []
   },
   "outputs": [],
   "source": []
  },
  {
   "cell_type": "code",
   "execution_count": 3,
   "id": "a1f55fc2",
   "metadata": {
    "execution": {
     "iopub.execute_input": "2022-11-29T13:52:40.688761Z",
     "iopub.status.busy": "2022-11-29T13:52:40.688357Z",
     "iopub.status.idle": "2022-11-29T13:52:40.704061Z",
     "shell.execute_reply": "2022-11-29T13:52:40.702825Z"
    },
    "papermill": {
     "duration": 0.022892,
     "end_time": "2022-11-29T13:52:40.706818",
     "exception": false,
     "start_time": "2022-11-29T13:52:40.683926",
     "status": "completed"
    },
    "tags": []
   },
   "outputs": [
    {
     "name": "stdout",
     "output_type": "stream",
     "text": [
      "17\n"
     ]
    }
   ],
   "source": [
    "# 풀이\n",
    "df['menu'] = df['menu'].str.replace(' ','')\n",
    "s1 = sum(df['menu'].str.contains(\"바닐라라떼\"))\n",
    "s2 = sum(df['menu'].str.contains(\"카페라떼\"))\n",
    "s3 = sum(df['menu'].str.contains(\"아메리카노\"))\n",
    "print((s1*5) + (s2*3) + (s3*2))"
   ]
  }
 ],
 "metadata": {
  "kernelspec": {
   "display_name": "Python 3",
   "language": "python",
   "name": "python3"
  },
  "language_info": {
   "codemirror_mode": {
    "name": "ipython",
    "version": 3
   },
   "file_extension": ".py",
   "mimetype": "text/x-python",
   "name": "python",
   "nbconvert_exporter": "python",
   "pygments_lexer": "ipython3",
   "version": "3.7.12"
  },
  "papermill": {
   "default_parameters": {},
   "duration": 11.393534,
   "end_time": "2022-11-29T13:52:41.433121",
   "environment_variables": {},
   "exception": null,
   "input_path": "__notebook__.ipynb",
   "output_path": "__notebook__.ipynb",
   "parameters": {},
   "start_time": "2022-11-29T13:52:30.039587",
   "version": "2.3.4"
  }
 },
 "nbformat": 4,
 "nbformat_minor": 5
}
