{
 "cells": [
  {
   "cell_type": "markdown",
   "id": "488f8e87",
   "metadata": {
    "papermill": {
     "duration": 0.009455,
     "end_time": "2021-11-16T04:13:39.165264",
     "exception": false,
     "start_time": "2021-11-16T04:13:39.155809",
     "status": "completed"
    },
    "tags": []
   },
   "source": [
    "### 주어진 데이터에서 2022년 월별 Sales 합계 중 가장 큰 금액과 \n",
    "### 2023년 월별 Sales 합계 중 가장 큰 금액의 차이를 절대값으로 구하시오. \n",
    "### 단 Events컬럼이 '1'인경우 80%의 Salse값만 반영함 \n",
    "### (최종값은 소수점 반올림 후 정수 출력)\n",
    "- 데이터셋 : basic2.csv\n",
    "- 오른쪽 상단 copy&edit 클릭 -> 예상문제 풀이 시작"
   ]
  },
  {
   "cell_type": "code",
   "execution_count": 1,
   "id": "e843d168",
   "metadata": {
    "_cell_guid": "b1076dfc-b9ad-4769-8c92-a6c4dae69d19",
    "_uuid": "8f2839f25d086af736a60e9eeb907d3b93b6e0e5",
    "execution": {
     "iopub.execute_input": "2021-11-16T04:13:39.188659Z",
     "iopub.status.busy": "2021-11-16T04:13:39.186829Z",
     "iopub.status.idle": "2021-11-16T04:13:39.198442Z",
     "shell.execute_reply": "2021-11-16T04:13:39.199028Z",
     "shell.execute_reply.started": "2021-11-14T13:08:57.154254Z"
    },
    "papermill": {
     "duration": 0.025209,
     "end_time": "2021-11-16T04:13:39.199361",
     "exception": false,
     "start_time": "2021-11-16T04:13:39.174152",
     "status": "completed"
    },
    "tags": []
   },
   "outputs": [],
   "source": [
    "# 라이브러리 불러오기\n",
    "import pandas as pd"
   ]
  },
  {
   "cell_type": "code",
   "execution_count": 2,
   "id": "a3df9ac9",
   "metadata": {
    "execution": {
     "iopub.execute_input": "2021-11-16T04:13:39.221842Z",
     "iopub.status.busy": "2021-11-16T04:13:39.221050Z",
     "iopub.status.idle": "2021-11-16T04:13:39.243814Z",
     "shell.execute_reply": "2021-11-16T04:13:39.244462Z",
     "shell.execute_reply.started": "2021-11-14T13:08:57.160794Z"
    },
    "papermill": {
     "duration": 0.036806,
     "end_time": "2021-11-16T04:13:39.244647",
     "exception": false,
     "start_time": "2021-11-16T04:13:39.207841",
     "status": "completed"
    },
    "tags": []
   },
   "outputs": [],
   "source": [
    "# 데이터 불러오기 (datatime컬럼 지정)\n",
    "df = pd.read_csv(\"../input/bigdatacertificationkr/basic2.csv\", \n",
    "                 parse_dates=['Date'])"
   ]
  },
  {
   "cell_type": "code",
   "execution_count": 3,
   "id": "abdb1db9",
   "metadata": {
    "execution": {
     "iopub.execute_input": "2021-11-16T04:13:39.267455Z",
     "iopub.status.busy": "2021-11-16T04:13:39.266434Z",
     "iopub.status.idle": "2021-11-16T04:13:39.287011Z",
     "shell.execute_reply": "2021-11-16T04:13:39.287531Z",
     "shell.execute_reply.started": "2021-11-14T13:08:57.184678Z"
    },
    "papermill": {
     "duration": 0.034629,
     "end_time": "2021-11-16T04:13:39.287741",
     "exception": false,
     "start_time": "2021-11-16T04:13:39.253112",
     "status": "completed"
    },
    "tags": []
   },
   "outputs": [
    {
     "data": {
      "text/html": [
       "<div>\n",
       "<style scoped>\n",
       "    .dataframe tbody tr th:only-of-type {\n",
       "        vertical-align: middle;\n",
       "    }\n",
       "\n",
       "    .dataframe tbody tr th {\n",
       "        vertical-align: top;\n",
       "    }\n",
       "\n",
       "    .dataframe thead th {\n",
       "        text-align: right;\n",
       "    }\n",
       "</style>\n",
       "<table border=\"1\" class=\"dataframe\">\n",
       "  <thead>\n",
       "    <tr style=\"text-align: right;\">\n",
       "      <th></th>\n",
       "      <th>Date</th>\n",
       "      <th>Sales</th>\n",
       "      <th>PV</th>\n",
       "      <th>UV</th>\n",
       "      <th>Events</th>\n",
       "    </tr>\n",
       "  </thead>\n",
       "  <tbody>\n",
       "    <tr>\n",
       "      <th>0</th>\n",
       "      <td>2022-01-01</td>\n",
       "      <td>22711525</td>\n",
       "      <td>397349</td>\n",
       "      <td>4421.0</td>\n",
       "      <td>1</td>\n",
       "    </tr>\n",
       "    <tr>\n",
       "      <th>1</th>\n",
       "      <td>2022-01-02</td>\n",
       "      <td>36779</td>\n",
       "      <td>3969</td>\n",
       "      <td>2289.0</td>\n",
       "      <td>0</td>\n",
       "    </tr>\n",
       "    <tr>\n",
       "      <th>2</th>\n",
       "      <td>2022-01-03</td>\n",
       "      <td>13943875</td>\n",
       "      <td>373890</td>\n",
       "      <td>NaN</td>\n",
       "      <td>1</td>\n",
       "    </tr>\n",
       "    <tr>\n",
       "      <th>3</th>\n",
       "      <td>2022-01-04</td>\n",
       "      <td>8088593</td>\n",
       "      <td>142054</td>\n",
       "      <td>2157.0</td>\n",
       "      <td>0</td>\n",
       "    </tr>\n",
       "    <tr>\n",
       "      <th>4</th>\n",
       "      <td>2022-01-05</td>\n",
       "      <td>2395374</td>\n",
       "      <td>190684</td>\n",
       "      <td>NaN</td>\n",
       "      <td>0</td>\n",
       "    </tr>\n",
       "  </tbody>\n",
       "</table>\n",
       "</div>"
      ],
      "text/plain": [
       "        Date     Sales      PV      UV  Events\n",
       "0 2022-01-01  22711525  397349  4421.0       1\n",
       "1 2022-01-02     36779    3969  2289.0       0\n",
       "2 2022-01-03  13943875  373890     NaN       1\n",
       "3 2022-01-04   8088593  142054  2157.0       0\n",
       "4 2022-01-05   2395374  190684     NaN       0"
      ]
     },
     "execution_count": 3,
     "metadata": {},
     "output_type": "execute_result"
    }
   ],
   "source": [
    "df.head()"
   ]
  },
  {
   "cell_type": "code",
   "execution_count": 4,
   "id": "48dcaab1",
   "metadata": {
    "execution": {
     "iopub.execute_input": "2021-11-16T04:13:39.309945Z",
     "iopub.status.busy": "2021-11-16T04:13:39.308892Z",
     "iopub.status.idle": "2021-11-16T04:13:39.323767Z",
     "shell.execute_reply": "2021-11-16T04:13:39.323166Z",
     "shell.execute_reply.started": "2021-11-14T13:08:57.198185Z"
    },
    "papermill": {
     "duration": 0.027059,
     "end_time": "2021-11-16T04:13:39.323926",
     "exception": false,
     "start_time": "2021-11-16T04:13:39.296867",
     "status": "completed"
    },
    "tags": []
   },
   "outputs": [],
   "source": [
    "# 날짜 컬럼 생성\n",
    "df['year'] = df['Date'].dt.year\n",
    "df['month'] = df['Date'].dt.month\n",
    "df['day'] = df['Date'].dt.day\n",
    "df['dayofweek'] = df['Date'].dt.dayofweek"
   ]
  },
  {
   "cell_type": "code",
   "execution_count": 5,
   "id": "14a518f0",
   "metadata": {
    "execution": {
     "iopub.execute_input": "2021-11-16T04:13:39.349394Z",
     "iopub.status.busy": "2021-11-16T04:13:39.348647Z",
     "iopub.status.idle": "2021-11-16T04:13:39.834809Z",
     "shell.execute_reply": "2021-11-16T04:13:39.834242Z",
     "shell.execute_reply.started": "2021-11-14T13:08:57.210572Z"
    },
    "papermill": {
     "duration": 0.502068,
     "end_time": "2021-11-16T04:13:39.834972",
     "exception": false,
     "start_time": "2021-11-16T04:13:39.332904",
     "status": "completed"
    },
    "tags": []
   },
   "outputs": [
    {
     "data": {
      "text/html": [
       "<div>\n",
       "<style scoped>\n",
       "    .dataframe tbody tr th:only-of-type {\n",
       "        vertical-align: middle;\n",
       "    }\n",
       "\n",
       "    .dataframe tbody tr th {\n",
       "        vertical-align: top;\n",
       "    }\n",
       "\n",
       "    .dataframe thead th {\n",
       "        text-align: right;\n",
       "    }\n",
       "</style>\n",
       "<table border=\"1\" class=\"dataframe\">\n",
       "  <thead>\n",
       "    <tr style=\"text-align: right;\">\n",
       "      <th></th>\n",
       "      <th>Date</th>\n",
       "      <th>Sales</th>\n",
       "      <th>PV</th>\n",
       "      <th>UV</th>\n",
       "      <th>Events</th>\n",
       "      <th>year</th>\n",
       "      <th>month</th>\n",
       "      <th>day</th>\n",
       "      <th>dayofweek</th>\n",
       "      <th>Sales2</th>\n",
       "    </tr>\n",
       "  </thead>\n",
       "  <tbody>\n",
       "    <tr>\n",
       "      <th>0</th>\n",
       "      <td>2022-01-01</td>\n",
       "      <td>22711525</td>\n",
       "      <td>397349</td>\n",
       "      <td>4421.0</td>\n",
       "      <td>1</td>\n",
       "      <td>2022</td>\n",
       "      <td>1</td>\n",
       "      <td>1</td>\n",
       "      <td>5</td>\n",
       "      <td>18169220.0</td>\n",
       "    </tr>\n",
       "    <tr>\n",
       "      <th>1</th>\n",
       "      <td>2022-01-02</td>\n",
       "      <td>36779</td>\n",
       "      <td>3969</td>\n",
       "      <td>2289.0</td>\n",
       "      <td>0</td>\n",
       "      <td>2022</td>\n",
       "      <td>1</td>\n",
       "      <td>2</td>\n",
       "      <td>6</td>\n",
       "      <td>36779.0</td>\n",
       "    </tr>\n",
       "    <tr>\n",
       "      <th>2</th>\n",
       "      <td>2022-01-03</td>\n",
       "      <td>13943875</td>\n",
       "      <td>373890</td>\n",
       "      <td>NaN</td>\n",
       "      <td>1</td>\n",
       "      <td>2022</td>\n",
       "      <td>1</td>\n",
       "      <td>3</td>\n",
       "      <td>0</td>\n",
       "      <td>11155100.0</td>\n",
       "    </tr>\n",
       "    <tr>\n",
       "      <th>3</th>\n",
       "      <td>2022-01-04</td>\n",
       "      <td>8088593</td>\n",
       "      <td>142054</td>\n",
       "      <td>2157.0</td>\n",
       "      <td>0</td>\n",
       "      <td>2022</td>\n",
       "      <td>1</td>\n",
       "      <td>4</td>\n",
       "      <td>1</td>\n",
       "      <td>8088593.0</td>\n",
       "    </tr>\n",
       "    <tr>\n",
       "      <th>4</th>\n",
       "      <td>2022-01-05</td>\n",
       "      <td>2395374</td>\n",
       "      <td>190684</td>\n",
       "      <td>NaN</td>\n",
       "      <td>0</td>\n",
       "      <td>2022</td>\n",
       "      <td>1</td>\n",
       "      <td>5</td>\n",
       "      <td>2</td>\n",
       "      <td>2395374.0</td>\n",
       "    </tr>\n",
       "  </tbody>\n",
       "</table>\n",
       "</div>"
      ],
      "text/plain": [
       "        Date     Sales      PV      UV  Events  year  month  day  dayofweek  \\\n",
       "0 2022-01-01  22711525  397349  4421.0       1  2022      1    1          5   \n",
       "1 2022-01-02     36779    3969  2289.0       0  2022      1    2          6   \n",
       "2 2022-01-03  13943875  373890     NaN       1  2022      1    3          0   \n",
       "3 2022-01-04   8088593  142054  2157.0       0  2022      1    4          1   \n",
       "4 2022-01-05   2395374  190684     NaN       0  2022      1    5          2   \n",
       "\n",
       "       Sales2  \n",
       "0  18169220.0  \n",
       "1     36779.0  \n",
       "2  11155100.0  \n",
       "3   8088593.0  \n",
       "4   2395374.0  "
      ]
     },
     "execution_count": 5,
     "metadata": {},
     "output_type": "execute_result"
    }
   ],
   "source": [
    "# 이벤트가 1인 sales값은 80%만 반영\n",
    "\n",
    "def event_sales(x):\n",
    "    if x['Events'] == 1:\n",
    "        x['Sales2'] = x['Sales']*0.8\n",
    "    else:\n",
    "        x['Sales2'] = x['Sales']\n",
    "    return x\n",
    "\n",
    "\n",
    "df = df.apply(lambda x: event_sales(x), axis=1) #1일 경우 row, 0일 경우 컬럼\n",
    "df.head()"
   ]
  },
  {
   "cell_type": "code",
   "execution_count": 6,
   "id": "0bb3b604",
   "metadata": {
    "execution": {
     "iopub.execute_input": "2021-11-16T04:13:39.861141Z",
     "iopub.status.busy": "2021-11-16T04:13:39.860424Z",
     "iopub.status.idle": "2021-11-16T04:13:39.870354Z",
     "shell.execute_reply": "2021-11-16T04:13:39.870836Z",
     "shell.execute_reply.started": "2021-11-14T13:08:57.696874Z"
    },
    "papermill": {
     "duration": 0.026476,
     "end_time": "2021-11-16T04:13:39.871037",
     "exception": false,
     "start_time": "2021-11-16T04:13:39.844561",
     "status": "completed"
    },
    "tags": []
   },
   "outputs": [
    {
     "data": {
      "text/plain": [
       "197145878.0"
      ]
     },
     "execution_count": 6,
     "metadata": {},
     "output_type": "execute_result"
    }
   ],
   "source": [
    "# 2022년 월별 합계 중 가장 큰 값\n",
    "cond = df['year'] == 2022\n",
    "df1 = df[cond]\n",
    "sale1 = df1.groupby('month')['Sales2'].sum().max()\n",
    "sale1"
   ]
  },
  {
   "cell_type": "code",
   "execution_count": 7,
   "id": "ca748f55",
   "metadata": {
    "execution": {
     "iopub.execute_input": "2021-11-16T04:13:39.894002Z",
     "iopub.status.busy": "2021-11-16T04:13:39.893269Z",
     "iopub.status.idle": "2021-11-16T04:13:39.901055Z",
     "shell.execute_reply": "2021-11-16T04:13:39.901554Z",
     "shell.execute_reply.started": "2021-11-14T13:08:57.708719Z"
    },
    "papermill": {
     "duration": 0.020906,
     "end_time": "2021-11-16T04:13:39.901726",
     "exception": false,
     "start_time": "2021-11-16T04:13:39.880820",
     "status": "completed"
    },
    "tags": []
   },
   "outputs": [
    {
     "data": {
      "text/plain": [
       "239619313.8"
      ]
     },
     "execution_count": 7,
     "metadata": {},
     "output_type": "execute_result"
    }
   ],
   "source": [
    "# 2023년 월별 합계 중 가장 큰 값\n",
    "cond = df['year'] == 2023\n",
    "df2 = df[cond]\n",
    "sale2 = df2.groupby('month')['Sales2'].sum().max()\n",
    "sale2"
   ]
  },
  {
   "cell_type": "code",
   "execution_count": 8,
   "id": "ecdfc19d",
   "metadata": {
    "execution": {
     "iopub.execute_input": "2021-11-16T04:13:39.927024Z",
     "iopub.status.busy": "2021-11-16T04:13:39.924714Z",
     "iopub.status.idle": "2021-11-16T04:13:39.929529Z",
     "shell.execute_reply": "2021-11-16T04:13:39.930163Z",
     "shell.execute_reply.started": "2021-11-14T13:08:57.722712Z"
    },
    "papermill": {
     "duration": 0.018454,
     "end_time": "2021-11-16T04:13:39.930353",
     "exception": false,
     "start_time": "2021-11-16T04:13:39.911899",
     "status": "completed"
    },
    "tags": []
   },
   "outputs": [
    {
     "data": {
      "text/plain": [
       "42473436"
      ]
     },
     "execution_count": 8,
     "metadata": {},
     "output_type": "execute_result"
    }
   ],
   "source": [
    "# 결과값 반올림 후 정수 출력\n",
    "int(round(abs(sale1 - sale2),0))"
   ]
  }
 ],
 "metadata": {
  "kernelspec": {
   "display_name": "Python 3",
   "language": "python",
   "name": "python3"
  },
  "language_info": {
   "codemirror_mode": {
    "name": "ipython",
    "version": 3
   },
   "file_extension": ".py",
   "mimetype": "text/x-python",
   "name": "python",
   "nbconvert_exporter": "python",
   "pygments_lexer": "ipython3",
   "version": "3.7.10"
  },
  "papermill": {
   "default_parameters": {},
   "duration": 11.205411,
   "end_time": "2021-11-16T04:13:40.551067",
   "environment_variables": {},
   "exception": null,
   "input_path": "__notebook__.ipynb",
   "output_path": "__notebook__.ipynb",
   "parameters": {},
   "start_time": "2021-11-16T04:13:29.345656",
   "version": "2.3.3"
  }
 },
 "nbformat": 4,
 "nbformat_minor": 5
}
