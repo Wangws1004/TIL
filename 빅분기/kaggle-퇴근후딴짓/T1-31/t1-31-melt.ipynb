{
 "cells": [
  {
   "cell_type": "markdown",
   "id": "77d029e6",
   "metadata": {
    "papermill": {
     "duration": 0.004089,
     "end_time": "2022-12-02T12:33:17.622741",
     "exception": false,
     "start_time": "2022-12-02T12:33:17.618652",
     "status": "completed"
    },
    "tags": []
   },
   "source": [
    "## Q. 수학, 영어, 국어 점수 중 사람과 과목에 상관없이 가장 상위 점수 5개를 모두 더하고 출력하시오.\n",
    "- updated 22.12.2"
   ]
  },
  {
   "cell_type": "code",
   "execution_count": 1,
   "id": "c87ac3cf",
   "metadata": {
    "execution": {
     "iopub.execute_input": "2022-12-02T12:33:17.630594Z",
     "iopub.status.busy": "2022-12-02T12:33:17.630090Z",
     "iopub.status.idle": "2022-12-02T12:33:17.666594Z",
     "shell.execute_reply": "2022-12-02T12:33:17.665427Z"
    },
    "papermill": {
     "duration": 0.044284,
     "end_time": "2022-12-02T12:33:17.669980",
     "exception": false,
     "start_time": "2022-12-02T12:33:17.625696",
     "status": "completed"
    },
    "tags": []
   },
   "outputs": [
    {
     "data": {
      "text/html": [
       "<div>\n",
       "<style scoped>\n",
       "    .dataframe tbody tr th:only-of-type {\n",
       "        vertical-align: middle;\n",
       "    }\n",
       "\n",
       "    .dataframe tbody tr th {\n",
       "        vertical-align: top;\n",
       "    }\n",
       "\n",
       "    .dataframe thead th {\n",
       "        text-align: right;\n",
       "    }\n",
       "</style>\n",
       "<table border=\"1\" class=\"dataframe\">\n",
       "  <thead>\n",
       "    <tr style=\"text-align: right;\">\n",
       "      <th></th>\n",
       "      <th>Name</th>\n",
       "      <th>수학</th>\n",
       "      <th>영어</th>\n",
       "      <th>국어</th>\n",
       "    </tr>\n",
       "  </thead>\n",
       "  <tbody>\n",
       "    <tr>\n",
       "      <th>0</th>\n",
       "      <td>김딴짓</td>\n",
       "      <td>90</td>\n",
       "      <td>92</td>\n",
       "      <td>91</td>\n",
       "    </tr>\n",
       "    <tr>\n",
       "      <th>1</th>\n",
       "      <td>박분기</td>\n",
       "      <td>93</td>\n",
       "      <td>84</td>\n",
       "      <td>94</td>\n",
       "    </tr>\n",
       "    <tr>\n",
       "      <th>2</th>\n",
       "      <td>이퇴근</td>\n",
       "      <td>85</td>\n",
       "      <td>86</td>\n",
       "      <td>83</td>\n",
       "    </tr>\n",
       "  </tbody>\n",
       "</table>\n",
       "</div>"
      ],
      "text/plain": [
       "  Name  수학  영어  국어\n",
       "0  김딴짓  90  92  91\n",
       "1  박분기  93  84  94\n",
       "2  이퇴근  85  86  83"
      ]
     },
     "execution_count": 1,
     "metadata": {},
     "output_type": "execute_result"
    }
   ],
   "source": [
    "import pandas as pd\n",
    "df = pd.DataFrame({'Name': {0: '김딴짓', 1: '박분기', 2: '이퇴근'},\n",
    "                   '수학': {0: 90, 1: 93, 2: 85},\n",
    "                   '영어': {0: 92, 1: 84, 2: 86},\n",
    "                   '국어': {0: 91, 1: 94, 2: 83},})\n",
    "\n",
    "df"
   ]
  },
  {
   "cell_type": "code",
   "execution_count": 2,
   "id": "db3cdc66",
   "metadata": {
    "execution": {
     "iopub.execute_input": "2022-12-02T12:33:17.678080Z",
     "iopub.status.busy": "2022-12-02T12:33:17.677697Z",
     "iopub.status.idle": "2022-12-02T12:33:17.682557Z",
     "shell.execute_reply": "2022-12-02T12:33:17.681290Z"
    },
    "papermill": {
     "duration": 0.011659,
     "end_time": "2022-12-02T12:33:17.684936",
     "exception": false,
     "start_time": "2022-12-02T12:33:17.673277",
     "status": "completed"
    },
    "tags": []
   },
   "outputs": [],
   "source": [
    "#your code"
   ]
  },
  {
   "cell_type": "code",
   "execution_count": null,
   "id": "2a0adcdb",
   "metadata": {
    "papermill": {
     "duration": 0.002618,
     "end_time": "2022-12-02T12:33:17.690470",
     "exception": false,
     "start_time": "2022-12-02T12:33:17.687852",
     "status": "completed"
    },
    "tags": []
   },
   "outputs": [],
   "source": []
  },
  {
   "cell_type": "code",
   "execution_count": null,
   "id": "6c27b94e",
   "metadata": {
    "papermill": {
     "duration": 0.002385,
     "end_time": "2022-12-02T12:33:17.695512",
     "exception": false,
     "start_time": "2022-12-02T12:33:17.693127",
     "status": "completed"
    },
    "tags": []
   },
   "outputs": [],
   "source": []
  },
  {
   "cell_type": "code",
   "execution_count": null,
   "id": "83eb9275",
   "metadata": {
    "papermill": {
     "duration": 0.002346,
     "end_time": "2022-12-02T12:33:17.700517",
     "exception": false,
     "start_time": "2022-12-02T12:33:17.698171",
     "status": "completed"
    },
    "tags": []
   },
   "outputs": [],
   "source": []
  },
  {
   "cell_type": "code",
   "execution_count": null,
   "id": "1bf322a6",
   "metadata": {
    "papermill": {
     "duration": 0.002587,
     "end_time": "2022-12-02T12:33:17.705722",
     "exception": false,
     "start_time": "2022-12-02T12:33:17.703135",
     "status": "completed"
    },
    "tags": []
   },
   "outputs": [],
   "source": []
  },
  {
   "cell_type": "code",
   "execution_count": 3,
   "id": "960d8446",
   "metadata": {
    "execution": {
     "iopub.execute_input": "2022-12-02T12:33:17.712881Z",
     "iopub.status.busy": "2022-12-02T12:33:17.712436Z",
     "iopub.status.idle": "2022-12-02T12:33:17.730372Z",
     "shell.execute_reply": "2022-12-02T12:33:17.729448Z"
    },
    "papermill": {
     "duration": 0.024497,
     "end_time": "2022-12-02T12:33:17.732833",
     "exception": false,
     "start_time": "2022-12-02T12:33:17.708336",
     "status": "completed"
    },
    "tags": []
   },
   "outputs": [
    {
     "name": "stdout",
     "output_type": "stream",
     "text": [
      "460\n"
     ]
    }
   ],
   "source": [
    "# 풀이\n",
    "df = pd.melt(df, id_vars=['Name'])\n",
    "df = df.sort_values(by='value', ascending=False)\n",
    "print(sum(df['value'].iloc[:5]))"
   ]
  }
 ],
 "metadata": {
  "kernelspec": {
   "display_name": "Python 3",
   "language": "python",
   "name": "python3"
  },
  "language_info": {
   "codemirror_mode": {
    "name": "ipython",
    "version": 3
   },
   "file_extension": ".py",
   "mimetype": "text/x-python",
   "name": "python",
   "nbconvert_exporter": "python",
   "pygments_lexer": "ipython3",
   "version": "3.7.12"
  },
  "papermill": {
   "default_parameters": {},
   "duration": 9.777669,
   "end_time": "2022-12-02T12:33:18.458142",
   "environment_variables": {},
   "exception": null,
   "input_path": "__notebook__.ipynb",
   "output_path": "__notebook__.ipynb",
   "parameters": {},
   "start_time": "2022-12-02T12:33:08.680473",
   "version": "2.3.4"
  }
 },
 "nbformat": 4,
 "nbformat_minor": 5
}
