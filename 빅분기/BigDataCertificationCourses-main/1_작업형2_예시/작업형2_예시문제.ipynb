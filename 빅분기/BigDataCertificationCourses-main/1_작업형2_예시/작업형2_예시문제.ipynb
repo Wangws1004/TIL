{
  "nbformat": 4,
  "nbformat_minor": 0,
  "metadata": {
    "colab": {
      "name": "작업형2_예시문제.ipynb",
      "provenance": [],
      "collapsed_sections": []
    },
    "kernelspec": {
      "name": "python3",
      "display_name": "Python 3"
    },
    "language_info": {
      "name": "python"
    }
  },
  "cells": [
    {
      "cell_type": "markdown",
      "metadata": {
        "id": "FWVy3ZhyK3Ya"
      },
      "source": [
        "[구글 코랩(Colab)에서 실행하기](https://colab.research.google.com/github/lovedlim/BigDataCertificationCourses/blob/main/1_%E1%84%8C%E1%85%A1%E1%86%A8%E1%84%8B%E1%85%A5%E1%86%B8%E1%84%92%E1%85%A7%E1%86%BC2_%E1%84%8B%E1%85%A8%E1%84%89%E1%85%B5/%EC%9E%91%EC%97%85%ED%98%952_%EC%98%88%EC%8B%9C%EB%AC%B8%EC%A0%9C.ipynb) "
      ]
    },
    {
      "cell_type": "markdown",
      "metadata": {
        "id": "dPA6g3evK8Fc"
      },
      "source": [
        "# 작업형2 예시문제\n",
        "백화점 고객의 1년 간 구매 데이터를 활용해 \n",
        "- 데이터 전처리\n",
        "- Feature Engineering\n",
        "- 모델링 (분류 알고리즘 사용)\n",
        "- 하이퍼파라미터 튜닝 (초매개변수 최적화)\n",
        "- 모형 앙상블\n",
        "- csv제출\n",
        "\n",
        "## 유의사항\n",
        "- 수험번호.csv 파일이 만들어지도록 코드를 제출함\n",
        "- 제출한 모델의 성능은 ROC-AUC 평가지표에 따라 채점함\n",
        "\n",
        "## 데이터 출처 및 연결\n",
        "- data 출처: https://www.dataq.or.kr/ - 공지사항 - 759번 제2회 빅데이터분석기사 실기 안내 - 첨부파일\n",
        "- 구글드라이브를 연결하거나 코랩 좌측 메뉴를 통해 데이터셋 업로드"
      ]
    },
    {
      "cell_type": "markdown",
      "metadata": {
        "id": "W8MEEfYcUeMP"
      },
      "source": [
        "**아래 코드는 print()가 생략되었습니다.**"
      ]
    },
    {
      "cell_type": "markdown",
      "metadata": {
        "id": "cSVJp6_PT512"
      },
      "source": [
        "## 라이브러리 및 데이터 불러오기"
      ]
    },
    {
      "cell_type": "code",
      "metadata": {
        "id": "LsZzu-K0LGwY"
      },
      "source": [
        "# 라이브러리\n",
        "import pandas as pd"
      ],
      "execution_count": null,
      "outputs": []
    },
    {
      "cell_type": "code",
      "metadata": {
        "id": "BLKFJAjQLChQ"
      },
      "source": [
        "# 데이터 불러오기\n",
        "path = \"/content/drive/MyDrive/Colab Notebooks/youtube/빅데이터분석기사/1_작업형2_예시/\"\n",
        "X = pd.read_csv(path + \"X_train.csv\", encoding=\"euc-kr\") # 구름 IDE환경에서는 encoding=\"euc-kr\"가 없어도 됨\n",
        "y = pd.read_csv(path + \"y_train.csv\")\n",
        "test = pd.read_csv(path + \"X_test.csv\", encoding=\"euc-kr\")"
      ],
      "execution_count": null,
      "outputs": []
    },
    {
      "cell_type": "markdown",
      "metadata": {
        "id": "V2yhzrveT9sl"
      },
      "source": [
        "## 간단한 EDA"
      ]
    },
    {
      "cell_type": "code",
      "metadata": {
        "id": "TS6O3ufARQWZ",
        "colab": {
          "base_uri": "https://localhost:8080/"
        },
        "outputId": "69ea76e1-49fb-44f6-a864-c9d19fff5e5b"
      },
      "source": [
        "# EDA\n",
        "X.shape, y.shape, test.shape"
      ],
      "execution_count": null,
      "outputs": [
        {
          "output_type": "execute_result",
          "data": {
            "text/plain": [
              "((3500, 10), (3500, 2), (2482, 10))"
            ]
          },
          "metadata": {},
          "execution_count": 3
        }
      ]
    },
    {
      "cell_type": "code",
      "metadata": {
        "colab": {
          "base_uri": "https://localhost:8080/"
        },
        "id": "rojy6qi0TmSe",
        "outputId": "9663ca93-27b7-4a38-d66a-70daa3cea50d"
      },
      "source": [
        "X.head()"
      ],
      "execution_count": null,
      "outputs": [
        {
          "output_type": "execute_result",
          "data": {
            "text/html": [
              "<div>\n",
              "<style scoped>\n",
              "    .dataframe tbody tr th:only-of-type {\n",
              "        vertical-align: middle;\n",
              "    }\n",
              "\n",
              "    .dataframe tbody tr th {\n",
              "        vertical-align: top;\n",
              "    }\n",
              "\n",
              "    .dataframe thead th {\n",
              "        text-align: right;\n",
              "    }\n",
              "</style>\n",
              "<table border=\"1\" class=\"dataframe\">\n",
              "  <thead>\n",
              "    <tr style=\"text-align: right;\">\n",
              "      <th></th>\n",
              "      <th>cust_id</th>\n",
              "      <th>총구매액</th>\n",
              "      <th>최대구매액</th>\n",
              "      <th>환불금액</th>\n",
              "      <th>주구매상품</th>\n",
              "      <th>주구매지점</th>\n",
              "      <th>내점일수</th>\n",
              "      <th>내점당구매건수</th>\n",
              "      <th>주말방문비율</th>\n",
              "      <th>구매주기</th>\n",
              "    </tr>\n",
              "  </thead>\n",
              "  <tbody>\n",
              "    <tr>\n",
              "      <th>0</th>\n",
              "      <td>0</td>\n",
              "      <td>68282840</td>\n",
              "      <td>11264000</td>\n",
              "      <td>6860000.0</td>\n",
              "      <td>기타</td>\n",
              "      <td>강남점</td>\n",
              "      <td>19</td>\n",
              "      <td>3.894737</td>\n",
              "      <td>0.527027</td>\n",
              "      <td>17</td>\n",
              "    </tr>\n",
              "    <tr>\n",
              "      <th>1</th>\n",
              "      <td>1</td>\n",
              "      <td>2136000</td>\n",
              "      <td>2136000</td>\n",
              "      <td>300000.0</td>\n",
              "      <td>스포츠</td>\n",
              "      <td>잠실점</td>\n",
              "      <td>2</td>\n",
              "      <td>1.500000</td>\n",
              "      <td>0.000000</td>\n",
              "      <td>1</td>\n",
              "    </tr>\n",
              "    <tr>\n",
              "      <th>2</th>\n",
              "      <td>2</td>\n",
              "      <td>3197000</td>\n",
              "      <td>1639000</td>\n",
              "      <td>NaN</td>\n",
              "      <td>남성 캐주얼</td>\n",
              "      <td>관악점</td>\n",
              "      <td>2</td>\n",
              "      <td>2.000000</td>\n",
              "      <td>0.000000</td>\n",
              "      <td>1</td>\n",
              "    </tr>\n",
              "    <tr>\n",
              "      <th>3</th>\n",
              "      <td>3</td>\n",
              "      <td>16077620</td>\n",
              "      <td>4935000</td>\n",
              "      <td>NaN</td>\n",
              "      <td>기타</td>\n",
              "      <td>광주점</td>\n",
              "      <td>18</td>\n",
              "      <td>2.444444</td>\n",
              "      <td>0.318182</td>\n",
              "      <td>16</td>\n",
              "    </tr>\n",
              "    <tr>\n",
              "      <th>4</th>\n",
              "      <td>4</td>\n",
              "      <td>29050000</td>\n",
              "      <td>24000000</td>\n",
              "      <td>NaN</td>\n",
              "      <td>보석</td>\n",
              "      <td>본  점</td>\n",
              "      <td>2</td>\n",
              "      <td>1.500000</td>\n",
              "      <td>0.000000</td>\n",
              "      <td>85</td>\n",
              "    </tr>\n",
              "  </tbody>\n",
              "</table>\n",
              "</div>"
            ],
            "text/plain": [
              "   cust_id      총구매액     최대구매액       환불금액  ... 내점일수   내점당구매건수    주말방문비율  구매주기\n",
              "0        0  68282840  11264000  6860000.0  ...   19  3.894737  0.527027    17\n",
              "1        1   2136000   2136000   300000.0  ...    2  1.500000  0.000000     1\n",
              "2        2   3197000   1639000        NaN  ...    2  2.000000  0.000000     1\n",
              "3        3  16077620   4935000        NaN  ...   18  2.444444  0.318182    16\n",
              "4        4  29050000  24000000        NaN  ...    2  1.500000  0.000000    85\n",
              "\n",
              "[5 rows x 10 columns]"
            ]
          },
          "metadata": {},
          "execution_count": 4
        }
      ]
    },
    {
      "cell_type": "code",
      "metadata": {
        "colab": {
          "base_uri": "https://localhost:8080/"
        },
        "id": "1hFywpZxT1li",
        "outputId": "0b6227e3-6866-4fa1-be69-ba6d7324d1fc"
      },
      "source": [
        "y.head()"
      ],
      "execution_count": null,
      "outputs": [
        {
          "output_type": "execute_result",
          "data": {
            "text/html": [
              "<div>\n",
              "<style scoped>\n",
              "    .dataframe tbody tr th:only-of-type {\n",
              "        vertical-align: middle;\n",
              "    }\n",
              "\n",
              "    .dataframe tbody tr th {\n",
              "        vertical-align: top;\n",
              "    }\n",
              "\n",
              "    .dataframe thead th {\n",
              "        text-align: right;\n",
              "    }\n",
              "</style>\n",
              "<table border=\"1\" class=\"dataframe\">\n",
              "  <thead>\n",
              "    <tr style=\"text-align: right;\">\n",
              "      <th></th>\n",
              "      <th>cust_id</th>\n",
              "      <th>gender</th>\n",
              "    </tr>\n",
              "  </thead>\n",
              "  <tbody>\n",
              "    <tr>\n",
              "      <th>0</th>\n",
              "      <td>0</td>\n",
              "      <td>0</td>\n",
              "    </tr>\n",
              "    <tr>\n",
              "      <th>1</th>\n",
              "      <td>1</td>\n",
              "      <td>0</td>\n",
              "    </tr>\n",
              "    <tr>\n",
              "      <th>2</th>\n",
              "      <td>2</td>\n",
              "      <td>1</td>\n",
              "    </tr>\n",
              "    <tr>\n",
              "      <th>3</th>\n",
              "      <td>3</td>\n",
              "      <td>1</td>\n",
              "    </tr>\n",
              "    <tr>\n",
              "      <th>4</th>\n",
              "      <td>4</td>\n",
              "      <td>0</td>\n",
              "    </tr>\n",
              "  </tbody>\n",
              "</table>\n",
              "</div>"
            ],
            "text/plain": [
              "   cust_id  gender\n",
              "0        0       0\n",
              "1        1       0\n",
              "2        2       1\n",
              "3        3       1\n",
              "4        4       0"
            ]
          },
          "metadata": {},
          "execution_count": 5
        }
      ]
    },
    {
      "cell_type": "code",
      "metadata": {
        "colab": {
          "base_uri": "https://localhost:8080/"
        },
        "id": "NfThdgq0Tsb3",
        "outputId": "cc4852b4-d015-45e7-8035-92e074c184e4"
      },
      "source": [
        "# 결측치 확인\n",
        "X.isnull().sum()"
      ],
      "execution_count": null,
      "outputs": [
        {
          "output_type": "execute_result",
          "data": {
            "text/plain": [
              "cust_id       0\n",
              "총구매액          0\n",
              "최대구매액         0\n",
              "환불금액       2295\n",
              "주구매상품         0\n",
              "주구매지점         0\n",
              "내점일수          0\n",
              "내점당구매건수       0\n",
              "주말방문비율        0\n",
              "구매주기          0\n",
              "dtype: int64"
            ]
          },
          "metadata": {},
          "execution_count": 6
        }
      ]
    },
    {
      "cell_type": "code",
      "metadata": {
        "colab": {
          "base_uri": "https://localhost:8080/"
        },
        "id": "jFtIm0JOUBxD",
        "outputId": "963fa84b-7e99-48f7-8e1f-f997dcd96639"
      },
      "source": [
        "# X_train 데이터 기초통계 \n",
        "X.describe()"
      ],
      "execution_count": null,
      "outputs": [
        {
          "output_type": "execute_result",
          "data": {
            "text/html": [
              "<div>\n",
              "<style scoped>\n",
              "    .dataframe tbody tr th:only-of-type {\n",
              "        vertical-align: middle;\n",
              "    }\n",
              "\n",
              "    .dataframe tbody tr th {\n",
              "        vertical-align: top;\n",
              "    }\n",
              "\n",
              "    .dataframe thead th {\n",
              "        text-align: right;\n",
              "    }\n",
              "</style>\n",
              "<table border=\"1\" class=\"dataframe\">\n",
              "  <thead>\n",
              "    <tr style=\"text-align: right;\">\n",
              "      <th></th>\n",
              "      <th>cust_id</th>\n",
              "      <th>총구매액</th>\n",
              "      <th>최대구매액</th>\n",
              "      <th>환불금액</th>\n",
              "      <th>내점일수</th>\n",
              "      <th>내점당구매건수</th>\n",
              "      <th>주말방문비율</th>\n",
              "      <th>구매주기</th>\n",
              "    </tr>\n",
              "  </thead>\n",
              "  <tbody>\n",
              "    <tr>\n",
              "      <th>count</th>\n",
              "      <td>3500.000000</td>\n",
              "      <td>3.500000e+03</td>\n",
              "      <td>3.500000e+03</td>\n",
              "      <td>1.205000e+03</td>\n",
              "      <td>3500.000000</td>\n",
              "      <td>3500.000000</td>\n",
              "      <td>3500.000000</td>\n",
              "      <td>3500.000000</td>\n",
              "    </tr>\n",
              "    <tr>\n",
              "      <th>mean</th>\n",
              "      <td>1749.500000</td>\n",
              "      <td>9.191925e+07</td>\n",
              "      <td>1.966424e+07</td>\n",
              "      <td>2.407822e+07</td>\n",
              "      <td>19.253714</td>\n",
              "      <td>2.834963</td>\n",
              "      <td>0.307246</td>\n",
              "      <td>20.958286</td>\n",
              "    </tr>\n",
              "    <tr>\n",
              "      <th>std</th>\n",
              "      <td>1010.507298</td>\n",
              "      <td>1.635065e+08</td>\n",
              "      <td>3.199235e+07</td>\n",
              "      <td>4.746453e+07</td>\n",
              "      <td>27.174942</td>\n",
              "      <td>1.912368</td>\n",
              "      <td>0.289752</td>\n",
              "      <td>24.748682</td>\n",
              "    </tr>\n",
              "    <tr>\n",
              "      <th>min</th>\n",
              "      <td>0.000000</td>\n",
              "      <td>-5.242152e+07</td>\n",
              "      <td>-2.992000e+06</td>\n",
              "      <td>5.600000e+03</td>\n",
              "      <td>1.000000</td>\n",
              "      <td>1.000000</td>\n",
              "      <td>0.000000</td>\n",
              "      <td>0.000000</td>\n",
              "    </tr>\n",
              "    <tr>\n",
              "      <th>25%</th>\n",
              "      <td>874.750000</td>\n",
              "      <td>4.747050e+06</td>\n",
              "      <td>2.875000e+06</td>\n",
              "      <td>2.259000e+06</td>\n",
              "      <td>2.000000</td>\n",
              "      <td>1.666667</td>\n",
              "      <td>0.027291</td>\n",
              "      <td>4.000000</td>\n",
              "    </tr>\n",
              "    <tr>\n",
              "      <th>50%</th>\n",
              "      <td>1749.500000</td>\n",
              "      <td>2.822270e+07</td>\n",
              "      <td>9.837000e+06</td>\n",
              "      <td>7.392000e+06</td>\n",
              "      <td>8.000000</td>\n",
              "      <td>2.333333</td>\n",
              "      <td>0.256410</td>\n",
              "      <td>13.000000</td>\n",
              "    </tr>\n",
              "    <tr>\n",
              "      <th>75%</th>\n",
              "      <td>2624.250000</td>\n",
              "      <td>1.065079e+08</td>\n",
              "      <td>2.296250e+07</td>\n",
              "      <td>2.412000e+07</td>\n",
              "      <td>25.000000</td>\n",
              "      <td>3.375000</td>\n",
              "      <td>0.448980</td>\n",
              "      <td>28.000000</td>\n",
              "    </tr>\n",
              "    <tr>\n",
              "      <th>max</th>\n",
              "      <td>3499.000000</td>\n",
              "      <td>2.323180e+09</td>\n",
              "      <td>7.066290e+08</td>\n",
              "      <td>5.637530e+08</td>\n",
              "      <td>285.000000</td>\n",
              "      <td>22.083333</td>\n",
              "      <td>1.000000</td>\n",
              "      <td>166.000000</td>\n",
              "    </tr>\n",
              "  </tbody>\n",
              "</table>\n",
              "</div>"
            ],
            "text/plain": [
              "           cust_id          총구매액  ...       주말방문비율         구매주기\n",
              "count  3500.000000  3.500000e+03  ...  3500.000000  3500.000000\n",
              "mean   1749.500000  9.191925e+07  ...     0.307246    20.958286\n",
              "std    1010.507298  1.635065e+08  ...     0.289752    24.748682\n",
              "min       0.000000 -5.242152e+07  ...     0.000000     0.000000\n",
              "25%     874.750000  4.747050e+06  ...     0.027291     4.000000\n",
              "50%    1749.500000  2.822270e+07  ...     0.256410    13.000000\n",
              "75%    2624.250000  1.065079e+08  ...     0.448980    28.000000\n",
              "max    3499.000000  2.323180e+09  ...     1.000000   166.000000\n",
              "\n",
              "[8 rows x 8 columns]"
            ]
          },
          "metadata": {},
          "execution_count": 7
        }
      ]
    },
    {
      "cell_type": "code",
      "metadata": {
        "colab": {
          "base_uri": "https://localhost:8080/"
        },
        "id": "sSK5YBKFV_pX",
        "outputId": "dab37e32-7c82-47ba-ad4e-30c5fa315b98"
      },
      "source": [
        "X.describe(include='object')"
      ],
      "execution_count": null,
      "outputs": [
        {
          "output_type": "execute_result",
          "data": {
            "text/html": [
              "<div>\n",
              "<style scoped>\n",
              "    .dataframe tbody tr th:only-of-type {\n",
              "        vertical-align: middle;\n",
              "    }\n",
              "\n",
              "    .dataframe tbody tr th {\n",
              "        vertical-align: top;\n",
              "    }\n",
              "\n",
              "    .dataframe thead th {\n",
              "        text-align: right;\n",
              "    }\n",
              "</style>\n",
              "<table border=\"1\" class=\"dataframe\">\n",
              "  <thead>\n",
              "    <tr style=\"text-align: right;\">\n",
              "      <th></th>\n",
              "      <th>주구매상품</th>\n",
              "      <th>주구매지점</th>\n",
              "    </tr>\n",
              "  </thead>\n",
              "  <tbody>\n",
              "    <tr>\n",
              "      <th>count</th>\n",
              "      <td>3500</td>\n",
              "      <td>3500</td>\n",
              "    </tr>\n",
              "    <tr>\n",
              "      <th>unique</th>\n",
              "      <td>42</td>\n",
              "      <td>24</td>\n",
              "    </tr>\n",
              "    <tr>\n",
              "      <th>top</th>\n",
              "      <td>기타</td>\n",
              "      <td>본  점</td>\n",
              "    </tr>\n",
              "    <tr>\n",
              "      <th>freq</th>\n",
              "      <td>595</td>\n",
              "      <td>1077</td>\n",
              "    </tr>\n",
              "  </tbody>\n",
              "</table>\n",
              "</div>"
            ],
            "text/plain": [
              "       주구매상품 주구매지점\n",
              "count   3500  3500\n",
              "unique    42    24\n",
              "top       기타  본  점\n",
              "freq     595  1077"
            ]
          },
          "metadata": {},
          "execution_count": 8
        }
      ]
    },
    {
      "cell_type": "code",
      "metadata": {
        "colab": {
          "base_uri": "https://localhost:8080/"
        },
        "id": "43mPWUllUERW",
        "outputId": "22f01002-6b18-4001-af96-18a6ab0e0ae5"
      },
      "source": [
        "# X_test 데이터 기초통계 \n",
        "test.describe()"
      ],
      "execution_count": null,
      "outputs": [
        {
          "output_type": "execute_result",
          "data": {
            "text/html": [
              "<div>\n",
              "<style scoped>\n",
              "    .dataframe tbody tr th:only-of-type {\n",
              "        vertical-align: middle;\n",
              "    }\n",
              "\n",
              "    .dataframe tbody tr th {\n",
              "        vertical-align: top;\n",
              "    }\n",
              "\n",
              "    .dataframe thead th {\n",
              "        text-align: right;\n",
              "    }\n",
              "</style>\n",
              "<table border=\"1\" class=\"dataframe\">\n",
              "  <thead>\n",
              "    <tr style=\"text-align: right;\">\n",
              "      <th></th>\n",
              "      <th>cust_id</th>\n",
              "      <th>총구매액</th>\n",
              "      <th>최대구매액</th>\n",
              "      <th>환불금액</th>\n",
              "      <th>내점일수</th>\n",
              "      <th>내점당구매건수</th>\n",
              "      <th>주말방문비율</th>\n",
              "      <th>구매주기</th>\n",
              "    </tr>\n",
              "  </thead>\n",
              "  <tbody>\n",
              "    <tr>\n",
              "      <th>count</th>\n",
              "      <td>2482.000000</td>\n",
              "      <td>2.482000e+03</td>\n",
              "      <td>2.482000e+03</td>\n",
              "      <td>8.710000e+02</td>\n",
              "      <td>2482.000000</td>\n",
              "      <td>2482.000000</td>\n",
              "      <td>2482.000000</td>\n",
              "      <td>2482.000000</td>\n",
              "    </tr>\n",
              "    <tr>\n",
              "      <th>mean</th>\n",
              "      <td>4740.500000</td>\n",
              "      <td>1.010275e+08</td>\n",
              "      <td>2.177048e+07</td>\n",
              "      <td>2.554716e+07</td>\n",
              "      <td>19.516922</td>\n",
              "      <td>2.819388</td>\n",
              "      <td>0.293812</td>\n",
              "      <td>20.286060</td>\n",
              "    </tr>\n",
              "    <tr>\n",
              "      <th>std</th>\n",
              "      <td>716.636007</td>\n",
              "      <td>1.732132e+08</td>\n",
              "      <td>3.504919e+07</td>\n",
              "      <td>5.944074e+07</td>\n",
              "      <td>25.973972</td>\n",
              "      <td>1.754550</td>\n",
              "      <td>0.282600</td>\n",
              "      <td>24.108756</td>\n",
              "    </tr>\n",
              "    <tr>\n",
              "      <th>min</th>\n",
              "      <td>3500.000000</td>\n",
              "      <td>-3.744000e+07</td>\n",
              "      <td>-3.744000e+07</td>\n",
              "      <td>1.000000e+04</td>\n",
              "      <td>1.000000</td>\n",
              "      <td>1.000000</td>\n",
              "      <td>0.000000</td>\n",
              "      <td>0.000000</td>\n",
              "    </tr>\n",
              "    <tr>\n",
              "      <th>25%</th>\n",
              "      <td>4120.250000</td>\n",
              "      <td>5.076868e+06</td>\n",
              "      <td>2.884350e+06</td>\n",
              "      <td>2.414000e+06</td>\n",
              "      <td>2.000000</td>\n",
              "      <td>1.750000</td>\n",
              "      <td>0.023456</td>\n",
              "      <td>4.000000</td>\n",
              "    </tr>\n",
              "    <tr>\n",
              "      <th>50%</th>\n",
              "      <td>4740.500000</td>\n",
              "      <td>3.051686e+07</td>\n",
              "      <td>1.075250e+07</td>\n",
              "      <td>8.100000e+06</td>\n",
              "      <td>9.000000</td>\n",
              "      <td>2.430952</td>\n",
              "      <td>0.250000</td>\n",
              "      <td>13.000000</td>\n",
              "    </tr>\n",
              "    <tr>\n",
              "      <th>75%</th>\n",
              "      <td>5360.750000</td>\n",
              "      <td>1.264255e+08</td>\n",
              "      <td>2.627700e+07</td>\n",
              "      <td>2.228090e+07</td>\n",
              "      <td>26.750000</td>\n",
              "      <td>3.375000</td>\n",
              "      <td>0.423566</td>\n",
              "      <td>27.000000</td>\n",
              "    </tr>\n",
              "    <tr>\n",
              "      <th>max</th>\n",
              "      <td>5981.000000</td>\n",
              "      <td>2.861238e+09</td>\n",
              "      <td>5.932250e+08</td>\n",
              "      <td>8.715144e+08</td>\n",
              "      <td>222.000000</td>\n",
              "      <td>15.875000</td>\n",
              "      <td>1.000000</td>\n",
              "      <td>177.000000</td>\n",
              "    </tr>\n",
              "  </tbody>\n",
              "</table>\n",
              "</div>"
            ],
            "text/plain": [
              "           cust_id          총구매액  ...       주말방문비율         구매주기\n",
              "count  2482.000000  2.482000e+03  ...  2482.000000  2482.000000\n",
              "mean   4740.500000  1.010275e+08  ...     0.293812    20.286060\n",
              "std     716.636007  1.732132e+08  ...     0.282600    24.108756\n",
              "min    3500.000000 -3.744000e+07  ...     0.000000     0.000000\n",
              "25%    4120.250000  5.076868e+06  ...     0.023456     4.000000\n",
              "50%    4740.500000  3.051686e+07  ...     0.250000    13.000000\n",
              "75%    5360.750000  1.264255e+08  ...     0.423566    27.000000\n",
              "max    5981.000000  2.861238e+09  ...     1.000000   177.000000\n",
              "\n",
              "[8 rows x 8 columns]"
            ]
          },
          "metadata": {},
          "execution_count": 9
        }
      ]
    },
    {
      "cell_type": "code",
      "metadata": {
        "colab": {
          "base_uri": "https://localhost:8080/"
        },
        "id": "1jZTEF52WIzZ",
        "outputId": "3a3705f3-4d7e-4c10-b2f5-8465f8e6ae72"
      },
      "source": [
        "X.describe(include='object')"
      ],
      "execution_count": null,
      "outputs": [
        {
          "output_type": "execute_result",
          "data": {
            "text/html": [
              "<div>\n",
              "<style scoped>\n",
              "    .dataframe tbody tr th:only-of-type {\n",
              "        vertical-align: middle;\n",
              "    }\n",
              "\n",
              "    .dataframe tbody tr th {\n",
              "        vertical-align: top;\n",
              "    }\n",
              "\n",
              "    .dataframe thead th {\n",
              "        text-align: right;\n",
              "    }\n",
              "</style>\n",
              "<table border=\"1\" class=\"dataframe\">\n",
              "  <thead>\n",
              "    <tr style=\"text-align: right;\">\n",
              "      <th></th>\n",
              "      <th>주구매상품</th>\n",
              "      <th>주구매지점</th>\n",
              "    </tr>\n",
              "  </thead>\n",
              "  <tbody>\n",
              "    <tr>\n",
              "      <th>count</th>\n",
              "      <td>3500</td>\n",
              "      <td>3500</td>\n",
              "    </tr>\n",
              "    <tr>\n",
              "      <th>unique</th>\n",
              "      <td>42</td>\n",
              "      <td>24</td>\n",
              "    </tr>\n",
              "    <tr>\n",
              "      <th>top</th>\n",
              "      <td>기타</td>\n",
              "      <td>본  점</td>\n",
              "    </tr>\n",
              "    <tr>\n",
              "      <th>freq</th>\n",
              "      <td>595</td>\n",
              "      <td>1077</td>\n",
              "    </tr>\n",
              "  </tbody>\n",
              "</table>\n",
              "</div>"
            ],
            "text/plain": [
              "       주구매상품 주구매지점\n",
              "count   3500  3500\n",
              "unique    42    24\n",
              "top       기타  본  점\n",
              "freq     595  1077"
            ]
          },
          "metadata": {},
          "execution_count": 10
        }
      ]
    },
    {
      "cell_type": "code",
      "metadata": {
        "colab": {
          "base_uri": "https://localhost:8080/"
        },
        "id": "FZ_wyW4RUH2y",
        "outputId": "c9112c95-a47d-4d93-dc22-c1343cd90777"
      },
      "source": [
        "# label값 확인 \n",
        "y['gender'].value_counts()"
      ],
      "execution_count": null,
      "outputs": [
        {
          "output_type": "execute_result",
          "data": {
            "text/plain": [
              "0    2184\n",
              "1    1316\n",
              "Name: gender, dtype: int64"
            ]
          },
          "metadata": {},
          "execution_count": 11
        }
      ]
    },
    {
      "cell_type": "markdown",
      "metadata": {
        "id": "musI5bZUVw59"
      },
      "source": [
        "## 데이터 전처리"
      ]
    },
    {
      "cell_type": "code",
      "metadata": {
        "id": "w9R0-cSlRQYs"
      },
      "source": [
        "# 결측치처리\n",
        "X = X.fillna(0) # 환불금액 0값으로 채움\n",
        "test = test.fillna(0)"
      ],
      "execution_count": null,
      "outputs": []
    },
    {
      "cell_type": "code",
      "metadata": {
        "id": "7DtGxU4GCg8B"
      },
      "source": [
        "X = X.drop(['cust_id'], axis=1)\n",
        "cust_id = test.pop('cust_id')"
      ],
      "execution_count": null,
      "outputs": []
    },
    {
      "cell_type": "markdown",
      "metadata": {
        "id": "CSZBIrTBCck_"
      },
      "source": [
        "## 피처엔지니어링"
      ]
    },
    {
      "cell_type": "code",
      "metadata": {
        "id": "JtuIjhppWfvm",
        "colab": {
          "base_uri": "https://localhost:8080/",
          "height": 204
        },
        "outputId": "e95f8da4-b259-4a6f-dabb-f0a61dd68b2a"
      },
      "source": [
        "# Label Encoding (범주형 변수 레이블인코딩)\n",
        "from sklearn.preprocessing import LabelEncoder\n",
        "cols = ['주구매상품', '주구매지점']\n",
        "for col in cols:\n",
        "    le = LabelEncoder()\n",
        "    X[col] = le.fit_transform(X[col])\n",
        "    test[col] = le.fit_transform(test[col])\n",
        "\n",
        "X.head()"
      ],
      "execution_count": null,
      "outputs": [
        {
          "output_type": "execute_result",
          "data": {
            "text/html": [
              "<div>\n",
              "<style scoped>\n",
              "    .dataframe tbody tr th:only-of-type {\n",
              "        vertical-align: middle;\n",
              "    }\n",
              "\n",
              "    .dataframe tbody tr th {\n",
              "        vertical-align: top;\n",
              "    }\n",
              "\n",
              "    .dataframe thead th {\n",
              "        text-align: right;\n",
              "    }\n",
              "</style>\n",
              "<table border=\"1\" class=\"dataframe\">\n",
              "  <thead>\n",
              "    <tr style=\"text-align: right;\">\n",
              "      <th></th>\n",
              "      <th>총구매액</th>\n",
              "      <th>최대구매액</th>\n",
              "      <th>환불금액</th>\n",
              "      <th>주구매상품</th>\n",
              "      <th>주구매지점</th>\n",
              "      <th>내점일수</th>\n",
              "      <th>내점당구매건수</th>\n",
              "      <th>주말방문비율</th>\n",
              "      <th>구매주기</th>\n",
              "    </tr>\n",
              "  </thead>\n",
              "  <tbody>\n",
              "    <tr>\n",
              "      <th>0</th>\n",
              "      <td>68282840</td>\n",
              "      <td>11264000</td>\n",
              "      <td>6860000.0</td>\n",
              "      <td>5</td>\n",
              "      <td>0</td>\n",
              "      <td>19</td>\n",
              "      <td>3.894737</td>\n",
              "      <td>0.527027</td>\n",
              "      <td>17</td>\n",
              "    </tr>\n",
              "    <tr>\n",
              "      <th>1</th>\n",
              "      <td>2136000</td>\n",
              "      <td>2136000</td>\n",
              "      <td>300000.0</td>\n",
              "      <td>21</td>\n",
              "      <td>19</td>\n",
              "      <td>2</td>\n",
              "      <td>1.500000</td>\n",
              "      <td>0.000000</td>\n",
              "      <td>1</td>\n",
              "    </tr>\n",
              "    <tr>\n",
              "      <th>2</th>\n",
              "      <td>3197000</td>\n",
              "      <td>1639000</td>\n",
              "      <td>0.0</td>\n",
              "      <td>6</td>\n",
              "      <td>1</td>\n",
              "      <td>2</td>\n",
              "      <td>2.000000</td>\n",
              "      <td>0.000000</td>\n",
              "      <td>1</td>\n",
              "    </tr>\n",
              "    <tr>\n",
              "      <th>3</th>\n",
              "      <td>16077620</td>\n",
              "      <td>4935000</td>\n",
              "      <td>0.0</td>\n",
              "      <td>5</td>\n",
              "      <td>2</td>\n",
              "      <td>18</td>\n",
              "      <td>2.444444</td>\n",
              "      <td>0.318182</td>\n",
              "      <td>16</td>\n",
              "    </tr>\n",
              "    <tr>\n",
              "      <th>4</th>\n",
              "      <td>29050000</td>\n",
              "      <td>24000000</td>\n",
              "      <td>0.0</td>\n",
              "      <td>15</td>\n",
              "      <td>8</td>\n",
              "      <td>2</td>\n",
              "      <td>1.500000</td>\n",
              "      <td>0.000000</td>\n",
              "      <td>85</td>\n",
              "    </tr>\n",
              "  </tbody>\n",
              "</table>\n",
              "</div>"
            ],
            "text/plain": [
              "       총구매액     최대구매액       환불금액  주구매상품  주구매지점  내점일수   내점당구매건수    주말방문비율  구매주기\n",
              "0  68282840  11264000  6860000.0      5      0    19  3.894737  0.527027    17\n",
              "1   2136000   2136000   300000.0     21     19     2  1.500000  0.000000     1\n",
              "2   3197000   1639000        0.0      6      1     2  2.000000  0.000000     1\n",
              "3  16077620   4935000        0.0      5      2    18  2.444444  0.318182    16\n",
              "4  29050000  24000000        0.0     15      8     2  1.500000  0.000000    85"
            ]
          },
          "metadata": {},
          "execution_count": 14
        }
      ]
    },
    {
      "cell_type": "markdown",
      "metadata": {
        "id": "GmYYSS2EDP9V"
      },
      "source": [
        "## 모델링 & 하이퍼파라미터 튜닝"
      ]
    },
    {
      "cell_type": "code",
      "metadata": {
        "id": "2mdQOwC-RQdv",
        "colab": {
          "base_uri": "https://localhost:8080/"
        },
        "outputId": "07321131-7ae3-4b07-b05a-f15cdaf971c9"
      },
      "source": [
        "# 모델링 & 하이퍼파라미터 튜닝 & 앙상블\n",
        "from sklearn.ensemble import RandomForestClassifier\n",
        "\n",
        "model = RandomForestClassifier(n_estimators=100, max_depth=5, random_state=2022)\n",
        "model.fit(X, y['gender'])\n",
        "print(model.score(X, y['gender']))\n",
        "predictions = model.predict_proba(test)"
      ],
      "execution_count": null,
      "outputs": [
        {
          "output_type": "stream",
          "name": "stdout",
          "text": [
            "0.6874285714285714\n"
          ]
        }
      ]
    },
    {
      "cell_type": "code",
      "metadata": {
        "colab": {
          "base_uri": "https://localhost:8080/"
        },
        "id": "Vr8wL9Xj4kJo",
        "outputId": "927a7a91-ee34-4689-9367-069361e5a97f"
      },
      "source": [
        "predictions[:,1]"
      ],
      "execution_count": null,
      "outputs": [
        {
          "output_type": "execute_result",
          "data": {
            "text/plain": [
              "array([0.43567157, 0.19725558, 0.17732635, ..., 0.43703219, 0.36002886,\n",
              "       0.54383742])"
            ]
          },
          "metadata": {},
          "execution_count": 16
        }
      ]
    },
    {
      "cell_type": "code",
      "metadata": {
        "id": "9PdASbpnReYD"
      },
      "source": [
        "# csv생성\n",
        "output = pd.DataFrame({'cust_id': cust_id, 'gender': predictions[:,1]})"
      ],
      "execution_count": null,
      "outputs": []
    },
    {
      "cell_type": "code",
      "metadata": {
        "colab": {
          "base_uri": "https://localhost:8080/",
          "height": 204
        },
        "id": "IIE6jhreeCXm",
        "outputId": "a9f14699-4efc-4ffd-e864-acf4b318dd81"
      },
      "source": [
        "output.head()"
      ],
      "execution_count": null,
      "outputs": [
        {
          "output_type": "execute_result",
          "data": {
            "text/html": [
              "<div>\n",
              "<style scoped>\n",
              "    .dataframe tbody tr th:only-of-type {\n",
              "        vertical-align: middle;\n",
              "    }\n",
              "\n",
              "    .dataframe tbody tr th {\n",
              "        vertical-align: top;\n",
              "    }\n",
              "\n",
              "    .dataframe thead th {\n",
              "        text-align: right;\n",
              "    }\n",
              "</style>\n",
              "<table border=\"1\" class=\"dataframe\">\n",
              "  <thead>\n",
              "    <tr style=\"text-align: right;\">\n",
              "      <th></th>\n",
              "      <th>cust_id</th>\n",
              "      <th>gender</th>\n",
              "    </tr>\n",
              "  </thead>\n",
              "  <tbody>\n",
              "    <tr>\n",
              "      <th>0</th>\n",
              "      <td>3500</td>\n",
              "      <td>0.435672</td>\n",
              "    </tr>\n",
              "    <tr>\n",
              "      <th>1</th>\n",
              "      <td>3501</td>\n",
              "      <td>0.197256</td>\n",
              "    </tr>\n",
              "    <tr>\n",
              "      <th>2</th>\n",
              "      <td>3502</td>\n",
              "      <td>0.177326</td>\n",
              "    </tr>\n",
              "    <tr>\n",
              "      <th>3</th>\n",
              "      <td>3503</td>\n",
              "      <td>0.420662</td>\n",
              "    </tr>\n",
              "    <tr>\n",
              "      <th>4</th>\n",
              "      <td>3504</td>\n",
              "      <td>0.485512</td>\n",
              "    </tr>\n",
              "  </tbody>\n",
              "</table>\n",
              "</div>"
            ],
            "text/plain": [
              "   cust_id    gender\n",
              "0     3500  0.435672\n",
              "1     3501  0.197256\n",
              "2     3502  0.177326\n",
              "3     3503  0.420662\n",
              "4     3504  0.485512"
            ]
          },
          "metadata": {},
          "execution_count": 18
        }
      ]
    },
    {
      "cell_type": "code",
      "metadata": {
        "id": "HyWZFowheKgv"
      },
      "source": [
        "output.to_csv(\"123456789.csv\", index=False)"
      ],
      "execution_count": null,
      "outputs": []
    }
  ]
}